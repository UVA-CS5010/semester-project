{
 "metadata": {
  "language_info": {
   "codemirror_mode": {
    "name": "ipython",
    "version": 3
   },
   "file_extension": ".py",
   "mimetype": "text/x-python",
   "name": "python",
   "nbconvert_exporter": "python",
   "pygments_lexer": "ipython3",
   "version": "3.8.5-final"
  },
  "orig_nbformat": 2,
  "kernelspec": {
   "name": "python385jvsc74a57bd0a2777c296240adcad02f4626a08e2a0d9cb9bdce0a04311f76e3f1ed69778bcd",
   "display_name": "Python 3.8.5 64-bit (conda)"
  }
 },
 "nbformat": 4,
 "nbformat_minor": 2,
 "cells": [
  {
   "cell_type": "code",
   "execution_count": 18,
   "metadata": {},
   "outputs": [],
   "source": [
    "import requests\n",
    "from bs4 import BeautifulSoup\n",
    "import pandas as pd\n",
    "import numpy as np\n",
    "import matplotlib.pyplot as plt\n",
    "import plotly.express as px\n",
    "from plotly.offline import plot"
   ]
  },
  {
   "source": [
    "### WNBA Salary Data Webscraping\n",
    "**100 highest paid players for 2020** <br>\n",
    "*(data from spotrac.com)*"
   ],
   "cell_type": "markdown",
   "metadata": {}
  },
  {
   "cell_type": "code",
   "execution_count": 19,
   "metadata": {},
   "outputs": [
    {
     "output_type": "execute_result",
     "data": {
      "text/plain": [
       "                  Player League   Team Position Age  Avg_Salary\n",
       "0         DeWanna Bonner   WNBA    CON        F  33  $224,870  \n",
       "1   Skylar Diggins-Smith   WNBA    PHX        G  30  $224,870  \n",
       "2      Elena Delle Donne   WNBA    WAS        F  31  $224,870  \n",
       "3          Diana Taurasi   WNBA    PHX        G  38  $224,772  \n",
       "4         Natasha Howard   WNBA     NY        F  29  $224,675  \n",
       "..                   ...    ...    ...      ...  ..         ...\n",
       "95         Jazmine Jones   WNBA     NY        G  24   $65,459  \n",
       "96    Jocelyn Willoughby   WNBA     NY        F  23   $65,459  \n",
       "97          Megan Walker   WNBA    PHX        F  22   $65,459  \n",
       "98          Kitija Laksa   WNBA    SEA        G  24   $65,459  \n",
       "99    DiJonai Carrington   WNBA    CON        G  23   $64,457  \n",
       "\n",
       "[100 rows x 6 columns]"
      ],
      "text/html": "<div>\n<style scoped>\n    .dataframe tbody tr th:only-of-type {\n        vertical-align: middle;\n    }\n\n    .dataframe tbody tr th {\n        vertical-align: top;\n    }\n\n    .dataframe thead th {\n        text-align: right;\n    }\n</style>\n<table border=\"1\" class=\"dataframe\">\n  <thead>\n    <tr style=\"text-align: right;\">\n      <th></th>\n      <th>Player</th>\n      <th>League</th>\n      <th>Team</th>\n      <th>Position</th>\n      <th>Age</th>\n      <th>Avg_Salary</th>\n    </tr>\n  </thead>\n  <tbody>\n    <tr>\n      <th>0</th>\n      <td>DeWanna Bonner</td>\n      <td>WNBA</td>\n      <td>CON</td>\n      <td>F</td>\n      <td>33</td>\n      <td>$224,870</td>\n    </tr>\n    <tr>\n      <th>1</th>\n      <td>Skylar Diggins-Smith</td>\n      <td>WNBA</td>\n      <td>PHX</td>\n      <td>G</td>\n      <td>30</td>\n      <td>$224,870</td>\n    </tr>\n    <tr>\n      <th>2</th>\n      <td>Elena Delle Donne</td>\n      <td>WNBA</td>\n      <td>WAS</td>\n      <td>F</td>\n      <td>31</td>\n      <td>$224,870</td>\n    </tr>\n    <tr>\n      <th>3</th>\n      <td>Diana Taurasi</td>\n      <td>WNBA</td>\n      <td>PHX</td>\n      <td>G</td>\n      <td>38</td>\n      <td>$224,772</td>\n    </tr>\n    <tr>\n      <th>4</th>\n      <td>Natasha Howard</td>\n      <td>WNBA</td>\n      <td>NY</td>\n      <td>F</td>\n      <td>29</td>\n      <td>$224,675</td>\n    </tr>\n    <tr>\n      <th>...</th>\n      <td>...</td>\n      <td>...</td>\n      <td>...</td>\n      <td>...</td>\n      <td>...</td>\n      <td>...</td>\n    </tr>\n    <tr>\n      <th>95</th>\n      <td>Jazmine Jones</td>\n      <td>WNBA</td>\n      <td>NY</td>\n      <td>G</td>\n      <td>24</td>\n      <td>$65,459</td>\n    </tr>\n    <tr>\n      <th>96</th>\n      <td>Jocelyn Willoughby</td>\n      <td>WNBA</td>\n      <td>NY</td>\n      <td>F</td>\n      <td>23</td>\n      <td>$65,459</td>\n    </tr>\n    <tr>\n      <th>97</th>\n      <td>Megan Walker</td>\n      <td>WNBA</td>\n      <td>PHX</td>\n      <td>F</td>\n      <td>22</td>\n      <td>$65,459</td>\n    </tr>\n    <tr>\n      <th>98</th>\n      <td>Kitija Laksa</td>\n      <td>WNBA</td>\n      <td>SEA</td>\n      <td>G</td>\n      <td>24</td>\n      <td>$65,459</td>\n    </tr>\n    <tr>\n      <th>99</th>\n      <td>DiJonai Carrington</td>\n      <td>WNBA</td>\n      <td>CON</td>\n      <td>G</td>\n      <td>23</td>\n      <td>$64,457</td>\n    </tr>\n  </tbody>\n</table>\n<p>100 rows × 6 columns</p>\n</div>"
     },
     "metadata": {},
     "execution_count": 19
    }
   ],
   "source": [
    "URL = 'https://www.spotrac.com/wnba/rankings/average/'\n",
    "page = requests.get(URL).text\n",
    "soup = BeautifulSoup(page, 'lxml')\n",
    "\n",
    "names= []\n",
    "for name in soup.find_all('a', class_= 'team-name'):\n",
    "  names.append(name.get_text())\n",
    "\n",
    "teams=[]\n",
    "for team in soup.find_all('div', class_= 'rank-position'):\n",
    "  teams.append(team.get_text())\n",
    "\n",
    "avg_salaries=[]\n",
    "for salaries in soup.find_all('span', class_= 'info'):\n",
    "  avg_salaries.append(salaries.get_text())\n",
    "\n",
    "pos= []\n",
    "pos2= []\n",
    "for p in soup.find_all('td', class_= 'center small'):\n",
    "  pos.append(p.get_text())\n",
    "  \n",
    "for i in pos:\n",
    "    j = i.replace(' ','').replace('\\n', '')\n",
    "    pos2.append(j)\n",
    "\n",
    "age= []\n",
    "for v in pos2:\n",
    "    if len(v) % 2 == 0:\n",
    "        age.append(v)\n",
    "positions= []\n",
    "for v in pos2:\n",
    "    if len(v) % 2 != 0:\n",
    "        positions.append(v)\n",
    "\n",
    "wnba= 'WNBA'\n",
    "\n",
    "wnba_salaries = pd.DataFrame(\n",
    "    {'Player': names,\n",
    "     'League' : wnba,\n",
    "     'Team': teams,\n",
    "     'Position': positions,\n",
    "     'Age': age,\n",
    "     'Avg_Salary': avg_salaries\n",
    "    })\n",
    "wnba_salaries"
   ]
  },
  {
   "source": [
    "### NBA Salary Data Webscraping\n",
    "**100 highest paid players for 2020** <br>\n",
    "*(data from spotrac.com)*"
   ],
   "cell_type": "markdown",
   "metadata": {}
  },
  {
   "cell_type": "code",
   "execution_count": 20,
   "metadata": {},
   "outputs": [
    {
     "output_type": "execute_result",
     "data": {
      "text/plain": [
       "               Player League   Team Position   Age     Avg_Salary\n",
       "0           John Wall    NBA    HOU       PG   30   $42,782,880  \n",
       "1        James Harden    NBA    BKN       SG   31   $42,782,880  \n",
       "2   Russell Westbrook    NBA    WAS       PG   31   $41,358,814  \n",
       "3        Kevin Durant    NBA    BKN       SF   32   $41,063,925  \n",
       "4       Stephen Curry    NBA    GSW       PG   32   $40,231,758  \n",
       "..                ...    ...    ...      ...   ...            ...\n",
       "95       Trevor Ariza    NBA    MIA       SF   35   $12,500,000  \n",
       "96       Kelly Olynyk    NBA    HOU       PF   29   $12,500,000  \n",
       "97        Cory Joseph    NBA    DET       PG   29   $12,400,000  \n",
       "98      Patrick Mills    NBA    SAS       PG   32   $12,000,000  \n",
       "99       Jusuf Nurkic    NBA    POR        C   26   $12,000,000  \n",
       "\n",
       "[100 rows x 6 columns]"
      ],
      "text/html": "<div>\n<style scoped>\n    .dataframe tbody tr th:only-of-type {\n        vertical-align: middle;\n    }\n\n    .dataframe tbody tr th {\n        vertical-align: top;\n    }\n\n    .dataframe thead th {\n        text-align: right;\n    }\n</style>\n<table border=\"1\" class=\"dataframe\">\n  <thead>\n    <tr style=\"text-align: right;\">\n      <th></th>\n      <th>Player</th>\n      <th>League</th>\n      <th>Team</th>\n      <th>Position</th>\n      <th>Age</th>\n      <th>Avg_Salary</th>\n    </tr>\n  </thead>\n  <tbody>\n    <tr>\n      <th>0</th>\n      <td>John Wall</td>\n      <td>NBA</td>\n      <td>HOU</td>\n      <td>PG</td>\n      <td>30</td>\n      <td>$42,782,880</td>\n    </tr>\n    <tr>\n      <th>1</th>\n      <td>James Harden</td>\n      <td>NBA</td>\n      <td>BKN</td>\n      <td>SG</td>\n      <td>31</td>\n      <td>$42,782,880</td>\n    </tr>\n    <tr>\n      <th>2</th>\n      <td>Russell Westbrook</td>\n      <td>NBA</td>\n      <td>WAS</td>\n      <td>PG</td>\n      <td>31</td>\n      <td>$41,358,814</td>\n    </tr>\n    <tr>\n      <th>3</th>\n      <td>Kevin Durant</td>\n      <td>NBA</td>\n      <td>BKN</td>\n      <td>SF</td>\n      <td>32</td>\n      <td>$41,063,925</td>\n    </tr>\n    <tr>\n      <th>4</th>\n      <td>Stephen Curry</td>\n      <td>NBA</td>\n      <td>GSW</td>\n      <td>PG</td>\n      <td>32</td>\n      <td>$40,231,758</td>\n    </tr>\n    <tr>\n      <th>...</th>\n      <td>...</td>\n      <td>...</td>\n      <td>...</td>\n      <td>...</td>\n      <td>...</td>\n      <td>...</td>\n    </tr>\n    <tr>\n      <th>95</th>\n      <td>Trevor Ariza</td>\n      <td>NBA</td>\n      <td>MIA</td>\n      <td>SF</td>\n      <td>35</td>\n      <td>$12,500,000</td>\n    </tr>\n    <tr>\n      <th>96</th>\n      <td>Kelly Olynyk</td>\n      <td>NBA</td>\n      <td>HOU</td>\n      <td>PF</td>\n      <td>29</td>\n      <td>$12,500,000</td>\n    </tr>\n    <tr>\n      <th>97</th>\n      <td>Cory Joseph</td>\n      <td>NBA</td>\n      <td>DET</td>\n      <td>PG</td>\n      <td>29</td>\n      <td>$12,400,000</td>\n    </tr>\n    <tr>\n      <th>98</th>\n      <td>Patrick Mills</td>\n      <td>NBA</td>\n      <td>SAS</td>\n      <td>PG</td>\n      <td>32</td>\n      <td>$12,000,000</td>\n    </tr>\n    <tr>\n      <th>99</th>\n      <td>Jusuf Nurkic</td>\n      <td>NBA</td>\n      <td>POR</td>\n      <td>C</td>\n      <td>26</td>\n      <td>$12,000,000</td>\n    </tr>\n  </tbody>\n</table>\n<p>100 rows × 6 columns</p>\n</div>"
     },
     "metadata": {},
     "execution_count": 20
    }
   ],
   "source": [
    "URL = 'https://www.spotrac.com/nba/rankings/average/'\n",
    "page = requests.get(URL).text\n",
    "soup = BeautifulSoup(page, 'lxml')\n",
    "\n",
    "men_names= []\n",
    "for name in soup.find_all('a', class_= 'team-name'):\n",
    "  men_names.append(name.get_text())\n",
    "\n",
    "men_teams=[]\n",
    "for team in soup.find_all('div', class_= 'rank-position'):\n",
    "  men_teams.append(team.get_text())\n",
    "\n",
    "men_avg_salaries=[]\n",
    "for salaries in soup.find_all('span', class_= 'info'):\n",
    "  men_avg_salaries.append(salaries.get_text())\n",
    "\n",
    "men_age= []\n",
    "for a in soup.find_all('td', class_= 'center xs-hide'):\n",
    "  men_age.append(a.get_text())\n",
    "\n",
    "men_pos= []\n",
    "men_pos2= []\n",
    "for p in soup.find_all('td', class_= 'center', ):\n",
    "  men_pos.append(p.get_text())\n",
    "\n",
    "for i in men_pos:\n",
    "    j = i.replace(' ','').replace('\\n', '')\n",
    "    men_pos2.append(j)\n",
    "\n",
    "digits= []\n",
    "men_positions= []\n",
    "for ps in men_pos2:\n",
    "  if ps.isdigit():\n",
    "    digits.append(ps)\n",
    "  elif ps== '':\n",
    "    digits.append(ps)\n",
    "  else:\n",
    "    men_positions.append(ps)\n",
    "\n",
    "nba= 'NBA'\n",
    "\n",
    "nba_salaries = pd.DataFrame(\n",
    "    {'Player': men_names,\n",
    "     'League' : nba,\n",
    "     'Team': men_teams,\n",
    "     'Position': men_positions,\n",
    "     'Age': men_age,\n",
    "     'Avg_Salary': men_avg_salaries\n",
    "    })\n",
    "nba_salaries"
   ]
  },
  {
   "source": [
    "### NBA Stats Data Webscraping\n",
    "**Per-game avgs for 2020-21 season** <br>\n",
    "*(data from basketballreference.com)*"
   ],
   "cell_type": "markdown",
   "metadata": {}
  },
  {
   "cell_type": "code",
   "execution_count": 21,
   "metadata": {},
   "outputs": [
    {
     "output_type": "execute_result",
     "data": {
      "text/plain": [
       "                Player   G  GS    MP   FG   FGA   FG%   3P  3PA   3P%  ...  \\\n",
       "0     Precious Achiuwa  55   3  12.4  2.0   3.8  .541  0.0  0.0        ...   \n",
       "1         Jaylen Adams   7   0   2.6  0.1   1.1  .125  0.0  0.3  .000  ...   \n",
       "2         Steven Adams  54  54  28.1  3.4   5.4  .620  0.0  0.1  .000  ...   \n",
       "3          Bam Adebayo  52  52  33.4  7.2  12.7  .568  0.0  0.2  .250  ...   \n",
       "4    LaMarcus Aldridge  26  23  25.9  5.4  11.4  .473  1.2  3.1  .388  ...   \n",
       "..                 ...  ..  ..   ...  ...   ...   ...  ...  ...   ...  ...   \n",
       "698       Delon Wright  50  31  26.8  3.5   7.6  .460  0.9  2.4  .372  ...   \n",
       "701     Thaddeus Young  54  17  24.1  5.5   9.6  .574  0.2  0.6  .265  ...   \n",
       "702         Trae Young  54  54  34.2  7.6  17.8  .429  2.3  6.4  .357  ...   \n",
       "703        Cody Zeller  37  20  21.2  3.6   6.7  .540  0.1  0.7  .120  ...   \n",
       "704        Ivica Zubac  61  22  22.4  3.6   5.6  .646  0.0  0.0  .000  ...   \n",
       "\n",
       "      FT%  ORB  DRB  TRB  AST  STL  BLK  TOV   PF   PTS  \n",
       "0    .515  1.3  2.3  3.6  0.5  0.3  0.5  0.7  1.6   5.0  \n",
       "1          0.0  0.4  0.4  0.3  0.0  0.0  0.0  0.1   0.3  \n",
       "2    .442  3.8  5.2  9.0  2.0  0.9  0.7  1.4  2.0   7.8  \n",
       "3    .805  2.3  7.0  9.3  5.2  1.0  1.1  2.7  2.3  19.1  \n",
       "4    .872  0.7  3.8  4.5  1.9  0.4  1.1  1.0  1.8  13.5  \n",
       "..    ...  ...  ...  ...  ...  ...  ...  ...  ...   ...  \n",
       "698  .814  0.9  3.1  4.0  4.2  1.5  0.4  1.1  1.1   9.7  \n",
       "701  .631  2.4  3.8  6.2  4.2  1.1  0.6  2.0  2.4  12.2  \n",
       "702  .874  0.6  3.3  3.9  9.6  0.9  0.2  4.2  1.9  25.3  \n",
       "703  .735  2.6  4.4  7.0  1.9  0.6  0.4  1.0  2.4   9.0  \n",
       "704  .793  2.7  4.6  7.3  1.2  0.4  0.9  1.1  2.6   9.1  \n",
       "\n",
       "[526 rows x 25 columns]"
      ],
      "text/html": "<div>\n<style scoped>\n    .dataframe tbody tr th:only-of-type {\n        vertical-align: middle;\n    }\n\n    .dataframe tbody tr th {\n        vertical-align: top;\n    }\n\n    .dataframe thead th {\n        text-align: right;\n    }\n</style>\n<table border=\"1\" class=\"dataframe\">\n  <thead>\n    <tr style=\"text-align: right;\">\n      <th></th>\n      <th>Player</th>\n      <th>G</th>\n      <th>GS</th>\n      <th>MP</th>\n      <th>FG</th>\n      <th>FGA</th>\n      <th>FG%</th>\n      <th>3P</th>\n      <th>3PA</th>\n      <th>3P%</th>\n      <th>...</th>\n      <th>FT%</th>\n      <th>ORB</th>\n      <th>DRB</th>\n      <th>TRB</th>\n      <th>AST</th>\n      <th>STL</th>\n      <th>BLK</th>\n      <th>TOV</th>\n      <th>PF</th>\n      <th>PTS</th>\n    </tr>\n  </thead>\n  <tbody>\n    <tr>\n      <th>0</th>\n      <td>Precious Achiuwa</td>\n      <td>55</td>\n      <td>3</td>\n      <td>12.4</td>\n      <td>2.0</td>\n      <td>3.8</td>\n      <td>.541</td>\n      <td>0.0</td>\n      <td>0.0</td>\n      <td></td>\n      <td>...</td>\n      <td>.515</td>\n      <td>1.3</td>\n      <td>2.3</td>\n      <td>3.6</td>\n      <td>0.5</td>\n      <td>0.3</td>\n      <td>0.5</td>\n      <td>0.7</td>\n      <td>1.6</td>\n      <td>5.0</td>\n    </tr>\n    <tr>\n      <th>1</th>\n      <td>Jaylen Adams</td>\n      <td>7</td>\n      <td>0</td>\n      <td>2.6</td>\n      <td>0.1</td>\n      <td>1.1</td>\n      <td>.125</td>\n      <td>0.0</td>\n      <td>0.3</td>\n      <td>.000</td>\n      <td>...</td>\n      <td></td>\n      <td>0.0</td>\n      <td>0.4</td>\n      <td>0.4</td>\n      <td>0.3</td>\n      <td>0.0</td>\n      <td>0.0</td>\n      <td>0.0</td>\n      <td>0.1</td>\n      <td>0.3</td>\n    </tr>\n    <tr>\n      <th>2</th>\n      <td>Steven Adams</td>\n      <td>54</td>\n      <td>54</td>\n      <td>28.1</td>\n      <td>3.4</td>\n      <td>5.4</td>\n      <td>.620</td>\n      <td>0.0</td>\n      <td>0.1</td>\n      <td>.000</td>\n      <td>...</td>\n      <td>.442</td>\n      <td>3.8</td>\n      <td>5.2</td>\n      <td>9.0</td>\n      <td>2.0</td>\n      <td>0.9</td>\n      <td>0.7</td>\n      <td>1.4</td>\n      <td>2.0</td>\n      <td>7.8</td>\n    </tr>\n    <tr>\n      <th>3</th>\n      <td>Bam Adebayo</td>\n      <td>52</td>\n      <td>52</td>\n      <td>33.4</td>\n      <td>7.2</td>\n      <td>12.7</td>\n      <td>.568</td>\n      <td>0.0</td>\n      <td>0.2</td>\n      <td>.250</td>\n      <td>...</td>\n      <td>.805</td>\n      <td>2.3</td>\n      <td>7.0</td>\n      <td>9.3</td>\n      <td>5.2</td>\n      <td>1.0</td>\n      <td>1.1</td>\n      <td>2.7</td>\n      <td>2.3</td>\n      <td>19.1</td>\n    </tr>\n    <tr>\n      <th>4</th>\n      <td>LaMarcus Aldridge</td>\n      <td>26</td>\n      <td>23</td>\n      <td>25.9</td>\n      <td>5.4</td>\n      <td>11.4</td>\n      <td>.473</td>\n      <td>1.2</td>\n      <td>3.1</td>\n      <td>.388</td>\n      <td>...</td>\n      <td>.872</td>\n      <td>0.7</td>\n      <td>3.8</td>\n      <td>4.5</td>\n      <td>1.9</td>\n      <td>0.4</td>\n      <td>1.1</td>\n      <td>1.0</td>\n      <td>1.8</td>\n      <td>13.5</td>\n    </tr>\n    <tr>\n      <th>...</th>\n      <td>...</td>\n      <td>...</td>\n      <td>...</td>\n      <td>...</td>\n      <td>...</td>\n      <td>...</td>\n      <td>...</td>\n      <td>...</td>\n      <td>...</td>\n      <td>...</td>\n      <td>...</td>\n      <td>...</td>\n      <td>...</td>\n      <td>...</td>\n      <td>...</td>\n      <td>...</td>\n      <td>...</td>\n      <td>...</td>\n      <td>...</td>\n      <td>...</td>\n      <td>...</td>\n    </tr>\n    <tr>\n      <th>698</th>\n      <td>Delon Wright</td>\n      <td>50</td>\n      <td>31</td>\n      <td>26.8</td>\n      <td>3.5</td>\n      <td>7.6</td>\n      <td>.460</td>\n      <td>0.9</td>\n      <td>2.4</td>\n      <td>.372</td>\n      <td>...</td>\n      <td>.814</td>\n      <td>0.9</td>\n      <td>3.1</td>\n      <td>4.0</td>\n      <td>4.2</td>\n      <td>1.5</td>\n      <td>0.4</td>\n      <td>1.1</td>\n      <td>1.1</td>\n      <td>9.7</td>\n    </tr>\n    <tr>\n      <th>701</th>\n      <td>Thaddeus Young</td>\n      <td>54</td>\n      <td>17</td>\n      <td>24.1</td>\n      <td>5.5</td>\n      <td>9.6</td>\n      <td>.574</td>\n      <td>0.2</td>\n      <td>0.6</td>\n      <td>.265</td>\n      <td>...</td>\n      <td>.631</td>\n      <td>2.4</td>\n      <td>3.8</td>\n      <td>6.2</td>\n      <td>4.2</td>\n      <td>1.1</td>\n      <td>0.6</td>\n      <td>2.0</td>\n      <td>2.4</td>\n      <td>12.2</td>\n    </tr>\n    <tr>\n      <th>702</th>\n      <td>Trae Young</td>\n      <td>54</td>\n      <td>54</td>\n      <td>34.2</td>\n      <td>7.6</td>\n      <td>17.8</td>\n      <td>.429</td>\n      <td>2.3</td>\n      <td>6.4</td>\n      <td>.357</td>\n      <td>...</td>\n      <td>.874</td>\n      <td>0.6</td>\n      <td>3.3</td>\n      <td>3.9</td>\n      <td>9.6</td>\n      <td>0.9</td>\n      <td>0.2</td>\n      <td>4.2</td>\n      <td>1.9</td>\n      <td>25.3</td>\n    </tr>\n    <tr>\n      <th>703</th>\n      <td>Cody Zeller</td>\n      <td>37</td>\n      <td>20</td>\n      <td>21.2</td>\n      <td>3.6</td>\n      <td>6.7</td>\n      <td>.540</td>\n      <td>0.1</td>\n      <td>0.7</td>\n      <td>.120</td>\n      <td>...</td>\n      <td>.735</td>\n      <td>2.6</td>\n      <td>4.4</td>\n      <td>7.0</td>\n      <td>1.9</td>\n      <td>0.6</td>\n      <td>0.4</td>\n      <td>1.0</td>\n      <td>2.4</td>\n      <td>9.0</td>\n    </tr>\n    <tr>\n      <th>704</th>\n      <td>Ivica Zubac</td>\n      <td>61</td>\n      <td>22</td>\n      <td>22.4</td>\n      <td>3.6</td>\n      <td>5.6</td>\n      <td>.646</td>\n      <td>0.0</td>\n      <td>0.0</td>\n      <td>.000</td>\n      <td>...</td>\n      <td>.793</td>\n      <td>2.7</td>\n      <td>4.6</td>\n      <td>7.3</td>\n      <td>1.2</td>\n      <td>0.4</td>\n      <td>0.9</td>\n      <td>1.1</td>\n      <td>2.6</td>\n      <td>9.1</td>\n    </tr>\n  </tbody>\n</table>\n<p>526 rows × 25 columns</p>\n</div>"
     },
     "metadata": {},
     "execution_count": 21
    }
   ],
   "source": [
    "url = 'https://www.basketball-reference.com/leagues/NBA_2021_per_game.html'\n",
    "html_doc = requests.get(url)\n",
    "\n",
    "#parse the html from site:\n",
    "parsed_html = BeautifulSoup(html_doc.content, 'html.parser')\n",
    "\n",
    "#extract specific table we are interested in (per-game stats for each player):\n",
    "table = parsed_html.find(id='per_game_stats')\n",
    "\n",
    "##Header:\n",
    "#Locate the table header, extract header values, and store in list:\n",
    "table_header = table.find('thead') #html 'thead' element contains all header-related data\n",
    "header_elements = table_header.find_all('th') #store all 'th' (header) elements from 'thead' element \n",
    "\n",
    "headers = [] #initialize empty list to later store headers\n",
    "for header in header_elements:\n",
    "    item = header.get_text().strip() #extract each header value (text)\n",
    "    headers.append(item) #append each header value to list\n",
    "headers\n",
    "\n",
    "\n",
    "##Body:\n",
    "#Locate table body, extract data values, and store in list:\n",
    "table_body = table.find('tbody') #html 'tbody' element contains all body-related data\n",
    "body_rows = table_body.find_all('tr') #store all 'tr' (row) elements from 'tbody' element \n",
    "\n",
    "rows = [] #initialize empty list to later store data rows\n",
    "for row in body_rows:\n",
    "    row_header = row.find('th').get_text() #extract the row's header (season)\n",
    "    items = row.find_all('td') #extract data values from row\n",
    "    row = [row_header] #initialize list  w/ row header\n",
    "    for item in items: #iterate through the values of the row and store each in row list\n",
    "        row.append(item.get_text())\n",
    "    rows.append(row)\n",
    "    \n",
    "\n",
    "nba_stats = pd.DataFrame(rows, columns = headers) \n",
    "\n",
    "#Some players (who switched teams mid-year) are duplicated - have a total record and \n",
    "#individual records for each team they played for that year.\n",
    "#Need to delete these duplicated records and include only the \"total\" entries\n",
    "nba_stats = nba_stats.drop_duplicates(['Player'])\n",
    "nba_stats = nba_stats.drop(columns= ['Rk', 'Pos', 'Age', 'Tm', 'eFG%'])\n",
    "\n",
    "\n",
    "nba_stats"
   ]
  },
  {
   "source": [
    "### WNBA Stats data upload (CSV)\n",
    "**Per-game avgs for 2020 season** <br>\n",
    "*(data from basketballreference.com)*"
   ],
   "cell_type": "markdown",
   "metadata": {}
  },
  {
   "cell_type": "code",
   "execution_count": 22,
   "metadata": {},
   "outputs": [
    {
     "output_type": "execute_result",
     "data": {
      "text/plain": [
       "                Player   G   MP  GS   FG  FGA    FG%   3P  3PA    3P%  ...  \\\n",
       "0      Natalie Achonwa  18  364  11  3.2  6.4  0.496  0.0  0.6  0.000  ...   \n",
       "1         Jaylyn Agnew  12   71   0  0.3  1.3  0.267  0.3  1.1  0.231  ...   \n",
       "2         Bella Alarie  22  309   3  1.1  3.0  0.364  0.0  0.6  0.077  ...   \n",
       "3      Kayla Alexander  16   89   0  1.0  1.9  0.533  0.0  0.0    NaN  ...   \n",
       "4       Julie Allemand  22  716  22  2.8  6.1  0.455  2.0  4.2  0.478  ...   \n",
       "..                 ...  ..  ...  ..  ...  ...    ...  ...  ...    ...  ...   \n",
       "140     Alisia Jenkins   5   28   0  0.4  1.6  0.250  0.0  0.6  0.000  ...   \n",
       "141     Stella Johnson   9  100   2  1.8  3.8  0.471  1.0  1.6  0.643  ...   \n",
       "142  Stephanie Mavunga  10   95   0  1.3  2.9  0.448  0.0  0.5  0.000  ...   \n",
       "143       Erica McCall  20  183   0  0.8  2.3  0.356  0.1  0.2  0.250  ...   \n",
       "144         Shey Peddy  17  257   0  1.1  3.7  0.302  0.2  2.0  0.118  ...   \n",
       "\n",
       "       FT%  ORB  TRB  AST  STL  BLK  TOV   PF  PTS  DRB  \n",
       "0    0.813  1.4  5.5  1.7  0.5  0.6  1.8  2.6  7.8  4.1  \n",
       "1    0.800  0.0  0.4  0.3  0.0  0.0  0.4  0.6  1.3  0.4  \n",
       "2    0.833  1.0  2.9  0.5  0.6  0.8  0.5  1.6  2.7  1.9  \n",
       "3    0.625  0.6  0.9  0.2  0.1  0.2  0.4  0.9  2.3  0.3  \n",
       "4    0.733  0.4  4.5  5.8  1.1  0.4  2.6  2.6  8.5  4.1  \n",
       "..     ...  ...  ...  ...  ...  ...  ...  ...  ...  ...  \n",
       "140  0.667  0.0  0.8  0.0  0.0  0.0  0.6  0.6  1.6  0.8  \n",
       "141  1.000  0.4  1.3  1.3  0.7  0.2  0.4  1.2  5.1  0.9  \n",
       "142  0.818  1.0  3.3  0.5  0.1  0.2  1.1  1.1  3.5  2.3  \n",
       "143  0.818  1.2  2.5  0.2  0.4  0.4  0.5  1.2  2.6  1.3  \n",
       "144  1.000  0.5  2.1  1.8  1.1  0.1  0.9  1.3  3.8  1.6  \n",
       "\n",
       "[145 rows x 25 columns]"
      ],
      "text/html": "<div>\n<style scoped>\n    .dataframe tbody tr th:only-of-type {\n        vertical-align: middle;\n    }\n\n    .dataframe tbody tr th {\n        vertical-align: top;\n    }\n\n    .dataframe thead th {\n        text-align: right;\n    }\n</style>\n<table border=\"1\" class=\"dataframe\">\n  <thead>\n    <tr style=\"text-align: right;\">\n      <th></th>\n      <th>Player</th>\n      <th>G</th>\n      <th>MP</th>\n      <th>GS</th>\n      <th>FG</th>\n      <th>FGA</th>\n      <th>FG%</th>\n      <th>3P</th>\n      <th>3PA</th>\n      <th>3P%</th>\n      <th>...</th>\n      <th>FT%</th>\n      <th>ORB</th>\n      <th>TRB</th>\n      <th>AST</th>\n      <th>STL</th>\n      <th>BLK</th>\n      <th>TOV</th>\n      <th>PF</th>\n      <th>PTS</th>\n      <th>DRB</th>\n    </tr>\n  </thead>\n  <tbody>\n    <tr>\n      <th>0</th>\n      <td>Natalie Achonwa</td>\n      <td>18</td>\n      <td>364</td>\n      <td>11</td>\n      <td>3.2</td>\n      <td>6.4</td>\n      <td>0.496</td>\n      <td>0.0</td>\n      <td>0.6</td>\n      <td>0.000</td>\n      <td>...</td>\n      <td>0.813</td>\n      <td>1.4</td>\n      <td>5.5</td>\n      <td>1.7</td>\n      <td>0.5</td>\n      <td>0.6</td>\n      <td>1.8</td>\n      <td>2.6</td>\n      <td>7.8</td>\n      <td>4.1</td>\n    </tr>\n    <tr>\n      <th>1</th>\n      <td>Jaylyn Agnew</td>\n      <td>12</td>\n      <td>71</td>\n      <td>0</td>\n      <td>0.3</td>\n      <td>1.3</td>\n      <td>0.267</td>\n      <td>0.3</td>\n      <td>1.1</td>\n      <td>0.231</td>\n      <td>...</td>\n      <td>0.800</td>\n      <td>0.0</td>\n      <td>0.4</td>\n      <td>0.3</td>\n      <td>0.0</td>\n      <td>0.0</td>\n      <td>0.4</td>\n      <td>0.6</td>\n      <td>1.3</td>\n      <td>0.4</td>\n    </tr>\n    <tr>\n      <th>2</th>\n      <td>Bella Alarie</td>\n      <td>22</td>\n      <td>309</td>\n      <td>3</td>\n      <td>1.1</td>\n      <td>3.0</td>\n      <td>0.364</td>\n      <td>0.0</td>\n      <td>0.6</td>\n      <td>0.077</td>\n      <td>...</td>\n      <td>0.833</td>\n      <td>1.0</td>\n      <td>2.9</td>\n      <td>0.5</td>\n      <td>0.6</td>\n      <td>0.8</td>\n      <td>0.5</td>\n      <td>1.6</td>\n      <td>2.7</td>\n      <td>1.9</td>\n    </tr>\n    <tr>\n      <th>3</th>\n      <td>Kayla Alexander</td>\n      <td>16</td>\n      <td>89</td>\n      <td>0</td>\n      <td>1.0</td>\n      <td>1.9</td>\n      <td>0.533</td>\n      <td>0.0</td>\n      <td>0.0</td>\n      <td>NaN</td>\n      <td>...</td>\n      <td>0.625</td>\n      <td>0.6</td>\n      <td>0.9</td>\n      <td>0.2</td>\n      <td>0.1</td>\n      <td>0.2</td>\n      <td>0.4</td>\n      <td>0.9</td>\n      <td>2.3</td>\n      <td>0.3</td>\n    </tr>\n    <tr>\n      <th>4</th>\n      <td>Julie Allemand</td>\n      <td>22</td>\n      <td>716</td>\n      <td>22</td>\n      <td>2.8</td>\n      <td>6.1</td>\n      <td>0.455</td>\n      <td>2.0</td>\n      <td>4.2</td>\n      <td>0.478</td>\n      <td>...</td>\n      <td>0.733</td>\n      <td>0.4</td>\n      <td>4.5</td>\n      <td>5.8</td>\n      <td>1.1</td>\n      <td>0.4</td>\n      <td>2.6</td>\n      <td>2.6</td>\n      <td>8.5</td>\n      <td>4.1</td>\n    </tr>\n    <tr>\n      <th>...</th>\n      <td>...</td>\n      <td>...</td>\n      <td>...</td>\n      <td>...</td>\n      <td>...</td>\n      <td>...</td>\n      <td>...</td>\n      <td>...</td>\n      <td>...</td>\n      <td>...</td>\n      <td>...</td>\n      <td>...</td>\n      <td>...</td>\n      <td>...</td>\n      <td>...</td>\n      <td>...</td>\n      <td>...</td>\n      <td>...</td>\n      <td>...</td>\n      <td>...</td>\n      <td>...</td>\n    </tr>\n    <tr>\n      <th>140</th>\n      <td>Alisia Jenkins</td>\n      <td>5</td>\n      <td>28</td>\n      <td>0</td>\n      <td>0.4</td>\n      <td>1.6</td>\n      <td>0.250</td>\n      <td>0.0</td>\n      <td>0.6</td>\n      <td>0.000</td>\n      <td>...</td>\n      <td>0.667</td>\n      <td>0.0</td>\n      <td>0.8</td>\n      <td>0.0</td>\n      <td>0.0</td>\n      <td>0.0</td>\n      <td>0.6</td>\n      <td>0.6</td>\n      <td>1.6</td>\n      <td>0.8</td>\n    </tr>\n    <tr>\n      <th>141</th>\n      <td>Stella Johnson</td>\n      <td>9</td>\n      <td>100</td>\n      <td>2</td>\n      <td>1.8</td>\n      <td>3.8</td>\n      <td>0.471</td>\n      <td>1.0</td>\n      <td>1.6</td>\n      <td>0.643</td>\n      <td>...</td>\n      <td>1.000</td>\n      <td>0.4</td>\n      <td>1.3</td>\n      <td>1.3</td>\n      <td>0.7</td>\n      <td>0.2</td>\n      <td>0.4</td>\n      <td>1.2</td>\n      <td>5.1</td>\n      <td>0.9</td>\n    </tr>\n    <tr>\n      <th>142</th>\n      <td>Stephanie Mavunga</td>\n      <td>10</td>\n      <td>95</td>\n      <td>0</td>\n      <td>1.3</td>\n      <td>2.9</td>\n      <td>0.448</td>\n      <td>0.0</td>\n      <td>0.5</td>\n      <td>0.000</td>\n      <td>...</td>\n      <td>0.818</td>\n      <td>1.0</td>\n      <td>3.3</td>\n      <td>0.5</td>\n      <td>0.1</td>\n      <td>0.2</td>\n      <td>1.1</td>\n      <td>1.1</td>\n      <td>3.5</td>\n      <td>2.3</td>\n    </tr>\n    <tr>\n      <th>143</th>\n      <td>Erica McCall</td>\n      <td>20</td>\n      <td>183</td>\n      <td>0</td>\n      <td>0.8</td>\n      <td>2.3</td>\n      <td>0.356</td>\n      <td>0.1</td>\n      <td>0.2</td>\n      <td>0.250</td>\n      <td>...</td>\n      <td>0.818</td>\n      <td>1.2</td>\n      <td>2.5</td>\n      <td>0.2</td>\n      <td>0.4</td>\n      <td>0.4</td>\n      <td>0.5</td>\n      <td>1.2</td>\n      <td>2.6</td>\n      <td>1.3</td>\n    </tr>\n    <tr>\n      <th>144</th>\n      <td>Shey Peddy</td>\n      <td>17</td>\n      <td>257</td>\n      <td>0</td>\n      <td>1.1</td>\n      <td>3.7</td>\n      <td>0.302</td>\n      <td>0.2</td>\n      <td>2.0</td>\n      <td>0.118</td>\n      <td>...</td>\n      <td>1.000</td>\n      <td>0.5</td>\n      <td>2.1</td>\n      <td>1.8</td>\n      <td>1.1</td>\n      <td>0.1</td>\n      <td>0.9</td>\n      <td>1.3</td>\n      <td>3.8</td>\n      <td>1.6</td>\n    </tr>\n  </tbody>\n</table>\n<p>145 rows × 25 columns</p>\n</div>"
     },
     "metadata": {},
     "execution_count": 22
    }
   ],
   "source": [
    "wnba_stats = pd.read_csv('/Users/allie/Documents/cs5010/wnba_stats.csv') #Does not have DREB columns (must create)\n",
    "\n",
    "#Delete the duplicated records and include only the \"total\" entries for players that were on multiple teams that year\n",
    "wnba_stats = wnba_stats.drop_duplicates(['Player'])\n",
    "wnba_stats = wnba_stats.drop(columns= ['Team', 'Pos', 'G.1', 'MP.1'])\n",
    "wnba_stats['DRB'] = wnba_stats['TRB'] - wnba_stats['ORB']\n",
    "wnba_stats"
   ]
  },
  {
   "source": [
    "## Combine Stats and Salary Data for NBA \n",
    "**Key = \"Player**"
   ],
   "cell_type": "markdown",
   "metadata": {}
  },
  {
   "cell_type": "code",
   "execution_count": 51,
   "metadata": {},
   "outputs": [
    {
     "output_type": "execute_result",
     "data": {
      "text/plain": [
       "                   Player   G  GS    MP    FG   FGA   FG%   3P  3PA   3P%  \\\n",
       "0            Steven Adams  54  54  28.1   3.4   5.4  .620  0.0  0.1  .000   \n",
       "1   Giannis Antetokounmpo  48  48  33.7  10.4  18.4  .564  1.1  3.6  .297   \n",
       "2            Trevor Ariza  18  15  26.6   2.8   7.2  .385  1.5  4.1  .365   \n",
       "3       Marvin Bagley III  37  37  25.7   5.6  11.2  .502  0.9  2.6  .354   \n",
       "4         Harrison Barnes  56  56  36.4   5.4  11.0  .494  1.6  4.3  .379   \n",
       "..                    ...  ..  ..   ...   ...   ...   ...  ...  ...   ...   \n",
       "81         Andrew Wiggins  59  59  32.9   6.8  14.5  .472  2.0  5.2  .379   \n",
       "82        Justise Winslow  18   0  20.6   3.0   8.6  .348  0.3  2.3  .122   \n",
       "83         Christian Wood  36  36  31.9   8.1  15.3  .529  1.8  4.8  .380   \n",
       "84         Thaddeus Young  54  17  24.1   5.5   9.6  .574  0.2  0.6  .265   \n",
       "85            Cody Zeller  37  20  21.2   3.6   6.7  .540  0.1  0.7  .120   \n",
       "\n",
       "    ...  TOV   PF   PTS League   Team Position   Age     Avg_Salary  \\\n",
       "0   ...  1.4  2.0   7.8    NBA    NOP        C   27   $25,000,000     \n",
       "1   ...  3.7  2.8  28.5    NBA    MIL        F   25   $25,000,000     \n",
       "2   ...  0.7  1.6   8.2    NBA    MIA        F   35   $12,500,000     \n",
       "3   ...  1.3  2.4  13.9    NBA    SAC        F   21   $12,724,946     \n",
       "4   ...  1.6  1.3  15.9    NBA    SAC        F   28   $21,250,000     \n",
       "..  ...  ...  ...   ...    ...    ...      ...   ...            ...   \n",
       "81  ...  1.8  2.2  18.1    NBA    GSW        F   25   $29,542,010     \n",
       "82  ...  1.7  1.9   6.8    NBA    MEM        F   24   $13,000,000     \n",
       "83  ...  1.8  2.1  20.9    NBA    HOU        F   25   $13,666,667     \n",
       "84  ...  2.0  2.4  12.2    NBA    CHI        F   32   $14,545,000     \n",
       "85  ...  1.0  2.4   9.0    NBA    CHA        C   27   $14,000,000     \n",
       "\n",
       "   salary_float salary_ratio  \n",
       "0    25000000.0      0.00338  \n",
       "1    25000000.0      0.00338  \n",
       "2    12500000.0      0.00169  \n",
       "3    12724946.0      0.00172  \n",
       "4    21250000.0      0.00287  \n",
       "..          ...          ...  \n",
       "81   29542010.0      0.00399  \n",
       "82   13000000.0      0.00176  \n",
       "83   13666667.0      0.00185  \n",
       "84   14545000.0      0.00197  \n",
       "85   14000000.0      0.00189  \n",
       "\n",
       "[86 rows x 32 columns]"
      ],
      "text/html": "<div>\n<style scoped>\n    .dataframe tbody tr th:only-of-type {\n        vertical-align: middle;\n    }\n\n    .dataframe tbody tr th {\n        vertical-align: top;\n    }\n\n    .dataframe thead th {\n        text-align: right;\n    }\n</style>\n<table border=\"1\" class=\"dataframe\">\n  <thead>\n    <tr style=\"text-align: right;\">\n      <th></th>\n      <th>Player</th>\n      <th>G</th>\n      <th>GS</th>\n      <th>MP</th>\n      <th>FG</th>\n      <th>FGA</th>\n      <th>FG%</th>\n      <th>3P</th>\n      <th>3PA</th>\n      <th>3P%</th>\n      <th>...</th>\n      <th>TOV</th>\n      <th>PF</th>\n      <th>PTS</th>\n      <th>League</th>\n      <th>Team</th>\n      <th>Position</th>\n      <th>Age</th>\n      <th>Avg_Salary</th>\n      <th>salary_float</th>\n      <th>salary_ratio</th>\n    </tr>\n  </thead>\n  <tbody>\n    <tr>\n      <th>0</th>\n      <td>Steven Adams</td>\n      <td>54</td>\n      <td>54</td>\n      <td>28.1</td>\n      <td>3.4</td>\n      <td>5.4</td>\n      <td>.620</td>\n      <td>0.0</td>\n      <td>0.1</td>\n      <td>.000</td>\n      <td>...</td>\n      <td>1.4</td>\n      <td>2.0</td>\n      <td>7.8</td>\n      <td>NBA</td>\n      <td>NOP</td>\n      <td>C</td>\n      <td>27</td>\n      <td>$25,000,000</td>\n      <td>25000000.0</td>\n      <td>0.00338</td>\n    </tr>\n    <tr>\n      <th>1</th>\n      <td>Giannis Antetokounmpo</td>\n      <td>48</td>\n      <td>48</td>\n      <td>33.7</td>\n      <td>10.4</td>\n      <td>18.4</td>\n      <td>.564</td>\n      <td>1.1</td>\n      <td>3.6</td>\n      <td>.297</td>\n      <td>...</td>\n      <td>3.7</td>\n      <td>2.8</td>\n      <td>28.5</td>\n      <td>NBA</td>\n      <td>MIL</td>\n      <td>F</td>\n      <td>25</td>\n      <td>$25,000,000</td>\n      <td>25000000.0</td>\n      <td>0.00338</td>\n    </tr>\n    <tr>\n      <th>2</th>\n      <td>Trevor Ariza</td>\n      <td>18</td>\n      <td>15</td>\n      <td>26.6</td>\n      <td>2.8</td>\n      <td>7.2</td>\n      <td>.385</td>\n      <td>1.5</td>\n      <td>4.1</td>\n      <td>.365</td>\n      <td>...</td>\n      <td>0.7</td>\n      <td>1.6</td>\n      <td>8.2</td>\n      <td>NBA</td>\n      <td>MIA</td>\n      <td>F</td>\n      <td>35</td>\n      <td>$12,500,000</td>\n      <td>12500000.0</td>\n      <td>0.00169</td>\n    </tr>\n    <tr>\n      <th>3</th>\n      <td>Marvin Bagley III</td>\n      <td>37</td>\n      <td>37</td>\n      <td>25.7</td>\n      <td>5.6</td>\n      <td>11.2</td>\n      <td>.502</td>\n      <td>0.9</td>\n      <td>2.6</td>\n      <td>.354</td>\n      <td>...</td>\n      <td>1.3</td>\n      <td>2.4</td>\n      <td>13.9</td>\n      <td>NBA</td>\n      <td>SAC</td>\n      <td>F</td>\n      <td>21</td>\n      <td>$12,724,946</td>\n      <td>12724946.0</td>\n      <td>0.00172</td>\n    </tr>\n    <tr>\n      <th>4</th>\n      <td>Harrison Barnes</td>\n      <td>56</td>\n      <td>56</td>\n      <td>36.4</td>\n      <td>5.4</td>\n      <td>11.0</td>\n      <td>.494</td>\n      <td>1.6</td>\n      <td>4.3</td>\n      <td>.379</td>\n      <td>...</td>\n      <td>1.6</td>\n      <td>1.3</td>\n      <td>15.9</td>\n      <td>NBA</td>\n      <td>SAC</td>\n      <td>F</td>\n      <td>28</td>\n      <td>$21,250,000</td>\n      <td>21250000.0</td>\n      <td>0.00287</td>\n    </tr>\n    <tr>\n      <th>...</th>\n      <td>...</td>\n      <td>...</td>\n      <td>...</td>\n      <td>...</td>\n      <td>...</td>\n      <td>...</td>\n      <td>...</td>\n      <td>...</td>\n      <td>...</td>\n      <td>...</td>\n      <td>...</td>\n      <td>...</td>\n      <td>...</td>\n      <td>...</td>\n      <td>...</td>\n      <td>...</td>\n      <td>...</td>\n      <td>...</td>\n      <td>...</td>\n      <td>...</td>\n      <td>...</td>\n    </tr>\n    <tr>\n      <th>81</th>\n      <td>Andrew Wiggins</td>\n      <td>59</td>\n      <td>59</td>\n      <td>32.9</td>\n      <td>6.8</td>\n      <td>14.5</td>\n      <td>.472</td>\n      <td>2.0</td>\n      <td>5.2</td>\n      <td>.379</td>\n      <td>...</td>\n      <td>1.8</td>\n      <td>2.2</td>\n      <td>18.1</td>\n      <td>NBA</td>\n      <td>GSW</td>\n      <td>F</td>\n      <td>25</td>\n      <td>$29,542,010</td>\n      <td>29542010.0</td>\n      <td>0.00399</td>\n    </tr>\n    <tr>\n      <th>82</th>\n      <td>Justise Winslow</td>\n      <td>18</td>\n      <td>0</td>\n      <td>20.6</td>\n      <td>3.0</td>\n      <td>8.6</td>\n      <td>.348</td>\n      <td>0.3</td>\n      <td>2.3</td>\n      <td>.122</td>\n      <td>...</td>\n      <td>1.7</td>\n      <td>1.9</td>\n      <td>6.8</td>\n      <td>NBA</td>\n      <td>MEM</td>\n      <td>F</td>\n      <td>24</td>\n      <td>$13,000,000</td>\n      <td>13000000.0</td>\n      <td>0.00176</td>\n    </tr>\n    <tr>\n      <th>83</th>\n      <td>Christian Wood</td>\n      <td>36</td>\n      <td>36</td>\n      <td>31.9</td>\n      <td>8.1</td>\n      <td>15.3</td>\n      <td>.529</td>\n      <td>1.8</td>\n      <td>4.8</td>\n      <td>.380</td>\n      <td>...</td>\n      <td>1.8</td>\n      <td>2.1</td>\n      <td>20.9</td>\n      <td>NBA</td>\n      <td>HOU</td>\n      <td>F</td>\n      <td>25</td>\n      <td>$13,666,667</td>\n      <td>13666667.0</td>\n      <td>0.00185</td>\n    </tr>\n    <tr>\n      <th>84</th>\n      <td>Thaddeus Young</td>\n      <td>54</td>\n      <td>17</td>\n      <td>24.1</td>\n      <td>5.5</td>\n      <td>9.6</td>\n      <td>.574</td>\n      <td>0.2</td>\n      <td>0.6</td>\n      <td>.265</td>\n      <td>...</td>\n      <td>2.0</td>\n      <td>2.4</td>\n      <td>12.2</td>\n      <td>NBA</td>\n      <td>CHI</td>\n      <td>F</td>\n      <td>32</td>\n      <td>$14,545,000</td>\n      <td>14545000.0</td>\n      <td>0.00197</td>\n    </tr>\n    <tr>\n      <th>85</th>\n      <td>Cody Zeller</td>\n      <td>37</td>\n      <td>20</td>\n      <td>21.2</td>\n      <td>3.6</td>\n      <td>6.7</td>\n      <td>.540</td>\n      <td>0.1</td>\n      <td>0.7</td>\n      <td>.120</td>\n      <td>...</td>\n      <td>1.0</td>\n      <td>2.4</td>\n      <td>9.0</td>\n      <td>NBA</td>\n      <td>CHA</td>\n      <td>C</td>\n      <td>27</td>\n      <td>$14,000,000</td>\n      <td>14000000.0</td>\n      <td>0.00189</td>\n    </tr>\n  </tbody>\n</table>\n<p>86 rows × 32 columns</p>\n</div>"
     },
     "metadata": {},
     "execution_count": 51
    }
   ],
   "source": [
    "nba_df = pd.merge(nba_stats, nba_salaries, on= 'Player')\n",
    "nba_df['Position'] = nba_df['Position'].replace('PF','F', regex=True).replace('SF','F', regex=True)\n",
    "nba_df['Position'] = nba_df['Position'].replace('PG','G', regex=True).replace('SG','G', regex=True)\n",
    "\n",
    "nba_df['salary_float'] = nba_df['Avg_Salary'].str.strip('$').replace(',','', regex=True).astype(float) #create column of salaries as float values\n",
    "nba_revenue = float(7400000000)\n",
    "nba_df['salary_ratio'] = nba_df['salary_float']/nba_revenue\n",
    "nba_df['salary_ratio'] = nba_df['salary_ratio'].round(5)\n",
    "nba_df\n"
   ]
  },
  {
   "source": [
    "## Combine Stats and Salary Data for WNBA \n",
    "**Key = \"Player**"
   ],
   "cell_type": "markdown",
   "metadata": {}
  },
  {
   "cell_type": "code",
   "execution_count": 52,
   "metadata": {},
   "outputs": [
    {
     "output_type": "execute_result",
     "data": {
      "text/plain": [
       "                     Player League   Team Position Age  Avg_Salary   G   MP  \\\n",
       "0            DeWanna Bonner   WNBA    CON        F  33  $224,870    22  732   \n",
       "1      Skylar Diggins-Smith   WNBA    PHX        G  30  $224,870    22  675   \n",
       "2             Diana Taurasi   WNBA    PHX        G  38  $224,772    19  533   \n",
       "3            Natasha Howard   WNBA     NY        F  29  $224,675    22  463   \n",
       "4           Brittney Griner   WNBA    PHX        C  30  $221,515    12  382   \n",
       "..                      ...    ...    ...      ...  ..         ...  ..  ...   \n",
       "70  Mikiah Herbert Harrigan   WNBA    SEA        F  22   $68,339    21  234   \n",
       "71             Ruthy Hebard   WNBA    CHI        F  22   $68,339    22  320   \n",
       "72            Jazmine Jones   WNBA     NY        G  24   $65,459    20  428   \n",
       "73       Jocelyn Willoughby   WNBA     NY        F  23   $65,459    22  383   \n",
       "74             Megan Walker   WNBA    PHX        F  22   $65,459    18  205   \n",
       "\n",
       "    GS   FG  ...  TRB  AST  STL  BLK  TOV   PF   PTS  DRB  salary_float  \\\n",
       "0   22  6.7  ...  7.8  3.0  1.7  0.5  2.4  2.1  19.7  6.3      224870.0   \n",
       "1   22  5.8  ...  3.3  4.2  0.9  0.5  3.2  2.3  17.7  2.8      224870.0   \n",
       "2   19  5.1  ...  4.2  4.5  1.0  0.4  2.3  2.7  18.7  4.1      224772.0   \n",
       "3   22  4.0  ...  7.1  1.0  1.7  0.6  2.1  3.0   9.5  4.7      224675.0   \n",
       "4   12  7.3  ...  7.5  3.0  0.3  1.8  2.5  2.5  17.7  6.0      221515.0   \n",
       "..  ..  ...  ...  ...  ...  ...  ...  ...  ...   ...  ...           ...   \n",
       "70   0  1.4  ...  2.3  0.3  0.4  0.4  0.7  1.0   3.8  1.6       68339.0   \n",
       "71   6  2.6  ...  3.9  0.3  0.5  0.4  0.7  1.6   5.7  3.1       68339.0   \n",
       "72   2  3.5  ...  4.1  2.3  1.4  0.5  2.9  3.0  10.8  3.2       65459.0   \n",
       "73   5  1.8  ...  2.4  0.9  0.7  0.3  1.5  2.3   5.8  1.7       65459.0   \n",
       "74   0  1.4  ...  1.5  0.3  0.2  0.0  0.4  0.8   3.3  0.9       65459.0   \n",
       "\n",
       "    salary_ratio  \n",
       "0        0.00375  \n",
       "1        0.00375  \n",
       "2        0.00375  \n",
       "3        0.00374  \n",
       "4        0.00369  \n",
       "..           ...  \n",
       "70       0.00114  \n",
       "71       0.00114  \n",
       "72       0.00109  \n",
       "73       0.00109  \n",
       "74       0.00109  \n",
       "\n",
       "[75 rows x 32 columns]"
      ],
      "text/html": "<div>\n<style scoped>\n    .dataframe tbody tr th:only-of-type {\n        vertical-align: middle;\n    }\n\n    .dataframe tbody tr th {\n        vertical-align: top;\n    }\n\n    .dataframe thead th {\n        text-align: right;\n    }\n</style>\n<table border=\"1\" class=\"dataframe\">\n  <thead>\n    <tr style=\"text-align: right;\">\n      <th></th>\n      <th>Player</th>\n      <th>League</th>\n      <th>Team</th>\n      <th>Position</th>\n      <th>Age</th>\n      <th>Avg_Salary</th>\n      <th>G</th>\n      <th>MP</th>\n      <th>GS</th>\n      <th>FG</th>\n      <th>...</th>\n      <th>TRB</th>\n      <th>AST</th>\n      <th>STL</th>\n      <th>BLK</th>\n      <th>TOV</th>\n      <th>PF</th>\n      <th>PTS</th>\n      <th>DRB</th>\n      <th>salary_float</th>\n      <th>salary_ratio</th>\n    </tr>\n  </thead>\n  <tbody>\n    <tr>\n      <th>0</th>\n      <td>DeWanna Bonner</td>\n      <td>WNBA</td>\n      <td>CON</td>\n      <td>F</td>\n      <td>33</td>\n      <td>$224,870</td>\n      <td>22</td>\n      <td>732</td>\n      <td>22</td>\n      <td>6.7</td>\n      <td>...</td>\n      <td>7.8</td>\n      <td>3.0</td>\n      <td>1.7</td>\n      <td>0.5</td>\n      <td>2.4</td>\n      <td>2.1</td>\n      <td>19.7</td>\n      <td>6.3</td>\n      <td>224870.0</td>\n      <td>0.00375</td>\n    </tr>\n    <tr>\n      <th>1</th>\n      <td>Skylar Diggins-Smith</td>\n      <td>WNBA</td>\n      <td>PHX</td>\n      <td>G</td>\n      <td>30</td>\n      <td>$224,870</td>\n      <td>22</td>\n      <td>675</td>\n      <td>22</td>\n      <td>5.8</td>\n      <td>...</td>\n      <td>3.3</td>\n      <td>4.2</td>\n      <td>0.9</td>\n      <td>0.5</td>\n      <td>3.2</td>\n      <td>2.3</td>\n      <td>17.7</td>\n      <td>2.8</td>\n      <td>224870.0</td>\n      <td>0.00375</td>\n    </tr>\n    <tr>\n      <th>2</th>\n      <td>Diana Taurasi</td>\n      <td>WNBA</td>\n      <td>PHX</td>\n      <td>G</td>\n      <td>38</td>\n      <td>$224,772</td>\n      <td>19</td>\n      <td>533</td>\n      <td>19</td>\n      <td>5.1</td>\n      <td>...</td>\n      <td>4.2</td>\n      <td>4.5</td>\n      <td>1.0</td>\n      <td>0.4</td>\n      <td>2.3</td>\n      <td>2.7</td>\n      <td>18.7</td>\n      <td>4.1</td>\n      <td>224772.0</td>\n      <td>0.00375</td>\n    </tr>\n    <tr>\n      <th>3</th>\n      <td>Natasha Howard</td>\n      <td>WNBA</td>\n      <td>NY</td>\n      <td>F</td>\n      <td>29</td>\n      <td>$224,675</td>\n      <td>22</td>\n      <td>463</td>\n      <td>22</td>\n      <td>4.0</td>\n      <td>...</td>\n      <td>7.1</td>\n      <td>1.0</td>\n      <td>1.7</td>\n      <td>0.6</td>\n      <td>2.1</td>\n      <td>3.0</td>\n      <td>9.5</td>\n      <td>4.7</td>\n      <td>224675.0</td>\n      <td>0.00374</td>\n    </tr>\n    <tr>\n      <th>4</th>\n      <td>Brittney Griner</td>\n      <td>WNBA</td>\n      <td>PHX</td>\n      <td>C</td>\n      <td>30</td>\n      <td>$221,515</td>\n      <td>12</td>\n      <td>382</td>\n      <td>12</td>\n      <td>7.3</td>\n      <td>...</td>\n      <td>7.5</td>\n      <td>3.0</td>\n      <td>0.3</td>\n      <td>1.8</td>\n      <td>2.5</td>\n      <td>2.5</td>\n      <td>17.7</td>\n      <td>6.0</td>\n      <td>221515.0</td>\n      <td>0.00369</td>\n    </tr>\n    <tr>\n      <th>...</th>\n      <td>...</td>\n      <td>...</td>\n      <td>...</td>\n      <td>...</td>\n      <td>...</td>\n      <td>...</td>\n      <td>...</td>\n      <td>...</td>\n      <td>...</td>\n      <td>...</td>\n      <td>...</td>\n      <td>...</td>\n      <td>...</td>\n      <td>...</td>\n      <td>...</td>\n      <td>...</td>\n      <td>...</td>\n      <td>...</td>\n      <td>...</td>\n      <td>...</td>\n      <td>...</td>\n    </tr>\n    <tr>\n      <th>70</th>\n      <td>Mikiah Herbert Harrigan</td>\n      <td>WNBA</td>\n      <td>SEA</td>\n      <td>F</td>\n      <td>22</td>\n      <td>$68,339</td>\n      <td>21</td>\n      <td>234</td>\n      <td>0</td>\n      <td>1.4</td>\n      <td>...</td>\n      <td>2.3</td>\n      <td>0.3</td>\n      <td>0.4</td>\n      <td>0.4</td>\n      <td>0.7</td>\n      <td>1.0</td>\n      <td>3.8</td>\n      <td>1.6</td>\n      <td>68339.0</td>\n      <td>0.00114</td>\n    </tr>\n    <tr>\n      <th>71</th>\n      <td>Ruthy Hebard</td>\n      <td>WNBA</td>\n      <td>CHI</td>\n      <td>F</td>\n      <td>22</td>\n      <td>$68,339</td>\n      <td>22</td>\n      <td>320</td>\n      <td>6</td>\n      <td>2.6</td>\n      <td>...</td>\n      <td>3.9</td>\n      <td>0.3</td>\n      <td>0.5</td>\n      <td>0.4</td>\n      <td>0.7</td>\n      <td>1.6</td>\n      <td>5.7</td>\n      <td>3.1</td>\n      <td>68339.0</td>\n      <td>0.00114</td>\n    </tr>\n    <tr>\n      <th>72</th>\n      <td>Jazmine Jones</td>\n      <td>WNBA</td>\n      <td>NY</td>\n      <td>G</td>\n      <td>24</td>\n      <td>$65,459</td>\n      <td>20</td>\n      <td>428</td>\n      <td>2</td>\n      <td>3.5</td>\n      <td>...</td>\n      <td>4.1</td>\n      <td>2.3</td>\n      <td>1.4</td>\n      <td>0.5</td>\n      <td>2.9</td>\n      <td>3.0</td>\n      <td>10.8</td>\n      <td>3.2</td>\n      <td>65459.0</td>\n      <td>0.00109</td>\n    </tr>\n    <tr>\n      <th>73</th>\n      <td>Jocelyn Willoughby</td>\n      <td>WNBA</td>\n      <td>NY</td>\n      <td>F</td>\n      <td>23</td>\n      <td>$65,459</td>\n      <td>22</td>\n      <td>383</td>\n      <td>5</td>\n      <td>1.8</td>\n      <td>...</td>\n      <td>2.4</td>\n      <td>0.9</td>\n      <td>0.7</td>\n      <td>0.3</td>\n      <td>1.5</td>\n      <td>2.3</td>\n      <td>5.8</td>\n      <td>1.7</td>\n      <td>65459.0</td>\n      <td>0.00109</td>\n    </tr>\n    <tr>\n      <th>74</th>\n      <td>Megan Walker</td>\n      <td>WNBA</td>\n      <td>PHX</td>\n      <td>F</td>\n      <td>22</td>\n      <td>$65,459</td>\n      <td>18</td>\n      <td>205</td>\n      <td>0</td>\n      <td>1.4</td>\n      <td>...</td>\n      <td>1.5</td>\n      <td>0.3</td>\n      <td>0.2</td>\n      <td>0.0</td>\n      <td>0.4</td>\n      <td>0.8</td>\n      <td>3.3</td>\n      <td>0.9</td>\n      <td>65459.0</td>\n      <td>0.00109</td>\n    </tr>\n  </tbody>\n</table>\n<p>75 rows × 32 columns</p>\n</div>"
     },
     "metadata": {},
     "execution_count": 52
    }
   ],
   "source": [
    "wnba_df = pd.merge(wnba_salaries, wnba_stats, on='Player')\n",
    "\n",
    "wnba_df['salary_float'] = wnba_df['Avg_Salary'].str.strip('$').replace(',','', regex=True).astype(float) #create column of salaries as float values\n",
    "wnba_revenue = float(60000000)\n",
    "wnba_df['salary_ratio'] = wnba_df['salary_float']/wnba_revenue\n",
    "wnba_df['salary_ratio'] = wnba_df['salary_ratio'].round(5)\n",
    "\n",
    "wnba_df"
   ]
  },
  {
   "source": [
    "## Merge NBA and WNBA Data\n",
    "Once stats were combined with salaries, we were left with: <br>\n",
    "75 WNBA Players <br>\n",
    "86 NBA Players <br> \n",
    "**Total of 161 unique variables for exploratory analysis**"
   ],
   "cell_type": "markdown",
   "metadata": {}
  },
  {
   "cell_type": "code",
   "execution_count": 53,
   "metadata": {},
   "outputs": [
    {
     "output_type": "execute_result",
     "data": {
      "text/plain": [
       "                      Player   G  GS    MP    FG   FGA    FG%   3P   3PA  \\\n",
       "0                  John Wall  39  39  32.0   7.3  18.1   .403  2.0   6.2   \n",
       "1               James Harden  42  42  37.1   8.0  17.2   .463  2.8   7.8   \n",
       "2          Russell Westbrook  51  51  35.6   8.2  18.9   .436  1.3   4.1   \n",
       "3               Kevin Durant  24  22  32.7   9.3  17.1   .543  2.5   5.5   \n",
       "4              Stephen Curry  51  51  34.1  10.2  21.0   .486  5.1  12.1   \n",
       "..                       ...  ..  ..   ...   ...   ...    ...  ...   ...   \n",
       "156  Mikiah Herbert Harrigan  21   0   234   1.4   3.9  0.366  0.7   1.6   \n",
       "157             Ruthy Hebard  22   6   320   2.6   3.9  0.682    0     0   \n",
       "158            Jazmine Jones  20   2   428   3.5   8.6  0.404  0.8   2.3   \n",
       "159       Jocelyn Willoughby  22   5   383   1.8     5  0.358  0.7   1.7   \n",
       "160             Megan Walker  18   0   205   1.4   4.3  0.321  0.3   2.4   \n",
       "\n",
       "       3P%  ...   PF   PTS League   Team Position   Age     Avg_Salary  \\\n",
       "0     .322  ...  1.1  20.4    NBA    HOU        G   30   $42,782,880     \n",
       "1     .358  ...  2.3  25.2    NBA    BKN        G   31   $42,782,880     \n",
       "2     .310  ...  2.8  21.6    NBA    WAS        G   31   $41,358,814     \n",
       "3     .462  ...  2.0  27.3    NBA    BKN        F   32   $41,063,925     \n",
       "4     .425  ...  1.8  31.1    NBA    GSW        G   32   $40,231,758     \n",
       "..     ...  ...  ...   ...    ...    ...      ...   ...            ...   \n",
       "156  0.424  ...    1   3.8   WNBA    SEA        F    22      $68,339     \n",
       "157    NaN  ...  1.6   5.7   WNBA    CHI        F    22      $68,339     \n",
       "158  0.333  ...    3  10.8   WNBA     NY        G    24      $65,459     \n",
       "159  0.405  ...  2.3   5.8   WNBA     NY        F    23      $65,459     \n",
       "160   0.14  ...  0.8   3.3   WNBA    PHX        F    22      $65,459     \n",
       "\n",
       "    salary_float salary_ratio Salary_Rank  \n",
       "0     42782880.0      0.00578           1  \n",
       "1     42782880.0      0.00578           2  \n",
       "2     41358814.0      0.00559           3  \n",
       "3     41063925.0      0.00555           4  \n",
       "4     40231758.0      0.00544           5  \n",
       "..           ...          ...         ...  \n",
       "156      68339.0      0.00114         157  \n",
       "157      68339.0      0.00114         158  \n",
       "158      65459.0      0.00109         159  \n",
       "159      65459.0      0.00109         160  \n",
       "160      65459.0      0.00109         161  \n",
       "\n",
       "[161 rows x 33 columns]"
      ],
      "text/html": "<div>\n<style scoped>\n    .dataframe tbody tr th:only-of-type {\n        vertical-align: middle;\n    }\n\n    .dataframe tbody tr th {\n        vertical-align: top;\n    }\n\n    .dataframe thead th {\n        text-align: right;\n    }\n</style>\n<table border=\"1\" class=\"dataframe\">\n  <thead>\n    <tr style=\"text-align: right;\">\n      <th></th>\n      <th>Player</th>\n      <th>G</th>\n      <th>GS</th>\n      <th>MP</th>\n      <th>FG</th>\n      <th>FGA</th>\n      <th>FG%</th>\n      <th>3P</th>\n      <th>3PA</th>\n      <th>3P%</th>\n      <th>...</th>\n      <th>PF</th>\n      <th>PTS</th>\n      <th>League</th>\n      <th>Team</th>\n      <th>Position</th>\n      <th>Age</th>\n      <th>Avg_Salary</th>\n      <th>salary_float</th>\n      <th>salary_ratio</th>\n      <th>Salary_Rank</th>\n    </tr>\n  </thead>\n  <tbody>\n    <tr>\n      <th>0</th>\n      <td>John Wall</td>\n      <td>39</td>\n      <td>39</td>\n      <td>32.0</td>\n      <td>7.3</td>\n      <td>18.1</td>\n      <td>.403</td>\n      <td>2.0</td>\n      <td>6.2</td>\n      <td>.322</td>\n      <td>...</td>\n      <td>1.1</td>\n      <td>20.4</td>\n      <td>NBA</td>\n      <td>HOU</td>\n      <td>G</td>\n      <td>30</td>\n      <td>$42,782,880</td>\n      <td>42782880.0</td>\n      <td>0.00578</td>\n      <td>1</td>\n    </tr>\n    <tr>\n      <th>1</th>\n      <td>James Harden</td>\n      <td>42</td>\n      <td>42</td>\n      <td>37.1</td>\n      <td>8.0</td>\n      <td>17.2</td>\n      <td>.463</td>\n      <td>2.8</td>\n      <td>7.8</td>\n      <td>.358</td>\n      <td>...</td>\n      <td>2.3</td>\n      <td>25.2</td>\n      <td>NBA</td>\n      <td>BKN</td>\n      <td>G</td>\n      <td>31</td>\n      <td>$42,782,880</td>\n      <td>42782880.0</td>\n      <td>0.00578</td>\n      <td>2</td>\n    </tr>\n    <tr>\n      <th>2</th>\n      <td>Russell Westbrook</td>\n      <td>51</td>\n      <td>51</td>\n      <td>35.6</td>\n      <td>8.2</td>\n      <td>18.9</td>\n      <td>.436</td>\n      <td>1.3</td>\n      <td>4.1</td>\n      <td>.310</td>\n      <td>...</td>\n      <td>2.8</td>\n      <td>21.6</td>\n      <td>NBA</td>\n      <td>WAS</td>\n      <td>G</td>\n      <td>31</td>\n      <td>$41,358,814</td>\n      <td>41358814.0</td>\n      <td>0.00559</td>\n      <td>3</td>\n    </tr>\n    <tr>\n      <th>3</th>\n      <td>Kevin Durant</td>\n      <td>24</td>\n      <td>22</td>\n      <td>32.7</td>\n      <td>9.3</td>\n      <td>17.1</td>\n      <td>.543</td>\n      <td>2.5</td>\n      <td>5.5</td>\n      <td>.462</td>\n      <td>...</td>\n      <td>2.0</td>\n      <td>27.3</td>\n      <td>NBA</td>\n      <td>BKN</td>\n      <td>F</td>\n      <td>32</td>\n      <td>$41,063,925</td>\n      <td>41063925.0</td>\n      <td>0.00555</td>\n      <td>4</td>\n    </tr>\n    <tr>\n      <th>4</th>\n      <td>Stephen Curry</td>\n      <td>51</td>\n      <td>51</td>\n      <td>34.1</td>\n      <td>10.2</td>\n      <td>21.0</td>\n      <td>.486</td>\n      <td>5.1</td>\n      <td>12.1</td>\n      <td>.425</td>\n      <td>...</td>\n      <td>1.8</td>\n      <td>31.1</td>\n      <td>NBA</td>\n      <td>GSW</td>\n      <td>G</td>\n      <td>32</td>\n      <td>$40,231,758</td>\n      <td>40231758.0</td>\n      <td>0.00544</td>\n      <td>5</td>\n    </tr>\n    <tr>\n      <th>...</th>\n      <td>...</td>\n      <td>...</td>\n      <td>...</td>\n      <td>...</td>\n      <td>...</td>\n      <td>...</td>\n      <td>...</td>\n      <td>...</td>\n      <td>...</td>\n      <td>...</td>\n      <td>...</td>\n      <td>...</td>\n      <td>...</td>\n      <td>...</td>\n      <td>...</td>\n      <td>...</td>\n      <td>...</td>\n      <td>...</td>\n      <td>...</td>\n      <td>...</td>\n      <td>...</td>\n    </tr>\n    <tr>\n      <th>156</th>\n      <td>Mikiah Herbert Harrigan</td>\n      <td>21</td>\n      <td>0</td>\n      <td>234</td>\n      <td>1.4</td>\n      <td>3.9</td>\n      <td>0.366</td>\n      <td>0.7</td>\n      <td>1.6</td>\n      <td>0.424</td>\n      <td>...</td>\n      <td>1</td>\n      <td>3.8</td>\n      <td>WNBA</td>\n      <td>SEA</td>\n      <td>F</td>\n      <td>22</td>\n      <td>$68,339</td>\n      <td>68339.0</td>\n      <td>0.00114</td>\n      <td>157</td>\n    </tr>\n    <tr>\n      <th>157</th>\n      <td>Ruthy Hebard</td>\n      <td>22</td>\n      <td>6</td>\n      <td>320</td>\n      <td>2.6</td>\n      <td>3.9</td>\n      <td>0.682</td>\n      <td>0</td>\n      <td>0</td>\n      <td>NaN</td>\n      <td>...</td>\n      <td>1.6</td>\n      <td>5.7</td>\n      <td>WNBA</td>\n      <td>CHI</td>\n      <td>F</td>\n      <td>22</td>\n      <td>$68,339</td>\n      <td>68339.0</td>\n      <td>0.00114</td>\n      <td>158</td>\n    </tr>\n    <tr>\n      <th>158</th>\n      <td>Jazmine Jones</td>\n      <td>20</td>\n      <td>2</td>\n      <td>428</td>\n      <td>3.5</td>\n      <td>8.6</td>\n      <td>0.404</td>\n      <td>0.8</td>\n      <td>2.3</td>\n      <td>0.333</td>\n      <td>...</td>\n      <td>3</td>\n      <td>10.8</td>\n      <td>WNBA</td>\n      <td>NY</td>\n      <td>G</td>\n      <td>24</td>\n      <td>$65,459</td>\n      <td>65459.0</td>\n      <td>0.00109</td>\n      <td>159</td>\n    </tr>\n    <tr>\n      <th>159</th>\n      <td>Jocelyn Willoughby</td>\n      <td>22</td>\n      <td>5</td>\n      <td>383</td>\n      <td>1.8</td>\n      <td>5</td>\n      <td>0.358</td>\n      <td>0.7</td>\n      <td>1.7</td>\n      <td>0.405</td>\n      <td>...</td>\n      <td>2.3</td>\n      <td>5.8</td>\n      <td>WNBA</td>\n      <td>NY</td>\n      <td>F</td>\n      <td>23</td>\n      <td>$65,459</td>\n      <td>65459.0</td>\n      <td>0.00109</td>\n      <td>160</td>\n    </tr>\n    <tr>\n      <th>160</th>\n      <td>Megan Walker</td>\n      <td>18</td>\n      <td>0</td>\n      <td>205</td>\n      <td>1.4</td>\n      <td>4.3</td>\n      <td>0.321</td>\n      <td>0.3</td>\n      <td>2.4</td>\n      <td>0.14</td>\n      <td>...</td>\n      <td>0.8</td>\n      <td>3.3</td>\n      <td>WNBA</td>\n      <td>PHX</td>\n      <td>F</td>\n      <td>22</td>\n      <td>$65,459</td>\n      <td>65459.0</td>\n      <td>0.00109</td>\n      <td>161</td>\n    </tr>\n  </tbody>\n</table>\n<p>161 rows × 33 columns</p>\n</div>"
     },
     "metadata": {},
     "execution_count": 53
    }
   ],
   "source": [
    "\n",
    "all_df = pd.concat([nba_df, wnba_df])#combine NBA & WNBA data\n",
    "all_df = all_df.sort_values('salary_float', ascending=False).reset_index(drop = True)\n",
    "all_df['Salary_Rank'] = all_df.index + 1\n",
    "all_df"
   ]
  },
  {
   "cell_type": "code",
   "execution_count": 54,
   "metadata": {},
   "outputs": [],
   "source": [
    "all_df.to_csv(r'C:\\Users\\allie\\Documents\\cs5010\\NBAvsWNBA.csv', index = False)\n"
   ]
  },
  {
   "source": [
    "### Six WNBA Teams have matchups with NBA teams:\n",
    "\n",
    "Brooklyn Nets and New York Liberty <br>\n",
    "Indiana Pacers and Fever <br>\n",
    "LA Lakers and Sparks <br>\n",
    "Minnesota Timberwolves and Lynx <br>\n",
    "Phoenix Suns and Mercury <br>\n",
    "Washington Wizards and Mystics\n",
    "\n",
    "\n",
    "### Old Matchups:\n",
    "Liberty and New York Knicks <br>\n",
    "San Antonio Spurs and Stars\n",
    "Seattle Storm and SuperSonics (Now OKC)\n"
   ],
   "cell_type": "markdown",
   "metadata": {}
  },
  {
   "source": [
    "### This is Jake's Code-- It looked like it would work Better with the League's Separated"
   ],
   "cell_type": "markdown",
   "metadata": {}
  },
  {
   "cell_type": "code",
   "execution_count": 55,
   "metadata": {},
   "outputs": [],
   "source": [
    "import pandas as pd\n",
    "desired_width = 320\n",
    "pd.set_option('display.width', desired_width)\n",
    "pd.set_option('display.max_columns', 33)\n",
    "import numpy as np\n",
    "import sklearn as linear_model\n",
    "from sklearn.model_selection import train_test_split\n",
    "from sklearn.linear_model import LinearRegression\n",
    "import sklearn.feature_selection\n",
    "from sklearn.metrics import r2_score, mean_squared_error"
   ]
  },
  {
   "cell_type": "code",
   "execution_count": 72,
   "metadata": {},
   "outputs": [],
   "source": [
    "class linearModel:\n",
    "    def __init__(self, df):\n",
    "        self.stats = df\n",
    "        \n",
    "    def prepare_data(self):\n",
    "        #import pdb; pdb.set_trace()\n",
    "        self.stats = self.stats.dropna()\n",
    "        self.stats = self.stats.iloc[:,1:] #I CHANGED THIS -- DID I CHOOSE THE RIGHT COLUMNS?\n",
    "        self.stats = self.stats.drop(['Avg_Salary'], axis=1)\n",
    "        return self.stats\n",
    "    \n",
    "    def train_test_split(self):\n",
    "        self.X_train, self.X_test, self.Y_train, self.Y_test = train_test_split(self.stats.iloc[:, :22], self.stats['salary_float'], \n",
    "        test_size=0.2, random_state=4)\n",
    "\n",
    "    def create_model(self):\n",
    "        self.model = LinearRegression().fit(self.X_train, self.Y_train)\n",
    "        \n",
    "    def feature_selection(self, direction=None):\n",
    "        sfs = SequentialFeatureSelector(self.model, n_features_to_select=5, direction=direction)\n",
    "        self.sfs = sfs.fit(self.X_train, self.Y_train)\n",
    "        self.X_train_columns = self.X_train.columns[sfs.get_support()]\n",
    "        self.X_test_columns = self.X_test.columns[sfs.get_support()]\n",
    "        self.X_train = self.X_train[self.X_train_columns]\n",
    "        self.X_test = self.X_test[self.X_test_columns]\n",
    "        self.model = LinearRegression().fit(self.X_train, self.Y_train)\n",
    "\n",
    "    def predict(self):\n",
    "        self.y_pred = self.model.predict(self.X_test)\n",
    "\n",
    "    def calc_r_squared(self):\n",
    "        self.r_squared = r2_score(self.Y_test, self.y_pred)\n",
    "\n",
    "    def calc_r_squared_adjusted(self, r_squared):\n",
    "        num_pred = len(self.X_train)\n",
    "        pred = len(self.X_train.columns)\n",
    "        r_squared = abs(r_squared)\n",
    "        import pdb; pdb.set_trace()\n",
    "        r_squared_adjusted = 1 - ((1-r_squared)*(num_pred-1)/(num_pred-pred-1))\n",
    "\n",
    "        return r_squared_adjusted"
   ]
  },
  {
   "cell_type": "code",
   "execution_count": 73,
   "metadata": {},
   "outputs": [
    {
     "output_type": "error",
     "ename": "ValueError",
     "evalue": "could not convert string to float: ''",
     "traceback": [
      "\u001b[1;31m---------------------------------------------------------------------------\u001b[0m",
      "\u001b[1;31mValueError\u001b[0m                                Traceback (most recent call last)",
      "\u001b[1;32m<ipython-input-73-d4f759ad09fa>\u001b[0m in \u001b[0;36m<module>\u001b[1;34m\u001b[0m\n\u001b[0;32m      2\u001b[0m \u001b[0mmodel\u001b[0m\u001b[1;33m.\u001b[0m\u001b[0mprepare_data\u001b[0m\u001b[1;33m(\u001b[0m\u001b[1;33m)\u001b[0m\u001b[1;33m\u001b[0m\u001b[1;33m\u001b[0m\u001b[0m\n\u001b[0;32m      3\u001b[0m \u001b[0mmodel\u001b[0m\u001b[1;33m.\u001b[0m\u001b[0mtrain_test_split\u001b[0m\u001b[1;33m(\u001b[0m\u001b[1;33m)\u001b[0m\u001b[1;33m\u001b[0m\u001b[1;33m\u001b[0m\u001b[0m\n\u001b[1;32m----> 4\u001b[1;33m \u001b[0mmodel\u001b[0m\u001b[1;33m.\u001b[0m\u001b[0mcreate_model\u001b[0m\u001b[1;33m(\u001b[0m\u001b[1;33m)\u001b[0m\u001b[1;33m\u001b[0m\u001b[1;33m\u001b[0m\u001b[0m\n\u001b[0m",
      "\u001b[1;32m<ipython-input-72-9fc758a95bf7>\u001b[0m in \u001b[0;36mcreate_model\u001b[1;34m(self)\u001b[0m\n\u001b[0;32m     15\u001b[0m \u001b[1;33m\u001b[0m\u001b[0m\n\u001b[0;32m     16\u001b[0m     \u001b[1;32mdef\u001b[0m \u001b[0mcreate_model\u001b[0m\u001b[1;33m(\u001b[0m\u001b[0mself\u001b[0m\u001b[1;33m)\u001b[0m\u001b[1;33m:\u001b[0m\u001b[1;33m\u001b[0m\u001b[1;33m\u001b[0m\u001b[0m\n\u001b[1;32m---> 17\u001b[1;33m         \u001b[0mself\u001b[0m\u001b[1;33m.\u001b[0m\u001b[0mmodel\u001b[0m \u001b[1;33m=\u001b[0m \u001b[0mLinearRegression\u001b[0m\u001b[1;33m(\u001b[0m\u001b[1;33m)\u001b[0m\u001b[1;33m.\u001b[0m\u001b[0mfit\u001b[0m\u001b[1;33m(\u001b[0m\u001b[0mself\u001b[0m\u001b[1;33m.\u001b[0m\u001b[0mX_train\u001b[0m\u001b[1;33m,\u001b[0m \u001b[0mself\u001b[0m\u001b[1;33m.\u001b[0m\u001b[0mY_train\u001b[0m\u001b[1;33m)\u001b[0m\u001b[1;33m\u001b[0m\u001b[1;33m\u001b[0m\u001b[0m\n\u001b[0m\u001b[0;32m     18\u001b[0m \u001b[1;33m\u001b[0m\u001b[0m\n\u001b[0;32m     19\u001b[0m     \u001b[1;32mdef\u001b[0m \u001b[0mfeature_selection\u001b[0m\u001b[1;33m(\u001b[0m\u001b[0mself\u001b[0m\u001b[1;33m,\u001b[0m \u001b[0mdirection\u001b[0m\u001b[1;33m=\u001b[0m\u001b[1;32mNone\u001b[0m\u001b[1;33m)\u001b[0m\u001b[1;33m:\u001b[0m\u001b[1;33m\u001b[0m\u001b[1;33m\u001b[0m\u001b[0m\n",
      "\u001b[1;32m~\\anaconda3\\lib\\site-packages\\sklearn\\linear_model\\_base.py\u001b[0m in \u001b[0;36mfit\u001b[1;34m(self, X, y, sample_weight)\u001b[0m\n\u001b[0;32m    503\u001b[0m \u001b[1;33m\u001b[0m\u001b[0m\n\u001b[0;32m    504\u001b[0m         \u001b[0mn_jobs_\u001b[0m \u001b[1;33m=\u001b[0m \u001b[0mself\u001b[0m\u001b[1;33m.\u001b[0m\u001b[0mn_jobs\u001b[0m\u001b[1;33m\u001b[0m\u001b[1;33m\u001b[0m\u001b[0m\n\u001b[1;32m--> 505\u001b[1;33m         X, y = self._validate_data(X, y, accept_sparse=['csr', 'csc', 'coo'],\n\u001b[0m\u001b[0;32m    506\u001b[0m                                    y_numeric=True, multi_output=True)\n\u001b[0;32m    507\u001b[0m \u001b[1;33m\u001b[0m\u001b[0m\n",
      "\u001b[1;32m~\\anaconda3\\lib\\site-packages\\sklearn\\base.py\u001b[0m in \u001b[0;36m_validate_data\u001b[1;34m(self, X, y, reset, validate_separately, **check_params)\u001b[0m\n\u001b[0;32m    430\u001b[0m                 \u001b[0my\u001b[0m \u001b[1;33m=\u001b[0m \u001b[0mcheck_array\u001b[0m\u001b[1;33m(\u001b[0m\u001b[0my\u001b[0m\u001b[1;33m,\u001b[0m \u001b[1;33m**\u001b[0m\u001b[0mcheck_y_params\u001b[0m\u001b[1;33m)\u001b[0m\u001b[1;33m\u001b[0m\u001b[1;33m\u001b[0m\u001b[0m\n\u001b[0;32m    431\u001b[0m             \u001b[1;32melse\u001b[0m\u001b[1;33m:\u001b[0m\u001b[1;33m\u001b[0m\u001b[1;33m\u001b[0m\u001b[0m\n\u001b[1;32m--> 432\u001b[1;33m                 \u001b[0mX\u001b[0m\u001b[1;33m,\u001b[0m \u001b[0my\u001b[0m \u001b[1;33m=\u001b[0m \u001b[0mcheck_X_y\u001b[0m\u001b[1;33m(\u001b[0m\u001b[0mX\u001b[0m\u001b[1;33m,\u001b[0m \u001b[0my\u001b[0m\u001b[1;33m,\u001b[0m \u001b[1;33m**\u001b[0m\u001b[0mcheck_params\u001b[0m\u001b[1;33m)\u001b[0m\u001b[1;33m\u001b[0m\u001b[1;33m\u001b[0m\u001b[0m\n\u001b[0m\u001b[0;32m    433\u001b[0m             \u001b[0mout\u001b[0m \u001b[1;33m=\u001b[0m \u001b[0mX\u001b[0m\u001b[1;33m,\u001b[0m \u001b[0my\u001b[0m\u001b[1;33m\u001b[0m\u001b[1;33m\u001b[0m\u001b[0m\n\u001b[0;32m    434\u001b[0m \u001b[1;33m\u001b[0m\u001b[0m\n",
      "\u001b[1;32m~\\anaconda3\\lib\\site-packages\\sklearn\\utils\\validation.py\u001b[0m in \u001b[0;36minner_f\u001b[1;34m(*args, **kwargs)\u001b[0m\n\u001b[0;32m     70\u001b[0m                           FutureWarning)\n\u001b[0;32m     71\u001b[0m         \u001b[0mkwargs\u001b[0m\u001b[1;33m.\u001b[0m\u001b[0mupdate\u001b[0m\u001b[1;33m(\u001b[0m\u001b[1;33m{\u001b[0m\u001b[0mk\u001b[0m\u001b[1;33m:\u001b[0m \u001b[0marg\u001b[0m \u001b[1;32mfor\u001b[0m \u001b[0mk\u001b[0m\u001b[1;33m,\u001b[0m \u001b[0marg\u001b[0m \u001b[1;32min\u001b[0m \u001b[0mzip\u001b[0m\u001b[1;33m(\u001b[0m\u001b[0msig\u001b[0m\u001b[1;33m.\u001b[0m\u001b[0mparameters\u001b[0m\u001b[1;33m,\u001b[0m \u001b[0margs\u001b[0m\u001b[1;33m)\u001b[0m\u001b[1;33m}\u001b[0m\u001b[1;33m)\u001b[0m\u001b[1;33m\u001b[0m\u001b[1;33m\u001b[0m\u001b[0m\n\u001b[1;32m---> 72\u001b[1;33m         \u001b[1;32mreturn\u001b[0m \u001b[0mf\u001b[0m\u001b[1;33m(\u001b[0m\u001b[1;33m**\u001b[0m\u001b[0mkwargs\u001b[0m\u001b[1;33m)\u001b[0m\u001b[1;33m\u001b[0m\u001b[1;33m\u001b[0m\u001b[0m\n\u001b[0m\u001b[0;32m     73\u001b[0m     \u001b[1;32mreturn\u001b[0m \u001b[0minner_f\u001b[0m\u001b[1;33m\u001b[0m\u001b[1;33m\u001b[0m\u001b[0m\n\u001b[0;32m     74\u001b[0m \u001b[1;33m\u001b[0m\u001b[0m\n",
      "\u001b[1;32m~\\anaconda3\\lib\\site-packages\\sklearn\\utils\\validation.py\u001b[0m in \u001b[0;36mcheck_X_y\u001b[1;34m(X, y, accept_sparse, accept_large_sparse, dtype, order, copy, force_all_finite, ensure_2d, allow_nd, multi_output, ensure_min_samples, ensure_min_features, y_numeric, estimator)\u001b[0m\n\u001b[0;32m    793\u001b[0m         \u001b[1;32mraise\u001b[0m \u001b[0mValueError\u001b[0m\u001b[1;33m(\u001b[0m\u001b[1;34m\"y cannot be None\"\u001b[0m\u001b[1;33m)\u001b[0m\u001b[1;33m\u001b[0m\u001b[1;33m\u001b[0m\u001b[0m\n\u001b[0;32m    794\u001b[0m \u001b[1;33m\u001b[0m\u001b[0m\n\u001b[1;32m--> 795\u001b[1;33m     X = check_array(X, accept_sparse=accept_sparse,\n\u001b[0m\u001b[0;32m    796\u001b[0m                     \u001b[0maccept_large_sparse\u001b[0m\u001b[1;33m=\u001b[0m\u001b[0maccept_large_sparse\u001b[0m\u001b[1;33m,\u001b[0m\u001b[1;33m\u001b[0m\u001b[1;33m\u001b[0m\u001b[0m\n\u001b[0;32m    797\u001b[0m                     \u001b[0mdtype\u001b[0m\u001b[1;33m=\u001b[0m\u001b[0mdtype\u001b[0m\u001b[1;33m,\u001b[0m \u001b[0morder\u001b[0m\u001b[1;33m=\u001b[0m\u001b[0morder\u001b[0m\u001b[1;33m,\u001b[0m \u001b[0mcopy\u001b[0m\u001b[1;33m=\u001b[0m\u001b[0mcopy\u001b[0m\u001b[1;33m,\u001b[0m\u001b[1;33m\u001b[0m\u001b[1;33m\u001b[0m\u001b[0m\n",
      "\u001b[1;32m~\\anaconda3\\lib\\site-packages\\sklearn\\utils\\validation.py\u001b[0m in \u001b[0;36minner_f\u001b[1;34m(*args, **kwargs)\u001b[0m\n\u001b[0;32m     70\u001b[0m                           FutureWarning)\n\u001b[0;32m     71\u001b[0m         \u001b[0mkwargs\u001b[0m\u001b[1;33m.\u001b[0m\u001b[0mupdate\u001b[0m\u001b[1;33m(\u001b[0m\u001b[1;33m{\u001b[0m\u001b[0mk\u001b[0m\u001b[1;33m:\u001b[0m \u001b[0marg\u001b[0m \u001b[1;32mfor\u001b[0m \u001b[0mk\u001b[0m\u001b[1;33m,\u001b[0m \u001b[0marg\u001b[0m \u001b[1;32min\u001b[0m \u001b[0mzip\u001b[0m\u001b[1;33m(\u001b[0m\u001b[0msig\u001b[0m\u001b[1;33m.\u001b[0m\u001b[0mparameters\u001b[0m\u001b[1;33m,\u001b[0m \u001b[0margs\u001b[0m\u001b[1;33m)\u001b[0m\u001b[1;33m}\u001b[0m\u001b[1;33m)\u001b[0m\u001b[1;33m\u001b[0m\u001b[1;33m\u001b[0m\u001b[0m\n\u001b[1;32m---> 72\u001b[1;33m         \u001b[1;32mreturn\u001b[0m \u001b[0mf\u001b[0m\u001b[1;33m(\u001b[0m\u001b[1;33m**\u001b[0m\u001b[0mkwargs\u001b[0m\u001b[1;33m)\u001b[0m\u001b[1;33m\u001b[0m\u001b[1;33m\u001b[0m\u001b[0m\n\u001b[0m\u001b[0;32m     73\u001b[0m     \u001b[1;32mreturn\u001b[0m \u001b[0minner_f\u001b[0m\u001b[1;33m\u001b[0m\u001b[1;33m\u001b[0m\u001b[0m\n\u001b[0;32m     74\u001b[0m \u001b[1;33m\u001b[0m\u001b[0m\n",
      "\u001b[1;32m~\\anaconda3\\lib\\site-packages\\sklearn\\utils\\validation.py\u001b[0m in \u001b[0;36mcheck_array\u001b[1;34m(array, accept_sparse, accept_large_sparse, dtype, order, copy, force_all_finite, ensure_2d, allow_nd, ensure_min_samples, ensure_min_features, estimator)\u001b[0m\n\u001b[0;32m    596\u001b[0m                     \u001b[0marray\u001b[0m \u001b[1;33m=\u001b[0m \u001b[0marray\u001b[0m\u001b[1;33m.\u001b[0m\u001b[0mastype\u001b[0m\u001b[1;33m(\u001b[0m\u001b[0mdtype\u001b[0m\u001b[1;33m,\u001b[0m \u001b[0mcasting\u001b[0m\u001b[1;33m=\u001b[0m\u001b[1;34m\"unsafe\"\u001b[0m\u001b[1;33m,\u001b[0m \u001b[0mcopy\u001b[0m\u001b[1;33m=\u001b[0m\u001b[1;32mFalse\u001b[0m\u001b[1;33m)\u001b[0m\u001b[1;33m\u001b[0m\u001b[1;33m\u001b[0m\u001b[0m\n\u001b[0;32m    597\u001b[0m                 \u001b[1;32melse\u001b[0m\u001b[1;33m:\u001b[0m\u001b[1;33m\u001b[0m\u001b[1;33m\u001b[0m\u001b[0m\n\u001b[1;32m--> 598\u001b[1;33m                     \u001b[0marray\u001b[0m \u001b[1;33m=\u001b[0m \u001b[0mnp\u001b[0m\u001b[1;33m.\u001b[0m\u001b[0masarray\u001b[0m\u001b[1;33m(\u001b[0m\u001b[0marray\u001b[0m\u001b[1;33m,\u001b[0m \u001b[0morder\u001b[0m\u001b[1;33m=\u001b[0m\u001b[0morder\u001b[0m\u001b[1;33m,\u001b[0m \u001b[0mdtype\u001b[0m\u001b[1;33m=\u001b[0m\u001b[0mdtype\u001b[0m\u001b[1;33m)\u001b[0m\u001b[1;33m\u001b[0m\u001b[1;33m\u001b[0m\u001b[0m\n\u001b[0m\u001b[0;32m    599\u001b[0m             \u001b[1;32mexcept\u001b[0m \u001b[0mComplexWarning\u001b[0m\u001b[1;33m:\u001b[0m\u001b[1;33m\u001b[0m\u001b[1;33m\u001b[0m\u001b[0m\n\u001b[0;32m    600\u001b[0m                 raise ValueError(\"Complex data not supported\\n\"\n",
      "\u001b[1;32m~\\anaconda3\\lib\\site-packages\\numpy\\core\\_asarray.py\u001b[0m in \u001b[0;36masarray\u001b[1;34m(a, dtype, order)\u001b[0m\n\u001b[0;32m     81\u001b[0m \u001b[1;33m\u001b[0m\u001b[0m\n\u001b[0;32m     82\u001b[0m     \"\"\"\n\u001b[1;32m---> 83\u001b[1;33m     \u001b[1;32mreturn\u001b[0m \u001b[0marray\u001b[0m\u001b[1;33m(\u001b[0m\u001b[0ma\u001b[0m\u001b[1;33m,\u001b[0m \u001b[0mdtype\u001b[0m\u001b[1;33m,\u001b[0m \u001b[0mcopy\u001b[0m\u001b[1;33m=\u001b[0m\u001b[1;32mFalse\u001b[0m\u001b[1;33m,\u001b[0m \u001b[0morder\u001b[0m\u001b[1;33m=\u001b[0m\u001b[0morder\u001b[0m\u001b[1;33m)\u001b[0m\u001b[1;33m\u001b[0m\u001b[1;33m\u001b[0m\u001b[0m\n\u001b[0m\u001b[0;32m     84\u001b[0m \u001b[1;33m\u001b[0m\u001b[0m\n\u001b[0;32m     85\u001b[0m \u001b[1;33m\u001b[0m\u001b[0m\n",
      "\u001b[1;32m~\\anaconda3\\lib\\site-packages\\pandas\\core\\generic.py\u001b[0m in \u001b[0;36m__array__\u001b[1;34m(self, dtype)\u001b[0m\n\u001b[0;32m   1779\u001b[0m \u001b[1;33m\u001b[0m\u001b[0m\n\u001b[0;32m   1780\u001b[0m     \u001b[1;32mdef\u001b[0m \u001b[0m__array__\u001b[0m\u001b[1;33m(\u001b[0m\u001b[0mself\u001b[0m\u001b[1;33m,\u001b[0m \u001b[0mdtype\u001b[0m\u001b[1;33m=\u001b[0m\u001b[1;32mNone\u001b[0m\u001b[1;33m)\u001b[0m \u001b[1;33m->\u001b[0m \u001b[0mnp\u001b[0m\u001b[1;33m.\u001b[0m\u001b[0mndarray\u001b[0m\u001b[1;33m:\u001b[0m\u001b[1;33m\u001b[0m\u001b[1;33m\u001b[0m\u001b[0m\n\u001b[1;32m-> 1781\u001b[1;33m         \u001b[1;32mreturn\u001b[0m \u001b[0mnp\u001b[0m\u001b[1;33m.\u001b[0m\u001b[0masarray\u001b[0m\u001b[1;33m(\u001b[0m\u001b[0mself\u001b[0m\u001b[1;33m.\u001b[0m\u001b[0m_values\u001b[0m\u001b[1;33m,\u001b[0m \u001b[0mdtype\u001b[0m\u001b[1;33m=\u001b[0m\u001b[0mdtype\u001b[0m\u001b[1;33m)\u001b[0m\u001b[1;33m\u001b[0m\u001b[1;33m\u001b[0m\u001b[0m\n\u001b[0m\u001b[0;32m   1782\u001b[0m \u001b[1;33m\u001b[0m\u001b[0m\n\u001b[0;32m   1783\u001b[0m     \u001b[1;32mdef\u001b[0m \u001b[0m__array_wrap__\u001b[0m\u001b[1;33m(\u001b[0m\u001b[0mself\u001b[0m\u001b[1;33m,\u001b[0m \u001b[0mresult\u001b[0m\u001b[1;33m,\u001b[0m \u001b[0mcontext\u001b[0m\u001b[1;33m=\u001b[0m\u001b[1;32mNone\u001b[0m\u001b[1;33m)\u001b[0m\u001b[1;33m:\u001b[0m\u001b[1;33m\u001b[0m\u001b[1;33m\u001b[0m\u001b[0m\n",
      "\u001b[1;32m~\\anaconda3\\lib\\site-packages\\numpy\\core\\_asarray.py\u001b[0m in \u001b[0;36masarray\u001b[1;34m(a, dtype, order)\u001b[0m\n\u001b[0;32m     81\u001b[0m \u001b[1;33m\u001b[0m\u001b[0m\n\u001b[0;32m     82\u001b[0m     \"\"\"\n\u001b[1;32m---> 83\u001b[1;33m     \u001b[1;32mreturn\u001b[0m \u001b[0marray\u001b[0m\u001b[1;33m(\u001b[0m\u001b[0ma\u001b[0m\u001b[1;33m,\u001b[0m \u001b[0mdtype\u001b[0m\u001b[1;33m,\u001b[0m \u001b[0mcopy\u001b[0m\u001b[1;33m=\u001b[0m\u001b[1;32mFalse\u001b[0m\u001b[1;33m,\u001b[0m \u001b[0morder\u001b[0m\u001b[1;33m=\u001b[0m\u001b[0morder\u001b[0m\u001b[1;33m)\u001b[0m\u001b[1;33m\u001b[0m\u001b[1;33m\u001b[0m\u001b[0m\n\u001b[0m\u001b[0;32m     84\u001b[0m \u001b[1;33m\u001b[0m\u001b[0m\n\u001b[0;32m     85\u001b[0m \u001b[1;33m\u001b[0m\u001b[0m\n",
      "\u001b[1;31mValueError\u001b[0m: could not convert string to float: ''"
     ]
    }
   ],
   "source": [
    "model = linearModel(nba_data)\n",
    "model.prepare_data()\n",
    "model.train_test_split()\n",
    "#This is throwing the error-- not sure why Think I have the wrong columns picked\n",
    "model.create_model()\n",
    "model.predict()\n",
    "model.calc_r_squared()\n",
    "print('Full model R Squared Valued: ' + str(model.r_squared))"
   ]
  },
  {
   "cell_type": "code",
   "execution_count": 69,
   "metadata": {},
   "outputs": [
    {
     "output_type": "execute_result",
     "data": {
      "text/plain": [
       "     G  GS    MP    FG   FGA   FG%   3P  3PA   3P%   2P   2PA   2P%   FT  FTA   FT%  ORB  DRB   TRB  AST  STL  BLK  TOV   PF   PTS\n",
       "0   54  54  28.1   3.4   5.4  .620  0.0  0.1  .000  3.4   5.4  .626  1.1  2.4  .442  3.8  5.2   9.0  2.0  0.9  0.7  1.4  2.0   7.8\n",
       "1   48  48  33.7  10.4  18.4  .564  1.1  3.6  .297  9.3  14.7  .630  6.8  9.8  .688  1.7  9.4  11.2  6.0  1.1  1.3  3.7  2.8  28.5\n",
       "2   18  15  26.6   2.8   7.2  .385  1.5  4.1  .365  1.3   3.1  .411  1.2  1.6  .750  0.7  3.5   4.2  1.7  0.7  0.6  0.7  1.6   8.2\n",
       "3   37  37  25.7   5.6  11.2  .502  0.9  2.6  .354  4.7   8.6  .547  1.6  2.9  .560  2.5  5.0   7.4  0.9  0.5  0.5  1.3  2.4  13.9\n",
       "4   56  56  36.4   5.4  11.0  .494  1.6  4.3  .379  3.8   6.7  .568  3.4  4.1  .827  1.1  5.5   6.6  3.5  0.8  0.2  1.6  1.3  15.9\n",
       "..  ..  ..   ...   ...   ...   ...  ...  ...   ...  ...   ...   ...  ...  ...   ...  ...  ...   ...  ...  ...  ...  ...  ...   ...\n",
       "81  59  59  32.9   6.8  14.5  .472  2.0  5.2  .379  4.9   9.3  .524  2.4  3.5  .701  1.0  3.8   4.8  2.3  1.0  0.9  1.8  2.2  18.1\n",
       "82  18   0  20.6   3.0   8.6  .348  0.3  2.3  .122  2.7   6.3  .430  0.6  1.0  .556  0.7  3.7   4.4  1.8  0.7  0.4  1.7  1.9   6.8\n",
       "83  36  36  31.9   8.1  15.3  .529  1.8  4.8  .380  6.3  10.6  .596  2.9  4.6  .628  1.7  7.6   9.3  1.5  0.9  1.3  1.8  2.1  20.9\n",
       "84  54  17  24.1   5.5   9.6  .574  0.2  0.6  .265  5.4   9.0  .596  1.0  1.6  .631  2.4  3.8   6.2  4.2  1.1  0.6  2.0  2.4  12.2\n",
       "85  37  20  21.2   3.6   6.7  .540  0.1  0.7  .120  3.5   6.0  .587  1.6  2.2  .735  2.6  4.4   7.0  1.9  0.6  0.4  1.0  2.4   9.0\n",
       "\n",
       "[86 rows x 24 columns]"
      ],
      "text/html": "<div>\n<style scoped>\n    .dataframe tbody tr th:only-of-type {\n        vertical-align: middle;\n    }\n\n    .dataframe tbody tr th {\n        vertical-align: top;\n    }\n\n    .dataframe thead th {\n        text-align: right;\n    }\n</style>\n<table border=\"1\" class=\"dataframe\">\n  <thead>\n    <tr style=\"text-align: right;\">\n      <th></th>\n      <th>G</th>\n      <th>GS</th>\n      <th>MP</th>\n      <th>FG</th>\n      <th>FGA</th>\n      <th>FG%</th>\n      <th>3P</th>\n      <th>3PA</th>\n      <th>3P%</th>\n      <th>2P</th>\n      <th>2PA</th>\n      <th>2P%</th>\n      <th>FT</th>\n      <th>FTA</th>\n      <th>FT%</th>\n      <th>ORB</th>\n      <th>DRB</th>\n      <th>TRB</th>\n      <th>AST</th>\n      <th>STL</th>\n      <th>BLK</th>\n      <th>TOV</th>\n      <th>PF</th>\n      <th>PTS</th>\n    </tr>\n  </thead>\n  <tbody>\n    <tr>\n      <th>0</th>\n      <td>54</td>\n      <td>54</td>\n      <td>28.1</td>\n      <td>3.4</td>\n      <td>5.4</td>\n      <td>.620</td>\n      <td>0.0</td>\n      <td>0.1</td>\n      <td>.000</td>\n      <td>3.4</td>\n      <td>5.4</td>\n      <td>.626</td>\n      <td>1.1</td>\n      <td>2.4</td>\n      <td>.442</td>\n      <td>3.8</td>\n      <td>5.2</td>\n      <td>9.0</td>\n      <td>2.0</td>\n      <td>0.9</td>\n      <td>0.7</td>\n      <td>1.4</td>\n      <td>2.0</td>\n      <td>7.8</td>\n    </tr>\n    <tr>\n      <th>1</th>\n      <td>48</td>\n      <td>48</td>\n      <td>33.7</td>\n      <td>10.4</td>\n      <td>18.4</td>\n      <td>.564</td>\n      <td>1.1</td>\n      <td>3.6</td>\n      <td>.297</td>\n      <td>9.3</td>\n      <td>14.7</td>\n      <td>.630</td>\n      <td>6.8</td>\n      <td>9.8</td>\n      <td>.688</td>\n      <td>1.7</td>\n      <td>9.4</td>\n      <td>11.2</td>\n      <td>6.0</td>\n      <td>1.1</td>\n      <td>1.3</td>\n      <td>3.7</td>\n      <td>2.8</td>\n      <td>28.5</td>\n    </tr>\n    <tr>\n      <th>2</th>\n      <td>18</td>\n      <td>15</td>\n      <td>26.6</td>\n      <td>2.8</td>\n      <td>7.2</td>\n      <td>.385</td>\n      <td>1.5</td>\n      <td>4.1</td>\n      <td>.365</td>\n      <td>1.3</td>\n      <td>3.1</td>\n      <td>.411</td>\n      <td>1.2</td>\n      <td>1.6</td>\n      <td>.750</td>\n      <td>0.7</td>\n      <td>3.5</td>\n      <td>4.2</td>\n      <td>1.7</td>\n      <td>0.7</td>\n      <td>0.6</td>\n      <td>0.7</td>\n      <td>1.6</td>\n      <td>8.2</td>\n    </tr>\n    <tr>\n      <th>3</th>\n      <td>37</td>\n      <td>37</td>\n      <td>25.7</td>\n      <td>5.6</td>\n      <td>11.2</td>\n      <td>.502</td>\n      <td>0.9</td>\n      <td>2.6</td>\n      <td>.354</td>\n      <td>4.7</td>\n      <td>8.6</td>\n      <td>.547</td>\n      <td>1.6</td>\n      <td>2.9</td>\n      <td>.560</td>\n      <td>2.5</td>\n      <td>5.0</td>\n      <td>7.4</td>\n      <td>0.9</td>\n      <td>0.5</td>\n      <td>0.5</td>\n      <td>1.3</td>\n      <td>2.4</td>\n      <td>13.9</td>\n    </tr>\n    <tr>\n      <th>4</th>\n      <td>56</td>\n      <td>56</td>\n      <td>36.4</td>\n      <td>5.4</td>\n      <td>11.0</td>\n      <td>.494</td>\n      <td>1.6</td>\n      <td>4.3</td>\n      <td>.379</td>\n      <td>3.8</td>\n      <td>6.7</td>\n      <td>.568</td>\n      <td>3.4</td>\n      <td>4.1</td>\n      <td>.827</td>\n      <td>1.1</td>\n      <td>5.5</td>\n      <td>6.6</td>\n      <td>3.5</td>\n      <td>0.8</td>\n      <td>0.2</td>\n      <td>1.6</td>\n      <td>1.3</td>\n      <td>15.9</td>\n    </tr>\n    <tr>\n      <th>...</th>\n      <td>...</td>\n      <td>...</td>\n      <td>...</td>\n      <td>...</td>\n      <td>...</td>\n      <td>...</td>\n      <td>...</td>\n      <td>...</td>\n      <td>...</td>\n      <td>...</td>\n      <td>...</td>\n      <td>...</td>\n      <td>...</td>\n      <td>...</td>\n      <td>...</td>\n      <td>...</td>\n      <td>...</td>\n      <td>...</td>\n      <td>...</td>\n      <td>...</td>\n      <td>...</td>\n      <td>...</td>\n      <td>...</td>\n      <td>...</td>\n    </tr>\n    <tr>\n      <th>81</th>\n      <td>59</td>\n      <td>59</td>\n      <td>32.9</td>\n      <td>6.8</td>\n      <td>14.5</td>\n      <td>.472</td>\n      <td>2.0</td>\n      <td>5.2</td>\n      <td>.379</td>\n      <td>4.9</td>\n      <td>9.3</td>\n      <td>.524</td>\n      <td>2.4</td>\n      <td>3.5</td>\n      <td>.701</td>\n      <td>1.0</td>\n      <td>3.8</td>\n      <td>4.8</td>\n      <td>2.3</td>\n      <td>1.0</td>\n      <td>0.9</td>\n      <td>1.8</td>\n      <td>2.2</td>\n      <td>18.1</td>\n    </tr>\n    <tr>\n      <th>82</th>\n      <td>18</td>\n      <td>0</td>\n      <td>20.6</td>\n      <td>3.0</td>\n      <td>8.6</td>\n      <td>.348</td>\n      <td>0.3</td>\n      <td>2.3</td>\n      <td>.122</td>\n      <td>2.7</td>\n      <td>6.3</td>\n      <td>.430</td>\n      <td>0.6</td>\n      <td>1.0</td>\n      <td>.556</td>\n      <td>0.7</td>\n      <td>3.7</td>\n      <td>4.4</td>\n      <td>1.8</td>\n      <td>0.7</td>\n      <td>0.4</td>\n      <td>1.7</td>\n      <td>1.9</td>\n      <td>6.8</td>\n    </tr>\n    <tr>\n      <th>83</th>\n      <td>36</td>\n      <td>36</td>\n      <td>31.9</td>\n      <td>8.1</td>\n      <td>15.3</td>\n      <td>.529</td>\n      <td>1.8</td>\n      <td>4.8</td>\n      <td>.380</td>\n      <td>6.3</td>\n      <td>10.6</td>\n      <td>.596</td>\n      <td>2.9</td>\n      <td>4.6</td>\n      <td>.628</td>\n      <td>1.7</td>\n      <td>7.6</td>\n      <td>9.3</td>\n      <td>1.5</td>\n      <td>0.9</td>\n      <td>1.3</td>\n      <td>1.8</td>\n      <td>2.1</td>\n      <td>20.9</td>\n    </tr>\n    <tr>\n      <th>84</th>\n      <td>54</td>\n      <td>17</td>\n      <td>24.1</td>\n      <td>5.5</td>\n      <td>9.6</td>\n      <td>.574</td>\n      <td>0.2</td>\n      <td>0.6</td>\n      <td>.265</td>\n      <td>5.4</td>\n      <td>9.0</td>\n      <td>.596</td>\n      <td>1.0</td>\n      <td>1.6</td>\n      <td>.631</td>\n      <td>2.4</td>\n      <td>3.8</td>\n      <td>6.2</td>\n      <td>4.2</td>\n      <td>1.1</td>\n      <td>0.6</td>\n      <td>2.0</td>\n      <td>2.4</td>\n      <td>12.2</td>\n    </tr>\n    <tr>\n      <th>85</th>\n      <td>37</td>\n      <td>20</td>\n      <td>21.2</td>\n      <td>3.6</td>\n      <td>6.7</td>\n      <td>.540</td>\n      <td>0.1</td>\n      <td>0.7</td>\n      <td>.120</td>\n      <td>3.5</td>\n      <td>6.0</td>\n      <td>.587</td>\n      <td>1.6</td>\n      <td>2.2</td>\n      <td>.735</td>\n      <td>2.6</td>\n      <td>4.4</td>\n      <td>7.0</td>\n      <td>1.9</td>\n      <td>0.6</td>\n      <td>0.4</td>\n      <td>1.0</td>\n      <td>2.4</td>\n      <td>9.0</td>\n    </tr>\n  </tbody>\n</table>\n<p>86 rows × 24 columns</p>\n</div>"
     },
     "metadata": {},
     "execution_count": 69
    }
   ],
   "source": [
    "forward_model = linearModel(nba_data)\r\n",
    "forward_model.prepare_data()\r\n",
    "forward_model.train_test_split()\r\n",
    "forward_model.create_model()\r\n",
    "forward_model.feature_selection('forward')\r\n",
    "forward_model.predict()\r\n",
    "forward_model.calc_r_squared()\r\n",
    "print('Foward model R Squared value: ' + str(forward_model.r_squared))"
   ]
  },
  {
   "cell_type": "code",
   "execution_count": 75,
   "metadata": {},
   "outputs": [
    {
     "output_type": "error",
     "ename": "ValueError",
     "evalue": "could not convert string to float: ''",
     "traceback": [
      "\u001b[1;31m---------------------------------------------------------------------------\u001b[0m",
      "\u001b[1;31mValueError\u001b[0m                                Traceback (most recent call last)",
      "\u001b[1;32m<ipython-input-75-4d064af2f53b>\u001b[0m in \u001b[0;36m<module>\u001b[1;34m\u001b[0m\n\u001b[0;32m      2\u001b[0m \u001b[0mbackward_model\u001b[0m\u001b[1;33m.\u001b[0m\u001b[0mprepare_data\u001b[0m\u001b[1;33m(\u001b[0m\u001b[1;33m)\u001b[0m\u001b[1;33m\u001b[0m\u001b[1;33m\u001b[0m\u001b[0m\n\u001b[0;32m      3\u001b[0m \u001b[0mbackward_model\u001b[0m\u001b[1;33m.\u001b[0m\u001b[0mtrain_test_split\u001b[0m\u001b[1;33m(\u001b[0m\u001b[1;33m)\u001b[0m\u001b[1;33m\u001b[0m\u001b[1;33m\u001b[0m\u001b[0m\n\u001b[1;32m----> 4\u001b[1;33m \u001b[0mbackward_model\u001b[0m\u001b[1;33m.\u001b[0m\u001b[0mcreate_model\u001b[0m\u001b[1;33m(\u001b[0m\u001b[1;33m)\u001b[0m\u001b[1;33m\u001b[0m\u001b[1;33m\u001b[0m\u001b[0m\n\u001b[0m\u001b[0;32m      5\u001b[0m \u001b[0mbackward_model\u001b[0m\u001b[1;33m.\u001b[0m\u001b[0mfeature_selection\u001b[0m\u001b[1;33m(\u001b[0m\u001b[1;34m'backward'\u001b[0m\u001b[1;33m)\u001b[0m\u001b[1;33m\u001b[0m\u001b[1;33m\u001b[0m\u001b[0m\n\u001b[0;32m      6\u001b[0m \u001b[0mbackward_model\u001b[0m\u001b[1;33m.\u001b[0m\u001b[0mpredict\u001b[0m\u001b[1;33m(\u001b[0m\u001b[1;33m)\u001b[0m\u001b[1;33m\u001b[0m\u001b[1;33m\u001b[0m\u001b[0m\n",
      "\u001b[1;32m<ipython-input-72-9fc758a95bf7>\u001b[0m in \u001b[0;36mcreate_model\u001b[1;34m(self)\u001b[0m\n\u001b[0;32m     15\u001b[0m \u001b[1;33m\u001b[0m\u001b[0m\n\u001b[0;32m     16\u001b[0m     \u001b[1;32mdef\u001b[0m \u001b[0mcreate_model\u001b[0m\u001b[1;33m(\u001b[0m\u001b[0mself\u001b[0m\u001b[1;33m)\u001b[0m\u001b[1;33m:\u001b[0m\u001b[1;33m\u001b[0m\u001b[1;33m\u001b[0m\u001b[0m\n\u001b[1;32m---> 17\u001b[1;33m         \u001b[0mself\u001b[0m\u001b[1;33m.\u001b[0m\u001b[0mmodel\u001b[0m \u001b[1;33m=\u001b[0m \u001b[0mLinearRegression\u001b[0m\u001b[1;33m(\u001b[0m\u001b[1;33m)\u001b[0m\u001b[1;33m.\u001b[0m\u001b[0mfit\u001b[0m\u001b[1;33m(\u001b[0m\u001b[0mself\u001b[0m\u001b[1;33m.\u001b[0m\u001b[0mX_train\u001b[0m\u001b[1;33m,\u001b[0m \u001b[0mself\u001b[0m\u001b[1;33m.\u001b[0m\u001b[0mY_train\u001b[0m\u001b[1;33m)\u001b[0m\u001b[1;33m\u001b[0m\u001b[1;33m\u001b[0m\u001b[0m\n\u001b[0m\u001b[0;32m     18\u001b[0m \u001b[1;33m\u001b[0m\u001b[0m\n\u001b[0;32m     19\u001b[0m     \u001b[1;32mdef\u001b[0m \u001b[0mfeature_selection\u001b[0m\u001b[1;33m(\u001b[0m\u001b[0mself\u001b[0m\u001b[1;33m,\u001b[0m \u001b[0mdirection\u001b[0m\u001b[1;33m=\u001b[0m\u001b[1;32mNone\u001b[0m\u001b[1;33m)\u001b[0m\u001b[1;33m:\u001b[0m\u001b[1;33m\u001b[0m\u001b[1;33m\u001b[0m\u001b[0m\n",
      "\u001b[1;32m~\\anaconda3\\lib\\site-packages\\sklearn\\linear_model\\_base.py\u001b[0m in \u001b[0;36mfit\u001b[1;34m(self, X, y, sample_weight)\u001b[0m\n\u001b[0;32m    503\u001b[0m \u001b[1;33m\u001b[0m\u001b[0m\n\u001b[0;32m    504\u001b[0m         \u001b[0mn_jobs_\u001b[0m \u001b[1;33m=\u001b[0m \u001b[0mself\u001b[0m\u001b[1;33m.\u001b[0m\u001b[0mn_jobs\u001b[0m\u001b[1;33m\u001b[0m\u001b[1;33m\u001b[0m\u001b[0m\n\u001b[1;32m--> 505\u001b[1;33m         X, y = self._validate_data(X, y, accept_sparse=['csr', 'csc', 'coo'],\n\u001b[0m\u001b[0;32m    506\u001b[0m                                    y_numeric=True, multi_output=True)\n\u001b[0;32m    507\u001b[0m \u001b[1;33m\u001b[0m\u001b[0m\n",
      "\u001b[1;32m~\\anaconda3\\lib\\site-packages\\sklearn\\base.py\u001b[0m in \u001b[0;36m_validate_data\u001b[1;34m(self, X, y, reset, validate_separately, **check_params)\u001b[0m\n\u001b[0;32m    430\u001b[0m                 \u001b[0my\u001b[0m \u001b[1;33m=\u001b[0m \u001b[0mcheck_array\u001b[0m\u001b[1;33m(\u001b[0m\u001b[0my\u001b[0m\u001b[1;33m,\u001b[0m \u001b[1;33m**\u001b[0m\u001b[0mcheck_y_params\u001b[0m\u001b[1;33m)\u001b[0m\u001b[1;33m\u001b[0m\u001b[1;33m\u001b[0m\u001b[0m\n\u001b[0;32m    431\u001b[0m             \u001b[1;32melse\u001b[0m\u001b[1;33m:\u001b[0m\u001b[1;33m\u001b[0m\u001b[1;33m\u001b[0m\u001b[0m\n\u001b[1;32m--> 432\u001b[1;33m                 \u001b[0mX\u001b[0m\u001b[1;33m,\u001b[0m \u001b[0my\u001b[0m \u001b[1;33m=\u001b[0m \u001b[0mcheck_X_y\u001b[0m\u001b[1;33m(\u001b[0m\u001b[0mX\u001b[0m\u001b[1;33m,\u001b[0m \u001b[0my\u001b[0m\u001b[1;33m,\u001b[0m \u001b[1;33m**\u001b[0m\u001b[0mcheck_params\u001b[0m\u001b[1;33m)\u001b[0m\u001b[1;33m\u001b[0m\u001b[1;33m\u001b[0m\u001b[0m\n\u001b[0m\u001b[0;32m    433\u001b[0m             \u001b[0mout\u001b[0m \u001b[1;33m=\u001b[0m \u001b[0mX\u001b[0m\u001b[1;33m,\u001b[0m \u001b[0my\u001b[0m\u001b[1;33m\u001b[0m\u001b[1;33m\u001b[0m\u001b[0m\n\u001b[0;32m    434\u001b[0m \u001b[1;33m\u001b[0m\u001b[0m\n",
      "\u001b[1;32m~\\anaconda3\\lib\\site-packages\\sklearn\\utils\\validation.py\u001b[0m in \u001b[0;36minner_f\u001b[1;34m(*args, **kwargs)\u001b[0m\n\u001b[0;32m     70\u001b[0m                           FutureWarning)\n\u001b[0;32m     71\u001b[0m         \u001b[0mkwargs\u001b[0m\u001b[1;33m.\u001b[0m\u001b[0mupdate\u001b[0m\u001b[1;33m(\u001b[0m\u001b[1;33m{\u001b[0m\u001b[0mk\u001b[0m\u001b[1;33m:\u001b[0m \u001b[0marg\u001b[0m \u001b[1;32mfor\u001b[0m \u001b[0mk\u001b[0m\u001b[1;33m,\u001b[0m \u001b[0marg\u001b[0m \u001b[1;32min\u001b[0m \u001b[0mzip\u001b[0m\u001b[1;33m(\u001b[0m\u001b[0msig\u001b[0m\u001b[1;33m.\u001b[0m\u001b[0mparameters\u001b[0m\u001b[1;33m,\u001b[0m \u001b[0margs\u001b[0m\u001b[1;33m)\u001b[0m\u001b[1;33m}\u001b[0m\u001b[1;33m)\u001b[0m\u001b[1;33m\u001b[0m\u001b[1;33m\u001b[0m\u001b[0m\n\u001b[1;32m---> 72\u001b[1;33m         \u001b[1;32mreturn\u001b[0m \u001b[0mf\u001b[0m\u001b[1;33m(\u001b[0m\u001b[1;33m**\u001b[0m\u001b[0mkwargs\u001b[0m\u001b[1;33m)\u001b[0m\u001b[1;33m\u001b[0m\u001b[1;33m\u001b[0m\u001b[0m\n\u001b[0m\u001b[0;32m     73\u001b[0m     \u001b[1;32mreturn\u001b[0m \u001b[0minner_f\u001b[0m\u001b[1;33m\u001b[0m\u001b[1;33m\u001b[0m\u001b[0m\n\u001b[0;32m     74\u001b[0m \u001b[1;33m\u001b[0m\u001b[0m\n",
      "\u001b[1;32m~\\anaconda3\\lib\\site-packages\\sklearn\\utils\\validation.py\u001b[0m in \u001b[0;36mcheck_X_y\u001b[1;34m(X, y, accept_sparse, accept_large_sparse, dtype, order, copy, force_all_finite, ensure_2d, allow_nd, multi_output, ensure_min_samples, ensure_min_features, y_numeric, estimator)\u001b[0m\n\u001b[0;32m    793\u001b[0m         \u001b[1;32mraise\u001b[0m \u001b[0mValueError\u001b[0m\u001b[1;33m(\u001b[0m\u001b[1;34m\"y cannot be None\"\u001b[0m\u001b[1;33m)\u001b[0m\u001b[1;33m\u001b[0m\u001b[1;33m\u001b[0m\u001b[0m\n\u001b[0;32m    794\u001b[0m \u001b[1;33m\u001b[0m\u001b[0m\n\u001b[1;32m--> 795\u001b[1;33m     X = check_array(X, accept_sparse=accept_sparse,\n\u001b[0m\u001b[0;32m    796\u001b[0m                     \u001b[0maccept_large_sparse\u001b[0m\u001b[1;33m=\u001b[0m\u001b[0maccept_large_sparse\u001b[0m\u001b[1;33m,\u001b[0m\u001b[1;33m\u001b[0m\u001b[1;33m\u001b[0m\u001b[0m\n\u001b[0;32m    797\u001b[0m                     \u001b[0mdtype\u001b[0m\u001b[1;33m=\u001b[0m\u001b[0mdtype\u001b[0m\u001b[1;33m,\u001b[0m \u001b[0morder\u001b[0m\u001b[1;33m=\u001b[0m\u001b[0morder\u001b[0m\u001b[1;33m,\u001b[0m \u001b[0mcopy\u001b[0m\u001b[1;33m=\u001b[0m\u001b[0mcopy\u001b[0m\u001b[1;33m,\u001b[0m\u001b[1;33m\u001b[0m\u001b[1;33m\u001b[0m\u001b[0m\n",
      "\u001b[1;32m~\\anaconda3\\lib\\site-packages\\sklearn\\utils\\validation.py\u001b[0m in \u001b[0;36minner_f\u001b[1;34m(*args, **kwargs)\u001b[0m\n\u001b[0;32m     70\u001b[0m                           FutureWarning)\n\u001b[0;32m     71\u001b[0m         \u001b[0mkwargs\u001b[0m\u001b[1;33m.\u001b[0m\u001b[0mupdate\u001b[0m\u001b[1;33m(\u001b[0m\u001b[1;33m{\u001b[0m\u001b[0mk\u001b[0m\u001b[1;33m:\u001b[0m \u001b[0marg\u001b[0m \u001b[1;32mfor\u001b[0m \u001b[0mk\u001b[0m\u001b[1;33m,\u001b[0m \u001b[0marg\u001b[0m \u001b[1;32min\u001b[0m \u001b[0mzip\u001b[0m\u001b[1;33m(\u001b[0m\u001b[0msig\u001b[0m\u001b[1;33m.\u001b[0m\u001b[0mparameters\u001b[0m\u001b[1;33m,\u001b[0m \u001b[0margs\u001b[0m\u001b[1;33m)\u001b[0m\u001b[1;33m}\u001b[0m\u001b[1;33m)\u001b[0m\u001b[1;33m\u001b[0m\u001b[1;33m\u001b[0m\u001b[0m\n\u001b[1;32m---> 72\u001b[1;33m         \u001b[1;32mreturn\u001b[0m \u001b[0mf\u001b[0m\u001b[1;33m(\u001b[0m\u001b[1;33m**\u001b[0m\u001b[0mkwargs\u001b[0m\u001b[1;33m)\u001b[0m\u001b[1;33m\u001b[0m\u001b[1;33m\u001b[0m\u001b[0m\n\u001b[0m\u001b[0;32m     73\u001b[0m     \u001b[1;32mreturn\u001b[0m \u001b[0minner_f\u001b[0m\u001b[1;33m\u001b[0m\u001b[1;33m\u001b[0m\u001b[0m\n\u001b[0;32m     74\u001b[0m \u001b[1;33m\u001b[0m\u001b[0m\n",
      "\u001b[1;32m~\\anaconda3\\lib\\site-packages\\sklearn\\utils\\validation.py\u001b[0m in \u001b[0;36mcheck_array\u001b[1;34m(array, accept_sparse, accept_large_sparse, dtype, order, copy, force_all_finite, ensure_2d, allow_nd, ensure_min_samples, ensure_min_features, estimator)\u001b[0m\n\u001b[0;32m    596\u001b[0m                     \u001b[0marray\u001b[0m \u001b[1;33m=\u001b[0m \u001b[0marray\u001b[0m\u001b[1;33m.\u001b[0m\u001b[0mastype\u001b[0m\u001b[1;33m(\u001b[0m\u001b[0mdtype\u001b[0m\u001b[1;33m,\u001b[0m \u001b[0mcasting\u001b[0m\u001b[1;33m=\u001b[0m\u001b[1;34m\"unsafe\"\u001b[0m\u001b[1;33m,\u001b[0m \u001b[0mcopy\u001b[0m\u001b[1;33m=\u001b[0m\u001b[1;32mFalse\u001b[0m\u001b[1;33m)\u001b[0m\u001b[1;33m\u001b[0m\u001b[1;33m\u001b[0m\u001b[0m\n\u001b[0;32m    597\u001b[0m                 \u001b[1;32melse\u001b[0m\u001b[1;33m:\u001b[0m\u001b[1;33m\u001b[0m\u001b[1;33m\u001b[0m\u001b[0m\n\u001b[1;32m--> 598\u001b[1;33m                     \u001b[0marray\u001b[0m \u001b[1;33m=\u001b[0m \u001b[0mnp\u001b[0m\u001b[1;33m.\u001b[0m\u001b[0masarray\u001b[0m\u001b[1;33m(\u001b[0m\u001b[0marray\u001b[0m\u001b[1;33m,\u001b[0m \u001b[0morder\u001b[0m\u001b[1;33m=\u001b[0m\u001b[0morder\u001b[0m\u001b[1;33m,\u001b[0m \u001b[0mdtype\u001b[0m\u001b[1;33m=\u001b[0m\u001b[0mdtype\u001b[0m\u001b[1;33m)\u001b[0m\u001b[1;33m\u001b[0m\u001b[1;33m\u001b[0m\u001b[0m\n\u001b[0m\u001b[0;32m    599\u001b[0m             \u001b[1;32mexcept\u001b[0m \u001b[0mComplexWarning\u001b[0m\u001b[1;33m:\u001b[0m\u001b[1;33m\u001b[0m\u001b[1;33m\u001b[0m\u001b[0m\n\u001b[0;32m    600\u001b[0m                 raise ValueError(\"Complex data not supported\\n\"\n",
      "\u001b[1;32m~\\anaconda3\\lib\\site-packages\\numpy\\core\\_asarray.py\u001b[0m in \u001b[0;36masarray\u001b[1;34m(a, dtype, order)\u001b[0m\n\u001b[0;32m     81\u001b[0m \u001b[1;33m\u001b[0m\u001b[0m\n\u001b[0;32m     82\u001b[0m     \"\"\"\n\u001b[1;32m---> 83\u001b[1;33m     \u001b[1;32mreturn\u001b[0m \u001b[0marray\u001b[0m\u001b[1;33m(\u001b[0m\u001b[0ma\u001b[0m\u001b[1;33m,\u001b[0m \u001b[0mdtype\u001b[0m\u001b[1;33m,\u001b[0m \u001b[0mcopy\u001b[0m\u001b[1;33m=\u001b[0m\u001b[1;32mFalse\u001b[0m\u001b[1;33m,\u001b[0m \u001b[0morder\u001b[0m\u001b[1;33m=\u001b[0m\u001b[0morder\u001b[0m\u001b[1;33m)\u001b[0m\u001b[1;33m\u001b[0m\u001b[1;33m\u001b[0m\u001b[0m\n\u001b[0m\u001b[0;32m     84\u001b[0m \u001b[1;33m\u001b[0m\u001b[0m\n\u001b[0;32m     85\u001b[0m \u001b[1;33m\u001b[0m\u001b[0m\n",
      "\u001b[1;32m~\\anaconda3\\lib\\site-packages\\pandas\\core\\generic.py\u001b[0m in \u001b[0;36m__array__\u001b[1;34m(self, dtype)\u001b[0m\n\u001b[0;32m   1779\u001b[0m \u001b[1;33m\u001b[0m\u001b[0m\n\u001b[0;32m   1780\u001b[0m     \u001b[1;32mdef\u001b[0m \u001b[0m__array__\u001b[0m\u001b[1;33m(\u001b[0m\u001b[0mself\u001b[0m\u001b[1;33m,\u001b[0m \u001b[0mdtype\u001b[0m\u001b[1;33m=\u001b[0m\u001b[1;32mNone\u001b[0m\u001b[1;33m)\u001b[0m \u001b[1;33m->\u001b[0m \u001b[0mnp\u001b[0m\u001b[1;33m.\u001b[0m\u001b[0mndarray\u001b[0m\u001b[1;33m:\u001b[0m\u001b[1;33m\u001b[0m\u001b[1;33m\u001b[0m\u001b[0m\n\u001b[1;32m-> 1781\u001b[1;33m         \u001b[1;32mreturn\u001b[0m \u001b[0mnp\u001b[0m\u001b[1;33m.\u001b[0m\u001b[0masarray\u001b[0m\u001b[1;33m(\u001b[0m\u001b[0mself\u001b[0m\u001b[1;33m.\u001b[0m\u001b[0m_values\u001b[0m\u001b[1;33m,\u001b[0m \u001b[0mdtype\u001b[0m\u001b[1;33m=\u001b[0m\u001b[0mdtype\u001b[0m\u001b[1;33m)\u001b[0m\u001b[1;33m\u001b[0m\u001b[1;33m\u001b[0m\u001b[0m\n\u001b[0m\u001b[0;32m   1782\u001b[0m \u001b[1;33m\u001b[0m\u001b[0m\n\u001b[0;32m   1783\u001b[0m     \u001b[1;32mdef\u001b[0m \u001b[0m__array_wrap__\u001b[0m\u001b[1;33m(\u001b[0m\u001b[0mself\u001b[0m\u001b[1;33m,\u001b[0m \u001b[0mresult\u001b[0m\u001b[1;33m,\u001b[0m \u001b[0mcontext\u001b[0m\u001b[1;33m=\u001b[0m\u001b[1;32mNone\u001b[0m\u001b[1;33m)\u001b[0m\u001b[1;33m:\u001b[0m\u001b[1;33m\u001b[0m\u001b[1;33m\u001b[0m\u001b[0m\n",
      "\u001b[1;32m~\\anaconda3\\lib\\site-packages\\numpy\\core\\_asarray.py\u001b[0m in \u001b[0;36masarray\u001b[1;34m(a, dtype, order)\u001b[0m\n\u001b[0;32m     81\u001b[0m \u001b[1;33m\u001b[0m\u001b[0m\n\u001b[0;32m     82\u001b[0m     \"\"\"\n\u001b[1;32m---> 83\u001b[1;33m     \u001b[1;32mreturn\u001b[0m \u001b[0marray\u001b[0m\u001b[1;33m(\u001b[0m\u001b[0ma\u001b[0m\u001b[1;33m,\u001b[0m \u001b[0mdtype\u001b[0m\u001b[1;33m,\u001b[0m \u001b[0mcopy\u001b[0m\u001b[1;33m=\u001b[0m\u001b[1;32mFalse\u001b[0m\u001b[1;33m,\u001b[0m \u001b[0morder\u001b[0m\u001b[1;33m=\u001b[0m\u001b[0morder\u001b[0m\u001b[1;33m)\u001b[0m\u001b[1;33m\u001b[0m\u001b[1;33m\u001b[0m\u001b[0m\n\u001b[0m\u001b[0;32m     84\u001b[0m \u001b[1;33m\u001b[0m\u001b[0m\n\u001b[0;32m     85\u001b[0m \u001b[1;33m\u001b[0m\u001b[0m\n",
      "\u001b[1;31mValueError\u001b[0m: could not convert string to float: ''"
     ]
    }
   ],
   "source": [
    "backward_model = linearModel(nba_df)\n",
    "backward_model.prepare_data()\n",
    "backward_model.train_test_split()\n",
    "backward_model.create_model()\n",
    "backward_model.feature_selection('backward')\n",
    "backward_model.predict()\n",
    "backward_model.calc_r_squared()\n",
    "print('Backward model R Squared value: ' + str(backward_model.r_squared))"
   ]
  },
  {
   "cell_type": "code",
   "execution_count": 62,
   "metadata": {},
   "outputs": [
    {
     "output_type": "execute_result",
     "data": {
      "text/plain": [
       "                   Player   G  GS    MP    FG   FGA   FG%   3P  3PA   3P%   2P   2PA   2P%   FT  FTA   FT%  ORB  DRB   TRB  AST  STL  BLK  TOV   PF   PTS League   Team Position   Age     Avg_Salary  salary_float  salary_ratio\n",
       "0            Steven Adams  54  54  28.1   3.4   5.4  .620  0.0  0.1  .000  3.4   5.4  .626  1.1  2.4  .442  3.8  5.2   9.0  2.0  0.9  0.7  1.4  2.0   7.8    NBA    NOP        C   27   $25,000,000      25000000.0       0.00338\n",
       "1   Giannis Antetokounmpo  48  48  33.7  10.4  18.4  .564  1.1  3.6  .297  9.3  14.7  .630  6.8  9.8  .688  1.7  9.4  11.2  6.0  1.1  1.3  3.7  2.8  28.5    NBA    MIL        F   25   $25,000,000      25000000.0       0.00338\n",
       "2            Trevor Ariza  18  15  26.6   2.8   7.2  .385  1.5  4.1  .365  1.3   3.1  .411  1.2  1.6  .750  0.7  3.5   4.2  1.7  0.7  0.6  0.7  1.6   8.2    NBA    MIA        F   35   $12,500,000      12500000.0       0.00169\n",
       "3       Marvin Bagley III  37  37  25.7   5.6  11.2  .502  0.9  2.6  .354  4.7   8.6  .547  1.6  2.9  .560  2.5  5.0   7.4  0.9  0.5  0.5  1.3  2.4  13.9    NBA    SAC        F   21   $12,724,946      12724946.0       0.00172\n",
       "4         Harrison Barnes  56  56  36.4   5.4  11.0  .494  1.6  4.3  .379  3.8   6.7  .568  3.4  4.1  .827  1.1  5.5   6.6  3.5  0.8  0.2  1.6  1.3  15.9    NBA    SAC        F   28   $21,250,000      21250000.0       0.00287\n",
       "..                    ...  ..  ..   ...   ...   ...   ...  ...  ...   ...  ...   ...   ...  ...  ...   ...  ...  ...   ...  ...  ...  ...  ...  ...   ...    ...    ...      ...   ...            ...           ...           ...\n",
       "81         Andrew Wiggins  59  59  32.9   6.8  14.5  .472  2.0  5.2  .379  4.9   9.3  .524  2.4  3.5  .701  1.0  3.8   4.8  2.3  1.0  0.9  1.8  2.2  18.1    NBA    GSW        F   25   $29,542,010      29542010.0       0.00399\n",
       "82        Justise Winslow  18   0  20.6   3.0   8.6  .348  0.3  2.3  .122  2.7   6.3  .430  0.6  1.0  .556  0.7  3.7   4.4  1.8  0.7  0.4  1.7  1.9   6.8    NBA    MEM        F   24   $13,000,000      13000000.0       0.00176\n",
       "83         Christian Wood  36  36  31.9   8.1  15.3  .529  1.8  4.8  .380  6.3  10.6  .596  2.9  4.6  .628  1.7  7.6   9.3  1.5  0.9  1.3  1.8  2.1  20.9    NBA    HOU        F   25   $13,666,667      13666667.0       0.00185\n",
       "84         Thaddeus Young  54  17  24.1   5.5   9.6  .574  0.2  0.6  .265  5.4   9.0  .596  1.0  1.6  .631  2.4  3.8   6.2  4.2  1.1  0.6  2.0  2.4  12.2    NBA    CHI        F   32   $14,545,000      14545000.0       0.00197\n",
       "85            Cody Zeller  37  20  21.2   3.6   6.7  .540  0.1  0.7  .120  3.5   6.0  .587  1.6  2.2  .735  2.6  4.4   7.0  1.9  0.6  0.4  1.0  2.4   9.0    NBA    CHA        C   27   $14,000,000      14000000.0       0.00189\n",
       "\n",
       "[86 rows x 32 columns]"
      ],
      "text/html": "<div>\n<style scoped>\n    .dataframe tbody tr th:only-of-type {\n        vertical-align: middle;\n    }\n\n    .dataframe tbody tr th {\n        vertical-align: top;\n    }\n\n    .dataframe thead th {\n        text-align: right;\n    }\n</style>\n<table border=\"1\" class=\"dataframe\">\n  <thead>\n    <tr style=\"text-align: right;\">\n      <th></th>\n      <th>Player</th>\n      <th>G</th>\n      <th>GS</th>\n      <th>MP</th>\n      <th>FG</th>\n      <th>FGA</th>\n      <th>FG%</th>\n      <th>3P</th>\n      <th>3PA</th>\n      <th>3P%</th>\n      <th>2P</th>\n      <th>2PA</th>\n      <th>2P%</th>\n      <th>FT</th>\n      <th>FTA</th>\n      <th>FT%</th>\n      <th>ORB</th>\n      <th>DRB</th>\n      <th>TRB</th>\n      <th>AST</th>\n      <th>STL</th>\n      <th>BLK</th>\n      <th>TOV</th>\n      <th>PF</th>\n      <th>PTS</th>\n      <th>League</th>\n      <th>Team</th>\n      <th>Position</th>\n      <th>Age</th>\n      <th>Avg_Salary</th>\n      <th>salary_float</th>\n      <th>salary_ratio</th>\n    </tr>\n  </thead>\n  <tbody>\n    <tr>\n      <th>0</th>\n      <td>Steven Adams</td>\n      <td>54</td>\n      <td>54</td>\n      <td>28.1</td>\n      <td>3.4</td>\n      <td>5.4</td>\n      <td>.620</td>\n      <td>0.0</td>\n      <td>0.1</td>\n      <td>.000</td>\n      <td>3.4</td>\n      <td>5.4</td>\n      <td>.626</td>\n      <td>1.1</td>\n      <td>2.4</td>\n      <td>.442</td>\n      <td>3.8</td>\n      <td>5.2</td>\n      <td>9.0</td>\n      <td>2.0</td>\n      <td>0.9</td>\n      <td>0.7</td>\n      <td>1.4</td>\n      <td>2.0</td>\n      <td>7.8</td>\n      <td>NBA</td>\n      <td>NOP</td>\n      <td>C</td>\n      <td>27</td>\n      <td>$25,000,000</td>\n      <td>25000000.0</td>\n      <td>0.00338</td>\n    </tr>\n    <tr>\n      <th>1</th>\n      <td>Giannis Antetokounmpo</td>\n      <td>48</td>\n      <td>48</td>\n      <td>33.7</td>\n      <td>10.4</td>\n      <td>18.4</td>\n      <td>.564</td>\n      <td>1.1</td>\n      <td>3.6</td>\n      <td>.297</td>\n      <td>9.3</td>\n      <td>14.7</td>\n      <td>.630</td>\n      <td>6.8</td>\n      <td>9.8</td>\n      <td>.688</td>\n      <td>1.7</td>\n      <td>9.4</td>\n      <td>11.2</td>\n      <td>6.0</td>\n      <td>1.1</td>\n      <td>1.3</td>\n      <td>3.7</td>\n      <td>2.8</td>\n      <td>28.5</td>\n      <td>NBA</td>\n      <td>MIL</td>\n      <td>F</td>\n      <td>25</td>\n      <td>$25,000,000</td>\n      <td>25000000.0</td>\n      <td>0.00338</td>\n    </tr>\n    <tr>\n      <th>2</th>\n      <td>Trevor Ariza</td>\n      <td>18</td>\n      <td>15</td>\n      <td>26.6</td>\n      <td>2.8</td>\n      <td>7.2</td>\n      <td>.385</td>\n      <td>1.5</td>\n      <td>4.1</td>\n      <td>.365</td>\n      <td>1.3</td>\n      <td>3.1</td>\n      <td>.411</td>\n      <td>1.2</td>\n      <td>1.6</td>\n      <td>.750</td>\n      <td>0.7</td>\n      <td>3.5</td>\n      <td>4.2</td>\n      <td>1.7</td>\n      <td>0.7</td>\n      <td>0.6</td>\n      <td>0.7</td>\n      <td>1.6</td>\n      <td>8.2</td>\n      <td>NBA</td>\n      <td>MIA</td>\n      <td>F</td>\n      <td>35</td>\n      <td>$12,500,000</td>\n      <td>12500000.0</td>\n      <td>0.00169</td>\n    </tr>\n    <tr>\n      <th>3</th>\n      <td>Marvin Bagley III</td>\n      <td>37</td>\n      <td>37</td>\n      <td>25.7</td>\n      <td>5.6</td>\n      <td>11.2</td>\n      <td>.502</td>\n      <td>0.9</td>\n      <td>2.6</td>\n      <td>.354</td>\n      <td>4.7</td>\n      <td>8.6</td>\n      <td>.547</td>\n      <td>1.6</td>\n      <td>2.9</td>\n      <td>.560</td>\n      <td>2.5</td>\n      <td>5.0</td>\n      <td>7.4</td>\n      <td>0.9</td>\n      <td>0.5</td>\n      <td>0.5</td>\n      <td>1.3</td>\n      <td>2.4</td>\n      <td>13.9</td>\n      <td>NBA</td>\n      <td>SAC</td>\n      <td>F</td>\n      <td>21</td>\n      <td>$12,724,946</td>\n      <td>12724946.0</td>\n      <td>0.00172</td>\n    </tr>\n    <tr>\n      <th>4</th>\n      <td>Harrison Barnes</td>\n      <td>56</td>\n      <td>56</td>\n      <td>36.4</td>\n      <td>5.4</td>\n      <td>11.0</td>\n      <td>.494</td>\n      <td>1.6</td>\n      <td>4.3</td>\n      <td>.379</td>\n      <td>3.8</td>\n      <td>6.7</td>\n      <td>.568</td>\n      <td>3.4</td>\n      <td>4.1</td>\n      <td>.827</td>\n      <td>1.1</td>\n      <td>5.5</td>\n      <td>6.6</td>\n      <td>3.5</td>\n      <td>0.8</td>\n      <td>0.2</td>\n      <td>1.6</td>\n      <td>1.3</td>\n      <td>15.9</td>\n      <td>NBA</td>\n      <td>SAC</td>\n      <td>F</td>\n      <td>28</td>\n      <td>$21,250,000</td>\n      <td>21250000.0</td>\n      <td>0.00287</td>\n    </tr>\n    <tr>\n      <th>...</th>\n      <td>...</td>\n      <td>...</td>\n      <td>...</td>\n      <td>...</td>\n      <td>...</td>\n      <td>...</td>\n      <td>...</td>\n      <td>...</td>\n      <td>...</td>\n      <td>...</td>\n      <td>...</td>\n      <td>...</td>\n      <td>...</td>\n      <td>...</td>\n      <td>...</td>\n      <td>...</td>\n      <td>...</td>\n      <td>...</td>\n      <td>...</td>\n      <td>...</td>\n      <td>...</td>\n      <td>...</td>\n      <td>...</td>\n      <td>...</td>\n      <td>...</td>\n      <td>...</td>\n      <td>...</td>\n      <td>...</td>\n      <td>...</td>\n      <td>...</td>\n      <td>...</td>\n      <td>...</td>\n    </tr>\n    <tr>\n      <th>81</th>\n      <td>Andrew Wiggins</td>\n      <td>59</td>\n      <td>59</td>\n      <td>32.9</td>\n      <td>6.8</td>\n      <td>14.5</td>\n      <td>.472</td>\n      <td>2.0</td>\n      <td>5.2</td>\n      <td>.379</td>\n      <td>4.9</td>\n      <td>9.3</td>\n      <td>.524</td>\n      <td>2.4</td>\n      <td>3.5</td>\n      <td>.701</td>\n      <td>1.0</td>\n      <td>3.8</td>\n      <td>4.8</td>\n      <td>2.3</td>\n      <td>1.0</td>\n      <td>0.9</td>\n      <td>1.8</td>\n      <td>2.2</td>\n      <td>18.1</td>\n      <td>NBA</td>\n      <td>GSW</td>\n      <td>F</td>\n      <td>25</td>\n      <td>$29,542,010</td>\n      <td>29542010.0</td>\n      <td>0.00399</td>\n    </tr>\n    <tr>\n      <th>82</th>\n      <td>Justise Winslow</td>\n      <td>18</td>\n      <td>0</td>\n      <td>20.6</td>\n      <td>3.0</td>\n      <td>8.6</td>\n      <td>.348</td>\n      <td>0.3</td>\n      <td>2.3</td>\n      <td>.122</td>\n      <td>2.7</td>\n      <td>6.3</td>\n      <td>.430</td>\n      <td>0.6</td>\n      <td>1.0</td>\n      <td>.556</td>\n      <td>0.7</td>\n      <td>3.7</td>\n      <td>4.4</td>\n      <td>1.8</td>\n      <td>0.7</td>\n      <td>0.4</td>\n      <td>1.7</td>\n      <td>1.9</td>\n      <td>6.8</td>\n      <td>NBA</td>\n      <td>MEM</td>\n      <td>F</td>\n      <td>24</td>\n      <td>$13,000,000</td>\n      <td>13000000.0</td>\n      <td>0.00176</td>\n    </tr>\n    <tr>\n      <th>83</th>\n      <td>Christian Wood</td>\n      <td>36</td>\n      <td>36</td>\n      <td>31.9</td>\n      <td>8.1</td>\n      <td>15.3</td>\n      <td>.529</td>\n      <td>1.8</td>\n      <td>4.8</td>\n      <td>.380</td>\n      <td>6.3</td>\n      <td>10.6</td>\n      <td>.596</td>\n      <td>2.9</td>\n      <td>4.6</td>\n      <td>.628</td>\n      <td>1.7</td>\n      <td>7.6</td>\n      <td>9.3</td>\n      <td>1.5</td>\n      <td>0.9</td>\n      <td>1.3</td>\n      <td>1.8</td>\n      <td>2.1</td>\n      <td>20.9</td>\n      <td>NBA</td>\n      <td>HOU</td>\n      <td>F</td>\n      <td>25</td>\n      <td>$13,666,667</td>\n      <td>13666667.0</td>\n      <td>0.00185</td>\n    </tr>\n    <tr>\n      <th>84</th>\n      <td>Thaddeus Young</td>\n      <td>54</td>\n      <td>17</td>\n      <td>24.1</td>\n      <td>5.5</td>\n      <td>9.6</td>\n      <td>.574</td>\n      <td>0.2</td>\n      <td>0.6</td>\n      <td>.265</td>\n      <td>5.4</td>\n      <td>9.0</td>\n      <td>.596</td>\n      <td>1.0</td>\n      <td>1.6</td>\n      <td>.631</td>\n      <td>2.4</td>\n      <td>3.8</td>\n      <td>6.2</td>\n      <td>4.2</td>\n      <td>1.1</td>\n      <td>0.6</td>\n      <td>2.0</td>\n      <td>2.4</td>\n      <td>12.2</td>\n      <td>NBA</td>\n      <td>CHI</td>\n      <td>F</td>\n      <td>32</td>\n      <td>$14,545,000</td>\n      <td>14545000.0</td>\n      <td>0.00197</td>\n    </tr>\n    <tr>\n      <th>85</th>\n      <td>Cody Zeller</td>\n      <td>37</td>\n      <td>20</td>\n      <td>21.2</td>\n      <td>3.6</td>\n      <td>6.7</td>\n      <td>.540</td>\n      <td>0.1</td>\n      <td>0.7</td>\n      <td>.120</td>\n      <td>3.5</td>\n      <td>6.0</td>\n      <td>.587</td>\n      <td>1.6</td>\n      <td>2.2</td>\n      <td>.735</td>\n      <td>2.6</td>\n      <td>4.4</td>\n      <td>7.0</td>\n      <td>1.9</td>\n      <td>0.6</td>\n      <td>0.4</td>\n      <td>1.0</td>\n      <td>2.4</td>\n      <td>9.0</td>\n      <td>NBA</td>\n      <td>CHA</td>\n      <td>C</td>\n      <td>27</td>\n      <td>$14,000,000</td>\n      <td>14000000.0</td>\n      <td>0.00189</td>\n    </tr>\n  </tbody>\n</table>\n<p>86 rows × 32 columns</p>\n</div>"
     },
     "metadata": {},
     "execution_count": 62
    }
   ],
   "source": [
    "#nba_df.iloc[:,1:25]\n",
    "#nba_df"
   ]
  },
  {
   "cell_type": "code",
   "execution_count": null,
   "metadata": {},
   "outputs": [],
   "source": []
  }
 ]
}