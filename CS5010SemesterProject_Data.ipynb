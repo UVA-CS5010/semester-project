{
 "metadata": {
  "language_info": {
   "codemirror_mode": {
    "name": "ipython",
    "version": 3
   },
   "file_extension": ".py",
   "mimetype": "text/x-python",
   "name": "python",
   "nbconvert_exporter": "python",
   "pygments_lexer": "ipython3",
   "version": "3.8.5"
  },
  "orig_nbformat": 2,
  "kernelspec": {
   "name": "python385jvsc74a57bd03f5959a4e9baf1c3db09ced1f044d580a949727e6baac14607796db38400a28a",
   "display_name": "Python 3.8.5 64-bit ('base': conda)"
  }
 },
 "nbformat": 4,
 "nbformat_minor": 2,
 "cells": [
  {
   "cell_type": "code",
   "execution_count": 2,
   "metadata": {},
   "outputs": [],
   "source": [
    "import requests\n",
    "from bs4 import BeautifulSoup\n",
    "import pandas as pd\n",
    "import numpy as np\n",
    "import matplotlib.pyplot as plt\n",
    "import plotly.express as px\n",
    "from plotly.offline import plot\n",
    "import unittest\n",
    "from urllib.request import urlopen"
   ]
  },
  {
   "source": [
    "### WNBA Salary Data Webscraping\n",
    "**100 highest paid players for 2020** <br>\n",
    "*(data from spotrac.com)*"
   ],
   "cell_type": "markdown",
   "metadata": {}
  },
  {
   "cell_type": "code",
   "execution_count": 4,
   "metadata": {},
   "outputs": [
    {
     "output_type": "execute_result",
     "data": {
      "text/plain": [
       "                  Player League   Team Position Age  Avg_Salary\n",
       "0   Skylar Diggins-Smith   WNBA    PHX        G  30  $224,870  \n",
       "1      Elena Delle Donne   WNBA    WAS        F  31  $224,870  \n",
       "2         DeWanna Bonner   WNBA    CON        F  33  $224,870  \n",
       "3          Diana Taurasi   WNBA    PHX        G  38  $224,772  \n",
       "4         Natasha Howard   WNBA     NY        F  29  $224,675  \n",
       "..                   ...    ...    ...      ...  ..         ...\n",
       "95      Seimone Augustus   WNBA     LA        G  37   $70,040  \n",
       "96            Nia Coffey   WNBA     LA        F  25   $70,040  \n",
       "97           Bria Holmes   WNBA     LA        G  27   $70,040  \n",
       "98       Marine Johannes   WNBA     NY        G  26   $69,020  \n",
       "99          Bella Alarie   WNBA    DAL        G  23   $68,339  \n",
       "\n",
       "[100 rows x 6 columns]"
      ],
      "text/html": "<div>\n<style scoped>\n    .dataframe tbody tr th:only-of-type {\n        vertical-align: middle;\n    }\n\n    .dataframe tbody tr th {\n        vertical-align: top;\n    }\n\n    .dataframe thead th {\n        text-align: right;\n    }\n</style>\n<table border=\"1\" class=\"dataframe\">\n  <thead>\n    <tr style=\"text-align: right;\">\n      <th></th>\n      <th>Player</th>\n      <th>League</th>\n      <th>Team</th>\n      <th>Position</th>\n      <th>Age</th>\n      <th>Avg_Salary</th>\n    </tr>\n  </thead>\n  <tbody>\n    <tr>\n      <th>0</th>\n      <td>Skylar Diggins-Smith</td>\n      <td>WNBA</td>\n      <td>PHX</td>\n      <td>G</td>\n      <td>30</td>\n      <td>$224,870</td>\n    </tr>\n    <tr>\n      <th>1</th>\n      <td>Elena Delle Donne</td>\n      <td>WNBA</td>\n      <td>WAS</td>\n      <td>F</td>\n      <td>31</td>\n      <td>$224,870</td>\n    </tr>\n    <tr>\n      <th>2</th>\n      <td>DeWanna Bonner</td>\n      <td>WNBA</td>\n      <td>CON</td>\n      <td>F</td>\n      <td>33</td>\n      <td>$224,870</td>\n    </tr>\n    <tr>\n      <th>3</th>\n      <td>Diana Taurasi</td>\n      <td>WNBA</td>\n      <td>PHX</td>\n      <td>G</td>\n      <td>38</td>\n      <td>$224,772</td>\n    </tr>\n    <tr>\n      <th>4</th>\n      <td>Natasha Howard</td>\n      <td>WNBA</td>\n      <td>NY</td>\n      <td>F</td>\n      <td>29</td>\n      <td>$224,675</td>\n    </tr>\n    <tr>\n      <th>...</th>\n      <td>...</td>\n      <td>...</td>\n      <td>...</td>\n      <td>...</td>\n      <td>...</td>\n      <td>...</td>\n    </tr>\n    <tr>\n      <th>95</th>\n      <td>Seimone Augustus</td>\n      <td>WNBA</td>\n      <td>LA</td>\n      <td>G</td>\n      <td>37</td>\n      <td>$70,040</td>\n    </tr>\n    <tr>\n      <th>96</th>\n      <td>Nia Coffey</td>\n      <td>WNBA</td>\n      <td>LA</td>\n      <td>F</td>\n      <td>25</td>\n      <td>$70,040</td>\n    </tr>\n    <tr>\n      <th>97</th>\n      <td>Bria Holmes</td>\n      <td>WNBA</td>\n      <td>LA</td>\n      <td>G</td>\n      <td>27</td>\n      <td>$70,040</td>\n    </tr>\n    <tr>\n      <th>98</th>\n      <td>Marine Johannes</td>\n      <td>WNBA</td>\n      <td>NY</td>\n      <td>G</td>\n      <td>26</td>\n      <td>$69,020</td>\n    </tr>\n    <tr>\n      <th>99</th>\n      <td>Bella Alarie</td>\n      <td>WNBA</td>\n      <td>DAL</td>\n      <td>G</td>\n      <td>23</td>\n      <td>$68,339</td>\n    </tr>\n  </tbody>\n</table>\n<p>100 rows × 6 columns</p>\n</div>"
     },
     "metadata": {},
     "execution_count": 4
    }
   ],
   "source": [
    "URL = 'https://www.spotrac.com/wnba/rankings/average/'\n",
    "page = requests.get(URL).text\n",
    "soup = BeautifulSoup(page, 'lxml')\n",
    "\n",
    "names= []\n",
    "for name in soup.find_all('a', class_= 'team-name'):\n",
    "  names.append(name.get_text())\n",
    "\n",
    "teams=[]\n",
    "for team in soup.find_all('div', class_= 'rank-position'):\n",
    "  teams.append(team.get_text())\n",
    "\n",
    "avg_salaries=[]\n",
    "for salaries in soup.find_all('span', class_= 'info'):\n",
    "  avg_salaries.append(salaries.get_text())\n",
    "\n",
    "pos= []\n",
    "pos2= []\n",
    "for p in soup.find_all('td', class_= 'center small'):\n",
    "  pos.append(p.get_text())\n",
    "  \n",
    "for i in pos:\n",
    "    j = i.replace(' ','').replace('\\n', '')\n",
    "    pos2.append(j)\n",
    "pos2[136] = 'F'\n",
    "\n",
    "age= []\n",
    "for v in pos2:\n",
    "    if len(v) % 2 == 0:\n",
    "        age.append(v)\n",
    "        \n",
    "positions= []\n",
    "for v in pos2:\n",
    "    if len(v) % 2 != 0:\n",
    "        positions.append(v)\n",
    "\n",
    "wnba= 'WNBA'\n",
    "\n",
    "wnba_salaries = pd.DataFrame(\n",
    "    {'Player': names,\n",
    "     'League': wnba,\n",
    "     'Team': teams,\n",
    "     'Position': positions,\n",
    "     'Age': age,\n",
    "     'Avg_Salary': avg_salaries\n",
    "    })\n",
    "wnba_salaries"
   ]
  },
  {
   "source": [
    "### WNBA Salary Unit Testing"
   ],
   "cell_type": "markdown",
   "metadata": {}
  },
  {
   "source": [
    "class Test_WNBA_Salary(unittest.TestCase):\n",
    "  bs = None\n",
    "  def setUpClass():\n",
    "    url3 = 'https://www.spotrac.com/wnba/rankings/average/'\n",
    "    Test_WNBA_Salary.bs = BeautifulSoup(urlopen(url3), 'html.parser')\n",
    "\n",
    "  #test page title\n",
    "  def test_wtitle(self):\n",
    "    wtitle = Test_WNBA_Salary.bs.find('h1').get_text()\n",
    "    self.assertEqual(' WNBA Salary Rankings ', wtitle)\n",
    "\n",
    "  #test player name\n",
    "  def test_wname(self):\n",
    "    wplayerName = Test_WNBA_Salary.bs.find('a',{'class':'team-name'}).get_text()\n",
    "    self.assertEqual('Elena Delle Donne', wplayerName)\n",
    " \n",
    "  #test team name\n",
    "  def test_wteam(self):\n",
    "    wteam = Test_WNBA_Salary.bs.find('div',{'class':'rank-position'}).get_text()\n",
    "    self.assertEqual('  WAS', wteam)\n",
    " \n",
    "  #test player salary\n",
    "  def test_wsalary(self):\n",
    "    wsalary = Test_WNBA_Salary.bs.find('span',{'class':'info'}).get_text()\n",
    "    self.assertEqual('$224,870  ', wsalary)\n",
    "\n",
    "  #test player position\n",
    "  def test_wposition(self):\n",
    "    wposition = Test_WNBA_Salary.bs.find('td',{'class':'center'}).get_text()\n",
    "    self.assertEqual('1', wposition)\n",
    "\n",
    "if __name__ == '__main__':\n",
    "  unittest.main(argv=[''], verbosity=2)"
   ],
   "cell_type": "code",
   "metadata": {},
   "execution_count": 4,
   "outputs": [
    {
     "output_type": "stream",
     "name": "stderr",
     "text": [
      "test_wname (__main__.Test_WNBA_Salary) ... ok\n",
      "test_wposition (__main__.Test_WNBA_Salary) ... ok\n",
      "test_wsalary (__main__.Test_WNBA_Salary) ... ok\n",
      "test_wteam (__main__.Test_WNBA_Salary) ... ok\n",
      "test_wtitle (__main__.Test_WNBA_Salary) ... ok\n",
      "\n",
      "----------------------------------------------------------------------\n",
      "Ran 5 tests in 0.725s\n",
      "\n",
      "OK\n"
     ]
    },
    {
     "output_type": "error",
     "ename": "SystemExit",
     "evalue": "False",
     "traceback": [
      "An exception has occurred, use %tb to see the full traceback.\n",
      "\u001b[0;31mSystemExit\u001b[0m\u001b[0;31m:\u001b[0m False\n"
     ]
    }
   ]
  },
  {
   "source": [
    "### NBA Salary Data Webscraping\n",
    "**100 highest paid players for 2020** <br>\n",
    "*(data from spotrac.com)*"
   ],
   "cell_type": "markdown",
   "metadata": {}
  },
  {
   "cell_type": "code",
   "execution_count": 6,
   "metadata": {},
   "outputs": [
    {
     "output_type": "execute_result",
     "data": {
      "text/plain": [
       "               Player League   Team Position   Age     Avg_Salary\n",
       "0           John Wall    NBA    HOU       PG   30   $42,782,880  \n",
       "1        James Harden    NBA    BKN       SG   31   $42,782,880  \n",
       "2   Russell Westbrook    NBA    WAS       PG   31   $41,358,814  \n",
       "3        Kevin Durant    NBA    BKN       SF   32   $41,063,925  \n",
       "4       Stephen Curry    NBA    GSW       PG   32   $40,231,758  \n",
       "..                ...    ...    ...      ...   ...            ...\n",
       "95       Trevor Ariza    NBA    MIA       SF   35   $12,500,000  \n",
       "96       Kelly Olynyk    NBA    HOU       PF   29   $12,500,000  \n",
       "97        Cory Joseph    NBA    DET       PG   29   $12,400,000  \n",
       "98       Jusuf Nurkic    NBA    POR        C   26   $12,000,000  \n",
       "99      Patrick Mills    NBA    SAS       PG   32   $12,000,000  \n",
       "\n",
       "[100 rows x 6 columns]"
      ],
      "text/html": "<div>\n<style scoped>\n    .dataframe tbody tr th:only-of-type {\n        vertical-align: middle;\n    }\n\n    .dataframe tbody tr th {\n        vertical-align: top;\n    }\n\n    .dataframe thead th {\n        text-align: right;\n    }\n</style>\n<table border=\"1\" class=\"dataframe\">\n  <thead>\n    <tr style=\"text-align: right;\">\n      <th></th>\n      <th>Player</th>\n      <th>League</th>\n      <th>Team</th>\n      <th>Position</th>\n      <th>Age</th>\n      <th>Avg_Salary</th>\n    </tr>\n  </thead>\n  <tbody>\n    <tr>\n      <th>0</th>\n      <td>John Wall</td>\n      <td>NBA</td>\n      <td>HOU</td>\n      <td>PG</td>\n      <td>30</td>\n      <td>$42,782,880</td>\n    </tr>\n    <tr>\n      <th>1</th>\n      <td>James Harden</td>\n      <td>NBA</td>\n      <td>BKN</td>\n      <td>SG</td>\n      <td>31</td>\n      <td>$42,782,880</td>\n    </tr>\n    <tr>\n      <th>2</th>\n      <td>Russell Westbrook</td>\n      <td>NBA</td>\n      <td>WAS</td>\n      <td>PG</td>\n      <td>31</td>\n      <td>$41,358,814</td>\n    </tr>\n    <tr>\n      <th>3</th>\n      <td>Kevin Durant</td>\n      <td>NBA</td>\n      <td>BKN</td>\n      <td>SF</td>\n      <td>32</td>\n      <td>$41,063,925</td>\n    </tr>\n    <tr>\n      <th>4</th>\n      <td>Stephen Curry</td>\n      <td>NBA</td>\n      <td>GSW</td>\n      <td>PG</td>\n      <td>32</td>\n      <td>$40,231,758</td>\n    </tr>\n    <tr>\n      <th>...</th>\n      <td>...</td>\n      <td>...</td>\n      <td>...</td>\n      <td>...</td>\n      <td>...</td>\n      <td>...</td>\n    </tr>\n    <tr>\n      <th>95</th>\n      <td>Trevor Ariza</td>\n      <td>NBA</td>\n      <td>MIA</td>\n      <td>SF</td>\n      <td>35</td>\n      <td>$12,500,000</td>\n    </tr>\n    <tr>\n      <th>96</th>\n      <td>Kelly Olynyk</td>\n      <td>NBA</td>\n      <td>HOU</td>\n      <td>PF</td>\n      <td>29</td>\n      <td>$12,500,000</td>\n    </tr>\n    <tr>\n      <th>97</th>\n      <td>Cory Joseph</td>\n      <td>NBA</td>\n      <td>DET</td>\n      <td>PG</td>\n      <td>29</td>\n      <td>$12,400,000</td>\n    </tr>\n    <tr>\n      <th>98</th>\n      <td>Jusuf Nurkic</td>\n      <td>NBA</td>\n      <td>POR</td>\n      <td>C</td>\n      <td>26</td>\n      <td>$12,000,000</td>\n    </tr>\n    <tr>\n      <th>99</th>\n      <td>Patrick Mills</td>\n      <td>NBA</td>\n      <td>SAS</td>\n      <td>PG</td>\n      <td>32</td>\n      <td>$12,000,000</td>\n    </tr>\n  </tbody>\n</table>\n<p>100 rows × 6 columns</p>\n</div>"
     },
     "metadata": {},
     "execution_count": 6
    }
   ],
   "source": [
    "URL = 'https://www.spotrac.com/nba/rankings/average/'\n",
    "page = requests.get(URL).text\n",
    "soup = BeautifulSoup(page, 'lxml')\n",
    "\n",
    "men_names= []\n",
    "for name in soup.find_all('a', class_= 'team-name'):\n",
    "  men_names.append(name.get_text())\n",
    "\n",
    "men_teams=[]\n",
    "for team in soup.find_all('div', class_= 'rank-position'):\n",
    "  men_teams.append(team.get_text())\n",
    "\n",
    "men_avg_salaries=[]\n",
    "for salaries in soup.find_all('span', class_= 'info'):\n",
    "  men_avg_salaries.append(salaries.get_text())\n",
    "\n",
    "men_age= []\n",
    "for a in soup.find_all('td', class_= 'center xs-hide'):\n",
    "  men_age.append(a.get_text())\n",
    "\n",
    "men_pos= []\n",
    "men_pos2= []\n",
    "for p in soup.find_all('td', class_= 'center', ):\n",
    "  men_pos.append(p.get_text())\n",
    "\n",
    "for i in men_pos:\n",
    "    j = i.replace(' ','').replace('\\n', '')\n",
    "    men_pos2.append(j)\n",
    "\n",
    "digits= []\n",
    "men_positions= []\n",
    "for ps in men_pos2:\n",
    "  if ps.isdigit():\n",
    "    digits.append(ps)\n",
    "  elif ps== '':\n",
    "    digits.append(ps)\n",
    "  else:\n",
    "    men_positions.append(ps)\n",
    "\n",
    "nba= 'NBA'\n",
    "\n",
    "nba_salaries = pd.DataFrame(\n",
    "    {'Player': men_names,\n",
    "     'League' : nba,\n",
    "     'Team': men_teams,\n",
    "     'Position': men_positions,\n",
    "     'Age': men_age,\n",
    "     'Avg_Salary': men_avg_salaries\n",
    "    })\n",
    "nba_salaries"
   ]
  },
  {
   "source": [
    "### NBA Salary Unit Testing"
   ],
   "cell_type": "markdown",
   "metadata": {}
  },
  {
   "cell_type": "code",
   "execution_count": 5,
   "metadata": {},
   "outputs": [
    {
     "output_type": "stream",
     "name": "stderr",
     "text": [
      "test_age (__main__.Test_NBA_Salary) ... ok\n",
      "test_name (__main__.Test_NBA_Salary) ... ok\n",
      "test_position (__main__.Test_NBA_Salary) ... ok\n",
      "test_salary (__main__.Test_NBA_Salary) ... ok\n",
      "test_team (__main__.Test_NBA_Salary) ... ok\n",
      "test_title (__main__.Test_NBA_Salary) ... ok\n",
      "test_wname (__main__.Test_WNBA_Salary) ... ok\n",
      "test_wposition (__main__.Test_WNBA_Salary) ... ok\n",
      "test_wsalary (__main__.Test_WNBA_Salary) ... ok\n",
      "test_wteam (__main__.Test_WNBA_Salary) ... ok\n",
      "test_wtitle (__main__.Test_WNBA_Salary) ... ok\n",
      "\n",
      "----------------------------------------------------------------------\n",
      "Ran 11 tests in 1.506s\n",
      "\n",
      "OK\n"
     ]
    },
    {
     "output_type": "error",
     "ename": "SystemExit",
     "evalue": "False",
     "traceback": [
      "An exception has occurred, use %tb to see the full traceback.\n",
      "\u001b[0;31mSystemExit\u001b[0m\u001b[0;31m:\u001b[0m False\n"
     ]
    }
   ],
   "source": [
    "class Test_NBA_Salary(unittest.TestCase):\n",
    "  bs = None\n",
    "  def setUpClass():\n",
    "    url2 = 'https://www.spotrac.com/nba/rankings/average/'\n",
    "    Test_NBA_Salary.bs = BeautifulSoup(urlopen(url2), 'html.parser')\n",
    "\n",
    "  #test page title\n",
    "  def test_title(self):\n",
    "    title = Test_NBA_Salary.bs.find('h1').get_text()\n",
    "    self.assertEqual('NBA Financial Rankings', title)\n",
    "\n",
    "  #test player name\n",
    "  def test_name(self):\n",
    "    playerName = Test_NBA_Salary.bs.find('a',{'class':'team-name'}).get_text()\n",
    "    self.assertEqual('John Wall', playerName)\n",
    "  \n",
    "  #test team name\n",
    "  def test_team(self):\n",
    "    team = Test_NBA_Salary.bs.find('div',{'class':'rank-position'}).get_text()\n",
    "    self.assertEqual('  HOU', team)\n",
    "\n",
    "  #test player salary\n",
    "  def test_salary(self):\n",
    "    salary = Test_NBA_Salary.bs.find('span',{'class':'info'}).get_text()\n",
    "    self.assertEqual('$42,782,880  ', salary)\n",
    "\n",
    "  #test player age\n",
    "  def test_age(self):\n",
    "    age = Test_NBA_Salary.bs.find('td',{'class':'center xs-hide'}).get_text()\n",
    "    self.assertEqual(' 30 ', age)\n",
    "\n",
    "  #test player position\n",
    "  def test_position(self):\n",
    "    position = Test_NBA_Salary.bs.find('td',{'class':'center'}).get_text()\n",
    "    self.assertEqual('1', position)\n",
    "\n",
    "if __name__ == '__main__':\n",
    "  unittest.main(argv=[''], verbosity=2)\n"
   ]
  },
  {
   "source": [
    "### NBA Stats Data Webscraping\n",
    "**Per-game avgs for 2020-21 season** <br>\n",
    "*(data from basketballreference.com)*"
   ],
   "cell_type": "markdown",
   "metadata": {}
  },
  {
   "cell_type": "code",
   "execution_count": 7,
   "metadata": {},
   "outputs": [
    {
     "output_type": "execute_result",
     "data": {
      "text/plain": [
       "                Player   G  GS    MP   FG   FGA   FG%   3P  3PA   3P%  ...  \\\n",
       "0     Precious Achiuwa  58   3  11.9  1.9   3.6  .538  0.0  0.0        ...   \n",
       "1         Jaylen Adams   7   0   2.6  0.1   1.1  .125  0.0  0.3  .000  ...   \n",
       "2         Steven Adams  58  58  27.7  3.3   5.3  .614  0.0  0.1  .000  ...   \n",
       "3          Bam Adebayo  59  59  33.5  7.2  12.7  .567  0.0  0.1  .250  ...   \n",
       "4    LaMarcus Aldridge  26  23  25.9  5.4  11.4  .473  1.2  3.1  .388  ...   \n",
       "..                 ...  ..  ..   ...  ...   ...   ...  ...  ...   ...  ...   \n",
       "711       Delon Wright  57  33  27.2  3.6   7.9  .460  0.9  2.5  .371  ...   \n",
       "714     Thaddeus Young  62  19  24.2  5.5   9.6  .571  0.2  0.6  .263  ...   \n",
       "715         Trae Young  59  59  34.1  7.7  17.7  .436  2.2  6.3  .353  ...   \n",
       "716        Cody Zeller  42  20  20.3  3.6   6.6  .550  0.1  0.7  .143  ...   \n",
       "717        Ivica Zubac  67  28  22.7  3.6   5.6  .649  0.0  0.0  .000  ...   \n",
       "\n",
       "      FT%  ORB  DRB  TRB  AST  STL  BLK  TOV   PF   PTS  \n",
       "0    .515  1.2  2.2  3.4  0.5  0.3  0.5  0.7  1.5   4.8  \n",
       "1          0.0  0.4  0.4  0.3  0.0  0.0  0.0  0.1   0.3  \n",
       "2    .444  3.7  5.2  8.9  1.9  0.9  0.7  1.3  1.9   7.6  \n",
       "3    .797  2.3  6.8  9.1  5.4  1.2  1.0  2.7  2.2  18.9  \n",
       "4    .872  0.7  3.8  4.5  1.9  0.4  1.1  1.0  1.8  13.5  \n",
       "..    ...  ...  ...  ...  ...  ...  ...  ...  ...   ...  \n",
       "711  .802  1.0  3.2  4.2  4.3  1.6  0.5  1.2  1.2  10.0  \n",
       "714  .619  2.4  3.7  6.1  4.4  1.1  0.5  2.0  2.3  12.1  \n",
       "715  .882  0.6  3.2  3.9  9.5  0.9  0.2  4.2  1.8  25.4  \n",
       "716  .700  2.5  4.3  6.7  1.8  0.6  0.4  1.0  2.4   9.0  \n",
       "717  .784  2.7  4.6  7.3  1.3  0.4  0.9  1.2  2.6   9.2  \n",
       "\n",
       "[535 rows x 25 columns]"
      ],
      "text/html": "<div>\n<style scoped>\n    .dataframe tbody tr th:only-of-type {\n        vertical-align: middle;\n    }\n\n    .dataframe tbody tr th {\n        vertical-align: top;\n    }\n\n    .dataframe thead th {\n        text-align: right;\n    }\n</style>\n<table border=\"1\" class=\"dataframe\">\n  <thead>\n    <tr style=\"text-align: right;\">\n      <th></th>\n      <th>Player</th>\n      <th>G</th>\n      <th>GS</th>\n      <th>MP</th>\n      <th>FG</th>\n      <th>FGA</th>\n      <th>FG%</th>\n      <th>3P</th>\n      <th>3PA</th>\n      <th>3P%</th>\n      <th>...</th>\n      <th>FT%</th>\n      <th>ORB</th>\n      <th>DRB</th>\n      <th>TRB</th>\n      <th>AST</th>\n      <th>STL</th>\n      <th>BLK</th>\n      <th>TOV</th>\n      <th>PF</th>\n      <th>PTS</th>\n    </tr>\n  </thead>\n  <tbody>\n    <tr>\n      <th>0</th>\n      <td>Precious Achiuwa</td>\n      <td>58</td>\n      <td>3</td>\n      <td>11.9</td>\n      <td>1.9</td>\n      <td>3.6</td>\n      <td>.538</td>\n      <td>0.0</td>\n      <td>0.0</td>\n      <td></td>\n      <td>...</td>\n      <td>.515</td>\n      <td>1.2</td>\n      <td>2.2</td>\n      <td>3.4</td>\n      <td>0.5</td>\n      <td>0.3</td>\n      <td>0.5</td>\n      <td>0.7</td>\n      <td>1.5</td>\n      <td>4.8</td>\n    </tr>\n    <tr>\n      <th>1</th>\n      <td>Jaylen Adams</td>\n      <td>7</td>\n      <td>0</td>\n      <td>2.6</td>\n      <td>0.1</td>\n      <td>1.1</td>\n      <td>.125</td>\n      <td>0.0</td>\n      <td>0.3</td>\n      <td>.000</td>\n      <td>...</td>\n      <td></td>\n      <td>0.0</td>\n      <td>0.4</td>\n      <td>0.4</td>\n      <td>0.3</td>\n      <td>0.0</td>\n      <td>0.0</td>\n      <td>0.0</td>\n      <td>0.1</td>\n      <td>0.3</td>\n    </tr>\n    <tr>\n      <th>2</th>\n      <td>Steven Adams</td>\n      <td>58</td>\n      <td>58</td>\n      <td>27.7</td>\n      <td>3.3</td>\n      <td>5.3</td>\n      <td>.614</td>\n      <td>0.0</td>\n      <td>0.1</td>\n      <td>.000</td>\n      <td>...</td>\n      <td>.444</td>\n      <td>3.7</td>\n      <td>5.2</td>\n      <td>8.9</td>\n      <td>1.9</td>\n      <td>0.9</td>\n      <td>0.7</td>\n      <td>1.3</td>\n      <td>1.9</td>\n      <td>7.6</td>\n    </tr>\n    <tr>\n      <th>3</th>\n      <td>Bam Adebayo</td>\n      <td>59</td>\n      <td>59</td>\n      <td>33.5</td>\n      <td>7.2</td>\n      <td>12.7</td>\n      <td>.567</td>\n      <td>0.0</td>\n      <td>0.1</td>\n      <td>.250</td>\n      <td>...</td>\n      <td>.797</td>\n      <td>2.3</td>\n      <td>6.8</td>\n      <td>9.1</td>\n      <td>5.4</td>\n      <td>1.2</td>\n      <td>1.0</td>\n      <td>2.7</td>\n      <td>2.2</td>\n      <td>18.9</td>\n    </tr>\n    <tr>\n      <th>4</th>\n      <td>LaMarcus Aldridge</td>\n      <td>26</td>\n      <td>23</td>\n      <td>25.9</td>\n      <td>5.4</td>\n      <td>11.4</td>\n      <td>.473</td>\n      <td>1.2</td>\n      <td>3.1</td>\n      <td>.388</td>\n      <td>...</td>\n      <td>.872</td>\n      <td>0.7</td>\n      <td>3.8</td>\n      <td>4.5</td>\n      <td>1.9</td>\n      <td>0.4</td>\n      <td>1.1</td>\n      <td>1.0</td>\n      <td>1.8</td>\n      <td>13.5</td>\n    </tr>\n    <tr>\n      <th>...</th>\n      <td>...</td>\n      <td>...</td>\n      <td>...</td>\n      <td>...</td>\n      <td>...</td>\n      <td>...</td>\n      <td>...</td>\n      <td>...</td>\n      <td>...</td>\n      <td>...</td>\n      <td>...</td>\n      <td>...</td>\n      <td>...</td>\n      <td>...</td>\n      <td>...</td>\n      <td>...</td>\n      <td>...</td>\n      <td>...</td>\n      <td>...</td>\n      <td>...</td>\n      <td>...</td>\n    </tr>\n    <tr>\n      <th>711</th>\n      <td>Delon Wright</td>\n      <td>57</td>\n      <td>33</td>\n      <td>27.2</td>\n      <td>3.6</td>\n      <td>7.9</td>\n      <td>.460</td>\n      <td>0.9</td>\n      <td>2.5</td>\n      <td>.371</td>\n      <td>...</td>\n      <td>.802</td>\n      <td>1.0</td>\n      <td>3.2</td>\n      <td>4.2</td>\n      <td>4.3</td>\n      <td>1.6</td>\n      <td>0.5</td>\n      <td>1.2</td>\n      <td>1.2</td>\n      <td>10.0</td>\n    </tr>\n    <tr>\n      <th>714</th>\n      <td>Thaddeus Young</td>\n      <td>62</td>\n      <td>19</td>\n      <td>24.2</td>\n      <td>5.5</td>\n      <td>9.6</td>\n      <td>.571</td>\n      <td>0.2</td>\n      <td>0.6</td>\n      <td>.263</td>\n      <td>...</td>\n      <td>.619</td>\n      <td>2.4</td>\n      <td>3.7</td>\n      <td>6.1</td>\n      <td>4.4</td>\n      <td>1.1</td>\n      <td>0.5</td>\n      <td>2.0</td>\n      <td>2.3</td>\n      <td>12.1</td>\n    </tr>\n    <tr>\n      <th>715</th>\n      <td>Trae Young</td>\n      <td>59</td>\n      <td>59</td>\n      <td>34.1</td>\n      <td>7.7</td>\n      <td>17.7</td>\n      <td>.436</td>\n      <td>2.2</td>\n      <td>6.3</td>\n      <td>.353</td>\n      <td>...</td>\n      <td>.882</td>\n      <td>0.6</td>\n      <td>3.2</td>\n      <td>3.9</td>\n      <td>9.5</td>\n      <td>0.9</td>\n      <td>0.2</td>\n      <td>4.2</td>\n      <td>1.8</td>\n      <td>25.4</td>\n    </tr>\n    <tr>\n      <th>716</th>\n      <td>Cody Zeller</td>\n      <td>42</td>\n      <td>20</td>\n      <td>20.3</td>\n      <td>3.6</td>\n      <td>6.6</td>\n      <td>.550</td>\n      <td>0.1</td>\n      <td>0.7</td>\n      <td>.143</td>\n      <td>...</td>\n      <td>.700</td>\n      <td>2.5</td>\n      <td>4.3</td>\n      <td>6.7</td>\n      <td>1.8</td>\n      <td>0.6</td>\n      <td>0.4</td>\n      <td>1.0</td>\n      <td>2.4</td>\n      <td>9.0</td>\n    </tr>\n    <tr>\n      <th>717</th>\n      <td>Ivica Zubac</td>\n      <td>67</td>\n      <td>28</td>\n      <td>22.7</td>\n      <td>3.6</td>\n      <td>5.6</td>\n      <td>.649</td>\n      <td>0.0</td>\n      <td>0.0</td>\n      <td>.000</td>\n      <td>...</td>\n      <td>.784</td>\n      <td>2.7</td>\n      <td>4.6</td>\n      <td>7.3</td>\n      <td>1.3</td>\n      <td>0.4</td>\n      <td>0.9</td>\n      <td>1.2</td>\n      <td>2.6</td>\n      <td>9.2</td>\n    </tr>\n  </tbody>\n</table>\n<p>535 rows × 25 columns</p>\n</div>"
     },
     "metadata": {},
     "execution_count": 7
    }
   ],
   "source": [
    "url = 'https://www.basketball-reference.com/leagues/NBA_2021_per_game.html'\n",
    "html_doc = requests.get(url)\n",
    "\n",
    "#parse the html from site:\n",
    "parsed_html = BeautifulSoup(html_doc.content, 'html.parser')\n",
    "\n",
    "#extract specific table we are interested in (per-game stats for each player):\n",
    "table = parsed_html.find(id='per_game_stats')\n",
    "\n",
    "##Header:\n",
    "#Locate the table header, extract header values, and store in list:\n",
    "table_header = table.find('thead') #html 'thead' element contains all header-related data\n",
    "header_elements = table_header.find_all('th') #store all 'th' (header) elements from 'thead' element \n",
    "\n",
    "headers = [] #initialize empty list to later store headers\n",
    "for header in header_elements:\n",
    "    item = header.get_text().strip() #extract each header value (text)\n",
    "    headers.append(item) #append each header value to list\n",
    "headers\n",
    "\n",
    "\n",
    "##Body:\n",
    "#Locate table body, extract data values, and store in list:\n",
    "table_body = table.find('tbody') #html 'tbody' element contains all body-related data\n",
    "body_rows = table_body.find_all('tr') #store all 'tr' (row) elements from 'tbody' element \n",
    "\n",
    "rows = [] #initialize empty list to later store data rows\n",
    "for row in body_rows:\n",
    "    row_header = row.find('th').get_text() #extract the row's header (season)\n",
    "    items = row.find_all('td') #extract data values from row\n",
    "    row = [row_header] #initialize list  w/ row header\n",
    "    for item in items: #iterate through the values of the row and store each in row list\n",
    "        row.append(item.get_text())\n",
    "    rows.append(row)\n",
    "    \n",
    "\n",
    "nba_stats = pd.DataFrame(rows, columns = headers) \n",
    "\n",
    "#Some players (who switched teams mid-year) are duplicated - have a total record and \n",
    "#individual records for each team they played for that year.\n",
    "#Need to delete these duplicated records and include only the \"total\" entries\n",
    "nba_stats = nba_stats.drop_duplicates(['Player'])\n",
    "nba_stats = nba_stats.drop(columns= ['Rk', 'Pos', 'Age', 'Tm', 'eFG%'])\n",
    "\n",
    "\n",
    "#Replace accented letters to english equivalent for merging with salary data (where there are no accents)\n",
    "nba_stats['Player'] = nba_stats['Player'].str.replace(\n",
    "    u'ć', 'c').str.replace(u'Š', 'S').str.replace(u'č', 'c').str.replace(u'ā', 'a').str.replace(u'ģ', 'g').str.replace(u'ņ', 'n').str.replace(u'ū', 'u')\n",
    "\n",
    "nba_stats"
   ]
  },
  {
   "source": [
    "### NBA Stats Unit Testing"
   ],
   "cell_type": "markdown",
   "metadata": {}
  },
  {
   "cell_type": "code",
   "execution_count": null,
   "metadata": {},
   "outputs": [],
   "source": [
    "class Test_NBA_Stats(unittest.TestCase):\n",
    "    bs = None\n",
    "    def setUpClass():\n",
    "      url = 'https://www.basketball-reference.com/leagues/NBA_2021_per_game.html'\n",
    "      Test_NBA_Stats.bs = BeautifulSoup(urlopen(url), 'html.parser')\n",
    "\n",
    "    #test page title\n",
    "    def test_page_title(self):\n",
    "      pageTitle = Test_NBA_Stats.bs.find('h1').get_text()\n",
    "      self.assertEqual('\\n2020-21 NBA Player Stats: Per Game\\n', pageTitle);\n",
    "\n",
    "    #test player name from table\n",
    "    def test_player_name(self):\n",
    "      tableName = Test_NBA_Stats.bs.find('td',{'class':'left '}).get_text()\n",
    "      self.assertEqual('Precious Achiuwa', tableName)\n",
    "\n",
    "    #test player position from table\n",
    "    def test_table_position(self):\n",
    "      tablePosition = Test_NBA_Stats.bs.find('td',{'class':'center'}).get_text()\n",
    "      self.assertEqual('PF', tablePosition)\n",
    "\n",
    "if __name__ == '__main__':\n",
    "  unittest.main(argv=[''], verbosity=2)"
   ]
  },
  {
   "source": [
    "### WNBA Stats data upload (CSV)\n",
    "**Per-game avgs for 2020 season** <br>\n",
    "*(data from basketballreference.com)*"
   ],
   "cell_type": "markdown",
   "metadata": {}
  },
  {
   "cell_type": "code",
   "execution_count": 9,
   "metadata": {},
   "outputs": [
    {
     "output_type": "error",
     "ename": "FileNotFoundError",
     "evalue": "[Errno 2] No such file or directory: '/Users/allie/Documents/cs5010/wnba_stats.csv'",
     "traceback": [
      "\u001b[0;31m---------------------------------------------------------------------------\u001b[0m",
      "\u001b[0;31mFileNotFoundError\u001b[0m                         Traceback (most recent call last)",
      "\u001b[0;32m<ipython-input-9-85d6622ab22a>\u001b[0m in \u001b[0;36m<module>\u001b[0;34m\u001b[0m\n\u001b[0;32m----> 1\u001b[0;31m \u001b[0mwnba_stats\u001b[0m \u001b[0;34m=\u001b[0m \u001b[0mpd\u001b[0m\u001b[0;34m.\u001b[0m\u001b[0mread_csv\u001b[0m\u001b[0;34m(\u001b[0m\u001b[0;34m'/Users/allie/Documents/cs5010/wnba_stats.csv'\u001b[0m\u001b[0;34m)\u001b[0m \u001b[0;31m#Does not have DREB columns (must create)\u001b[0m\u001b[0;34m\u001b[0m\u001b[0;34m\u001b[0m\u001b[0m\n\u001b[0m\u001b[1;32m      2\u001b[0m \u001b[0;34m\u001b[0m\u001b[0m\n\u001b[1;32m      3\u001b[0m \u001b[0;31m#Delete the duplicated records and include only the \"total\" entries for players that were on multiple teams that year\u001b[0m\u001b[0;34m\u001b[0m\u001b[0;34m\u001b[0m\u001b[0;34m\u001b[0m\u001b[0m\n\u001b[1;32m      4\u001b[0m \u001b[0mwnba_stats\u001b[0m \u001b[0;34m=\u001b[0m \u001b[0mwnba_stats\u001b[0m\u001b[0;34m.\u001b[0m\u001b[0mdrop_duplicates\u001b[0m\u001b[0;34m(\u001b[0m\u001b[0;34m[\u001b[0m\u001b[0;34m'Player'\u001b[0m\u001b[0;34m]\u001b[0m\u001b[0;34m)\u001b[0m\u001b[0;34m\u001b[0m\u001b[0;34m\u001b[0m\u001b[0m\n\u001b[1;32m      5\u001b[0m \u001b[0mwnba_stats\u001b[0m \u001b[0;34m=\u001b[0m \u001b[0mwnba_stats\u001b[0m\u001b[0;34m.\u001b[0m\u001b[0mdrop\u001b[0m\u001b[0;34m(\u001b[0m\u001b[0mcolumns\u001b[0m\u001b[0;34m=\u001b[0m \u001b[0;34m[\u001b[0m\u001b[0;34m'Team'\u001b[0m\u001b[0;34m,\u001b[0m \u001b[0;34m'Pos'\u001b[0m\u001b[0;34m,\u001b[0m \u001b[0;34m'G.1'\u001b[0m\u001b[0;34m,\u001b[0m \u001b[0;34m'MP.1'\u001b[0m\u001b[0;34m]\u001b[0m\u001b[0;34m)\u001b[0m\u001b[0;34m\u001b[0m\u001b[0;34m\u001b[0m\u001b[0m\n",
      "\u001b[0;32m~/opt/anaconda3/lib/python3.8/site-packages/pandas/io/parsers.py\u001b[0m in \u001b[0;36mread_csv\u001b[0;34m(filepath_or_buffer, sep, delimiter, header, names, index_col, usecols, squeeze, prefix, mangle_dupe_cols, dtype, engine, converters, true_values, false_values, skipinitialspace, skiprows, skipfooter, nrows, na_values, keep_default_na, na_filter, verbose, skip_blank_lines, parse_dates, infer_datetime_format, keep_date_col, date_parser, dayfirst, cache_dates, iterator, chunksize, compression, thousands, decimal, lineterminator, quotechar, quoting, doublequote, escapechar, comment, encoding, dialect, error_bad_lines, warn_bad_lines, delim_whitespace, low_memory, memory_map, float_precision)\u001b[0m\n\u001b[1;32m    684\u001b[0m     )\n\u001b[1;32m    685\u001b[0m \u001b[0;34m\u001b[0m\u001b[0m\n\u001b[0;32m--> 686\u001b[0;31m     \u001b[0;32mreturn\u001b[0m \u001b[0m_read\u001b[0m\u001b[0;34m(\u001b[0m\u001b[0mfilepath_or_buffer\u001b[0m\u001b[0;34m,\u001b[0m \u001b[0mkwds\u001b[0m\u001b[0;34m)\u001b[0m\u001b[0;34m\u001b[0m\u001b[0;34m\u001b[0m\u001b[0m\n\u001b[0m\u001b[1;32m    687\u001b[0m \u001b[0;34m\u001b[0m\u001b[0m\n\u001b[1;32m    688\u001b[0m \u001b[0;34m\u001b[0m\u001b[0m\n",
      "\u001b[0;32m~/opt/anaconda3/lib/python3.8/site-packages/pandas/io/parsers.py\u001b[0m in \u001b[0;36m_read\u001b[0;34m(filepath_or_buffer, kwds)\u001b[0m\n\u001b[1;32m    450\u001b[0m \u001b[0;34m\u001b[0m\u001b[0m\n\u001b[1;32m    451\u001b[0m     \u001b[0;31m# Create the parser.\u001b[0m\u001b[0;34m\u001b[0m\u001b[0;34m\u001b[0m\u001b[0;34m\u001b[0m\u001b[0m\n\u001b[0;32m--> 452\u001b[0;31m     \u001b[0mparser\u001b[0m \u001b[0;34m=\u001b[0m \u001b[0mTextFileReader\u001b[0m\u001b[0;34m(\u001b[0m\u001b[0mfp_or_buf\u001b[0m\u001b[0;34m,\u001b[0m \u001b[0;34m**\u001b[0m\u001b[0mkwds\u001b[0m\u001b[0;34m)\u001b[0m\u001b[0;34m\u001b[0m\u001b[0;34m\u001b[0m\u001b[0m\n\u001b[0m\u001b[1;32m    453\u001b[0m \u001b[0;34m\u001b[0m\u001b[0m\n\u001b[1;32m    454\u001b[0m     \u001b[0;32mif\u001b[0m \u001b[0mchunksize\u001b[0m \u001b[0;32mor\u001b[0m \u001b[0miterator\u001b[0m\u001b[0;34m:\u001b[0m\u001b[0;34m\u001b[0m\u001b[0;34m\u001b[0m\u001b[0m\n",
      "\u001b[0;32m~/opt/anaconda3/lib/python3.8/site-packages/pandas/io/parsers.py\u001b[0m in \u001b[0;36m__init__\u001b[0;34m(self, f, engine, **kwds)\u001b[0m\n\u001b[1;32m    944\u001b[0m             \u001b[0mself\u001b[0m\u001b[0;34m.\u001b[0m\u001b[0moptions\u001b[0m\u001b[0;34m[\u001b[0m\u001b[0;34m\"has_index_names\"\u001b[0m\u001b[0;34m]\u001b[0m \u001b[0;34m=\u001b[0m \u001b[0mkwds\u001b[0m\u001b[0;34m[\u001b[0m\u001b[0;34m\"has_index_names\"\u001b[0m\u001b[0;34m]\u001b[0m\u001b[0;34m\u001b[0m\u001b[0;34m\u001b[0m\u001b[0m\n\u001b[1;32m    945\u001b[0m \u001b[0;34m\u001b[0m\u001b[0m\n\u001b[0;32m--> 946\u001b[0;31m         \u001b[0mself\u001b[0m\u001b[0;34m.\u001b[0m\u001b[0m_make_engine\u001b[0m\u001b[0;34m(\u001b[0m\u001b[0mself\u001b[0m\u001b[0;34m.\u001b[0m\u001b[0mengine\u001b[0m\u001b[0;34m)\u001b[0m\u001b[0;34m\u001b[0m\u001b[0;34m\u001b[0m\u001b[0m\n\u001b[0m\u001b[1;32m    947\u001b[0m \u001b[0;34m\u001b[0m\u001b[0m\n\u001b[1;32m    948\u001b[0m     \u001b[0;32mdef\u001b[0m \u001b[0mclose\u001b[0m\u001b[0;34m(\u001b[0m\u001b[0mself\u001b[0m\u001b[0;34m)\u001b[0m\u001b[0;34m:\u001b[0m\u001b[0;34m\u001b[0m\u001b[0;34m\u001b[0m\u001b[0m\n",
      "\u001b[0;32m~/opt/anaconda3/lib/python3.8/site-packages/pandas/io/parsers.py\u001b[0m in \u001b[0;36m_make_engine\u001b[0;34m(self, engine)\u001b[0m\n\u001b[1;32m   1176\u001b[0m     \u001b[0;32mdef\u001b[0m \u001b[0m_make_engine\u001b[0m\u001b[0;34m(\u001b[0m\u001b[0mself\u001b[0m\u001b[0;34m,\u001b[0m \u001b[0mengine\u001b[0m\u001b[0;34m=\u001b[0m\u001b[0;34m\"c\"\u001b[0m\u001b[0;34m)\u001b[0m\u001b[0;34m:\u001b[0m\u001b[0;34m\u001b[0m\u001b[0;34m\u001b[0m\u001b[0m\n\u001b[1;32m   1177\u001b[0m         \u001b[0;32mif\u001b[0m \u001b[0mengine\u001b[0m \u001b[0;34m==\u001b[0m \u001b[0;34m\"c\"\u001b[0m\u001b[0;34m:\u001b[0m\u001b[0;34m\u001b[0m\u001b[0;34m\u001b[0m\u001b[0m\n\u001b[0;32m-> 1178\u001b[0;31m             \u001b[0mself\u001b[0m\u001b[0;34m.\u001b[0m\u001b[0m_engine\u001b[0m \u001b[0;34m=\u001b[0m \u001b[0mCParserWrapper\u001b[0m\u001b[0;34m(\u001b[0m\u001b[0mself\u001b[0m\u001b[0;34m.\u001b[0m\u001b[0mf\u001b[0m\u001b[0;34m,\u001b[0m \u001b[0;34m**\u001b[0m\u001b[0mself\u001b[0m\u001b[0;34m.\u001b[0m\u001b[0moptions\u001b[0m\u001b[0;34m)\u001b[0m\u001b[0;34m\u001b[0m\u001b[0;34m\u001b[0m\u001b[0m\n\u001b[0m\u001b[1;32m   1179\u001b[0m         \u001b[0;32melse\u001b[0m\u001b[0;34m:\u001b[0m\u001b[0;34m\u001b[0m\u001b[0;34m\u001b[0m\u001b[0m\n\u001b[1;32m   1180\u001b[0m             \u001b[0;32mif\u001b[0m \u001b[0mengine\u001b[0m \u001b[0;34m==\u001b[0m \u001b[0;34m\"python\"\u001b[0m\u001b[0;34m:\u001b[0m\u001b[0;34m\u001b[0m\u001b[0;34m\u001b[0m\u001b[0m\n",
      "\u001b[0;32m~/opt/anaconda3/lib/python3.8/site-packages/pandas/io/parsers.py\u001b[0m in \u001b[0;36m__init__\u001b[0;34m(self, src, **kwds)\u001b[0m\n\u001b[1;32m   2006\u001b[0m         \u001b[0mkwds\u001b[0m\u001b[0;34m[\u001b[0m\u001b[0;34m\"usecols\"\u001b[0m\u001b[0;34m]\u001b[0m \u001b[0;34m=\u001b[0m \u001b[0mself\u001b[0m\u001b[0;34m.\u001b[0m\u001b[0musecols\u001b[0m\u001b[0;34m\u001b[0m\u001b[0;34m\u001b[0m\u001b[0m\n\u001b[1;32m   2007\u001b[0m \u001b[0;34m\u001b[0m\u001b[0m\n\u001b[0;32m-> 2008\u001b[0;31m         \u001b[0mself\u001b[0m\u001b[0;34m.\u001b[0m\u001b[0m_reader\u001b[0m \u001b[0;34m=\u001b[0m \u001b[0mparsers\u001b[0m\u001b[0;34m.\u001b[0m\u001b[0mTextReader\u001b[0m\u001b[0;34m(\u001b[0m\u001b[0msrc\u001b[0m\u001b[0;34m,\u001b[0m \u001b[0;34m**\u001b[0m\u001b[0mkwds\u001b[0m\u001b[0;34m)\u001b[0m\u001b[0;34m\u001b[0m\u001b[0;34m\u001b[0m\u001b[0m\n\u001b[0m\u001b[1;32m   2009\u001b[0m         \u001b[0mself\u001b[0m\u001b[0;34m.\u001b[0m\u001b[0munnamed_cols\u001b[0m \u001b[0;34m=\u001b[0m \u001b[0mself\u001b[0m\u001b[0;34m.\u001b[0m\u001b[0m_reader\u001b[0m\u001b[0;34m.\u001b[0m\u001b[0munnamed_cols\u001b[0m\u001b[0;34m\u001b[0m\u001b[0;34m\u001b[0m\u001b[0m\n\u001b[1;32m   2010\u001b[0m \u001b[0;34m\u001b[0m\u001b[0m\n",
      "\u001b[0;32mpandas/_libs/parsers.pyx\u001b[0m in \u001b[0;36mpandas._libs.parsers.TextReader.__cinit__\u001b[0;34m()\u001b[0m\n",
      "\u001b[0;32mpandas/_libs/parsers.pyx\u001b[0m in \u001b[0;36mpandas._libs.parsers.TextReader._setup_parser_source\u001b[0;34m()\u001b[0m\n",
      "\u001b[0;31mFileNotFoundError\u001b[0m: [Errno 2] No such file or directory: '/Users/allie/Documents/cs5010/wnba_stats.csv'"
     ]
    }
   ],
   "source": [
    "wnba_stats = pd.read_csv('/Users/allie/Documents/cs5010/wnba_stats.csv') #Does not have DREB columns (must create)\n",
    "\n",
    "#Delete the duplicated records and include only the \"total\" entries for players that were on multiple teams that year\n",
    "wnba_stats = wnba_stats.drop_duplicates(['Player'])\n",
    "wnba_stats = wnba_stats.drop(columns= ['Team', 'Pos', 'G.1', 'MP.1'])\n",
    "wnba_stats['DRB'] = wnba_stats['TRB'] - wnba_stats['ORB']\n",
    "\n",
    "#Replace accented letters to english equivalent for merging with salary data (where there are no accents)\n",
    "wnba_stats['Player'] = wnba_stats['Player'].str.replace(\n",
    "    u'ć', 'c').str.replace(u'Š', 'S').str.replace(u'č', 'c').str.replace(u'ā', 'a').str.replace(u'ģ', 'g').str.replace(u'ņ', 'n').str.replace(u'ū', 'u')\n",
    "\n",
    "wnba_stats"
   ]
  },
  {
   "source": [
    "## Combine Stats and Salary Data for NBA \n",
    "**Key = \"Player**"
   ],
   "cell_type": "markdown",
   "metadata": {}
  },
  {
   "cell_type": "code",
   "execution_count": 10,
   "metadata": {},
   "outputs": [
    {
     "output_type": "execute_result",
     "data": {
      "text/plain": [
       "                   Player   G  GS    MP    FG   FGA   FG%   3P  3PA   3P%  \\\n",
       "0            Steven Adams  58  58  27.7   3.3   5.3  .614  0.0  0.1  .000   \n",
       "1   Giannis Antetokounmpo  56  56  33.1  10.3  18.3  .562  1.2  3.7  .311   \n",
       "2            Trevor Ariza  25  22  27.2   3.2   7.7  .420  1.7  4.7  .359   \n",
       "3       Marvin Bagley III  41  40  26.1   5.9  11.7  .504  0.9  2.6  .349   \n",
       "4         Harrison Barnes  58  58  36.2   5.5  11.1  .497  1.7  4.4  .391   \n",
       "..                    ...  ..  ..   ...   ...   ...   ...  ...  ...   ...   \n",
       "90         Andrew Wiggins  67  67  33.2   6.9  14.7  .472  2.0  5.2  .382   \n",
       "91        Justise Winslow  24   0  19.3   2.7   8.0  .340  0.3  2.0  .125   \n",
       "92         Christian Wood  41  41  32.3   8.0  15.6  .514  1.9  5.0  .374   \n",
       "93         Thaddeus Young  62  19  24.2   5.5   9.6  .571  0.2  0.6  .263   \n",
       "94            Cody Zeller  42  20  20.3   3.6   6.6  .550  0.1  0.7  .143   \n",
       "\n",
       "    ...  TOV   PF   PTS League   Team Position   Age     Avg_Salary  \\\n",
       "0   ...  1.3  1.9   7.6    NBA    NOP        C   27   $25,000,000     \n",
       "1   ...  3.6  2.8  28.4    NBA    MIL        F   25   $25,000,000     \n",
       "2   ...  0.8  1.8   9.3    NBA    MIA        F   35   $12,500,000     \n",
       "3   ...  1.4  2.4  14.4    NBA    SAC        F   21   $12,724,946     \n",
       "4   ...  1.6  1.3  16.1    NBA    SAC        F   28   $21,250,000     \n",
       "..  ...  ...  ...   ...    ...    ...      ...   ...            ...   \n",
       "90  ...  1.8  2.2  18.3    NBA    GSW        F   25   $29,542,010     \n",
       "91  ...  1.4  1.8   6.4    NBA    MEM        F   24   $13,000,000     \n",
       "92  ...  2.0  2.1  21.0    NBA    HOU        F   25   $13,666,667     \n",
       "93  ...  2.0  2.3  12.1    NBA    CHI        F   32   $14,545,000     \n",
       "94  ...  1.0  2.4   9.0    NBA    CHA        C   27   $14,000,000     \n",
       "\n",
       "   salary_float salary_ratio  \n",
       "0    25000000.0      0.00338  \n",
       "1    25000000.0      0.00338  \n",
       "2    12500000.0      0.00169  \n",
       "3    12724946.0      0.00172  \n",
       "4    21250000.0      0.00287  \n",
       "..          ...          ...  \n",
       "90   29542010.0      0.00399  \n",
       "91   13000000.0      0.00176  \n",
       "92   13666667.0      0.00185  \n",
       "93   14545000.0      0.00197  \n",
       "94   14000000.0      0.00189  \n",
       "\n",
       "[95 rows x 32 columns]"
      ],
      "text/html": "<div>\n<style scoped>\n    .dataframe tbody tr th:only-of-type {\n        vertical-align: middle;\n    }\n\n    .dataframe tbody tr th {\n        vertical-align: top;\n    }\n\n    .dataframe thead th {\n        text-align: right;\n    }\n</style>\n<table border=\"1\" class=\"dataframe\">\n  <thead>\n    <tr style=\"text-align: right;\">\n      <th></th>\n      <th>Player</th>\n      <th>G</th>\n      <th>GS</th>\n      <th>MP</th>\n      <th>FG</th>\n      <th>FGA</th>\n      <th>FG%</th>\n      <th>3P</th>\n      <th>3PA</th>\n      <th>3P%</th>\n      <th>...</th>\n      <th>TOV</th>\n      <th>PF</th>\n      <th>PTS</th>\n      <th>League</th>\n      <th>Team</th>\n      <th>Position</th>\n      <th>Age</th>\n      <th>Avg_Salary</th>\n      <th>salary_float</th>\n      <th>salary_ratio</th>\n    </tr>\n  </thead>\n  <tbody>\n    <tr>\n      <th>0</th>\n      <td>Steven Adams</td>\n      <td>58</td>\n      <td>58</td>\n      <td>27.7</td>\n      <td>3.3</td>\n      <td>5.3</td>\n      <td>.614</td>\n      <td>0.0</td>\n      <td>0.1</td>\n      <td>.000</td>\n      <td>...</td>\n      <td>1.3</td>\n      <td>1.9</td>\n      <td>7.6</td>\n      <td>NBA</td>\n      <td>NOP</td>\n      <td>C</td>\n      <td>27</td>\n      <td>$25,000,000</td>\n      <td>25000000.0</td>\n      <td>0.00338</td>\n    </tr>\n    <tr>\n      <th>1</th>\n      <td>Giannis Antetokounmpo</td>\n      <td>56</td>\n      <td>56</td>\n      <td>33.1</td>\n      <td>10.3</td>\n      <td>18.3</td>\n      <td>.562</td>\n      <td>1.2</td>\n      <td>3.7</td>\n      <td>.311</td>\n      <td>...</td>\n      <td>3.6</td>\n      <td>2.8</td>\n      <td>28.4</td>\n      <td>NBA</td>\n      <td>MIL</td>\n      <td>F</td>\n      <td>25</td>\n      <td>$25,000,000</td>\n      <td>25000000.0</td>\n      <td>0.00338</td>\n    </tr>\n    <tr>\n      <th>2</th>\n      <td>Trevor Ariza</td>\n      <td>25</td>\n      <td>22</td>\n      <td>27.2</td>\n      <td>3.2</td>\n      <td>7.7</td>\n      <td>.420</td>\n      <td>1.7</td>\n      <td>4.7</td>\n      <td>.359</td>\n      <td>...</td>\n      <td>0.8</td>\n      <td>1.8</td>\n      <td>9.3</td>\n      <td>NBA</td>\n      <td>MIA</td>\n      <td>F</td>\n      <td>35</td>\n      <td>$12,500,000</td>\n      <td>12500000.0</td>\n      <td>0.00169</td>\n    </tr>\n    <tr>\n      <th>3</th>\n      <td>Marvin Bagley III</td>\n      <td>41</td>\n      <td>40</td>\n      <td>26.1</td>\n      <td>5.9</td>\n      <td>11.7</td>\n      <td>.504</td>\n      <td>0.9</td>\n      <td>2.6</td>\n      <td>.349</td>\n      <td>...</td>\n      <td>1.4</td>\n      <td>2.4</td>\n      <td>14.4</td>\n      <td>NBA</td>\n      <td>SAC</td>\n      <td>F</td>\n      <td>21</td>\n      <td>$12,724,946</td>\n      <td>12724946.0</td>\n      <td>0.00172</td>\n    </tr>\n    <tr>\n      <th>4</th>\n      <td>Harrison Barnes</td>\n      <td>58</td>\n      <td>58</td>\n      <td>36.2</td>\n      <td>5.5</td>\n      <td>11.1</td>\n      <td>.497</td>\n      <td>1.7</td>\n      <td>4.4</td>\n      <td>.391</td>\n      <td>...</td>\n      <td>1.6</td>\n      <td>1.3</td>\n      <td>16.1</td>\n      <td>NBA</td>\n      <td>SAC</td>\n      <td>F</td>\n      <td>28</td>\n      <td>$21,250,000</td>\n      <td>21250000.0</td>\n      <td>0.00287</td>\n    </tr>\n    <tr>\n      <th>...</th>\n      <td>...</td>\n      <td>...</td>\n      <td>...</td>\n      <td>...</td>\n      <td>...</td>\n      <td>...</td>\n      <td>...</td>\n      <td>...</td>\n      <td>...</td>\n      <td>...</td>\n      <td>...</td>\n      <td>...</td>\n      <td>...</td>\n      <td>...</td>\n      <td>...</td>\n      <td>...</td>\n      <td>...</td>\n      <td>...</td>\n      <td>...</td>\n      <td>...</td>\n      <td>...</td>\n    </tr>\n    <tr>\n      <th>90</th>\n      <td>Andrew Wiggins</td>\n      <td>67</td>\n      <td>67</td>\n      <td>33.2</td>\n      <td>6.9</td>\n      <td>14.7</td>\n      <td>.472</td>\n      <td>2.0</td>\n      <td>5.2</td>\n      <td>.382</td>\n      <td>...</td>\n      <td>1.8</td>\n      <td>2.2</td>\n      <td>18.3</td>\n      <td>NBA</td>\n      <td>GSW</td>\n      <td>F</td>\n      <td>25</td>\n      <td>$29,542,010</td>\n      <td>29542010.0</td>\n      <td>0.00399</td>\n    </tr>\n    <tr>\n      <th>91</th>\n      <td>Justise Winslow</td>\n      <td>24</td>\n      <td>0</td>\n      <td>19.3</td>\n      <td>2.7</td>\n      <td>8.0</td>\n      <td>.340</td>\n      <td>0.3</td>\n      <td>2.0</td>\n      <td>.125</td>\n      <td>...</td>\n      <td>1.4</td>\n      <td>1.8</td>\n      <td>6.4</td>\n      <td>NBA</td>\n      <td>MEM</td>\n      <td>F</td>\n      <td>24</td>\n      <td>$13,000,000</td>\n      <td>13000000.0</td>\n      <td>0.00176</td>\n    </tr>\n    <tr>\n      <th>92</th>\n      <td>Christian Wood</td>\n      <td>41</td>\n      <td>41</td>\n      <td>32.3</td>\n      <td>8.0</td>\n      <td>15.6</td>\n      <td>.514</td>\n      <td>1.9</td>\n      <td>5.0</td>\n      <td>.374</td>\n      <td>...</td>\n      <td>2.0</td>\n      <td>2.1</td>\n      <td>21.0</td>\n      <td>NBA</td>\n      <td>HOU</td>\n      <td>F</td>\n      <td>25</td>\n      <td>$13,666,667</td>\n      <td>13666667.0</td>\n      <td>0.00185</td>\n    </tr>\n    <tr>\n      <th>93</th>\n      <td>Thaddeus Young</td>\n      <td>62</td>\n      <td>19</td>\n      <td>24.2</td>\n      <td>5.5</td>\n      <td>9.6</td>\n      <td>.571</td>\n      <td>0.2</td>\n      <td>0.6</td>\n      <td>.263</td>\n      <td>...</td>\n      <td>2.0</td>\n      <td>2.3</td>\n      <td>12.1</td>\n      <td>NBA</td>\n      <td>CHI</td>\n      <td>F</td>\n      <td>32</td>\n      <td>$14,545,000</td>\n      <td>14545000.0</td>\n      <td>0.00197</td>\n    </tr>\n    <tr>\n      <th>94</th>\n      <td>Cody Zeller</td>\n      <td>42</td>\n      <td>20</td>\n      <td>20.3</td>\n      <td>3.6</td>\n      <td>6.6</td>\n      <td>.550</td>\n      <td>0.1</td>\n      <td>0.7</td>\n      <td>.143</td>\n      <td>...</td>\n      <td>1.0</td>\n      <td>2.4</td>\n      <td>9.0</td>\n      <td>NBA</td>\n      <td>CHA</td>\n      <td>C</td>\n      <td>27</td>\n      <td>$14,000,000</td>\n      <td>14000000.0</td>\n      <td>0.00189</td>\n    </tr>\n  </tbody>\n</table>\n<p>95 rows × 32 columns</p>\n</div>"
     },
     "metadata": {},
     "execution_count": 10
    }
   ],
   "source": [
    "nba_df = pd.merge(nba_stats, nba_salaries, on= 'Player')\n",
    "nba_df['Position'] = nba_df['Position'].replace('PF','F', regex=True).replace('SF','F', regex=True)\n",
    "nba_df['Position'] = nba_df['Position'].replace('PG','G', regex=True).replace('SG','G', regex=True)\n",
    "\n",
    "nba_df['salary_float'] = nba_df['Avg_Salary'].str.strip('$').replace(',','', regex=True).astype(float) #create column of salaries as float values\n",
    "nba_revenue = float(7400000000)\n",
    "nba_df['salary_ratio'] = nba_df['salary_float']/nba_revenue\n",
    "nba_df['salary_ratio'] = nba_df['salary_ratio'].round(5)\n",
    "nba_df\n"
   ]
  },
  {
   "source": [
    "## Combine Stats and Salary Data for WNBA \n",
    "**Key = \"Player**"
   ],
   "cell_type": "markdown",
   "metadata": {}
  },
  {
   "cell_type": "code",
   "execution_count": 11,
   "metadata": {},
   "outputs": [
    {
     "output_type": "error",
     "ename": "NameError",
     "evalue": "name 'wnba_salaries' is not defined",
     "traceback": [
      "\u001b[0;31m---------------------------------------------------------------------------\u001b[0m",
      "\u001b[0;31mNameError\u001b[0m                                 Traceback (most recent call last)",
      "\u001b[0;32m<ipython-input-11-1fcf995cb53a>\u001b[0m in \u001b[0;36m<module>\u001b[0;34m\u001b[0m\n\u001b[0;32m----> 1\u001b[0;31m \u001b[0mwnba_df\u001b[0m \u001b[0;34m=\u001b[0m \u001b[0mpd\u001b[0m\u001b[0;34m.\u001b[0m\u001b[0mmerge\u001b[0m\u001b[0;34m(\u001b[0m\u001b[0mwnba_salaries\u001b[0m\u001b[0;34m,\u001b[0m \u001b[0mwnba_stats\u001b[0m\u001b[0;34m,\u001b[0m \u001b[0mon\u001b[0m\u001b[0;34m=\u001b[0m\u001b[0;34m'Player'\u001b[0m\u001b[0;34m)\u001b[0m\u001b[0;34m\u001b[0m\u001b[0;34m\u001b[0m\u001b[0m\n\u001b[0m\u001b[1;32m      2\u001b[0m \u001b[0;34m\u001b[0m\u001b[0m\n\u001b[1;32m      3\u001b[0m \u001b[0mwnba_df\u001b[0m\u001b[0;34m[\u001b[0m\u001b[0;34m'salary_float'\u001b[0m\u001b[0;34m]\u001b[0m \u001b[0;34m=\u001b[0m \u001b[0mwnba_df\u001b[0m\u001b[0;34m[\u001b[0m\u001b[0;34m'Avg_Salary'\u001b[0m\u001b[0;34m]\u001b[0m\u001b[0;34m.\u001b[0m\u001b[0mstr\u001b[0m\u001b[0;34m.\u001b[0m\u001b[0mstrip\u001b[0m\u001b[0;34m(\u001b[0m\u001b[0;34m'$'\u001b[0m\u001b[0;34m)\u001b[0m\u001b[0;34m.\u001b[0m\u001b[0mreplace\u001b[0m\u001b[0;34m(\u001b[0m\u001b[0;34m','\u001b[0m\u001b[0;34m,\u001b[0m\u001b[0;34m''\u001b[0m\u001b[0;34m,\u001b[0m \u001b[0mregex\u001b[0m\u001b[0;34m=\u001b[0m\u001b[0;32mTrue\u001b[0m\u001b[0;34m)\u001b[0m\u001b[0;34m.\u001b[0m\u001b[0mastype\u001b[0m\u001b[0;34m(\u001b[0m\u001b[0mfloat\u001b[0m\u001b[0;34m)\u001b[0m \u001b[0;31m#create column of salaries as float values\u001b[0m\u001b[0;34m\u001b[0m\u001b[0;34m\u001b[0m\u001b[0m\n\u001b[1;32m      4\u001b[0m \u001b[0mwnba_revenue\u001b[0m \u001b[0;34m=\u001b[0m \u001b[0mfloat\u001b[0m\u001b[0;34m(\u001b[0m\u001b[0;36m60000000\u001b[0m\u001b[0;34m)\u001b[0m\u001b[0;34m\u001b[0m\u001b[0;34m\u001b[0m\u001b[0m\n\u001b[1;32m      5\u001b[0m \u001b[0mwnba_df\u001b[0m\u001b[0;34m[\u001b[0m\u001b[0;34m'salary_ratio'\u001b[0m\u001b[0;34m]\u001b[0m \u001b[0;34m=\u001b[0m \u001b[0mwnba_df\u001b[0m\u001b[0;34m[\u001b[0m\u001b[0;34m'salary_float'\u001b[0m\u001b[0;34m]\u001b[0m\u001b[0;34m/\u001b[0m\u001b[0mwnba_revenue\u001b[0m\u001b[0;34m\u001b[0m\u001b[0;34m\u001b[0m\u001b[0m\n",
      "\u001b[0;31mNameError\u001b[0m: name 'wnba_salaries' is not defined"
     ]
    }
   ],
   "source": [
    "wnba_df = pd.merge(wnba_salaries, wnba_stats, on='Player')\n",
    "\n",
    "wnba_df['salary_float'] = wnba_df['Avg_Salary'].str.strip('$').replace(',','', regex=True).astype(float) #create column of salaries as float values\n",
    "wnba_revenue = float(60000000)\n",
    "wnba_df['salary_ratio'] = wnba_df['salary_float']/wnba_revenue\n",
    "wnba_df['salary_ratio'] = wnba_df['salary_ratio'].round(5)\n",
    "\n",
    "wnba_df"
   ]
  },
  {
   "source": [
    "## Merge NBA and WNBA Data\n",
    "Once stats were combined with salaries, we were left with: <br>\n",
    "70 WNBA Players <br>\n",
    "95 NBA Players <br> \n",
    "**Total of 165 unique variables for exploratory analysis**"
   ],
   "cell_type": "markdown",
   "metadata": {}
  },
  {
   "cell_type": "code",
   "execution_count": 31,
   "metadata": {},
   "outputs": [
    {
     "output_type": "execute_result",
     "data": {
      "text/plain": [
       "                Player   G  GS    MP    FG   FGA    FG%   3P   3PA    3P%  \\\n",
       "0         James Harden  42  42  37.1   8.0  17.2   .463  2.8   7.8   .358   \n",
       "1            John Wall  40  40  32.2   7.3  18.2   .404  2.0   6.2   .317   \n",
       "2    Russell Westbrook  53  53  35.6   8.3  18.8   .439  1.3   4.1   .315   \n",
       "3         Kevin Durant  25  22  32.5   9.4  17.3   .544  2.5   5.4   .467   \n",
       "4        Stephen Curry  53  53  34.1  10.2  20.9   .489  5.2  12.1   .427   \n",
       "..                 ...  ..  ..   ...   ...   ...    ...  ...   ...    ...   \n",
       "158  Theresa Plaisance  13   0    90   0.8   2.2  0.379  0.4   1.3  0.294   \n",
       "159        Lexie Brown  17  13   374   2.2   6.5  0.342  0.8   3.1  0.269   \n",
       "162   Seimone Augustus  21   0   332   2.6   5.2  0.491  0.6     1  0.545   \n",
       "163         Nia Coffey  15   1   230   1.1   2.5  0.421  0.5   1.4  0.333   \n",
       "164        Bria Holmes  18   4   291   1.9   5.4  0.357  0.6   1.7  0.333   \n",
       "\n",
       "     ...   PTS League   Team Position   Age     Avg_Salary salary_float  \\\n",
       "0    ...  25.2    NBA    BKN        G   31   $42,782,880     42782880.0   \n",
       "1    ...  20.6    NBA    HOU        G   30   $42,782,880     42782880.0   \n",
       "2    ...  21.8    NBA    WAS        G   31   $41,358,814     41358814.0   \n",
       "3    ...  27.5    NBA    BKN        F   32   $41,063,925     41063925.0   \n",
       "4    ...  31.3    NBA    GSW        G   32   $40,231,758     40231758.0   \n",
       "..   ...   ...    ...    ...      ...   ...            ...          ...   \n",
       "158  ...   2.5   WNBA    WAS        F    28      $70,040        70040.0   \n",
       "159  ...   6.4   WNBA    CHI        G    26      $70,040        70040.0   \n",
       "162  ...   5.9   WNBA     LA        G    36      $70,040        70040.0   \n",
       "163  ...   2.7   WNBA     LA        F    25      $70,040        70040.0   \n",
       "164  ...   4.9   WNBA     LA        G    27      $70,040        70040.0   \n",
       "\n",
       "    salary_ratio       GS% Salary_Rank  \n",
       "0        0.00578  1.000000           1  \n",
       "1        0.00578  1.000000           2  \n",
       "2        0.00559  1.000000           3  \n",
       "3        0.00555  0.880000           4  \n",
       "4        0.00544  1.000000           5  \n",
       "..           ...       ...         ...  \n",
       "158      0.00117  0.000000         159  \n",
       "159      0.00117  0.764706         160  \n",
       "162      0.00117  0.000000         163  \n",
       "163      0.00117  0.066667         164  \n",
       "164      0.00117  0.222222         165  \n",
       "\n",
       "[158 rows x 34 columns]"
      ],
      "text/html": "<div>\n<style scoped>\n    .dataframe tbody tr th:only-of-type {\n        vertical-align: middle;\n    }\n\n    .dataframe tbody tr th {\n        vertical-align: top;\n    }\n\n    .dataframe thead th {\n        text-align: right;\n    }\n</style>\n<table border=\"1\" class=\"dataframe\">\n  <thead>\n    <tr style=\"text-align: right;\">\n      <th></th>\n      <th>Player</th>\n      <th>G</th>\n      <th>GS</th>\n      <th>MP</th>\n      <th>FG</th>\n      <th>FGA</th>\n      <th>FG%</th>\n      <th>3P</th>\n      <th>3PA</th>\n      <th>3P%</th>\n      <th>...</th>\n      <th>PTS</th>\n      <th>League</th>\n      <th>Team</th>\n      <th>Position</th>\n      <th>Age</th>\n      <th>Avg_Salary</th>\n      <th>salary_float</th>\n      <th>salary_ratio</th>\n      <th>GS%</th>\n      <th>Salary_Rank</th>\n    </tr>\n  </thead>\n  <tbody>\n    <tr>\n      <th>0</th>\n      <td>James Harden</td>\n      <td>42</td>\n      <td>42</td>\n      <td>37.1</td>\n      <td>8.0</td>\n      <td>17.2</td>\n      <td>.463</td>\n      <td>2.8</td>\n      <td>7.8</td>\n      <td>.358</td>\n      <td>...</td>\n      <td>25.2</td>\n      <td>NBA</td>\n      <td>BKN</td>\n      <td>G</td>\n      <td>31</td>\n      <td>$42,782,880</td>\n      <td>42782880.0</td>\n      <td>0.00578</td>\n      <td>1.000000</td>\n      <td>1</td>\n    </tr>\n    <tr>\n      <th>1</th>\n      <td>John Wall</td>\n      <td>40</td>\n      <td>40</td>\n      <td>32.2</td>\n      <td>7.3</td>\n      <td>18.2</td>\n      <td>.404</td>\n      <td>2.0</td>\n      <td>6.2</td>\n      <td>.317</td>\n      <td>...</td>\n      <td>20.6</td>\n      <td>NBA</td>\n      <td>HOU</td>\n      <td>G</td>\n      <td>30</td>\n      <td>$42,782,880</td>\n      <td>42782880.0</td>\n      <td>0.00578</td>\n      <td>1.000000</td>\n      <td>2</td>\n    </tr>\n    <tr>\n      <th>2</th>\n      <td>Russell Westbrook</td>\n      <td>53</td>\n      <td>53</td>\n      <td>35.6</td>\n      <td>8.3</td>\n      <td>18.8</td>\n      <td>.439</td>\n      <td>1.3</td>\n      <td>4.1</td>\n      <td>.315</td>\n      <td>...</td>\n      <td>21.8</td>\n      <td>NBA</td>\n      <td>WAS</td>\n      <td>G</td>\n      <td>31</td>\n      <td>$41,358,814</td>\n      <td>41358814.0</td>\n      <td>0.00559</td>\n      <td>1.000000</td>\n      <td>3</td>\n    </tr>\n    <tr>\n      <th>3</th>\n      <td>Kevin Durant</td>\n      <td>25</td>\n      <td>22</td>\n      <td>32.5</td>\n      <td>9.4</td>\n      <td>17.3</td>\n      <td>.544</td>\n      <td>2.5</td>\n      <td>5.4</td>\n      <td>.467</td>\n      <td>...</td>\n      <td>27.5</td>\n      <td>NBA</td>\n      <td>BKN</td>\n      <td>F</td>\n      <td>32</td>\n      <td>$41,063,925</td>\n      <td>41063925.0</td>\n      <td>0.00555</td>\n      <td>0.880000</td>\n      <td>4</td>\n    </tr>\n    <tr>\n      <th>4</th>\n      <td>Stephen Curry</td>\n      <td>53</td>\n      <td>53</td>\n      <td>34.1</td>\n      <td>10.2</td>\n      <td>20.9</td>\n      <td>.489</td>\n      <td>5.2</td>\n      <td>12.1</td>\n      <td>.427</td>\n      <td>...</td>\n      <td>31.3</td>\n      <td>NBA</td>\n      <td>GSW</td>\n      <td>G</td>\n      <td>32</td>\n      <td>$40,231,758</td>\n      <td>40231758.0</td>\n      <td>0.00544</td>\n      <td>1.000000</td>\n      <td>5</td>\n    </tr>\n    <tr>\n      <th>...</th>\n      <td>...</td>\n      <td>...</td>\n      <td>...</td>\n      <td>...</td>\n      <td>...</td>\n      <td>...</td>\n      <td>...</td>\n      <td>...</td>\n      <td>...</td>\n      <td>...</td>\n      <td>...</td>\n      <td>...</td>\n      <td>...</td>\n      <td>...</td>\n      <td>...</td>\n      <td>...</td>\n      <td>...</td>\n      <td>...</td>\n      <td>...</td>\n      <td>...</td>\n      <td>...</td>\n    </tr>\n    <tr>\n      <th>158</th>\n      <td>Theresa Plaisance</td>\n      <td>13</td>\n      <td>0</td>\n      <td>90</td>\n      <td>0.8</td>\n      <td>2.2</td>\n      <td>0.379</td>\n      <td>0.4</td>\n      <td>1.3</td>\n      <td>0.294</td>\n      <td>...</td>\n      <td>2.5</td>\n      <td>WNBA</td>\n      <td>WAS</td>\n      <td>F</td>\n      <td>28</td>\n      <td>$70,040</td>\n      <td>70040.0</td>\n      <td>0.00117</td>\n      <td>0.000000</td>\n      <td>159</td>\n    </tr>\n    <tr>\n      <th>159</th>\n      <td>Lexie Brown</td>\n      <td>17</td>\n      <td>13</td>\n      <td>374</td>\n      <td>2.2</td>\n      <td>6.5</td>\n      <td>0.342</td>\n      <td>0.8</td>\n      <td>3.1</td>\n      <td>0.269</td>\n      <td>...</td>\n      <td>6.4</td>\n      <td>WNBA</td>\n      <td>CHI</td>\n      <td>G</td>\n      <td>26</td>\n      <td>$70,040</td>\n      <td>70040.0</td>\n      <td>0.00117</td>\n      <td>0.764706</td>\n      <td>160</td>\n    </tr>\n    <tr>\n      <th>162</th>\n      <td>Seimone Augustus</td>\n      <td>21</td>\n      <td>0</td>\n      <td>332</td>\n      <td>2.6</td>\n      <td>5.2</td>\n      <td>0.491</td>\n      <td>0.6</td>\n      <td>1</td>\n      <td>0.545</td>\n      <td>...</td>\n      <td>5.9</td>\n      <td>WNBA</td>\n      <td>LA</td>\n      <td>G</td>\n      <td>36</td>\n      <td>$70,040</td>\n      <td>70040.0</td>\n      <td>0.00117</td>\n      <td>0.000000</td>\n      <td>163</td>\n    </tr>\n    <tr>\n      <th>163</th>\n      <td>Nia Coffey</td>\n      <td>15</td>\n      <td>1</td>\n      <td>230</td>\n      <td>1.1</td>\n      <td>2.5</td>\n      <td>0.421</td>\n      <td>0.5</td>\n      <td>1.4</td>\n      <td>0.333</td>\n      <td>...</td>\n      <td>2.7</td>\n      <td>WNBA</td>\n      <td>LA</td>\n      <td>F</td>\n      <td>25</td>\n      <td>$70,040</td>\n      <td>70040.0</td>\n      <td>0.00117</td>\n      <td>0.066667</td>\n      <td>164</td>\n    </tr>\n    <tr>\n      <th>164</th>\n      <td>Bria Holmes</td>\n      <td>18</td>\n      <td>4</td>\n      <td>291</td>\n      <td>1.9</td>\n      <td>5.4</td>\n      <td>0.357</td>\n      <td>0.6</td>\n      <td>1.7</td>\n      <td>0.333</td>\n      <td>...</td>\n      <td>4.9</td>\n      <td>WNBA</td>\n      <td>LA</td>\n      <td>G</td>\n      <td>27</td>\n      <td>$70,040</td>\n      <td>70040.0</td>\n      <td>0.00117</td>\n      <td>0.222222</td>\n      <td>165</td>\n    </tr>\n  </tbody>\n</table>\n<p>158 rows × 34 columns</p>\n</div>"
     },
     "metadata": {},
     "execution_count": 31
    }
   ],
   "source": [
    "\n",
    "# combine NBA & WNBA data\n",
    "all_df = pd.concat([nba_df, wnba_df])\n",
    "\n",
    "# Create column easy  to sort and compare (float)\n",
    "all_df = all_df.sort_values('salary_float', ascending=False).reset_index(drop = True)\n",
    "\n",
    "# Calculated column of Games Played Percentage\n",
    "all_df['GS%'] = all_df['GS'].astype(float) / all_df['G'].astype(float)\n",
    "\n",
    "# Player Ranked in order from Highest to Lowest Salary\n",
    "all_df['Salary_Rank'] = all_df.index + 1\n",
    "\n",
    "# Drop any rows with null values\n",
    "all_df = all_df.dropna()\n",
    "all_df"
   ]
  },
  {
   "cell_type": "code",
   "execution_count": 32,
   "metadata": {},
   "outputs": [],
   "source": [
    "all_df.to_csv(r'C:\\Users\\allie\\Documents\\cs5010\\NBAvsWNBA.csv', index = False)\n"
   ]
  },
  {
   "cell_type": "code",
   "execution_count": null,
   "metadata": {},
   "outputs": [],
   "source": []
  }
 ]
}