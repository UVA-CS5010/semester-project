{
 "metadata": {
  "language_info": {
   "codemirror_mode": {
    "name": "ipython",
    "version": 3
   },
   "file_extension": ".py",
   "mimetype": "text/x-python",
   "name": "python",
   "nbconvert_exporter": "python",
   "pygments_lexer": "ipython3",
   "version": "3.8.5"
  },
  "orig_nbformat": 2,
  "kernelspec": {
   "name": "python385jvsc74a57bd03f5959a4e9baf1c3db09ced1f044d580a949727e6baac14607796db38400a28a",
   "display_name": "Python 3.8.5 64-bit ('base': conda)"
  }
 },
 "nbformat": 4,
 "nbformat_minor": 2,
 "cells": [
  {
   "source": [
    "## NBA vs WNBA Exploratory Analysis"
   ],
   "cell_type": "markdown",
   "metadata": {}
  },
  {
   "cell_type": "code",
   "execution_count": 33,
   "metadata": {},
   "outputs": [
    {
     "output_type": "execute_result",
     "data": {
      "text/plain": [
       "                 Player   G  GS     MP    FG   FGA    FG%   3P   3PA    3P%  \\\n",
       "160        Megan Walker  18   0  205.0   1.4   4.3  0.321  0.3   2.4  0.140   \n",
       "159  Jocelyn Willoughby  22   5  383.0   1.8   5.0  0.358  0.7   1.7  0.405   \n",
       "158       Jazmine Jones  20   2  428.0   3.5   8.6  0.404  0.8   2.3  0.333   \n",
       "154        Bella Alarie  22   3  309.0   1.1   3.0  0.364  0.0   0.6  0.077   \n",
       "157        Ruthy Hebard  22   6  320.0   2.6   3.9  0.682  0.0   0.0    NaN   \n",
       "..                  ...  ..  ..    ...   ...   ...    ...  ...   ...    ...   \n",
       "4         Stephen Curry  51  51   34.1  10.2  21.0  0.486  5.1  12.1  0.425   \n",
       "3          Kevin Durant  24  22   32.7   9.3  17.1  0.543  2.5   5.5  0.462   \n",
       "2     Russell Westbrook  51  51   35.6   8.2  18.9  0.436  1.3   4.1  0.310   \n",
       "1          James Harden  42  42   37.1   8.0  17.2  0.463  2.8   7.8  0.358   \n",
       "0             John Wall  39  39   32.0   7.3  18.1  0.403  2.0   6.2  0.322   \n",
       "\n",
       "     ...   PF   PTS  League   Team  Position  Age    Avg_Salary  salary_float  \\\n",
       "160  ...  0.8   3.3    WNBA    PHX         F   22      $65,459          65459   \n",
       "159  ...  2.3   5.8    WNBA     NY         F   23      $65,459          65459   \n",
       "158  ...  3.0  10.8    WNBA     NY         G   24      $65,459          65459   \n",
       "154  ...  1.6   2.7    WNBA    DAL         G   22      $68,339          68339   \n",
       "157  ...  1.6   5.7    WNBA    CHI         F   22      $68,339          68339   \n",
       "..   ...  ...   ...     ...    ...       ...  ...           ...           ...   \n",
       "4    ...  1.8  31.1     NBA    GSW         G   32  $40,231,758       40231758   \n",
       "3    ...  2.0  27.3     NBA    BKN         F   32  $41,063,925       41063925   \n",
       "2    ...  2.8  21.6     NBA    WAS         G   31  $41,358,814       41358814   \n",
       "1    ...  2.3  25.2     NBA    BKN         G   31  $42,782,880       42782880   \n",
       "0    ...  1.1  20.4     NBA    HOU         G   30  $42,782,880       42782880   \n",
       "\n",
       "     salary_ratio  Salary_Rank  \n",
       "160       0.00109          161  \n",
       "159       0.00109          160  \n",
       "158       0.00109          159  \n",
       "154       0.00114          155  \n",
       "157       0.00114          158  \n",
       "..            ...          ...  \n",
       "4         0.00544            5  \n",
       "3         0.00555            4  \n",
       "2         0.00559            3  \n",
       "1         0.00578            2  \n",
       "0         0.00578            1  \n",
       "\n",
       "[161 rows x 33 columns]"
      ],
      "text/html": "<div>\n<style scoped>\n    .dataframe tbody tr th:only-of-type {\n        vertical-align: middle;\n    }\n\n    .dataframe tbody tr th {\n        vertical-align: top;\n    }\n\n    .dataframe thead th {\n        text-align: right;\n    }\n</style>\n<table border=\"1\" class=\"dataframe\">\n  <thead>\n    <tr style=\"text-align: right;\">\n      <th></th>\n      <th>Player</th>\n      <th>G</th>\n      <th>GS</th>\n      <th>MP</th>\n      <th>FG</th>\n      <th>FGA</th>\n      <th>FG%</th>\n      <th>3P</th>\n      <th>3PA</th>\n      <th>3P%</th>\n      <th>...</th>\n      <th>PF</th>\n      <th>PTS</th>\n      <th>League</th>\n      <th>Team</th>\n      <th>Position</th>\n      <th>Age</th>\n      <th>Avg_Salary</th>\n      <th>salary_float</th>\n      <th>salary_ratio</th>\n      <th>Salary_Rank</th>\n    </tr>\n  </thead>\n  <tbody>\n    <tr>\n      <th>160</th>\n      <td>Megan Walker</td>\n      <td>18</td>\n      <td>0</td>\n      <td>205.0</td>\n      <td>1.4</td>\n      <td>4.3</td>\n      <td>0.321</td>\n      <td>0.3</td>\n      <td>2.4</td>\n      <td>0.140</td>\n      <td>...</td>\n      <td>0.8</td>\n      <td>3.3</td>\n      <td>WNBA</td>\n      <td>PHX</td>\n      <td>F</td>\n      <td>22</td>\n      <td>$65,459</td>\n      <td>65459</td>\n      <td>0.00109</td>\n      <td>161</td>\n    </tr>\n    <tr>\n      <th>159</th>\n      <td>Jocelyn Willoughby</td>\n      <td>22</td>\n      <td>5</td>\n      <td>383.0</td>\n      <td>1.8</td>\n      <td>5.0</td>\n      <td>0.358</td>\n      <td>0.7</td>\n      <td>1.7</td>\n      <td>0.405</td>\n      <td>...</td>\n      <td>2.3</td>\n      <td>5.8</td>\n      <td>WNBA</td>\n      <td>NY</td>\n      <td>F</td>\n      <td>23</td>\n      <td>$65,459</td>\n      <td>65459</td>\n      <td>0.00109</td>\n      <td>160</td>\n    </tr>\n    <tr>\n      <th>158</th>\n      <td>Jazmine Jones</td>\n      <td>20</td>\n      <td>2</td>\n      <td>428.0</td>\n      <td>3.5</td>\n      <td>8.6</td>\n      <td>0.404</td>\n      <td>0.8</td>\n      <td>2.3</td>\n      <td>0.333</td>\n      <td>...</td>\n      <td>3.0</td>\n      <td>10.8</td>\n      <td>WNBA</td>\n      <td>NY</td>\n      <td>G</td>\n      <td>24</td>\n      <td>$65,459</td>\n      <td>65459</td>\n      <td>0.00109</td>\n      <td>159</td>\n    </tr>\n    <tr>\n      <th>154</th>\n      <td>Bella Alarie</td>\n      <td>22</td>\n      <td>3</td>\n      <td>309.0</td>\n      <td>1.1</td>\n      <td>3.0</td>\n      <td>0.364</td>\n      <td>0.0</td>\n      <td>0.6</td>\n      <td>0.077</td>\n      <td>...</td>\n      <td>1.6</td>\n      <td>2.7</td>\n      <td>WNBA</td>\n      <td>DAL</td>\n      <td>G</td>\n      <td>22</td>\n      <td>$68,339</td>\n      <td>68339</td>\n      <td>0.00114</td>\n      <td>155</td>\n    </tr>\n    <tr>\n      <th>157</th>\n      <td>Ruthy Hebard</td>\n      <td>22</td>\n      <td>6</td>\n      <td>320.0</td>\n      <td>2.6</td>\n      <td>3.9</td>\n      <td>0.682</td>\n      <td>0.0</td>\n      <td>0.0</td>\n      <td>NaN</td>\n      <td>...</td>\n      <td>1.6</td>\n      <td>5.7</td>\n      <td>WNBA</td>\n      <td>CHI</td>\n      <td>F</td>\n      <td>22</td>\n      <td>$68,339</td>\n      <td>68339</td>\n      <td>0.00114</td>\n      <td>158</td>\n    </tr>\n    <tr>\n      <th>...</th>\n      <td>...</td>\n      <td>...</td>\n      <td>...</td>\n      <td>...</td>\n      <td>...</td>\n      <td>...</td>\n      <td>...</td>\n      <td>...</td>\n      <td>...</td>\n      <td>...</td>\n      <td>...</td>\n      <td>...</td>\n      <td>...</td>\n      <td>...</td>\n      <td>...</td>\n      <td>...</td>\n      <td>...</td>\n      <td>...</td>\n      <td>...</td>\n      <td>...</td>\n      <td>...</td>\n    </tr>\n    <tr>\n      <th>4</th>\n      <td>Stephen Curry</td>\n      <td>51</td>\n      <td>51</td>\n      <td>34.1</td>\n      <td>10.2</td>\n      <td>21.0</td>\n      <td>0.486</td>\n      <td>5.1</td>\n      <td>12.1</td>\n      <td>0.425</td>\n      <td>...</td>\n      <td>1.8</td>\n      <td>31.1</td>\n      <td>NBA</td>\n      <td>GSW</td>\n      <td>G</td>\n      <td>32</td>\n      <td>$40,231,758</td>\n      <td>40231758</td>\n      <td>0.00544</td>\n      <td>5</td>\n    </tr>\n    <tr>\n      <th>3</th>\n      <td>Kevin Durant</td>\n      <td>24</td>\n      <td>22</td>\n      <td>32.7</td>\n      <td>9.3</td>\n      <td>17.1</td>\n      <td>0.543</td>\n      <td>2.5</td>\n      <td>5.5</td>\n      <td>0.462</td>\n      <td>...</td>\n      <td>2.0</td>\n      <td>27.3</td>\n      <td>NBA</td>\n      <td>BKN</td>\n      <td>F</td>\n      <td>32</td>\n      <td>$41,063,925</td>\n      <td>41063925</td>\n      <td>0.00555</td>\n      <td>4</td>\n    </tr>\n    <tr>\n      <th>2</th>\n      <td>Russell Westbrook</td>\n      <td>51</td>\n      <td>51</td>\n      <td>35.6</td>\n      <td>8.2</td>\n      <td>18.9</td>\n      <td>0.436</td>\n      <td>1.3</td>\n      <td>4.1</td>\n      <td>0.310</td>\n      <td>...</td>\n      <td>2.8</td>\n      <td>21.6</td>\n      <td>NBA</td>\n      <td>WAS</td>\n      <td>G</td>\n      <td>31</td>\n      <td>$41,358,814</td>\n      <td>41358814</td>\n      <td>0.00559</td>\n      <td>3</td>\n    </tr>\n    <tr>\n      <th>1</th>\n      <td>James Harden</td>\n      <td>42</td>\n      <td>42</td>\n      <td>37.1</td>\n      <td>8.0</td>\n      <td>17.2</td>\n      <td>0.463</td>\n      <td>2.8</td>\n      <td>7.8</td>\n      <td>0.358</td>\n      <td>...</td>\n      <td>2.3</td>\n      <td>25.2</td>\n      <td>NBA</td>\n      <td>BKN</td>\n      <td>G</td>\n      <td>31</td>\n      <td>$42,782,880</td>\n      <td>42782880</td>\n      <td>0.00578</td>\n      <td>2</td>\n    </tr>\n    <tr>\n      <th>0</th>\n      <td>John Wall</td>\n      <td>39</td>\n      <td>39</td>\n      <td>32.0</td>\n      <td>7.3</td>\n      <td>18.1</td>\n      <td>0.403</td>\n      <td>2.0</td>\n      <td>6.2</td>\n      <td>0.322</td>\n      <td>...</td>\n      <td>1.1</td>\n      <td>20.4</td>\n      <td>NBA</td>\n      <td>HOU</td>\n      <td>G</td>\n      <td>30</td>\n      <td>$42,782,880</td>\n      <td>42782880</td>\n      <td>0.00578</td>\n      <td>1</td>\n    </tr>\n  </tbody>\n</table>\n<p>161 rows × 33 columns</p>\n</div>"
     },
     "metadata": {},
     "execution_count": 33
    }
   ],
   "source": [
    "import pandas as pd\n",
    "\n",
    "path = r'C:\\Users\\allie\\Documents\\cs5010\\NBAvsWNBA.csv' # use your path\n",
    "#path = '/Users/juliecrowe/Documents/UVA Classes/CS 5010/NBAvsWNBA.csv'\n",
    "\n",
    "df= pd.read_csv(path)  \n",
    "df.sort_values('salary_float')\n",
    "#df.dtypes"
   ]
  },
  {
   "source": [
    "### Important Constant values we may want to refer to:\n",
    "\n",
    "**NBA Salary Cap = $109,140,000** <br>\n",
    "**WNBA Salary Cap = $1,300,000** <br>\n",
    "**NBA Revenue = $7,400,000,000** <br>\n",
    "**WNBA Revenue = $60,000,000**"
   ],
   "cell_type": "markdown",
   "metadata": {}
  },
  {
   "cell_type": "code",
   "execution_count": 75,
   "metadata": {},
   "outputs": [],
   "source": [
    "nba_salary_cap = float(109140000)\n",
    "wnba_salary_cap = float(1300000)\n",
    "nba_revenue = float(7400000000)\n",
    "wnba_revenue = float(60000000)"
   ]
  },
  {
   "source": [
    "### Views of Salaries vs League"
   ],
   "cell_type": "markdown",
   "metadata": {}
  },
  {
   "cell_type": "code",
   "execution_count": 4,
   "metadata": {},
   "outputs": [
    {
     "output_type": "display_data",
     "data": {
      "application/vnd.plotly.v1+json": {
       "config": {
        "plotlyServerURL": "https://plot.ly"
       },
       "data": [
        {
         "customdata": [
          [
           "$42,782,880  "
          ],
          [
           "$42,782,880  "
          ],
          [
           "$41,358,814  "
          ],
          [
           "$41,063,925  "
          ],
          [
           "$40,231,758  "
          ],
          [
           "$39,932,648  "
          ],
          [
           "$38,328,212  "
          ],
          [
           "$37,980,720  "
          ],
          [
           "$36,000,000  "
          ],
          [
           "$35,500,000  "
          ],
          [
           "$35,448,672  "
          ],
          [
           "$35,197,650  "
          ],
          [
           "$35,197,650  "
          ],
          [
           "$34,379,100  "
          ],
          [
           "$34,227,984  "
          ],
          [
           "$34,226,304  "
          ],
          [
           "$34,122,650  "
          ],
          [
           "$31,650,600  "
          ],
          [
           "$31,650,600  "
          ],
          [
           "$31,650,600  "
          ],
          [
           "$31,650,600  "
          ],
          [
           "$30,521,116  "
          ],
          [
           "$30,500,000  "
          ],
          [
           "$30,100,543  "
          ],
          [
           "$30,000,000  "
          ],
          [
           "$29,542,010  "
          ],
          [
           "$29,542,010  "
          ],
          [
           "$29,331,375  "
          ],
          [
           "$27,977,689  "
          ],
          [
           "$27,800,000  "
          ],
          [
           "$27,250,000  "
          ],
          [
           "$26,583,334  "
          ],
          [
           "$25,500,000  "
          ],
          [
           "$25,434,263  "
          ],
          [
           "$25,200,000  "
          ],
          [
           "$25,000,000  "
          ],
          [
           "$25,000,000  "
          ],
          [
           "$24,916,591  "
          ],
          [
           "$23,500,000  "
          ],
          [
           "$21,250,000  "
          ],
          [
           "$21,250,000  "
          ],
          [
           "$21,250,000  "
          ],
          [
           "$21,250,000  "
          ],
          [
           "$21,000,000  "
          ],
          [
           "$20,700,000  "
          ],
          [
           "$20,475,000  "
          ],
          [
           "$20,002,500  "
          ],
          [
           "$20,000,000  "
          ],
          [
           "$20,000,000  "
          ],
          [
           "$19,500,000  "
          ],
          [
           "$18,900,000  "
          ],
          [
           "$18,893,589  "
          ],
          [
           "$18,750,000  "
          ],
          [
           "$18,725,000  "
          ],
          [
           "$18,000,000  "
          ],
          [
           "$17,737,500  "
          ],
          [
           "$17,500,000  "
          ],
          [
           "$17,500,000  "
          ],
          [
           "$17,500,000  "
          ],
          [
           "$17,000,000  "
          ],
          [
           "$17,000,000  "
          ],
          [
           "$16,000,000  "
          ],
          [
           "$15,955,000  "
          ],
          [
           "$15,000,000  "
          ],
          [
           "$15,000,000  "
          ],
          [
           "$15,000,000  "
          ],
          [
           "$15,000,000  "
          ],
          [
           "$14,545,000  "
          ],
          [
           "$14,431,700  "
          ],
          [
           "$14,000,000  "
          ],
          [
           "$13,666,667  "
          ],
          [
           "$13,500,000  "
          ],
          [
           "$13,333,327  "
          ],
          [
           "$13,250,000  "
          ],
          [
           "$13,250,000  "
          ],
          [
           "$13,038,862  "
          ],
          [
           "$13,000,000  "
          ],
          [
           "$13,000,000  "
          ],
          [
           "$13,000,000  "
          ],
          [
           "$12,999,975  "
          ],
          [
           "$12,880,000  "
          ],
          [
           "$12,724,946  "
          ],
          [
           "$12,625,000  "
          ],
          [
           "$12,500,000  "
          ],
          [
           "$12,500,000  "
          ],
          [
           "$12,400,000  "
          ]
         ],
         "hovertemplate": "League=NBA<br>Salary_Rank=%{x}<br>salary_float=%{y}<br>Avg_Salary=%{customdata[0]}<extra></extra>",
         "legendgroup": "NBA",
         "marker": {
          "color": "#636efa",
          "symbol": "circle"
         },
         "mode": "markers",
         "name": "NBA",
         "orientation": "v",
         "showlegend": true,
         "type": "scatter",
         "x": [
          1,
          2,
          3,
          4,
          5,
          6,
          7,
          8,
          9,
          10,
          11,
          12,
          13,
          14,
          15,
          16,
          17,
          18,
          19,
          20,
          21,
          22,
          23,
          24,
          25,
          26,
          27,
          28,
          29,
          30,
          31,
          32,
          33,
          34,
          35,
          36,
          37,
          38,
          39,
          40,
          41,
          42,
          43,
          44,
          45,
          46,
          47,
          48,
          49,
          50,
          51,
          52,
          53,
          54,
          55,
          56,
          57,
          58,
          59,
          60,
          61,
          62,
          63,
          64,
          65,
          66,
          67,
          68,
          69,
          70,
          71,
          72,
          73,
          74,
          75,
          76,
          77,
          78,
          79,
          80,
          81,
          82,
          83,
          84,
          85,
          86
         ],
         "xaxis": "x2",
         "y": [
          42782880,
          42782880,
          41358814,
          41063925,
          40231758,
          39932648,
          38328212,
          37980720,
          36000000,
          35500000,
          35448672,
          35197650,
          35197650,
          34379100,
          34227984,
          34226304,
          34122650,
          31650600,
          31650600,
          31650600,
          31650600,
          30521116,
          30500000,
          30100543,
          30000000,
          29542010,
          29542010,
          29331375,
          27977689,
          27800000,
          27250000,
          26583334,
          25500000,
          25434263,
          25200000,
          25000000,
          25000000,
          24916591,
          23500000,
          21250000,
          21250000,
          21250000,
          21250000,
          21000000,
          20700000,
          20475000,
          20002500,
          20000000,
          20000000,
          19500000,
          18900000,
          18893589,
          18750000,
          18725000,
          18000000,
          17737500,
          17500000,
          17500000,
          17500000,
          17000000,
          17000000,
          16000000,
          15955000,
          15000000,
          15000000,
          15000000,
          15000000,
          14545000,
          14431700,
          14000000,
          13666667,
          13500000,
          13333327,
          13250000,
          13250000,
          13038862,
          13000000,
          13000000,
          13000000,
          12999975,
          12880000,
          12724946,
          12625000,
          12500000,
          12500000,
          12400000
         ],
         "yaxis": "y2"
        },
        {
         "customdata": [
          [
           "$224,870  "
          ],
          [
           "$224,870  "
          ],
          [
           "$224,772  "
          ],
          [
           "$224,675  "
          ],
          [
           "$221,515  "
          ],
          [
           "$221,450  "
          ],
          [
           "$209,000  "
          ],
          [
           "$203,000  "
          ],
          [
           "$197,000  "
          ],
          [
           "$196,267  "
          ],
          [
           "$196,267  "
          ],
          [
           "$196,267  "
          ],
          [
           "$193,409  "
          ],
          [
           "$193,409  "
          ],
          [
           "$192,500  "
          ],
          [
           "$190,550  "
          ],
          [
           "$190,517  "
          ],
          [
           "$188,333  "
          ],
          [
           "$187,750  "
          ],
          [
           "$187,750  "
          ],
          [
           "$187,750  "
          ],
          [
           "$183,000  "
          ],
          [
           "$177,625  "
          ],
          [
           "$175,067  "
          ],
          [
           "$172,550  "
          ],
          [
           "$172,500  "
          ],
          [
           "$170,000  "
          ],
          [
           "$165,000  "
          ],
          [
           "$164,800  "
          ],
          [
           "$159,867  "
          ],
          [
           "$155,000  "
          ],
          [
           "$154,455  "
          ],
          [
           "$150,350  "
          ],
          [
           "$144,242  "
          ],
          [
           "$142,100  "
          ],
          [
           "$125,250  "
          ],
          [
           "$120,000  "
          ],
          [
           "$120,000  "
          ],
          [
           "$119,500  "
          ],
          [
           "$119,500  "
          ],
          [
           "$117,000  "
          ],
          [
           "$116,000  "
          ],
          [
           "$115,627  "
          ],
          [
           "$115,000  "
          ],
          [
           "$111,650  "
          ],
          [
           "$110,000  "
          ],
          [
           "$105,000  "
          ],
          [
           "$101,985  "
          ],
          [
           "$101,500  "
          ],
          [
           "$91,250  "
          ],
          [
           "$90,000  "
          ],
          [
           "$85,000  "
          ],
          [
           "$76,800  "
          ],
          [
           "$75,000  "
          ],
          [
           "$73,000  "
          ],
          [
           "$71,633  "
          ],
          [
           "$71,199  "
          ],
          [
           "$71,199  "
          ],
          [
           "$71,199  "
          ],
          [
           "$71,199  "
          ],
          [
           "$70,040  "
          ],
          [
           "$70,040  "
          ],
          [
           "$70,040  "
          ],
          [
           "$70,040  "
          ],
          [
           "$70,040  "
          ],
          [
           "$70,040  "
          ],
          [
           "$70,040  "
          ],
          [
           "$70,040  "
          ],
          [
           "$68,339  "
          ],
          [
           "$68,339  "
          ],
          [
           "$68,339  "
          ],
          [
           "$68,339  "
          ],
          [
           "$65,459  "
          ],
          [
           "$65,459  "
          ],
          [
           "$65,459  "
          ]
         ],
         "hovertemplate": "League=WNBA<br>Salary_Rank=%{x}<br>salary_float=%{y}<br>Avg_Salary=%{customdata[0]}<extra></extra>",
         "legendgroup": "WNBA",
         "marker": {
          "color": "#EF553B",
          "symbol": "circle"
         },
         "mode": "markers",
         "name": "WNBA",
         "orientation": "v",
         "showlegend": true,
         "type": "scatter",
         "x": [
          87,
          88,
          89,
          90,
          91,
          92,
          93,
          94,
          95,
          96,
          97,
          98,
          99,
          100,
          101,
          102,
          103,
          104,
          105,
          106,
          107,
          108,
          109,
          110,
          111,
          112,
          113,
          114,
          115,
          116,
          117,
          118,
          119,
          120,
          121,
          122,
          123,
          124,
          125,
          126,
          127,
          128,
          129,
          130,
          131,
          132,
          133,
          134,
          135,
          136,
          137,
          138,
          139,
          140,
          141,
          142,
          143,
          144,
          145,
          146,
          147,
          148,
          149,
          150,
          151,
          152,
          153,
          154,
          155,
          156,
          157,
          158,
          159,
          160,
          161
         ],
         "xaxis": "x",
         "y": [
          224870,
          224870,
          224772,
          224675,
          221515,
          221450,
          209000,
          203000,
          197000,
          196267,
          196267,
          196267,
          193409,
          193409,
          192500,
          190550,
          190517,
          188333,
          187750,
          187750,
          187750,
          183000,
          177625,
          175067,
          172550,
          172500,
          170000,
          165000,
          164800,
          159867,
          155000,
          154455,
          150350,
          144242,
          142100,
          125250,
          120000,
          120000,
          119500,
          119500,
          117000,
          116000,
          115627,
          115000,
          111650,
          110000,
          105000,
          101985,
          101500,
          91250,
          90000,
          85000,
          76800,
          75000,
          73000,
          71633,
          71199,
          71199,
          71199,
          71199,
          70040,
          70040,
          70040,
          70040,
          70040,
          70040,
          70040,
          70040,
          68339,
          68339,
          68339,
          68339,
          65459,
          65459,
          65459
         ],
         "yaxis": "y"
        }
       ],
       "layout": {
        "annotations": [
         {
          "font": {},
          "showarrow": false,
          "text": "League=WNBA",
          "textangle": 90,
          "x": 0.98,
          "xanchor": "left",
          "xref": "paper",
          "y": 0.2425,
          "yanchor": "middle",
          "yref": "paper"
         },
         {
          "font": {},
          "showarrow": false,
          "text": "League=NBA",
          "textangle": 90,
          "x": 0.98,
          "xanchor": "left",
          "xref": "paper",
          "y": 0.7575000000000001,
          "yanchor": "middle",
          "yref": "paper"
         }
        ],
        "legend": {
         "title": {
          "text": "League"
         },
         "tracegroupgap": 0
        },
        "margin": {
         "t": 60
        },
        "template": {
         "data": {
          "bar": [
           {
            "error_x": {
             "color": "#2a3f5f"
            },
            "error_y": {
             "color": "#2a3f5f"
            },
            "marker": {
             "line": {
              "color": "#E5ECF6",
              "width": 0.5
             }
            },
            "type": "bar"
           }
          ],
          "barpolar": [
           {
            "marker": {
             "line": {
              "color": "#E5ECF6",
              "width": 0.5
             }
            },
            "type": "barpolar"
           }
          ],
          "carpet": [
           {
            "aaxis": {
             "endlinecolor": "#2a3f5f",
             "gridcolor": "white",
             "linecolor": "white",
             "minorgridcolor": "white",
             "startlinecolor": "#2a3f5f"
            },
            "baxis": {
             "endlinecolor": "#2a3f5f",
             "gridcolor": "white",
             "linecolor": "white",
             "minorgridcolor": "white",
             "startlinecolor": "#2a3f5f"
            },
            "type": "carpet"
           }
          ],
          "choropleth": [
           {
            "colorbar": {
             "outlinewidth": 0,
             "ticks": ""
            },
            "type": "choropleth"
           }
          ],
          "contour": [
           {
            "colorbar": {
             "outlinewidth": 0,
             "ticks": ""
            },
            "colorscale": [
             [
              0,
              "#0d0887"
             ],
             [
              0.1111111111111111,
              "#46039f"
             ],
             [
              0.2222222222222222,
              "#7201a8"
             ],
             [
              0.3333333333333333,
              "#9c179e"
             ],
             [
              0.4444444444444444,
              "#bd3786"
             ],
             [
              0.5555555555555556,
              "#d8576b"
             ],
             [
              0.6666666666666666,
              "#ed7953"
             ],
             [
              0.7777777777777778,
              "#fb9f3a"
             ],
             [
              0.8888888888888888,
              "#fdca26"
             ],
             [
              1,
              "#f0f921"
             ]
            ],
            "type": "contour"
           }
          ],
          "contourcarpet": [
           {
            "colorbar": {
             "outlinewidth": 0,
             "ticks": ""
            },
            "type": "contourcarpet"
           }
          ],
          "heatmap": [
           {
            "colorbar": {
             "outlinewidth": 0,
             "ticks": ""
            },
            "colorscale": [
             [
              0,
              "#0d0887"
             ],
             [
              0.1111111111111111,
              "#46039f"
             ],
             [
              0.2222222222222222,
              "#7201a8"
             ],
             [
              0.3333333333333333,
              "#9c179e"
             ],
             [
              0.4444444444444444,
              "#bd3786"
             ],
             [
              0.5555555555555556,
              "#d8576b"
             ],
             [
              0.6666666666666666,
              "#ed7953"
             ],
             [
              0.7777777777777778,
              "#fb9f3a"
             ],
             [
              0.8888888888888888,
              "#fdca26"
             ],
             [
              1,
              "#f0f921"
             ]
            ],
            "type": "heatmap"
           }
          ],
          "heatmapgl": [
           {
            "colorbar": {
             "outlinewidth": 0,
             "ticks": ""
            },
            "colorscale": [
             [
              0,
              "#0d0887"
             ],
             [
              0.1111111111111111,
              "#46039f"
             ],
             [
              0.2222222222222222,
              "#7201a8"
             ],
             [
              0.3333333333333333,
              "#9c179e"
             ],
             [
              0.4444444444444444,
              "#bd3786"
             ],
             [
              0.5555555555555556,
              "#d8576b"
             ],
             [
              0.6666666666666666,
              "#ed7953"
             ],
             [
              0.7777777777777778,
              "#fb9f3a"
             ],
             [
              0.8888888888888888,
              "#fdca26"
             ],
             [
              1,
              "#f0f921"
             ]
            ],
            "type": "heatmapgl"
           }
          ],
          "histogram": [
           {
            "marker": {
             "colorbar": {
              "outlinewidth": 0,
              "ticks": ""
             }
            },
            "type": "histogram"
           }
          ],
          "histogram2d": [
           {
            "colorbar": {
             "outlinewidth": 0,
             "ticks": ""
            },
            "colorscale": [
             [
              0,
              "#0d0887"
             ],
             [
              0.1111111111111111,
              "#46039f"
             ],
             [
              0.2222222222222222,
              "#7201a8"
             ],
             [
              0.3333333333333333,
              "#9c179e"
             ],
             [
              0.4444444444444444,
              "#bd3786"
             ],
             [
              0.5555555555555556,
              "#d8576b"
             ],
             [
              0.6666666666666666,
              "#ed7953"
             ],
             [
              0.7777777777777778,
              "#fb9f3a"
             ],
             [
              0.8888888888888888,
              "#fdca26"
             ],
             [
              1,
              "#f0f921"
             ]
            ],
            "type": "histogram2d"
           }
          ],
          "histogram2dcontour": [
           {
            "colorbar": {
             "outlinewidth": 0,
             "ticks": ""
            },
            "colorscale": [
             [
              0,
              "#0d0887"
             ],
             [
              0.1111111111111111,
              "#46039f"
             ],
             [
              0.2222222222222222,
              "#7201a8"
             ],
             [
              0.3333333333333333,
              "#9c179e"
             ],
             [
              0.4444444444444444,
              "#bd3786"
             ],
             [
              0.5555555555555556,
              "#d8576b"
             ],
             [
              0.6666666666666666,
              "#ed7953"
             ],
             [
              0.7777777777777778,
              "#fb9f3a"
             ],
             [
              0.8888888888888888,
              "#fdca26"
             ],
             [
              1,
              "#f0f921"
             ]
            ],
            "type": "histogram2dcontour"
           }
          ],
          "mesh3d": [
           {
            "colorbar": {
             "outlinewidth": 0,
             "ticks": ""
            },
            "type": "mesh3d"
           }
          ],
          "parcoords": [
           {
            "line": {
             "colorbar": {
              "outlinewidth": 0,
              "ticks": ""
             }
            },
            "type": "parcoords"
           }
          ],
          "pie": [
           {
            "automargin": true,
            "type": "pie"
           }
          ],
          "scatter": [
           {
            "marker": {
             "colorbar": {
              "outlinewidth": 0,
              "ticks": ""
             }
            },
            "type": "scatter"
           }
          ],
          "scatter3d": [
           {
            "line": {
             "colorbar": {
              "outlinewidth": 0,
              "ticks": ""
             }
            },
            "marker": {
             "colorbar": {
              "outlinewidth": 0,
              "ticks": ""
             }
            },
            "type": "scatter3d"
           }
          ],
          "scattercarpet": [
           {
            "marker": {
             "colorbar": {
              "outlinewidth": 0,
              "ticks": ""
             }
            },
            "type": "scattercarpet"
           }
          ],
          "scattergeo": [
           {
            "marker": {
             "colorbar": {
              "outlinewidth": 0,
              "ticks": ""
             }
            },
            "type": "scattergeo"
           }
          ],
          "scattergl": [
           {
            "marker": {
             "colorbar": {
              "outlinewidth": 0,
              "ticks": ""
             }
            },
            "type": "scattergl"
           }
          ],
          "scattermapbox": [
           {
            "marker": {
             "colorbar": {
              "outlinewidth": 0,
              "ticks": ""
             }
            },
            "type": "scattermapbox"
           }
          ],
          "scatterpolar": [
           {
            "marker": {
             "colorbar": {
              "outlinewidth": 0,
              "ticks": ""
             }
            },
            "type": "scatterpolar"
           }
          ],
          "scatterpolargl": [
           {
            "marker": {
             "colorbar": {
              "outlinewidth": 0,
              "ticks": ""
             }
            },
            "type": "scatterpolargl"
           }
          ],
          "scatterternary": [
           {
            "marker": {
             "colorbar": {
              "outlinewidth": 0,
              "ticks": ""
             }
            },
            "type": "scatterternary"
           }
          ],
          "surface": [
           {
            "colorbar": {
             "outlinewidth": 0,
             "ticks": ""
            },
            "colorscale": [
             [
              0,
              "#0d0887"
             ],
             [
              0.1111111111111111,
              "#46039f"
             ],
             [
              0.2222222222222222,
              "#7201a8"
             ],
             [
              0.3333333333333333,
              "#9c179e"
             ],
             [
              0.4444444444444444,
              "#bd3786"
             ],
             [
              0.5555555555555556,
              "#d8576b"
             ],
             [
              0.6666666666666666,
              "#ed7953"
             ],
             [
              0.7777777777777778,
              "#fb9f3a"
             ],
             [
              0.8888888888888888,
              "#fdca26"
             ],
             [
              1,
              "#f0f921"
             ]
            ],
            "type": "surface"
           }
          ],
          "table": [
           {
            "cells": {
             "fill": {
              "color": "#EBF0F8"
             },
             "line": {
              "color": "white"
             }
            },
            "header": {
             "fill": {
              "color": "#C8D4E3"
             },
             "line": {
              "color": "white"
             }
            },
            "type": "table"
           }
          ]
         },
         "layout": {
          "annotationdefaults": {
           "arrowcolor": "#2a3f5f",
           "arrowhead": 0,
           "arrowwidth": 1
          },
          "autotypenumbers": "strict",
          "coloraxis": {
           "colorbar": {
            "outlinewidth": 0,
            "ticks": ""
           }
          },
          "colorscale": {
           "diverging": [
            [
             0,
             "#8e0152"
            ],
            [
             0.1,
             "#c51b7d"
            ],
            [
             0.2,
             "#de77ae"
            ],
            [
             0.3,
             "#f1b6da"
            ],
            [
             0.4,
             "#fde0ef"
            ],
            [
             0.5,
             "#f7f7f7"
            ],
            [
             0.6,
             "#e6f5d0"
            ],
            [
             0.7,
             "#b8e186"
            ],
            [
             0.8,
             "#7fbc41"
            ],
            [
             0.9,
             "#4d9221"
            ],
            [
             1,
             "#276419"
            ]
           ],
           "sequential": [
            [
             0,
             "#0d0887"
            ],
            [
             0.1111111111111111,
             "#46039f"
            ],
            [
             0.2222222222222222,
             "#7201a8"
            ],
            [
             0.3333333333333333,
             "#9c179e"
            ],
            [
             0.4444444444444444,
             "#bd3786"
            ],
            [
             0.5555555555555556,
             "#d8576b"
            ],
            [
             0.6666666666666666,
             "#ed7953"
            ],
            [
             0.7777777777777778,
             "#fb9f3a"
            ],
            [
             0.8888888888888888,
             "#fdca26"
            ],
            [
             1,
             "#f0f921"
            ]
           ],
           "sequentialminus": [
            [
             0,
             "#0d0887"
            ],
            [
             0.1111111111111111,
             "#46039f"
            ],
            [
             0.2222222222222222,
             "#7201a8"
            ],
            [
             0.3333333333333333,
             "#9c179e"
            ],
            [
             0.4444444444444444,
             "#bd3786"
            ],
            [
             0.5555555555555556,
             "#d8576b"
            ],
            [
             0.6666666666666666,
             "#ed7953"
            ],
            [
             0.7777777777777778,
             "#fb9f3a"
            ],
            [
             0.8888888888888888,
             "#fdca26"
            ],
            [
             1,
             "#f0f921"
            ]
           ]
          },
          "colorway": [
           "#636efa",
           "#EF553B",
           "#00cc96",
           "#ab63fa",
           "#FFA15A",
           "#19d3f3",
           "#FF6692",
           "#B6E880",
           "#FF97FF",
           "#FECB52"
          ],
          "font": {
           "color": "#2a3f5f"
          },
          "geo": {
           "bgcolor": "white",
           "lakecolor": "white",
           "landcolor": "#E5ECF6",
           "showlakes": true,
           "showland": true,
           "subunitcolor": "white"
          },
          "hoverlabel": {
           "align": "left"
          },
          "hovermode": "closest",
          "mapbox": {
           "style": "light"
          },
          "paper_bgcolor": "white",
          "plot_bgcolor": "#E5ECF6",
          "polar": {
           "angularaxis": {
            "gridcolor": "white",
            "linecolor": "white",
            "ticks": ""
           },
           "bgcolor": "#E5ECF6",
           "radialaxis": {
            "gridcolor": "white",
            "linecolor": "white",
            "ticks": ""
           }
          },
          "scene": {
           "xaxis": {
            "backgroundcolor": "#E5ECF6",
            "gridcolor": "white",
            "gridwidth": 2,
            "linecolor": "white",
            "showbackground": true,
            "ticks": "",
            "zerolinecolor": "white"
           },
           "yaxis": {
            "backgroundcolor": "#E5ECF6",
            "gridcolor": "white",
            "gridwidth": 2,
            "linecolor": "white",
            "showbackground": true,
            "ticks": "",
            "zerolinecolor": "white"
           },
           "zaxis": {
            "backgroundcolor": "#E5ECF6",
            "gridcolor": "white",
            "gridwidth": 2,
            "linecolor": "white",
            "showbackground": true,
            "ticks": "",
            "zerolinecolor": "white"
           }
          },
          "shapedefaults": {
           "line": {
            "color": "#2a3f5f"
           }
          },
          "ternary": {
           "aaxis": {
            "gridcolor": "white",
            "linecolor": "white",
            "ticks": ""
           },
           "baxis": {
            "gridcolor": "white",
            "linecolor": "white",
            "ticks": ""
           },
           "bgcolor": "#E5ECF6",
           "caxis": {
            "gridcolor": "white",
            "linecolor": "white",
            "ticks": ""
           }
          },
          "title": {
           "x": 0.05
          },
          "xaxis": {
           "automargin": true,
           "gridcolor": "white",
           "linecolor": "white",
           "ticks": "",
           "title": {
            "standoff": 15
           },
           "zerolinecolor": "white",
           "zerolinewidth": 2
          },
          "yaxis": {
           "automargin": true,
           "gridcolor": "white",
           "linecolor": "white",
           "ticks": "",
           "title": {
            "standoff": 15
           },
           "zerolinecolor": "white",
           "zerolinewidth": 2
          }
         }
        },
        "xaxis": {
         "anchor": "y",
         "domain": [
          0,
          0.98
         ],
         "title": {
          "text": "Salary_Rank"
         }
        },
        "xaxis2": {
         "anchor": "y2",
         "domain": [
          0,
          0.98
         ],
         "matches": "x",
         "showticklabels": false
        },
        "yaxis": {
         "anchor": "x",
         "domain": [
          0,
          0.485
         ],
         "title": {
          "text": "salary_float"
         }
        },
        "yaxis2": {
         "anchor": "x2",
         "domain": [
          0.515,
          1
         ],
         "title": {
          "text": "salary_float"
         }
        }
       }
      }
     },
     "metadata": {}
    }
   ],
   "source": [
    "import plotly.express as px\n",
    "\n",
    "fig = px.scatter(df, x= \"Salary_Rank\", y=\"salary_float\", color=\"League\", facet_row=\"League\", hover_data=['Avg_Salary'])\n",
    "fig.update_yaxes(matches=None)\n",
    "\n",
    "fig.show()"
   ]
  },
  {
   "cell_type": "code",
   "execution_count": 77,
   "metadata": {},
   "outputs": [
    {
     "output_type": "display_data",
     "data": {
      "application/vnd.plotly.v1+json": {
       "config": {
        "plotlyServerURL": "https://plot.ly"
       },
       "data": [
        {
         "alignmentgroup": "True",
         "boxpoints": "all",
         "hovertemplate": "League=%{x}<br>salary_float=%{y}<extra></extra>",
         "legendgroup": "NBA",
         "marker": {
          "color": "#636efa"
         },
         "name": "NBA",
         "notched": false,
         "offsetgroup": "NBA",
         "orientation": "v",
         "showlegend": true,
         "type": "box",
         "x": [
          "NBA",
          "NBA",
          "NBA",
          "NBA",
          "NBA",
          "NBA",
          "NBA",
          "NBA",
          "NBA",
          "NBA",
          "NBA",
          "NBA",
          "NBA",
          "NBA",
          "NBA",
          "NBA",
          "NBA",
          "NBA",
          "NBA",
          "NBA",
          "NBA",
          "NBA",
          "NBA",
          "NBA",
          "NBA",
          "NBA",
          "NBA",
          "NBA",
          "NBA",
          "NBA",
          "NBA",
          "NBA",
          "NBA",
          "NBA",
          "NBA",
          "NBA",
          "NBA",
          "NBA",
          "NBA",
          "NBA",
          "NBA",
          "NBA",
          "NBA",
          "NBA",
          "NBA",
          "NBA",
          "NBA",
          "NBA",
          "NBA",
          "NBA",
          "NBA",
          "NBA",
          "NBA",
          "NBA",
          "NBA",
          "NBA",
          "NBA",
          "NBA",
          "NBA",
          "NBA",
          "NBA",
          "NBA",
          "NBA",
          "NBA",
          "NBA",
          "NBA",
          "NBA",
          "NBA",
          "NBA",
          "NBA",
          "NBA",
          "NBA",
          "NBA",
          "NBA",
          "NBA",
          "NBA",
          "NBA",
          "NBA",
          "NBA",
          "NBA",
          "NBA",
          "NBA",
          "NBA",
          "NBA",
          "NBA",
          "NBA"
         ],
         "x0": " ",
         "xaxis": "x2",
         "y": [
          42782880,
          42782880,
          41358814,
          41063925,
          40231758,
          39932648,
          38328212,
          37980720,
          36000000,
          35500000,
          35448672,
          35197650,
          35197650,
          34379100,
          34227984,
          34226304,
          34122650,
          31650600,
          31650600,
          31650600,
          31650600,
          30521116,
          30500000,
          30100543,
          30000000,
          29542010,
          29542010,
          29331375,
          27977689,
          27800000,
          27250000,
          26583334,
          25500000,
          25434263,
          25200000,
          25000000,
          25000000,
          24916591,
          23500000,
          21250000,
          21250000,
          21250000,
          21250000,
          21000000,
          20700000,
          20475000,
          20002500,
          20000000,
          20000000,
          19500000,
          18900000,
          18893589,
          18750000,
          18725000,
          18000000,
          17737500,
          17500000,
          17500000,
          17500000,
          17000000,
          17000000,
          16000000,
          15955000,
          15000000,
          15000000,
          15000000,
          15000000,
          14545000,
          14431700,
          14000000,
          13666667,
          13500000,
          13333327,
          13250000,
          13250000,
          13038862,
          13000000,
          13000000,
          13000000,
          12999975,
          12880000,
          12724946,
          12625000,
          12500000,
          12500000,
          12400000
         ],
         "y0": " ",
         "yaxis": "y2"
        },
        {
         "alignmentgroup": "True",
         "boxpoints": "all",
         "hovertemplate": "League=%{x}<br>salary_float=%{y}<extra></extra>",
         "legendgroup": "WNBA",
         "marker": {
          "color": "#EF553B"
         },
         "name": "WNBA",
         "notched": false,
         "offsetgroup": "WNBA",
         "orientation": "v",
         "showlegend": true,
         "type": "box",
         "x": [
          "WNBA",
          "WNBA",
          "WNBA",
          "WNBA",
          "WNBA",
          "WNBA",
          "WNBA",
          "WNBA",
          "WNBA",
          "WNBA",
          "WNBA",
          "WNBA",
          "WNBA",
          "WNBA",
          "WNBA",
          "WNBA",
          "WNBA",
          "WNBA",
          "WNBA",
          "WNBA",
          "WNBA",
          "WNBA",
          "WNBA",
          "WNBA",
          "WNBA",
          "WNBA",
          "WNBA",
          "WNBA",
          "WNBA",
          "WNBA",
          "WNBA",
          "WNBA",
          "WNBA",
          "WNBA",
          "WNBA",
          "WNBA",
          "WNBA",
          "WNBA",
          "WNBA",
          "WNBA",
          "WNBA",
          "WNBA",
          "WNBA",
          "WNBA",
          "WNBA",
          "WNBA",
          "WNBA",
          "WNBA",
          "WNBA",
          "WNBA",
          "WNBA",
          "WNBA",
          "WNBA",
          "WNBA",
          "WNBA",
          "WNBA",
          "WNBA",
          "WNBA",
          "WNBA",
          "WNBA",
          "WNBA",
          "WNBA",
          "WNBA",
          "WNBA",
          "WNBA",
          "WNBA",
          "WNBA",
          "WNBA",
          "WNBA",
          "WNBA",
          "WNBA",
          "WNBA",
          "WNBA",
          "WNBA",
          "WNBA"
         ],
         "x0": " ",
         "xaxis": "x",
         "y": [
          224870,
          224870,
          224772,
          224675,
          221515,
          221450,
          209000,
          203000,
          197000,
          196267,
          196267,
          196267,
          193409,
          193409,
          192500,
          190550,
          190517,
          188333,
          187750,
          187750,
          187750,
          183000,
          177625,
          175067,
          172550,
          172500,
          170000,
          165000,
          164800,
          159867,
          155000,
          154455,
          150350,
          144242,
          142100,
          125250,
          120000,
          120000,
          119500,
          119500,
          117000,
          116000,
          115627,
          115000,
          111650,
          110000,
          105000,
          101985,
          101500,
          91250,
          90000,
          85000,
          76800,
          75000,
          73000,
          71633,
          71199,
          71199,
          71199,
          71199,
          70040,
          70040,
          70040,
          70040,
          70040,
          70040,
          70040,
          70040,
          68339,
          68339,
          68339,
          68339,
          65459,
          65459,
          65459
         ],
         "y0": " ",
         "yaxis": "y"
        }
       ],
       "layout": {
        "annotations": [
         {
          "font": {},
          "showarrow": false,
          "text": "League=WNBA",
          "textangle": 90,
          "x": 0.98,
          "xanchor": "left",
          "xref": "paper",
          "y": 0.2425,
          "yanchor": "middle",
          "yref": "paper"
         },
         {
          "font": {},
          "showarrow": false,
          "text": "League=NBA",
          "textangle": 90,
          "x": 0.98,
          "xanchor": "left",
          "xref": "paper",
          "y": 0.7575000000000001,
          "yanchor": "middle",
          "yref": "paper"
         }
        ],
        "boxmode": "overlay",
        "legend": {
         "title": {
          "text": "League"
         },
         "tracegroupgap": 0
        },
        "margin": {
         "t": 60
        },
        "template": {
         "data": {
          "bar": [
           {
            "error_x": {
             "color": "#2a3f5f"
            },
            "error_y": {
             "color": "#2a3f5f"
            },
            "marker": {
             "line": {
              "color": "#E5ECF6",
              "width": 0.5
             }
            },
            "type": "bar"
           }
          ],
          "barpolar": [
           {
            "marker": {
             "line": {
              "color": "#E5ECF6",
              "width": 0.5
             }
            },
            "type": "barpolar"
           }
          ],
          "carpet": [
           {
            "aaxis": {
             "endlinecolor": "#2a3f5f",
             "gridcolor": "white",
             "linecolor": "white",
             "minorgridcolor": "white",
             "startlinecolor": "#2a3f5f"
            },
            "baxis": {
             "endlinecolor": "#2a3f5f",
             "gridcolor": "white",
             "linecolor": "white",
             "minorgridcolor": "white",
             "startlinecolor": "#2a3f5f"
            },
            "type": "carpet"
           }
          ],
          "choropleth": [
           {
            "colorbar": {
             "outlinewidth": 0,
             "ticks": ""
            },
            "type": "choropleth"
           }
          ],
          "contour": [
           {
            "colorbar": {
             "outlinewidth": 0,
             "ticks": ""
            },
            "colorscale": [
             [
              0,
              "#0d0887"
             ],
             [
              0.1111111111111111,
              "#46039f"
             ],
             [
              0.2222222222222222,
              "#7201a8"
             ],
             [
              0.3333333333333333,
              "#9c179e"
             ],
             [
              0.4444444444444444,
              "#bd3786"
             ],
             [
              0.5555555555555556,
              "#d8576b"
             ],
             [
              0.6666666666666666,
              "#ed7953"
             ],
             [
              0.7777777777777778,
              "#fb9f3a"
             ],
             [
              0.8888888888888888,
              "#fdca26"
             ],
             [
              1,
              "#f0f921"
             ]
            ],
            "type": "contour"
           }
          ],
          "contourcarpet": [
           {
            "colorbar": {
             "outlinewidth": 0,
             "ticks": ""
            },
            "type": "contourcarpet"
           }
          ],
          "heatmap": [
           {
            "colorbar": {
             "outlinewidth": 0,
             "ticks": ""
            },
            "colorscale": [
             [
              0,
              "#0d0887"
             ],
             [
              0.1111111111111111,
              "#46039f"
             ],
             [
              0.2222222222222222,
              "#7201a8"
             ],
             [
              0.3333333333333333,
              "#9c179e"
             ],
             [
              0.4444444444444444,
              "#bd3786"
             ],
             [
              0.5555555555555556,
              "#d8576b"
             ],
             [
              0.6666666666666666,
              "#ed7953"
             ],
             [
              0.7777777777777778,
              "#fb9f3a"
             ],
             [
              0.8888888888888888,
              "#fdca26"
             ],
             [
              1,
              "#f0f921"
             ]
            ],
            "type": "heatmap"
           }
          ],
          "heatmapgl": [
           {
            "colorbar": {
             "outlinewidth": 0,
             "ticks": ""
            },
            "colorscale": [
             [
              0,
              "#0d0887"
             ],
             [
              0.1111111111111111,
              "#46039f"
             ],
             [
              0.2222222222222222,
              "#7201a8"
             ],
             [
              0.3333333333333333,
              "#9c179e"
             ],
             [
              0.4444444444444444,
              "#bd3786"
             ],
             [
              0.5555555555555556,
              "#d8576b"
             ],
             [
              0.6666666666666666,
              "#ed7953"
             ],
             [
              0.7777777777777778,
              "#fb9f3a"
             ],
             [
              0.8888888888888888,
              "#fdca26"
             ],
             [
              1,
              "#f0f921"
             ]
            ],
            "type": "heatmapgl"
           }
          ],
          "histogram": [
           {
            "marker": {
             "colorbar": {
              "outlinewidth": 0,
              "ticks": ""
             }
            },
            "type": "histogram"
           }
          ],
          "histogram2d": [
           {
            "colorbar": {
             "outlinewidth": 0,
             "ticks": ""
            },
            "colorscale": [
             [
              0,
              "#0d0887"
             ],
             [
              0.1111111111111111,
              "#46039f"
             ],
             [
              0.2222222222222222,
              "#7201a8"
             ],
             [
              0.3333333333333333,
              "#9c179e"
             ],
             [
              0.4444444444444444,
              "#bd3786"
             ],
             [
              0.5555555555555556,
              "#d8576b"
             ],
             [
              0.6666666666666666,
              "#ed7953"
             ],
             [
              0.7777777777777778,
              "#fb9f3a"
             ],
             [
              0.8888888888888888,
              "#fdca26"
             ],
             [
              1,
              "#f0f921"
             ]
            ],
            "type": "histogram2d"
           }
          ],
          "histogram2dcontour": [
           {
            "colorbar": {
             "outlinewidth": 0,
             "ticks": ""
            },
            "colorscale": [
             [
              0,
              "#0d0887"
             ],
             [
              0.1111111111111111,
              "#46039f"
             ],
             [
              0.2222222222222222,
              "#7201a8"
             ],
             [
              0.3333333333333333,
              "#9c179e"
             ],
             [
              0.4444444444444444,
              "#bd3786"
             ],
             [
              0.5555555555555556,
              "#d8576b"
             ],
             [
              0.6666666666666666,
              "#ed7953"
             ],
             [
              0.7777777777777778,
              "#fb9f3a"
             ],
             [
              0.8888888888888888,
              "#fdca26"
             ],
             [
              1,
              "#f0f921"
             ]
            ],
            "type": "histogram2dcontour"
           }
          ],
          "mesh3d": [
           {
            "colorbar": {
             "outlinewidth": 0,
             "ticks": ""
            },
            "type": "mesh3d"
           }
          ],
          "parcoords": [
           {
            "line": {
             "colorbar": {
              "outlinewidth": 0,
              "ticks": ""
             }
            },
            "type": "parcoords"
           }
          ],
          "pie": [
           {
            "automargin": true,
            "type": "pie"
           }
          ],
          "scatter": [
           {
            "marker": {
             "colorbar": {
              "outlinewidth": 0,
              "ticks": ""
             }
            },
            "type": "scatter"
           }
          ],
          "scatter3d": [
           {
            "line": {
             "colorbar": {
              "outlinewidth": 0,
              "ticks": ""
             }
            },
            "marker": {
             "colorbar": {
              "outlinewidth": 0,
              "ticks": ""
             }
            },
            "type": "scatter3d"
           }
          ],
          "scattercarpet": [
           {
            "marker": {
             "colorbar": {
              "outlinewidth": 0,
              "ticks": ""
             }
            },
            "type": "scattercarpet"
           }
          ],
          "scattergeo": [
           {
            "marker": {
             "colorbar": {
              "outlinewidth": 0,
              "ticks": ""
             }
            },
            "type": "scattergeo"
           }
          ],
          "scattergl": [
           {
            "marker": {
             "colorbar": {
              "outlinewidth": 0,
              "ticks": ""
             }
            },
            "type": "scattergl"
           }
          ],
          "scattermapbox": [
           {
            "marker": {
             "colorbar": {
              "outlinewidth": 0,
              "ticks": ""
             }
            },
            "type": "scattermapbox"
           }
          ],
          "scatterpolar": [
           {
            "marker": {
             "colorbar": {
              "outlinewidth": 0,
              "ticks": ""
             }
            },
            "type": "scatterpolar"
           }
          ],
          "scatterpolargl": [
           {
            "marker": {
             "colorbar": {
              "outlinewidth": 0,
              "ticks": ""
             }
            },
            "type": "scatterpolargl"
           }
          ],
          "scatterternary": [
           {
            "marker": {
             "colorbar": {
              "outlinewidth": 0,
              "ticks": ""
             }
            },
            "type": "scatterternary"
           }
          ],
          "surface": [
           {
            "colorbar": {
             "outlinewidth": 0,
             "ticks": ""
            },
            "colorscale": [
             [
              0,
              "#0d0887"
             ],
             [
              0.1111111111111111,
              "#46039f"
             ],
             [
              0.2222222222222222,
              "#7201a8"
             ],
             [
              0.3333333333333333,
              "#9c179e"
             ],
             [
              0.4444444444444444,
              "#bd3786"
             ],
             [
              0.5555555555555556,
              "#d8576b"
             ],
             [
              0.6666666666666666,
              "#ed7953"
             ],
             [
              0.7777777777777778,
              "#fb9f3a"
             ],
             [
              0.8888888888888888,
              "#fdca26"
             ],
             [
              1,
              "#f0f921"
             ]
            ],
            "type": "surface"
           }
          ],
          "table": [
           {
            "cells": {
             "fill": {
              "color": "#EBF0F8"
             },
             "line": {
              "color": "white"
             }
            },
            "header": {
             "fill": {
              "color": "#C8D4E3"
             },
             "line": {
              "color": "white"
             }
            },
            "type": "table"
           }
          ]
         },
         "layout": {
          "annotationdefaults": {
           "arrowcolor": "#2a3f5f",
           "arrowhead": 0,
           "arrowwidth": 1
          },
          "autotypenumbers": "strict",
          "coloraxis": {
           "colorbar": {
            "outlinewidth": 0,
            "ticks": ""
           }
          },
          "colorscale": {
           "diverging": [
            [
             0,
             "#8e0152"
            ],
            [
             0.1,
             "#c51b7d"
            ],
            [
             0.2,
             "#de77ae"
            ],
            [
             0.3,
             "#f1b6da"
            ],
            [
             0.4,
             "#fde0ef"
            ],
            [
             0.5,
             "#f7f7f7"
            ],
            [
             0.6,
             "#e6f5d0"
            ],
            [
             0.7,
             "#b8e186"
            ],
            [
             0.8,
             "#7fbc41"
            ],
            [
             0.9,
             "#4d9221"
            ],
            [
             1,
             "#276419"
            ]
           ],
           "sequential": [
            [
             0,
             "#0d0887"
            ],
            [
             0.1111111111111111,
             "#46039f"
            ],
            [
             0.2222222222222222,
             "#7201a8"
            ],
            [
             0.3333333333333333,
             "#9c179e"
            ],
            [
             0.4444444444444444,
             "#bd3786"
            ],
            [
             0.5555555555555556,
             "#d8576b"
            ],
            [
             0.6666666666666666,
             "#ed7953"
            ],
            [
             0.7777777777777778,
             "#fb9f3a"
            ],
            [
             0.8888888888888888,
             "#fdca26"
            ],
            [
             1,
             "#f0f921"
            ]
           ],
           "sequentialminus": [
            [
             0,
             "#0d0887"
            ],
            [
             0.1111111111111111,
             "#46039f"
            ],
            [
             0.2222222222222222,
             "#7201a8"
            ],
            [
             0.3333333333333333,
             "#9c179e"
            ],
            [
             0.4444444444444444,
             "#bd3786"
            ],
            [
             0.5555555555555556,
             "#d8576b"
            ],
            [
             0.6666666666666666,
             "#ed7953"
            ],
            [
             0.7777777777777778,
             "#fb9f3a"
            ],
            [
             0.8888888888888888,
             "#fdca26"
            ],
            [
             1,
             "#f0f921"
            ]
           ]
          },
          "colorway": [
           "#636efa",
           "#EF553B",
           "#00cc96",
           "#ab63fa",
           "#FFA15A",
           "#19d3f3",
           "#FF6692",
           "#B6E880",
           "#FF97FF",
           "#FECB52"
          ],
          "font": {
           "color": "#2a3f5f"
          },
          "geo": {
           "bgcolor": "white",
           "lakecolor": "white",
           "landcolor": "#E5ECF6",
           "showlakes": true,
           "showland": true,
           "subunitcolor": "white"
          },
          "hoverlabel": {
           "align": "left"
          },
          "hovermode": "closest",
          "mapbox": {
           "style": "light"
          },
          "paper_bgcolor": "white",
          "plot_bgcolor": "#E5ECF6",
          "polar": {
           "angularaxis": {
            "gridcolor": "white",
            "linecolor": "white",
            "ticks": ""
           },
           "bgcolor": "#E5ECF6",
           "radialaxis": {
            "gridcolor": "white",
            "linecolor": "white",
            "ticks": ""
           }
          },
          "scene": {
           "xaxis": {
            "backgroundcolor": "#E5ECF6",
            "gridcolor": "white",
            "gridwidth": 2,
            "linecolor": "white",
            "showbackground": true,
            "ticks": "",
            "zerolinecolor": "white"
           },
           "yaxis": {
            "backgroundcolor": "#E5ECF6",
            "gridcolor": "white",
            "gridwidth": 2,
            "linecolor": "white",
            "showbackground": true,
            "ticks": "",
            "zerolinecolor": "white"
           },
           "zaxis": {
            "backgroundcolor": "#E5ECF6",
            "gridcolor": "white",
            "gridwidth": 2,
            "linecolor": "white",
            "showbackground": true,
            "ticks": "",
            "zerolinecolor": "white"
           }
          },
          "shapedefaults": {
           "line": {
            "color": "#2a3f5f"
           }
          },
          "ternary": {
           "aaxis": {
            "gridcolor": "white",
            "linecolor": "white",
            "ticks": ""
           },
           "baxis": {
            "gridcolor": "white",
            "linecolor": "white",
            "ticks": ""
           },
           "bgcolor": "#E5ECF6",
           "caxis": {
            "gridcolor": "white",
            "linecolor": "white",
            "ticks": ""
           }
          },
          "title": {
           "x": 0.05
          },
          "xaxis": {
           "automargin": true,
           "gridcolor": "white",
           "linecolor": "white",
           "ticks": "",
           "title": {
            "standoff": 15
           },
           "zerolinecolor": "white",
           "zerolinewidth": 2
          },
          "yaxis": {
           "automargin": true,
           "gridcolor": "white",
           "linecolor": "white",
           "ticks": "",
           "title": {
            "standoff": 15
           },
           "zerolinecolor": "white",
           "zerolinewidth": 2
          }
         }
        },
        "xaxis": {
         "anchor": "y",
         "categoryarray": [
          "NBA",
          "WNBA"
         ],
         "categoryorder": "array",
         "domain": [
          0,
          0.98
         ],
         "title": {
          "text": "League"
         }
        },
        "xaxis2": {
         "anchor": "y2",
         "domain": [
          0,
          0.98
         ],
         "matches": "x",
         "showticklabels": false
        },
        "yaxis": {
         "anchor": "x",
         "domain": [
          0,
          0.485
         ],
         "title": {
          "text": "salary_float"
         }
        },
        "yaxis2": {
         "anchor": "x2",
         "domain": [
          0.515,
          1
         ],
         "title": {
          "text": "salary_float"
         }
        }
       }
      }
     },
     "metadata": {}
    }
   ],
   "source": [
    "fig = px.box(df, x=\"League\", y=\"salary_float\", color=\"League\", facet_row=\"League\", points=\"all\")\n",
    "fig.update_yaxes(matches=None)\n",
    "fig.show()"
   ]
  },
  {
   "source": [
    "### Views of Salary Ratios vs League\n",
    "\n",
    "Salary Ratios compare player's salaries to the League's revenue. <br>\n",
    "Diving all of the salaries by respective revenues scales the data to comparable values for more useful insights"
   ],
   "cell_type": "markdown",
   "metadata": {}
  },
  {
   "cell_type": "code",
   "execution_count": 78,
   "metadata": {},
   "outputs": [
    {
     "output_type": "display_data",
     "data": {
      "application/vnd.plotly.v1+json": {
       "config": {
        "plotlyServerURL": "https://plot.ly"
       },
       "data": [
        {
         "customdata": [
          [
           "$42,782,880  "
          ],
          [
           "$42,782,880  "
          ],
          [
           "$41,358,814  "
          ],
          [
           "$41,063,925  "
          ],
          [
           "$40,231,758  "
          ],
          [
           "$39,932,648  "
          ],
          [
           "$38,328,212  "
          ],
          [
           "$37,980,720  "
          ],
          [
           "$36,000,000  "
          ],
          [
           "$35,500,000  "
          ],
          [
           "$35,448,672  "
          ],
          [
           "$35,197,650  "
          ],
          [
           "$35,197,650  "
          ],
          [
           "$34,379,100  "
          ],
          [
           "$34,227,984  "
          ],
          [
           "$34,226,304  "
          ],
          [
           "$34,122,650  "
          ],
          [
           "$31,650,600  "
          ],
          [
           "$31,650,600  "
          ],
          [
           "$31,650,600  "
          ],
          [
           "$31,650,600  "
          ],
          [
           "$30,521,116  "
          ],
          [
           "$30,500,000  "
          ],
          [
           "$30,100,543  "
          ],
          [
           "$30,000,000  "
          ],
          [
           "$29,542,010  "
          ],
          [
           "$29,542,010  "
          ],
          [
           "$29,331,375  "
          ],
          [
           "$27,977,689  "
          ],
          [
           "$27,800,000  "
          ],
          [
           "$27,250,000  "
          ],
          [
           "$26,583,334  "
          ],
          [
           "$25,500,000  "
          ],
          [
           "$25,434,263  "
          ],
          [
           "$25,200,000  "
          ],
          [
           "$25,000,000  "
          ],
          [
           "$25,000,000  "
          ],
          [
           "$24,916,591  "
          ],
          [
           "$23,500,000  "
          ],
          [
           "$21,250,000  "
          ],
          [
           "$21,250,000  "
          ],
          [
           "$21,250,000  "
          ],
          [
           "$21,250,000  "
          ],
          [
           "$21,000,000  "
          ],
          [
           "$20,700,000  "
          ],
          [
           "$20,475,000  "
          ],
          [
           "$20,002,500  "
          ],
          [
           "$20,000,000  "
          ],
          [
           "$20,000,000  "
          ],
          [
           "$19,500,000  "
          ],
          [
           "$18,900,000  "
          ],
          [
           "$18,893,589  "
          ],
          [
           "$18,750,000  "
          ],
          [
           "$18,725,000  "
          ],
          [
           "$18,000,000  "
          ],
          [
           "$17,737,500  "
          ],
          [
           "$17,500,000  "
          ],
          [
           "$17,500,000  "
          ],
          [
           "$17,500,000  "
          ],
          [
           "$17,000,000  "
          ],
          [
           "$17,000,000  "
          ],
          [
           "$16,000,000  "
          ],
          [
           "$15,955,000  "
          ],
          [
           "$15,000,000  "
          ],
          [
           "$15,000,000  "
          ],
          [
           "$15,000,000  "
          ],
          [
           "$15,000,000  "
          ],
          [
           "$14,545,000  "
          ],
          [
           "$14,431,700  "
          ],
          [
           "$14,000,000  "
          ],
          [
           "$13,666,667  "
          ],
          [
           "$13,500,000  "
          ],
          [
           "$13,333,327  "
          ],
          [
           "$13,250,000  "
          ],
          [
           "$13,250,000  "
          ],
          [
           "$13,038,862  "
          ],
          [
           "$13,000,000  "
          ],
          [
           "$13,000,000  "
          ],
          [
           "$13,000,000  "
          ],
          [
           "$12,999,975  "
          ],
          [
           "$12,880,000  "
          ],
          [
           "$12,724,946  "
          ],
          [
           "$12,625,000  "
          ],
          [
           "$12,500,000  "
          ],
          [
           "$12,500,000  "
          ],
          [
           "$12,400,000  "
          ]
         ],
         "hovertemplate": "League=NBA<br>Salary_Rank=%{x}<br>salary_ratio=%{y}<br>Avg_Salary=%{customdata[0]}<extra></extra>",
         "legendgroup": "NBA",
         "marker": {
          "color": "#636efa",
          "symbol": "circle"
         },
         "mode": "markers",
         "name": "NBA",
         "orientation": "v",
         "showlegend": true,
         "type": "scatter",
         "x": [
          1,
          2,
          3,
          4,
          5,
          6,
          7,
          8,
          9,
          10,
          11,
          12,
          13,
          14,
          15,
          16,
          17,
          18,
          19,
          20,
          21,
          22,
          23,
          24,
          25,
          26,
          27,
          28,
          29,
          30,
          31,
          32,
          33,
          34,
          35,
          36,
          37,
          38,
          39,
          40,
          41,
          42,
          43,
          44,
          45,
          46,
          47,
          48,
          49,
          50,
          51,
          52,
          53,
          54,
          55,
          56,
          57,
          58,
          59,
          60,
          61,
          62,
          63,
          64,
          65,
          66,
          67,
          68,
          69,
          70,
          71,
          72,
          73,
          74,
          75,
          76,
          77,
          78,
          79,
          80,
          81,
          82,
          83,
          84,
          85,
          86
         ],
         "xaxis": "x",
         "y": [
          0.00578147027027027,
          0.00578147027027027,
          0.005589028918918919,
          0.005549179054054054,
          0.005436724054054054,
          0.0053963037837837825,
          0.005179488108108108,
          0.00513252972972973,
          0.004864864864864865,
          0.004797297297297297,
          0.004790361081081081,
          0.004756439189189189,
          0.004756439189189189,
          0.004645824324324324,
          0.0046254032432432425,
          0.004625176216216216,
          0.004611168918918919,
          0.0042771081081081075,
          0.0042771081081081075,
          0.0042771081081081075,
          0.0042771081081081075,
          0.0041244751351351356,
          0.004121621621621622,
          0.004067640945945946,
          0.004054054054054054,
          0.003992163513513514,
          0.003992163513513514,
          0.003963699324324325,
          0.0037807687837837843,
          0.003756756756756757,
          0.003682432432432433,
          0.003592342432432433,
          0.003445945945945946,
          0.0034370625675675674,
          0.0034054054054054052,
          0.0033783783783783786,
          0.0033783783783783786,
          0.0033671068918918923,
          0.003175675675675676,
          0.0028716216216216213,
          0.0028716216216216213,
          0.0028716216216216213,
          0.0028716216216216213,
          0.002837837837837838,
          0.002797297297297297,
          0.002766891891891892,
          0.002703040540540541,
          0.0027027027027027033,
          0.0027027027027027033,
          0.002635135135135135,
          0.0025540540540540547,
          0.002553187702702702,
          0.002533783783783784,
          0.002530405405405405,
          0.0024324324324324323,
          0.0023969594594594593,
          0.002364864864864865,
          0.002364864864864865,
          0.002364864864864865,
          0.002297297297297297,
          0.002297297297297297,
          0.002162162162162162,
          0.002156081081081081,
          0.002027027027027027,
          0.002027027027027027,
          0.002027027027027027,
          0.002027027027027027,
          0.0019655405405405407,
          0.0019502297297297297,
          0.001891891891891892,
          0.0018468468918918922,
          0.0018243243243243246,
          0.001801800945945946,
          0.0017905405405405407,
          0.0017905405405405407,
          0.0017620083783783786,
          0.0017567567567567568,
          0.0017567567567567568,
          0.0017567567567567568,
          0.0017567533783783785,
          0.0017405405405405403,
          0.0017195872972972973,
          0.001706081081081081,
          0.0016891891891891893,
          0.0016891891891891893,
          0.0016756756756756755
         ],
         "yaxis": "y"
        },
        {
         "customdata": [
          [
           "$224,870  "
          ],
          [
           "$224,870  "
          ],
          [
           "$224,772  "
          ],
          [
           "$224,675  "
          ],
          [
           "$221,515  "
          ],
          [
           "$221,450  "
          ],
          [
           "$209,000  "
          ],
          [
           "$203,000  "
          ],
          [
           "$197,000  "
          ],
          [
           "$196,267  "
          ],
          [
           "$196,267  "
          ],
          [
           "$196,267  "
          ],
          [
           "$193,409  "
          ],
          [
           "$193,409  "
          ],
          [
           "$192,500  "
          ],
          [
           "$190,550  "
          ],
          [
           "$190,517  "
          ],
          [
           "$188,333  "
          ],
          [
           "$187,750  "
          ],
          [
           "$187,750  "
          ],
          [
           "$187,750  "
          ],
          [
           "$183,000  "
          ],
          [
           "$177,625  "
          ],
          [
           "$175,067  "
          ],
          [
           "$172,550  "
          ],
          [
           "$172,500  "
          ],
          [
           "$170,000  "
          ],
          [
           "$165,000  "
          ],
          [
           "$164,800  "
          ],
          [
           "$159,867  "
          ],
          [
           "$155,000  "
          ],
          [
           "$154,455  "
          ],
          [
           "$150,350  "
          ],
          [
           "$144,242  "
          ],
          [
           "$142,100  "
          ],
          [
           "$125,250  "
          ],
          [
           "$120,000  "
          ],
          [
           "$120,000  "
          ],
          [
           "$119,500  "
          ],
          [
           "$119,500  "
          ],
          [
           "$117,000  "
          ],
          [
           "$116,000  "
          ],
          [
           "$115,627  "
          ],
          [
           "$115,000  "
          ],
          [
           "$111,650  "
          ],
          [
           "$110,000  "
          ],
          [
           "$105,000  "
          ],
          [
           "$101,985  "
          ],
          [
           "$101,500  "
          ],
          [
           "$91,250  "
          ],
          [
           "$90,000  "
          ],
          [
           "$85,000  "
          ],
          [
           "$76,800  "
          ],
          [
           "$75,000  "
          ],
          [
           "$73,000  "
          ],
          [
           "$71,633  "
          ],
          [
           "$71,199  "
          ],
          [
           "$71,199  "
          ],
          [
           "$71,199  "
          ],
          [
           "$71,199  "
          ],
          [
           "$70,040  "
          ],
          [
           "$70,040  "
          ],
          [
           "$70,040  "
          ],
          [
           "$70,040  "
          ],
          [
           "$70,040  "
          ],
          [
           "$70,040  "
          ],
          [
           "$70,040  "
          ],
          [
           "$70,040  "
          ],
          [
           "$68,339  "
          ],
          [
           "$68,339  "
          ],
          [
           "$68,339  "
          ],
          [
           "$68,339  "
          ],
          [
           "$65,459  "
          ],
          [
           "$65,459  "
          ],
          [
           "$65,459  "
          ]
         ],
         "hovertemplate": "League=WNBA<br>Salary_Rank=%{x}<br>salary_ratio=%{y}<br>Avg_Salary=%{customdata[0]}<extra></extra>",
         "legendgroup": "WNBA",
         "marker": {
          "color": "#EF553B",
          "symbol": "circle"
         },
         "mode": "markers",
         "name": "WNBA",
         "orientation": "v",
         "showlegend": true,
         "type": "scatter",
         "x": [
          87,
          88,
          89,
          90,
          91,
          92,
          93,
          94,
          95,
          96,
          97,
          98,
          99,
          100,
          101,
          102,
          103,
          104,
          105,
          106,
          107,
          108,
          109,
          110,
          111,
          112,
          113,
          114,
          115,
          116,
          117,
          118,
          119,
          120,
          121,
          122,
          123,
          124,
          125,
          126,
          127,
          128,
          129,
          130,
          131,
          132,
          133,
          134,
          135,
          136,
          137,
          138,
          139,
          140,
          141,
          142,
          143,
          144,
          145,
          146,
          147,
          148,
          149,
          150,
          151,
          152,
          153,
          154,
          155,
          156,
          157,
          158,
          159,
          160,
          161
         ],
         "xaxis": "x",
         "y": [
          0.0037478333333333335,
          0.0037478333333333335,
          0.0037461999999999994,
          0.003744583333333333,
          0.0036919166666666663,
          0.003690833333333333,
          0.0034833333333333326,
          0.003383333333333333,
          0.003283333333333333,
          0.0032711166666666673,
          0.0032711166666666673,
          0.0032711166666666673,
          0.003223483333333333,
          0.003223483333333333,
          0.003208333333333333,
          0.003175833333333333,
          0.003175283333333333,
          0.003138883333333333,
          0.0031291666666666672,
          0.0031291666666666672,
          0.0031291666666666672,
          0.00305,
          0.002960416666666667,
          0.002917783333333333,
          0.0028758333333333327,
          0.002875,
          0.0028333333333333327,
          0.00275,
          0.0027466666666666672,
          0.00266445,
          0.002583333333333333,
          0.00257425,
          0.002505833333333333,
          0.002404033333333333,
          0.002368333333333333,
          0.0020875,
          0.002,
          0.002,
          0.0019916666666666668,
          0.0019916666666666668,
          0.00195,
          0.0019333333333333331,
          0.0019271166666666667,
          0.0019166666666666663,
          0.0018608333333333333,
          0.0018333333333333333,
          0.00175,
          0.00169975,
          0.0016916666666666664,
          0.0015208333333333332,
          0.0015,
          0.0014166666666666668,
          0.00128,
          0.00125,
          0.001216666666666667,
          0.0011938833333333331,
          0.00118665,
          0.00118665,
          0.00118665,
          0.00118665,
          0.0011673333333333336,
          0.0011673333333333336,
          0.0011673333333333336,
          0.0011673333333333336,
          0.0011673333333333336,
          0.0011673333333333336,
          0.0011673333333333336,
          0.0011673333333333336,
          0.0011389833333333333,
          0.0011389833333333333,
          0.0011389833333333333,
          0.0011389833333333333,
          0.0010909833333333334,
          0.0010909833333333334,
          0.0010909833333333334
         ],
         "yaxis": "y"
        }
       ],
       "layout": {
        "legend": {
         "title": {
          "text": "League"
         },
         "tracegroupgap": 0
        },
        "margin": {
         "t": 60
        },
        "template": {
         "data": {
          "bar": [
           {
            "error_x": {
             "color": "#2a3f5f"
            },
            "error_y": {
             "color": "#2a3f5f"
            },
            "marker": {
             "line": {
              "color": "#E5ECF6",
              "width": 0.5
             }
            },
            "type": "bar"
           }
          ],
          "barpolar": [
           {
            "marker": {
             "line": {
              "color": "#E5ECF6",
              "width": 0.5
             }
            },
            "type": "barpolar"
           }
          ],
          "carpet": [
           {
            "aaxis": {
             "endlinecolor": "#2a3f5f",
             "gridcolor": "white",
             "linecolor": "white",
             "minorgridcolor": "white",
             "startlinecolor": "#2a3f5f"
            },
            "baxis": {
             "endlinecolor": "#2a3f5f",
             "gridcolor": "white",
             "linecolor": "white",
             "minorgridcolor": "white",
             "startlinecolor": "#2a3f5f"
            },
            "type": "carpet"
           }
          ],
          "choropleth": [
           {
            "colorbar": {
             "outlinewidth": 0,
             "ticks": ""
            },
            "type": "choropleth"
           }
          ],
          "contour": [
           {
            "colorbar": {
             "outlinewidth": 0,
             "ticks": ""
            },
            "colorscale": [
             [
              0,
              "#0d0887"
             ],
             [
              0.1111111111111111,
              "#46039f"
             ],
             [
              0.2222222222222222,
              "#7201a8"
             ],
             [
              0.3333333333333333,
              "#9c179e"
             ],
             [
              0.4444444444444444,
              "#bd3786"
             ],
             [
              0.5555555555555556,
              "#d8576b"
             ],
             [
              0.6666666666666666,
              "#ed7953"
             ],
             [
              0.7777777777777778,
              "#fb9f3a"
             ],
             [
              0.8888888888888888,
              "#fdca26"
             ],
             [
              1,
              "#f0f921"
             ]
            ],
            "type": "contour"
           }
          ],
          "contourcarpet": [
           {
            "colorbar": {
             "outlinewidth": 0,
             "ticks": ""
            },
            "type": "contourcarpet"
           }
          ],
          "heatmap": [
           {
            "colorbar": {
             "outlinewidth": 0,
             "ticks": ""
            },
            "colorscale": [
             [
              0,
              "#0d0887"
             ],
             [
              0.1111111111111111,
              "#46039f"
             ],
             [
              0.2222222222222222,
              "#7201a8"
             ],
             [
              0.3333333333333333,
              "#9c179e"
             ],
             [
              0.4444444444444444,
              "#bd3786"
             ],
             [
              0.5555555555555556,
              "#d8576b"
             ],
             [
              0.6666666666666666,
              "#ed7953"
             ],
             [
              0.7777777777777778,
              "#fb9f3a"
             ],
             [
              0.8888888888888888,
              "#fdca26"
             ],
             [
              1,
              "#f0f921"
             ]
            ],
            "type": "heatmap"
           }
          ],
          "heatmapgl": [
           {
            "colorbar": {
             "outlinewidth": 0,
             "ticks": ""
            },
            "colorscale": [
             [
              0,
              "#0d0887"
             ],
             [
              0.1111111111111111,
              "#46039f"
             ],
             [
              0.2222222222222222,
              "#7201a8"
             ],
             [
              0.3333333333333333,
              "#9c179e"
             ],
             [
              0.4444444444444444,
              "#bd3786"
             ],
             [
              0.5555555555555556,
              "#d8576b"
             ],
             [
              0.6666666666666666,
              "#ed7953"
             ],
             [
              0.7777777777777778,
              "#fb9f3a"
             ],
             [
              0.8888888888888888,
              "#fdca26"
             ],
             [
              1,
              "#f0f921"
             ]
            ],
            "type": "heatmapgl"
           }
          ],
          "histogram": [
           {
            "marker": {
             "colorbar": {
              "outlinewidth": 0,
              "ticks": ""
             }
            },
            "type": "histogram"
           }
          ],
          "histogram2d": [
           {
            "colorbar": {
             "outlinewidth": 0,
             "ticks": ""
            },
            "colorscale": [
             [
              0,
              "#0d0887"
             ],
             [
              0.1111111111111111,
              "#46039f"
             ],
             [
              0.2222222222222222,
              "#7201a8"
             ],
             [
              0.3333333333333333,
              "#9c179e"
             ],
             [
              0.4444444444444444,
              "#bd3786"
             ],
             [
              0.5555555555555556,
              "#d8576b"
             ],
             [
              0.6666666666666666,
              "#ed7953"
             ],
             [
              0.7777777777777778,
              "#fb9f3a"
             ],
             [
              0.8888888888888888,
              "#fdca26"
             ],
             [
              1,
              "#f0f921"
             ]
            ],
            "type": "histogram2d"
           }
          ],
          "histogram2dcontour": [
           {
            "colorbar": {
             "outlinewidth": 0,
             "ticks": ""
            },
            "colorscale": [
             [
              0,
              "#0d0887"
             ],
             [
              0.1111111111111111,
              "#46039f"
             ],
             [
              0.2222222222222222,
              "#7201a8"
             ],
             [
              0.3333333333333333,
              "#9c179e"
             ],
             [
              0.4444444444444444,
              "#bd3786"
             ],
             [
              0.5555555555555556,
              "#d8576b"
             ],
             [
              0.6666666666666666,
              "#ed7953"
             ],
             [
              0.7777777777777778,
              "#fb9f3a"
             ],
             [
              0.8888888888888888,
              "#fdca26"
             ],
             [
              1,
              "#f0f921"
             ]
            ],
            "type": "histogram2dcontour"
           }
          ],
          "mesh3d": [
           {
            "colorbar": {
             "outlinewidth": 0,
             "ticks": ""
            },
            "type": "mesh3d"
           }
          ],
          "parcoords": [
           {
            "line": {
             "colorbar": {
              "outlinewidth": 0,
              "ticks": ""
             }
            },
            "type": "parcoords"
           }
          ],
          "pie": [
           {
            "automargin": true,
            "type": "pie"
           }
          ],
          "scatter": [
           {
            "marker": {
             "colorbar": {
              "outlinewidth": 0,
              "ticks": ""
             }
            },
            "type": "scatter"
           }
          ],
          "scatter3d": [
           {
            "line": {
             "colorbar": {
              "outlinewidth": 0,
              "ticks": ""
             }
            },
            "marker": {
             "colorbar": {
              "outlinewidth": 0,
              "ticks": ""
             }
            },
            "type": "scatter3d"
           }
          ],
          "scattercarpet": [
           {
            "marker": {
             "colorbar": {
              "outlinewidth": 0,
              "ticks": ""
             }
            },
            "type": "scattercarpet"
           }
          ],
          "scattergeo": [
           {
            "marker": {
             "colorbar": {
              "outlinewidth": 0,
              "ticks": ""
             }
            },
            "type": "scattergeo"
           }
          ],
          "scattergl": [
           {
            "marker": {
             "colorbar": {
              "outlinewidth": 0,
              "ticks": ""
             }
            },
            "type": "scattergl"
           }
          ],
          "scattermapbox": [
           {
            "marker": {
             "colorbar": {
              "outlinewidth": 0,
              "ticks": ""
             }
            },
            "type": "scattermapbox"
           }
          ],
          "scatterpolar": [
           {
            "marker": {
             "colorbar": {
              "outlinewidth": 0,
              "ticks": ""
             }
            },
            "type": "scatterpolar"
           }
          ],
          "scatterpolargl": [
           {
            "marker": {
             "colorbar": {
              "outlinewidth": 0,
              "ticks": ""
             }
            },
            "type": "scatterpolargl"
           }
          ],
          "scatterternary": [
           {
            "marker": {
             "colorbar": {
              "outlinewidth": 0,
              "ticks": ""
             }
            },
            "type": "scatterternary"
           }
          ],
          "surface": [
           {
            "colorbar": {
             "outlinewidth": 0,
             "ticks": ""
            },
            "colorscale": [
             [
              0,
              "#0d0887"
             ],
             [
              0.1111111111111111,
              "#46039f"
             ],
             [
              0.2222222222222222,
              "#7201a8"
             ],
             [
              0.3333333333333333,
              "#9c179e"
             ],
             [
              0.4444444444444444,
              "#bd3786"
             ],
             [
              0.5555555555555556,
              "#d8576b"
             ],
             [
              0.6666666666666666,
              "#ed7953"
             ],
             [
              0.7777777777777778,
              "#fb9f3a"
             ],
             [
              0.8888888888888888,
              "#fdca26"
             ],
             [
              1,
              "#f0f921"
             ]
            ],
            "type": "surface"
           }
          ],
          "table": [
           {
            "cells": {
             "fill": {
              "color": "#EBF0F8"
             },
             "line": {
              "color": "white"
             }
            },
            "header": {
             "fill": {
              "color": "#C8D4E3"
             },
             "line": {
              "color": "white"
             }
            },
            "type": "table"
           }
          ]
         },
         "layout": {
          "annotationdefaults": {
           "arrowcolor": "#2a3f5f",
           "arrowhead": 0,
           "arrowwidth": 1
          },
          "autotypenumbers": "strict",
          "coloraxis": {
           "colorbar": {
            "outlinewidth": 0,
            "ticks": ""
           }
          },
          "colorscale": {
           "diverging": [
            [
             0,
             "#8e0152"
            ],
            [
             0.1,
             "#c51b7d"
            ],
            [
             0.2,
             "#de77ae"
            ],
            [
             0.3,
             "#f1b6da"
            ],
            [
             0.4,
             "#fde0ef"
            ],
            [
             0.5,
             "#f7f7f7"
            ],
            [
             0.6,
             "#e6f5d0"
            ],
            [
             0.7,
             "#b8e186"
            ],
            [
             0.8,
             "#7fbc41"
            ],
            [
             0.9,
             "#4d9221"
            ],
            [
             1,
             "#276419"
            ]
           ],
           "sequential": [
            [
             0,
             "#0d0887"
            ],
            [
             0.1111111111111111,
             "#46039f"
            ],
            [
             0.2222222222222222,
             "#7201a8"
            ],
            [
             0.3333333333333333,
             "#9c179e"
            ],
            [
             0.4444444444444444,
             "#bd3786"
            ],
            [
             0.5555555555555556,
             "#d8576b"
            ],
            [
             0.6666666666666666,
             "#ed7953"
            ],
            [
             0.7777777777777778,
             "#fb9f3a"
            ],
            [
             0.8888888888888888,
             "#fdca26"
            ],
            [
             1,
             "#f0f921"
            ]
           ],
           "sequentialminus": [
            [
             0,
             "#0d0887"
            ],
            [
             0.1111111111111111,
             "#46039f"
            ],
            [
             0.2222222222222222,
             "#7201a8"
            ],
            [
             0.3333333333333333,
             "#9c179e"
            ],
            [
             0.4444444444444444,
             "#bd3786"
            ],
            [
             0.5555555555555556,
             "#d8576b"
            ],
            [
             0.6666666666666666,
             "#ed7953"
            ],
            [
             0.7777777777777778,
             "#fb9f3a"
            ],
            [
             0.8888888888888888,
             "#fdca26"
            ],
            [
             1,
             "#f0f921"
            ]
           ]
          },
          "colorway": [
           "#636efa",
           "#EF553B",
           "#00cc96",
           "#ab63fa",
           "#FFA15A",
           "#19d3f3",
           "#FF6692",
           "#B6E880",
           "#FF97FF",
           "#FECB52"
          ],
          "font": {
           "color": "#2a3f5f"
          },
          "geo": {
           "bgcolor": "white",
           "lakecolor": "white",
           "landcolor": "#E5ECF6",
           "showlakes": true,
           "showland": true,
           "subunitcolor": "white"
          },
          "hoverlabel": {
           "align": "left"
          },
          "hovermode": "closest",
          "mapbox": {
           "style": "light"
          },
          "paper_bgcolor": "white",
          "plot_bgcolor": "#E5ECF6",
          "polar": {
           "angularaxis": {
            "gridcolor": "white",
            "linecolor": "white",
            "ticks": ""
           },
           "bgcolor": "#E5ECF6",
           "radialaxis": {
            "gridcolor": "white",
            "linecolor": "white",
            "ticks": ""
           }
          },
          "scene": {
           "xaxis": {
            "backgroundcolor": "#E5ECF6",
            "gridcolor": "white",
            "gridwidth": 2,
            "linecolor": "white",
            "showbackground": true,
            "ticks": "",
            "zerolinecolor": "white"
           },
           "yaxis": {
            "backgroundcolor": "#E5ECF6",
            "gridcolor": "white",
            "gridwidth": 2,
            "linecolor": "white",
            "showbackground": true,
            "ticks": "",
            "zerolinecolor": "white"
           },
           "zaxis": {
            "backgroundcolor": "#E5ECF6",
            "gridcolor": "white",
            "gridwidth": 2,
            "linecolor": "white",
            "showbackground": true,
            "ticks": "",
            "zerolinecolor": "white"
           }
          },
          "shapedefaults": {
           "line": {
            "color": "#2a3f5f"
           }
          },
          "ternary": {
           "aaxis": {
            "gridcolor": "white",
            "linecolor": "white",
            "ticks": ""
           },
           "baxis": {
            "gridcolor": "white",
            "linecolor": "white",
            "ticks": ""
           },
           "bgcolor": "#E5ECF6",
           "caxis": {
            "gridcolor": "white",
            "linecolor": "white",
            "ticks": ""
           }
          },
          "title": {
           "x": 0.05
          },
          "xaxis": {
           "automargin": true,
           "gridcolor": "white",
           "linecolor": "white",
           "ticks": "",
           "title": {
            "standoff": 15
           },
           "zerolinecolor": "white",
           "zerolinewidth": 2
          },
          "yaxis": {
           "automargin": true,
           "gridcolor": "white",
           "linecolor": "white",
           "ticks": "",
           "title": {
            "standoff": 15
           },
           "zerolinecolor": "white",
           "zerolinewidth": 2
          }
         }
        },
        "xaxis": {
         "anchor": "y",
         "domain": [
          0,
          1
         ],
         "title": {
          "text": "Salary_Rank"
         }
        },
        "yaxis": {
         "anchor": "x",
         "domain": [
          0,
          1
         ],
         "title": {
          "text": "salary_ratio"
         }
        }
       }
      }
     },
     "metadata": {}
    }
   ],
   "source": [
    "fig = px.scatter(df, x= \"Salary_Rank\", y=\"salary_ratio\", color=\"League\", hover_data=['Avg_Salary'])\n",
    "fig.show()"
   ]
  },
  {
   "cell_type": "code",
   "execution_count": 79,
   "metadata": {},
   "outputs": [
    {
     "output_type": "display_data",
     "data": {
      "application/vnd.plotly.v1+json": {
       "config": {
        "plotlyServerURL": "https://plot.ly"
       },
       "data": [
        {
         "alignmentgroup": "True",
         "boxpoints": "all",
         "hovertemplate": "League=%{x}<br>salary_ratio=%{y}<extra></extra>",
         "legendgroup": "NBA",
         "marker": {
          "color": "#636efa"
         },
         "name": "NBA",
         "notched": false,
         "offsetgroup": "NBA",
         "orientation": "v",
         "showlegend": true,
         "type": "box",
         "x": [
          "NBA",
          "NBA",
          "NBA",
          "NBA",
          "NBA",
          "NBA",
          "NBA",
          "NBA",
          "NBA",
          "NBA",
          "NBA",
          "NBA",
          "NBA",
          "NBA",
          "NBA",
          "NBA",
          "NBA",
          "NBA",
          "NBA",
          "NBA",
          "NBA",
          "NBA",
          "NBA",
          "NBA",
          "NBA",
          "NBA",
          "NBA",
          "NBA",
          "NBA",
          "NBA",
          "NBA",
          "NBA",
          "NBA",
          "NBA",
          "NBA",
          "NBA",
          "NBA",
          "NBA",
          "NBA",
          "NBA",
          "NBA",
          "NBA",
          "NBA",
          "NBA",
          "NBA",
          "NBA",
          "NBA",
          "NBA",
          "NBA",
          "NBA",
          "NBA",
          "NBA",
          "NBA",
          "NBA",
          "NBA",
          "NBA",
          "NBA",
          "NBA",
          "NBA",
          "NBA",
          "NBA",
          "NBA",
          "NBA",
          "NBA",
          "NBA",
          "NBA",
          "NBA",
          "NBA",
          "NBA",
          "NBA",
          "NBA",
          "NBA",
          "NBA",
          "NBA",
          "NBA",
          "NBA",
          "NBA",
          "NBA",
          "NBA",
          "NBA",
          "NBA",
          "NBA",
          "NBA",
          "NBA",
          "NBA",
          "NBA"
         ],
         "x0": " ",
         "xaxis": "x",
         "y": [
          0.00578147027027027,
          0.00578147027027027,
          0.005589028918918919,
          0.005549179054054054,
          0.005436724054054054,
          0.0053963037837837825,
          0.005179488108108108,
          0.00513252972972973,
          0.004864864864864865,
          0.004797297297297297,
          0.004790361081081081,
          0.004756439189189189,
          0.004756439189189189,
          0.004645824324324324,
          0.0046254032432432425,
          0.004625176216216216,
          0.004611168918918919,
          0.0042771081081081075,
          0.0042771081081081075,
          0.0042771081081081075,
          0.0042771081081081075,
          0.0041244751351351356,
          0.004121621621621622,
          0.004067640945945946,
          0.004054054054054054,
          0.003992163513513514,
          0.003992163513513514,
          0.003963699324324325,
          0.0037807687837837843,
          0.003756756756756757,
          0.003682432432432433,
          0.003592342432432433,
          0.003445945945945946,
          0.0034370625675675674,
          0.0034054054054054052,
          0.0033783783783783786,
          0.0033783783783783786,
          0.0033671068918918923,
          0.003175675675675676,
          0.0028716216216216213,
          0.0028716216216216213,
          0.0028716216216216213,
          0.0028716216216216213,
          0.002837837837837838,
          0.002797297297297297,
          0.002766891891891892,
          0.002703040540540541,
          0.0027027027027027033,
          0.0027027027027027033,
          0.002635135135135135,
          0.0025540540540540547,
          0.002553187702702702,
          0.002533783783783784,
          0.002530405405405405,
          0.0024324324324324323,
          0.0023969594594594593,
          0.002364864864864865,
          0.002364864864864865,
          0.002364864864864865,
          0.002297297297297297,
          0.002297297297297297,
          0.002162162162162162,
          0.002156081081081081,
          0.002027027027027027,
          0.002027027027027027,
          0.002027027027027027,
          0.002027027027027027,
          0.0019655405405405407,
          0.0019502297297297297,
          0.001891891891891892,
          0.0018468468918918922,
          0.0018243243243243246,
          0.001801800945945946,
          0.0017905405405405407,
          0.0017905405405405407,
          0.0017620083783783786,
          0.0017567567567567568,
          0.0017567567567567568,
          0.0017567567567567568,
          0.0017567533783783785,
          0.0017405405405405403,
          0.0017195872972972973,
          0.001706081081081081,
          0.0016891891891891893,
          0.0016891891891891893,
          0.0016756756756756755
         ],
         "y0": " ",
         "yaxis": "y"
        },
        {
         "alignmentgroup": "True",
         "boxpoints": "all",
         "hovertemplate": "League=%{x}<br>salary_ratio=%{y}<extra></extra>",
         "legendgroup": "WNBA",
         "marker": {
          "color": "#EF553B"
         },
         "name": "WNBA",
         "notched": false,
         "offsetgroup": "WNBA",
         "orientation": "v",
         "showlegend": true,
         "type": "box",
         "x": [
          "WNBA",
          "WNBA",
          "WNBA",
          "WNBA",
          "WNBA",
          "WNBA",
          "WNBA",
          "WNBA",
          "WNBA",
          "WNBA",
          "WNBA",
          "WNBA",
          "WNBA",
          "WNBA",
          "WNBA",
          "WNBA",
          "WNBA",
          "WNBA",
          "WNBA",
          "WNBA",
          "WNBA",
          "WNBA",
          "WNBA",
          "WNBA",
          "WNBA",
          "WNBA",
          "WNBA",
          "WNBA",
          "WNBA",
          "WNBA",
          "WNBA",
          "WNBA",
          "WNBA",
          "WNBA",
          "WNBA",
          "WNBA",
          "WNBA",
          "WNBA",
          "WNBA",
          "WNBA",
          "WNBA",
          "WNBA",
          "WNBA",
          "WNBA",
          "WNBA",
          "WNBA",
          "WNBA",
          "WNBA",
          "WNBA",
          "WNBA",
          "WNBA",
          "WNBA",
          "WNBA",
          "WNBA",
          "WNBA",
          "WNBA",
          "WNBA",
          "WNBA",
          "WNBA",
          "WNBA",
          "WNBA",
          "WNBA",
          "WNBA",
          "WNBA",
          "WNBA",
          "WNBA",
          "WNBA",
          "WNBA",
          "WNBA",
          "WNBA",
          "WNBA",
          "WNBA",
          "WNBA",
          "WNBA",
          "WNBA"
         ],
         "x0": " ",
         "xaxis": "x",
         "y": [
          0.0037478333333333335,
          0.0037478333333333335,
          0.0037461999999999994,
          0.003744583333333333,
          0.0036919166666666663,
          0.003690833333333333,
          0.0034833333333333326,
          0.003383333333333333,
          0.003283333333333333,
          0.0032711166666666673,
          0.0032711166666666673,
          0.0032711166666666673,
          0.003223483333333333,
          0.003223483333333333,
          0.003208333333333333,
          0.003175833333333333,
          0.003175283333333333,
          0.003138883333333333,
          0.0031291666666666672,
          0.0031291666666666672,
          0.0031291666666666672,
          0.00305,
          0.002960416666666667,
          0.002917783333333333,
          0.0028758333333333327,
          0.002875,
          0.0028333333333333327,
          0.00275,
          0.0027466666666666672,
          0.00266445,
          0.002583333333333333,
          0.00257425,
          0.002505833333333333,
          0.002404033333333333,
          0.002368333333333333,
          0.0020875,
          0.002,
          0.002,
          0.0019916666666666668,
          0.0019916666666666668,
          0.00195,
          0.0019333333333333331,
          0.0019271166666666667,
          0.0019166666666666663,
          0.0018608333333333333,
          0.0018333333333333333,
          0.00175,
          0.00169975,
          0.0016916666666666664,
          0.0015208333333333332,
          0.0015,
          0.0014166666666666668,
          0.00128,
          0.00125,
          0.001216666666666667,
          0.0011938833333333331,
          0.00118665,
          0.00118665,
          0.00118665,
          0.00118665,
          0.0011673333333333336,
          0.0011673333333333336,
          0.0011673333333333336,
          0.0011673333333333336,
          0.0011673333333333336,
          0.0011673333333333336,
          0.0011673333333333336,
          0.0011673333333333336,
          0.0011389833333333333,
          0.0011389833333333333,
          0.0011389833333333333,
          0.0011389833333333333,
          0.0010909833333333334,
          0.0010909833333333334,
          0.0010909833333333334
         ],
         "y0": " ",
         "yaxis": "y"
        }
       ],
       "layout": {
        "boxmode": "overlay",
        "legend": {
         "title": {
          "text": "League"
         },
         "tracegroupgap": 0
        },
        "margin": {
         "t": 60
        },
        "template": {
         "data": {
          "bar": [
           {
            "error_x": {
             "color": "#2a3f5f"
            },
            "error_y": {
             "color": "#2a3f5f"
            },
            "marker": {
             "line": {
              "color": "#E5ECF6",
              "width": 0.5
             }
            },
            "type": "bar"
           }
          ],
          "barpolar": [
           {
            "marker": {
             "line": {
              "color": "#E5ECF6",
              "width": 0.5
             }
            },
            "type": "barpolar"
           }
          ],
          "carpet": [
           {
            "aaxis": {
             "endlinecolor": "#2a3f5f",
             "gridcolor": "white",
             "linecolor": "white",
             "minorgridcolor": "white",
             "startlinecolor": "#2a3f5f"
            },
            "baxis": {
             "endlinecolor": "#2a3f5f",
             "gridcolor": "white",
             "linecolor": "white",
             "minorgridcolor": "white",
             "startlinecolor": "#2a3f5f"
            },
            "type": "carpet"
           }
          ],
          "choropleth": [
           {
            "colorbar": {
             "outlinewidth": 0,
             "ticks": ""
            },
            "type": "choropleth"
           }
          ],
          "contour": [
           {
            "colorbar": {
             "outlinewidth": 0,
             "ticks": ""
            },
            "colorscale": [
             [
              0,
              "#0d0887"
             ],
             [
              0.1111111111111111,
              "#46039f"
             ],
             [
              0.2222222222222222,
              "#7201a8"
             ],
             [
              0.3333333333333333,
              "#9c179e"
             ],
             [
              0.4444444444444444,
              "#bd3786"
             ],
             [
              0.5555555555555556,
              "#d8576b"
             ],
             [
              0.6666666666666666,
              "#ed7953"
             ],
             [
              0.7777777777777778,
              "#fb9f3a"
             ],
             [
              0.8888888888888888,
              "#fdca26"
             ],
             [
              1,
              "#f0f921"
             ]
            ],
            "type": "contour"
           }
          ],
          "contourcarpet": [
           {
            "colorbar": {
             "outlinewidth": 0,
             "ticks": ""
            },
            "type": "contourcarpet"
           }
          ],
          "heatmap": [
           {
            "colorbar": {
             "outlinewidth": 0,
             "ticks": ""
            },
            "colorscale": [
             [
              0,
              "#0d0887"
             ],
             [
              0.1111111111111111,
              "#46039f"
             ],
             [
              0.2222222222222222,
              "#7201a8"
             ],
             [
              0.3333333333333333,
              "#9c179e"
             ],
             [
              0.4444444444444444,
              "#bd3786"
             ],
             [
              0.5555555555555556,
              "#d8576b"
             ],
             [
              0.6666666666666666,
              "#ed7953"
             ],
             [
              0.7777777777777778,
              "#fb9f3a"
             ],
             [
              0.8888888888888888,
              "#fdca26"
             ],
             [
              1,
              "#f0f921"
             ]
            ],
            "type": "heatmap"
           }
          ],
          "heatmapgl": [
           {
            "colorbar": {
             "outlinewidth": 0,
             "ticks": ""
            },
            "colorscale": [
             [
              0,
              "#0d0887"
             ],
             [
              0.1111111111111111,
              "#46039f"
             ],
             [
              0.2222222222222222,
              "#7201a8"
             ],
             [
              0.3333333333333333,
              "#9c179e"
             ],
             [
              0.4444444444444444,
              "#bd3786"
             ],
             [
              0.5555555555555556,
              "#d8576b"
             ],
             [
              0.6666666666666666,
              "#ed7953"
             ],
             [
              0.7777777777777778,
              "#fb9f3a"
             ],
             [
              0.8888888888888888,
              "#fdca26"
             ],
             [
              1,
              "#f0f921"
             ]
            ],
            "type": "heatmapgl"
           }
          ],
          "histogram": [
           {
            "marker": {
             "colorbar": {
              "outlinewidth": 0,
              "ticks": ""
             }
            },
            "type": "histogram"
           }
          ],
          "histogram2d": [
           {
            "colorbar": {
             "outlinewidth": 0,
             "ticks": ""
            },
            "colorscale": [
             [
              0,
              "#0d0887"
             ],
             [
              0.1111111111111111,
              "#46039f"
             ],
             [
              0.2222222222222222,
              "#7201a8"
             ],
             [
              0.3333333333333333,
              "#9c179e"
             ],
             [
              0.4444444444444444,
              "#bd3786"
             ],
             [
              0.5555555555555556,
              "#d8576b"
             ],
             [
              0.6666666666666666,
              "#ed7953"
             ],
             [
              0.7777777777777778,
              "#fb9f3a"
             ],
             [
              0.8888888888888888,
              "#fdca26"
             ],
             [
              1,
              "#f0f921"
             ]
            ],
            "type": "histogram2d"
           }
          ],
          "histogram2dcontour": [
           {
            "colorbar": {
             "outlinewidth": 0,
             "ticks": ""
            },
            "colorscale": [
             [
              0,
              "#0d0887"
             ],
             [
              0.1111111111111111,
              "#46039f"
             ],
             [
              0.2222222222222222,
              "#7201a8"
             ],
             [
              0.3333333333333333,
              "#9c179e"
             ],
             [
              0.4444444444444444,
              "#bd3786"
             ],
             [
              0.5555555555555556,
              "#d8576b"
             ],
             [
              0.6666666666666666,
              "#ed7953"
             ],
             [
              0.7777777777777778,
              "#fb9f3a"
             ],
             [
              0.8888888888888888,
              "#fdca26"
             ],
             [
              1,
              "#f0f921"
             ]
            ],
            "type": "histogram2dcontour"
           }
          ],
          "mesh3d": [
           {
            "colorbar": {
             "outlinewidth": 0,
             "ticks": ""
            },
            "type": "mesh3d"
           }
          ],
          "parcoords": [
           {
            "line": {
             "colorbar": {
              "outlinewidth": 0,
              "ticks": ""
             }
            },
            "type": "parcoords"
           }
          ],
          "pie": [
           {
            "automargin": true,
            "type": "pie"
           }
          ],
          "scatter": [
           {
            "marker": {
             "colorbar": {
              "outlinewidth": 0,
              "ticks": ""
             }
            },
            "type": "scatter"
           }
          ],
          "scatter3d": [
           {
            "line": {
             "colorbar": {
              "outlinewidth": 0,
              "ticks": ""
             }
            },
            "marker": {
             "colorbar": {
              "outlinewidth": 0,
              "ticks": ""
             }
            },
            "type": "scatter3d"
           }
          ],
          "scattercarpet": [
           {
            "marker": {
             "colorbar": {
              "outlinewidth": 0,
              "ticks": ""
             }
            },
            "type": "scattercarpet"
           }
          ],
          "scattergeo": [
           {
            "marker": {
             "colorbar": {
              "outlinewidth": 0,
              "ticks": ""
             }
            },
            "type": "scattergeo"
           }
          ],
          "scattergl": [
           {
            "marker": {
             "colorbar": {
              "outlinewidth": 0,
              "ticks": ""
             }
            },
            "type": "scattergl"
           }
          ],
          "scattermapbox": [
           {
            "marker": {
             "colorbar": {
              "outlinewidth": 0,
              "ticks": ""
             }
            },
            "type": "scattermapbox"
           }
          ],
          "scatterpolar": [
           {
            "marker": {
             "colorbar": {
              "outlinewidth": 0,
              "ticks": ""
             }
            },
            "type": "scatterpolar"
           }
          ],
          "scatterpolargl": [
           {
            "marker": {
             "colorbar": {
              "outlinewidth": 0,
              "ticks": ""
             }
            },
            "type": "scatterpolargl"
           }
          ],
          "scatterternary": [
           {
            "marker": {
             "colorbar": {
              "outlinewidth": 0,
              "ticks": ""
             }
            },
            "type": "scatterternary"
           }
          ],
          "surface": [
           {
            "colorbar": {
             "outlinewidth": 0,
             "ticks": ""
            },
            "colorscale": [
             [
              0,
              "#0d0887"
             ],
             [
              0.1111111111111111,
              "#46039f"
             ],
             [
              0.2222222222222222,
              "#7201a8"
             ],
             [
              0.3333333333333333,
              "#9c179e"
             ],
             [
              0.4444444444444444,
              "#bd3786"
             ],
             [
              0.5555555555555556,
              "#d8576b"
             ],
             [
              0.6666666666666666,
              "#ed7953"
             ],
             [
              0.7777777777777778,
              "#fb9f3a"
             ],
             [
              0.8888888888888888,
              "#fdca26"
             ],
             [
              1,
              "#f0f921"
             ]
            ],
            "type": "surface"
           }
          ],
          "table": [
           {
            "cells": {
             "fill": {
              "color": "#EBF0F8"
             },
             "line": {
              "color": "white"
             }
            },
            "header": {
             "fill": {
              "color": "#C8D4E3"
             },
             "line": {
              "color": "white"
             }
            },
            "type": "table"
           }
          ]
         },
         "layout": {
          "annotationdefaults": {
           "arrowcolor": "#2a3f5f",
           "arrowhead": 0,
           "arrowwidth": 1
          },
          "autotypenumbers": "strict",
          "coloraxis": {
           "colorbar": {
            "outlinewidth": 0,
            "ticks": ""
           }
          },
          "colorscale": {
           "diverging": [
            [
             0,
             "#8e0152"
            ],
            [
             0.1,
             "#c51b7d"
            ],
            [
             0.2,
             "#de77ae"
            ],
            [
             0.3,
             "#f1b6da"
            ],
            [
             0.4,
             "#fde0ef"
            ],
            [
             0.5,
             "#f7f7f7"
            ],
            [
             0.6,
             "#e6f5d0"
            ],
            [
             0.7,
             "#b8e186"
            ],
            [
             0.8,
             "#7fbc41"
            ],
            [
             0.9,
             "#4d9221"
            ],
            [
             1,
             "#276419"
            ]
           ],
           "sequential": [
            [
             0,
             "#0d0887"
            ],
            [
             0.1111111111111111,
             "#46039f"
            ],
            [
             0.2222222222222222,
             "#7201a8"
            ],
            [
             0.3333333333333333,
             "#9c179e"
            ],
            [
             0.4444444444444444,
             "#bd3786"
            ],
            [
             0.5555555555555556,
             "#d8576b"
            ],
            [
             0.6666666666666666,
             "#ed7953"
            ],
            [
             0.7777777777777778,
             "#fb9f3a"
            ],
            [
             0.8888888888888888,
             "#fdca26"
            ],
            [
             1,
             "#f0f921"
            ]
           ],
           "sequentialminus": [
            [
             0,
             "#0d0887"
            ],
            [
             0.1111111111111111,
             "#46039f"
            ],
            [
             0.2222222222222222,
             "#7201a8"
            ],
            [
             0.3333333333333333,
             "#9c179e"
            ],
            [
             0.4444444444444444,
             "#bd3786"
            ],
            [
             0.5555555555555556,
             "#d8576b"
            ],
            [
             0.6666666666666666,
             "#ed7953"
            ],
            [
             0.7777777777777778,
             "#fb9f3a"
            ],
            [
             0.8888888888888888,
             "#fdca26"
            ],
            [
             1,
             "#f0f921"
            ]
           ]
          },
          "colorway": [
           "#636efa",
           "#EF553B",
           "#00cc96",
           "#ab63fa",
           "#FFA15A",
           "#19d3f3",
           "#FF6692",
           "#B6E880",
           "#FF97FF",
           "#FECB52"
          ],
          "font": {
           "color": "#2a3f5f"
          },
          "geo": {
           "bgcolor": "white",
           "lakecolor": "white",
           "landcolor": "#E5ECF6",
           "showlakes": true,
           "showland": true,
           "subunitcolor": "white"
          },
          "hoverlabel": {
           "align": "left"
          },
          "hovermode": "closest",
          "mapbox": {
           "style": "light"
          },
          "paper_bgcolor": "white",
          "plot_bgcolor": "#E5ECF6",
          "polar": {
           "angularaxis": {
            "gridcolor": "white",
            "linecolor": "white",
            "ticks": ""
           },
           "bgcolor": "#E5ECF6",
           "radialaxis": {
            "gridcolor": "white",
            "linecolor": "white",
            "ticks": ""
           }
          },
          "scene": {
           "xaxis": {
            "backgroundcolor": "#E5ECF6",
            "gridcolor": "white",
            "gridwidth": 2,
            "linecolor": "white",
            "showbackground": true,
            "ticks": "",
            "zerolinecolor": "white"
           },
           "yaxis": {
            "backgroundcolor": "#E5ECF6",
            "gridcolor": "white",
            "gridwidth": 2,
            "linecolor": "white",
            "showbackground": true,
            "ticks": "",
            "zerolinecolor": "white"
           },
           "zaxis": {
            "backgroundcolor": "#E5ECF6",
            "gridcolor": "white",
            "gridwidth": 2,
            "linecolor": "white",
            "showbackground": true,
            "ticks": "",
            "zerolinecolor": "white"
           }
          },
          "shapedefaults": {
           "line": {
            "color": "#2a3f5f"
           }
          },
          "ternary": {
           "aaxis": {
            "gridcolor": "white",
            "linecolor": "white",
            "ticks": ""
           },
           "baxis": {
            "gridcolor": "white",
            "linecolor": "white",
            "ticks": ""
           },
           "bgcolor": "#E5ECF6",
           "caxis": {
            "gridcolor": "white",
            "linecolor": "white",
            "ticks": ""
           }
          },
          "title": {
           "x": 0.05
          },
          "xaxis": {
           "automargin": true,
           "gridcolor": "white",
           "linecolor": "white",
           "ticks": "",
           "title": {
            "standoff": 15
           },
           "zerolinecolor": "white",
           "zerolinewidth": 2
          },
          "yaxis": {
           "automargin": true,
           "gridcolor": "white",
           "linecolor": "white",
           "ticks": "",
           "title": {
            "standoff": 15
           },
           "zerolinecolor": "white",
           "zerolinewidth": 2
          }
         }
        },
        "xaxis": {
         "anchor": "y",
         "categoryarray": [
          "NBA",
          "WNBA"
         ],
         "categoryorder": "array",
         "domain": [
          0,
          1
         ],
         "title": {
          "text": "League"
         }
        },
        "yaxis": {
         "anchor": "x",
         "domain": [
          0,
          1
         ],
         "title": {
          "text": "salary_ratio"
         }
        }
       }
      }
     },
     "metadata": {}
    }
   ],
   "source": [
    "fig = px.box(df, x=\"League\", y=\"salary_ratio\", color=\"League\", points=\"all\")\n",
    "fig.show()"
   ]
  },
  {
   "cell_type": "code",
   "execution_count": 3,
   "metadata": {},
   "outputs": [
    {
     "output_type": "display_data",
     "data": {
      "application/vnd.plotly.v1+json": {
       "config": {
        "plotlyServerURL": "https://plot.ly"
       },
       "data": [
        {
         "alignmentgroup": "True",
         "boxpoints": "all",
         "customdata": [
          [
           "$42,782,880  ",
           0.0057799999999999995
          ],
          [
           "$42,782,880  ",
           0.0057799999999999995
          ],
          [
           "$41,358,814  ",
           0.0055899999999999995
          ],
          [
           "$41,063,925  ",
           0.00555
          ],
          [
           "$40,231,758  ",
           0.0054399999999999995
          ],
          [
           "$39,932,648  ",
           0.0054
          ],
          [
           "$38,328,212  ",
           0.00518
          ],
          [
           "$37,980,720  ",
           0.00513
          ],
          [
           "$36,000,000  ",
           0.00486
          ],
          [
           "$35,500,000  ",
           0.0048
          ],
          [
           "$35,448,672  ",
           0.00479
          ],
          [
           "$35,197,650  ",
           0.00476
          ],
          [
           "$35,197,650  ",
           0.00476
          ],
          [
           "$34,379,100  ",
           0.00465
          ],
          [
           "$34,227,984  ",
           0.00463
          ],
          [
           "$34,226,304  ",
           0.00463
          ],
          [
           "$34,122,650  ",
           0.00461
          ],
          [
           "$31,650,600  ",
           0.00428
          ],
          [
           "$31,650,600  ",
           0.00428
          ],
          [
           "$31,650,600  ",
           0.00428
          ],
          [
           "$31,650,600  ",
           0.00428
          ],
          [
           "$30,521,116  ",
           0.00412
          ],
          [
           "$30,500,000  ",
           0.00412
          ],
          [
           "$30,100,543  ",
           0.004070000000000001
          ],
          [
           "$30,000,000  ",
           0.00405
          ],
          [
           "$29,542,010  ",
           0.00399
          ],
          [
           "$29,542,010  ",
           0.00399
          ],
          [
           "$29,331,375  ",
           0.00396
          ],
          [
           "$27,977,689  ",
           0.0037799999999999995
          ],
          [
           "$27,800,000  ",
           0.0037600000000000003
          ],
          [
           "$27,250,000  ",
           0.0036799999999999997
          ],
          [
           "$26,583,334  ",
           0.00359
          ],
          [
           "$25,500,000  ",
           0.00345
          ],
          [
           "$25,434,263  ",
           0.00344
          ],
          [
           "$25,200,000  ",
           0.0034100000000000003
          ],
          [
           "$25,000,000  ",
           0.0033799999999999998
          ],
          [
           "$25,000,000  ",
           0.0033799999999999998
          ],
          [
           "$24,916,591  ",
           0.00337
          ],
          [
           "$23,500,000  ",
           0.00318
          ],
          [
           "$21,250,000  ",
           0.0028699999999999997
          ],
          [
           "$21,250,000  ",
           0.0028699999999999997
          ],
          [
           "$21,250,000  ",
           0.0028699999999999997
          ],
          [
           "$21,250,000  ",
           0.0028699999999999997
          ],
          [
           "$21,000,000  ",
           0.0028399999999999996
          ],
          [
           "$20,700,000  ",
           0.0028
          ],
          [
           "$20,475,000  ",
           0.00277
          ],
          [
           "$20,002,500  ",
           0.0027
          ],
          [
           "$20,000,000  ",
           0.0027
          ],
          [
           "$20,000,000  ",
           0.0027
          ],
          [
           "$19,500,000  ",
           0.00264
          ],
          [
           "$18,900,000  ",
           0.00255
          ],
          [
           "$18,893,589  ",
           0.00255
          ],
          [
           "$18,750,000  ",
           0.00253
          ],
          [
           "$18,725,000  ",
           0.00253
          ],
          [
           "$18,000,000  ",
           0.00243
          ],
          [
           "$17,737,500  ",
           0.0024
          ],
          [
           "$17,500,000  ",
           0.00236
          ],
          [
           "$17,500,000  ",
           0.00236
          ],
          [
           "$17,500,000  ",
           0.00236
          ],
          [
           "$17,000,000  ",
           0.0023
          ],
          [
           "$17,000,000  ",
           0.0023
          ],
          [
           "$16,000,000  ",
           0.00216
          ],
          [
           "$15,955,000  ",
           0.00216
          ],
          [
           "$15,000,000  ",
           0.00203
          ],
          [
           "$15,000,000  ",
           0.00203
          ],
          [
           "$15,000,000  ",
           0.00203
          ],
          [
           "$15,000,000  ",
           0.00203
          ],
          [
           "$14,545,000  ",
           0.00197
          ],
          [
           "$14,431,700  ",
           0.00195
          ],
          [
           "$14,000,000  ",
           0.0018899999999999998
          ],
          [
           "$13,666,667  ",
           0.00185
          ],
          [
           "$13,500,000  ",
           0.00182
          ],
          [
           "$13,333,327  ",
           0.0018
          ],
          [
           "$13,250,000  ",
           0.00179
          ],
          [
           "$13,250,000  ",
           0.00179
          ],
          [
           "$13,038,862  ",
           0.00176
          ],
          [
           "$13,000,000  ",
           0.00176
          ],
          [
           "$13,000,000  ",
           0.00176
          ],
          [
           "$13,000,000  ",
           0.00176
          ],
          [
           "$12,999,975  ",
           0.00176
          ],
          [
           "$12,880,000  ",
           0.0017399999999999998
          ],
          [
           "$12,724,946  ",
           0.00172
          ],
          [
           "$12,625,000  ",
           0.0017100000000000001
          ],
          [
           "$12,500,000  ",
           0.0016899999999999999
          ],
          [
           "$12,500,000  ",
           0.0016899999999999999
          ],
          [
           "$12,400,000  ",
           0.00168
          ]
         ],
         "hovertemplate": "League=NBA<br>Position=%{x}<br>FG%=%{y}<br>Avg_Salary=%{customdata[0]}<br>salary_ratio=%{customdata[1]}<extra></extra>",
         "legendgroup": "NBA",
         "marker": {
          "color": "#636efa"
         },
         "name": "NBA",
         "notched": false,
         "offsetgroup": "NBA",
         "orientation": "v",
         "showlegend": true,
         "type": "box",
         "x": [
          "G",
          "G",
          "G",
          "F",
          "G",
          "G",
          "F",
          "F",
          "F",
          "F",
          "G",
          "F",
          "G",
          "F",
          "G",
          "F",
          "G",
          "G",
          "F",
          "G",
          "C",
          "G",
          "G",
          "F",
          "F",
          "C",
          "F",
          "G",
          "G",
          "G",
          "F",
          "G",
          "C",
          "G",
          "G",
          "F",
          "C",
          "F",
          "G",
          "F",
          "G",
          "G",
          "G",
          "G",
          "F",
          "F",
          "F",
          "C",
          "F",
          "G",
          "G",
          "G",
          "G",
          "F",
          "C",
          "G",
          "G",
          "G",
          "G",
          "G",
          "G",
          "F",
          "G",
          "F",
          "G",
          "G",
          "F",
          "F",
          "F",
          "C",
          "F",
          "G",
          "G",
          "G",
          "F",
          "G",
          "F",
          "C",
          "F",
          "G",
          "G",
          "F",
          "F",
          "F",
          "F",
          "G"
         ],
         "x0": " ",
         "xaxis": "x",
         "y": [
          0.40299999999999997,
          0.46299999999999997,
          0.436,
          0.5429999999999999,
          0.486,
          0.48700000000000004,
          0.513,
          0.5329999999999999,
          0.521,
          0.479,
          0.545,
          0.494,
          0.401,
          0.516,
          0.483,
          0.45399999999999996,
          0.513,
          0.47700000000000004,
          0.46799999999999997,
          0.48200000000000004,
          0.49,
          0.447,
          0.435,
          0.40299999999999997,
          0.473,
          0.515,
          0.47200000000000003,
          0.441,
          0.439,
          0.49200000000000005,
          0.45,
          0.496,
          0.6729999999999999,
          0.48200000000000004,
          0.506,
          0.564,
          0.62,
          0.418,
          0.40399999999999997,
          0.494,
          0.391,
          0.455,
          0.408,
          0.423,
          0.46,
          0.425,
          0.43,
          0.47700000000000004,
          0.46,
          0.506,
          0.46799999999999997,
          0.433,
          0.515,
          0.52,
          0.604,
          0.44,
          0.40700000000000003,
          0.434,
          0.431,
          0.457,
          0.38,
          0.414,
          0.451,
          0.385,
          0.423,
          0.44,
          0.439,
          0.574,
          0.442,
          0.54,
          0.529,
          0.41200000000000003,
          0.43200000000000005,
          0.405,
          0.426,
          0.429,
          0.348,
          0.483,
          0.525,
          0.41100000000000003,
          0.424,
          0.502,
          0.401,
          0.385,
          0.48100000000000004,
          0.46299999999999997
         ],
         "y0": " ",
         "yaxis": "y"
        },
        {
         "alignmentgroup": "True",
         "boxpoints": "all",
         "customdata": [
          [
           "$224,870  ",
           0.00375
          ],
          [
           "$224,870  ",
           0.00375
          ],
          [
           "$224,772  ",
           0.00375
          ],
          [
           "$224,675  ",
           0.00374
          ],
          [
           "$221,515  ",
           0.0036899999999999997
          ],
          [
           "$221,450  ",
           0.0036899999999999997
          ],
          [
           "$209,000  ",
           0.0034799999999999996
          ],
          [
           "$203,000  ",
           0.0033799999999999998
          ],
          [
           "$197,000  ",
           0.00328
          ],
          [
           "$196,267  ",
           0.0032700000000000003
          ],
          [
           "$196,267  ",
           0.0032700000000000003
          ],
          [
           "$196,267  ",
           0.0032700000000000003
          ],
          [
           "$193,409  ",
           0.00322
          ],
          [
           "$193,409  ",
           0.00322
          ],
          [
           "$192,500  ",
           0.00321
          ],
          [
           "$190,550  ",
           0.00318
          ],
          [
           "$190,517  ",
           0.00318
          ],
          [
           "$188,333  ",
           0.00314
          ],
          [
           "$187,750  ",
           0.00313
          ],
          [
           "$187,750  ",
           0.00313
          ],
          [
           "$187,750  ",
           0.00313
          ],
          [
           "$183,000  ",
           0.00305
          ],
          [
           "$177,625  ",
           0.00296
          ],
          [
           "$175,067  ",
           0.00292
          ],
          [
           "$172,550  ",
           0.00288
          ],
          [
           "$172,500  ",
           0.00288
          ],
          [
           "$170,000  ",
           0.00283
          ],
          [
           "$165,000  ",
           0.00275
          ],
          [
           "$164,800  ",
           0.00275
          ],
          [
           "$159,867  ",
           0.00266
          ],
          [
           "$155,000  ",
           0.0025800000000000003
          ],
          [
           "$154,455  ",
           0.00257
          ],
          [
           "$150,350  ",
           0.00251
          ],
          [
           "$144,242  ",
           0.0024
          ],
          [
           "$142,100  ",
           0.00237
          ],
          [
           "$125,250  ",
           0.00209
          ],
          [
           "$120,000  ",
           0.002
          ],
          [
           "$120,000  ",
           0.002
          ],
          [
           "$119,500  ",
           0.00199
          ],
          [
           "$119,500  ",
           0.00199
          ],
          [
           "$117,000  ",
           0.00195
          ],
          [
           "$116,000  ",
           0.00193
          ],
          [
           "$115,627  ",
           0.00193
          ],
          [
           "$115,000  ",
           0.0019199999999999998
          ],
          [
           "$111,650  ",
           0.00186
          ],
          [
           "$110,000  ",
           0.00183
          ],
          [
           "$105,000  ",
           0.00175
          ],
          [
           "$101,985  ",
           0.0017
          ],
          [
           "$101,500  ",
           0.0016899999999999999
          ],
          [
           "$91,250  ",
           0.0015199999999999999
          ],
          [
           "$90,000  ",
           0.0015
          ],
          [
           "$85,000  ",
           0.0014199999999999998
          ],
          [
           "$76,800  ",
           0.00128
          ],
          [
           "$75,000  ",
           0.00125
          ],
          [
           "$73,000  ",
           0.00122
          ],
          [
           "$71,633  ",
           0.00119
          ],
          [
           "$71,199  ",
           0.00119
          ],
          [
           "$71,199  ",
           0.00119
          ],
          [
           "$71,199  ",
           0.00119
          ],
          [
           "$71,199  ",
           0.00119
          ],
          [
           "$70,040  ",
           0.00117
          ],
          [
           "$70,040  ",
           0.00117
          ],
          [
           "$70,040  ",
           0.00117
          ],
          [
           "$70,040  ",
           0.00117
          ],
          [
           "$70,040  ",
           0.00117
          ],
          [
           "$70,040  ",
           0.00117
          ],
          [
           "$70,040  ",
           0.00117
          ],
          [
           "$70,040  ",
           0.00117
          ],
          [
           "$68,339  ",
           0.00114
          ],
          [
           "$68,339  ",
           0.00114
          ],
          [
           "$68,339  ",
           0.00114
          ],
          [
           "$68,339  ",
           0.00114
          ],
          [
           "$65,459  ",
           0.00109
          ],
          [
           "$65,459  ",
           0.00109
          ],
          [
           "$65,459  ",
           0.00109
          ]
         ],
         "hovertemplate": "League=WNBA<br>Position=%{x}<br>FG%=%{y}<br>Avg_Salary=%{customdata[0]}<br>salary_ratio=%{customdata[1]}<extra></extra>",
         "legendgroup": "WNBA",
         "marker": {
          "color": "#EF553B"
         },
         "name": "WNBA",
         "notched": false,
         "offsetgroup": "WNBA",
         "orientation": "v",
         "showlegend": true,
         "type": "box",
         "x": [
          "F",
          "G",
          "G",
          "F",
          "C",
          "G",
          "F",
          "G",
          "G",
          "G",
          "F",
          "G",
          "F",
          "G",
          "F",
          "F",
          "G",
          "G",
          "G",
          "F",
          "F",
          "F",
          "C",
          "G",
          "F",
          "G",
          "F",
          "G",
          "G",
          "C",
          "G",
          "F",
          "G",
          "G",
          "F",
          "G",
          "C",
          "G",
          "G",
          "G",
          "F",
          "C",
          "C",
          "G",
          "G",
          "C",
          "F",
          "F",
          "G",
          "G",
          "G",
          "G",
          "G",
          "G",
          "F",
          "C",
          "G",
          "F",
          "F",
          "G",
          "C",
          "F",
          "G",
          "G",
          "G",
          "F",
          "F",
          "G",
          "G",
          "G",
          "F",
          "F",
          "G",
          "F",
          "F"
         ],
         "x0": " ",
         "xaxis": "x",
         "y": [
          0.422,
          0.474,
          0.409,
          0.53,
          0.4970000000000001,
          0.494,
          0.5,
          0.491,
          0.448,
          0.425,
          0.464,
          0.481,
          0.569,
          0.442,
          0.51,
          0.5539999999999999,
          0.42,
          0.404,
          0.436,
          0.451,
          0.518,
          0.5579999999999999,
          0.486,
          0.409,
          0.341,
          0.438,
          0.462,
          0.496,
          0.464,
          0.496,
          0.512,
          0.447,
          0.443,
          0.34600000000000003,
          0.408,
          0.408,
          0.605,
          0.465,
          0.293,
          0.443,
          0.539,
          0.489,
          0.609,
          0.386,
          0.487,
          0.488,
          0.464,
          0.429,
          0.462,
          0.435,
          0.267,
          0.429,
          0.505,
          0.404,
          0.35600000000000004,
          0.3720000000000001,
          0.452,
          0.368,
          0.419,
          0.473,
          0.35100000000000003,
          0.421,
          0.491,
          0.6,
          0.35700000000000004,
          0.379,
          null,
          0.424,
          0.364,
          0.433,
          0.366,
          0.682,
          0.404,
          0.358,
          0.321
         ],
         "y0": " ",
         "yaxis": "y"
        }
       ],
       "layout": {
        "boxmode": "group",
        "legend": {
         "title": {
          "text": "League"
         },
         "tracegroupgap": 0
        },
        "margin": {
         "t": 60
        },
        "template": {
         "data": {
          "bar": [
           {
            "error_x": {
             "color": "#2a3f5f"
            },
            "error_y": {
             "color": "#2a3f5f"
            },
            "marker": {
             "line": {
              "color": "#E5ECF6",
              "width": 0.5
             }
            },
            "type": "bar"
           }
          ],
          "barpolar": [
           {
            "marker": {
             "line": {
              "color": "#E5ECF6",
              "width": 0.5
             }
            },
            "type": "barpolar"
           }
          ],
          "carpet": [
           {
            "aaxis": {
             "endlinecolor": "#2a3f5f",
             "gridcolor": "white",
             "linecolor": "white",
             "minorgridcolor": "white",
             "startlinecolor": "#2a3f5f"
            },
            "baxis": {
             "endlinecolor": "#2a3f5f",
             "gridcolor": "white",
             "linecolor": "white",
             "minorgridcolor": "white",
             "startlinecolor": "#2a3f5f"
            },
            "type": "carpet"
           }
          ],
          "choropleth": [
           {
            "colorbar": {
             "outlinewidth": 0,
             "ticks": ""
            },
            "type": "choropleth"
           }
          ],
          "contour": [
           {
            "colorbar": {
             "outlinewidth": 0,
             "ticks": ""
            },
            "colorscale": [
             [
              0,
              "#0d0887"
             ],
             [
              0.1111111111111111,
              "#46039f"
             ],
             [
              0.2222222222222222,
              "#7201a8"
             ],
             [
              0.3333333333333333,
              "#9c179e"
             ],
             [
              0.4444444444444444,
              "#bd3786"
             ],
             [
              0.5555555555555556,
              "#d8576b"
             ],
             [
              0.6666666666666666,
              "#ed7953"
             ],
             [
              0.7777777777777778,
              "#fb9f3a"
             ],
             [
              0.8888888888888888,
              "#fdca26"
             ],
             [
              1,
              "#f0f921"
             ]
            ],
            "type": "contour"
           }
          ],
          "contourcarpet": [
           {
            "colorbar": {
             "outlinewidth": 0,
             "ticks": ""
            },
            "type": "contourcarpet"
           }
          ],
          "heatmap": [
           {
            "colorbar": {
             "outlinewidth": 0,
             "ticks": ""
            },
            "colorscale": [
             [
              0,
              "#0d0887"
             ],
             [
              0.1111111111111111,
              "#46039f"
             ],
             [
              0.2222222222222222,
              "#7201a8"
             ],
             [
              0.3333333333333333,
              "#9c179e"
             ],
             [
              0.4444444444444444,
              "#bd3786"
             ],
             [
              0.5555555555555556,
              "#d8576b"
             ],
             [
              0.6666666666666666,
              "#ed7953"
             ],
             [
              0.7777777777777778,
              "#fb9f3a"
             ],
             [
              0.8888888888888888,
              "#fdca26"
             ],
             [
              1,
              "#f0f921"
             ]
            ],
            "type": "heatmap"
           }
          ],
          "heatmapgl": [
           {
            "colorbar": {
             "outlinewidth": 0,
             "ticks": ""
            },
            "colorscale": [
             [
              0,
              "#0d0887"
             ],
             [
              0.1111111111111111,
              "#46039f"
             ],
             [
              0.2222222222222222,
              "#7201a8"
             ],
             [
              0.3333333333333333,
              "#9c179e"
             ],
             [
              0.4444444444444444,
              "#bd3786"
             ],
             [
              0.5555555555555556,
              "#d8576b"
             ],
             [
              0.6666666666666666,
              "#ed7953"
             ],
             [
              0.7777777777777778,
              "#fb9f3a"
             ],
             [
              0.8888888888888888,
              "#fdca26"
             ],
             [
              1,
              "#f0f921"
             ]
            ],
            "type": "heatmapgl"
           }
          ],
          "histogram": [
           {
            "marker": {
             "colorbar": {
              "outlinewidth": 0,
              "ticks": ""
             }
            },
            "type": "histogram"
           }
          ],
          "histogram2d": [
           {
            "colorbar": {
             "outlinewidth": 0,
             "ticks": ""
            },
            "colorscale": [
             [
              0,
              "#0d0887"
             ],
             [
              0.1111111111111111,
              "#46039f"
             ],
             [
              0.2222222222222222,
              "#7201a8"
             ],
             [
              0.3333333333333333,
              "#9c179e"
             ],
             [
              0.4444444444444444,
              "#bd3786"
             ],
             [
              0.5555555555555556,
              "#d8576b"
             ],
             [
              0.6666666666666666,
              "#ed7953"
             ],
             [
              0.7777777777777778,
              "#fb9f3a"
             ],
             [
              0.8888888888888888,
              "#fdca26"
             ],
             [
              1,
              "#f0f921"
             ]
            ],
            "type": "histogram2d"
           }
          ],
          "histogram2dcontour": [
           {
            "colorbar": {
             "outlinewidth": 0,
             "ticks": ""
            },
            "colorscale": [
             [
              0,
              "#0d0887"
             ],
             [
              0.1111111111111111,
              "#46039f"
             ],
             [
              0.2222222222222222,
              "#7201a8"
             ],
             [
              0.3333333333333333,
              "#9c179e"
             ],
             [
              0.4444444444444444,
              "#bd3786"
             ],
             [
              0.5555555555555556,
              "#d8576b"
             ],
             [
              0.6666666666666666,
              "#ed7953"
             ],
             [
              0.7777777777777778,
              "#fb9f3a"
             ],
             [
              0.8888888888888888,
              "#fdca26"
             ],
             [
              1,
              "#f0f921"
             ]
            ],
            "type": "histogram2dcontour"
           }
          ],
          "mesh3d": [
           {
            "colorbar": {
             "outlinewidth": 0,
             "ticks": ""
            },
            "type": "mesh3d"
           }
          ],
          "parcoords": [
           {
            "line": {
             "colorbar": {
              "outlinewidth": 0,
              "ticks": ""
             }
            },
            "type": "parcoords"
           }
          ],
          "pie": [
           {
            "automargin": true,
            "type": "pie"
           }
          ],
          "scatter": [
           {
            "marker": {
             "colorbar": {
              "outlinewidth": 0,
              "ticks": ""
             }
            },
            "type": "scatter"
           }
          ],
          "scatter3d": [
           {
            "line": {
             "colorbar": {
              "outlinewidth": 0,
              "ticks": ""
             }
            },
            "marker": {
             "colorbar": {
              "outlinewidth": 0,
              "ticks": ""
             }
            },
            "type": "scatter3d"
           }
          ],
          "scattercarpet": [
           {
            "marker": {
             "colorbar": {
              "outlinewidth": 0,
              "ticks": ""
             }
            },
            "type": "scattercarpet"
           }
          ],
          "scattergeo": [
           {
            "marker": {
             "colorbar": {
              "outlinewidth": 0,
              "ticks": ""
             }
            },
            "type": "scattergeo"
           }
          ],
          "scattergl": [
           {
            "marker": {
             "colorbar": {
              "outlinewidth": 0,
              "ticks": ""
             }
            },
            "type": "scattergl"
           }
          ],
          "scattermapbox": [
           {
            "marker": {
             "colorbar": {
              "outlinewidth": 0,
              "ticks": ""
             }
            },
            "type": "scattermapbox"
           }
          ],
          "scatterpolar": [
           {
            "marker": {
             "colorbar": {
              "outlinewidth": 0,
              "ticks": ""
             }
            },
            "type": "scatterpolar"
           }
          ],
          "scatterpolargl": [
           {
            "marker": {
             "colorbar": {
              "outlinewidth": 0,
              "ticks": ""
             }
            },
            "type": "scatterpolargl"
           }
          ],
          "scatterternary": [
           {
            "marker": {
             "colorbar": {
              "outlinewidth": 0,
              "ticks": ""
             }
            },
            "type": "scatterternary"
           }
          ],
          "surface": [
           {
            "colorbar": {
             "outlinewidth": 0,
             "ticks": ""
            },
            "colorscale": [
             [
              0,
              "#0d0887"
             ],
             [
              0.1111111111111111,
              "#46039f"
             ],
             [
              0.2222222222222222,
              "#7201a8"
             ],
             [
              0.3333333333333333,
              "#9c179e"
             ],
             [
              0.4444444444444444,
              "#bd3786"
             ],
             [
              0.5555555555555556,
              "#d8576b"
             ],
             [
              0.6666666666666666,
              "#ed7953"
             ],
             [
              0.7777777777777778,
              "#fb9f3a"
             ],
             [
              0.8888888888888888,
              "#fdca26"
             ],
             [
              1,
              "#f0f921"
             ]
            ],
            "type": "surface"
           }
          ],
          "table": [
           {
            "cells": {
             "fill": {
              "color": "#EBF0F8"
             },
             "line": {
              "color": "white"
             }
            },
            "header": {
             "fill": {
              "color": "#C8D4E3"
             },
             "line": {
              "color": "white"
             }
            },
            "type": "table"
           }
          ]
         },
         "layout": {
          "annotationdefaults": {
           "arrowcolor": "#2a3f5f",
           "arrowhead": 0,
           "arrowwidth": 1
          },
          "autotypenumbers": "strict",
          "coloraxis": {
           "colorbar": {
            "outlinewidth": 0,
            "ticks": ""
           }
          },
          "colorscale": {
           "diverging": [
            [
             0,
             "#8e0152"
            ],
            [
             0.1,
             "#c51b7d"
            ],
            [
             0.2,
             "#de77ae"
            ],
            [
             0.3,
             "#f1b6da"
            ],
            [
             0.4,
             "#fde0ef"
            ],
            [
             0.5,
             "#f7f7f7"
            ],
            [
             0.6,
             "#e6f5d0"
            ],
            [
             0.7,
             "#b8e186"
            ],
            [
             0.8,
             "#7fbc41"
            ],
            [
             0.9,
             "#4d9221"
            ],
            [
             1,
             "#276419"
            ]
           ],
           "sequential": [
            [
             0,
             "#0d0887"
            ],
            [
             0.1111111111111111,
             "#46039f"
            ],
            [
             0.2222222222222222,
             "#7201a8"
            ],
            [
             0.3333333333333333,
             "#9c179e"
            ],
            [
             0.4444444444444444,
             "#bd3786"
            ],
            [
             0.5555555555555556,
             "#d8576b"
            ],
            [
             0.6666666666666666,
             "#ed7953"
            ],
            [
             0.7777777777777778,
             "#fb9f3a"
            ],
            [
             0.8888888888888888,
             "#fdca26"
            ],
            [
             1,
             "#f0f921"
            ]
           ],
           "sequentialminus": [
            [
             0,
             "#0d0887"
            ],
            [
             0.1111111111111111,
             "#46039f"
            ],
            [
             0.2222222222222222,
             "#7201a8"
            ],
            [
             0.3333333333333333,
             "#9c179e"
            ],
            [
             0.4444444444444444,
             "#bd3786"
            ],
            [
             0.5555555555555556,
             "#d8576b"
            ],
            [
             0.6666666666666666,
             "#ed7953"
            ],
            [
             0.7777777777777778,
             "#fb9f3a"
            ],
            [
             0.8888888888888888,
             "#fdca26"
            ],
            [
             1,
             "#f0f921"
            ]
           ]
          },
          "colorway": [
           "#636efa",
           "#EF553B",
           "#00cc96",
           "#ab63fa",
           "#FFA15A",
           "#19d3f3",
           "#FF6692",
           "#B6E880",
           "#FF97FF",
           "#FECB52"
          ],
          "font": {
           "color": "#2a3f5f"
          },
          "geo": {
           "bgcolor": "white",
           "lakecolor": "white",
           "landcolor": "#E5ECF6",
           "showlakes": true,
           "showland": true,
           "subunitcolor": "white"
          },
          "hoverlabel": {
           "align": "left"
          },
          "hovermode": "closest",
          "mapbox": {
           "style": "light"
          },
          "paper_bgcolor": "white",
          "plot_bgcolor": "#E5ECF6",
          "polar": {
           "angularaxis": {
            "gridcolor": "white",
            "linecolor": "white",
            "ticks": ""
           },
           "bgcolor": "#E5ECF6",
           "radialaxis": {
            "gridcolor": "white",
            "linecolor": "white",
            "ticks": ""
           }
          },
          "scene": {
           "xaxis": {
            "backgroundcolor": "#E5ECF6",
            "gridcolor": "white",
            "gridwidth": 2,
            "linecolor": "white",
            "showbackground": true,
            "ticks": "",
            "zerolinecolor": "white"
           },
           "yaxis": {
            "backgroundcolor": "#E5ECF6",
            "gridcolor": "white",
            "gridwidth": 2,
            "linecolor": "white",
            "showbackground": true,
            "ticks": "",
            "zerolinecolor": "white"
           },
           "zaxis": {
            "backgroundcolor": "#E5ECF6",
            "gridcolor": "white",
            "gridwidth": 2,
            "linecolor": "white",
            "showbackground": true,
            "ticks": "",
            "zerolinecolor": "white"
           }
          },
          "shapedefaults": {
           "line": {
            "color": "#2a3f5f"
           }
          },
          "ternary": {
           "aaxis": {
            "gridcolor": "white",
            "linecolor": "white",
            "ticks": ""
           },
           "baxis": {
            "gridcolor": "white",
            "linecolor": "white",
            "ticks": ""
           },
           "bgcolor": "#E5ECF6",
           "caxis": {
            "gridcolor": "white",
            "linecolor": "white",
            "ticks": ""
           }
          },
          "title": {
           "x": 0.05
          },
          "xaxis": {
           "automargin": true,
           "gridcolor": "white",
           "linecolor": "white",
           "ticks": "",
           "title": {
            "standoff": 15
           },
           "zerolinecolor": "white",
           "zerolinewidth": 2
          },
          "yaxis": {
           "automargin": true,
           "gridcolor": "white",
           "linecolor": "white",
           "ticks": "",
           "title": {
            "standoff": 15
           },
           "zerolinecolor": "white",
           "zerolinewidth": 2
          }
         }
        },
        "xaxis": {
         "anchor": "y",
         "domain": [
          0,
          1
         ],
         "title": {
          "text": "Position"
         }
        },
        "yaxis": {
         "anchor": "x",
         "domain": [
          0,
          1
         ],
         "title": {
          "text": "FG%"
         }
        }
       }
      }
     },
     "metadata": {}
    }
   ],
   "source": [
    "fig = px.box(df, x= \"Position\", y=\"FG%\", color=\"League\", hover_data=['Avg_Salary', 'salary_ratio'], points=\"all\")\n",
    "\n",
    "fig.show()"
   ]
  },
  {
   "cell_type": "code",
   "execution_count": 6,
   "metadata": {},
   "outputs": [
    {
     "output_type": "display_data",
     "data": {
      "application/vnd.plotly.v1+json": {
       "config": {
        "plotlyServerURL": "https://plot.ly"
       },
       "data": [
        {
         "dimensions": [
          {
           "axis": {
            "matches": true
           },
           "label": "salary_ratio",
           "values": [
            0.0057799999999999995,
            0.0057799999999999995,
            0.0055899999999999995,
            0.00555,
            0.0054399999999999995,
            0.0054,
            0.00518,
            0.00513,
            0.00486,
            0.0048,
            0.00479,
            0.00476,
            0.00476,
            0.00465,
            0.00463,
            0.00463,
            0.00461,
            0.00428,
            0.00428,
            0.00428,
            0.00428,
            0.00412,
            0.00412,
            0.004070000000000001,
            0.00405,
            0.00399,
            0.00399,
            0.00396,
            0.0037799999999999995,
            0.0037600000000000003,
            0.0036799999999999997,
            0.00359,
            0.00345,
            0.00344,
            0.0034100000000000003,
            0.0033799999999999998,
            0.0033799999999999998,
            0.00337,
            0.00318,
            0.0028699999999999997,
            0.0028699999999999997,
            0.0028699999999999997,
            0.0028699999999999997,
            0.0028399999999999996,
            0.0028,
            0.00277,
            0.0027,
            0.0027,
            0.0027,
            0.00264,
            0.00255,
            0.00255,
            0.00253,
            0.00253,
            0.00243,
            0.0024,
            0.00236,
            0.00236,
            0.00236,
            0.0023,
            0.0023,
            0.00216,
            0.00216,
            0.00203,
            0.00203,
            0.00203,
            0.00203,
            0.00197,
            0.00195,
            0.0018899999999999998,
            0.00185,
            0.00182,
            0.0018,
            0.00179,
            0.00179,
            0.00176,
            0.00176,
            0.00176,
            0.00176,
            0.00176,
            0.0017399999999999998,
            0.00172,
            0.0017100000000000001,
            0.0016899999999999999,
            0.0016899999999999999,
            0.00168
           ]
          },
          {
           "axis": {
            "matches": true
           },
           "label": "FG%",
           "values": [
            0.40299999999999997,
            0.46299999999999997,
            0.436,
            0.5429999999999999,
            0.486,
            0.48700000000000004,
            0.513,
            0.5329999999999999,
            0.521,
            0.479,
            0.545,
            0.494,
            0.401,
            0.516,
            0.483,
            0.45399999999999996,
            0.513,
            0.47700000000000004,
            0.46799999999999997,
            0.48200000000000004,
            0.49,
            0.447,
            0.435,
            0.40299999999999997,
            0.473,
            0.515,
            0.47200000000000003,
            0.441,
            0.439,
            0.49200000000000005,
            0.45,
            0.496,
            0.6729999999999999,
            0.48200000000000004,
            0.506,
            0.564,
            0.62,
            0.418,
            0.40399999999999997,
            0.494,
            0.391,
            0.455,
            0.408,
            0.423,
            0.46,
            0.425,
            0.43,
            0.47700000000000004,
            0.46,
            0.506,
            0.46799999999999997,
            0.433,
            0.515,
            0.52,
            0.604,
            0.44,
            0.40700000000000003,
            0.434,
            0.431,
            0.457,
            0.38,
            0.414,
            0.451,
            0.385,
            0.423,
            0.44,
            0.439,
            0.574,
            0.442,
            0.54,
            0.529,
            0.41200000000000003,
            0.43200000000000005,
            0.405,
            0.426,
            0.429,
            0.348,
            0.483,
            0.525,
            0.41100000000000003,
            0.424,
            0.502,
            0.401,
            0.385,
            0.48100000000000004,
            0.46299999999999997
           ]
          },
          {
           "axis": {
            "matches": true
           },
           "label": "3P%",
           "values": [
            0.322,
            0.358,
            0.31,
            0.462,
            0.425,
            0.375,
            0.368,
            0.293,
            0.40700000000000003,
            0.426,
            0.3,
            0.22899999999999998,
            0.345,
            0.39299999999999996,
            0.43200000000000005,
            0.285,
            0.391,
            0.408,
            0.382,
            0.344,
            0.4,
            0.41200000000000003,
            0.389,
            0.326,
            0.415,
            0.387,
            0.379,
            0.41200000000000003,
            0.375,
            0.26899999999999996,
            0.368,
            0.40399999999999997,
            0,
            0.34299999999999997,
            0.40399999999999997,
            0.297,
            0,
            0.255,
            0.385,
            0.379,
            0.369,
            0.39299999999999996,
            0.326,
            0.341,
            0.41,
            0.40700000000000003,
            0.35700000000000004,
            0.335,
            0.354,
            0.41600000000000004,
            0.405,
            0.32899999999999996,
            0.48200000000000004,
            0.302,
            null,
            0.385,
            0.34600000000000003,
            0.34299999999999997,
            0.305,
            0.39799999999999996,
            0.305,
            0.373,
            0.33299999999999996,
            0.32899999999999996,
            0.418,
            0.39899999999999997,
            0.318,
            0.265,
            0.26,
            0.12,
            0.38,
            0.337,
            0.41600000000000004,
            0.376,
            0.381,
            0.42,
            0.122,
            0.348,
            0.494,
            0.355,
            0.35,
            0.354,
            0.4,
            0.365,
            0.33899999999999997,
            0.336
           ]
          },
          {
           "axis": {
            "matches": true
           },
           "label": "GS",
           "values": [
            39,
            42,
            51,
            22,
            51,
            57,
            41,
            23,
            49,
            55,
            48,
            42,
            37,
            46,
            45,
            47,
            43,
            48,
            53,
            54,
            38,
            47,
            41,
            15,
            44,
            40,
            59,
            19,
            53,
            49,
            28,
            53,
            58,
            49,
            42,
            48,
            54,
            51,
            58,
            56,
            46,
            52,
            33,
            24,
            59,
            4,
            51,
            47,
            38,
            53,
            54,
            13,
            55,
            53,
            52,
            20,
            56,
            54,
            26,
            26,
            41,
            0,
            55,
            4,
            57,
            36,
            50,
            17,
            6,
            20,
            36,
            2,
            31,
            0,
            51,
            54,
            0,
            56,
            17,
            35,
            1,
            37,
            10,
            15,
            50,
            8
           ]
          }
         ],
         "hovertemplate": "League=NBA<br>%{xaxis.title.text}=%{x}<br>%{yaxis.title.text}=%{y}<extra></extra>",
         "legendgroup": "NBA",
         "marker": {
          "color": "#636efa",
          "symbol": "circle"
         },
         "name": "NBA",
         "showlegend": true,
         "type": "splom"
        },
        {
         "dimensions": [
          {
           "axis": {
            "matches": true
           },
           "label": "salary_ratio",
           "values": [
            0.00375,
            0.00375,
            0.00375,
            0.00374,
            0.0036899999999999997,
            0.0036899999999999997,
            0.0034799999999999996,
            0.0033799999999999998,
            0.00328,
            0.0032700000000000003,
            0.0032700000000000003,
            0.0032700000000000003,
            0.00322,
            0.00322,
            0.00321,
            0.00318,
            0.00318,
            0.00314,
            0.00313,
            0.00313,
            0.00313,
            0.00305,
            0.00296,
            0.00292,
            0.00288,
            0.00288,
            0.00283,
            0.00275,
            0.00275,
            0.00266,
            0.0025800000000000003,
            0.00257,
            0.00251,
            0.0024,
            0.00237,
            0.00209,
            0.002,
            0.002,
            0.00199,
            0.00199,
            0.00195,
            0.00193,
            0.00193,
            0.0019199999999999998,
            0.00186,
            0.00183,
            0.00175,
            0.0017,
            0.0016899999999999999,
            0.0015199999999999999,
            0.0015,
            0.0014199999999999998,
            0.00128,
            0.00125,
            0.00122,
            0.00119,
            0.00119,
            0.00119,
            0.00119,
            0.00119,
            0.00117,
            0.00117,
            0.00117,
            0.00117,
            0.00117,
            0.00117,
            0.00117,
            0.00117,
            0.00114,
            0.00114,
            0.00114,
            0.00114,
            0.00109,
            0.00109,
            0.00109
           ]
          },
          {
           "axis": {
            "matches": true
           },
           "label": "FG%",
           "values": [
            0.422,
            0.474,
            0.409,
            0.53,
            0.4970000000000001,
            0.494,
            0.5,
            0.491,
            0.448,
            0.425,
            0.464,
            0.481,
            0.569,
            0.442,
            0.51,
            0.5539999999999999,
            0.42,
            0.404,
            0.436,
            0.451,
            0.518,
            0.5579999999999999,
            0.486,
            0.409,
            0.341,
            0.438,
            0.462,
            0.496,
            0.464,
            0.496,
            0.512,
            0.447,
            0.443,
            0.34600000000000003,
            0.408,
            0.408,
            0.605,
            0.465,
            0.293,
            0.443,
            0.539,
            0.489,
            0.609,
            0.386,
            0.487,
            0.488,
            0.464,
            0.429,
            0.462,
            0.435,
            0.267,
            0.429,
            0.505,
            0.404,
            0.35600000000000004,
            0.3720000000000001,
            0.452,
            0.368,
            0.419,
            0.473,
            0.35100000000000003,
            0.421,
            0.491,
            0.6,
            0.35700000000000004,
            0.379,
            null,
            0.424,
            0.364,
            0.433,
            0.366,
            0.682,
            0.404,
            0.358,
            0.321
           ]
          },
          {
           "axis": {
            "matches": true
           },
           "label": "3P%",
           "values": [
            0.252,
            0.397,
            0.365,
            0.35,
            0,
            0.469,
            0,
            0.395,
            0.34600000000000003,
            0.342,
            0.34600000000000003,
            0.405,
            0.5,
            0.305,
            0.396,
            0.469,
            0.385,
            0.333,
            0.235,
            0.368,
            0.471,
            0.522,
            0.375,
            0.333,
            0.333,
            0.411,
            0.16699999999999998,
            0.344,
            0.35200000000000004,
            0,
            0.385,
            0,
            0.381,
            0.233,
            0.298,
            0.305,
            1,
            0.341,
            0.355,
            0.39,
            0.474,
            null,
            null,
            0.333,
            0.327,
            0,
            0.433,
            0.34700000000000003,
            0.472,
            0.422,
            0.462,
            0.431,
            0.472,
            0.333,
            0.25,
            0.235,
            0.35,
            0.197,
            0.5,
            0.375,
            0.24,
            0.333,
            0.545,
            0.667,
            0.333,
            0.294,
            null,
            0.353,
            0.077,
            0.339,
            0.424,
            null,
            0.333,
            0.405,
            0.14
           ]
          },
          {
           "axis": {
            "matches": true
           },
           "label": "GS",
           "values": [
            22,
            22,
            19,
            22,
            12,
            11,
            21,
            22,
            22,
            22,
            6,
            22,
            18,
            22,
            22,
            13,
            3,
            19,
            14,
            20,
            22,
            22,
            8,
            6,
            15,
            22,
            22,
            22,
            14,
            11,
            1,
            11,
            0,
            11,
            5,
            22,
            21,
            19,
            10,
            22,
            0,
            22,
            7,
            0,
            14,
            10,
            22,
            14,
            1,
            4,
            10,
            10,
            15,
            7,
            0,
            22,
            3,
            14,
            1,
            16,
            7,
            1,
            0,
            0,
            4,
            0,
            0,
            21,
            3,
            3,
            0,
            6,
            2,
            5,
            0
           ]
          }
         ],
         "hovertemplate": "League=WNBA<br>%{xaxis.title.text}=%{x}<br>%{yaxis.title.text}=%{y}<extra></extra>",
         "legendgroup": "WNBA",
         "marker": {
          "color": "#EF553B",
          "symbol": "circle"
         },
         "name": "WNBA",
         "showlegend": true,
         "type": "splom"
        }
       ],
       "layout": {
        "dragmode": "select",
        "legend": {
         "title": {
          "text": "League"
         },
         "tracegroupgap": 0
        },
        "margin": {
         "t": 60
        },
        "template": {
         "data": {
          "bar": [
           {
            "error_x": {
             "color": "#2a3f5f"
            },
            "error_y": {
             "color": "#2a3f5f"
            },
            "marker": {
             "line": {
              "color": "#E5ECF6",
              "width": 0.5
             }
            },
            "type": "bar"
           }
          ],
          "barpolar": [
           {
            "marker": {
             "line": {
              "color": "#E5ECF6",
              "width": 0.5
             }
            },
            "type": "barpolar"
           }
          ],
          "carpet": [
           {
            "aaxis": {
             "endlinecolor": "#2a3f5f",
             "gridcolor": "white",
             "linecolor": "white",
             "minorgridcolor": "white",
             "startlinecolor": "#2a3f5f"
            },
            "baxis": {
             "endlinecolor": "#2a3f5f",
             "gridcolor": "white",
             "linecolor": "white",
             "minorgridcolor": "white",
             "startlinecolor": "#2a3f5f"
            },
            "type": "carpet"
           }
          ],
          "choropleth": [
           {
            "colorbar": {
             "outlinewidth": 0,
             "ticks": ""
            },
            "type": "choropleth"
           }
          ],
          "contour": [
           {
            "colorbar": {
             "outlinewidth": 0,
             "ticks": ""
            },
            "colorscale": [
             [
              0,
              "#0d0887"
             ],
             [
              0.1111111111111111,
              "#46039f"
             ],
             [
              0.2222222222222222,
              "#7201a8"
             ],
             [
              0.3333333333333333,
              "#9c179e"
             ],
             [
              0.4444444444444444,
              "#bd3786"
             ],
             [
              0.5555555555555556,
              "#d8576b"
             ],
             [
              0.6666666666666666,
              "#ed7953"
             ],
             [
              0.7777777777777778,
              "#fb9f3a"
             ],
             [
              0.8888888888888888,
              "#fdca26"
             ],
             [
              1,
              "#f0f921"
             ]
            ],
            "type": "contour"
           }
          ],
          "contourcarpet": [
           {
            "colorbar": {
             "outlinewidth": 0,
             "ticks": ""
            },
            "type": "contourcarpet"
           }
          ],
          "heatmap": [
           {
            "colorbar": {
             "outlinewidth": 0,
             "ticks": ""
            },
            "colorscale": [
             [
              0,
              "#0d0887"
             ],
             [
              0.1111111111111111,
              "#46039f"
             ],
             [
              0.2222222222222222,
              "#7201a8"
             ],
             [
              0.3333333333333333,
              "#9c179e"
             ],
             [
              0.4444444444444444,
              "#bd3786"
             ],
             [
              0.5555555555555556,
              "#d8576b"
             ],
             [
              0.6666666666666666,
              "#ed7953"
             ],
             [
              0.7777777777777778,
              "#fb9f3a"
             ],
             [
              0.8888888888888888,
              "#fdca26"
             ],
             [
              1,
              "#f0f921"
             ]
            ],
            "type": "heatmap"
           }
          ],
          "heatmapgl": [
           {
            "colorbar": {
             "outlinewidth": 0,
             "ticks": ""
            },
            "colorscale": [
             [
              0,
              "#0d0887"
             ],
             [
              0.1111111111111111,
              "#46039f"
             ],
             [
              0.2222222222222222,
              "#7201a8"
             ],
             [
              0.3333333333333333,
              "#9c179e"
             ],
             [
              0.4444444444444444,
              "#bd3786"
             ],
             [
              0.5555555555555556,
              "#d8576b"
             ],
             [
              0.6666666666666666,
              "#ed7953"
             ],
             [
              0.7777777777777778,
              "#fb9f3a"
             ],
             [
              0.8888888888888888,
              "#fdca26"
             ],
             [
              1,
              "#f0f921"
             ]
            ],
            "type": "heatmapgl"
           }
          ],
          "histogram": [
           {
            "marker": {
             "colorbar": {
              "outlinewidth": 0,
              "ticks": ""
             }
            },
            "type": "histogram"
           }
          ],
          "histogram2d": [
           {
            "colorbar": {
             "outlinewidth": 0,
             "ticks": ""
            },
            "colorscale": [
             [
              0,
              "#0d0887"
             ],
             [
              0.1111111111111111,
              "#46039f"
             ],
             [
              0.2222222222222222,
              "#7201a8"
             ],
             [
              0.3333333333333333,
              "#9c179e"
             ],
             [
              0.4444444444444444,
              "#bd3786"
             ],
             [
              0.5555555555555556,
              "#d8576b"
             ],
             [
              0.6666666666666666,
              "#ed7953"
             ],
             [
              0.7777777777777778,
              "#fb9f3a"
             ],
             [
              0.8888888888888888,
              "#fdca26"
             ],
             [
              1,
              "#f0f921"
             ]
            ],
            "type": "histogram2d"
           }
          ],
          "histogram2dcontour": [
           {
            "colorbar": {
             "outlinewidth": 0,
             "ticks": ""
            },
            "colorscale": [
             [
              0,
              "#0d0887"
             ],
             [
              0.1111111111111111,
              "#46039f"
             ],
             [
              0.2222222222222222,
              "#7201a8"
             ],
             [
              0.3333333333333333,
              "#9c179e"
             ],
             [
              0.4444444444444444,
              "#bd3786"
             ],
             [
              0.5555555555555556,
              "#d8576b"
             ],
             [
              0.6666666666666666,
              "#ed7953"
             ],
             [
              0.7777777777777778,
              "#fb9f3a"
             ],
             [
              0.8888888888888888,
              "#fdca26"
             ],
             [
              1,
              "#f0f921"
             ]
            ],
            "type": "histogram2dcontour"
           }
          ],
          "mesh3d": [
           {
            "colorbar": {
             "outlinewidth": 0,
             "ticks": ""
            },
            "type": "mesh3d"
           }
          ],
          "parcoords": [
           {
            "line": {
             "colorbar": {
              "outlinewidth": 0,
              "ticks": ""
             }
            },
            "type": "parcoords"
           }
          ],
          "pie": [
           {
            "automargin": true,
            "type": "pie"
           }
          ],
          "scatter": [
           {
            "marker": {
             "colorbar": {
              "outlinewidth": 0,
              "ticks": ""
             }
            },
            "type": "scatter"
           }
          ],
          "scatter3d": [
           {
            "line": {
             "colorbar": {
              "outlinewidth": 0,
              "ticks": ""
             }
            },
            "marker": {
             "colorbar": {
              "outlinewidth": 0,
              "ticks": ""
             }
            },
            "type": "scatter3d"
           }
          ],
          "scattercarpet": [
           {
            "marker": {
             "colorbar": {
              "outlinewidth": 0,
              "ticks": ""
             }
            },
            "type": "scattercarpet"
           }
          ],
          "scattergeo": [
           {
            "marker": {
             "colorbar": {
              "outlinewidth": 0,
              "ticks": ""
             }
            },
            "type": "scattergeo"
           }
          ],
          "scattergl": [
           {
            "marker": {
             "colorbar": {
              "outlinewidth": 0,
              "ticks": ""
             }
            },
            "type": "scattergl"
           }
          ],
          "scattermapbox": [
           {
            "marker": {
             "colorbar": {
              "outlinewidth": 0,
              "ticks": ""
             }
            },
            "type": "scattermapbox"
           }
          ],
          "scatterpolar": [
           {
            "marker": {
             "colorbar": {
              "outlinewidth": 0,
              "ticks": ""
             }
            },
            "type": "scatterpolar"
           }
          ],
          "scatterpolargl": [
           {
            "marker": {
             "colorbar": {
              "outlinewidth": 0,
              "ticks": ""
             }
            },
            "type": "scatterpolargl"
           }
          ],
          "scatterternary": [
           {
            "marker": {
             "colorbar": {
              "outlinewidth": 0,
              "ticks": ""
             }
            },
            "type": "scatterternary"
           }
          ],
          "surface": [
           {
            "colorbar": {
             "outlinewidth": 0,
             "ticks": ""
            },
            "colorscale": [
             [
              0,
              "#0d0887"
             ],
             [
              0.1111111111111111,
              "#46039f"
             ],
             [
              0.2222222222222222,
              "#7201a8"
             ],
             [
              0.3333333333333333,
              "#9c179e"
             ],
             [
              0.4444444444444444,
              "#bd3786"
             ],
             [
              0.5555555555555556,
              "#d8576b"
             ],
             [
              0.6666666666666666,
              "#ed7953"
             ],
             [
              0.7777777777777778,
              "#fb9f3a"
             ],
             [
              0.8888888888888888,
              "#fdca26"
             ],
             [
              1,
              "#f0f921"
             ]
            ],
            "type": "surface"
           }
          ],
          "table": [
           {
            "cells": {
             "fill": {
              "color": "#EBF0F8"
             },
             "line": {
              "color": "white"
             }
            },
            "header": {
             "fill": {
              "color": "#C8D4E3"
             },
             "line": {
              "color": "white"
             }
            },
            "type": "table"
           }
          ]
         },
         "layout": {
          "annotationdefaults": {
           "arrowcolor": "#2a3f5f",
           "arrowhead": 0,
           "arrowwidth": 1
          },
          "autotypenumbers": "strict",
          "coloraxis": {
           "colorbar": {
            "outlinewidth": 0,
            "ticks": ""
           }
          },
          "colorscale": {
           "diverging": [
            [
             0,
             "#8e0152"
            ],
            [
             0.1,
             "#c51b7d"
            ],
            [
             0.2,
             "#de77ae"
            ],
            [
             0.3,
             "#f1b6da"
            ],
            [
             0.4,
             "#fde0ef"
            ],
            [
             0.5,
             "#f7f7f7"
            ],
            [
             0.6,
             "#e6f5d0"
            ],
            [
             0.7,
             "#b8e186"
            ],
            [
             0.8,
             "#7fbc41"
            ],
            [
             0.9,
             "#4d9221"
            ],
            [
             1,
             "#276419"
            ]
           ],
           "sequential": [
            [
             0,
             "#0d0887"
            ],
            [
             0.1111111111111111,
             "#46039f"
            ],
            [
             0.2222222222222222,
             "#7201a8"
            ],
            [
             0.3333333333333333,
             "#9c179e"
            ],
            [
             0.4444444444444444,
             "#bd3786"
            ],
            [
             0.5555555555555556,
             "#d8576b"
            ],
            [
             0.6666666666666666,
             "#ed7953"
            ],
            [
             0.7777777777777778,
             "#fb9f3a"
            ],
            [
             0.8888888888888888,
             "#fdca26"
            ],
            [
             1,
             "#f0f921"
            ]
           ],
           "sequentialminus": [
            [
             0,
             "#0d0887"
            ],
            [
             0.1111111111111111,
             "#46039f"
            ],
            [
             0.2222222222222222,
             "#7201a8"
            ],
            [
             0.3333333333333333,
             "#9c179e"
            ],
            [
             0.4444444444444444,
             "#bd3786"
            ],
            [
             0.5555555555555556,
             "#d8576b"
            ],
            [
             0.6666666666666666,
             "#ed7953"
            ],
            [
             0.7777777777777778,
             "#fb9f3a"
            ],
            [
             0.8888888888888888,
             "#fdca26"
            ],
            [
             1,
             "#f0f921"
            ]
           ]
          },
          "colorway": [
           "#636efa",
           "#EF553B",
           "#00cc96",
           "#ab63fa",
           "#FFA15A",
           "#19d3f3",
           "#FF6692",
           "#B6E880",
           "#FF97FF",
           "#FECB52"
          ],
          "font": {
           "color": "#2a3f5f"
          },
          "geo": {
           "bgcolor": "white",
           "lakecolor": "white",
           "landcolor": "#E5ECF6",
           "showlakes": true,
           "showland": true,
           "subunitcolor": "white"
          },
          "hoverlabel": {
           "align": "left"
          },
          "hovermode": "closest",
          "mapbox": {
           "style": "light"
          },
          "paper_bgcolor": "white",
          "plot_bgcolor": "#E5ECF6",
          "polar": {
           "angularaxis": {
            "gridcolor": "white",
            "linecolor": "white",
            "ticks": ""
           },
           "bgcolor": "#E5ECF6",
           "radialaxis": {
            "gridcolor": "white",
            "linecolor": "white",
            "ticks": ""
           }
          },
          "scene": {
           "xaxis": {
            "backgroundcolor": "#E5ECF6",
            "gridcolor": "white",
            "gridwidth": 2,
            "linecolor": "white",
            "showbackground": true,
            "ticks": "",
            "zerolinecolor": "white"
           },
           "yaxis": {
            "backgroundcolor": "#E5ECF6",
            "gridcolor": "white",
            "gridwidth": 2,
            "linecolor": "white",
            "showbackground": true,
            "ticks": "",
            "zerolinecolor": "white"
           },
           "zaxis": {
            "backgroundcolor": "#E5ECF6",
            "gridcolor": "white",
            "gridwidth": 2,
            "linecolor": "white",
            "showbackground": true,
            "ticks": "",
            "zerolinecolor": "white"
           }
          },
          "shapedefaults": {
           "line": {
            "color": "#2a3f5f"
           }
          },
          "ternary": {
           "aaxis": {
            "gridcolor": "white",
            "linecolor": "white",
            "ticks": ""
           },
           "baxis": {
            "gridcolor": "white",
            "linecolor": "white",
            "ticks": ""
           },
           "bgcolor": "#E5ECF6",
           "caxis": {
            "gridcolor": "white",
            "linecolor": "white",
            "ticks": ""
           }
          },
          "title": {
           "x": 0.05
          },
          "xaxis": {
           "automargin": true,
           "gridcolor": "white",
           "linecolor": "white",
           "ticks": "",
           "title": {
            "standoff": 15
           },
           "zerolinecolor": "white",
           "zerolinewidth": 2
          },
          "yaxis": {
           "automargin": true,
           "gridcolor": "white",
           "linecolor": "white",
           "ticks": "",
           "title": {
            "standoff": 15
           },
           "zerolinecolor": "white",
           "zerolinewidth": 2
          }
         }
        }
       }
      }
     },
     "metadata": {}
    }
   ],
   "source": [
    "import plotly.express as px\n",
    "fig = px.scatter_matrix(df, dimensions=[\"salary_ratio\", \"FG%\", \"3P%\", \"GS\"], color=\"League\")\n",
    "fig.show()\n"
   ]
  },
  {
   "source": [
    "Correlation Matrix"
   ],
   "cell_type": "markdown",
   "metadata": {}
  },
  {
   "cell_type": "code",
   "execution_count": 45,
   "metadata": {},
   "outputs": [
    {
     "output_type": "stream",
     "name": "stdout",
     "text": [
      "                     G        GS        MP        FG       FGA       FG%  \\\nG             1.000000  0.794922 -0.615540  0.494317  0.489296  0.182514   \nGS            0.794922  1.000000 -0.442141  0.642831  0.624011  0.276019   \nMP           -0.615540 -0.442141  1.000000 -0.260546 -0.263152 -0.029005   \nFG            0.494317  0.642831 -0.260546  1.000000  0.970489  0.400104   \nFGA           0.489296  0.624011 -0.263152  0.970489  1.000000  0.196191   \nFG%           0.182514  0.276019 -0.029005  0.400104  0.196191  1.000000   \n3P            0.443419  0.437676 -0.337024  0.545452  0.629934 -0.096873   \n3PA           0.443087  0.435063 -0.340760  0.552335  0.665443 -0.194837   \n3P%           0.027674  0.037492 -0.011742  0.094008  0.071529  0.143393   \n2P            0.366049  0.542537 -0.144251  0.911374  0.835266  0.516636   \n2PA           0.340727  0.523810 -0.112258  0.898518  0.859878  0.390396   \n2P%           0.268992  0.299223 -0.101092  0.396860  0.241208  0.789461   \nFT            0.289362  0.458507 -0.138844  0.785174  0.775794  0.229455   \nFTA           0.316568  0.490638 -0.165747  0.793108  0.765808  0.292482   \nFT%           0.008962  0.043806  0.100790  0.220636  0.290995 -0.155785   \nORB           0.126942  0.245950  0.006658  0.226964  0.102113  0.540819   \nDRB           0.390617  0.517009 -0.184692  0.634558  0.555832  0.461118   \nTRB           0.344628  0.478508 -0.142050  0.564716  0.465120  0.525073   \nAST           0.408545  0.529393 -0.195701  0.598091  0.627331  0.084239   \nSTL           0.233565  0.346574  0.159050  0.441592  0.437299  0.198979   \nBLK           0.192223  0.274248 -0.165453  0.232914  0.145296  0.357439   \nTOV           0.261363  0.443822 -0.033685  0.741816  0.748560  0.200981   \nPF            0.192739  0.297109  0.078065  0.318179  0.287764  0.221979   \nPTS           0.486700  0.632987 -0.268951  0.983022  0.972394  0.325862   \nAge          -0.018722 -0.076135  0.083637 -0.061426 -0.063362  0.006432   \nsalary_float  0.717886  0.708394 -0.722892  0.669110  0.664680  0.189826   \nsalary_ratio  0.331026  0.530227 -0.178070  0.698516  0.679722  0.276908   \nSalary_Rank  -0.732942 -0.751206  0.622850 -0.736459 -0.732813 -0.241751   \n\n                    3P       3PA       3P%        2P  ...       AST       STL  \\\nG             0.443419  0.443087  0.027674  0.366049  ...  0.408545  0.233565   \nGS            0.437676  0.435063  0.037492  0.542537  ...  0.529393  0.346574   \nMP           -0.337024 -0.340760 -0.011742 -0.144251  ... -0.195701  0.159050   \nFG            0.545452  0.552335  0.094008  0.911374  ...  0.598091  0.441592   \nFGA           0.629934  0.665443  0.071529  0.835266  ...  0.627331  0.437299   \nFG%          -0.096873 -0.194837  0.143393  0.516636  ...  0.084239  0.198979   \n3P            1.000000  0.974353  0.384635  0.152741  ...  0.392344  0.169399   \n3PA           0.974353  1.000000  0.276124  0.172812  ...  0.408972  0.175681   \n3P%           0.384635  0.276124  1.000000 -0.076126  ...  0.025816  0.138401   \n2P            0.152741  0.172812 -0.076126  1.000000  ...  0.513097  0.433738   \n2PA           0.161970  0.191280 -0.093081  0.980326  ...  0.545844  0.454065   \n2P%           0.064575  0.051386 -0.016203  0.432734  ...  0.106902  0.146642   \nFT            0.346803  0.383285 -0.000556  0.755064  ...  0.552800  0.404606   \nFTA           0.279904  0.316412 -0.041483  0.797663  ...  0.550502  0.411353   \nFT%           0.413031  0.411596  0.232053  0.050579  ...  0.219144  0.157971   \nORB          -0.368217 -0.362767 -0.259485  0.448126  ... -0.089355  0.156897   \nDRB           0.078197  0.101881 -0.188246  0.710032  ...  0.376138  0.302419   \nTRB          -0.049459 -0.029476 -0.224706  0.690210  ...  0.266726  0.283929   \nAST           0.392344  0.408972  0.025816  0.513097  ...  1.000000  0.508848   \nSTL           0.169399  0.175681  0.138401  0.433738  ...  0.508848  1.000000   \nBLK          -0.113268 -0.100756 -0.178500  0.330045  ... -0.088330 -0.005641   \nTOV           0.345583  0.372964 -0.015232  0.705821  ...  0.750771  0.468510   \nPF           -0.007271  0.012887 -0.075773  0.378992  ...  0.224102  0.378477   \nPTS           0.619509  0.629805  0.122092  0.855009  ...  0.618483  0.437015   \nAge           0.102460  0.081656  0.043828 -0.125047  ...  0.200640  0.024650   \nsalary_float  0.499698  0.510362  0.032263  0.544418  ...  0.597625  0.234391   \nsalary_ratio  0.379184  0.379156 -0.002291  0.636310  ...  0.672192  0.422049   \nSalary_Rank  -0.536583 -0.548755 -0.015194 -0.604834  ... -0.628249 -0.341282   \n\n                   BLK       TOV        PF       PTS       Age  salary_float  \\\nG             0.192223  0.261363  0.192739  0.486700 -0.018722      0.717886   \nGS            0.274248  0.443822  0.297109  0.632987 -0.076135      0.708394   \nMP           -0.165453 -0.033685  0.078065 -0.268951  0.083637     -0.722892   \nFG            0.232914  0.741816  0.318179  0.983022 -0.061426      0.669110   \nFGA           0.145296  0.748560  0.287764  0.972394 -0.063362      0.664680   \nFG%           0.357439  0.200981  0.221979  0.325862  0.006432      0.189826   \n3P           -0.113268  0.345583 -0.007271  0.619509  0.102460      0.499698   \n3PA          -0.100756  0.372964  0.012887  0.629805  0.081656      0.510362   \n3P%          -0.178500 -0.015232 -0.075773  0.122092  0.043828      0.032263   \n2P            0.330045  0.705821  0.378992  0.855009 -0.125047      0.544418   \n2PA           0.260929  0.729935  0.369750  0.848150 -0.140503      0.524150   \n2P%           0.359401  0.207843  0.234085  0.346384  0.039909      0.251918   \nFT            0.227887  0.719179  0.361786  0.856265 -0.058314      0.512362   \nFTA           0.297228  0.731877  0.394113  0.847180 -0.088716      0.537826   \nFT%          -0.223474  0.182207 -0.025049  0.298979  0.172222      0.042765   \nORB           0.552206  0.139149  0.410408  0.155177 -0.182436      0.093376   \nDRB           0.541375  0.553873  0.446935  0.599499 -0.007271      0.483979   \nTRB           0.590361  0.474521  0.471613  0.515439 -0.058217      0.406330   \nAST          -0.088330  0.750771  0.224102  0.618483  0.200640      0.597625   \nSTL          -0.005641  0.468510  0.378477  0.437015  0.024650      0.234391   \nBLK           1.000000  0.083591  0.331082  0.204139 -0.079106      0.235502   \nTOV           0.083591  1.000000  0.443812  0.755073 -0.052296      0.462242   \nPF            0.331082  0.443812  1.000000  0.312806 -0.181463      0.115074   \nPTS           0.204139  0.755073  0.312806  1.000000 -0.043068      0.674504   \nAge          -0.079106 -0.052296 -0.181463 -0.043068  1.000000      0.039174   \nsalary_float  0.235502  0.462242  0.115074  0.674504  0.039174      1.000000   \nsalary_ratio  0.166279  0.626913  0.198955  0.699644  0.257244      0.721806   \nSalary_Rank  -0.257218 -0.512837 -0.197964 -0.738166 -0.147849     -0.941273   \n\n              salary_ratio  Salary_Rank  \nG                 0.331026    -0.732942  \nGS                0.530227    -0.751206  \nMP               -0.178070     0.622850  \nFG                0.698516    -0.736459  \nFGA               0.679722    -0.732813  \nFG%               0.276908    -0.241751  \n3P                0.379184    -0.536583  \n3PA               0.379156    -0.548755  \n3P%              -0.002291    -0.015194  \n2P                0.636310    -0.604834  \n2PA               0.633239    -0.587461  \n2P%               0.259474    -0.301761  \nFT                0.602086    -0.555435  \nFTA               0.606828    -0.579070  \nFT%               0.199002    -0.098777  \nORB               0.106793    -0.131324  \nDRB               0.502467    -0.546306  \nTRB               0.425143    -0.466781  \nAST               0.672192    -0.628249  \nSTL               0.422049    -0.341282  \nBLK               0.166279    -0.257218  \nTOV               0.626913    -0.512837  \nPF                0.198955    -0.197964  \nPTS               0.699644    -0.738166  \nAge               0.257244    -0.147849  \nsalary_float      0.721806    -0.941273  \nsalary_ratio      1.000000    -0.798480  \nSalary_Rank      -0.798480     1.000000  \n\n[28 rows x 28 columns]\n"
     ]
    },
    {
     "output_type": "display_data",
     "data": {
      "text/plain": "<Figure size 432x288 with 2 Axes>",
      "image/svg+xml": "<?xml version=\"1.0\" encoding=\"utf-8\" standalone=\"no\"?>\n<!DOCTYPE svg PUBLIC \"-//W3C//DTD SVG 1.1//EN\"\n  \"http://www.w3.org/Graphics/SVG/1.1/DTD/svg11.dtd\">\n<!-- Created with matplotlib (https://matplotlib.org/) -->\n<svg height=\"300.968906pt\" version=\"1.1\" viewBox=\"0 0 412.827 300.968906\" width=\"412.827pt\" xmlns=\"http://www.w3.org/2000/svg\" xmlns:xlink=\"http://www.w3.org/1999/xlink\">\n <metadata>\n  <rdf:RDF xmlns:cc=\"http://creativecommons.org/ns#\" xmlns:dc=\"http://purl.org/dc/elements/1.1/\" xmlns:rdf=\"http://www.w3.org/1999/02/22-rdf-syntax-ns#\">\n   <cc:Work>\n    <dc:type rdf:resource=\"http://purl.org/dc/dcmitype/StillImage\"/>\n    <dc:date>2021-04-26T22:43:14.016639</dc:date>\n    <dc:format>image/svg+xml</dc:format>\n    <dc:creator>\n     <cc:Agent>\n      <dc:title>Matplotlib v3.3.2, https://matplotlib.org/</dc:title>\n     </cc:Agent>\n    </dc:creator>\n   </cc:Work>\n  </rdf:RDF>\n </metadata>\n <defs>\n  <style type=\"text/css\">*{stroke-linecap:butt;stroke-linejoin:round;}</style>\n </defs>\n <g id=\"figure_1\">\n  <g id=\"patch_1\">\n   <path d=\"M 0 300.968906 \nL 412.827 300.968906 \nL 412.827 0 \nL 0 0 \nz\n\" style=\"fill:none;\"/>\n  </g>\n  <g id=\"axes_1\">\n   <g id=\"patch_2\">\n    <path d=\"M 72.529688 228.439219 \nL 340.369688 228.439219 \nL 340.369688 10.999219 \nL 72.529688 10.999219 \nz\n\" style=\"fill:#ffffff;\"/>\n   </g>\n   <g id=\"QuadMesh_1\">\n    <path clip-path=\"url(#pf4708f123d)\" d=\"M 72.529688 10.999219 \nL 82.095402 10.999219 \nL 82.095402 18.764933 \nL 72.529688 18.764933 \nL 72.529688 10.999219 \n\" style=\"fill:#faebdd;\"/>\n    <path clip-path=\"url(#pf4708f123d)\" d=\"M 82.095402 10.999219 \nL 91.661116 10.999219 \nL 91.661116 18.764933 \nL 82.095402 18.764933 \nL 82.095402 10.999219 \n\" style=\"fill:#f7c2a2;\"/>\n    <path clip-path=\"url(#pf4708f123d)\" d=\"M 91.661116 10.999219 \nL 101.22683 10.999219 \nL 101.22683 18.764933 \nL 91.661116 18.764933 \nL 91.661116 10.999219 \n\" style=\"fill:#3f1b43;\"/>\n    <path clip-path=\"url(#pf4708f123d)\" d=\"M 101.22683 10.999219 \nL 110.792545 10.999219 \nL 110.792545 18.764933 \nL 101.22683 18.764933 \nL 101.22683 10.999219 \n\" style=\"fill:#f4835b;\"/>\n    <path clip-path=\"url(#pf4708f123d)\" d=\"M 110.792545 10.999219 \nL 120.358259 10.999219 \nL 120.358259 18.764933 \nL 110.792545 18.764933 \nL 110.792545 10.999219 \n\" style=\"fill:#f4815a;\"/>\n    <path clip-path=\"url(#pf4708f123d)\" d=\"M 120.358259 10.999219 \nL 129.923973 10.999219 \nL 129.923973 18.764933 \nL 120.358259 18.764933 \nL 120.358259 10.999219 \n\" style=\"fill:#e33641;\"/>\n    <path clip-path=\"url(#pf4708f123d)\" d=\"M 129.923973 10.999219 \nL 139.489688 10.999219 \nL 139.489688 18.764933 \nL 129.923973 18.764933 \nL 129.923973 10.999219 \n\" style=\"fill:#f37651;\"/>\n    <path clip-path=\"url(#pf4708f123d)\" d=\"M 139.489688 10.999219 \nL 149.055402 10.999219 \nL 149.055402 18.764933 \nL 139.489688 18.764933 \nL 139.489688 10.999219 \n\" style=\"fill:#f37651;\"/>\n    <path clip-path=\"url(#pf4708f123d)\" d=\"M 149.055402 10.999219 \nL 158.621116 10.999219 \nL 158.621116 18.764933 \nL 149.055402 18.764933 \nL 149.055402 10.999219 \n\" style=\"fill:#ca1a50;\"/>\n    <path clip-path=\"url(#pf4708f123d)\" d=\"M 158.621116 10.999219 \nL 168.18683 10.999219 \nL 168.18683 18.764933 \nL 158.621116 18.764933 \nL 158.621116 10.999219 \n\" style=\"fill:#f16445;\"/>\n    <path clip-path=\"url(#pf4708f123d)\" d=\"M 168.18683 10.999219 \nL 177.752545 10.999219 \nL 177.752545 18.764933 \nL 168.18683 18.764933 \nL 168.18683 10.999219 \n\" style=\"fill:#f05e42;\"/>\n    <path clip-path=\"url(#pf4708f123d)\" d=\"M 177.752545 10.999219 \nL 187.318259 10.999219 \nL 187.318259 18.764933 \nL 177.752545 18.764933 \nL 177.752545 10.999219 \n\" style=\"fill:#ec4a3e;\"/>\n    <path clip-path=\"url(#pf4708f123d)\" d=\"M 187.318259 10.999219 \nL 196.883973 10.999219 \nL 196.883973 18.764933 \nL 187.318259 18.764933 \nL 187.318259 10.999219 \n\" style=\"fill:#ed503e;\"/>\n    <path clip-path=\"url(#pf4708f123d)\" d=\"M 196.883973 10.999219 \nL 206.449688 10.999219 \nL 206.449688 18.764933 \nL 196.883973 18.764933 \nL 196.883973 10.999219 \n\" style=\"fill:#ef5640;\"/>\n    <path clip-path=\"url(#pf4708f123d)\" d=\"M 206.449688 10.999219 \nL 216.015402 10.999219 \nL 216.015402 18.764933 \nL 206.449688 18.764933 \nL 206.449688 10.999219 \n\" style=\"fill:#c71951;\"/>\n    <path clip-path=\"url(#pf4708f123d)\" d=\"M 216.015402 10.999219 \nL 225.581116 10.999219 \nL 225.581116 18.764933 \nL 216.015402 18.764933 \nL 216.015402 10.999219 \n\" style=\"fill:#db2946;\"/>\n    <path clip-path=\"url(#pf4708f123d)\" d=\"M 225.581116 10.999219 \nL 235.14683 10.999219 \nL 235.14683 18.764933 \nL 225.581116 18.764933 \nL 225.581116 10.999219 \n\" style=\"fill:#f26948;\"/>\n    <path clip-path=\"url(#pf4708f123d)\" d=\"M 235.14683 10.999219 \nL 244.712545 10.999219 \nL 244.712545 18.764933 \nL 235.14683 18.764933 \nL 235.14683 10.999219 \n\" style=\"fill:#f05e42;\"/>\n    <path clip-path=\"url(#pf4708f123d)\" d=\"M 244.712545 10.999219 \nL 254.278259 10.999219 \nL 254.278259 18.764933 \nL 244.712545 18.764933 \nL 244.712545 10.999219 \n\" style=\"fill:#f26f4c;\"/>\n    <path clip-path=\"url(#pf4708f123d)\" d=\"M 254.278259 10.999219 \nL 263.843973 10.999219 \nL 263.843973 18.764933 \nL 254.278259 18.764933 \nL 254.278259 10.999219 \n\" style=\"fill:#e8403e;\"/>\n    <path clip-path=\"url(#pf4708f123d)\" d=\"M 263.843973 10.999219 \nL 273.409688 10.999219 \nL 273.409688 18.764933 \nL 263.843973 18.764933 \nL 263.843973 10.999219 \n\" style=\"fill:#e43841;\"/>\n    <path clip-path=\"url(#pf4708f123d)\" d=\"M 273.409688 10.999219 \nL 282.975402 10.999219 \nL 282.975402 18.764933 \nL 273.409688 18.764933 \nL 273.409688 10.999219 \n\" style=\"fill:#eb483e;\"/>\n    <path clip-path=\"url(#pf4708f123d)\" d=\"M 282.975402 10.999219 \nL 292.541116 10.999219 \nL 292.541116 18.764933 \nL 282.975402 18.764933 \nL 282.975402 10.999219 \n\" style=\"fill:#e43841;\"/>\n    <path clip-path=\"url(#pf4708f123d)\" d=\"M 292.541116 10.999219 \nL 302.10683 10.999219 \nL 302.10683 18.764933 \nL 292.541116 18.764933 \nL 292.541116 10.999219 \n\" style=\"fill:#f4815a;\"/>\n    <path clip-path=\"url(#pf4708f123d)\" d=\"M 302.10683 10.999219 \nL 311.672545 10.999219 \nL 311.672545 18.764933 \nL 302.10683 18.764933 \nL 302.10683 10.999219 \n\" style=\"fill:#c11754;\"/>\n    <path clip-path=\"url(#pf4708f123d)\" d=\"M 311.672545 10.999219 \nL 321.238259 10.999219 \nL 321.238259 18.764933 \nL 311.672545 18.764933 \nL 311.672545 10.999219 \n\" style=\"fill:#f6b38d;\"/>\n    <path clip-path=\"url(#pf4708f123d)\" d=\"M 321.238259 10.999219 \nL 330.803973 10.999219 \nL 330.803973 18.764933 \nL 321.238259 18.764933 \nL 321.238259 10.999219 \n\" style=\"fill:#ef5a41;\"/>\n    <path clip-path=\"url(#pf4708f123d)\" d=\"M 330.803973 10.999219 \nL 340.369688 10.999219 \nL 340.369688 18.764933 \nL 330.803973 18.764933 \nL 330.803973 10.999219 \n\" style=\"fill:#281535;\"/>\n    <path clip-path=\"url(#pf4708f123d)\" d=\"M 72.529688 18.764933 \nL 82.095402 18.764933 \nL 82.095402 26.530647 \nL 72.529688 26.530647 \nL 72.529688 18.764933 \n\" style=\"fill:#f7c2a2;\"/>\n    <path clip-path=\"url(#pf4708f123d)\" d=\"M 82.095402 18.764933 \nL 91.661116 18.764933 \nL 91.661116 26.530647 \nL 82.095402 26.530647 \nL 82.095402 18.764933 \n\" style=\"fill:#faebdd;\"/>\n    <path clip-path=\"url(#pf4708f123d)\" d=\"M 91.661116 18.764933 \nL 101.22683 18.764933 \nL 101.22683 26.530647 \nL 91.661116 26.530647 \nL 91.661116 18.764933 \n\" style=\"fill:#631f53;\"/>\n    <path clip-path=\"url(#pf4708f123d)\" d=\"M 101.22683 18.764933 \nL 110.792545 18.764933 \nL 110.792545 26.530647 \nL 101.22683 26.530647 \nL 101.22683 18.764933 \n\" style=\"fill:#f6a37a;\"/>\n    <path clip-path=\"url(#pf4708f123d)\" d=\"M 110.792545 18.764933 \nL 120.358259 18.764933 \nL 120.358259 26.530647 \nL 110.792545 26.530647 \nL 110.792545 18.764933 \n\" style=\"fill:#f6a077;\"/>\n    <path clip-path=\"url(#pf4708f123d)\" d=\"M 120.358259 18.764933 \nL 129.923973 18.764933 \nL 129.923973 26.530647 \nL 120.358259 26.530647 \nL 120.358259 18.764933 \n\" style=\"fill:#ec4c3e;\"/>\n    <path clip-path=\"url(#pf4708f123d)\" d=\"M 129.923973 18.764933 \nL 139.489688 18.764933 \nL 139.489688 26.530647 \nL 129.923973 26.530647 \nL 129.923973 18.764933 \n\" style=\"fill:#f37450;\"/>\n    <path clip-path=\"url(#pf4708f123d)\" d=\"M 139.489688 18.764933 \nL 149.055402 18.764933 \nL 149.055402 26.530647 \nL 139.489688 26.530647 \nL 139.489688 18.764933 \n\" style=\"fill:#f37450;\"/>\n    <path clip-path=\"url(#pf4708f123d)\" d=\"M 149.055402 18.764933 \nL 158.621116 18.764933 \nL 158.621116 26.530647 \nL 149.055402 26.530647 \nL 149.055402 18.764933 \n\" style=\"fill:#cd1c4e;\"/>\n    <path clip-path=\"url(#pf4708f123d)\" d=\"M 158.621116 18.764933 \nL 168.18683 18.764933 \nL 168.18683 26.530647 \nL 158.621116 26.530647 \nL 158.621116 18.764933 \n\" style=\"fill:#f58d64;\"/>\n    <path clip-path=\"url(#pf4708f123d)\" d=\"M 168.18683 18.764933 \nL 177.752545 18.764933 \nL 177.752545 26.530647 \nL 168.18683 26.530647 \nL 168.18683 18.764933 \n\" style=\"fill:#f58a61;\"/>\n    <path clip-path=\"url(#pf4708f123d)\" d=\"M 177.752545 18.764933 \nL 187.318259 18.764933 \nL 187.318259 26.530647 \nL 177.752545 26.530647 \nL 177.752545 18.764933 \n\" style=\"fill:#ee523f;\"/>\n    <path clip-path=\"url(#pf4708f123d)\" d=\"M 187.318259 18.764933 \nL 196.883973 18.764933 \nL 196.883973 26.530647 \nL 187.318259 26.530647 \nL 187.318259 18.764933 \n\" style=\"fill:#f47a54;\"/>\n    <path clip-path=\"url(#pf4708f123d)\" d=\"M 196.883973 18.764933 \nL 206.449688 18.764933 \nL 206.449688 26.530647 \nL 196.883973 26.530647 \nL 196.883973 18.764933 \n\" style=\"fill:#f4815a;\"/>\n    <path clip-path=\"url(#pf4708f123d)\" d=\"M 206.449688 18.764933 \nL 216.015402 18.764933 \nL 216.015402 26.530647 \nL 206.449688 26.530647 \nL 206.449688 18.764933 \n\" style=\"fill:#cd1c4e;\"/>\n    <path clip-path=\"url(#pf4708f123d)\" d=\"M 216.015402 18.764933 \nL 225.581116 18.764933 \nL 225.581116 26.530647 \nL 216.015402 26.530647 \nL 216.015402 18.764933 \n\" style=\"fill:#ea443e;\"/>\n    <path clip-path=\"url(#pf4708f123d)\" d=\"M 225.581116 18.764933 \nL 235.14683 18.764933 \nL 235.14683 26.530647 \nL 225.581116 26.530647 \nL 225.581116 18.764933 \n\" style=\"fill:#f58860;\"/>\n    <path clip-path=\"url(#pf4708f123d)\" d=\"M 235.14683 18.764933 \nL 244.712545 18.764933 \nL 244.712545 26.530647 \nL 235.14683 26.530647 \nL 235.14683 18.764933 \n\" style=\"fill:#f47f58;\"/>\n    <path clip-path=\"url(#pf4708f123d)\" d=\"M 244.712545 18.764933 \nL 254.278259 18.764933 \nL 254.278259 26.530647 \nL 244.712545 26.530647 \nL 244.712545 18.764933 \n\" style=\"fill:#f58a61;\"/>\n    <path clip-path=\"url(#pf4708f123d)\" d=\"M 254.278259 18.764933 \nL 263.843973 18.764933 \nL 263.843973 26.530647 \nL 254.278259 26.530647 \nL 254.278259 18.764933 \n\" style=\"fill:#f05e42;\"/>\n    <path clip-path=\"url(#pf4708f123d)\" d=\"M 263.843973 18.764933 \nL 273.409688 18.764933 \nL 273.409688 26.530647 \nL 263.843973 26.530647 \nL 263.843973 18.764933 \n\" style=\"fill:#ec4c3e;\"/>\n    <path clip-path=\"url(#pf4708f123d)\" d=\"M 273.409688 18.764933 \nL 282.975402 18.764933 \nL 282.975402 26.530647 \nL 273.409688 26.530647 \nL 273.409688 18.764933 \n\" style=\"fill:#f37651;\"/>\n    <path clip-path=\"url(#pf4708f123d)\" d=\"M 282.975402 18.764933 \nL 292.541116 18.764933 \nL 292.541116 26.530647 \nL 282.975402 26.530647 \nL 282.975402 18.764933 \n\" style=\"fill:#ee523f;\"/>\n    <path clip-path=\"url(#pf4708f123d)\" d=\"M 292.541116 18.764933 \nL 302.10683 18.764933 \nL 302.10683 26.530647 \nL 292.541116 26.530647 \nL 292.541116 18.764933 \n\" style=\"fill:#f6a178;\"/>\n    <path clip-path=\"url(#pf4708f123d)\" d=\"M 302.10683 18.764933 \nL 311.672545 18.764933 \nL 311.672545 26.530647 \nL 302.10683 26.530647 \nL 302.10683 18.764933 \n\" style=\"fill:#b51657;\"/>\n    <path clip-path=\"url(#pf4708f123d)\" d=\"M 311.672545 18.764933 \nL 321.238259 18.764933 \nL 321.238259 26.530647 \nL 311.672545 26.530647 \nL 311.672545 18.764933 \n\" style=\"fill:#f6b18b;\"/>\n    <path clip-path=\"url(#pf4708f123d)\" d=\"M 321.238259 18.764933 \nL 330.803973 18.764933 \nL 330.803973 26.530647 \nL 321.238259 26.530647 \nL 321.238259 18.764933 \n\" style=\"fill:#f58b63;\"/>\n    <path clip-path=\"url(#pf4708f123d)\" d=\"M 330.803973 18.764933 \nL 340.369688 18.764933 \nL 340.369688 26.530647 \nL 330.803973 26.530647 \nL 330.803973 18.764933 \n\" style=\"fill:#251433;\"/>\n    <path clip-path=\"url(#pf4708f123d)\" d=\"M 72.529688 26.530647 \nL 82.095402 26.530647 \nL 82.095402 34.296362 \nL 72.529688 34.296362 \nL 72.529688 26.530647 \n\" style=\"fill:#3f1b43;\"/>\n    <path clip-path=\"url(#pf4708f123d)\" d=\"M 82.095402 26.530647 \nL 91.661116 26.530647 \nL 91.661116 34.296362 \nL 82.095402 34.296362 \nL 82.095402 26.530647 \n\" style=\"fill:#631f53;\"/>\n    <path clip-path=\"url(#pf4708f123d)\" d=\"M 91.661116 26.530647 \nL 101.22683 26.530647 \nL 101.22683 34.296362 \nL 91.661116 34.296362 \nL 91.661116 26.530647 \n\" style=\"fill:#faebdd;\"/>\n    <path clip-path=\"url(#pf4708f123d)\" d=\"M 101.22683 26.530647 \nL 110.792545 26.530647 \nL 110.792545 34.296362 \nL 101.22683 34.296362 \nL 101.22683 26.530647 \n\" style=\"fill:#8b1d5b;\"/>\n    <path clip-path=\"url(#pf4708f123d)\" d=\"M 110.792545 26.530647 \nL 120.358259 26.530647 \nL 120.358259 34.296362 \nL 110.792545 34.296362 \nL 110.792545 26.530647 \n\" style=\"fill:#8b1d5b;\"/>\n    <path clip-path=\"url(#pf4708f123d)\" d=\"M 120.358259 26.530647 \nL 129.923973 26.530647 \nL 129.923973 34.296362 \nL 120.358259 34.296362 \nL 120.358259 26.530647 \n\" style=\"fill:#bf1654;\"/>\n    <path clip-path=\"url(#pf4708f123d)\" d=\"M 129.923973 26.530647 \nL 139.489688 26.530647 \nL 139.489688 34.296362 \nL 129.923973 34.296362 \nL 129.923973 26.530647 \n\" style=\"fill:#7a1f59;\"/>\n    <path clip-path=\"url(#pf4708f123d)\" d=\"M 139.489688 26.530647 \nL 149.055402 26.530647 \nL 149.055402 34.296362 \nL 139.489688 34.296362 \nL 139.489688 26.530647 \n\" style=\"fill:#7a1f59;\"/>\n    <path clip-path=\"url(#pf4708f123d)\" d=\"M 149.055402 26.530647 \nL 158.621116 26.530647 \nL 158.621116 34.296362 \nL 149.055402 34.296362 \nL 149.055402 26.530647 \n\" style=\"fill:#c21753;\"/>\n    <path clip-path=\"url(#pf4708f123d)\" d=\"M 158.621116 26.530647 \nL 168.18683 26.530647 \nL 168.18683 34.296362 \nL 158.621116 34.296362 \nL 158.621116 26.530647 \n\" style=\"fill:#a6195a;\"/>\n    <path clip-path=\"url(#pf4708f123d)\" d=\"M 168.18683 26.530647 \nL 177.752545 26.530647 \nL 177.752545 34.296362 \nL 168.18683 34.296362 \nL 168.18683 26.530647 \n\" style=\"fill:#ad1759;\"/>\n    <path clip-path=\"url(#pf4708f123d)\" d=\"M 177.752545 26.530647 \nL 187.318259 26.530647 \nL 187.318259 34.296362 \nL 177.752545 34.296362 \nL 177.752545 26.530647 \n\" style=\"fill:#af1759;\"/>\n    <path clip-path=\"url(#pf4708f123d)\" d=\"M 187.318259 26.530647 \nL 196.883973 26.530647 \nL 196.883973 34.296362 \nL 187.318259 34.296362 \nL 187.318259 26.530647 \n\" style=\"fill:#a6195a;\"/>\n    <path clip-path=\"url(#pf4708f123d)\" d=\"M 196.883973 26.530647 \nL 206.449688 26.530647 \nL 206.449688 34.296362 \nL 196.883973 34.296362 \nL 196.883973 26.530647 \n\" style=\"fill:#a11a5b;\"/>\n    <path clip-path=\"url(#pf4708f123d)\" d=\"M 206.449688 26.530647 \nL 216.015402 26.530647 \nL 216.015402 34.296362 \nL 206.449688 34.296362 \nL 206.449688 26.530647 \n\" style=\"fill:#d72549;\"/>\n    <path clip-path=\"url(#pf4708f123d)\" d=\"M 216.015402 26.530647 \nL 225.581116 26.530647 \nL 225.581116 34.296362 \nL 216.015402 34.296362 \nL 216.015402 26.530647 \n\" style=\"fill:#c71951;\"/>\n    <path clip-path=\"url(#pf4708f123d)\" d=\"M 225.581116 26.530647 \nL 235.14683 26.530647 \nL 235.14683 34.296362 \nL 225.581116 34.296362 \nL 225.581116 26.530647 \n\" style=\"fill:#9c1b5b;\"/>\n    <path clip-path=\"url(#pf4708f123d)\" d=\"M 235.14683 26.530647 \nL 244.712545 26.530647 \nL 244.712545 34.296362 \nL 235.14683 34.296362 \nL 235.14683 26.530647 \n\" style=\"fill:#a6195a;\"/>\n    <path clip-path=\"url(#pf4708f123d)\" d=\"M 244.712545 26.530647 \nL 254.278259 26.530647 \nL 254.278259 34.296362 \nL 244.712545 34.296362 \nL 244.712545 26.530647 \n\" style=\"fill:#9a1b5b;\"/>\n    <path clip-path=\"url(#pf4708f123d)\" d=\"M 254.278259 26.530647 \nL 263.843973 26.530647 \nL 263.843973 34.296362 \nL 254.278259 34.296362 \nL 254.278259 26.530647 \n\" style=\"fill:#e03143;\"/>\n    <path clip-path=\"url(#pf4708f123d)\" d=\"M 263.843973 26.530647 \nL 273.409688 26.530647 \nL 273.409688 34.296362 \nL 263.843973 34.296362 \nL 263.843973 26.530647 \n\" style=\"fill:#a11a5b;\"/>\n    <path clip-path=\"url(#pf4708f123d)\" d=\"M 273.409688 26.530647 \nL 282.975402 26.530647 \nL 282.975402 34.296362 \nL 273.409688 34.296362 \nL 273.409688 26.530647 \n\" style=\"fill:#bd1655;\"/>\n    <path clip-path=\"url(#pf4708f123d)\" d=\"M 282.975402 26.530647 \nL 292.541116 26.530647 \nL 292.541116 34.296362 \nL 282.975402 34.296362 \nL 282.975402 26.530647 \n\" style=\"fill:#d3214b;\"/>\n    <path clip-path=\"url(#pf4708f123d)\" d=\"M 292.541116 26.530647 \nL 302.10683 26.530647 \nL 302.10683 34.296362 \nL 292.541116 34.296362 \nL 292.541116 26.530647 \n\" style=\"fill:#891e5b;\"/>\n    <path clip-path=\"url(#pf4708f123d)\" d=\"M 302.10683 26.530647 \nL 311.672545 26.530647 \nL 311.672545 34.296362 \nL 302.10683 34.296362 \nL 302.10683 26.530647 \n\" style=\"fill:#d5224a;\"/>\n    <path clip-path=\"url(#pf4708f123d)\" d=\"M 311.672545 26.530647 \nL 321.238259 26.530647 \nL 321.238259 34.296362 \nL 311.672545 34.296362 \nL 311.672545 26.530647 \n\" style=\"fill:#2a1636;\"/>\n    <path clip-path=\"url(#pf4708f123d)\" d=\"M 321.238259 26.530647 \nL 330.803973 26.530647 \nL 330.803973 34.296362 \nL 321.238259 34.296362 \nL 321.238259 26.530647 \n\" style=\"fill:#9e1a5b;\"/>\n    <path clip-path=\"url(#pf4708f123d)\" d=\"M 330.803973 26.530647 \nL 340.369688 26.530647 \nL 340.369688 34.296362 \nL 330.803973 34.296362 \nL 330.803973 26.530647 \n\" style=\"fill:#f6a077;\"/>\n    <path clip-path=\"url(#pf4708f123d)\" d=\"M 72.529688 34.296362 \nL 82.095402 34.296362 \nL 82.095402 42.062076 \nL 72.529688 42.062076 \nL 72.529688 34.296362 \n\" style=\"fill:#f4835b;\"/>\n    <path clip-path=\"url(#pf4708f123d)\" d=\"M 82.095402 34.296362 \nL 91.661116 34.296362 \nL 91.661116 42.062076 \nL 82.095402 42.062076 \nL 82.095402 34.296362 \n\" style=\"fill:#f6a37a;\"/>\n    <path clip-path=\"url(#pf4708f123d)\" d=\"M 91.661116 34.296362 \nL 101.22683 34.296362 \nL 101.22683 42.062076 \nL 91.661116 42.062076 \nL 91.661116 34.296362 \n\" style=\"fill:#8b1d5b;\"/>\n    <path clip-path=\"url(#pf4708f123d)\" d=\"M 101.22683 34.296362 \nL 110.792545 34.296362 \nL 110.792545 42.062076 \nL 101.22683 42.062076 \nL 101.22683 34.296362 \n\" style=\"fill:#faebdd;\"/>\n    <path clip-path=\"url(#pf4708f123d)\" d=\"M 110.792545 34.296362 \nL 120.358259 34.296362 \nL 120.358259 42.062076 \nL 110.792545 42.062076 \nL 110.792545 34.296362 \n\" style=\"fill:#fae6d6;\"/>\n    <path clip-path=\"url(#pf4708f123d)\" d=\"M 120.358259 34.296362 \nL 129.923973 34.296362 \nL 129.923973 42.062076 \nL 120.358259 42.062076 \nL 120.358259 34.296362 \n\" style=\"fill:#f26b49;\"/>\n    <path clip-path=\"url(#pf4708f123d)\" d=\"M 129.923973 34.296362 \nL 139.489688 34.296362 \nL 139.489688 42.062076 \nL 129.923973 42.062076 \nL 129.923973 34.296362 \n\" style=\"fill:#f58f66;\"/>\n    <path clip-path=\"url(#pf4708f123d)\" d=\"M 139.489688 34.296362 \nL 149.055402 34.296362 \nL 149.055402 42.062076 \nL 139.489688 42.062076 \nL 139.489688 34.296362 \n\" style=\"fill:#f58f66;\"/>\n    <path clip-path=\"url(#pf4708f123d)\" d=\"M 149.055402 34.296362 \nL 158.621116 34.296362 \nL 158.621116 42.062076 \nL 149.055402 42.062076 \nL 149.055402 34.296362 \n\" style=\"fill:#d62449;\"/>\n    <path clip-path=\"url(#pf4708f123d)\" d=\"M 158.621116 34.296362 \nL 168.18683 34.296362 \nL 168.18683 42.062076 \nL 158.621116 42.062076 \nL 158.621116 34.296362 \n\" style=\"fill:#f8dac5;\"/>\n    <path clip-path=\"url(#pf4708f123d)\" d=\"M 168.18683 34.296362 \nL 177.752545 34.296362 \nL 177.752545 42.062076 \nL 168.18683 42.062076 \nL 168.18683 34.296362 \n\" style=\"fill:#f8d7c0;\"/>\n    <path clip-path=\"url(#pf4708f123d)\" d=\"M 177.752545 34.296362 \nL 187.318259 34.296362 \nL 187.318259 42.062076 \nL 177.752545 42.062076 \nL 177.752545 34.296362 \n\" style=\"fill:#f26b49;\"/>\n    <path clip-path=\"url(#pf4708f123d)\" d=\"M 187.318259 34.296362 \nL 196.883973 34.296362 \nL 196.883973 42.062076 \nL 187.318259 42.062076 \nL 187.318259 34.296362 \n\" style=\"fill:#f6c19f;\"/>\n    <path clip-path=\"url(#pf4708f123d)\" d=\"M 196.883973 34.296362 \nL 206.449688 34.296362 \nL 206.449688 42.062076 \nL 196.883973 42.062076 \nL 196.883973 34.296362 \n\" style=\"fill:#f7c2a2;\"/>\n    <path clip-path=\"url(#pf4708f123d)\" d=\"M 206.449688 34.296362 \nL 216.015402 34.296362 \nL 216.015402 42.062076 \nL 206.449688 42.062076 \nL 206.449688 34.296362 \n\" style=\"fill:#e83f3f;\"/>\n    <path clip-path=\"url(#pf4708f123d)\" d=\"M 216.015402 34.296362 \nL 225.581116 34.296362 \nL 225.581116 42.062076 \nL 216.015402 42.062076 \nL 216.015402 34.296362 \n\" style=\"fill:#e8403e;\"/>\n    <path clip-path=\"url(#pf4708f123d)\" d=\"M 225.581116 34.296362 \nL 235.14683 34.296362 \nL 235.14683 42.062076 \nL 225.581116 42.062076 \nL 225.581116 34.296362 \n\" style=\"fill:#f6a178;\"/>\n    <path clip-path=\"url(#pf4708f123d)\" d=\"M 235.14683 34.296362 \nL 244.712545 34.296362 \nL 244.712545 42.062076 \nL 235.14683 42.062076 \nL 235.14683 34.296362 \n\" style=\"fill:#f59269;\"/>\n    <path clip-path=\"url(#pf4708f123d)\" d=\"M 244.712545 34.296362 \nL 254.278259 34.296362 \nL 254.278259 42.062076 \nL 244.712545 42.062076 \nL 244.712545 34.296362 \n\" style=\"fill:#f59970;\"/>\n    <path clip-path=\"url(#pf4708f123d)\" d=\"M 254.278259 34.296362 \nL 263.843973 34.296362 \nL 263.843973 42.062076 \nL 254.278259 42.062076 \nL 254.278259 34.296362 \n\" style=\"fill:#f37651;\"/>\n    <path clip-path=\"url(#pf4708f123d)\" d=\"M 263.843973 34.296362 \nL 273.409688 34.296362 \nL 273.409688 42.062076 \nL 263.843973 42.062076 \nL 263.843973 34.296362 \n\" style=\"fill:#e8403e;\"/>\n    <path clip-path=\"url(#pf4708f123d)\" d=\"M 273.409688 34.296362 \nL 282.975402 34.296362 \nL 282.975402 42.062076 \nL 273.409688 42.062076 \nL 273.409688 34.296362 \n\" style=\"fill:#f6b893;\"/>\n    <path clip-path=\"url(#pf4708f123d)\" d=\"M 282.975402 34.296362 \nL 292.541116 34.296362 \nL 292.541116 42.062076 \nL 282.975402 42.062076 \nL 282.975402 34.296362 \n\" style=\"fill:#ef5840;\"/>\n    <path clip-path=\"url(#pf4708f123d)\" d=\"M 292.541116 34.296362 \nL 302.10683 34.296362 \nL 302.10683 42.062076 \nL 292.541116 42.062076 \nL 292.541116 34.296362 \n\" style=\"fill:#fae8d8;\"/>\n    <path clip-path=\"url(#pf4708f123d)\" d=\"M 302.10683 34.296362 \nL 311.672545 34.296362 \nL 311.672545 42.062076 \nL 302.10683 42.062076 \nL 302.10683 34.296362 \n\" style=\"fill:#b91657;\"/>\n    <path clip-path=\"url(#pf4708f123d)\" d=\"M 311.672545 34.296362 \nL 321.238259 34.296362 \nL 321.238259 42.062076 \nL 311.672545 42.062076 \nL 311.672545 34.296362 \n\" style=\"fill:#f6a981;\"/>\n    <path clip-path=\"url(#pf4708f123d)\" d=\"M 321.238259 34.296362 \nL 330.803973 34.296362 \nL 330.803973 42.062076 \nL 321.238259 42.062076 \nL 321.238259 34.296362 \n\" style=\"fill:#f6b089;\"/>\n    <path clip-path=\"url(#pf4708f123d)\" d=\"M 330.803973 34.296362 \nL 340.369688 34.296362 \nL 340.369688 42.062076 \nL 330.803973 42.062076 \nL 330.803973 34.296362 \n\" style=\"fill:#281535;\"/>\n    <path clip-path=\"url(#pf4708f123d)\" d=\"M 72.529688 42.062076 \nL 82.095402 42.062076 \nL 82.095402 49.82779 \nL 72.529688 49.82779 \nL 72.529688 42.062076 \n\" style=\"fill:#f4815a;\"/>\n    <path clip-path=\"url(#pf4708f123d)\" d=\"M 82.095402 42.062076 \nL 91.661116 42.062076 \nL 91.661116 49.82779 \nL 82.095402 49.82779 \nL 82.095402 42.062076 \n\" style=\"fill:#f6a077;\"/>\n    <path clip-path=\"url(#pf4708f123d)\" d=\"M 91.661116 42.062076 \nL 101.22683 42.062076 \nL 101.22683 49.82779 \nL 91.661116 49.82779 \nL 91.661116 42.062076 \n\" style=\"fill:#8b1d5b;\"/>\n    <path clip-path=\"url(#pf4708f123d)\" d=\"M 101.22683 42.062076 \nL 110.792545 42.062076 \nL 110.792545 49.82779 \nL 101.22683 49.82779 \nL 101.22683 42.062076 \n\" style=\"fill:#fae6d6;\"/>\n    <path clip-path=\"url(#pf4708f123d)\" d=\"M 110.792545 42.062076 \nL 120.358259 42.062076 \nL 120.358259 49.82779 \nL 110.792545 49.82779 \nL 110.792545 42.062076 \n\" style=\"fill:#faebdd;\"/>\n    <path clip-path=\"url(#pf4708f123d)\" d=\"M 120.358259 42.062076 \nL 129.923973 42.062076 \nL 129.923973 49.82779 \nL 120.358259 49.82779 \nL 120.358259 42.062076 \n\" style=\"fill:#e43841;\"/>\n    <path clip-path=\"url(#pf4708f123d)\" d=\"M 129.923973 42.062076 \nL 139.489688 42.062076 \nL 139.489688 49.82779 \nL 129.923973 49.82779 \nL 129.923973 42.062076 \n\" style=\"fill:#f6a178;\"/>\n    <path clip-path=\"url(#pf4708f123d)\" d=\"M 139.489688 42.062076 \nL 149.055402 42.062076 \nL 149.055402 49.82779 \nL 139.489688 49.82779 \nL 139.489688 42.062076 \n\" style=\"fill:#f6a880;\"/>\n    <path clip-path=\"url(#pf4708f123d)\" d=\"M 149.055402 42.062076 \nL 158.621116 42.062076 \nL 158.621116 49.82779 \nL 149.055402 49.82779 \nL 149.055402 42.062076 \n\" style=\"fill:#d2204c;\"/>\n    <path clip-path=\"url(#pf4708f123d)\" d=\"M 158.621116 42.062076 \nL 168.18683 42.062076 \nL 168.18683 49.82779 \nL 158.621116 49.82779 \nL 158.621116 42.062076 \n\" style=\"fill:#f7ccaf;\"/>\n    <path clip-path=\"url(#pf4708f123d)\" d=\"M 168.18683 42.062076 \nL 177.752545 42.062076 \nL 177.752545 49.82779 \nL 168.18683 49.82779 \nL 168.18683 42.062076 \n\" style=\"fill:#f7d0b5;\"/>\n    <path clip-path=\"url(#pf4708f123d)\" d=\"M 177.752545 42.062076 \nL 187.318259 42.062076 \nL 187.318259 49.82779 \nL 177.752545 49.82779 \nL 177.752545 42.062076 \n\" style=\"fill:#e9423e;\"/>\n    <path clip-path=\"url(#pf4708f123d)\" d=\"M 187.318259 42.062076 \nL 196.883973 42.062076 \nL 196.883973 49.82779 \nL 187.318259 49.82779 \nL 187.318259 42.062076 \n\" style=\"fill:#f6bf9d;\"/>\n    <path clip-path=\"url(#pf4708f123d)\" d=\"M 196.883973 42.062076 \nL 206.449688 42.062076 \nL 206.449688 49.82779 \nL 196.883973 49.82779 \nL 196.883973 42.062076 \n\" style=\"fill:#f6be9b;\"/>\n    <path clip-path=\"url(#pf4708f123d)\" d=\"M 206.449688 42.062076 \nL 216.015402 42.062076 \nL 216.015402 49.82779 \nL 206.449688 49.82779 \nL 206.449688 42.062076 \n\" style=\"fill:#ed503e;\"/>\n    <path clip-path=\"url(#pf4708f123d)\" d=\"M 216.015402 42.062076 \nL 225.581116 42.062076 \nL 225.581116 49.82779 \nL 216.015402 49.82779 \nL 216.015402 42.062076 \n\" style=\"fill:#d72549;\"/>\n    <path clip-path=\"url(#pf4708f123d)\" d=\"M 225.581116 42.062076 \nL 235.14683 42.062076 \nL 235.14683 49.82779 \nL 225.581116 49.82779 \nL 225.581116 42.062076 \n\" style=\"fill:#f59067;\"/>\n    <path clip-path=\"url(#pf4708f123d)\" d=\"M 235.14683 42.062076 \nL 244.712545 42.062076 \nL 244.712545 49.82779 \nL 235.14683 49.82779 \nL 235.14683 42.062076 \n\" style=\"fill:#f47c55;\"/>\n    <path clip-path=\"url(#pf4708f123d)\" d=\"M 244.712545 42.062076 \nL 254.278259 42.062076 \nL 254.278259 49.82779 \nL 244.712545 49.82779 \nL 244.712545 42.062076 \n\" style=\"fill:#f6a077;\"/>\n    <path clip-path=\"url(#pf4708f123d)\" d=\"M 254.278259 42.062076 \nL 263.843973 42.062076 \nL 263.843973 49.82779 \nL 254.278259 49.82779 \nL 254.278259 42.062076 \n\" style=\"fill:#f37450;\"/>\n    <path clip-path=\"url(#pf4708f123d)\" d=\"M 263.843973 42.062076 \nL 273.409688 42.062076 \nL 273.409688 49.82779 \nL 263.843973 49.82779 \nL 263.843973 42.062076 \n\" style=\"fill:#de2e44;\"/>\n    <path clip-path=\"url(#pf4708f123d)\" d=\"M 273.409688 42.062076 \nL 282.975402 42.062076 \nL 282.975402 49.82779 \nL 273.409688 49.82779 \nL 273.409688 42.062076 \n\" style=\"fill:#f6b995;\"/>\n    <path clip-path=\"url(#pf4708f123d)\" d=\"M 282.975402 42.062076 \nL 292.541116 42.062076 \nL 292.541116 49.82779 \nL 282.975402 49.82779 \nL 282.975402 42.062076 \n\" style=\"fill:#ed503e;\"/>\n    <path clip-path=\"url(#pf4708f123d)\" d=\"M 292.541116 42.062076 \nL 302.10683 42.062076 \nL 302.10683 49.82779 \nL 292.541116 49.82779 \nL 292.541116 42.062076 \n\" style=\"fill:#fae6d6;\"/>\n    <path clip-path=\"url(#pf4708f123d)\" d=\"M 302.10683 42.062076 \nL 311.672545 42.062076 \nL 311.672545 49.82779 \nL 302.10683 49.82779 \nL 302.10683 42.062076 \n\" style=\"fill:#b71657;\"/>\n    <path clip-path=\"url(#pf4708f123d)\" d=\"M 311.672545 42.062076 \nL 321.238259 42.062076 \nL 321.238259 49.82779 \nL 311.672545 49.82779 \nL 311.672545 42.062076 \n\" style=\"fill:#f6a880;\"/>\n    <path clip-path=\"url(#pf4708f123d)\" d=\"M 321.238259 42.062076 \nL 330.803973 42.062076 \nL 330.803973 49.82779 \nL 321.238259 49.82779 \nL 321.238259 42.062076 \n\" style=\"fill:#f6ab83;\"/>\n    <path clip-path=\"url(#pf4708f123d)\" d=\"M 330.803973 42.062076 \nL 340.369688 42.062076 \nL 340.369688 49.82779 \nL 330.803973 49.82779 \nL 330.803973 42.062076 \n\" style=\"fill:#281535;\"/>\n    <path clip-path=\"url(#pf4708f123d)\" d=\"M 72.529688 49.82779 \nL 82.095402 49.82779 \nL 82.095402 57.593504 \nL 72.529688 57.593504 \nL 72.529688 49.82779 \n\" style=\"fill:#e33641;\"/>\n    <path clip-path=\"url(#pf4708f123d)\" d=\"M 82.095402 49.82779 \nL 91.661116 49.82779 \nL 91.661116 57.593504 \nL 82.095402 57.593504 \nL 82.095402 49.82779 \n\" style=\"fill:#ec4c3e;\"/>\n    <path clip-path=\"url(#pf4708f123d)\" d=\"M 91.661116 49.82779 \nL 101.22683 49.82779 \nL 101.22683 57.593504 \nL 91.661116 57.593504 \nL 91.661116 49.82779 \n\" style=\"fill:#bf1654;\"/>\n    <path clip-path=\"url(#pf4708f123d)\" d=\"M 101.22683 49.82779 \nL 110.792545 49.82779 \nL 110.792545 57.593504 \nL 101.22683 57.593504 \nL 101.22683 49.82779 \n\" style=\"fill:#f26b49;\"/>\n    <path clip-path=\"url(#pf4708f123d)\" d=\"M 110.792545 49.82779 \nL 120.358259 49.82779 \nL 120.358259 57.593504 \nL 110.792545 57.593504 \nL 110.792545 49.82779 \n\" style=\"fill:#e43841;\"/>\n    <path clip-path=\"url(#pf4708f123d)\" d=\"M 120.358259 49.82779 \nL 129.923973 49.82779 \nL 129.923973 57.593504 \nL 120.358259 57.593504 \nL 120.358259 49.82779 \n\" style=\"fill:#faebdd;\"/>\n    <path clip-path=\"url(#pf4708f123d)\" d=\"M 129.923973 49.82779 \nL 139.489688 49.82779 \nL 139.489688 57.593504 \nL 129.923973 57.593504 \nL 129.923973 49.82779 \n\" style=\"fill:#b01759;\"/>\n    <path clip-path=\"url(#pf4708f123d)\" d=\"M 139.489688 49.82779 \nL 149.055402 49.82779 \nL 149.055402 57.593504 \nL 139.489688 57.593504 \nL 139.489688 49.82779 \n\" style=\"fill:#9a1b5b;\"/>\n    <path clip-path=\"url(#pf4708f123d)\" d=\"M 149.055402 49.82779 \nL 158.621116 49.82779 \nL 158.621116 57.593504 \nL 149.055402 57.593504 \nL 149.055402 49.82779 \n\" style=\"fill:#de2e44;\"/>\n    <path clip-path=\"url(#pf4708f123d)\" d=\"M 158.621116 49.82779 \nL 168.18683 49.82779 \nL 168.18683 57.593504 \nL 158.621116 57.593504 \nL 158.621116 49.82779 \n\" style=\"fill:#f58860;\"/>\n    <path clip-path=\"url(#pf4708f123d)\" d=\"M 168.18683 49.82779 \nL 177.752545 49.82779 \nL 177.752545 57.593504 \nL 168.18683 57.593504 \nL 168.18683 49.82779 \n\" style=\"fill:#f26948;\"/>\n    <path clip-path=\"url(#pf4708f123d)\" d=\"M 177.752545 49.82779 \nL 187.318259 49.82779 \nL 187.318259 57.593504 \nL 177.752545 57.593504 \nL 177.752545 49.82779 \n\" style=\"fill:#f7c2a2;\"/>\n    <path clip-path=\"url(#pf4708f123d)\" d=\"M 187.318259 49.82779 \nL 196.883973 49.82779 \nL 196.883973 57.593504 \nL 187.318259 57.593504 \nL 187.318259 49.82779 \n\" style=\"fill:#e8403e;\"/>\n    <path clip-path=\"url(#pf4708f123d)\" d=\"M 196.883973 49.82779 \nL 206.449688 49.82779 \nL 206.449688 57.593504 \nL 196.883973 57.593504 \nL 196.883973 49.82779 \n\" style=\"fill:#ed503e;\"/>\n    <path clip-path=\"url(#pf4708f123d)\" d=\"M 206.449688 49.82779 \nL 216.015402 49.82779 \nL 216.015402 57.593504 \nL 206.449688 57.593504 \nL 206.449688 49.82779 \n\" style=\"fill:#a3195b;\"/>\n    <path clip-path=\"url(#pf4708f123d)\" d=\"M 216.015402 49.82779 \nL 225.581116 49.82779 \nL 225.581116 57.593504 \nL 216.015402 57.593504 \nL 216.015402 49.82779 \n\" style=\"fill:#f58d64;\"/>\n    <path clip-path=\"url(#pf4708f123d)\" d=\"M 225.581116 49.82779 \nL 235.14683 49.82779 \nL 235.14683 57.593504 \nL 225.581116 57.593504 \nL 225.581116 49.82779 \n\" style=\"fill:#f47a54;\"/>\n    <path clip-path=\"url(#pf4708f123d)\" d=\"M 235.14683 49.82779 \nL 244.712545 49.82779 \nL 244.712545 57.593504 \nL 235.14683 57.593504 \nL 235.14683 49.82779 \n\" style=\"fill:#f58a61;\"/>\n    <path clip-path=\"url(#pf4708f123d)\" d=\"M 244.712545 49.82779 \nL 254.278259 49.82779 \nL 254.278259 57.593504 \nL 244.712545 57.593504 \nL 244.712545 49.82779 \n\" style=\"fill:#d5224a;\"/>\n    <path clip-path=\"url(#pf4708f123d)\" d=\"M 254.278259 49.82779 \nL 263.843973 49.82779 \nL 263.843973 57.593504 \nL 254.278259 57.593504 \nL 254.278259 49.82779 \n\" style=\"fill:#e53940;\"/>\n    <path clip-path=\"url(#pf4708f123d)\" d=\"M 263.843973 49.82779 \nL 273.409688 49.82779 \nL 273.409688 57.593504 \nL 263.843973 57.593504 \nL 263.843973 49.82779 \n\" style=\"fill:#f16244;\"/>\n    <path clip-path=\"url(#pf4708f123d)\" d=\"M 273.409688 49.82779 \nL 282.975402 49.82779 \nL 282.975402 57.593504 \nL 273.409688 57.593504 \nL 273.409688 49.82779 \n\" style=\"fill:#e53940;\"/>\n    <path clip-path=\"url(#pf4708f123d)\" d=\"M 282.975402 49.82779 \nL 292.541116 49.82779 \nL 292.541116 57.593504 \nL 282.975402 57.593504 \nL 282.975402 49.82779 \n\" style=\"fill:#e83f3f;\"/>\n    <path clip-path=\"url(#pf4708f123d)\" d=\"M 292.541116 49.82779 \nL 302.10683 49.82779 \nL 302.10683 57.593504 \nL 292.541116 57.593504 \nL 292.541116 49.82779 \n\" style=\"fill:#ef5a41;\"/>\n    <path clip-path=\"url(#pf4708f123d)\" d=\"M 302.10683 49.82779 \nL 311.672545 49.82779 \nL 311.672545 57.593504 \nL 302.10683 57.593504 \nL 302.10683 49.82779 \n\" style=\"fill:#c51852;\"/>\n    <path clip-path=\"url(#pf4708f123d)\" d=\"M 311.672545 49.82779 \nL 321.238259 49.82779 \nL 321.238259 57.593504 \nL 311.672545 57.593504 \nL 311.672545 49.82779 \n\" style=\"fill:#e43841;\"/>\n    <path clip-path=\"url(#pf4708f123d)\" d=\"M 321.238259 49.82779 \nL 330.803973 49.82779 \nL 330.803973 57.593504 \nL 321.238259 57.593504 \nL 321.238259 49.82779 \n\" style=\"fill:#ec4c3e;\"/>\n    <path clip-path=\"url(#pf4708f123d)\" d=\"M 330.803973 49.82779 \nL 340.369688 49.82779 \nL 340.369688 57.593504 \nL 330.803973 57.593504 \nL 330.803973 49.82779 \n\" style=\"fill:#901d5b;\"/>\n    <path clip-path=\"url(#pf4708f123d)\" d=\"M 72.529688 57.593504 \nL 82.095402 57.593504 \nL 82.095402 65.359219 \nL 72.529688 65.359219 \nL 72.529688 57.593504 \n\" style=\"fill:#f37651;\"/>\n    <path clip-path=\"url(#pf4708f123d)\" d=\"M 82.095402 57.593504 \nL 91.661116 57.593504 \nL 91.661116 65.359219 \nL 82.095402 65.359219 \nL 82.095402 57.593504 \n\" style=\"fill:#f37450;\"/>\n    <path clip-path=\"url(#pf4708f123d)\" d=\"M 91.661116 57.593504 \nL 101.22683 57.593504 \nL 101.22683 65.359219 \nL 91.661116 65.359219 \nL 91.661116 57.593504 \n\" style=\"fill:#7a1f59;\"/>\n    <path clip-path=\"url(#pf4708f123d)\" d=\"M 101.22683 57.593504 \nL 110.792545 57.593504 \nL 110.792545 65.359219 \nL 101.22683 65.359219 \nL 101.22683 57.593504 \n\" style=\"fill:#f58f66;\"/>\n    <path clip-path=\"url(#pf4708f123d)\" d=\"M 110.792545 57.593504 \nL 120.358259 57.593504 \nL 120.358259 65.359219 \nL 110.792545 65.359219 \nL 110.792545 57.593504 \n\" style=\"fill:#f6a178;\"/>\n    <path clip-path=\"url(#pf4708f123d)\" d=\"M 120.358259 57.593504 \nL 129.923973 57.593504 \nL 129.923973 65.359219 \nL 120.358259 65.359219 \nL 120.358259 57.593504 \n\" style=\"fill:#b01759;\"/>\n    <path clip-path=\"url(#pf4708f123d)\" d=\"M 129.923973 57.593504 \nL 139.489688 57.593504 \nL 139.489688 65.359219 \nL 129.923973 65.359219 \nL 129.923973 57.593504 \n\" style=\"fill:#faebdd;\"/>\n    <path clip-path=\"url(#pf4708f123d)\" d=\"M 139.489688 57.593504 \nL 149.055402 57.593504 \nL 149.055402 65.359219 \nL 139.489688 65.359219 \nL 139.489688 57.593504 \n\" style=\"fill:#fae6d6;\"/>\n    <path clip-path=\"url(#pf4708f123d)\" d=\"M 149.055402 57.593504 \nL 158.621116 57.593504 \nL 158.621116 65.359219 \nL 149.055402 65.359219 \nL 149.055402 57.593504 \n\" style=\"fill:#f26747;\"/>\n    <path clip-path=\"url(#pf4708f123d)\" d=\"M 158.621116 57.593504 \nL 168.18683 57.593504 \nL 168.18683 65.359219 \nL 158.621116 65.359219 \nL 158.621116 57.593504 \n\" style=\"fill:#df2f44;\"/>\n    <path clip-path=\"url(#pf4708f123d)\" d=\"M 168.18683 57.593504 \nL 177.752545 57.593504 \nL 177.752545 65.359219 \nL 168.18683 65.359219 \nL 168.18683 57.593504 \n\" style=\"fill:#e03143;\"/>\n    <path clip-path=\"url(#pf4708f123d)\" d=\"M 177.752545 57.593504 \nL 187.318259 57.593504 \nL 187.318259 65.359219 \nL 177.752545 65.359219 \nL 177.752545 57.593504 \n\" style=\"fill:#d11f4c;\"/>\n    <path clip-path=\"url(#pf4708f123d)\" d=\"M 187.318259 57.593504 \nL 196.883973 57.593504 \nL 196.883973 65.359219 \nL 187.318259 65.359219 \nL 187.318259 57.593504 \n\" style=\"fill:#f05e42;\"/>\n    <path clip-path=\"url(#pf4708f123d)\" d=\"M 196.883973 57.593504 \nL 206.449688 57.593504 \nL 206.449688 65.359219 \nL 196.883973 65.359219 \nL 196.883973 57.593504 \n\" style=\"fill:#ed4e3e;\"/>\n    <path clip-path=\"url(#pf4708f123d)\" d=\"M 206.449688 57.593504 \nL 216.015402 57.593504 \nL 216.015402 65.359219 \nL 206.449688 65.359219 \nL 206.449688 57.593504 \n\" style=\"fill:#f26f4c;\"/>\n    <path clip-path=\"url(#pf4708f123d)\" d=\"M 216.015402 57.593504 \nL 225.581116 57.593504 \nL 225.581116 65.359219 \nL 216.015402 65.359219 \nL 216.015402 57.593504 \n\" style=\"fill:#731f58;\"/>\n    <path clip-path=\"url(#pf4708f123d)\" d=\"M 225.581116 57.593504 \nL 235.14683 57.593504 \nL 235.14683 65.359219 \nL 225.581116 65.359219 \nL 225.581116 57.593504 \n\" style=\"fill:#d3214b;\"/>\n    <path clip-path=\"url(#pf4708f123d)\" d=\"M 235.14683 57.593504 \nL 244.712545 57.593504 \nL 244.712545 65.359219 \nL 235.14683 65.359219 \nL 235.14683 57.593504 \n\" style=\"fill:#ba1656;\"/>\n    <path clip-path=\"url(#pf4708f123d)\" d=\"M 244.712545 57.593504 \nL 254.278259 57.593504 \nL 254.278259 65.359219 \nL 244.712545 65.359219 \nL 244.712545 57.593504 \n\" style=\"fill:#f26948;\"/>\n    <path clip-path=\"url(#pf4708f123d)\" d=\"M 254.278259 57.593504 \nL 263.843973 57.593504 \nL 263.843973 65.359219 \nL 254.278259 65.359219 \nL 254.278259 57.593504 \n\" style=\"fill:#e13342;\"/>\n    <path clip-path=\"url(#pf4708f123d)\" d=\"M 263.843973 57.593504 \nL 273.409688 57.593504 \nL 273.409688 65.359219 \nL 263.843973 65.359219 \nL 263.843973 57.593504 \n\" style=\"fill:#ad1759;\"/>\n    <path clip-path=\"url(#pf4708f123d)\" d=\"M 273.409688 57.593504 \nL 282.975402 57.593504 \nL 282.975402 65.359219 \nL 273.409688 65.359219 \nL 273.409688 57.593504 \n\" style=\"fill:#f05e42;\"/>\n    <path clip-path=\"url(#pf4708f123d)\" d=\"M 282.975402 57.593504 \nL 292.541116 57.593504 \nL 292.541116 65.359219 \nL 282.975402 65.359219 \nL 282.975402 57.593504 \n\" style=\"fill:#c41753;\"/>\n    <path clip-path=\"url(#pf4708f123d)\" d=\"M 292.541116 57.593504 \nL 302.10683 57.593504 \nL 302.10683 65.359219 \nL 292.541116 65.359219 \nL 292.541116 57.593504 \n\" style=\"fill:#f69e75;\"/>\n    <path clip-path=\"url(#pf4708f123d)\" d=\"M 302.10683 57.593504 \nL 311.672545 57.593504 \nL 311.672545 65.359219 \nL 302.10683 65.359219 \nL 302.10683 57.593504 \n\" style=\"fill:#d72549;\"/>\n    <path clip-path=\"url(#pf4708f123d)\" d=\"M 311.672545 57.593504 \nL 321.238259 57.593504 \nL 321.238259 65.359219 \nL 311.672545 65.359219 \nL 311.672545 57.593504 \n\" style=\"fill:#f4845d;\"/>\n    <path clip-path=\"url(#pf4708f123d)\" d=\"M 321.238259 57.593504 \nL 330.803973 57.593504 \nL 330.803973 65.359219 \nL 321.238259 65.359219 \nL 321.238259 57.593504 \n\" style=\"fill:#f26747;\"/>\n    <path clip-path=\"url(#pf4708f123d)\" d=\"M 330.803973 57.593504 \nL 340.369688 57.593504 \nL 340.369688 65.359219 \nL 330.803973 65.359219 \nL 330.803973 57.593504 \n\" style=\"fill:#501d4c;\"/>\n    <path clip-path=\"url(#pf4708f123d)\" d=\"M 72.529688 65.359219 \nL 82.095402 65.359219 \nL 82.095402 73.124933 \nL 72.529688 73.124933 \nL 72.529688 65.359219 \n\" style=\"fill:#f37651;\"/>\n    <path clip-path=\"url(#pf4708f123d)\" d=\"M 82.095402 65.359219 \nL 91.661116 65.359219 \nL 91.661116 73.124933 \nL 82.095402 73.124933 \nL 82.095402 65.359219 \n\" style=\"fill:#f37450;\"/>\n    <path clip-path=\"url(#pf4708f123d)\" d=\"M 91.661116 65.359219 \nL 101.22683 65.359219 \nL 101.22683 73.124933 \nL 91.661116 73.124933 \nL 91.661116 65.359219 \n\" style=\"fill:#7a1f59;\"/>\n    <path clip-path=\"url(#pf4708f123d)\" d=\"M 101.22683 65.359219 \nL 110.792545 65.359219 \nL 110.792545 73.124933 \nL 101.22683 73.124933 \nL 101.22683 65.359219 \n\" style=\"fill:#f58f66;\"/>\n    <path clip-path=\"url(#pf4708f123d)\" d=\"M 110.792545 65.359219 \nL 120.358259 65.359219 \nL 120.358259 73.124933 \nL 110.792545 73.124933 \nL 110.792545 65.359219 \n\" style=\"fill:#f6a880;\"/>\n    <path clip-path=\"url(#pf4708f123d)\" d=\"M 120.358259 65.359219 \nL 129.923973 65.359219 \nL 129.923973 73.124933 \nL 120.358259 73.124933 \nL 120.358259 65.359219 \n\" style=\"fill:#9a1b5b;\"/>\n    <path clip-path=\"url(#pf4708f123d)\" d=\"M 129.923973 65.359219 \nL 139.489688 65.359219 \nL 139.489688 73.124933 \nL 129.923973 73.124933 \nL 129.923973 65.359219 \n\" style=\"fill:#fae6d6;\"/>\n    <path clip-path=\"url(#pf4708f123d)\" d=\"M 139.489688 65.359219 \nL 149.055402 65.359219 \nL 149.055402 73.124933 \nL 139.489688 73.124933 \nL 139.489688 65.359219 \n\" style=\"fill:#faebdd;\"/>\n    <path clip-path=\"url(#pf4708f123d)\" d=\"M 149.055402 65.359219 \nL 158.621116 65.359219 \nL 158.621116 73.124933 \nL 149.055402 73.124933 \nL 149.055402 65.359219 \n\" style=\"fill:#ec4c3e;\"/>\n    <path clip-path=\"url(#pf4708f123d)\" d=\"M 158.621116 65.359219 \nL 168.18683 65.359219 \nL 168.18683 73.124933 \nL 158.621116 73.124933 \nL 158.621116 65.359219 \n\" style=\"fill:#e13342;\"/>\n    <path clip-path=\"url(#pf4708f123d)\" d=\"M 168.18683 65.359219 \nL 177.752545 65.359219 \nL 177.752545 73.124933 \nL 168.18683 73.124933 \nL 168.18683 65.359219 \n\" style=\"fill:#e43841;\"/>\n    <path clip-path=\"url(#pf4708f123d)\" d=\"M 177.752545 65.359219 \nL 187.318259 65.359219 \nL 187.318259 73.124933 \nL 177.752545 73.124933 \nL 177.752545 65.359219 \n\" style=\"fill:#ce1d4e;\"/>\n    <path clip-path=\"url(#pf4708f123d)\" d=\"M 187.318259 65.359219 \nL 196.883973 65.359219 \nL 196.883973 73.124933 \nL 187.318259 73.124933 \nL 187.318259 65.359219 \n\" style=\"fill:#f26747;\"/>\n    <path clip-path=\"url(#pf4708f123d)\" d=\"M 196.883973 65.359219 \nL 206.449688 65.359219 \nL 206.449688 73.124933 \nL 196.883973 73.124933 \nL 196.883973 65.359219 \n\" style=\"fill:#ef5640;\"/>\n    <path clip-path=\"url(#pf4708f123d)\" d=\"M 206.449688 65.359219 \nL 216.015402 65.359219 \nL 216.015402 73.124933 \nL 206.449688 73.124933 \nL 206.449688 65.359219 \n\" style=\"fill:#f26f4c;\"/>\n    <path clip-path=\"url(#pf4708f123d)\" d=\"M 216.015402 65.359219 \nL 225.581116 65.359219 \nL 225.581116 73.124933 \nL 216.015402 73.124933 \nL 216.015402 65.359219 \n\" style=\"fill:#751f58;\"/>\n    <path clip-path=\"url(#pf4708f123d)\" d=\"M 225.581116 65.359219 \nL 235.14683 65.359219 \nL 235.14683 73.124933 \nL 225.581116 73.124933 \nL 225.581116 65.359219 \n\" style=\"fill:#d72549;\"/>\n    <path clip-path=\"url(#pf4708f123d)\" d=\"M 235.14683 65.359219 \nL 244.712545 65.359219 \nL 244.712545 73.124933 \nL 235.14683 73.124933 \nL 235.14683 65.359219 \n\" style=\"fill:#bf1654;\"/>\n    <path clip-path=\"url(#pf4708f123d)\" d=\"M 244.712545 65.359219 \nL 254.278259 65.359219 \nL 254.278259 73.124933 \nL 244.712545 73.124933 \nL 244.712545 65.359219 \n\" style=\"fill:#f26f4c;\"/>\n    <path clip-path=\"url(#pf4708f123d)\" d=\"M 254.278259 65.359219 \nL 263.843973 65.359219 \nL 263.843973 73.124933 \nL 254.278259 73.124933 \nL 254.278259 65.359219 \n\" style=\"fill:#e23442;\"/>\n    <path clip-path=\"url(#pf4708f123d)\" d=\"M 263.843973 65.359219 \nL 273.409688 65.359219 \nL 273.409688 73.124933 \nL 263.843973 73.124933 \nL 263.843973 65.359219 \n\" style=\"fill:#af1759;\"/>\n    <path clip-path=\"url(#pf4708f123d)\" d=\"M 273.409688 65.359219 \nL 282.975402 65.359219 \nL 282.975402 73.124933 \nL 273.409688 73.124933 \nL 273.409688 65.359219 \n\" style=\"fill:#f16646;\"/>\n    <path clip-path=\"url(#pf4708f123d)\" d=\"M 282.975402 65.359219 \nL 292.541116 65.359219 \nL 292.541116 73.124933 \nL 282.975402 73.124933 \nL 282.975402 65.359219 \n\" style=\"fill:#c71951;\"/>\n    <path clip-path=\"url(#pf4708f123d)\" d=\"M 292.541116 65.359219 \nL 302.10683 65.359219 \nL 302.10683 73.124933 \nL 292.541116 73.124933 \nL 292.541116 65.359219 \n\" style=\"fill:#f6a178;\"/>\n    <path clip-path=\"url(#pf4708f123d)\" d=\"M 302.10683 65.359219 \nL 311.672545 65.359219 \nL 311.672545 73.124933 \nL 302.10683 73.124933 \nL 302.10683 65.359219 \n\" style=\"fill:#d3214b;\"/>\n    <path clip-path=\"url(#pf4708f123d)\" d=\"M 311.672545 65.359219 \nL 321.238259 65.359219 \nL 321.238259 73.124933 \nL 311.672545 73.124933 \nL 311.672545 65.359219 \n\" style=\"fill:#f4865e;\"/>\n    <path clip-path=\"url(#pf4708f123d)\" d=\"M 321.238259 65.359219 \nL 330.803973 65.359219 \nL 330.803973 73.124933 \nL 321.238259 73.124933 \nL 321.238259 65.359219 \n\" style=\"fill:#f26747;\"/>\n    <path clip-path=\"url(#pf4708f123d)\" d=\"M 330.803973 65.359219 \nL 340.369688 65.359219 \nL 340.369688 73.124933 \nL 330.803973 73.124933 \nL 330.803973 65.359219 \n\" style=\"fill:#4c1d4b;\"/>\n    <path clip-path=\"url(#pf4708f123d)\" d=\"M 72.529688 73.124933 \nL 82.095402 73.124933 \nL 82.095402 80.890647 \nL 72.529688 80.890647 \nL 72.529688 73.124933 \n\" style=\"fill:#ca1a50;\"/>\n    <path clip-path=\"url(#pf4708f123d)\" d=\"M 82.095402 73.124933 \nL 91.661116 73.124933 \nL 91.661116 80.890647 \nL 82.095402 80.890647 \nL 82.095402 73.124933 \n\" style=\"fill:#cd1c4e;\"/>\n    <path clip-path=\"url(#pf4708f123d)\" d=\"M 91.661116 73.124933 \nL 101.22683 73.124933 \nL 101.22683 80.890647 \nL 91.661116 80.890647 \nL 91.661116 73.124933 \n\" style=\"fill:#c21753;\"/>\n    <path clip-path=\"url(#pf4708f123d)\" d=\"M 101.22683 73.124933 \nL 110.792545 73.124933 \nL 110.792545 80.890647 \nL 101.22683 80.890647 \nL 101.22683 73.124933 \n\" style=\"fill:#d62449;\"/>\n    <path clip-path=\"url(#pf4708f123d)\" d=\"M 110.792545 73.124933 \nL 120.358259 73.124933 \nL 120.358259 80.890647 \nL 110.792545 80.890647 \nL 110.792545 73.124933 \n\" style=\"fill:#d2204c;\"/>\n    <path clip-path=\"url(#pf4708f123d)\" d=\"M 120.358259 73.124933 \nL 129.923973 73.124933 \nL 129.923973 80.890647 \nL 120.358259 80.890647 \nL 120.358259 73.124933 \n\" style=\"fill:#de2e44;\"/>\n    <path clip-path=\"url(#pf4708f123d)\" d=\"M 129.923973 73.124933 \nL 139.489688 73.124933 \nL 139.489688 80.890647 \nL 129.923973 80.890647 \nL 129.923973 73.124933 \n\" style=\"fill:#f26747;\"/>\n    <path clip-path=\"url(#pf4708f123d)\" d=\"M 139.489688 73.124933 \nL 149.055402 73.124933 \nL 149.055402 80.890647 \nL 139.489688 80.890647 \nL 139.489688 73.124933 \n\" style=\"fill:#ec4c3e;\"/>\n    <path clip-path=\"url(#pf4708f123d)\" d=\"M 149.055402 73.124933 \nL 158.621116 73.124933 \nL 158.621116 80.890647 \nL 149.055402 80.890647 \nL 149.055402 73.124933 \n\" style=\"fill:#faebdd;\"/>\n    <path clip-path=\"url(#pf4708f123d)\" d=\"M 158.621116 73.124933 \nL 168.18683 73.124933 \nL 168.18683 80.890647 \nL 158.621116 80.890647 \nL 158.621116 73.124933 \n\" style=\"fill:#b51657;\"/>\n    <path clip-path=\"url(#pf4708f123d)\" d=\"M 168.18683 73.124933 \nL 177.752545 73.124933 \nL 177.752545 80.890647 \nL 168.18683 80.890647 \nL 168.18683 73.124933 \n\" style=\"fill:#b01759;\"/>\n    <path clip-path=\"url(#pf4708f123d)\" d=\"M 177.752545 73.124933 \nL 187.318259 73.124933 \nL 187.318259 80.890647 \nL 177.752545 80.890647 \nL 177.752545 73.124933 \n\" style=\"fill:#c11754;\"/>\n    <path clip-path=\"url(#pf4708f123d)\" d=\"M 187.318259 73.124933 \nL 196.883973 73.124933 \nL 196.883973 80.890647 \nL 187.318259 80.890647 \nL 187.318259 73.124933 \n\" style=\"fill:#c51852;\"/>\n    <path clip-path=\"url(#pf4708f123d)\" d=\"M 196.883973 73.124933 \nL 206.449688 73.124933 \nL 206.449688 80.890647 \nL 196.883973 80.890647 \nL 196.883973 73.124933 \n\" style=\"fill:#bc1656;\"/>\n    <path clip-path=\"url(#pf4708f123d)\" d=\"M 206.449688 73.124933 \nL 216.015402 73.124933 \nL 216.015402 80.890647 \nL 206.449688 80.890647 \nL 206.449688 73.124933 \n\" style=\"fill:#e8403e;\"/>\n    <path clip-path=\"url(#pf4708f123d)\" d=\"M 216.015402 73.124933 \nL 225.581116 73.124933 \nL 225.581116 80.890647 \nL 216.015402 80.890647 \nL 216.015402 73.124933 \n\" style=\"fill:#8b1d5b;\"/>\n    <path clip-path=\"url(#pf4708f123d)\" d=\"M 225.581116 73.124933 \nL 235.14683 73.124933 \nL 235.14683 80.890647 \nL 225.581116 80.890647 \nL 225.581116 73.124933 \n\" style=\"fill:#9c1b5b;\"/>\n    <path clip-path=\"url(#pf4708f123d)\" d=\"M 235.14683 73.124933 \nL 244.712545 73.124933 \nL 244.712545 80.890647 \nL 235.14683 80.890647 \nL 235.14683 73.124933 \n\" style=\"fill:#931c5b;\"/>\n    <path clip-path=\"url(#pf4708f123d)\" d=\"M 244.712545 73.124933 \nL 254.278259 73.124933 \nL 254.278259 80.890647 \nL 244.712545 80.890647 \nL 244.712545 73.124933 \n\" style=\"fill:#ca1a50;\"/>\n    <path clip-path=\"url(#pf4708f123d)\" d=\"M 254.278259 73.124933 \nL 263.843973 73.124933 \nL 263.843973 80.890647 \nL 254.278259 80.890647 \nL 254.278259 73.124933 \n\" style=\"fill:#dd2c45;\"/>\n    <path clip-path=\"url(#pf4708f123d)\" d=\"M 263.843973 73.124933 \nL 273.409688 73.124933 \nL 273.409688 80.890647 \nL 263.843973 80.890647 \nL 263.843973 73.124933 \n\" style=\"fill:#9e1a5b;\"/>\n    <path clip-path=\"url(#pf4708f123d)\" d=\"M 273.409688 73.124933 \nL 282.975402 73.124933 \nL 282.975402 80.890647 \nL 273.409688 80.890647 \nL 273.409688 73.124933 \n\" style=\"fill:#c21753;\"/>\n    <path clip-path=\"url(#pf4708f123d)\" d=\"M 282.975402 73.124933 \nL 292.541116 73.124933 \nL 292.541116 80.890647 \nL 282.975402 80.890647 \nL 282.975402 73.124933 \n\" style=\"fill:#b51657;\"/>\n    <path clip-path=\"url(#pf4708f123d)\" d=\"M 292.541116 73.124933 \nL 302.10683 73.124933 \nL 302.10683 80.890647 \nL 292.541116 80.890647 \nL 292.541116 73.124933 \n\" style=\"fill:#db2946;\"/>\n    <path clip-path=\"url(#pf4708f123d)\" d=\"M 302.10683 73.124933 \nL 311.672545 73.124933 \nL 311.672545 80.890647 \nL 302.10683 80.890647 \nL 302.10683 73.124933 \n\" style=\"fill:#cd1c4e;\"/>\n    <path clip-path=\"url(#pf4708f123d)\" d=\"M 311.672545 73.124933 \nL 321.238259 73.124933 \nL 321.238259 80.890647 \nL 311.672545 80.890647 \nL 311.672545 73.124933 \n\" style=\"fill:#cb1b4f;\"/>\n    <path clip-path=\"url(#pf4708f123d)\" d=\"M 321.238259 73.124933 \nL 330.803973 73.124933 \nL 330.803973 80.890647 \nL 321.238259 80.890647 \nL 321.238259 73.124933 \n\" style=\"fill:#c41753;\"/>\n    <path clip-path=\"url(#pf4708f123d)\" d=\"M 330.803973 73.124933 \nL 340.369688 73.124933 \nL 340.369688 80.890647 \nL 330.803973 80.890647 \nL 330.803973 73.124933 \n\" style=\"fill:#c21753;\"/>\n    <path clip-path=\"url(#pf4708f123d)\" d=\"M 72.529688 80.890647 \nL 82.095402 80.890647 \nL 82.095402 88.656362 \nL 72.529688 88.656362 \nL 72.529688 80.890647 \n\" style=\"fill:#f16445;\"/>\n    <path clip-path=\"url(#pf4708f123d)\" d=\"M 82.095402 80.890647 \nL 91.661116 80.890647 \nL 91.661116 88.656362 \nL 82.095402 88.656362 \nL 82.095402 80.890647 \n\" style=\"fill:#f58d64;\"/>\n    <path clip-path=\"url(#pf4708f123d)\" d=\"M 91.661116 80.890647 \nL 101.22683 80.890647 \nL 101.22683 88.656362 \nL 91.661116 88.656362 \nL 91.661116 80.890647 \n\" style=\"fill:#a6195a;\"/>\n    <path clip-path=\"url(#pf4708f123d)\" d=\"M 101.22683 80.890647 \nL 110.792545 80.890647 \nL 110.792545 88.656362 \nL 101.22683 88.656362 \nL 101.22683 80.890647 \n\" style=\"fill:#f8dac5;\"/>\n    <path clip-path=\"url(#pf4708f123d)\" d=\"M 110.792545 80.890647 \nL 120.358259 80.890647 \nL 120.358259 88.656362 \nL 110.792545 88.656362 \nL 110.792545 80.890647 \n\" style=\"fill:#f7ccaf;\"/>\n    <path clip-path=\"url(#pf4708f123d)\" d=\"M 120.358259 80.890647 \nL 129.923973 80.890647 \nL 129.923973 88.656362 \nL 120.358259 88.656362 \nL 120.358259 80.890647 \n\" style=\"fill:#f58860;\"/>\n    <path clip-path=\"url(#pf4708f123d)\" d=\"M 129.923973 80.890647 \nL 139.489688 80.890647 \nL 139.489688 88.656362 \nL 129.923973 88.656362 \nL 129.923973 80.890647 \n\" style=\"fill:#df2f44;\"/>\n    <path clip-path=\"url(#pf4708f123d)\" d=\"M 139.489688 80.890647 \nL 149.055402 80.890647 \nL 149.055402 88.656362 \nL 139.489688 88.656362 \nL 139.489688 80.890647 \n\" style=\"fill:#e13342;\"/>\n    <path clip-path=\"url(#pf4708f123d)\" d=\"M 149.055402 80.890647 \nL 158.621116 80.890647 \nL 158.621116 88.656362 \nL 149.055402 88.656362 \nL 149.055402 80.890647 \n\" style=\"fill:#b51657;\"/>\n    <path clip-path=\"url(#pf4708f123d)\" d=\"M 158.621116 80.890647 \nL 168.18683 80.890647 \nL 168.18683 88.656362 \nL 158.621116 88.656362 \nL 158.621116 80.890647 \n\" style=\"fill:#faebdd;\"/>\n    <path clip-path=\"url(#pf4708f123d)\" d=\"M 168.18683 80.890647 \nL 177.752545 80.890647 \nL 177.752545 88.656362 \nL 168.18683 88.656362 \nL 168.18683 80.890647 \n\" style=\"fill:#fae8d8;\"/>\n    <path clip-path=\"url(#pf4708f123d)\" d=\"M 177.752545 80.890647 \nL 187.318259 80.890647 \nL 187.318259 88.656362 \nL 177.752545 88.656362 \nL 177.752545 80.890647 \n\" style=\"fill:#f37450;\"/>\n    <path clip-path=\"url(#pf4708f123d)\" d=\"M 187.318259 80.890647 \nL 196.883973 80.890647 \nL 196.883973 88.656362 \nL 187.318259 88.656362 \nL 187.318259 80.890647 \n\" style=\"fill:#f6bb97;\"/>\n    <path clip-path=\"url(#pf4708f123d)\" d=\"M 196.883973 80.890647 \nL 206.449688 80.890647 \nL 206.449688 88.656362 \nL 196.883973 88.656362 \nL 196.883973 80.890647 \n\" style=\"fill:#f7c4a4;\"/>\n    <path clip-path=\"url(#pf4708f123d)\" d=\"M 206.449688 80.890647 \nL 216.015402 80.890647 \nL 216.015402 88.656362 \nL 206.449688 88.656362 \nL 206.449688 80.890647 \n\" style=\"fill:#ce1d4e;\"/>\n    <path clip-path=\"url(#pf4708f123d)\" d=\"M 216.015402 80.890647 \nL 225.581116 80.890647 \nL 225.581116 88.656362 \nL 216.015402 88.656362 \nL 216.015402 80.890647 \n\" style=\"fill:#f37852;\"/>\n    <path clip-path=\"url(#pf4708f123d)\" d=\"M 225.581116 80.890647 \nL 235.14683 80.890647 \nL 235.14683 88.656362 \nL 225.581116 88.656362 \nL 225.581116 80.890647 \n\" style=\"fill:#f6b18b;\"/>\n    <path clip-path=\"url(#pf4708f123d)\" d=\"M 235.14683 80.890647 \nL 244.712545 80.890647 \nL 244.712545 88.656362 \nL 235.14683 88.656362 \nL 235.14683 80.890647 \n\" style=\"fill:#f6ae87;\"/>\n    <path clip-path=\"url(#pf4708f123d)\" d=\"M 244.712545 80.890647 \nL 254.278259 80.890647 \nL 254.278259 88.656362 \nL 244.712545 88.656362 \nL 244.712545 80.890647 \n\" style=\"fill:#f4865e;\"/>\n    <path clip-path=\"url(#pf4708f123d)\" d=\"M 254.278259 80.890647 \nL 263.843973 80.890647 \nL 263.843973 88.656362 \nL 254.278259 88.656362 \nL 254.278259 80.890647 \n\" style=\"fill:#f37450;\"/>\n    <path clip-path=\"url(#pf4708f123d)\" d=\"M 263.843973 80.890647 \nL 273.409688 80.890647 \nL 273.409688 88.656362 \nL 263.843973 88.656362 \nL 263.843973 80.890647 \n\" style=\"fill:#ef5a41;\"/>\n    <path clip-path=\"url(#pf4708f123d)\" d=\"M 273.409688 80.890647 \nL 282.975402 80.890647 \nL 282.975402 88.656362 \nL 273.409688 88.656362 \nL 273.409688 80.890647 \n\" style=\"fill:#f6b18b;\"/>\n    <path clip-path=\"url(#pf4708f123d)\" d=\"M 282.975402 80.890647 \nL 292.541116 80.890647 \nL 292.541116 88.656362 \nL 282.975402 88.656362 \nL 282.975402 80.890647 \n\" style=\"fill:#f26747;\"/>\n    <path clip-path=\"url(#pf4708f123d)\" d=\"M 292.541116 80.890647 \nL 302.10683 80.890647 \nL 302.10683 88.656362 \nL 292.541116 88.656362 \nL 292.541116 80.890647 \n\" style=\"fill:#f7cfb3;\"/>\n    <path clip-path=\"url(#pf4708f123d)\" d=\"M 302.10683 80.890647 \nL 311.672545 80.890647 \nL 311.672545 88.656362 \nL 302.10683 88.656362 \nL 302.10683 80.890647 \n\" style=\"fill:#aa185a;\"/>\n    <path clip-path=\"url(#pf4708f123d)\" d=\"M 311.672545 80.890647 \nL 321.238259 80.890647 \nL 321.238259 88.656362 \nL 311.672545 88.656362 \nL 311.672545 80.890647 \n\" style=\"fill:#f58d64;\"/>\n    <path clip-path=\"url(#pf4708f123d)\" d=\"M 321.238259 80.890647 \nL 330.803973 80.890647 \nL 330.803973 88.656362 \nL 321.238259 88.656362 \nL 321.238259 80.890647 \n\" style=\"fill:#f6a37a;\"/>\n    <path clip-path=\"url(#pf4708f123d)\" d=\"M 330.803973 80.890647 \nL 340.369688 80.890647 \nL 340.369688 88.656362 \nL 330.803973 88.656362 \nL 330.803973 80.890647 \n\" style=\"fill:#421b45;\"/>\n    <path clip-path=\"url(#pf4708f123d)\" d=\"M 72.529688 88.656362 \nL 82.095402 88.656362 \nL 82.095402 96.422076 \nL 72.529688 96.422076 \nL 72.529688 88.656362 \n\" style=\"fill:#f05e42;\"/>\n    <path clip-path=\"url(#pf4708f123d)\" d=\"M 82.095402 88.656362 \nL 91.661116 88.656362 \nL 91.661116 96.422076 \nL 82.095402 96.422076 \nL 82.095402 88.656362 \n\" style=\"fill:#f58a61;\"/>\n    <path clip-path=\"url(#pf4708f123d)\" d=\"M 91.661116 88.656362 \nL 101.22683 88.656362 \nL 101.22683 96.422076 \nL 91.661116 96.422076 \nL 91.661116 88.656362 \n\" style=\"fill:#ad1759;\"/>\n    <path clip-path=\"url(#pf4708f123d)\" d=\"M 101.22683 88.656362 \nL 110.792545 88.656362 \nL 110.792545 96.422076 \nL 101.22683 96.422076 \nL 101.22683 88.656362 \n\" style=\"fill:#f8d7c0;\"/>\n    <path clip-path=\"url(#pf4708f123d)\" d=\"M 110.792545 88.656362 \nL 120.358259 88.656362 \nL 120.358259 96.422076 \nL 110.792545 96.422076 \nL 110.792545 88.656362 \n\" style=\"fill:#f7d0b5;\"/>\n    <path clip-path=\"url(#pf4708f123d)\" d=\"M 120.358259 88.656362 \nL 129.923973 88.656362 \nL 129.923973 96.422076 \nL 120.358259 96.422076 \nL 120.358259 88.656362 \n\" style=\"fill:#f26948;\"/>\n    <path clip-path=\"url(#pf4708f123d)\" d=\"M 129.923973 88.656362 \nL 139.489688 88.656362 \nL 139.489688 96.422076 \nL 129.923973 96.422076 \nL 129.923973 88.656362 \n\" style=\"fill:#e03143;\"/>\n    <path clip-path=\"url(#pf4708f123d)\" d=\"M 139.489688 88.656362 \nL 149.055402 88.656362 \nL 149.055402 96.422076 \nL 139.489688 96.422076 \nL 139.489688 88.656362 \n\" style=\"fill:#e43841;\"/>\n    <path clip-path=\"url(#pf4708f123d)\" d=\"M 149.055402 88.656362 \nL 158.621116 88.656362 \nL 158.621116 96.422076 \nL 149.055402 96.422076 \nL 149.055402 88.656362 \n\" style=\"fill:#b01759;\"/>\n    <path clip-path=\"url(#pf4708f123d)\" d=\"M 158.621116 88.656362 \nL 168.18683 88.656362 \nL 168.18683 96.422076 \nL 158.621116 96.422076 \nL 158.621116 88.656362 \n\" style=\"fill:#fae8d8;\"/>\n    <path clip-path=\"url(#pf4708f123d)\" d=\"M 168.18683 88.656362 \nL 177.752545 88.656362 \nL 177.752545 96.422076 \nL 168.18683 96.422076 \nL 168.18683 88.656362 \n\" style=\"fill:#faebdd;\"/>\n    <path clip-path=\"url(#pf4708f123d)\" d=\"M 177.752545 88.656362 \nL 187.318259 88.656362 \nL 187.318259 96.422076 \nL 177.752545 96.422076 \nL 177.752545 88.656362 \n\" style=\"fill:#ed4e3e;\"/>\n    <path clip-path=\"url(#pf4708f123d)\" d=\"M 187.318259 88.656362 \nL 196.883973 88.656362 \nL 196.883973 96.422076 \nL 187.318259 96.422076 \nL 187.318259 88.656362 \n\" style=\"fill:#f6bc99;\"/>\n    <path clip-path=\"url(#pf4708f123d)\" d=\"M 196.883973 88.656362 \nL 206.449688 88.656362 \nL 206.449688 96.422076 \nL 196.883973 96.422076 \nL 196.883973 88.656362 \n\" style=\"fill:#f7c2a2;\"/>\n    <path clip-path=\"url(#pf4708f123d)\" d=\"M 206.449688 88.656362 \nL 216.015402 88.656362 \nL 216.015402 96.422076 \nL 206.449688 96.422076 \nL 206.449688 88.656362 \n\" style=\"fill:#d62449;\"/>\n    <path clip-path=\"url(#pf4708f123d)\" d=\"M 216.015402 88.656362 \nL 225.581116 88.656362 \nL 225.581116 96.422076 \nL 216.015402 96.422076 \nL 216.015402 88.656362 \n\" style=\"fill:#f26747;\"/>\n    <path clip-path=\"url(#pf4708f123d)\" d=\"M 225.581116 88.656362 \nL 235.14683 88.656362 \nL 235.14683 96.422076 \nL 225.581116 96.422076 \nL 225.581116 88.656362 \n\" style=\"fill:#f6a880;\"/>\n    <path clip-path=\"url(#pf4708f123d)\" d=\"M 235.14683 88.656362 \nL 244.712545 88.656362 \nL 244.712545 96.422076 \nL 235.14683 96.422076 \nL 235.14683 88.656362 \n\" style=\"fill:#f6a178;\"/>\n    <path clip-path=\"url(#pf4708f123d)\" d=\"M 244.712545 88.656362 \nL 254.278259 88.656362 \nL 254.278259 96.422076 \nL 244.712545 96.422076 \nL 244.712545 88.656362 \n\" style=\"fill:#f58f66;\"/>\n    <path clip-path=\"url(#pf4708f123d)\" d=\"M 254.278259 88.656362 \nL 263.843973 88.656362 \nL 263.843973 96.422076 \nL 254.278259 96.422076 \nL 254.278259 88.656362 \n\" style=\"fill:#f47a54;\"/>\n    <path clip-path=\"url(#pf4708f123d)\" d=\"M 263.843973 88.656362 \nL 273.409688 88.656362 \nL 273.409688 96.422076 \nL 263.843973 96.422076 \nL 263.843973 88.656362 \n\" style=\"fill:#eb483e;\"/>\n    <path clip-path=\"url(#pf4708f123d)\" d=\"M 273.409688 88.656362 \nL 282.975402 88.656362 \nL 282.975402 96.422076 \nL 273.409688 96.422076 \nL 273.409688 88.656362 \n\" style=\"fill:#f6b691;\"/>\n    <path clip-path=\"url(#pf4708f123d)\" d=\"M 282.975402 88.656362 \nL 292.541116 88.656362 \nL 292.541116 96.422076 \nL 282.975402 96.422076 \nL 282.975402 88.656362 \n\" style=\"fill:#f16445;\"/>\n    <path clip-path=\"url(#pf4708f123d)\" d=\"M 292.541116 88.656362 \nL 302.10683 88.656362 \nL 302.10683 96.422076 \nL 292.541116 96.422076 \nL 292.541116 88.656362 \n\" style=\"fill:#f7cdb1;\"/>\n    <path clip-path=\"url(#pf4708f123d)\" d=\"M 302.10683 88.656362 \nL 311.672545 88.656362 \nL 311.672545 96.422076 \nL 302.10683 96.422076 \nL 302.10683 88.656362 \n\" style=\"fill:#a6195a;\"/>\n    <path clip-path=\"url(#pf4708f123d)\" d=\"M 311.672545 88.656362 \nL 321.238259 88.656362 \nL 321.238259 96.422076 \nL 311.672545 96.422076 \nL 311.672545 88.656362 \n\" style=\"fill:#f58a61;\"/>\n    <path clip-path=\"url(#pf4708f123d)\" d=\"M 321.238259 88.656362 \nL 330.803973 88.656362 \nL 330.803973 96.422076 \nL 321.238259 96.422076 \nL 321.238259 88.656362 \n\" style=\"fill:#f6a178;\"/>\n    <path clip-path=\"url(#pf4708f123d)\" d=\"M 330.803973 88.656362 \nL 340.369688 88.656362 \nL 340.369688 96.422076 \nL 330.803973 96.422076 \nL 330.803973 88.656362 \n\" style=\"fill:#451c47;\"/>\n    <path clip-path=\"url(#pf4708f123d)\" d=\"M 72.529688 96.422076 \nL 82.095402 96.422076 \nL 82.095402 104.18779 \nL 72.529688 104.18779 \nL 72.529688 96.422076 \n\" style=\"fill:#ec4a3e;\"/>\n    <path clip-path=\"url(#pf4708f123d)\" d=\"M 82.095402 96.422076 \nL 91.661116 96.422076 \nL 91.661116 104.18779 \nL 82.095402 104.18779 \nL 82.095402 96.422076 \n\" style=\"fill:#ee523f;\"/>\n    <path clip-path=\"url(#pf4708f123d)\" d=\"M 91.661116 96.422076 \nL 101.22683 96.422076 \nL 101.22683 104.18779 \nL 91.661116 104.18779 \nL 91.661116 96.422076 \n\" style=\"fill:#af1759;\"/>\n    <path clip-path=\"url(#pf4708f123d)\" d=\"M 101.22683 96.422076 \nL 110.792545 96.422076 \nL 110.792545 104.18779 \nL 101.22683 104.18779 \nL 101.22683 96.422076 \n\" style=\"fill:#f26b49;\"/>\n    <path clip-path=\"url(#pf4708f123d)\" d=\"M 110.792545 96.422076 \nL 120.358259 96.422076 \nL 120.358259 104.18779 \nL 110.792545 104.18779 \nL 110.792545 96.422076 \n\" style=\"fill:#e9423e;\"/>\n    <path clip-path=\"url(#pf4708f123d)\" d=\"M 120.358259 96.422076 \nL 129.923973 96.422076 \nL 129.923973 104.18779 \nL 120.358259 104.18779 \nL 120.358259 96.422076 \n\" style=\"fill:#f7c2a2;\"/>\n    <path clip-path=\"url(#pf4708f123d)\" d=\"M 129.923973 96.422076 \nL 139.489688 96.422076 \nL 139.489688 104.18779 \nL 129.923973 104.18779 \nL 129.923973 96.422076 \n\" style=\"fill:#d11f4c;\"/>\n    <path clip-path=\"url(#pf4708f123d)\" d=\"M 139.489688 96.422076 \nL 149.055402 96.422076 \nL 149.055402 104.18779 \nL 139.489688 104.18779 \nL 139.489688 96.422076 \n\" style=\"fill:#ce1d4e;\"/>\n    <path clip-path=\"url(#pf4708f123d)\" d=\"M 149.055402 96.422076 \nL 158.621116 96.422076 \nL 158.621116 104.18779 \nL 149.055402 104.18779 \nL 149.055402 96.422076 \n\" style=\"fill:#c11754;\"/>\n    <path clip-path=\"url(#pf4708f123d)\" d=\"M 158.621116 96.422076 \nL 168.18683 96.422076 \nL 168.18683 104.18779 \nL 158.621116 104.18779 \nL 158.621116 96.422076 \n\" style=\"fill:#f37450;\"/>\n    <path clip-path=\"url(#pf4708f123d)\" d=\"M 168.18683 96.422076 \nL 177.752545 96.422076 \nL 177.752545 104.18779 \nL 168.18683 104.18779 \nL 168.18683 96.422076 \n\" style=\"fill:#ed4e3e;\"/>\n    <path clip-path=\"url(#pf4708f123d)\" d=\"M 177.752545 96.422076 \nL 187.318259 96.422076 \nL 187.318259 104.18779 \nL 177.752545 104.18779 \nL 177.752545 96.422076 \n\" style=\"fill:#faebdd;\"/>\n    <path clip-path=\"url(#pf4708f123d)\" d=\"M 187.318259 96.422076 \nL 196.883973 96.422076 \nL 196.883973 104.18779 \nL 187.318259 104.18779 \nL 187.318259 96.422076 \n\" style=\"fill:#e83f3f;\"/>\n    <path clip-path=\"url(#pf4708f123d)\" d=\"M 196.883973 96.422076 \nL 206.449688 96.422076 \nL 206.449688 104.18779 \nL 196.883973 104.18779 \nL 196.883973 96.422076 \n\" style=\"fill:#ec4a3e;\"/>\n    <path clip-path=\"url(#pf4708f123d)\" d=\"M 206.449688 96.422076 \nL 216.015402 96.422076 \nL 216.015402 104.18779 \nL 206.449688 104.18779 \nL 206.449688 96.422076 \n\" style=\"fill:#a11a5b;\"/>\n    <path clip-path=\"url(#pf4708f123d)\" d=\"M 216.015402 96.422076 \nL 225.581116 96.422076 \nL 225.581116 104.18779 \nL 216.015402 104.18779 \nL 216.015402 96.422076 \n\" style=\"fill:#f26d4b;\"/>\n    <path clip-path=\"url(#pf4708f123d)\" d=\"M 225.581116 96.422076 \nL 235.14683 96.422076 \nL 235.14683 104.18779 \nL 225.581116 104.18779 \nL 225.581116 96.422076 \n\" style=\"fill:#f47c55;\"/>\n    <path clip-path=\"url(#pf4708f123d)\" d=\"M 235.14683 96.422076 \nL 244.712545 96.422076 \nL 244.712545 104.18779 \nL 235.14683 104.18779 \nL 235.14683 96.422076 \n\" style=\"fill:#f4815a;\"/>\n    <path clip-path=\"url(#pf4708f123d)\" d=\"M 244.712545 96.422076 \nL 254.278259 96.422076 \nL 254.278259 104.18779 \nL 244.712545 104.18779 \nL 244.712545 96.422076 \n\" style=\"fill:#d82748;\"/>\n    <path clip-path=\"url(#pf4708f123d)\" d=\"M 254.278259 96.422076 \nL 263.843973 96.422076 \nL 263.843973 104.18779 \nL 254.278259 104.18779 \nL 254.278259 96.422076 \n\" style=\"fill:#de2e44;\"/>\n    <path clip-path=\"url(#pf4708f123d)\" d=\"M 263.843973 96.422076 \nL 273.409688 96.422076 \nL 273.409688 104.18779 \nL 263.843973 104.18779 \nL 263.843973 96.422076 \n\" style=\"fill:#f16244;\"/>\n    <path clip-path=\"url(#pf4708f123d)\" d=\"M 273.409688 96.422076 \nL 282.975402 96.422076 \nL 282.975402 104.18779 \nL 273.409688 104.18779 \nL 273.409688 96.422076 \n\" style=\"fill:#e63b40;\"/>\n    <path clip-path=\"url(#pf4708f123d)\" d=\"M 282.975402 96.422076 \nL 292.541116 96.422076 \nL 292.541116 104.18779 \nL 282.975402 104.18779 \nL 282.975402 96.422076 \n\" style=\"fill:#e8403e;\"/>\n    <path clip-path=\"url(#pf4708f123d)\" d=\"M 292.541116 96.422076 \nL 302.10683 96.422076 \nL 302.10683 104.18779 \nL 292.541116 104.18779 \nL 292.541116 96.422076 \n\" style=\"fill:#f05e42;\"/>\n    <path clip-path=\"url(#pf4708f123d)\" d=\"M 302.10683 96.422076 \nL 311.672545 96.422076 \nL 311.672545 104.18779 \nL 302.10683 104.18779 \nL 302.10683 96.422076 \n\" style=\"fill:#cd1c4e;\"/>\n    <path clip-path=\"url(#pf4708f123d)\" d=\"M 311.672545 96.422076 \nL 321.238259 96.422076 \nL 321.238259 104.18779 \nL 311.672545 104.18779 \nL 311.672545 96.422076 \n\" style=\"fill:#eb463e;\"/>\n    <path clip-path=\"url(#pf4708f123d)\" d=\"M 321.238259 96.422076 \nL 330.803973 96.422076 \nL 330.803973 104.18779 \nL 321.238259 104.18779 \nL 321.238259 96.422076 \n\" style=\"fill:#eb483e;\"/>\n    <path clip-path=\"url(#pf4708f123d)\" d=\"M 330.803973 96.422076 \nL 340.369688 96.422076 \nL 340.369688 104.18779 \nL 330.803973 104.18779 \nL 330.803973 96.422076 \n\" style=\"fill:#821e5a;\"/>\n    <path clip-path=\"url(#pf4708f123d)\" d=\"M 72.529688 104.18779 \nL 82.095402 104.18779 \nL 82.095402 111.953504 \nL 72.529688 111.953504 \nL 72.529688 104.18779 \n\" style=\"fill:#ed503e;\"/>\n    <path clip-path=\"url(#pf4708f123d)\" d=\"M 82.095402 104.18779 \nL 91.661116 104.18779 \nL 91.661116 111.953504 \nL 82.095402 111.953504 \nL 82.095402 104.18779 \n\" style=\"fill:#f47a54;\"/>\n    <path clip-path=\"url(#pf4708f123d)\" d=\"M 91.661116 104.18779 \nL 101.22683 104.18779 \nL 101.22683 111.953504 \nL 91.661116 111.953504 \nL 91.661116 104.18779 \n\" style=\"fill:#a6195a;\"/>\n    <path clip-path=\"url(#pf4708f123d)\" d=\"M 101.22683 104.18779 \nL 110.792545 104.18779 \nL 110.792545 111.953504 \nL 101.22683 111.953504 \nL 101.22683 104.18779 \n\" style=\"fill:#f6c19f;\"/>\n    <path clip-path=\"url(#pf4708f123d)\" d=\"M 110.792545 104.18779 \nL 120.358259 104.18779 \nL 120.358259 111.953504 \nL 110.792545 111.953504 \nL 110.792545 104.18779 \n\" style=\"fill:#f6bf9d;\"/>\n    <path clip-path=\"url(#pf4708f123d)\" d=\"M 120.358259 104.18779 \nL 129.923973 104.18779 \nL 129.923973 111.953504 \nL 120.358259 111.953504 \nL 120.358259 104.18779 \n\" style=\"fill:#e8403e;\"/>\n    <path clip-path=\"url(#pf4708f123d)\" d=\"M 129.923973 104.18779 \nL 139.489688 104.18779 \nL 139.489688 111.953504 \nL 129.923973 111.953504 \nL 129.923973 104.18779 \n\" style=\"fill:#f05e42;\"/>\n    <path clip-path=\"url(#pf4708f123d)\" d=\"M 139.489688 104.18779 \nL 149.055402 104.18779 \nL 149.055402 111.953504 \nL 139.489688 111.953504 \nL 139.489688 104.18779 \n\" style=\"fill:#f26747;\"/>\n    <path clip-path=\"url(#pf4708f123d)\" d=\"M 149.055402 104.18779 \nL 158.621116 104.18779 \nL 158.621116 111.953504 \nL 149.055402 111.953504 \nL 149.055402 104.18779 \n\" style=\"fill:#c51852;\"/>\n    <path clip-path=\"url(#pf4708f123d)\" d=\"M 158.621116 104.18779 \nL 168.18683 104.18779 \nL 168.18683 111.953504 \nL 158.621116 111.953504 \nL 158.621116 104.18779 \n\" style=\"fill:#f6bb97;\"/>\n    <path clip-path=\"url(#pf4708f123d)\" d=\"M 168.18683 104.18779 \nL 177.752545 104.18779 \nL 177.752545 111.953504 \nL 168.18683 111.953504 \nL 168.18683 104.18779 \n\" style=\"fill:#f6bc99;\"/>\n    <path clip-path=\"url(#pf4708f123d)\" d=\"M 177.752545 104.18779 \nL 187.318259 104.18779 \nL 187.318259 111.953504 \nL 177.752545 111.953504 \nL 177.752545 104.18779 \n\" style=\"fill:#e83f3f;\"/>\n    <path clip-path=\"url(#pf4708f123d)\" d=\"M 187.318259 104.18779 \nL 196.883973 104.18779 \nL 196.883973 111.953504 \nL 187.318259 111.953504 \nL 187.318259 104.18779 \n\" style=\"fill:#faebdd;\"/>\n    <path clip-path=\"url(#pf4708f123d)\" d=\"M 196.883973 104.18779 \nL 206.449688 104.18779 \nL 206.449688 111.953504 \nL 196.883973 111.953504 \nL 196.883973 104.18779 \n\" style=\"fill:#fae8d8;\"/>\n    <path clip-path=\"url(#pf4708f123d)\" d=\"M 206.449688 104.18779 \nL 216.015402 104.18779 \nL 216.015402 111.953504 \nL 206.449688 111.953504 \nL 206.449688 104.18779 \n\" style=\"fill:#ef5840;\"/>\n    <path clip-path=\"url(#pf4708f123d)\" d=\"M 216.015402 104.18779 \nL 225.581116 104.18779 \nL 225.581116 111.953504 \nL 216.015402 111.953504 \nL 216.015402 104.18779 \n\" style=\"fill:#e43841;\"/>\n    <path clip-path=\"url(#pf4708f123d)\" d=\"M 225.581116 104.18779 \nL 235.14683 104.18779 \nL 235.14683 111.953504 \nL 225.581116 111.953504 \nL 225.581116 104.18779 \n\" style=\"fill:#f59067;\"/>\n    <path clip-path=\"url(#pf4708f123d)\" d=\"M 235.14683 104.18779 \nL 244.712545 104.18779 \nL 244.712545 111.953504 \nL 235.14683 111.953504 \nL 235.14683 104.18779 \n\" style=\"fill:#f4835b;\"/>\n    <path clip-path=\"url(#pf4708f123d)\" d=\"M 244.712545 104.18779 \nL 254.278259 104.18779 \nL 254.278259 111.953504 \nL 244.712545 111.953504 \nL 244.712545 104.18779 \n\" style=\"fill:#f59067;\"/>\n    <path clip-path=\"url(#pf4708f123d)\" d=\"M 254.278259 104.18779 \nL 263.843973 104.18779 \nL 263.843973 111.953504 \nL 254.278259 111.953504 \nL 254.278259 104.18779 \n\" style=\"fill:#f26d4b;\"/>\n    <path clip-path=\"url(#pf4708f123d)\" d=\"M 263.843973 104.18779 \nL 273.409688 104.18779 \nL 273.409688 111.953504 \nL 263.843973 111.953504 \nL 263.843973 104.18779 \n\" style=\"fill:#e8403e;\"/>\n    <path clip-path=\"url(#pf4708f123d)\" d=\"M 273.409688 104.18779 \nL 282.975402 104.18779 \nL 282.975402 111.953504 \nL 273.409688 111.953504 \nL 273.409688 104.18779 \n\" style=\"fill:#f6b38d;\"/>\n    <path clip-path=\"url(#pf4708f123d)\" d=\"M 282.975402 104.18779 \nL 292.541116 104.18779 \nL 292.541116 111.953504 \nL 282.975402 111.953504 \nL 282.975402 104.18779 \n\" style=\"fill:#f16244;\"/>\n    <path clip-path=\"url(#pf4708f123d)\" d=\"M 292.541116 104.18779 \nL 302.10683 104.18779 \nL 302.10683 111.953504 \nL 292.541116 111.953504 \nL 292.541116 104.18779 \n\" style=\"fill:#f7d0b5;\"/>\n    <path clip-path=\"url(#pf4708f123d)\" d=\"M 302.10683 104.18779 \nL 311.672545 104.18779 \nL 311.672545 111.953504 \nL 302.10683 111.953504 \nL 302.10683 104.18779 \n\" style=\"fill:#b91657;\"/>\n    <path clip-path=\"url(#pf4708f123d)\" d=\"M 311.672545 104.18779 \nL 321.238259 104.18779 \nL 321.238259 111.953504 \nL 311.672545 111.953504 \nL 311.672545 104.18779 \n\" style=\"fill:#f4865e;\"/>\n    <path clip-path=\"url(#pf4708f123d)\" d=\"M 321.238259 104.18779 \nL 330.803973 104.18779 \nL 330.803973 111.953504 \nL 321.238259 111.953504 \nL 321.238259 104.18779 \n\" style=\"fill:#f69b71;\"/>\n    <path clip-path=\"url(#pf4708f123d)\" d=\"M 330.803973 104.18779 \nL 340.369688 104.18779 \nL 340.369688 111.953504 \nL 330.803973 111.953504 \nL 330.803973 104.18779 \n\" style=\"fill:#4b1d4a;\"/>\n    <path clip-path=\"url(#pf4708f123d)\" d=\"M 72.529688 111.953504 \nL 82.095402 111.953504 \nL 82.095402 119.719219 \nL 72.529688 119.719219 \nL 72.529688 111.953504 \n\" style=\"fill:#ef5640;\"/>\n    <path clip-path=\"url(#pf4708f123d)\" d=\"M 82.095402 111.953504 \nL 91.661116 111.953504 \nL 91.661116 119.719219 \nL 82.095402 119.719219 \nL 82.095402 111.953504 \n\" style=\"fill:#f4815a;\"/>\n    <path clip-path=\"url(#pf4708f123d)\" d=\"M 91.661116 111.953504 \nL 101.22683 111.953504 \nL 101.22683 119.719219 \nL 91.661116 119.719219 \nL 91.661116 111.953504 \n\" style=\"fill:#a11a5b;\"/>\n    <path clip-path=\"url(#pf4708f123d)\" d=\"M 101.22683 111.953504 \nL 110.792545 111.953504 \nL 110.792545 119.719219 \nL 101.22683 119.719219 \nL 101.22683 111.953504 \n\" style=\"fill:#f7c2a2;\"/>\n    <path clip-path=\"url(#pf4708f123d)\" d=\"M 110.792545 111.953504 \nL 120.358259 111.953504 \nL 120.358259 119.719219 \nL 110.792545 119.719219 \nL 110.792545 111.953504 \n\" style=\"fill:#f6be9b;\"/>\n    <path clip-path=\"url(#pf4708f123d)\" d=\"M 120.358259 111.953504 \nL 129.923973 111.953504 \nL 129.923973 119.719219 \nL 120.358259 119.719219 \nL 120.358259 111.953504 \n\" style=\"fill:#ed503e;\"/>\n    <path clip-path=\"url(#pf4708f123d)\" d=\"M 129.923973 111.953504 \nL 139.489688 111.953504 \nL 139.489688 119.719219 \nL 129.923973 119.719219 \nL 129.923973 111.953504 \n\" style=\"fill:#ed4e3e;\"/>\n    <path clip-path=\"url(#pf4708f123d)\" d=\"M 139.489688 111.953504 \nL 149.055402 111.953504 \nL 149.055402 119.719219 \nL 139.489688 119.719219 \nL 139.489688 111.953504 \n\" style=\"fill:#ef5640;\"/>\n    <path clip-path=\"url(#pf4708f123d)\" d=\"M 149.055402 111.953504 \nL 158.621116 111.953504 \nL 158.621116 119.719219 \nL 149.055402 119.719219 \nL 149.055402 111.953504 \n\" style=\"fill:#bc1656;\"/>\n    <path clip-path=\"url(#pf4708f123d)\" d=\"M 158.621116 111.953504 \nL 168.18683 111.953504 \nL 168.18683 119.719219 \nL 158.621116 119.719219 \nL 158.621116 111.953504 \n\" style=\"fill:#f7c4a4;\"/>\n    <path clip-path=\"url(#pf4708f123d)\" d=\"M 168.18683 111.953504 \nL 177.752545 111.953504 \nL 177.752545 119.719219 \nL 168.18683 119.719219 \nL 168.18683 111.953504 \n\" style=\"fill:#f7c2a2;\"/>\n    <path clip-path=\"url(#pf4708f123d)\" d=\"M 177.752545 111.953504 \nL 187.318259 111.953504 \nL 187.318259 119.719219 \nL 177.752545 119.719219 \nL 177.752545 111.953504 \n\" style=\"fill:#ec4a3e;\"/>\n    <path clip-path=\"url(#pf4708f123d)\" d=\"M 187.318259 111.953504 \nL 196.883973 111.953504 \nL 196.883973 119.719219 \nL 187.318259 119.719219 \nL 187.318259 111.953504 \n\" style=\"fill:#fae8d8;\"/>\n    <path clip-path=\"url(#pf4708f123d)\" d=\"M 196.883973 111.953504 \nL 206.449688 111.953504 \nL 206.449688 119.719219 \nL 196.883973 119.719219 \nL 196.883973 111.953504 \n\" style=\"fill:#faebdd;\"/>\n    <path clip-path=\"url(#pf4708f123d)\" d=\"M 206.449688 111.953504 \nL 216.015402 111.953504 \nL 216.015402 119.719219 \nL 206.449688 119.719219 \nL 206.449688 111.953504 \n\" style=\"fill:#e23442;\"/>\n    <path clip-path=\"url(#pf4708f123d)\" d=\"M 216.015402 111.953504 \nL 225.581116 111.953504 \nL 225.581116 119.719219 \nL 216.015402 119.719219 \nL 216.015402 111.953504 \n\" style=\"fill:#ed503e;\"/>\n    <path clip-path=\"url(#pf4708f123d)\" d=\"M 225.581116 111.953504 \nL 235.14683 111.953504 \nL 235.14683 119.719219 \nL 225.581116 119.719219 \nL 225.581116 111.953504 \n\" style=\"fill:#f6a37a;\"/>\n    <path clip-path=\"url(#pf4708f123d)\" d=\"M 235.14683 111.953504 \nL 244.712545 111.953504 \nL 244.712545 119.719219 \nL 235.14683 119.719219 \nL 235.14683 111.953504 \n\" style=\"fill:#f5976e;\"/>\n    <path clip-path=\"url(#pf4708f123d)\" d=\"M 244.712545 111.953504 \nL 254.278259 111.953504 \nL 254.278259 119.719219 \nL 244.712545 119.719219 \nL 244.712545 111.953504 \n\" style=\"fill:#f58f66;\"/>\n    <path clip-path=\"url(#pf4708f123d)\" d=\"M 254.278259 111.953504 \nL 263.843973 111.953504 \nL 263.843973 119.719219 \nL 254.278259 119.719219 \nL 254.278259 111.953504 \n\" style=\"fill:#f26f4c;\"/>\n    <path clip-path=\"url(#pf4708f123d)\" d=\"M 263.843973 111.953504 \nL 273.409688 111.953504 \nL 273.409688 119.719219 \nL 263.843973 119.719219 \nL 263.843973 111.953504 \n\" style=\"fill:#ee523f;\"/>\n    <path clip-path=\"url(#pf4708f123d)\" d=\"M 273.409688 111.953504 \nL 282.975402 111.953504 \nL 282.975402 119.719219 \nL 273.409688 119.719219 \nL 273.409688 111.953504 \n\" style=\"fill:#f6b691;\"/>\n    <path clip-path=\"url(#pf4708f123d)\" d=\"M 282.975402 111.953504 \nL 292.541116 111.953504 \nL 292.541116 119.719219 \nL 282.975402 119.719219 \nL 282.975402 111.953504 \n\" style=\"fill:#f26b49;\"/>\n    <path clip-path=\"url(#pf4708f123d)\" d=\"M 292.541116 111.953504 \nL 302.10683 111.953504 \nL 302.10683 119.719219 \nL 292.541116 119.719219 \nL 292.541116 111.953504 \n\" style=\"fill:#f7cdb1;\"/>\n    <path clip-path=\"url(#pf4708f123d)\" d=\"M 302.10683 111.953504 \nL 311.672545 111.953504 \nL 311.672545 119.719219 \nL 302.10683 119.719219 \nL 302.10683 111.953504 \n\" style=\"fill:#b21758;\"/>\n    <path clip-path=\"url(#pf4708f123d)\" d=\"M 311.672545 111.953504 \nL 321.238259 111.953504 \nL 321.238259 119.719219 \nL 311.672545 119.719219 \nL 311.672545 111.953504 \n\" style=\"fill:#f58d64;\"/>\n    <path clip-path=\"url(#pf4708f123d)\" d=\"M 321.238259 111.953504 \nL 330.803973 111.953504 \nL 330.803973 119.719219 \nL 321.238259 119.719219 \nL 321.238259 111.953504 \n\" style=\"fill:#f69c73;\"/>\n    <path clip-path=\"url(#pf4708f123d)\" d=\"M 330.803973 111.953504 \nL 340.369688 111.953504 \nL 340.369688 119.719219 \nL 330.803973 119.719219 \nL 330.803973 111.953504 \n\" style=\"fill:#461c48;\"/>\n    <path clip-path=\"url(#pf4708f123d)\" d=\"M 72.529688 119.719219 \nL 82.095402 119.719219 \nL 82.095402 127.484933 \nL 72.529688 127.484933 \nL 72.529688 119.719219 \n\" style=\"fill:#c71951;\"/>\n    <path clip-path=\"url(#pf4708f123d)\" d=\"M 82.095402 119.719219 \nL 91.661116 119.719219 \nL 91.661116 127.484933 \nL 82.095402 127.484933 \nL 82.095402 119.719219 \n\" style=\"fill:#cd1c4e;\"/>\n    <path clip-path=\"url(#pf4708f123d)\" d=\"M 91.661116 119.719219 \nL 101.22683 119.719219 \nL 101.22683 127.484933 \nL 91.661116 127.484933 \nL 91.661116 119.719219 \n\" style=\"fill:#d72549;\"/>\n    <path clip-path=\"url(#pf4708f123d)\" d=\"M 101.22683 119.719219 \nL 110.792545 119.719219 \nL 110.792545 127.484933 \nL 101.22683 127.484933 \nL 101.22683 119.719219 \n\" style=\"fill:#e83f3f;\"/>\n    <path clip-path=\"url(#pf4708f123d)\" d=\"M 110.792545 119.719219 \nL 120.358259 119.719219 \nL 120.358259 127.484933 \nL 110.792545 127.484933 \nL 110.792545 119.719219 \n\" style=\"fill:#ed503e;\"/>\n    <path clip-path=\"url(#pf4708f123d)\" d=\"M 120.358259 119.719219 \nL 129.923973 119.719219 \nL 129.923973 127.484933 \nL 120.358259 127.484933 \nL 120.358259 119.719219 \n\" style=\"fill:#a3195b;\"/>\n    <path clip-path=\"url(#pf4708f123d)\" d=\"M 129.923973 119.719219 \nL 139.489688 119.719219 \nL 139.489688 127.484933 \nL 129.923973 127.484933 \nL 129.923973 119.719219 \n\" style=\"fill:#f26f4c;\"/>\n    <path clip-path=\"url(#pf4708f123d)\" d=\"M 139.489688 119.719219 \nL 149.055402 119.719219 \nL 149.055402 127.484933 \nL 139.489688 127.484933 \nL 139.489688 119.719219 \n\" style=\"fill:#f26f4c;\"/>\n    <path clip-path=\"url(#pf4708f123d)\" d=\"M 149.055402 119.719219 \nL 158.621116 119.719219 \nL 158.621116 127.484933 \nL 149.055402 127.484933 \nL 149.055402 119.719219 \n\" style=\"fill:#e8403e;\"/>\n    <path clip-path=\"url(#pf4708f123d)\" d=\"M 158.621116 119.719219 \nL 168.18683 119.719219 \nL 168.18683 127.484933 \nL 158.621116 127.484933 \nL 158.621116 119.719219 \n\" style=\"fill:#ce1d4e;\"/>\n    <path clip-path=\"url(#pf4708f123d)\" d=\"M 168.18683 119.719219 \nL 177.752545 119.719219 \nL 177.752545 127.484933 \nL 168.18683 127.484933 \nL 168.18683 119.719219 \n\" style=\"fill:#d62449;\"/>\n    <path clip-path=\"url(#pf4708f123d)\" d=\"M 177.752545 119.719219 \nL 187.318259 119.719219 \nL 187.318259 127.484933 \nL 177.752545 127.484933 \nL 177.752545 119.719219 \n\" style=\"fill:#a11a5b;\"/>\n    <path clip-path=\"url(#pf4708f123d)\" d=\"M 187.318259 119.719219 \nL 196.883973 119.719219 \nL 196.883973 127.484933 \nL 187.318259 127.484933 \nL 187.318259 119.719219 \n\" style=\"fill:#ef5840;\"/>\n    <path clip-path=\"url(#pf4708f123d)\" d=\"M 196.883973 119.719219 \nL 206.449688 119.719219 \nL 206.449688 127.484933 \nL 196.883973 127.484933 \nL 196.883973 119.719219 \n\" style=\"fill:#e23442;\"/>\n    <path clip-path=\"url(#pf4708f123d)\" d=\"M 206.449688 119.719219 \nL 216.015402 119.719219 \nL 216.015402 127.484933 \nL 206.449688 127.484933 \nL 206.449688 119.719219 \n\" style=\"fill:#faebdd;\"/>\n    <path clip-path=\"url(#pf4708f123d)\" d=\"M 216.015402 119.719219 \nL 225.581116 119.719219 \nL 225.581116 127.484933 \nL 216.015402 127.484933 \nL 216.015402 119.719219 \n\" style=\"fill:#761f58;\"/>\n    <path clip-path=\"url(#pf4708f123d)\" d=\"M 225.581116 119.719219 \nL 235.14683 119.719219 \nL 235.14683 127.484933 \nL 225.581116 127.484933 \nL 225.581116 119.719219 \n\" style=\"fill:#9f1a5b;\"/>\n    <path clip-path=\"url(#pf4708f123d)\" d=\"M 235.14683 119.719219 \nL 244.712545 119.719219 \nL 244.712545 127.484933 \nL 235.14683 127.484933 \nL 235.14683 119.719219 \n\" style=\"fill:#901d5b;\"/>\n    <path clip-path=\"url(#pf4708f123d)\" d=\"M 244.712545 119.719219 \nL 254.278259 119.719219 \nL 254.278259 127.484933 \nL 244.712545 127.484933 \nL 244.712545 119.719219 \n\" style=\"fill:#e83f3f;\"/>\n    <path clip-path=\"url(#pf4708f123d)\" d=\"M 254.278259 119.719219 \nL 263.843973 119.719219 \nL 263.843973 127.484933 \nL 254.278259 127.484933 \nL 254.278259 119.719219 \n\" style=\"fill:#df2f44;\"/>\n    <path clip-path=\"url(#pf4708f123d)\" d=\"M 263.843973 119.719219 \nL 273.409688 119.719219 \nL 273.409688 127.484933 \nL 263.843973 127.484933 \nL 263.843973 119.719219 \n\" style=\"fill:#931c5b;\"/>\n    <path clip-path=\"url(#pf4708f123d)\" d=\"M 273.409688 119.719219 \nL 282.975402 119.719219 \nL 282.975402 127.484933 \nL 273.409688 127.484933 \nL 273.409688 119.719219 \n\" style=\"fill:#e33641;\"/>\n    <path clip-path=\"url(#pf4708f123d)\" d=\"M 282.975402 119.719219 \nL 292.541116 119.719219 \nL 292.541116 127.484933 \nL 282.975402 127.484933 \nL 282.975402 119.719219 \n\" style=\"fill:#bf1654;\"/>\n    <path clip-path=\"url(#pf4708f123d)\" d=\"M 292.541116 119.719219 \nL 302.10683 119.719219 \nL 302.10683 127.484933 \nL 292.541116 127.484933 \nL 292.541116 119.719219 \n\" style=\"fill:#ee523f;\"/>\n    <path clip-path=\"url(#pf4708f123d)\" d=\"M 302.10683 119.719219 \nL 311.672545 119.719219 \nL 311.672545 127.484933 \nL 302.10683 127.484933 \nL 302.10683 119.719219 \n\" style=\"fill:#e13342;\"/>\n    <path clip-path=\"url(#pf4708f123d)\" d=\"M 311.672545 119.719219 \nL 321.238259 119.719219 \nL 321.238259 127.484933 \nL 311.672545 127.484933 \nL 311.672545 119.719219 \n\" style=\"fill:#cd1c4e;\"/>\n    <path clip-path=\"url(#pf4708f123d)\" d=\"M 321.238259 119.719219 \nL 330.803973 119.719219 \nL 330.803973 127.484933 \nL 321.238259 127.484933 \nL 321.238259 119.719219 \n\" style=\"fill:#e53940;\"/>\n    <path clip-path=\"url(#pf4708f123d)\" d=\"M 330.803973 119.719219 \nL 340.369688 119.719219 \nL 340.369688 127.484933 \nL 330.803973 127.484933 \nL 330.803973 119.719219 \n\" style=\"fill:#b01759;\"/>\n    <path clip-path=\"url(#pf4708f123d)\" d=\"M 72.529688 127.484933 \nL 82.095402 127.484933 \nL 82.095402 135.250647 \nL 72.529688 135.250647 \nL 72.529688 127.484933 \n\" style=\"fill:#db2946;\"/>\n    <path clip-path=\"url(#pf4708f123d)\" d=\"M 82.095402 127.484933 \nL 91.661116 127.484933 \nL 91.661116 135.250647 \nL 82.095402 135.250647 \nL 82.095402 127.484933 \n\" style=\"fill:#ea443e;\"/>\n    <path clip-path=\"url(#pf4708f123d)\" d=\"M 91.661116 127.484933 \nL 101.22683 127.484933 \nL 101.22683 135.250647 \nL 91.661116 135.250647 \nL 91.661116 127.484933 \n\" style=\"fill:#c71951;\"/>\n    <path clip-path=\"url(#pf4708f123d)\" d=\"M 101.22683 127.484933 \nL 110.792545 127.484933 \nL 110.792545 135.250647 \nL 101.22683 135.250647 \nL 101.22683 127.484933 \n\" style=\"fill:#e8403e;\"/>\n    <path clip-path=\"url(#pf4708f123d)\" d=\"M 110.792545 127.484933 \nL 120.358259 127.484933 \nL 120.358259 135.250647 \nL 110.792545 135.250647 \nL 110.792545 127.484933 \n\" style=\"fill:#d72549;\"/>\n    <path clip-path=\"url(#pf4708f123d)\" d=\"M 120.358259 127.484933 \nL 129.923973 127.484933 \nL 129.923973 135.250647 \nL 120.358259 135.250647 \nL 120.358259 127.484933 \n\" style=\"fill:#f58d64;\"/>\n    <path clip-path=\"url(#pf4708f123d)\" d=\"M 129.923973 127.484933 \nL 139.489688 127.484933 \nL 139.489688 135.250647 \nL 129.923973 135.250647 \nL 129.923973 127.484933 \n\" style=\"fill:#731f58;\"/>\n    <path clip-path=\"url(#pf4708f123d)\" d=\"M 139.489688 127.484933 \nL 149.055402 127.484933 \nL 149.055402 135.250647 \nL 139.489688 135.250647 \nL 139.489688 127.484933 \n\" style=\"fill:#751f58;\"/>\n    <path clip-path=\"url(#pf4708f123d)\" d=\"M 149.055402 127.484933 \nL 158.621116 127.484933 \nL 158.621116 135.250647 \nL 149.055402 135.250647 \nL 149.055402 127.484933 \n\" style=\"fill:#8b1d5b;\"/>\n    <path clip-path=\"url(#pf4708f123d)\" d=\"M 158.621116 127.484933 \nL 168.18683 127.484933 \nL 168.18683 135.250647 \nL 158.621116 135.250647 \nL 158.621116 127.484933 \n\" style=\"fill:#f37852;\"/>\n    <path clip-path=\"url(#pf4708f123d)\" d=\"M 168.18683 127.484933 \nL 177.752545 127.484933 \nL 177.752545 135.250647 \nL 168.18683 135.250647 \nL 168.18683 127.484933 \n\" style=\"fill:#f26747;\"/>\n    <path clip-path=\"url(#pf4708f123d)\" d=\"M 177.752545 127.484933 \nL 187.318259 127.484933 \nL 187.318259 135.250647 \nL 177.752545 135.250647 \nL 177.752545 127.484933 \n\" style=\"fill:#f26d4b;\"/>\n    <path clip-path=\"url(#pf4708f123d)\" d=\"M 187.318259 127.484933 \nL 196.883973 127.484933 \nL 196.883973 135.250647 \nL 187.318259 135.250647 \nL 187.318259 127.484933 \n\" style=\"fill:#e43841;\"/>\n    <path clip-path=\"url(#pf4708f123d)\" d=\"M 196.883973 127.484933 \nL 206.449688 127.484933 \nL 206.449688 135.250647 \nL 196.883973 135.250647 \nL 196.883973 127.484933 \n\" style=\"fill:#ed503e;\"/>\n    <path clip-path=\"url(#pf4708f123d)\" d=\"M 206.449688 127.484933 \nL 216.015402 127.484933 \nL 216.015402 135.250647 \nL 206.449688 135.250647 \nL 206.449688 127.484933 \n\" style=\"fill:#761f58;\"/>\n    <path clip-path=\"url(#pf4708f123d)\" d=\"M 216.015402 127.484933 \nL 225.581116 127.484933 \nL 225.581116 135.250647 \nL 216.015402 135.250647 \nL 216.015402 127.484933 \n\" style=\"fill:#faebdd;\"/>\n    <path clip-path=\"url(#pf4708f123d)\" d=\"M 225.581116 127.484933 \nL 235.14683 127.484933 \nL 235.14683 135.250647 \nL 225.581116 135.250647 \nL 225.581116 127.484933 \n\" style=\"fill:#f6a178;\"/>\n    <path clip-path=\"url(#pf4708f123d)\" d=\"M 235.14683 127.484933 \nL 244.712545 127.484933 \nL 244.712545 135.250647 \nL 235.14683 135.250647 \nL 235.14683 127.484933 \n\" style=\"fill:#f7c2a2;\"/>\n    <path clip-path=\"url(#pf4708f123d)\" d=\"M 244.712545 127.484933 \nL 254.278259 127.484933 \nL 254.278259 135.250647 \nL 244.712545 135.250647 \nL 244.712545 127.484933 \n\" style=\"fill:#b21758;\"/>\n    <path clip-path=\"url(#pf4708f123d)\" d=\"M 254.278259 127.484933 \nL 263.843973 127.484933 \nL 263.843973 135.250647 \nL 254.278259 135.250647 \nL 254.278259 127.484933 \n\" style=\"fill:#df2f44;\"/>\n    <path clip-path=\"url(#pf4708f123d)\" d=\"M 263.843973 127.484933 \nL 273.409688 127.484933 \nL 273.409688 135.250647 \nL 263.843973 135.250647 \nL 263.843973 127.484933 \n\" style=\"fill:#f58f66;\"/>\n    <path clip-path=\"url(#pf4708f123d)\" d=\"M 273.409688 127.484933 \nL 282.975402 127.484933 \nL 282.975402 135.250647 \nL 273.409688 135.250647 \nL 273.409688 127.484933 \n\" style=\"fill:#dd2c45;\"/>\n    <path clip-path=\"url(#pf4708f123d)\" d=\"M 282.975402 127.484933 \nL 292.541116 127.484933 \nL 292.541116 135.250647 \nL 282.975402 135.250647 \nL 282.975402 127.484933 \n\" style=\"fill:#f26f4c;\"/>\n    <path clip-path=\"url(#pf4708f123d)\" d=\"M 292.541116 127.484933 \nL 302.10683 127.484933 \nL 302.10683 135.250647 \nL 292.541116 135.250647 \nL 292.541116 127.484933 \n\" style=\"fill:#df2f44;\"/>\n    <path clip-path=\"url(#pf4708f123d)\" d=\"M 302.10683 127.484933 \nL 311.672545 127.484933 \nL 311.672545 135.250647 \nL 302.10683 135.250647 \nL 302.10683 127.484933 \n\" style=\"fill:#9e1a5b;\"/>\n    <path clip-path=\"url(#pf4708f123d)\" d=\"M 311.672545 127.484933 \nL 321.238259 127.484933 \nL 321.238259 135.250647 \nL 311.672545 135.250647 \nL 311.672545 127.484933 \n\" style=\"fill:#d62449;\"/>\n    <path clip-path=\"url(#pf4708f123d)\" d=\"M 321.238259 127.484933 \nL 330.803973 127.484933 \nL 330.803973 135.250647 \nL 321.238259 135.250647 \nL 321.238259 127.484933 \n\" style=\"fill:#d82748;\"/>\n    <path clip-path=\"url(#pf4708f123d)\" d=\"M 330.803973 127.484933 \nL 340.369688 127.484933 \nL 340.369688 135.250647 \nL 330.803973 135.250647 \nL 330.803973 127.484933 \n\" style=\"fill:#a8185a;\"/>\n    <path clip-path=\"url(#pf4708f123d)\" d=\"M 72.529688 135.250647 \nL 82.095402 135.250647 \nL 82.095402 143.016362 \nL 72.529688 143.016362 \nL 72.529688 135.250647 \n\" style=\"fill:#f26948;\"/>\n    <path clip-path=\"url(#pf4708f123d)\" d=\"M 82.095402 135.250647 \nL 91.661116 135.250647 \nL 91.661116 143.016362 \nL 82.095402 143.016362 \nL 82.095402 135.250647 \n\" style=\"fill:#f58860;\"/>\n    <path clip-path=\"url(#pf4708f123d)\" d=\"M 91.661116 135.250647 \nL 101.22683 135.250647 \nL 101.22683 143.016362 \nL 91.661116 143.016362 \nL 91.661116 135.250647 \n\" style=\"fill:#9c1b5b;\"/>\n    <path clip-path=\"url(#pf4708f123d)\" d=\"M 101.22683 135.250647 \nL 110.792545 135.250647 \nL 110.792545 143.016362 \nL 101.22683 143.016362 \nL 101.22683 135.250647 \n\" style=\"fill:#f6a178;\"/>\n    <path clip-path=\"url(#pf4708f123d)\" d=\"M 110.792545 135.250647 \nL 120.358259 135.250647 \nL 120.358259 143.016362 \nL 110.792545 143.016362 \nL 110.792545 135.250647 \n\" style=\"fill:#f59067;\"/>\n    <path clip-path=\"url(#pf4708f123d)\" d=\"M 120.358259 135.250647 \nL 129.923973 135.250647 \nL 129.923973 143.016362 \nL 120.358259 143.016362 \nL 120.358259 135.250647 \n\" style=\"fill:#f47a54;\"/>\n    <path clip-path=\"url(#pf4708f123d)\" d=\"M 129.923973 135.250647 \nL 139.489688 135.250647 \nL 139.489688 143.016362 \nL 129.923973 143.016362 \nL 129.923973 135.250647 \n\" style=\"fill:#d3214b;\"/>\n    <path clip-path=\"url(#pf4708f123d)\" d=\"M 139.489688 135.250647 \nL 149.055402 135.250647 \nL 149.055402 143.016362 \nL 139.489688 143.016362 \nL 139.489688 135.250647 \n\" style=\"fill:#d72549;\"/>\n    <path clip-path=\"url(#pf4708f123d)\" d=\"M 149.055402 135.250647 \nL 158.621116 135.250647 \nL 158.621116 143.016362 \nL 149.055402 143.016362 \nL 149.055402 135.250647 \n\" style=\"fill:#9c1b5b;\"/>\n    <path clip-path=\"url(#pf4708f123d)\" d=\"M 158.621116 135.250647 \nL 168.18683 135.250647 \nL 168.18683 143.016362 \nL 158.621116 143.016362 \nL 158.621116 135.250647 \n\" style=\"fill:#f6b18b;\"/>\n    <path clip-path=\"url(#pf4708f123d)\" d=\"M 168.18683 135.250647 \nL 177.752545 135.250647 \nL 177.752545 143.016362 \nL 168.18683 143.016362 \nL 168.18683 135.250647 \n\" style=\"fill:#f6a880;\"/>\n    <path clip-path=\"url(#pf4708f123d)\" d=\"M 177.752545 135.250647 \nL 187.318259 135.250647 \nL 187.318259 143.016362 \nL 177.752545 143.016362 \nL 177.752545 135.250647 \n\" style=\"fill:#f47c55;\"/>\n    <path clip-path=\"url(#pf4708f123d)\" d=\"M 187.318259 135.250647 \nL 196.883973 135.250647 \nL 196.883973 143.016362 \nL 187.318259 143.016362 \nL 187.318259 135.250647 \n\" style=\"fill:#f59067;\"/>\n    <path clip-path=\"url(#pf4708f123d)\" d=\"M 196.883973 135.250647 \nL 206.449688 135.250647 \nL 206.449688 143.016362 \nL 196.883973 143.016362 \nL 196.883973 135.250647 \n\" style=\"fill:#f6a37a;\"/>\n    <path clip-path=\"url(#pf4708f123d)\" d=\"M 206.449688 135.250647 \nL 216.015402 135.250647 \nL 216.015402 143.016362 \nL 206.449688 143.016362 \nL 206.449688 135.250647 \n\" style=\"fill:#9f1a5b;\"/>\n    <path clip-path=\"url(#pf4708f123d)\" d=\"M 216.015402 135.250647 \nL 225.581116 135.250647 \nL 225.581116 143.016362 \nL 216.015402 143.016362 \nL 216.015402 135.250647 \n\" style=\"fill:#f6a178;\"/>\n    <path clip-path=\"url(#pf4708f123d)\" d=\"M 225.581116 135.250647 \nL 235.14683 135.250647 \nL 235.14683 143.016362 \nL 225.581116 143.016362 \nL 225.581116 135.250647 \n\" style=\"fill:#faebdd;\"/>\n    <path clip-path=\"url(#pf4708f123d)\" d=\"M 235.14683 135.250647 \nL 244.712545 135.250647 \nL 244.712545 143.016362 \nL 235.14683 143.016362 \nL 235.14683 135.250647 \n\" style=\"fill:#fae6d6;\"/>\n    <path clip-path=\"url(#pf4708f123d)\" d=\"M 244.712545 135.250647 \nL 254.278259 135.250647 \nL 254.278259 143.016362 \nL 244.712545 143.016362 \nL 244.712545 135.250647 \n\" style=\"fill:#f16646;\"/>\n    <path clip-path=\"url(#pf4708f123d)\" d=\"M 254.278259 135.250647 \nL 263.843973 135.250647 \nL 263.843973 143.016362 \nL 254.278259 143.016362 \nL 254.278259 135.250647 \n\" style=\"fill:#ee543f;\"/>\n    <path clip-path=\"url(#pf4708f123d)\" d=\"M 263.843973 135.250647 \nL 273.409688 135.250647 \nL 273.409688 143.016362 \nL 263.843973 143.016362 \nL 263.843973 135.250647 \n\" style=\"fill:#f58d64;\"/>\n    <path clip-path=\"url(#pf4708f123d)\" d=\"M 273.409688 135.250647 \nL 282.975402 135.250647 \nL 282.975402 143.016362 \nL 273.409688 143.016362 \nL 273.409688 135.250647 \n\" style=\"fill:#f59067;\"/>\n    <path clip-path=\"url(#pf4708f123d)\" d=\"M 282.975402 135.250647 \nL 292.541116 135.250647 \nL 292.541116 143.016362 \nL 282.975402 143.016362 \nL 282.975402 135.250647 \n\" style=\"fill:#f37852;\"/>\n    <path clip-path=\"url(#pf4708f123d)\" d=\"M 292.541116 135.250647 \nL 302.10683 135.250647 \nL 302.10683 143.016362 \nL 292.541116 143.016362 \nL 292.541116 135.250647 \n\" style=\"fill:#f69b71;\"/>\n    <path clip-path=\"url(#pf4708f123d)\" d=\"M 302.10683 135.250647 \nL 311.672545 135.250647 \nL 311.672545 143.016362 \nL 302.10683 143.016362 \nL 302.10683 135.250647 \n\" style=\"fill:#c41753;\"/>\n    <path clip-path=\"url(#pf4708f123d)\" d=\"M 311.672545 135.250647 \nL 321.238259 135.250647 \nL 321.238259 143.016362 \nL 311.672545 143.016362 \nL 311.672545 135.250647 \n\" style=\"fill:#f47f58;\"/>\n    <path clip-path=\"url(#pf4708f123d)\" d=\"M 321.238259 135.250647 \nL 330.803973 135.250647 \nL 330.803973 143.016362 \nL 321.238259 143.016362 \nL 321.238259 135.250647 \n\" style=\"fill:#f4845d;\"/>\n    <path clip-path=\"url(#pf4708f123d)\" d=\"M 330.803973 135.250647 \nL 340.369688 135.250647 \nL 340.369688 143.016362 \nL 330.803973 143.016362 \nL 330.803973 135.250647 \n\" style=\"fill:#4e1d4b;\"/>\n    <path clip-path=\"url(#pf4708f123d)\" d=\"M 72.529688 143.016362 \nL 82.095402 143.016362 \nL 82.095402 150.782076 \nL 72.529688 150.782076 \nL 72.529688 143.016362 \n\" style=\"fill:#f05e42;\"/>\n    <path clip-path=\"url(#pf4708f123d)\" d=\"M 82.095402 143.016362 \nL 91.661116 143.016362 \nL 91.661116 150.782076 \nL 82.095402 150.782076 \nL 82.095402 143.016362 \n\" style=\"fill:#f47f58;\"/>\n    <path clip-path=\"url(#pf4708f123d)\" d=\"M 91.661116 143.016362 \nL 101.22683 143.016362 \nL 101.22683 150.782076 \nL 91.661116 150.782076 \nL 91.661116 143.016362 \n\" style=\"fill:#a6195a;\"/>\n    <path clip-path=\"url(#pf4708f123d)\" d=\"M 101.22683 143.016362 \nL 110.792545 143.016362 \nL 110.792545 150.782076 \nL 101.22683 150.782076 \nL 101.22683 143.016362 \n\" style=\"fill:#f59269;\"/>\n    <path clip-path=\"url(#pf4708f123d)\" d=\"M 110.792545 143.016362 \nL 120.358259 143.016362 \nL 120.358259 150.782076 \nL 110.792545 150.782076 \nL 110.792545 143.016362 \n\" style=\"fill:#f47c55;\"/>\n    <path clip-path=\"url(#pf4708f123d)\" d=\"M 120.358259 143.016362 \nL 129.923973 143.016362 \nL 129.923973 150.782076 \nL 120.358259 150.782076 \nL 120.358259 143.016362 \n\" style=\"fill:#f58a61;\"/>\n    <path clip-path=\"url(#pf4708f123d)\" d=\"M 129.923973 143.016362 \nL 139.489688 143.016362 \nL 139.489688 150.782076 \nL 129.923973 150.782076 \nL 129.923973 143.016362 \n\" style=\"fill:#ba1656;\"/>\n    <path clip-path=\"url(#pf4708f123d)\" d=\"M 139.489688 143.016362 \nL 149.055402 143.016362 \nL 149.055402 150.782076 \nL 139.489688 150.782076 \nL 139.489688 143.016362 \n\" style=\"fill:#bf1654;\"/>\n    <path clip-path=\"url(#pf4708f123d)\" d=\"M 149.055402 143.016362 \nL 158.621116 143.016362 \nL 158.621116 150.782076 \nL 149.055402 150.782076 \nL 149.055402 143.016362 \n\" style=\"fill:#931c5b;\"/>\n    <path clip-path=\"url(#pf4708f123d)\" d=\"M 158.621116 143.016362 \nL 168.18683 143.016362 \nL 168.18683 150.782076 \nL 158.621116 150.782076 \nL 158.621116 143.016362 \n\" style=\"fill:#f6ae87;\"/>\n    <path clip-path=\"url(#pf4708f123d)\" d=\"M 168.18683 143.016362 \nL 177.752545 143.016362 \nL 177.752545 150.782076 \nL 168.18683 150.782076 \nL 168.18683 143.016362 \n\" style=\"fill:#f6a178;\"/>\n    <path clip-path=\"url(#pf4708f123d)\" d=\"M 177.752545 143.016362 \nL 187.318259 143.016362 \nL 187.318259 150.782076 \nL 177.752545 150.782076 \nL 177.752545 143.016362 \n\" style=\"fill:#f4815a;\"/>\n    <path clip-path=\"url(#pf4708f123d)\" d=\"M 187.318259 143.016362 \nL 196.883973 143.016362 \nL 196.883973 150.782076 \nL 187.318259 150.782076 \nL 187.318259 143.016362 \n\" style=\"fill:#f4835b;\"/>\n    <path clip-path=\"url(#pf4708f123d)\" d=\"M 196.883973 143.016362 \nL 206.449688 143.016362 \nL 206.449688 150.782076 \nL 196.883973 150.782076 \nL 196.883973 143.016362 \n\" style=\"fill:#f5976e;\"/>\n    <path clip-path=\"url(#pf4708f123d)\" d=\"M 206.449688 143.016362 \nL 216.015402 143.016362 \nL 216.015402 150.782076 \nL 206.449688 150.782076 \nL 206.449688 143.016362 \n\" style=\"fill:#901d5b;\"/>\n    <path clip-path=\"url(#pf4708f123d)\" d=\"M 216.015402 143.016362 \nL 225.581116 143.016362 \nL 225.581116 150.782076 \nL 216.015402 150.782076 \nL 216.015402 143.016362 \n\" style=\"fill:#f7c2a2;\"/>\n    <path clip-path=\"url(#pf4708f123d)\" d=\"M 225.581116 143.016362 \nL 235.14683 143.016362 \nL 235.14683 150.782076 \nL 225.581116 150.782076 \nL 225.581116 143.016362 \n\" style=\"fill:#fae6d6;\"/>\n    <path clip-path=\"url(#pf4708f123d)\" d=\"M 235.14683 143.016362 \nL 244.712545 143.016362 \nL 244.712545 150.782076 \nL 235.14683 150.782076 \nL 235.14683 143.016362 \n\" style=\"fill:#faebdd;\"/>\n    <path clip-path=\"url(#pf4708f123d)\" d=\"M 244.712545 143.016362 \nL 254.278259 143.016362 \nL 254.278259 150.782076 \nL 244.712545 150.782076 \nL 244.712545 143.016362 \n\" style=\"fill:#ec4a3e;\"/>\n    <path clip-path=\"url(#pf4708f123d)\" d=\"M 254.278259 143.016362 \nL 263.843973 143.016362 \nL 263.843973 150.782076 \nL 254.278259 150.782076 \nL 254.278259 143.016362 \n\" style=\"fill:#ed4e3e;\"/>\n    <path clip-path=\"url(#pf4708f123d)\" d=\"M 263.843973 143.016362 \nL 273.409688 143.016362 \nL 273.409688 150.782076 \nL 263.843973 150.782076 \nL 263.843973 143.016362 \n\" style=\"fill:#f5976e;\"/>\n    <path clip-path=\"url(#pf4708f123d)\" d=\"M 273.409688 143.016362 \nL 282.975402 143.016362 \nL 282.975402 150.782076 \nL 273.409688 150.782076 \nL 273.409688 143.016362 \n\" style=\"fill:#f47d57;\"/>\n    <path clip-path=\"url(#pf4708f123d)\" d=\"M 282.975402 143.016362 \nL 292.541116 143.016362 \nL 292.541116 150.782076 \nL 282.975402 150.782076 \nL 282.975402 143.016362 \n\" style=\"fill:#f47d57;\"/>\n    <path clip-path=\"url(#pf4708f123d)\" d=\"M 292.541116 143.016362 \nL 302.10683 143.016362 \nL 302.10683 150.782076 \nL 292.541116 150.782076 \nL 292.541116 143.016362 \n\" style=\"fill:#f58860;\"/>\n    <path clip-path=\"url(#pf4708f123d)\" d=\"M 302.10683 143.016362 \nL 311.672545 143.016362 \nL 311.672545 150.782076 \nL 302.10683 150.782076 \nL 302.10683 143.016362 \n\" style=\"fill:#b91657;\"/>\n    <path clip-path=\"url(#pf4708f123d)\" d=\"M 311.672545 143.016362 \nL 321.238259 143.016362 \nL 321.238259 150.782076 \nL 311.672545 150.782076 \nL 311.672545 143.016362 \n\" style=\"fill:#f26d4b;\"/>\n    <path clip-path=\"url(#pf4708f123d)\" d=\"M 321.238259 143.016362 \nL 330.803973 143.016362 \nL 330.803973 150.782076 \nL 321.238259 150.782076 \nL 321.238259 143.016362 \n\" style=\"fill:#f3734e;\"/>\n    <path clip-path=\"url(#pf4708f123d)\" d=\"M 330.803973 143.016362 \nL 340.369688 143.016362 \nL 340.369688 150.782076 \nL 330.803973 150.782076 \nL 330.803973 143.016362 \n\" style=\"fill:#5e1f52;\"/>\n    <path clip-path=\"url(#pf4708f123d)\" d=\"M 72.529688 150.782076 \nL 82.095402 150.782076 \nL 82.095402 158.54779 \nL 72.529688 158.54779 \nL 72.529688 150.782076 \n\" style=\"fill:#f26f4c;\"/>\n    <path clip-path=\"url(#pf4708f123d)\" d=\"M 82.095402 150.782076 \nL 91.661116 150.782076 \nL 91.661116 158.54779 \nL 82.095402 158.54779 \nL 82.095402 150.782076 \n\" style=\"fill:#f58a61;\"/>\n    <path clip-path=\"url(#pf4708f123d)\" d=\"M 91.661116 150.782076 \nL 101.22683 150.782076 \nL 101.22683 158.54779 \nL 91.661116 158.54779 \nL 91.661116 150.782076 \n\" style=\"fill:#9a1b5b;\"/>\n    <path clip-path=\"url(#pf4708f123d)\" d=\"M 101.22683 150.782076 \nL 110.792545 150.782076 \nL 110.792545 158.54779 \nL 101.22683 158.54779 \nL 101.22683 150.782076 \n\" style=\"fill:#f59970;\"/>\n    <path clip-path=\"url(#pf4708f123d)\" d=\"M 110.792545 150.782076 \nL 120.358259 150.782076 \nL 120.358259 158.54779 \nL 110.792545 158.54779 \nL 110.792545 150.782076 \n\" style=\"fill:#f6a077;\"/>\n    <path clip-path=\"url(#pf4708f123d)\" d=\"M 120.358259 150.782076 \nL 129.923973 150.782076 \nL 129.923973 158.54779 \nL 120.358259 158.54779 \nL 120.358259 150.782076 \n\" style=\"fill:#d5224a;\"/>\n    <path clip-path=\"url(#pf4708f123d)\" d=\"M 129.923973 150.782076 \nL 139.489688 150.782076 \nL 139.489688 158.54779 \nL 129.923973 158.54779 \nL 129.923973 150.782076 \n\" style=\"fill:#f26948;\"/>\n    <path clip-path=\"url(#pf4708f123d)\" d=\"M 139.489688 150.782076 \nL 149.055402 150.782076 \nL 149.055402 158.54779 \nL 139.489688 158.54779 \nL 139.489688 150.782076 \n\" style=\"fill:#f26f4c;\"/>\n    <path clip-path=\"url(#pf4708f123d)\" d=\"M 149.055402 150.782076 \nL 158.621116 150.782076 \nL 158.621116 158.54779 \nL 149.055402 158.54779 \nL 149.055402 150.782076 \n\" style=\"fill:#ca1a50;\"/>\n    <path clip-path=\"url(#pf4708f123d)\" d=\"M 158.621116 150.782076 \nL 168.18683 150.782076 \nL 168.18683 158.54779 \nL 158.621116 158.54779 \nL 158.621116 150.782076 \n\" style=\"fill:#f4865e;\"/>\n    <path clip-path=\"url(#pf4708f123d)\" d=\"M 168.18683 150.782076 \nL 177.752545 150.782076 \nL 177.752545 158.54779 \nL 168.18683 158.54779 \nL 168.18683 150.782076 \n\" style=\"fill:#f58f66;\"/>\n    <path clip-path=\"url(#pf4708f123d)\" d=\"M 177.752545 150.782076 \nL 187.318259 150.782076 \nL 187.318259 158.54779 \nL 177.752545 158.54779 \nL 177.752545 150.782076 \n\" style=\"fill:#d82748;\"/>\n    <path clip-path=\"url(#pf4708f123d)\" d=\"M 187.318259 150.782076 \nL 196.883973 150.782076 \nL 196.883973 158.54779 \nL 187.318259 158.54779 \nL 187.318259 150.782076 \n\" style=\"fill:#f59067;\"/>\n    <path clip-path=\"url(#pf4708f123d)\" d=\"M 196.883973 150.782076 \nL 206.449688 150.782076 \nL 206.449688 158.54779 \nL 196.883973 158.54779 \nL 196.883973 150.782076 \n\" style=\"fill:#f58f66;\"/>\n    <path clip-path=\"url(#pf4708f123d)\" d=\"M 206.449688 150.782076 \nL 216.015402 150.782076 \nL 216.015402 158.54779 \nL 206.449688 158.54779 \nL 206.449688 150.782076 \n\" style=\"fill:#e83f3f;\"/>\n    <path clip-path=\"url(#pf4708f123d)\" d=\"M 216.015402 150.782076 \nL 225.581116 150.782076 \nL 225.581116 158.54779 \nL 216.015402 158.54779 \nL 216.015402 150.782076 \n\" style=\"fill:#b21758;\"/>\n    <path clip-path=\"url(#pf4708f123d)\" d=\"M 225.581116 150.782076 \nL 235.14683 150.782076 \nL 235.14683 158.54779 \nL 225.581116 158.54779 \nL 225.581116 150.782076 \n\" style=\"fill:#f16646;\"/>\n    <path clip-path=\"url(#pf4708f123d)\" d=\"M 235.14683 150.782076 \nL 244.712545 150.782076 \nL 244.712545 158.54779 \nL 235.14683 158.54779 \nL 235.14683 150.782076 \n\" style=\"fill:#ec4a3e;\"/>\n    <path clip-path=\"url(#pf4708f123d)\" d=\"M 244.712545 150.782076 \nL 254.278259 150.782076 \nL 254.278259 158.54779 \nL 244.712545 158.54779 \nL 244.712545 150.782076 \n\" style=\"fill:#faebdd;\"/>\n    <path clip-path=\"url(#pf4708f123d)\" d=\"M 254.278259 150.782076 \nL 263.843973 150.782076 \nL 263.843973 158.54779 \nL 254.278259 158.54779 \nL 254.278259 150.782076 \n\" style=\"fill:#f4865e;\"/>\n    <path clip-path=\"url(#pf4708f123d)\" d=\"M 263.843973 150.782076 \nL 273.409688 150.782076 \nL 273.409688 158.54779 \nL 263.843973 158.54779 \nL 263.843973 150.782076 \n\" style=\"fill:#b21758;\"/>\n    <path clip-path=\"url(#pf4708f123d)\" d=\"M 273.409688 150.782076 \nL 282.975402 150.782076 \nL 282.975402 158.54779 \nL 273.409688 158.54779 \nL 273.409688 150.782076 \n\" style=\"fill:#f6bb97;\"/>\n    <path clip-path=\"url(#pf4708f123d)\" d=\"M 282.975402 150.782076 \nL 292.541116 150.782076 \nL 292.541116 158.54779 \nL 282.975402 158.54779 \nL 282.975402 150.782076 \n\" style=\"fill:#e83f3f;\"/>\n    <path clip-path=\"url(#pf4708f123d)\" d=\"M 292.541116 150.782076 \nL 302.10683 150.782076 \nL 302.10683 158.54779 \nL 292.541116 158.54779 \nL 292.541116 150.782076 \n\" style=\"fill:#f69e75;\"/>\n    <path clip-path=\"url(#pf4708f123d)\" d=\"M 302.10683 150.782076 \nL 311.672545 150.782076 \nL 311.672545 158.54779 \nL 302.10683 158.54779 \nL 302.10683 150.782076 \n\" style=\"fill:#e53940;\"/>\n    <path clip-path=\"url(#pf4708f123d)\" d=\"M 311.672545 150.782076 \nL 321.238259 150.782076 \nL 321.238259 158.54779 \nL 311.672545 158.54779 \nL 311.672545 150.782076 \n\" style=\"fill:#f59970;\"/>\n    <path clip-path=\"url(#pf4708f123d)\" d=\"M 321.238259 150.782076 \nL 330.803973 150.782076 \nL 330.803973 158.54779 \nL 321.238259 158.54779 \nL 321.238259 150.782076 \n\" style=\"fill:#f6a981;\"/>\n    <path clip-path=\"url(#pf4708f123d)\" d=\"M 330.803973 150.782076 \nL 340.369688 150.782076 \nL 340.369688 158.54779 \nL 330.803973 158.54779 \nL 330.803973 150.782076 \n\" style=\"fill:#3d1a42;\"/>\n    <path clip-path=\"url(#pf4708f123d)\" d=\"M 72.529688 158.54779 \nL 82.095402 158.54779 \nL 82.095402 166.313504 \nL 72.529688 166.313504 \nL 72.529688 158.54779 \n\" style=\"fill:#e8403e;\"/>\n    <path clip-path=\"url(#pf4708f123d)\" d=\"M 82.095402 158.54779 \nL 91.661116 158.54779 \nL 91.661116 166.313504 \nL 82.095402 166.313504 \nL 82.095402 158.54779 \n\" style=\"fill:#f05e42;\"/>\n    <path clip-path=\"url(#pf4708f123d)\" d=\"M 91.661116 158.54779 \nL 101.22683 158.54779 \nL 101.22683 166.313504 \nL 91.661116 166.313504 \nL 91.661116 158.54779 \n\" style=\"fill:#e03143;\"/>\n    <path clip-path=\"url(#pf4708f123d)\" d=\"M 101.22683 158.54779 \nL 110.792545 158.54779 \nL 110.792545 166.313504 \nL 101.22683 166.313504 \nL 101.22683 158.54779 \n\" style=\"fill:#f37651;\"/>\n    <path clip-path=\"url(#pf4708f123d)\" d=\"M 110.792545 158.54779 \nL 120.358259 158.54779 \nL 120.358259 166.313504 \nL 110.792545 166.313504 \nL 110.792545 158.54779 \n\" style=\"fill:#f37450;\"/>\n    <path clip-path=\"url(#pf4708f123d)\" d=\"M 120.358259 158.54779 \nL 129.923973 158.54779 \nL 129.923973 166.313504 \nL 120.358259 166.313504 \nL 120.358259 158.54779 \n\" style=\"fill:#e53940;\"/>\n    <path clip-path=\"url(#pf4708f123d)\" d=\"M 129.923973 158.54779 \nL 139.489688 158.54779 \nL 139.489688 166.313504 \nL 129.923973 166.313504 \nL 129.923973 158.54779 \n\" style=\"fill:#e13342;\"/>\n    <path clip-path=\"url(#pf4708f123d)\" d=\"M 139.489688 158.54779 \nL 149.055402 158.54779 \nL 149.055402 166.313504 \nL 139.489688 166.313504 \nL 139.489688 158.54779 \n\" style=\"fill:#e23442;\"/>\n    <path clip-path=\"url(#pf4708f123d)\" d=\"M 149.055402 158.54779 \nL 158.621116 158.54779 \nL 158.621116 166.313504 \nL 149.055402 166.313504 \nL 149.055402 158.54779 \n\" style=\"fill:#dd2c45;\"/>\n    <path clip-path=\"url(#pf4708f123d)\" d=\"M 158.621116 158.54779 \nL 168.18683 158.54779 \nL 168.18683 166.313504 \nL 158.621116 166.313504 \nL 158.621116 158.54779 \n\" style=\"fill:#f37450;\"/>\n    <path clip-path=\"url(#pf4708f123d)\" d=\"M 168.18683 158.54779 \nL 177.752545 158.54779 \nL 177.752545 166.313504 \nL 168.18683 166.313504 \nL 168.18683 158.54779 \n\" style=\"fill:#f47a54;\"/>\n    <path clip-path=\"url(#pf4708f123d)\" d=\"M 177.752545 158.54779 \nL 187.318259 158.54779 \nL 187.318259 166.313504 \nL 177.752545 166.313504 \nL 177.752545 158.54779 \n\" style=\"fill:#de2e44;\"/>\n    <path clip-path=\"url(#pf4708f123d)\" d=\"M 187.318259 158.54779 \nL 196.883973 158.54779 \nL 196.883973 166.313504 \nL 187.318259 166.313504 \nL 187.318259 158.54779 \n\" style=\"fill:#f26d4b;\"/>\n    <path clip-path=\"url(#pf4708f123d)\" d=\"M 196.883973 158.54779 \nL 206.449688 158.54779 \nL 206.449688 166.313504 \nL 196.883973 166.313504 \nL 196.883973 158.54779 \n\" style=\"fill:#f26f4c;\"/>\n    <path clip-path=\"url(#pf4708f123d)\" d=\"M 206.449688 158.54779 \nL 216.015402 158.54779 \nL 216.015402 166.313504 \nL 206.449688 166.313504 \nL 206.449688 158.54779 \n\" style=\"fill:#df2f44;\"/>\n    <path clip-path=\"url(#pf4708f123d)\" d=\"M 216.015402 158.54779 \nL 225.581116 158.54779 \nL 225.581116 166.313504 \nL 216.015402 166.313504 \nL 216.015402 158.54779 \n\" style=\"fill:#df2f44;\"/>\n    <path clip-path=\"url(#pf4708f123d)\" d=\"M 225.581116 158.54779 \nL 235.14683 158.54779 \nL 235.14683 166.313504 \nL 225.581116 166.313504 \nL 225.581116 158.54779 \n\" style=\"fill:#ee543f;\"/>\n    <path clip-path=\"url(#pf4708f123d)\" d=\"M 235.14683 158.54779 \nL 244.712545 158.54779 \nL 244.712545 166.313504 \nL 235.14683 166.313504 \nL 235.14683 158.54779 \n\" style=\"fill:#ed4e3e;\"/>\n    <path clip-path=\"url(#pf4708f123d)\" d=\"M 244.712545 158.54779 \nL 254.278259 158.54779 \nL 254.278259 166.313504 \nL 244.712545 166.313504 \nL 244.712545 158.54779 \n\" style=\"fill:#f4865e;\"/>\n    <path clip-path=\"url(#pf4708f123d)\" d=\"M 254.278259 158.54779 \nL 263.843973 158.54779 \nL 263.843973 166.313504 \nL 254.278259 166.313504 \nL 254.278259 158.54779 \n\" style=\"fill:#faebdd;\"/>\n    <path clip-path=\"url(#pf4708f123d)\" d=\"M 263.843973 158.54779 \nL 273.409688 158.54779 \nL 273.409688 166.313504 \nL 263.843973 166.313504 \nL 263.843973 158.54779 \n\" style=\"fill:#c41753;\"/>\n    <path clip-path=\"url(#pf4708f123d)\" d=\"M 273.409688 158.54779 \nL 282.975402 158.54779 \nL 282.975402 166.313504 \nL 273.409688 166.313504 \nL 273.409688 158.54779 \n\" style=\"fill:#f47c55;\"/>\n    <path clip-path=\"url(#pf4708f123d)\" d=\"M 282.975402 158.54779 \nL 292.541116 158.54779 \nL 292.541116 166.313504 \nL 282.975402 166.313504 \nL 282.975402 158.54779 \n\" style=\"fill:#f26747;\"/>\n    <path clip-path=\"url(#pf4708f123d)\" d=\"M 292.541116 158.54779 \nL 302.10683 158.54779 \nL 302.10683 166.313504 \nL 292.541116 166.313504 \nL 292.541116 158.54779 \n\" style=\"fill:#f37450;\"/>\n    <path clip-path=\"url(#pf4708f123d)\" d=\"M 302.10683 158.54779 \nL 311.672545 158.54779 \nL 311.672545 166.313504 \nL 302.10683 166.313504 \nL 302.10683 158.54779 \n\" style=\"fill:#ca1a50;\"/>\n    <path clip-path=\"url(#pf4708f123d)\" d=\"M 311.672545 158.54779 \nL 321.238259 158.54779 \nL 321.238259 166.313504 \nL 311.672545 166.313504 \nL 311.672545 158.54779 \n\" style=\"fill:#e9423e;\"/>\n    <path clip-path=\"url(#pf4708f123d)\" d=\"M 321.238259 158.54779 \nL 330.803973 158.54779 \nL 330.803973 166.313504 \nL 321.238259 166.313504 \nL 321.238259 158.54779 \n\" style=\"fill:#f3714d;\"/>\n    <path clip-path=\"url(#pf4708f123d)\" d=\"M 330.803973 158.54779 \nL 340.369688 158.54779 \nL 340.369688 166.313504 \nL 330.803973 166.313504 \nL 330.803973 158.54779 \n\" style=\"fill:#7a1f59;\"/>\n    <path clip-path=\"url(#pf4708f123d)\" d=\"M 72.529688 166.313504 \nL 82.095402 166.313504 \nL 82.095402 174.079219 \nL 72.529688 174.079219 \nL 72.529688 166.313504 \n\" style=\"fill:#e43841;\"/>\n    <path clip-path=\"url(#pf4708f123d)\" d=\"M 82.095402 166.313504 \nL 91.661116 166.313504 \nL 91.661116 174.079219 \nL 82.095402 174.079219 \nL 82.095402 166.313504 \n\" style=\"fill:#ec4c3e;\"/>\n    <path clip-path=\"url(#pf4708f123d)\" d=\"M 91.661116 166.313504 \nL 101.22683 166.313504 \nL 101.22683 174.079219 \nL 91.661116 174.079219 \nL 91.661116 166.313504 \n\" style=\"fill:#a11a5b;\"/>\n    <path clip-path=\"url(#pf4708f123d)\" d=\"M 101.22683 166.313504 \nL 110.792545 166.313504 \nL 110.792545 174.079219 \nL 101.22683 174.079219 \nL 101.22683 166.313504 \n\" style=\"fill:#e8403e;\"/>\n    <path clip-path=\"url(#pf4708f123d)\" d=\"M 110.792545 166.313504 \nL 120.358259 166.313504 \nL 120.358259 174.079219 \nL 110.792545 174.079219 \nL 110.792545 166.313504 \n\" style=\"fill:#de2e44;\"/>\n    <path clip-path=\"url(#pf4708f123d)\" d=\"M 120.358259 166.313504 \nL 129.923973 166.313504 \nL 129.923973 174.079219 \nL 120.358259 174.079219 \nL 120.358259 166.313504 \n\" style=\"fill:#f16244;\"/>\n    <path clip-path=\"url(#pf4708f123d)\" d=\"M 129.923973 166.313504 \nL 139.489688 166.313504 \nL 139.489688 174.079219 \nL 129.923973 174.079219 \nL 129.923973 166.313504 \n\" style=\"fill:#ad1759;\"/>\n    <path clip-path=\"url(#pf4708f123d)\" d=\"M 139.489688 166.313504 \nL 149.055402 166.313504 \nL 149.055402 174.079219 \nL 139.489688 174.079219 \nL 139.489688 166.313504 \n\" style=\"fill:#af1759;\"/>\n    <path clip-path=\"url(#pf4708f123d)\" d=\"M 149.055402 166.313504 \nL 158.621116 166.313504 \nL 158.621116 174.079219 \nL 149.055402 174.079219 \nL 149.055402 166.313504 \n\" style=\"fill:#9e1a5b;\"/>\n    <path clip-path=\"url(#pf4708f123d)\" d=\"M 158.621116 166.313504 \nL 168.18683 166.313504 \nL 168.18683 174.079219 \nL 158.621116 174.079219 \nL 158.621116 166.313504 \n\" style=\"fill:#ef5a41;\"/>\n    <path clip-path=\"url(#pf4708f123d)\" d=\"M 168.18683 166.313504 \nL 177.752545 166.313504 \nL 177.752545 174.079219 \nL 168.18683 174.079219 \nL 168.18683 166.313504 \n\" style=\"fill:#eb483e;\"/>\n    <path clip-path=\"url(#pf4708f123d)\" d=\"M 177.752545 166.313504 \nL 187.318259 166.313504 \nL 187.318259 174.079219 \nL 177.752545 174.079219 \nL 177.752545 166.313504 \n\" style=\"fill:#f16244;\"/>\n    <path clip-path=\"url(#pf4708f123d)\" d=\"M 187.318259 166.313504 \nL 196.883973 166.313504 \nL 196.883973 174.079219 \nL 187.318259 174.079219 \nL 187.318259 166.313504 \n\" style=\"fill:#e8403e;\"/>\n    <path clip-path=\"url(#pf4708f123d)\" d=\"M 196.883973 166.313504 \nL 206.449688 166.313504 \nL 206.449688 174.079219 \nL 196.883973 174.079219 \nL 196.883973 166.313504 \n\" style=\"fill:#ee523f;\"/>\n    <path clip-path=\"url(#pf4708f123d)\" d=\"M 206.449688 166.313504 \nL 216.015402 166.313504 \nL 216.015402 174.079219 \nL 206.449688 174.079219 \nL 206.449688 166.313504 \n\" style=\"fill:#931c5b;\"/>\n    <path clip-path=\"url(#pf4708f123d)\" d=\"M 216.015402 166.313504 \nL 225.581116 166.313504 \nL 225.581116 174.079219 \nL 216.015402 174.079219 \nL 216.015402 166.313504 \n\" style=\"fill:#f58f66;\"/>\n    <path clip-path=\"url(#pf4708f123d)\" d=\"M 225.581116 166.313504 \nL 235.14683 166.313504 \nL 235.14683 174.079219 \nL 225.581116 174.079219 \nL 225.581116 166.313504 \n\" style=\"fill:#f58d64;\"/>\n    <path clip-path=\"url(#pf4708f123d)\" d=\"M 235.14683 166.313504 \nL 244.712545 166.313504 \nL 244.712545 174.079219 \nL 235.14683 174.079219 \nL 235.14683 166.313504 \n\" style=\"fill:#f5976e;\"/>\n    <path clip-path=\"url(#pf4708f123d)\" d=\"M 244.712545 166.313504 \nL 254.278259 166.313504 \nL 254.278259 174.079219 \nL 244.712545 174.079219 \nL 244.712545 166.313504 \n\" style=\"fill:#b21758;\"/>\n    <path clip-path=\"url(#pf4708f123d)\" d=\"M 254.278259 166.313504 \nL 263.843973 166.313504 \nL 263.843973 174.079219 \nL 254.278259 174.079219 \nL 254.278259 166.313504 \n\" style=\"fill:#c41753;\"/>\n    <path clip-path=\"url(#pf4708f123d)\" d=\"M 263.843973 166.313504 \nL 273.409688 166.313504 \nL 273.409688 174.079219 \nL 263.843973 174.079219 \nL 263.843973 166.313504 \n\" style=\"fill:#faebdd;\"/>\n    <path clip-path=\"url(#pf4708f123d)\" d=\"M 273.409688 166.313504 \nL 282.975402 166.313504 \nL 282.975402 174.079219 \nL 273.409688 174.079219 \nL 273.409688 166.313504 \n\" style=\"fill:#d5224a;\"/>\n    <path clip-path=\"url(#pf4708f123d)\" d=\"M 282.975402 166.313504 \nL 292.541116 166.313504 \nL 292.541116 174.079219 \nL 282.975402 174.079219 \nL 282.975402 166.313504 \n\" style=\"fill:#ef5a41;\"/>\n    <path clip-path=\"url(#pf4708f123d)\" d=\"M 292.541116 166.313504 \nL 302.10683 166.313504 \nL 302.10683 174.079219 \nL 292.541116 174.079219 \nL 292.541116 166.313504 \n\" style=\"fill:#e63b40;\"/>\n    <path clip-path=\"url(#pf4708f123d)\" d=\"M 302.10683 166.313504 \nL 311.672545 166.313504 \nL 311.672545 174.079219 \nL 302.10683 174.079219 \nL 302.10683 166.313504 \n\" style=\"fill:#b41658;\"/>\n    <path clip-path=\"url(#pf4708f123d)\" d=\"M 311.672545 166.313504 \nL 321.238259 166.313504 \nL 321.238259 174.079219 \nL 311.672545 174.079219 \nL 311.672545 166.313504 \n\" style=\"fill:#e9423e;\"/>\n    <path clip-path=\"url(#pf4708f123d)\" d=\"M 321.238259 166.313504 \nL 330.803973 166.313504 \nL 330.803973 174.079219 \nL 321.238259 174.079219 \nL 321.238259 166.313504 \n\" style=\"fill:#e13342;\"/>\n    <path clip-path=\"url(#pf4708f123d)\" d=\"M 330.803973 166.313504 \nL 340.369688 166.313504 \nL 340.369688 174.079219 \nL 330.803973 174.079219 \nL 330.803973 166.313504 \n\" style=\"fill:#8c1d5b;\"/>\n    <path clip-path=\"url(#pf4708f123d)\" d=\"M 72.529688 174.079219 \nL 82.095402 174.079219 \nL 82.095402 181.844933 \nL 72.529688 181.844933 \nL 72.529688 174.079219 \n\" style=\"fill:#eb483e;\"/>\n    <path clip-path=\"url(#pf4708f123d)\" d=\"M 82.095402 174.079219 \nL 91.661116 174.079219 \nL 91.661116 181.844933 \nL 82.095402 181.844933 \nL 82.095402 174.079219 \n\" style=\"fill:#f37651;\"/>\n    <path clip-path=\"url(#pf4708f123d)\" d=\"M 91.661116 174.079219 \nL 101.22683 174.079219 \nL 101.22683 181.844933 \nL 91.661116 181.844933 \nL 91.661116 174.079219 \n\" style=\"fill:#bd1655;\"/>\n    <path clip-path=\"url(#pf4708f123d)\" d=\"M 101.22683 174.079219 \nL 110.792545 174.079219 \nL 110.792545 181.844933 \nL 101.22683 181.844933 \nL 101.22683 174.079219 \n\" style=\"fill:#f6b893;\"/>\n    <path clip-path=\"url(#pf4708f123d)\" d=\"M 110.792545 174.079219 \nL 120.358259 174.079219 \nL 120.358259 181.844933 \nL 110.792545 181.844933 \nL 110.792545 174.079219 \n\" style=\"fill:#f6b995;\"/>\n    <path clip-path=\"url(#pf4708f123d)\" d=\"M 120.358259 174.079219 \nL 129.923973 174.079219 \nL 129.923973 181.844933 \nL 120.358259 181.844933 \nL 120.358259 174.079219 \n\" style=\"fill:#e53940;\"/>\n    <path clip-path=\"url(#pf4708f123d)\" d=\"M 129.923973 174.079219 \nL 139.489688 174.079219 \nL 139.489688 181.844933 \nL 129.923973 181.844933 \nL 129.923973 174.079219 \n\" style=\"fill:#f05e42;\"/>\n    <path clip-path=\"url(#pf4708f123d)\" d=\"M 139.489688 174.079219 \nL 149.055402 174.079219 \nL 149.055402 181.844933 \nL 139.489688 181.844933 \nL 139.489688 174.079219 \n\" style=\"fill:#f16646;\"/>\n    <path clip-path=\"url(#pf4708f123d)\" d=\"M 149.055402 174.079219 \nL 158.621116 174.079219 \nL 158.621116 181.844933 \nL 149.055402 181.844933 \nL 149.055402 174.079219 \n\" style=\"fill:#c21753;\"/>\n    <path clip-path=\"url(#pf4708f123d)\" d=\"M 158.621116 174.079219 \nL 168.18683 174.079219 \nL 168.18683 181.844933 \nL 158.621116 181.844933 \nL 158.621116 174.079219 \n\" style=\"fill:#f6b18b;\"/>\n    <path clip-path=\"url(#pf4708f123d)\" d=\"M 168.18683 174.079219 \nL 177.752545 174.079219 \nL 177.752545 181.844933 \nL 168.18683 181.844933 \nL 168.18683 174.079219 \n\" style=\"fill:#f6b691;\"/>\n    <path clip-path=\"url(#pf4708f123d)\" d=\"M 177.752545 174.079219 \nL 187.318259 174.079219 \nL 187.318259 181.844933 \nL 177.752545 181.844933 \nL 177.752545 174.079219 \n\" style=\"fill:#e63b40;\"/>\n    <path clip-path=\"url(#pf4708f123d)\" d=\"M 187.318259 174.079219 \nL 196.883973 174.079219 \nL 196.883973 181.844933 \nL 187.318259 181.844933 \nL 187.318259 174.079219 \n\" style=\"fill:#f6b38d;\"/>\n    <path clip-path=\"url(#pf4708f123d)\" d=\"M 196.883973 174.079219 \nL 206.449688 174.079219 \nL 206.449688 181.844933 \nL 196.883973 181.844933 \nL 196.883973 174.079219 \n\" style=\"fill:#f6b691;\"/>\n    <path clip-path=\"url(#pf4708f123d)\" d=\"M 206.449688 174.079219 \nL 216.015402 174.079219 \nL 216.015402 181.844933 \nL 206.449688 181.844933 \nL 206.449688 174.079219 \n\" style=\"fill:#e33641;\"/>\n    <path clip-path=\"url(#pf4708f123d)\" d=\"M 216.015402 174.079219 \nL 225.581116 174.079219 \nL 225.581116 181.844933 \nL 216.015402 181.844933 \nL 216.015402 174.079219 \n\" style=\"fill:#dd2c45;\"/>\n    <path clip-path=\"url(#pf4708f123d)\" d=\"M 225.581116 174.079219 \nL 235.14683 174.079219 \nL 235.14683 181.844933 \nL 225.581116 181.844933 \nL 225.581116 174.079219 \n\" style=\"fill:#f59067;\"/>\n    <path clip-path=\"url(#pf4708f123d)\" d=\"M 235.14683 174.079219 \nL 244.712545 174.079219 \nL 244.712545 181.844933 \nL 235.14683 181.844933 \nL 235.14683 174.079219 \n\" style=\"fill:#f47d57;\"/>\n    <path clip-path=\"url(#pf4708f123d)\" d=\"M 244.712545 174.079219 \nL 254.278259 174.079219 \nL 254.278259 181.844933 \nL 244.712545 181.844933 \nL 244.712545 174.079219 \n\" style=\"fill:#f6bb97;\"/>\n    <path clip-path=\"url(#pf4708f123d)\" d=\"M 254.278259 174.079219 \nL 263.843973 174.079219 \nL 263.843973 181.844933 \nL 254.278259 181.844933 \nL 254.278259 174.079219 \n\" style=\"fill:#f47c55;\"/>\n    <path clip-path=\"url(#pf4708f123d)\" d=\"M 263.843973 174.079219 \nL 273.409688 174.079219 \nL 273.409688 181.844933 \nL 263.843973 181.844933 \nL 263.843973 174.079219 \n\" style=\"fill:#d5224a;\"/>\n    <path clip-path=\"url(#pf4708f123d)\" d=\"M 273.409688 174.079219 \nL 282.975402 174.079219 \nL 282.975402 181.844933 \nL 273.409688 181.844933 \nL 273.409688 174.079219 \n\" style=\"fill:#faebdd;\"/>\n    <path clip-path=\"url(#pf4708f123d)\" d=\"M 282.975402 174.079219 \nL 292.541116 174.079219 \nL 292.541116 181.844933 \nL 282.975402 181.844933 \nL 282.975402 174.079219 \n\" style=\"fill:#f37651;\"/>\n    <path clip-path=\"url(#pf4708f123d)\" d=\"M 292.541116 174.079219 \nL 302.10683 174.079219 \nL 302.10683 181.844933 \nL 292.541116 181.844933 \nL 292.541116 174.079219 \n\" style=\"fill:#f6bb97;\"/>\n    <path clip-path=\"url(#pf4708f123d)\" d=\"M 302.10683 174.079219 \nL 311.672545 174.079219 \nL 311.672545 181.844933 \nL 302.10683 181.844933 \nL 302.10683 174.079219 \n\" style=\"fill:#ba1656;\"/>\n    <path clip-path=\"url(#pf4708f123d)\" d=\"M 311.672545 174.079219 \nL 321.238259 174.079219 \nL 321.238259 181.844933 \nL 311.672545 181.844933 \nL 311.672545 174.079219 \n\" style=\"fill:#f47c55;\"/>\n    <path clip-path=\"url(#pf4708f123d)\" d=\"M 321.238259 174.079219 \nL 330.803973 174.079219 \nL 330.803973 181.844933 \nL 321.238259 181.844933 \nL 321.238259 174.079219 \n\" style=\"fill:#f6a077;\"/>\n    <path clip-path=\"url(#pf4708f123d)\" d=\"M 330.803973 174.079219 \nL 340.369688 174.079219 \nL 340.369688 181.844933 \nL 330.803973 181.844933 \nL 330.803973 174.079219 \n\" style=\"fill:#541e4e;\"/>\n    <path clip-path=\"url(#pf4708f123d)\" d=\"M 72.529688 181.844933 \nL 82.095402 181.844933 \nL 82.095402 189.610647 \nL 72.529688 189.610647 \nL 72.529688 181.844933 \n\" style=\"fill:#e43841;\"/>\n    <path clip-path=\"url(#pf4708f123d)\" d=\"M 82.095402 181.844933 \nL 91.661116 181.844933 \nL 91.661116 189.610647 \nL 82.095402 189.610647 \nL 82.095402 181.844933 \n\" style=\"fill:#ee523f;\"/>\n    <path clip-path=\"url(#pf4708f123d)\" d=\"M 91.661116 181.844933 \nL 101.22683 181.844933 \nL 101.22683 189.610647 \nL 91.661116 189.610647 \nL 91.661116 181.844933 \n\" style=\"fill:#d3214b;\"/>\n    <path clip-path=\"url(#pf4708f123d)\" d=\"M 101.22683 181.844933 \nL 110.792545 181.844933 \nL 110.792545 189.610647 \nL 101.22683 189.610647 \nL 101.22683 181.844933 \n\" style=\"fill:#ef5840;\"/>\n    <path clip-path=\"url(#pf4708f123d)\" d=\"M 110.792545 181.844933 \nL 120.358259 181.844933 \nL 120.358259 189.610647 \nL 110.792545 189.610647 \nL 110.792545 181.844933 \n\" style=\"fill:#ed503e;\"/>\n    <path clip-path=\"url(#pf4708f123d)\" d=\"M 120.358259 181.844933 \nL 129.923973 181.844933 \nL 129.923973 189.610647 \nL 120.358259 189.610647 \nL 120.358259 181.844933 \n\" style=\"fill:#e83f3f;\"/>\n    <path clip-path=\"url(#pf4708f123d)\" d=\"M 129.923973 181.844933 \nL 139.489688 181.844933 \nL 139.489688 189.610647 \nL 129.923973 189.610647 \nL 129.923973 181.844933 \n\" style=\"fill:#c41753;\"/>\n    <path clip-path=\"url(#pf4708f123d)\" d=\"M 139.489688 181.844933 \nL 149.055402 181.844933 \nL 149.055402 189.610647 \nL 139.489688 189.610647 \nL 139.489688 181.844933 \n\" style=\"fill:#c71951;\"/>\n    <path clip-path=\"url(#pf4708f123d)\" d=\"M 149.055402 181.844933 \nL 158.621116 181.844933 \nL 158.621116 189.610647 \nL 149.055402 189.610647 \nL 149.055402 181.844933 \n\" style=\"fill:#b51657;\"/>\n    <path clip-path=\"url(#pf4708f123d)\" d=\"M 158.621116 181.844933 \nL 168.18683 181.844933 \nL 168.18683 189.610647 \nL 158.621116 189.610647 \nL 158.621116 181.844933 \n\" style=\"fill:#f26747;\"/>\n    <path clip-path=\"url(#pf4708f123d)\" d=\"M 168.18683 181.844933 \nL 177.752545 181.844933 \nL 177.752545 189.610647 \nL 168.18683 189.610647 \nL 168.18683 181.844933 \n\" style=\"fill:#f16445;\"/>\n    <path clip-path=\"url(#pf4708f123d)\" d=\"M 177.752545 181.844933 \nL 187.318259 181.844933 \nL 187.318259 189.610647 \nL 177.752545 189.610647 \nL 177.752545 181.844933 \n\" style=\"fill:#e8403e;\"/>\n    <path clip-path=\"url(#pf4708f123d)\" d=\"M 187.318259 181.844933 \nL 196.883973 181.844933 \nL 196.883973 189.610647 \nL 187.318259 189.610647 \nL 187.318259 181.844933 \n\" style=\"fill:#f16244;\"/>\n    <path clip-path=\"url(#pf4708f123d)\" d=\"M 196.883973 181.844933 \nL 206.449688 181.844933 \nL 206.449688 189.610647 \nL 196.883973 189.610647 \nL 196.883973 181.844933 \n\" style=\"fill:#f26b49;\"/>\n    <path clip-path=\"url(#pf4708f123d)\" d=\"M 206.449688 181.844933 \nL 216.015402 181.844933 \nL 216.015402 189.610647 \nL 206.449688 189.610647 \nL 206.449688 181.844933 \n\" style=\"fill:#bf1654;\"/>\n    <path clip-path=\"url(#pf4708f123d)\" d=\"M 216.015402 181.844933 \nL 225.581116 181.844933 \nL 225.581116 189.610647 \nL 216.015402 189.610647 \nL 216.015402 181.844933 \n\" style=\"fill:#f26f4c;\"/>\n    <path clip-path=\"url(#pf4708f123d)\" d=\"M 225.581116 181.844933 \nL 235.14683 181.844933 \nL 235.14683 189.610647 \nL 225.581116 189.610647 \nL 225.581116 181.844933 \n\" style=\"fill:#f37852;\"/>\n    <path clip-path=\"url(#pf4708f123d)\" d=\"M 235.14683 181.844933 \nL 244.712545 181.844933 \nL 244.712545 189.610647 \nL 235.14683 189.610647 \nL 235.14683 181.844933 \n\" style=\"fill:#f47d57;\"/>\n    <path clip-path=\"url(#pf4708f123d)\" d=\"M 244.712545 181.844933 \nL 254.278259 181.844933 \nL 254.278259 189.610647 \nL 244.712545 189.610647 \nL 244.712545 181.844933 \n\" style=\"fill:#e83f3f;\"/>\n    <path clip-path=\"url(#pf4708f123d)\" d=\"M 254.278259 181.844933 \nL 263.843973 181.844933 \nL 263.843973 189.610647 \nL 254.278259 189.610647 \nL 254.278259 181.844933 \n\" style=\"fill:#f26747;\"/>\n    <path clip-path=\"url(#pf4708f123d)\" d=\"M 263.843973 181.844933 \nL 273.409688 181.844933 \nL 273.409688 189.610647 \nL 263.843973 189.610647 \nL 263.843973 181.844933 \n\" style=\"fill:#ef5a41;\"/>\n    <path clip-path=\"url(#pf4708f123d)\" d=\"M 273.409688 181.844933 \nL 282.975402 181.844933 \nL 282.975402 189.610647 \nL 273.409688 189.610647 \nL 273.409688 181.844933 \n\" style=\"fill:#f37651;\"/>\n    <path clip-path=\"url(#pf4708f123d)\" d=\"M 282.975402 181.844933 \nL 292.541116 181.844933 \nL 292.541116 189.610647 \nL 282.975402 189.610647 \nL 282.975402 181.844933 \n\" style=\"fill:#faebdd;\"/>\n    <path clip-path=\"url(#pf4708f123d)\" d=\"M 292.541116 181.844933 \nL 302.10683 181.844933 \nL 302.10683 189.610647 \nL 292.541116 189.610647 \nL 292.541116 181.844933 \n\" style=\"fill:#ef5640;\"/>\n    <path clip-path=\"url(#pf4708f123d)\" d=\"M 302.10683 181.844933 \nL 311.672545 181.844933 \nL 311.672545 189.610647 \nL 302.10683 189.610647 \nL 302.10683 181.844933 \n\" style=\"fill:#9e1a5b;\"/>\n    <path clip-path=\"url(#pf4708f123d)\" d=\"M 311.672545 181.844933 \nL 321.238259 181.844933 \nL 321.238259 189.610647 \nL 311.672545 189.610647 \nL 311.672545 181.844933 \n\" style=\"fill:#d92847;\"/>\n    <path clip-path=\"url(#pf4708f123d)\" d=\"M 321.238259 181.844933 \nL 330.803973 181.844933 \nL 330.803973 189.610647 \nL 321.238259 189.610647 \nL 321.238259 181.844933 \n\" style=\"fill:#e53940;\"/>\n    <path clip-path=\"url(#pf4708f123d)\" d=\"M 330.803973 181.844933 \nL 340.369688 181.844933 \nL 340.369688 189.610647 \nL 330.803973 189.610647 \nL 330.803973 181.844933 \n\" style=\"fill:#9a1b5b;\"/>\n    <path clip-path=\"url(#pf4708f123d)\" d=\"M 72.529688 189.610647 \nL 82.095402 189.610647 \nL 82.095402 197.376362 \nL 72.529688 197.376362 \nL 72.529688 189.610647 \n\" style=\"fill:#f4815a;\"/>\n    <path clip-path=\"url(#pf4708f123d)\" d=\"M 82.095402 189.610647 \nL 91.661116 189.610647 \nL 91.661116 197.376362 \nL 82.095402 197.376362 \nL 82.095402 189.610647 \n\" style=\"fill:#f6a178;\"/>\n    <path clip-path=\"url(#pf4708f123d)\" d=\"M 91.661116 189.610647 \nL 101.22683 189.610647 \nL 101.22683 197.376362 \nL 91.661116 197.376362 \nL 91.661116 189.610647 \n\" style=\"fill:#891e5b;\"/>\n    <path clip-path=\"url(#pf4708f123d)\" d=\"M 101.22683 189.610647 \nL 110.792545 189.610647 \nL 110.792545 197.376362 \nL 101.22683 197.376362 \nL 101.22683 189.610647 \n\" style=\"fill:#fae8d8;\"/>\n    <path clip-path=\"url(#pf4708f123d)\" d=\"M 110.792545 189.610647 \nL 120.358259 189.610647 \nL 120.358259 197.376362 \nL 110.792545 197.376362 \nL 110.792545 189.610647 \n\" style=\"fill:#fae6d6;\"/>\n    <path clip-path=\"url(#pf4708f123d)\" d=\"M 120.358259 189.610647 \nL 129.923973 189.610647 \nL 129.923973 197.376362 \nL 120.358259 197.376362 \nL 120.358259 189.610647 \n\" style=\"fill:#ef5a41;\"/>\n    <path clip-path=\"url(#pf4708f123d)\" d=\"M 129.923973 189.610647 \nL 139.489688 189.610647 \nL 139.489688 197.376362 \nL 129.923973 197.376362 \nL 129.923973 189.610647 \n\" style=\"fill:#f69e75;\"/>\n    <path clip-path=\"url(#pf4708f123d)\" d=\"M 139.489688 189.610647 \nL 149.055402 189.610647 \nL 149.055402 197.376362 \nL 139.489688 197.376362 \nL 139.489688 189.610647 \n\" style=\"fill:#f6a178;\"/>\n    <path clip-path=\"url(#pf4708f123d)\" d=\"M 149.055402 189.610647 \nL 158.621116 189.610647 \nL 158.621116 197.376362 \nL 149.055402 197.376362 \nL 149.055402 189.610647 \n\" style=\"fill:#db2946;\"/>\n    <path clip-path=\"url(#pf4708f123d)\" d=\"M 158.621116 189.610647 \nL 168.18683 189.610647 \nL 168.18683 197.376362 \nL 158.621116 197.376362 \nL 158.621116 189.610647 \n\" style=\"fill:#f7cfb3;\"/>\n    <path clip-path=\"url(#pf4708f123d)\" d=\"M 168.18683 189.610647 \nL 177.752545 189.610647 \nL 177.752545 197.376362 \nL 168.18683 197.376362 \nL 168.18683 189.610647 \n\" style=\"fill:#f7cdb1;\"/>\n    <path clip-path=\"url(#pf4708f123d)\" d=\"M 177.752545 189.610647 \nL 187.318259 189.610647 \nL 187.318259 197.376362 \nL 177.752545 197.376362 \nL 177.752545 189.610647 \n\" style=\"fill:#f05e42;\"/>\n    <path clip-path=\"url(#pf4708f123d)\" d=\"M 187.318259 189.610647 \nL 196.883973 189.610647 \nL 196.883973 197.376362 \nL 187.318259 197.376362 \nL 187.318259 189.610647 \n\" style=\"fill:#f7d0b5;\"/>\n    <path clip-path=\"url(#pf4708f123d)\" d=\"M 196.883973 189.610647 \nL 206.449688 189.610647 \nL 206.449688 197.376362 \nL 196.883973 197.376362 \nL 196.883973 189.610647 \n\" style=\"fill:#f7cdb1;\"/>\n    <path clip-path=\"url(#pf4708f123d)\" d=\"M 206.449688 189.610647 \nL 216.015402 189.610647 \nL 216.015402 197.376362 \nL 206.449688 197.376362 \nL 206.449688 189.610647 \n\" style=\"fill:#ee523f;\"/>\n    <path clip-path=\"url(#pf4708f123d)\" d=\"M 216.015402 189.610647 \nL 225.581116 189.610647 \nL 225.581116 197.376362 \nL 216.015402 197.376362 \nL 216.015402 189.610647 \n\" style=\"fill:#df2f44;\"/>\n    <path clip-path=\"url(#pf4708f123d)\" d=\"M 225.581116 189.610647 \nL 235.14683 189.610647 \nL 235.14683 197.376362 \nL 225.581116 197.376362 \nL 225.581116 189.610647 \n\" style=\"fill:#f69b71;\"/>\n    <path clip-path=\"url(#pf4708f123d)\" d=\"M 235.14683 189.610647 \nL 244.712545 189.610647 \nL 244.712545 197.376362 \nL 235.14683 197.376362 \nL 235.14683 189.610647 \n\" style=\"fill:#f58860;\"/>\n    <path clip-path=\"url(#pf4708f123d)\" d=\"M 244.712545 189.610647 \nL 254.278259 189.610647 \nL 254.278259 197.376362 \nL 244.712545 197.376362 \nL 244.712545 189.610647 \n\" style=\"fill:#f69e75;\"/>\n    <path clip-path=\"url(#pf4708f123d)\" d=\"M 254.278259 189.610647 \nL 263.843973 189.610647 \nL 263.843973 197.376362 \nL 254.278259 197.376362 \nL 254.278259 189.610647 \n\" style=\"fill:#f37450;\"/>\n    <path clip-path=\"url(#pf4708f123d)\" d=\"M 263.843973 189.610647 \nL 273.409688 189.610647 \nL 273.409688 197.376362 \nL 263.843973 197.376362 \nL 263.843973 189.610647 \n\" style=\"fill:#e63b40;\"/>\n    <path clip-path=\"url(#pf4708f123d)\" d=\"M 273.409688 189.610647 \nL 282.975402 189.610647 \nL 282.975402 197.376362 \nL 273.409688 197.376362 \nL 273.409688 189.610647 \n\" style=\"fill:#f6bb97;\"/>\n    <path clip-path=\"url(#pf4708f123d)\" d=\"M 282.975402 189.610647 \nL 292.541116 189.610647 \nL 292.541116 197.376362 \nL 282.975402 197.376362 \nL 282.975402 189.610647 \n\" style=\"fill:#ef5640;\"/>\n    <path clip-path=\"url(#pf4708f123d)\" d=\"M 292.541116 189.610647 \nL 302.10683 189.610647 \nL 302.10683 197.376362 \nL 292.541116 197.376362 \nL 292.541116 189.610647 \n\" style=\"fill:#faebdd;\"/>\n    <path clip-path=\"url(#pf4708f123d)\" d=\"M 302.10683 189.610647 \nL 311.672545 189.610647 \nL 311.672545 197.376362 \nL 302.10683 197.376362 \nL 302.10683 189.610647 \n\" style=\"fill:#bc1656;\"/>\n    <path clip-path=\"url(#pf4708f123d)\" d=\"M 311.672545 189.610647 \nL 321.238259 189.610647 \nL 321.238259 197.376362 \nL 311.672545 197.376362 \nL 311.672545 189.610647 \n\" style=\"fill:#f6ab83;\"/>\n    <path clip-path=\"url(#pf4708f123d)\" d=\"M 321.238259 189.610647 \nL 330.803973 189.610647 \nL 330.803973 197.376362 \nL 321.238259 197.376362 \nL 321.238259 189.610647 \n\" style=\"fill:#f6b089;\"/>\n    <path clip-path=\"url(#pf4708f123d)\" d=\"M 330.803973 189.610647 \nL 340.369688 189.610647 \nL 340.369688 197.376362 \nL 330.803973 197.376362 \nL 330.803973 189.610647 \n\" style=\"fill:#271534;\"/>\n    <path clip-path=\"url(#pf4708f123d)\" d=\"M 72.529688 197.376362 \nL 82.095402 197.376362 \nL 82.095402 205.142076 \nL 72.529688 205.142076 \nL 72.529688 197.376362 \n\" style=\"fill:#c11754;\"/>\n    <path clip-path=\"url(#pf4708f123d)\" d=\"M 82.095402 197.376362 \nL 91.661116 197.376362 \nL 91.661116 205.142076 \nL 82.095402 205.142076 \nL 82.095402 197.376362 \n\" style=\"fill:#b51657;\"/>\n    <path clip-path=\"url(#pf4708f123d)\" d=\"M 91.661116 197.376362 \nL 101.22683 197.376362 \nL 101.22683 205.142076 \nL 91.661116 205.142076 \nL 91.661116 197.376362 \n\" style=\"fill:#d5224a;\"/>\n    <path clip-path=\"url(#pf4708f123d)\" d=\"M 101.22683 197.376362 \nL 110.792545 197.376362 \nL 110.792545 205.142076 \nL 101.22683 205.142076 \nL 101.22683 197.376362 \n\" style=\"fill:#b91657;\"/>\n    <path clip-path=\"url(#pf4708f123d)\" d=\"M 110.792545 197.376362 \nL 120.358259 197.376362 \nL 120.358259 205.142076 \nL 110.792545 205.142076 \nL 110.792545 197.376362 \n\" style=\"fill:#b71657;\"/>\n    <path clip-path=\"url(#pf4708f123d)\" d=\"M 120.358259 197.376362 \nL 129.923973 197.376362 \nL 129.923973 205.142076 \nL 120.358259 205.142076 \nL 120.358259 197.376362 \n\" style=\"fill:#c51852;\"/>\n    <path clip-path=\"url(#pf4708f123d)\" d=\"M 129.923973 197.376362 \nL 139.489688 197.376362 \nL 139.489688 205.142076 \nL 129.923973 205.142076 \nL 129.923973 197.376362 \n\" style=\"fill:#d72549;\"/>\n    <path clip-path=\"url(#pf4708f123d)\" d=\"M 139.489688 197.376362 \nL 149.055402 197.376362 \nL 149.055402 205.142076 \nL 139.489688 205.142076 \nL 139.489688 197.376362 \n\" style=\"fill:#d3214b;\"/>\n    <path clip-path=\"url(#pf4708f123d)\" d=\"M 149.055402 197.376362 \nL 158.621116 197.376362 \nL 158.621116 205.142076 \nL 149.055402 205.142076 \nL 149.055402 197.376362 \n\" style=\"fill:#cd1c4e;\"/>\n    <path clip-path=\"url(#pf4708f123d)\" d=\"M 158.621116 197.376362 \nL 168.18683 197.376362 \nL 168.18683 205.142076 \nL 158.621116 205.142076 \nL 158.621116 197.376362 \n\" style=\"fill:#aa185a;\"/>\n    <path clip-path=\"url(#pf4708f123d)\" d=\"M 168.18683 197.376362 \nL 177.752545 197.376362 \nL 177.752545 205.142076 \nL 168.18683 205.142076 \nL 168.18683 197.376362 \n\" style=\"fill:#a6195a;\"/>\n    <path clip-path=\"url(#pf4708f123d)\" d=\"M 177.752545 197.376362 \nL 187.318259 197.376362 \nL 187.318259 205.142076 \nL 177.752545 205.142076 \nL 177.752545 197.376362 \n\" style=\"fill:#cd1c4e;\"/>\n    <path clip-path=\"url(#pf4708f123d)\" d=\"M 187.318259 197.376362 \nL 196.883973 197.376362 \nL 196.883973 205.142076 \nL 187.318259 205.142076 \nL 187.318259 197.376362 \n\" style=\"fill:#b91657;\"/>\n    <path clip-path=\"url(#pf4708f123d)\" d=\"M 196.883973 197.376362 \nL 206.449688 197.376362 \nL 206.449688 205.142076 \nL 196.883973 205.142076 \nL 196.883973 197.376362 \n\" style=\"fill:#b21758;\"/>\n    <path clip-path=\"url(#pf4708f123d)\" d=\"M 206.449688 197.376362 \nL 216.015402 197.376362 \nL 216.015402 205.142076 \nL 206.449688 205.142076 \nL 206.449688 197.376362 \n\" style=\"fill:#e13342;\"/>\n    <path clip-path=\"url(#pf4708f123d)\" d=\"M 216.015402 197.376362 \nL 225.581116 197.376362 \nL 225.581116 205.142076 \nL 216.015402 205.142076 \nL 216.015402 197.376362 \n\" style=\"fill:#9e1a5b;\"/>\n    <path clip-path=\"url(#pf4708f123d)\" d=\"M 225.581116 197.376362 \nL 235.14683 197.376362 \nL 235.14683 205.142076 \nL 225.581116 205.142076 \nL 225.581116 197.376362 \n\" style=\"fill:#c41753;\"/>\n    <path clip-path=\"url(#pf4708f123d)\" d=\"M 235.14683 197.376362 \nL 244.712545 197.376362 \nL 244.712545 205.142076 \nL 235.14683 205.142076 \nL 235.14683 197.376362 \n\" style=\"fill:#b91657;\"/>\n    <path clip-path=\"url(#pf4708f123d)\" d=\"M 244.712545 197.376362 \nL 254.278259 197.376362 \nL 254.278259 205.142076 \nL 244.712545 205.142076 \nL 244.712545 197.376362 \n\" style=\"fill:#e53940;\"/>\n    <path clip-path=\"url(#pf4708f123d)\" d=\"M 254.278259 197.376362 \nL 263.843973 197.376362 \nL 263.843973 205.142076 \nL 254.278259 205.142076 \nL 254.278259 197.376362 \n\" style=\"fill:#ca1a50;\"/>\n    <path clip-path=\"url(#pf4708f123d)\" d=\"M 263.843973 197.376362 \nL 273.409688 197.376362 \nL 273.409688 205.142076 \nL 263.843973 205.142076 \nL 263.843973 197.376362 \n\" style=\"fill:#b41658;\"/>\n    <path clip-path=\"url(#pf4708f123d)\" d=\"M 273.409688 197.376362 \nL 282.975402 197.376362 \nL 282.975402 205.142076 \nL 273.409688 205.142076 \nL 273.409688 197.376362 \n\" style=\"fill:#ba1656;\"/>\n    <path clip-path=\"url(#pf4708f123d)\" d=\"M 282.975402 197.376362 \nL 292.541116 197.376362 \nL 292.541116 205.142076 \nL 282.975402 205.142076 \nL 282.975402 197.376362 \n\" style=\"fill:#9e1a5b;\"/>\n    <path clip-path=\"url(#pf4708f123d)\" d=\"M 292.541116 197.376362 \nL 302.10683 197.376362 \nL 302.10683 205.142076 \nL 292.541116 205.142076 \nL 292.541116 197.376362 \n\" style=\"fill:#bc1656;\"/>\n    <path clip-path=\"url(#pf4708f123d)\" d=\"M 302.10683 197.376362 \nL 311.672545 197.376362 \nL 311.672545 205.142076 \nL 302.10683 205.142076 \nL 302.10683 197.376362 \n\" style=\"fill:#faebdd;\"/>\n    <path clip-path=\"url(#pf4708f123d)\" d=\"M 311.672545 197.376362 \nL 321.238259 197.376362 \nL 321.238259 205.142076 \nL 311.672545 205.142076 \nL 311.672545 197.376362 \n\" style=\"fill:#cd1c4e;\"/>\n    <path clip-path=\"url(#pf4708f123d)\" d=\"M 321.238259 197.376362 \nL 330.803973 197.376362 \nL 330.803973 205.142076 \nL 321.238259 205.142076 \nL 321.238259 197.376362 \n\" style=\"fill:#eb483e;\"/>\n    <path clip-path=\"url(#pf4708f123d)\" d=\"M 330.803973 197.376362 \nL 340.369688 197.376362 \nL 340.369688 205.142076 \nL 330.803973 205.142076 \nL 330.803973 197.376362 \n\" style=\"fill:#a4195b;\"/>\n    <path clip-path=\"url(#pf4708f123d)\" d=\"M 72.529688 205.142076 \nL 82.095402 205.142076 \nL 82.095402 212.90779 \nL 72.529688 212.90779 \nL 72.529688 205.142076 \n\" style=\"fill:#f6b38d;\"/>\n    <path clip-path=\"url(#pf4708f123d)\" d=\"M 82.095402 205.142076 \nL 91.661116 205.142076 \nL 91.661116 212.90779 \nL 82.095402 212.90779 \nL 82.095402 205.142076 \n\" style=\"fill:#f6b18b;\"/>\n    <path clip-path=\"url(#pf4708f123d)\" d=\"M 91.661116 205.142076 \nL 101.22683 205.142076 \nL 101.22683 212.90779 \nL 91.661116 212.90779 \nL 91.661116 205.142076 \n\" style=\"fill:#2a1636;\"/>\n    <path clip-path=\"url(#pf4708f123d)\" d=\"M 101.22683 205.142076 \nL 110.792545 205.142076 \nL 110.792545 212.90779 \nL 101.22683 212.90779 \nL 101.22683 205.142076 \n\" style=\"fill:#f6a981;\"/>\n    <path clip-path=\"url(#pf4708f123d)\" d=\"M 110.792545 205.142076 \nL 120.358259 205.142076 \nL 120.358259 212.90779 \nL 110.792545 212.90779 \nL 110.792545 205.142076 \n\" style=\"fill:#f6a880;\"/>\n    <path clip-path=\"url(#pf4708f123d)\" d=\"M 120.358259 205.142076 \nL 129.923973 205.142076 \nL 129.923973 212.90779 \nL 120.358259 212.90779 \nL 120.358259 205.142076 \n\" style=\"fill:#e43841;\"/>\n    <path clip-path=\"url(#pf4708f123d)\" d=\"M 129.923973 205.142076 \nL 139.489688 205.142076 \nL 139.489688 212.90779 \nL 129.923973 212.90779 \nL 129.923973 205.142076 \n\" style=\"fill:#f4845d;\"/>\n    <path clip-path=\"url(#pf4708f123d)\" d=\"M 139.489688 205.142076 \nL 149.055402 205.142076 \nL 149.055402 212.90779 \nL 139.489688 212.90779 \nL 139.489688 205.142076 \n\" style=\"fill:#f4865e;\"/>\n    <path clip-path=\"url(#pf4708f123d)\" d=\"M 149.055402 205.142076 \nL 158.621116 205.142076 \nL 158.621116 212.90779 \nL 149.055402 212.90779 \nL 149.055402 205.142076 \n\" style=\"fill:#cb1b4f;\"/>\n    <path clip-path=\"url(#pf4708f123d)\" d=\"M 158.621116 205.142076 \nL 168.18683 205.142076 \nL 168.18683 212.90779 \nL 158.621116 212.90779 \nL 158.621116 205.142076 \n\" style=\"fill:#f58d64;\"/>\n    <path clip-path=\"url(#pf4708f123d)\" d=\"M 168.18683 205.142076 \nL 177.752545 205.142076 \nL 177.752545 212.90779 \nL 168.18683 212.90779 \nL 168.18683 205.142076 \n\" style=\"fill:#f58a61;\"/>\n    <path clip-path=\"url(#pf4708f123d)\" d=\"M 177.752545 205.142076 \nL 187.318259 205.142076 \nL 187.318259 212.90779 \nL 177.752545 212.90779 \nL 177.752545 205.142076 \n\" style=\"fill:#eb463e;\"/>\n    <path clip-path=\"url(#pf4708f123d)\" d=\"M 187.318259 205.142076 \nL 196.883973 205.142076 \nL 196.883973 212.90779 \nL 187.318259 212.90779 \nL 187.318259 205.142076 \n\" style=\"fill:#f4865e;\"/>\n    <path clip-path=\"url(#pf4708f123d)\" d=\"M 196.883973 205.142076 \nL 206.449688 205.142076 \nL 206.449688 212.90779 \nL 196.883973 212.90779 \nL 196.883973 205.142076 \n\" style=\"fill:#f58d64;\"/>\n    <path clip-path=\"url(#pf4708f123d)\" d=\"M 206.449688 205.142076 \nL 216.015402 205.142076 \nL 216.015402 212.90779 \nL 206.449688 212.90779 \nL 206.449688 205.142076 \n\" style=\"fill:#cd1c4e;\"/>\n    <path clip-path=\"url(#pf4708f123d)\" d=\"M 216.015402 205.142076 \nL 225.581116 205.142076 \nL 225.581116 212.90779 \nL 216.015402 212.90779 \nL 216.015402 205.142076 \n\" style=\"fill:#d62449;\"/>\n    <path clip-path=\"url(#pf4708f123d)\" d=\"M 225.581116 205.142076 \nL 235.14683 205.142076 \nL 235.14683 212.90779 \nL 225.581116 212.90779 \nL 225.581116 205.142076 \n\" style=\"fill:#f47f58;\"/>\n    <path clip-path=\"url(#pf4708f123d)\" d=\"M 235.14683 205.142076 \nL 244.712545 205.142076 \nL 244.712545 212.90779 \nL 235.14683 212.90779 \nL 235.14683 205.142076 \n\" style=\"fill:#f26d4b;\"/>\n    <path clip-path=\"url(#pf4708f123d)\" d=\"M 244.712545 205.142076 \nL 254.278259 205.142076 \nL 254.278259 212.90779 \nL 244.712545 212.90779 \nL 244.712545 205.142076 \n\" style=\"fill:#f59970;\"/>\n    <path clip-path=\"url(#pf4708f123d)\" d=\"M 254.278259 205.142076 \nL 263.843973 205.142076 \nL 263.843973 212.90779 \nL 254.278259 212.90779 \nL 254.278259 205.142076 \n\" style=\"fill:#e9423e;\"/>\n    <path clip-path=\"url(#pf4708f123d)\" d=\"M 263.843973 205.142076 \nL 273.409688 205.142076 \nL 273.409688 212.90779 \nL 263.843973 212.90779 \nL 263.843973 205.142076 \n\" style=\"fill:#e9423e;\"/>\n    <path clip-path=\"url(#pf4708f123d)\" d=\"M 273.409688 205.142076 \nL 282.975402 205.142076 \nL 282.975402 212.90779 \nL 273.409688 212.90779 \nL 273.409688 205.142076 \n\" style=\"fill:#f47c55;\"/>\n    <path clip-path=\"url(#pf4708f123d)\" d=\"M 282.975402 205.142076 \nL 292.541116 205.142076 \nL 292.541116 212.90779 \nL 282.975402 212.90779 \nL 282.975402 205.142076 \n\" style=\"fill:#d92847;\"/>\n    <path clip-path=\"url(#pf4708f123d)\" d=\"M 292.541116 205.142076 \nL 302.10683 205.142076 \nL 302.10683 212.90779 \nL 292.541116 212.90779 \nL 292.541116 205.142076 \n\" style=\"fill:#f6ab83;\"/>\n    <path clip-path=\"url(#pf4708f123d)\" d=\"M 302.10683 205.142076 \nL 311.672545 205.142076 \nL 311.672545 212.90779 \nL 302.10683 212.90779 \nL 302.10683 205.142076 \n\" style=\"fill:#cd1c4e;\"/>\n    <path clip-path=\"url(#pf4708f123d)\" d=\"M 311.672545 205.142076 \nL 321.238259 205.142076 \nL 321.238259 212.90779 \nL 311.672545 212.90779 \nL 311.672545 205.142076 \n\" style=\"fill:#faebdd;\"/>\n    <path clip-path=\"url(#pf4708f123d)\" d=\"M 321.238259 205.142076 \nL 330.803973 205.142076 \nL 330.803973 212.90779 \nL 321.238259 212.90779 \nL 321.238259 205.142076 \n\" style=\"fill:#f6b48f;\"/>\n    <path clip-path=\"url(#pf4708f123d)\" d=\"M 330.803973 205.142076 \nL 340.369688 205.142076 \nL 340.369688 212.90779 \nL 330.803973 212.90779 \nL 330.803973 205.142076 \n\" style=\"fill:#03051a;\"/>\n    <path clip-path=\"url(#pf4708f123d)\" d=\"M 72.529688 212.90779 \nL 82.095402 212.90779 \nL 82.095402 220.673504 \nL 72.529688 220.673504 \nL 72.529688 212.90779 \n\" style=\"fill:#ef5a41;\"/>\n    <path clip-path=\"url(#pf4708f123d)\" d=\"M 82.095402 212.90779 \nL 91.661116 212.90779 \nL 91.661116 220.673504 \nL 82.095402 220.673504 \nL 82.095402 212.90779 \n\" style=\"fill:#f58b63;\"/>\n    <path clip-path=\"url(#pf4708f123d)\" d=\"M 91.661116 212.90779 \nL 101.22683 212.90779 \nL 101.22683 220.673504 \nL 91.661116 220.673504 \nL 91.661116 212.90779 \n\" style=\"fill:#9e1a5b;\"/>\n    <path clip-path=\"url(#pf4708f123d)\" d=\"M 101.22683 212.90779 \nL 110.792545 212.90779 \nL 110.792545 220.673504 \nL 101.22683 220.673504 \nL 101.22683 212.90779 \n\" style=\"fill:#f6b089;\"/>\n    <path clip-path=\"url(#pf4708f123d)\" d=\"M 110.792545 212.90779 \nL 120.358259 212.90779 \nL 120.358259 220.673504 \nL 110.792545 220.673504 \nL 110.792545 212.90779 \n\" style=\"fill:#f6ab83;\"/>\n    <path clip-path=\"url(#pf4708f123d)\" d=\"M 120.358259 212.90779 \nL 129.923973 212.90779 \nL 129.923973 220.673504 \nL 120.358259 220.673504 \nL 120.358259 212.90779 \n\" style=\"fill:#ec4c3e;\"/>\n    <path clip-path=\"url(#pf4708f123d)\" d=\"M 129.923973 212.90779 \nL 139.489688 212.90779 \nL 139.489688 220.673504 \nL 129.923973 220.673504 \nL 129.923973 212.90779 \n\" style=\"fill:#f26747;\"/>\n    <path clip-path=\"url(#pf4708f123d)\" d=\"M 139.489688 212.90779 \nL 149.055402 212.90779 \nL 149.055402 220.673504 \nL 139.489688 220.673504 \nL 139.489688 212.90779 \n\" style=\"fill:#f26747;\"/>\n    <path clip-path=\"url(#pf4708f123d)\" d=\"M 149.055402 212.90779 \nL 158.621116 212.90779 \nL 158.621116 220.673504 \nL 149.055402 220.673504 \nL 149.055402 212.90779 \n\" style=\"fill:#c41753;\"/>\n    <path clip-path=\"url(#pf4708f123d)\" d=\"M 158.621116 212.90779 \nL 168.18683 212.90779 \nL 168.18683 220.673504 \nL 158.621116 220.673504 \nL 158.621116 212.90779 \n\" style=\"fill:#f6a37a;\"/>\n    <path clip-path=\"url(#pf4708f123d)\" d=\"M 168.18683 212.90779 \nL 177.752545 212.90779 \nL 177.752545 220.673504 \nL 168.18683 220.673504 \nL 168.18683 212.90779 \n\" style=\"fill:#f6a178;\"/>\n    <path clip-path=\"url(#pf4708f123d)\" d=\"M 177.752545 212.90779 \nL 187.318259 212.90779 \nL 187.318259 220.673504 \nL 177.752545 220.673504 \nL 177.752545 212.90779 \n\" style=\"fill:#eb483e;\"/>\n    <path clip-path=\"url(#pf4708f123d)\" d=\"M 187.318259 212.90779 \nL 196.883973 212.90779 \nL 196.883973 220.673504 \nL 187.318259 220.673504 \nL 187.318259 212.90779 \n\" style=\"fill:#f69b71;\"/>\n    <path clip-path=\"url(#pf4708f123d)\" d=\"M 196.883973 212.90779 \nL 206.449688 212.90779 \nL 206.449688 220.673504 \nL 196.883973 220.673504 \nL 196.883973 212.90779 \n\" style=\"fill:#f69c73;\"/>\n    <path clip-path=\"url(#pf4708f123d)\" d=\"M 206.449688 212.90779 \nL 216.015402 212.90779 \nL 216.015402 220.673504 \nL 206.449688 220.673504 \nL 206.449688 212.90779 \n\" style=\"fill:#e53940;\"/>\n    <path clip-path=\"url(#pf4708f123d)\" d=\"M 216.015402 212.90779 \nL 225.581116 212.90779 \nL 225.581116 220.673504 \nL 216.015402 220.673504 \nL 216.015402 212.90779 \n\" style=\"fill:#d82748;\"/>\n    <path clip-path=\"url(#pf4708f123d)\" d=\"M 225.581116 212.90779 \nL 235.14683 212.90779 \nL 235.14683 220.673504 \nL 225.581116 220.673504 \nL 225.581116 212.90779 \n\" style=\"fill:#f4845d;\"/>\n    <path clip-path=\"url(#pf4708f123d)\" d=\"M 235.14683 212.90779 \nL 244.712545 212.90779 \nL 244.712545 220.673504 \nL 235.14683 220.673504 \nL 235.14683 212.90779 \n\" style=\"fill:#f3734e;\"/>\n    <path clip-path=\"url(#pf4708f123d)\" d=\"M 244.712545 212.90779 \nL 254.278259 212.90779 \nL 254.278259 220.673504 \nL 244.712545 220.673504 \nL 244.712545 212.90779 \n\" style=\"fill:#f6a981;\"/>\n    <path clip-path=\"url(#pf4708f123d)\" d=\"M 254.278259 212.90779 \nL 263.843973 212.90779 \nL 263.843973 220.673504 \nL 254.278259 220.673504 \nL 254.278259 212.90779 \n\" style=\"fill:#f3714d;\"/>\n    <path clip-path=\"url(#pf4708f123d)\" d=\"M 263.843973 212.90779 \nL 273.409688 212.90779 \nL 273.409688 220.673504 \nL 263.843973 220.673504 \nL 263.843973 212.90779 \n\" style=\"fill:#e13342;\"/>\n    <path clip-path=\"url(#pf4708f123d)\" d=\"M 273.409688 212.90779 \nL 282.975402 212.90779 \nL 282.975402 220.673504 \nL 273.409688 220.673504 \nL 273.409688 212.90779 \n\" style=\"fill:#f6a077;\"/>\n    <path clip-path=\"url(#pf4708f123d)\" d=\"M 282.975402 212.90779 \nL 292.541116 212.90779 \nL 292.541116 220.673504 \nL 282.975402 220.673504 \nL 282.975402 212.90779 \n\" style=\"fill:#e53940;\"/>\n    <path clip-path=\"url(#pf4708f123d)\" d=\"M 292.541116 212.90779 \nL 302.10683 212.90779 \nL 302.10683 220.673504 \nL 292.541116 220.673504 \nL 292.541116 212.90779 \n\" style=\"fill:#f6b089;\"/>\n    <path clip-path=\"url(#pf4708f123d)\" d=\"M 302.10683 212.90779 \nL 311.672545 212.90779 \nL 311.672545 220.673504 \nL 302.10683 220.673504 \nL 302.10683 212.90779 \n\" style=\"fill:#eb483e;\"/>\n    <path clip-path=\"url(#pf4708f123d)\" d=\"M 311.672545 212.90779 \nL 321.238259 212.90779 \nL 321.238259 220.673504 \nL 311.672545 220.673504 \nL 311.672545 212.90779 \n\" style=\"fill:#f6b48f;\"/>\n    <path clip-path=\"url(#pf4708f123d)\" d=\"M 321.238259 212.90779 \nL 330.803973 212.90779 \nL 330.803973 220.673504 \nL 321.238259 220.673504 \nL 321.238259 212.90779 \n\" style=\"fill:#faebdd;\"/>\n    <path clip-path=\"url(#pf4708f123d)\" d=\"M 330.803973 212.90779 \nL 340.369688 212.90779 \nL 340.369688 220.673504 \nL 330.803973 220.673504 \nL 330.803973 212.90779 \n\" style=\"fill:#1b112b;\"/>\n    <path clip-path=\"url(#pf4708f123d)\" d=\"M 72.529688 220.673504 \nL 82.095402 220.673504 \nL 82.095402 228.439219 \nL 72.529688 228.439219 \nL 72.529688 220.673504 \n\" style=\"fill:#281535;\"/>\n    <path clip-path=\"url(#pf4708f123d)\" d=\"M 82.095402 220.673504 \nL 91.661116 220.673504 \nL 91.661116 228.439219 \nL 82.095402 228.439219 \nL 82.095402 220.673504 \n\" style=\"fill:#251433;\"/>\n    <path clip-path=\"url(#pf4708f123d)\" d=\"M 91.661116 220.673504 \nL 101.22683 220.673504 \nL 101.22683 228.439219 \nL 91.661116 228.439219 \nL 91.661116 220.673504 \n\" style=\"fill:#f6a077;\"/>\n    <path clip-path=\"url(#pf4708f123d)\" d=\"M 101.22683 220.673504 \nL 110.792545 220.673504 \nL 110.792545 228.439219 \nL 101.22683 228.439219 \nL 101.22683 220.673504 \n\" style=\"fill:#281535;\"/>\n    <path clip-path=\"url(#pf4708f123d)\" d=\"M 110.792545 220.673504 \nL 120.358259 220.673504 \nL 120.358259 228.439219 \nL 110.792545 228.439219 \nL 110.792545 220.673504 \n\" style=\"fill:#281535;\"/>\n    <path clip-path=\"url(#pf4708f123d)\" d=\"M 120.358259 220.673504 \nL 129.923973 220.673504 \nL 129.923973 228.439219 \nL 120.358259 228.439219 \nL 120.358259 220.673504 \n\" style=\"fill:#901d5b;\"/>\n    <path clip-path=\"url(#pf4708f123d)\" d=\"M 129.923973 220.673504 \nL 139.489688 220.673504 \nL 139.489688 228.439219 \nL 129.923973 228.439219 \nL 129.923973 220.673504 \n\" style=\"fill:#501d4c;\"/>\n    <path clip-path=\"url(#pf4708f123d)\" d=\"M 139.489688 220.673504 \nL 149.055402 220.673504 \nL 149.055402 228.439219 \nL 139.489688 228.439219 \nL 139.489688 220.673504 \n\" style=\"fill:#4c1d4b;\"/>\n    <path clip-path=\"url(#pf4708f123d)\" d=\"M 149.055402 220.673504 \nL 158.621116 220.673504 \nL 158.621116 228.439219 \nL 149.055402 228.439219 \nL 149.055402 220.673504 \n\" style=\"fill:#c21753;\"/>\n    <path clip-path=\"url(#pf4708f123d)\" d=\"M 158.621116 220.673504 \nL 168.18683 220.673504 \nL 168.18683 228.439219 \nL 158.621116 228.439219 \nL 158.621116 220.673504 \n\" style=\"fill:#421b45;\"/>\n    <path clip-path=\"url(#pf4708f123d)\" d=\"M 168.18683 220.673504 \nL 177.752545 220.673504 \nL 177.752545 228.439219 \nL 168.18683 228.439219 \nL 168.18683 220.673504 \n\" style=\"fill:#451c47;\"/>\n    <path clip-path=\"url(#pf4708f123d)\" d=\"M 177.752545 220.673504 \nL 187.318259 220.673504 \nL 187.318259 228.439219 \nL 177.752545 228.439219 \nL 177.752545 220.673504 \n\" style=\"fill:#821e5a;\"/>\n    <path clip-path=\"url(#pf4708f123d)\" d=\"M 187.318259 220.673504 \nL 196.883973 220.673504 \nL 196.883973 228.439219 \nL 187.318259 228.439219 \nL 187.318259 220.673504 \n\" style=\"fill:#4b1d4a;\"/>\n    <path clip-path=\"url(#pf4708f123d)\" d=\"M 196.883973 220.673504 \nL 206.449688 220.673504 \nL 206.449688 228.439219 \nL 196.883973 228.439219 \nL 196.883973 220.673504 \n\" style=\"fill:#461c48;\"/>\n    <path clip-path=\"url(#pf4708f123d)\" d=\"M 206.449688 220.673504 \nL 216.015402 220.673504 \nL 216.015402 228.439219 \nL 206.449688 228.439219 \nL 206.449688 220.673504 \n\" style=\"fill:#b01759;\"/>\n    <path clip-path=\"url(#pf4708f123d)\" d=\"M 216.015402 220.673504 \nL 225.581116 220.673504 \nL 225.581116 228.439219 \nL 216.015402 228.439219 \nL 216.015402 220.673504 \n\" style=\"fill:#a8185a;\"/>\n    <path clip-path=\"url(#pf4708f123d)\" d=\"M 225.581116 220.673504 \nL 235.14683 220.673504 \nL 235.14683 228.439219 \nL 225.581116 228.439219 \nL 225.581116 220.673504 \n\" style=\"fill:#4e1d4b;\"/>\n    <path clip-path=\"url(#pf4708f123d)\" d=\"M 235.14683 220.673504 \nL 244.712545 220.673504 \nL 244.712545 228.439219 \nL 235.14683 228.439219 \nL 235.14683 220.673504 \n\" style=\"fill:#5e1f52;\"/>\n    <path clip-path=\"url(#pf4708f123d)\" d=\"M 244.712545 220.673504 \nL 254.278259 220.673504 \nL 254.278259 228.439219 \nL 244.712545 228.439219 \nL 244.712545 220.673504 \n\" style=\"fill:#3d1a42;\"/>\n    <path clip-path=\"url(#pf4708f123d)\" d=\"M 254.278259 220.673504 \nL 263.843973 220.673504 \nL 263.843973 228.439219 \nL 254.278259 228.439219 \nL 254.278259 220.673504 \n\" style=\"fill:#7a1f59;\"/>\n    <path clip-path=\"url(#pf4708f123d)\" d=\"M 263.843973 220.673504 \nL 273.409688 220.673504 \nL 273.409688 228.439219 \nL 263.843973 228.439219 \nL 263.843973 220.673504 \n\" style=\"fill:#8c1d5b;\"/>\n    <path clip-path=\"url(#pf4708f123d)\" d=\"M 273.409688 220.673504 \nL 282.975402 220.673504 \nL 282.975402 228.439219 \nL 273.409688 228.439219 \nL 273.409688 220.673504 \n\" style=\"fill:#541e4e;\"/>\n    <path clip-path=\"url(#pf4708f123d)\" d=\"M 282.975402 220.673504 \nL 292.541116 220.673504 \nL 292.541116 228.439219 \nL 282.975402 228.439219 \nL 282.975402 220.673504 \n\" style=\"fill:#9a1b5b;\"/>\n    <path clip-path=\"url(#pf4708f123d)\" d=\"M 292.541116 220.673504 \nL 302.10683 220.673504 \nL 302.10683 228.439219 \nL 292.541116 228.439219 \nL 292.541116 220.673504 \n\" style=\"fill:#271534;\"/>\n    <path clip-path=\"url(#pf4708f123d)\" d=\"M 302.10683 220.673504 \nL 311.672545 220.673504 \nL 311.672545 228.439219 \nL 302.10683 228.439219 \nL 302.10683 220.673504 \n\" style=\"fill:#a4195b;\"/>\n    <path clip-path=\"url(#pf4708f123d)\" d=\"M 311.672545 220.673504 \nL 321.238259 220.673504 \nL 321.238259 228.439219 \nL 311.672545 228.439219 \nL 311.672545 220.673504 \n\" style=\"fill:#03051a;\"/>\n    <path clip-path=\"url(#pf4708f123d)\" d=\"M 321.238259 220.673504 \nL 330.803973 220.673504 \nL 330.803973 228.439219 \nL 321.238259 228.439219 \nL 321.238259 220.673504 \n\" style=\"fill:#1b112b;\"/>\n    <path clip-path=\"url(#pf4708f123d)\" d=\"M 330.803973 220.673504 \nL 340.369688 220.673504 \nL 340.369688 228.439219 \nL 330.803973 228.439219 \nL 330.803973 220.673504 \n\" style=\"fill:#faebdd;\"/>\n   </g>\n   <g id=\"matplotlib.axis_1\">\n    <g id=\"xtick_1\">\n     <g id=\"line2d_1\">\n      <defs>\n       <path d=\"M 0 0 \nL 0 3.5 \n\" id=\"mceaadd0a31\" style=\"stroke:#000000;stroke-width:0.8;\"/>\n      </defs>\n      <g>\n       <use style=\"stroke:#000000;stroke-width:0.8;\" x=\"77.312545\" xlink:href=\"#mceaadd0a31\" y=\"228.439219\"/>\n      </g>\n     </g>\n     <g id=\"text_1\">\n      <!-- G -->\n      <g transform=\"translate(80.07192 243.187656)rotate(-90)scale(0.1 -0.1)\">\n       <defs>\n        <path d=\"M 59.515625 10.40625 \nL 59.515625 29.984375 \nL 43.40625 29.984375 \nL 43.40625 38.09375 \nL 69.28125 38.09375 \nL 69.28125 6.78125 \nQ 63.578125 2.734375 56.6875 0.65625 \nQ 49.8125 -1.421875 42 -1.421875 \nQ 24.90625 -1.421875 15.25 8.5625 \nQ 5.609375 18.5625 5.609375 36.375 \nQ 5.609375 54.25 15.25 64.234375 \nQ 24.90625 74.21875 42 74.21875 \nQ 49.125 74.21875 55.546875 72.453125 \nQ 61.96875 70.703125 67.390625 67.28125 \nL 67.390625 56.78125 \nQ 61.921875 61.421875 55.765625 63.765625 \nQ 49.609375 66.109375 42.828125 66.109375 \nQ 29.4375 66.109375 22.71875 58.640625 \nQ 16.015625 51.171875 16.015625 36.375 \nQ 16.015625 21.625 22.71875 14.15625 \nQ 29.4375 6.6875 42.828125 6.6875 \nQ 48.046875 6.6875 52.140625 7.59375 \nQ 56.25 8.5 59.515625 10.40625 \nz\n\" id=\"DejaVuSans-71\"/>\n       </defs>\n       <use xlink:href=\"#DejaVuSans-71\"/>\n      </g>\n     </g>\n    </g>\n    <g id=\"xtick_2\">\n     <g id=\"line2d_2\">\n      <g>\n       <use style=\"stroke:#000000;stroke-width:0.8;\" x=\"96.443973\" xlink:href=\"#mceaadd0a31\" y=\"228.439219\"/>\n      </g>\n     </g>\n     <g id=\"text_2\">\n      <!-- MP -->\n      <g transform=\"translate(99.203348 250.097031)rotate(-90)scale(0.1 -0.1)\">\n       <defs>\n        <path d=\"M 9.8125 72.90625 \nL 24.515625 72.90625 \nL 43.109375 23.296875 \nL 61.8125 72.90625 \nL 76.515625 72.90625 \nL 76.515625 0 \nL 66.890625 0 \nL 66.890625 64.015625 \nL 48.09375 14.015625 \nL 38.1875 14.015625 \nL 19.390625 64.015625 \nL 19.390625 0 \nL 9.8125 0 \nz\n\" id=\"DejaVuSans-77\"/>\n        <path d=\"M 19.671875 64.796875 \nL 19.671875 37.40625 \nL 32.078125 37.40625 \nQ 38.96875 37.40625 42.71875 40.96875 \nQ 46.484375 44.53125 46.484375 51.125 \nQ 46.484375 57.671875 42.71875 61.234375 \nQ 38.96875 64.796875 32.078125 64.796875 \nz\nM 9.8125 72.90625 \nL 32.078125 72.90625 \nQ 44.34375 72.90625 50.609375 67.359375 \nQ 56.890625 61.8125 56.890625 51.125 \nQ 56.890625 40.328125 50.609375 34.8125 \nQ 44.34375 29.296875 32.078125 29.296875 \nL 19.671875 29.296875 \nL 19.671875 0 \nL 9.8125 0 \nz\n\" id=\"DejaVuSans-80\"/>\n       </defs>\n       <use xlink:href=\"#DejaVuSans-77\"/>\n       <use x=\"86.279297\" xlink:href=\"#DejaVuSans-80\"/>\n      </g>\n     </g>\n    </g>\n    <g id=\"xtick_3\">\n     <g id=\"line2d_3\">\n      <g>\n       <use style=\"stroke:#000000;stroke-width:0.8;\" x=\"115.575402\" xlink:href=\"#mceaadd0a31\" y=\"228.439219\"/>\n      </g>\n     </g>\n     <g id=\"text_3\">\n      <!-- FGA -->\n      <g transform=\"translate(118.334777 255.779844)rotate(-90)scale(0.1 -0.1)\">\n       <defs>\n        <path d=\"M 9.8125 72.90625 \nL 51.703125 72.90625 \nL 51.703125 64.59375 \nL 19.671875 64.59375 \nL 19.671875 43.109375 \nL 48.578125 43.109375 \nL 48.578125 34.8125 \nL 19.671875 34.8125 \nL 19.671875 0 \nL 9.8125 0 \nz\n\" id=\"DejaVuSans-70\"/>\n        <path d=\"M 34.1875 63.1875 \nL 20.796875 26.90625 \nL 47.609375 26.90625 \nz\nM 28.609375 72.90625 \nL 39.796875 72.90625 \nL 67.578125 0 \nL 57.328125 0 \nL 50.6875 18.703125 \nL 17.828125 18.703125 \nL 11.1875 0 \nL 0.78125 0 \nz\n\" id=\"DejaVuSans-65\"/>\n       </defs>\n       <use xlink:href=\"#DejaVuSans-70\"/>\n       <use x=\"57.519531\" xlink:href=\"#DejaVuSans-71\"/>\n       <use x=\"135.009766\" xlink:href=\"#DejaVuSans-65\"/>\n      </g>\n     </g>\n    </g>\n    <g id=\"xtick_4\">\n     <g id=\"line2d_4\">\n      <g>\n       <use style=\"stroke:#000000;stroke-width:0.8;\" x=\"134.70683\" xlink:href=\"#mceaadd0a31\" y=\"228.439219\"/>\n      </g>\n     </g>\n     <g id=\"text_4\">\n      <!-- 3P -->\n      <g transform=\"translate(137.466205 247.831406)rotate(-90)scale(0.1 -0.1)\">\n       <defs>\n        <path d=\"M 40.578125 39.3125 \nQ 47.65625 37.796875 51.625 33 \nQ 55.609375 28.21875 55.609375 21.1875 \nQ 55.609375 10.40625 48.1875 4.484375 \nQ 40.765625 -1.421875 27.09375 -1.421875 \nQ 22.515625 -1.421875 17.65625 -0.515625 \nQ 12.796875 0.390625 7.625 2.203125 \nL 7.625 11.71875 \nQ 11.71875 9.328125 16.59375 8.109375 \nQ 21.484375 6.890625 26.8125 6.890625 \nQ 36.078125 6.890625 40.9375 10.546875 \nQ 45.796875 14.203125 45.796875 21.1875 \nQ 45.796875 27.640625 41.28125 31.265625 \nQ 36.765625 34.90625 28.71875 34.90625 \nL 20.21875 34.90625 \nL 20.21875 43.015625 \nL 29.109375 43.015625 \nQ 36.375 43.015625 40.234375 45.921875 \nQ 44.09375 48.828125 44.09375 54.296875 \nQ 44.09375 59.90625 40.109375 62.90625 \nQ 36.140625 65.921875 28.71875 65.921875 \nQ 24.65625 65.921875 20.015625 65.03125 \nQ 15.375 64.15625 9.8125 62.3125 \nL 9.8125 71.09375 \nQ 15.4375 72.65625 20.34375 73.4375 \nQ 25.25 74.21875 29.59375 74.21875 \nQ 40.828125 74.21875 47.359375 69.109375 \nQ 53.90625 64.015625 53.90625 55.328125 \nQ 53.90625 49.265625 50.4375 45.09375 \nQ 46.96875 40.921875 40.578125 39.3125 \nz\n\" id=\"DejaVuSans-51\"/>\n       </defs>\n       <use xlink:href=\"#DejaVuSans-51\"/>\n       <use x=\"63.623047\" xlink:href=\"#DejaVuSans-80\"/>\n      </g>\n     </g>\n    </g>\n    <g id=\"xtick_5\">\n     <g id=\"line2d_5\">\n      <g>\n       <use style=\"stroke:#000000;stroke-width:0.8;\" x=\"153.838259\" xlink:href=\"#mceaadd0a31\" y=\"228.439219\"/>\n      </g>\n     </g>\n     <g id=\"text_5\">\n      <!-- 3P% -->\n      <g transform=\"translate(156.597634 257.332969)rotate(-90)scale(0.1 -0.1)\">\n       <defs>\n        <path d=\"M 72.703125 32.078125 \nQ 68.453125 32.078125 66.03125 28.46875 \nQ 63.625 24.859375 63.625 18.40625 \nQ 63.625 12.0625 66.03125 8.421875 \nQ 68.453125 4.78125 72.703125 4.78125 \nQ 76.859375 4.78125 79.265625 8.421875 \nQ 81.6875 12.0625 81.6875 18.40625 \nQ 81.6875 24.8125 79.265625 28.4375 \nQ 76.859375 32.078125 72.703125 32.078125 \nz\nM 72.703125 38.28125 \nQ 80.421875 38.28125 84.953125 32.90625 \nQ 89.5 27.546875 89.5 18.40625 \nQ 89.5 9.28125 84.9375 3.921875 \nQ 80.375 -1.421875 72.703125 -1.421875 \nQ 64.890625 -1.421875 60.34375 3.921875 \nQ 55.8125 9.28125 55.8125 18.40625 \nQ 55.8125 27.59375 60.375 32.9375 \nQ 64.9375 38.28125 72.703125 38.28125 \nz\nM 22.3125 68.015625 \nQ 18.109375 68.015625 15.6875 64.375 \nQ 13.28125 60.75 13.28125 54.390625 \nQ 13.28125 47.953125 15.671875 44.328125 \nQ 18.0625 40.71875 22.3125 40.71875 \nQ 26.5625 40.71875 28.96875 44.328125 \nQ 31.390625 47.953125 31.390625 54.390625 \nQ 31.390625 60.6875 28.953125 64.34375 \nQ 26.515625 68.015625 22.3125 68.015625 \nz\nM 66.40625 74.21875 \nL 74.21875 74.21875 \nL 28.609375 -1.421875 \nL 20.796875 -1.421875 \nz\nM 22.3125 74.21875 \nQ 30.03125 74.21875 34.609375 68.875 \nQ 39.203125 63.53125 39.203125 54.390625 \nQ 39.203125 45.171875 34.640625 39.84375 \nQ 30.078125 34.515625 22.3125 34.515625 \nQ 14.546875 34.515625 10.03125 39.859375 \nQ 5.515625 45.21875 5.515625 54.390625 \nQ 5.515625 63.484375 10.046875 68.84375 \nQ 14.59375 74.21875 22.3125 74.21875 \nz\n\" id=\"DejaVuSans-37\"/>\n       </defs>\n       <use xlink:href=\"#DejaVuSans-51\"/>\n       <use x=\"63.623047\" xlink:href=\"#DejaVuSans-80\"/>\n       <use x=\"123.925781\" xlink:href=\"#DejaVuSans-37\"/>\n      </g>\n     </g>\n    </g>\n    <g id=\"xtick_6\">\n     <g id=\"line2d_6\">\n      <g>\n       <use style=\"stroke:#000000;stroke-width:0.8;\" x=\"172.969688\" xlink:href=\"#mceaadd0a31\" y=\"228.439219\"/>\n      </g>\n     </g>\n     <g id=\"text_6\">\n      <!-- 2PA -->\n      <g transform=\"translate(175.729063 254.034531)rotate(-90)scale(0.1 -0.1)\">\n       <defs>\n        <path d=\"M 19.1875 8.296875 \nL 53.609375 8.296875 \nL 53.609375 0 \nL 7.328125 0 \nL 7.328125 8.296875 \nQ 12.9375 14.109375 22.625 23.890625 \nQ 32.328125 33.6875 34.8125 36.53125 \nQ 39.546875 41.84375 41.421875 45.53125 \nQ 43.3125 49.21875 43.3125 52.78125 \nQ 43.3125 58.59375 39.234375 62.25 \nQ 35.15625 65.921875 28.609375 65.921875 \nQ 23.96875 65.921875 18.8125 64.3125 \nQ 13.671875 62.703125 7.8125 59.421875 \nL 7.8125 69.390625 \nQ 13.765625 71.78125 18.9375 73 \nQ 24.125 74.21875 28.421875 74.21875 \nQ 39.75 74.21875 46.484375 68.546875 \nQ 53.21875 62.890625 53.21875 53.421875 \nQ 53.21875 48.921875 51.53125 44.890625 \nQ 49.859375 40.875 45.40625 35.40625 \nQ 44.1875 33.984375 37.640625 27.21875 \nQ 31.109375 20.453125 19.1875 8.296875 \nz\n\" id=\"DejaVuSans-50\"/>\n       </defs>\n       <use xlink:href=\"#DejaVuSans-50\"/>\n       <use x=\"63.623047\" xlink:href=\"#DejaVuSans-80\"/>\n       <use x=\"117.550781\" xlink:href=\"#DejaVuSans-65\"/>\n      </g>\n     </g>\n    </g>\n    <g id=\"xtick_7\">\n     <g id=\"line2d_7\">\n      <g>\n       <use style=\"stroke:#000000;stroke-width:0.8;\" x=\"192.101116\" xlink:href=\"#mceaadd0a31\" y=\"228.439219\"/>\n      </g>\n     </g>\n     <g id=\"text_7\">\n      <!-- FT -->\n      <g transform=\"translate(194.860491 247.123594)rotate(-90)scale(0.1 -0.1)\">\n       <defs>\n        <path d=\"M -0.296875 72.90625 \nL 61.375 72.90625 \nL 61.375 64.59375 \nL 35.5 64.59375 \nL 35.5 0 \nL 25.59375 0 \nL 25.59375 64.59375 \nL -0.296875 64.59375 \nz\n\" id=\"DejaVuSans-84\"/>\n       </defs>\n       <use xlink:href=\"#DejaVuSans-70\"/>\n       <use x=\"55.769531\" xlink:href=\"#DejaVuSans-84\"/>\n      </g>\n     </g>\n    </g>\n    <g id=\"xtick_8\">\n     <g id=\"line2d_8\">\n      <g>\n       <use style=\"stroke:#000000;stroke-width:0.8;\" x=\"211.232545\" xlink:href=\"#mceaadd0a31\" y=\"228.439219\"/>\n      </g>\n     </g>\n     <g id=\"text_8\">\n      <!-- FT% -->\n      <g transform=\"translate(213.99192 256.625156)rotate(-90)scale(0.1 -0.1)\">\n       <use xlink:href=\"#DejaVuSans-70\"/>\n       <use x=\"55.769531\" xlink:href=\"#DejaVuSans-84\"/>\n       <use x=\"116.853516\" xlink:href=\"#DejaVuSans-37\"/>\n      </g>\n     </g>\n    </g>\n    <g id=\"xtick_9\">\n     <g id=\"line2d_9\">\n      <g>\n       <use style=\"stroke:#000000;stroke-width:0.8;\" x=\"230.363973\" xlink:href=\"#mceaadd0a31\" y=\"228.439219\"/>\n      </g>\n     </g>\n     <g id=\"text_9\">\n      <!-- DRB -->\n      <g transform=\"translate(233.123348 256.948594)rotate(-90)scale(0.1 -0.1)\">\n       <defs>\n        <path d=\"M 19.671875 64.796875 \nL 19.671875 8.109375 \nL 31.59375 8.109375 \nQ 46.6875 8.109375 53.6875 14.9375 \nQ 60.6875 21.78125 60.6875 36.53125 \nQ 60.6875 51.171875 53.6875 57.984375 \nQ 46.6875 64.796875 31.59375 64.796875 \nz\nM 9.8125 72.90625 \nL 30.078125 72.90625 \nQ 51.265625 72.90625 61.171875 64.09375 \nQ 71.09375 55.28125 71.09375 36.53125 \nQ 71.09375 17.671875 61.125 8.828125 \nQ 51.171875 0 30.078125 0 \nL 9.8125 0 \nz\n\" id=\"DejaVuSans-68\"/>\n        <path d=\"M 44.390625 34.1875 \nQ 47.5625 33.109375 50.5625 29.59375 \nQ 53.5625 26.078125 56.59375 19.921875 \nL 66.609375 0 \nL 56 0 \nL 46.6875 18.703125 \nQ 43.0625 26.03125 39.671875 28.421875 \nQ 36.28125 30.8125 30.421875 30.8125 \nL 19.671875 30.8125 \nL 19.671875 0 \nL 9.8125 0 \nL 9.8125 72.90625 \nL 32.078125 72.90625 \nQ 44.578125 72.90625 50.734375 67.671875 \nQ 56.890625 62.453125 56.890625 51.90625 \nQ 56.890625 45.015625 53.6875 40.46875 \nQ 50.484375 35.9375 44.390625 34.1875 \nz\nM 19.671875 64.796875 \nL 19.671875 38.921875 \nL 32.078125 38.921875 \nQ 39.203125 38.921875 42.84375 42.21875 \nQ 46.484375 45.515625 46.484375 51.90625 \nQ 46.484375 58.296875 42.84375 61.546875 \nQ 39.203125 64.796875 32.078125 64.796875 \nz\n\" id=\"DejaVuSans-82\"/>\n        <path d=\"M 19.671875 34.8125 \nL 19.671875 8.109375 \nL 35.5 8.109375 \nQ 43.453125 8.109375 47.28125 11.40625 \nQ 51.125 14.703125 51.125 21.484375 \nQ 51.125 28.328125 47.28125 31.5625 \nQ 43.453125 34.8125 35.5 34.8125 \nz\nM 19.671875 64.796875 \nL 19.671875 42.828125 \nL 34.28125 42.828125 \nQ 41.5 42.828125 45.03125 45.53125 \nQ 48.578125 48.25 48.578125 53.8125 \nQ 48.578125 59.328125 45.03125 62.0625 \nQ 41.5 64.796875 34.28125 64.796875 \nz\nM 9.8125 72.90625 \nL 35.015625 72.90625 \nQ 46.296875 72.90625 52.390625 68.21875 \nQ 58.5 63.53125 58.5 54.890625 \nQ 58.5 48.1875 55.375 44.234375 \nQ 52.25 40.28125 46.1875 39.3125 \nQ 53.46875 37.75 57.5 32.78125 \nQ 61.53125 27.828125 61.53125 20.40625 \nQ 61.53125 10.640625 54.890625 5.3125 \nQ 48.25 0 35.984375 0 \nL 9.8125 0 \nz\n\" id=\"DejaVuSans-66\"/>\n       </defs>\n       <use xlink:href=\"#DejaVuSans-68\"/>\n       <use x=\"77.001953\" xlink:href=\"#DejaVuSans-82\"/>\n       <use x=\"146.484375\" xlink:href=\"#DejaVuSans-66\"/>\n      </g>\n     </g>\n    </g>\n    <g id=\"xtick_10\">\n     <g id=\"line2d_10\">\n      <g>\n       <use style=\"stroke:#000000;stroke-width:0.8;\" x=\"249.495402\" xlink:href=\"#mceaadd0a31\" y=\"228.439219\"/>\n      </g>\n     </g>\n     <g id=\"text_10\">\n      <!-- AST -->\n      <g transform=\"translate(252.254777 254.736094)rotate(-90)scale(0.1 -0.1)\">\n       <defs>\n        <path d=\"M 53.515625 70.515625 \nL 53.515625 60.890625 \nQ 47.90625 63.578125 42.921875 64.890625 \nQ 37.9375 66.21875 33.296875 66.21875 \nQ 25.25 66.21875 20.875 63.09375 \nQ 16.5 59.96875 16.5 54.203125 \nQ 16.5 49.359375 19.40625 46.890625 \nQ 22.3125 44.4375 30.421875 42.921875 \nL 36.375 41.703125 \nQ 47.40625 39.59375 52.65625 34.296875 \nQ 57.90625 29 57.90625 20.125 \nQ 57.90625 9.515625 50.796875 4.046875 \nQ 43.703125 -1.421875 29.984375 -1.421875 \nQ 24.8125 -1.421875 18.96875 -0.25 \nQ 13.140625 0.921875 6.890625 3.21875 \nL 6.890625 13.375 \nQ 12.890625 10.015625 18.65625 8.296875 \nQ 24.421875 6.59375 29.984375 6.59375 \nQ 38.421875 6.59375 43.015625 9.90625 \nQ 47.609375 13.234375 47.609375 19.390625 \nQ 47.609375 24.75 44.3125 27.78125 \nQ 41.015625 30.8125 33.5 32.328125 \nL 27.484375 33.5 \nQ 16.453125 35.6875 11.515625 40.375 \nQ 6.59375 45.0625 6.59375 53.421875 \nQ 6.59375 63.09375 13.40625 68.65625 \nQ 20.21875 74.21875 32.171875 74.21875 \nQ 37.3125 74.21875 42.625 73.28125 \nQ 47.953125 72.359375 53.515625 70.515625 \nz\n\" id=\"DejaVuSans-83\"/>\n       </defs>\n       <use xlink:href=\"#DejaVuSans-65\"/>\n       <use x=\"68.408203\" xlink:href=\"#DejaVuSans-83\"/>\n       <use x=\"131.884766\" xlink:href=\"#DejaVuSans-84\"/>\n      </g>\n     </g>\n    </g>\n    <g id=\"xtick_11\">\n     <g id=\"line2d_11\">\n      <g>\n       <use style=\"stroke:#000000;stroke-width:0.8;\" x=\"268.62683\" xlink:href=\"#mceaadd0a31\" y=\"228.439219\"/>\n      </g>\n     </g>\n     <g id=\"text_11\">\n      <!-- BLK -->\n      <g transform=\"translate(271.386205 254.429844)rotate(-90)scale(0.1 -0.1)\">\n       <defs>\n        <path d=\"M 9.8125 72.90625 \nL 19.671875 72.90625 \nL 19.671875 8.296875 \nL 55.171875 8.296875 \nL 55.171875 0 \nL 9.8125 0 \nz\n\" id=\"DejaVuSans-76\"/>\n        <path d=\"M 9.8125 72.90625 \nL 19.671875 72.90625 \nL 19.671875 42.09375 \nL 52.390625 72.90625 \nL 65.09375 72.90625 \nL 28.90625 38.921875 \nL 67.671875 0 \nL 54.6875 0 \nL 19.671875 35.109375 \nL 19.671875 0 \nL 9.8125 0 \nz\n\" id=\"DejaVuSans-75\"/>\n       </defs>\n       <use xlink:href=\"#DejaVuSans-66\"/>\n       <use x=\"68.603516\" xlink:href=\"#DejaVuSans-76\"/>\n       <use x=\"124.316406\" xlink:href=\"#DejaVuSans-75\"/>\n      </g>\n     </g>\n    </g>\n    <g id=\"xtick_12\">\n     <g id=\"line2d_12\">\n      <g>\n       <use style=\"stroke:#000000;stroke-width:0.8;\" x=\"287.758259\" xlink:href=\"#mceaadd0a31\" y=\"228.439219\"/>\n      </g>\n     </g>\n     <g id=\"text_12\">\n      <!-- PF -->\n      <g transform=\"translate(290.517634 247.220469)rotate(-90)scale(0.1 -0.1)\">\n       <use xlink:href=\"#DejaVuSans-80\"/>\n       <use x=\"60.302734\" xlink:href=\"#DejaVuSans-70\"/>\n      </g>\n     </g>\n    </g>\n    <g id=\"xtick_13\">\n     <g id=\"line2d_13\">\n      <g>\n       <use style=\"stroke:#000000;stroke-width:0.8;\" x=\"306.889688\" xlink:href=\"#mceaadd0a31\" y=\"228.439219\"/>\n      </g>\n     </g>\n     <g id=\"text_13\">\n      <!-- Age -->\n      <g transform=\"translate(309.649063 254.781406)rotate(-90)scale(0.1 -0.1)\">\n       <defs>\n        <path d=\"M 45.40625 27.984375 \nQ 45.40625 37.75 41.375 43.109375 \nQ 37.359375 48.484375 30.078125 48.484375 \nQ 22.859375 48.484375 18.828125 43.109375 \nQ 14.796875 37.75 14.796875 27.984375 \nQ 14.796875 18.265625 18.828125 12.890625 \nQ 22.859375 7.515625 30.078125 7.515625 \nQ 37.359375 7.515625 41.375 12.890625 \nQ 45.40625 18.265625 45.40625 27.984375 \nz\nM 54.390625 6.78125 \nQ 54.390625 -7.171875 48.1875 -13.984375 \nQ 42 -20.796875 29.203125 -20.796875 \nQ 24.46875 -20.796875 20.265625 -20.09375 \nQ 16.0625 -19.390625 12.109375 -17.921875 \nL 12.109375 -9.1875 \nQ 16.0625 -11.328125 19.921875 -12.34375 \nQ 23.78125 -13.375 27.78125 -13.375 \nQ 36.625 -13.375 41.015625 -8.765625 \nQ 45.40625 -4.15625 45.40625 5.171875 \nL 45.40625 9.625 \nQ 42.625 4.78125 38.28125 2.390625 \nQ 33.9375 0 27.875 0 \nQ 17.828125 0 11.671875 7.65625 \nQ 5.515625 15.328125 5.515625 27.984375 \nQ 5.515625 40.671875 11.671875 48.328125 \nQ 17.828125 56 27.875 56 \nQ 33.9375 56 38.28125 53.609375 \nQ 42.625 51.21875 45.40625 46.390625 \nL 45.40625 54.6875 \nL 54.390625 54.6875 \nz\n\" id=\"DejaVuSans-103\"/>\n        <path d=\"M 56.203125 29.59375 \nL 56.203125 25.203125 \nL 14.890625 25.203125 \nQ 15.484375 15.921875 20.484375 11.0625 \nQ 25.484375 6.203125 34.421875 6.203125 \nQ 39.59375 6.203125 44.453125 7.46875 \nQ 49.3125 8.734375 54.109375 11.28125 \nL 54.109375 2.78125 \nQ 49.265625 0.734375 44.1875 -0.34375 \nQ 39.109375 -1.421875 33.890625 -1.421875 \nQ 20.796875 -1.421875 13.15625 6.1875 \nQ 5.515625 13.8125 5.515625 26.8125 \nQ 5.515625 40.234375 12.765625 48.109375 \nQ 20.015625 56 32.328125 56 \nQ 43.359375 56 49.78125 48.890625 \nQ 56.203125 41.796875 56.203125 29.59375 \nz\nM 47.21875 32.234375 \nQ 47.125 39.59375 43.09375 43.984375 \nQ 39.0625 48.390625 32.421875 48.390625 \nQ 24.90625 48.390625 20.390625 44.140625 \nQ 15.875 39.890625 15.1875 32.171875 \nz\n\" id=\"DejaVuSans-101\"/>\n       </defs>\n       <use xlink:href=\"#DejaVuSans-65\"/>\n       <use x=\"68.408203\" xlink:href=\"#DejaVuSans-103\"/>\n       <use x=\"131.884766\" xlink:href=\"#DejaVuSans-101\"/>\n      </g>\n     </g>\n    </g>\n    <g id=\"xtick_14\">\n     <g id=\"line2d_14\">\n      <g>\n       <use style=\"stroke:#000000;stroke-width:0.8;\" x=\"326.021116\" xlink:href=\"#mceaadd0a31\" y=\"228.439219\"/>\n      </g>\n     </g>\n     <g id=\"text_14\">\n      <!-- salary_ratio -->\n      <g transform=\"translate(328.641429 293.768906)rotate(-90)scale(0.1 -0.1)\">\n       <defs>\n        <path d=\"M 44.28125 53.078125 \nL 44.28125 44.578125 \nQ 40.484375 46.53125 36.375 47.5 \nQ 32.28125 48.484375 27.875 48.484375 \nQ 21.1875 48.484375 17.84375 46.4375 \nQ 14.5 44.390625 14.5 40.28125 \nQ 14.5 37.15625 16.890625 35.375 \nQ 19.28125 33.59375 26.515625 31.984375 \nL 29.59375 31.296875 \nQ 39.15625 29.25 43.1875 25.515625 \nQ 47.21875 21.78125 47.21875 15.09375 \nQ 47.21875 7.46875 41.1875 3.015625 \nQ 35.15625 -1.421875 24.609375 -1.421875 \nQ 20.21875 -1.421875 15.453125 -0.5625 \nQ 10.6875 0.296875 5.421875 2 \nL 5.421875 11.28125 \nQ 10.40625 8.6875 15.234375 7.390625 \nQ 20.0625 6.109375 24.8125 6.109375 \nQ 31.15625 6.109375 34.5625 8.28125 \nQ 37.984375 10.453125 37.984375 14.40625 \nQ 37.984375 18.0625 35.515625 20.015625 \nQ 33.0625 21.96875 24.703125 23.78125 \nL 21.578125 24.515625 \nQ 13.234375 26.265625 9.515625 29.90625 \nQ 5.8125 33.546875 5.8125 39.890625 \nQ 5.8125 47.609375 11.28125 51.796875 \nQ 16.75 56 26.8125 56 \nQ 31.78125 56 36.171875 55.265625 \nQ 40.578125 54.546875 44.28125 53.078125 \nz\n\" id=\"DejaVuSans-115\"/>\n        <path d=\"M 34.28125 27.484375 \nQ 23.390625 27.484375 19.1875 25 \nQ 14.984375 22.515625 14.984375 16.5 \nQ 14.984375 11.71875 18.140625 8.90625 \nQ 21.296875 6.109375 26.703125 6.109375 \nQ 34.1875 6.109375 38.703125 11.40625 \nQ 43.21875 16.703125 43.21875 25.484375 \nL 43.21875 27.484375 \nz\nM 52.203125 31.203125 \nL 52.203125 0 \nL 43.21875 0 \nL 43.21875 8.296875 \nQ 40.140625 3.328125 35.546875 0.953125 \nQ 30.953125 -1.421875 24.3125 -1.421875 \nQ 15.921875 -1.421875 10.953125 3.296875 \nQ 6 8.015625 6 15.921875 \nQ 6 25.140625 12.171875 29.828125 \nQ 18.359375 34.515625 30.609375 34.515625 \nL 43.21875 34.515625 \nL 43.21875 35.40625 \nQ 43.21875 41.609375 39.140625 45 \nQ 35.0625 48.390625 27.6875 48.390625 \nQ 23 48.390625 18.546875 47.265625 \nQ 14.109375 46.140625 10.015625 43.890625 \nL 10.015625 52.203125 \nQ 14.9375 54.109375 19.578125 55.046875 \nQ 24.21875 56 28.609375 56 \nQ 40.484375 56 46.34375 49.84375 \nQ 52.203125 43.703125 52.203125 31.203125 \nz\n\" id=\"DejaVuSans-97\"/>\n        <path d=\"M 9.421875 75.984375 \nL 18.40625 75.984375 \nL 18.40625 0 \nL 9.421875 0 \nz\n\" id=\"DejaVuSans-108\"/>\n        <path d=\"M 41.109375 46.296875 \nQ 39.59375 47.171875 37.8125 47.578125 \nQ 36.03125 48 33.890625 48 \nQ 26.265625 48 22.1875 43.046875 \nQ 18.109375 38.09375 18.109375 28.8125 \nL 18.109375 0 \nL 9.078125 0 \nL 9.078125 54.6875 \nL 18.109375 54.6875 \nL 18.109375 46.1875 \nQ 20.953125 51.171875 25.484375 53.578125 \nQ 30.03125 56 36.53125 56 \nQ 37.453125 56 38.578125 55.875 \nQ 39.703125 55.765625 41.0625 55.515625 \nz\n\" id=\"DejaVuSans-114\"/>\n        <path d=\"M 32.171875 -5.078125 \nQ 28.375 -14.84375 24.75 -17.8125 \nQ 21.140625 -20.796875 15.09375 -20.796875 \nL 7.90625 -20.796875 \nL 7.90625 -13.28125 \nL 13.1875 -13.28125 \nQ 16.890625 -13.28125 18.9375 -11.515625 \nQ 21 -9.765625 23.484375 -3.21875 \nL 25.09375 0.875 \nL 2.984375 54.6875 \nL 12.5 54.6875 \nL 29.59375 11.921875 \nL 46.6875 54.6875 \nL 56.203125 54.6875 \nz\n\" id=\"DejaVuSans-121\"/>\n        <path d=\"M 50.984375 -16.609375 \nL 50.984375 -23.578125 \nL -0.984375 -23.578125 \nL -0.984375 -16.609375 \nz\n\" id=\"DejaVuSans-95\"/>\n        <path d=\"M 18.3125 70.21875 \nL 18.3125 54.6875 \nL 36.8125 54.6875 \nL 36.8125 47.703125 \nL 18.3125 47.703125 \nL 18.3125 18.015625 \nQ 18.3125 11.328125 20.140625 9.421875 \nQ 21.96875 7.515625 27.59375 7.515625 \nL 36.8125 7.515625 \nL 36.8125 0 \nL 27.59375 0 \nQ 17.1875 0 13.234375 3.875 \nQ 9.28125 7.765625 9.28125 18.015625 \nL 9.28125 47.703125 \nL 2.6875 47.703125 \nL 2.6875 54.6875 \nL 9.28125 54.6875 \nL 9.28125 70.21875 \nz\n\" id=\"DejaVuSans-116\"/>\n        <path d=\"M 9.421875 54.6875 \nL 18.40625 54.6875 \nL 18.40625 0 \nL 9.421875 0 \nz\nM 9.421875 75.984375 \nL 18.40625 75.984375 \nL 18.40625 64.59375 \nL 9.421875 64.59375 \nz\n\" id=\"DejaVuSans-105\"/>\n        <path d=\"M 30.609375 48.390625 \nQ 23.390625 48.390625 19.1875 42.75 \nQ 14.984375 37.109375 14.984375 27.296875 \nQ 14.984375 17.484375 19.15625 11.84375 \nQ 23.34375 6.203125 30.609375 6.203125 \nQ 37.796875 6.203125 41.984375 11.859375 \nQ 46.1875 17.53125 46.1875 27.296875 \nQ 46.1875 37.015625 41.984375 42.703125 \nQ 37.796875 48.390625 30.609375 48.390625 \nz\nM 30.609375 56 \nQ 42.328125 56 49.015625 48.375 \nQ 55.71875 40.765625 55.71875 27.296875 \nQ 55.71875 13.875 49.015625 6.21875 \nQ 42.328125 -1.421875 30.609375 -1.421875 \nQ 18.84375 -1.421875 12.171875 6.21875 \nQ 5.515625 13.875 5.515625 27.296875 \nQ 5.515625 40.765625 12.171875 48.375 \nQ 18.84375 56 30.609375 56 \nz\n\" id=\"DejaVuSans-111\"/>\n       </defs>\n       <use xlink:href=\"#DejaVuSans-115\"/>\n       <use x=\"52.099609\" xlink:href=\"#DejaVuSans-97\"/>\n       <use x=\"113.378906\" xlink:href=\"#DejaVuSans-108\"/>\n       <use x=\"141.162109\" xlink:href=\"#DejaVuSans-97\"/>\n       <use x=\"202.441406\" xlink:href=\"#DejaVuSans-114\"/>\n       <use x=\"243.554688\" xlink:href=\"#DejaVuSans-121\"/>\n       <use x=\"302.734375\" xlink:href=\"#DejaVuSans-95\"/>\n       <use x=\"352.734375\" xlink:href=\"#DejaVuSans-114\"/>\n       <use x=\"393.847656\" xlink:href=\"#DejaVuSans-97\"/>\n       <use x=\"455.126953\" xlink:href=\"#DejaVuSans-116\"/>\n       <use x=\"494.335938\" xlink:href=\"#DejaVuSans-105\"/>\n       <use x=\"522.119141\" xlink:href=\"#DejaVuSans-111\"/>\n      </g>\n     </g>\n    </g>\n   </g>\n   <g id=\"matplotlib.axis_2\">\n    <g id=\"ytick_1\">\n     <g id=\"line2d_15\">\n      <defs>\n       <path d=\"M 0 0 \nL -3.5 0 \n\" id=\"m1fe97de94a\" style=\"stroke:#000000;stroke-width:0.8;\"/>\n      </defs>\n      <g>\n       <use style=\"stroke:#000000;stroke-width:0.8;\" x=\"72.529688\" xlink:href=\"#m1fe97de94a\" y=\"14.882076\"/>\n      </g>\n     </g>\n     <g id=\"text_15\">\n      <!-- G -->\n      <g transform=\"translate(57.78125 18.681295)scale(0.1 -0.1)\">\n       <use xlink:href=\"#DejaVuSans-71\"/>\n      </g>\n     </g>\n    </g>\n    <g id=\"ytick_2\">\n     <g id=\"line2d_16\">\n      <g>\n       <use style=\"stroke:#000000;stroke-width:0.8;\" x=\"72.529688\" xlink:href=\"#m1fe97de94a\" y=\"30.413504\"/>\n      </g>\n     </g>\n     <g id=\"text_16\">\n      <!-- MP -->\n      <g transform=\"translate(50.871875 34.212723)scale(0.1 -0.1)\">\n       <use xlink:href=\"#DejaVuSans-77\"/>\n       <use x=\"86.279297\" xlink:href=\"#DejaVuSans-80\"/>\n      </g>\n     </g>\n    </g>\n    <g id=\"ytick_3\">\n     <g id=\"line2d_17\">\n      <g>\n       <use style=\"stroke:#000000;stroke-width:0.8;\" x=\"72.529688\" xlink:href=\"#m1fe97de94a\" y=\"45.944933\"/>\n      </g>\n     </g>\n     <g id=\"text_17\">\n      <!-- FGA -->\n      <g transform=\"translate(45.189063 49.744152)scale(0.1 -0.1)\">\n       <use xlink:href=\"#DejaVuSans-70\"/>\n       <use x=\"57.519531\" xlink:href=\"#DejaVuSans-71\"/>\n       <use x=\"135.009766\" xlink:href=\"#DejaVuSans-65\"/>\n      </g>\n     </g>\n    </g>\n    <g id=\"ytick_4\">\n     <g id=\"line2d_18\">\n      <g>\n       <use style=\"stroke:#000000;stroke-width:0.8;\" x=\"72.529688\" xlink:href=\"#m1fe97de94a\" y=\"61.476362\"/>\n      </g>\n     </g>\n     <g id=\"text_18\">\n      <!-- 3P -->\n      <g transform=\"translate(53.1375 65.27558)scale(0.1 -0.1)\">\n       <use xlink:href=\"#DejaVuSans-51\"/>\n       <use x=\"63.623047\" xlink:href=\"#DejaVuSans-80\"/>\n      </g>\n     </g>\n    </g>\n    <g id=\"ytick_5\">\n     <g id=\"line2d_19\">\n      <g>\n       <use style=\"stroke:#000000;stroke-width:0.8;\" x=\"72.529688\" xlink:href=\"#m1fe97de94a\" y=\"77.00779\"/>\n      </g>\n     </g>\n     <g id=\"text_19\">\n      <!-- 3P% -->\n      <g transform=\"translate(43.635938 80.807009)scale(0.1 -0.1)\">\n       <use xlink:href=\"#DejaVuSans-51\"/>\n       <use x=\"63.623047\" xlink:href=\"#DejaVuSans-80\"/>\n       <use x=\"123.925781\" xlink:href=\"#DejaVuSans-37\"/>\n      </g>\n     </g>\n    </g>\n    <g id=\"ytick_6\">\n     <g id=\"line2d_20\">\n      <g>\n       <use style=\"stroke:#000000;stroke-width:0.8;\" x=\"72.529688\" xlink:href=\"#m1fe97de94a\" y=\"92.539219\"/>\n      </g>\n     </g>\n     <g id=\"text_20\">\n      <!-- 2PA -->\n      <g transform=\"translate(46.934375 96.338437)scale(0.1 -0.1)\">\n       <use xlink:href=\"#DejaVuSans-50\"/>\n       <use x=\"63.623047\" xlink:href=\"#DejaVuSans-80\"/>\n       <use x=\"117.550781\" xlink:href=\"#DejaVuSans-65\"/>\n      </g>\n     </g>\n    </g>\n    <g id=\"ytick_7\">\n     <g id=\"line2d_21\">\n      <g>\n       <use style=\"stroke:#000000;stroke-width:0.8;\" x=\"72.529688\" xlink:href=\"#m1fe97de94a\" y=\"108.070647\"/>\n      </g>\n     </g>\n     <g id=\"text_21\">\n      <!-- FT -->\n      <g transform=\"translate(53.845313 111.869866)scale(0.1 -0.1)\">\n       <use xlink:href=\"#DejaVuSans-70\"/>\n       <use x=\"55.769531\" xlink:href=\"#DejaVuSans-84\"/>\n      </g>\n     </g>\n    </g>\n    <g id=\"ytick_8\">\n     <g id=\"line2d_22\">\n      <g>\n       <use style=\"stroke:#000000;stroke-width:0.8;\" x=\"72.529688\" xlink:href=\"#m1fe97de94a\" y=\"123.602076\"/>\n      </g>\n     </g>\n     <g id=\"text_22\">\n      <!-- FT% -->\n      <g transform=\"translate(44.34375 127.401295)scale(0.1 -0.1)\">\n       <use xlink:href=\"#DejaVuSans-70\"/>\n       <use x=\"55.769531\" xlink:href=\"#DejaVuSans-84\"/>\n       <use x=\"116.853516\" xlink:href=\"#DejaVuSans-37\"/>\n      </g>\n     </g>\n    </g>\n    <g id=\"ytick_9\">\n     <g id=\"line2d_23\">\n      <g>\n       <use style=\"stroke:#000000;stroke-width:0.8;\" x=\"72.529688\" xlink:href=\"#m1fe97de94a\" y=\"139.133504\"/>\n      </g>\n     </g>\n     <g id=\"text_23\">\n      <!-- DRB -->\n      <g transform=\"translate(44.020313 142.932723)scale(0.1 -0.1)\">\n       <use xlink:href=\"#DejaVuSans-68\"/>\n       <use x=\"77.001953\" xlink:href=\"#DejaVuSans-82\"/>\n       <use x=\"146.484375\" xlink:href=\"#DejaVuSans-66\"/>\n      </g>\n     </g>\n    </g>\n    <g id=\"ytick_10\">\n     <g id=\"line2d_24\">\n      <g>\n       <use style=\"stroke:#000000;stroke-width:0.8;\" x=\"72.529688\" xlink:href=\"#m1fe97de94a\" y=\"154.664933\"/>\n      </g>\n     </g>\n     <g id=\"text_24\">\n      <!-- AST -->\n      <g transform=\"translate(46.232813 158.464152)scale(0.1 -0.1)\">\n       <use xlink:href=\"#DejaVuSans-65\"/>\n       <use x=\"68.408203\" xlink:href=\"#DejaVuSans-83\"/>\n       <use x=\"131.884766\" xlink:href=\"#DejaVuSans-84\"/>\n      </g>\n     </g>\n    </g>\n    <g id=\"ytick_11\">\n     <g id=\"line2d_25\">\n      <g>\n       <use style=\"stroke:#000000;stroke-width:0.8;\" x=\"72.529688\" xlink:href=\"#m1fe97de94a\" y=\"170.196362\"/>\n      </g>\n     </g>\n     <g id=\"text_25\">\n      <!-- BLK -->\n      <g transform=\"translate(46.539063 173.99558)scale(0.1 -0.1)\">\n       <use xlink:href=\"#DejaVuSans-66\"/>\n       <use x=\"68.603516\" xlink:href=\"#DejaVuSans-76\"/>\n       <use x=\"124.316406\" xlink:href=\"#DejaVuSans-75\"/>\n      </g>\n     </g>\n    </g>\n    <g id=\"ytick_12\">\n     <g id=\"line2d_26\">\n      <g>\n       <use style=\"stroke:#000000;stroke-width:0.8;\" x=\"72.529688\" xlink:href=\"#m1fe97de94a\" y=\"185.72779\"/>\n      </g>\n     </g>\n     <g id=\"text_26\">\n      <!-- PF -->\n      <g transform=\"translate(53.748438 189.527009)scale(0.1 -0.1)\">\n       <use xlink:href=\"#DejaVuSans-80\"/>\n       <use x=\"60.302734\" xlink:href=\"#DejaVuSans-70\"/>\n      </g>\n     </g>\n    </g>\n    <g id=\"ytick_13\">\n     <g id=\"line2d_27\">\n      <g>\n       <use style=\"stroke:#000000;stroke-width:0.8;\" x=\"72.529688\" xlink:href=\"#m1fe97de94a\" y=\"201.259219\"/>\n      </g>\n     </g>\n     <g id=\"text_27\">\n      <!-- Age -->\n      <g transform=\"translate(46.1875 205.058437)scale(0.1 -0.1)\">\n       <use xlink:href=\"#DejaVuSans-65\"/>\n       <use x=\"68.408203\" xlink:href=\"#DejaVuSans-103\"/>\n       <use x=\"131.884766\" xlink:href=\"#DejaVuSans-101\"/>\n      </g>\n     </g>\n    </g>\n    <g id=\"ytick_14\">\n     <g id=\"line2d_28\">\n      <g>\n       <use style=\"stroke:#000000;stroke-width:0.8;\" x=\"72.529688\" xlink:href=\"#m1fe97de94a\" y=\"216.790647\"/>\n      </g>\n     </g>\n     <g id=\"text_28\">\n      <!-- salary_ratio -->\n      <g transform=\"translate(7.2 220.589866)scale(0.1 -0.1)\">\n       <use xlink:href=\"#DejaVuSans-115\"/>\n       <use x=\"52.099609\" xlink:href=\"#DejaVuSans-97\"/>\n       <use x=\"113.378906\" xlink:href=\"#DejaVuSans-108\"/>\n       <use x=\"141.162109\" xlink:href=\"#DejaVuSans-97\"/>\n       <use x=\"202.441406\" xlink:href=\"#DejaVuSans-114\"/>\n       <use x=\"243.554688\" xlink:href=\"#DejaVuSans-121\"/>\n       <use x=\"302.734375\" xlink:href=\"#DejaVuSans-95\"/>\n       <use x=\"352.734375\" xlink:href=\"#DejaVuSans-114\"/>\n       <use x=\"393.847656\" xlink:href=\"#DejaVuSans-97\"/>\n       <use x=\"455.126953\" xlink:href=\"#DejaVuSans-116\"/>\n       <use x=\"494.335938\" xlink:href=\"#DejaVuSans-105\"/>\n       <use x=\"522.119141\" xlink:href=\"#DejaVuSans-111\"/>\n      </g>\n     </g>\n    </g>\n   </g>\n   <g id=\"text_29\">\n    <!-- 1 -->\n    <g style=\"fill:#262626;\" transform=\"translate(74.131295 17.641451)scale(0.1 -0.1)\">\n     <defs>\n      <path d=\"M 12.40625 8.296875 \nL 28.515625 8.296875 \nL 28.515625 63.921875 \nL 10.984375 60.40625 \nL 10.984375 69.390625 \nL 28.421875 72.90625 \nL 38.28125 72.90625 \nL 38.28125 8.296875 \nL 54.390625 8.296875 \nL 54.390625 0 \nL 12.40625 0 \nz\n\" id=\"DejaVuSans-49\"/>\n     </defs>\n     <use xlink:href=\"#DejaVuSans-49\"/>\n    </g>\n   </g>\n   <g id=\"text_30\">\n    <!-- 0.79 -->\n    <g style=\"fill:#262626;\" transform=\"translate(75.745446 17.641451)scale(0.1 -0.1)\">\n     <defs>\n      <path d=\"M 31.78125 66.40625 \nQ 24.171875 66.40625 20.328125 58.90625 \nQ 16.5 51.421875 16.5 36.375 \nQ 16.5 21.390625 20.328125 13.890625 \nQ 24.171875 6.390625 31.78125 6.390625 \nQ 39.453125 6.390625 43.28125 13.890625 \nQ 47.125 21.390625 47.125 36.375 \nQ 47.125 51.421875 43.28125 58.90625 \nQ 39.453125 66.40625 31.78125 66.40625 \nz\nM 31.78125 74.21875 \nQ 44.046875 74.21875 50.515625 64.515625 \nQ 56.984375 54.828125 56.984375 36.375 \nQ 56.984375 17.96875 50.515625 8.265625 \nQ 44.046875 -1.421875 31.78125 -1.421875 \nQ 19.53125 -1.421875 13.0625 8.265625 \nQ 6.59375 17.96875 6.59375 36.375 \nQ 6.59375 54.828125 13.0625 64.515625 \nQ 19.53125 74.21875 31.78125 74.21875 \nz\n\" id=\"DejaVuSans-48\"/>\n      <path d=\"M 10.6875 12.40625 \nL 21 12.40625 \nL 21 0 \nL 10.6875 0 \nz\n\" id=\"DejaVuSans-46\"/>\n      <path d=\"M 8.203125 72.90625 \nL 55.078125 72.90625 \nL 55.078125 68.703125 \nL 28.609375 0 \nL 18.3125 0 \nL 43.21875 64.59375 \nL 8.203125 64.59375 \nz\n\" id=\"DejaVuSans-55\"/>\n      <path d=\"M 10.984375 1.515625 \nL 10.984375 10.5 \nQ 14.703125 8.734375 18.5 7.8125 \nQ 22.3125 6.890625 25.984375 6.890625 \nQ 35.75 6.890625 40.890625 13.453125 \nQ 46.046875 20.015625 46.78125 33.40625 \nQ 43.953125 29.203125 39.59375 26.953125 \nQ 35.25 24.703125 29.984375 24.703125 \nQ 19.046875 24.703125 12.671875 31.3125 \nQ 6.296875 37.9375 6.296875 49.421875 \nQ 6.296875 60.640625 12.9375 67.421875 \nQ 19.578125 74.21875 30.609375 74.21875 \nQ 43.265625 74.21875 49.921875 64.515625 \nQ 56.59375 54.828125 56.59375 36.375 \nQ 56.59375 19.140625 48.40625 8.859375 \nQ 40.234375 -1.421875 26.421875 -1.421875 \nQ 22.703125 -1.421875 18.890625 -0.6875 \nQ 15.09375 0.046875 10.984375 1.515625 \nz\nM 30.609375 32.421875 \nQ 37.25 32.421875 41.125 36.953125 \nQ 45.015625 41.5 45.015625 49.421875 \nQ 45.015625 57.28125 41.125 61.84375 \nQ 37.25 66.40625 30.609375 66.40625 \nQ 23.96875 66.40625 20.09375 61.84375 \nQ 16.21875 57.28125 16.21875 49.421875 \nQ 16.21875 41.5 20.09375 36.953125 \nQ 23.96875 32.421875 30.609375 32.421875 \nz\n\" id=\"DejaVuSans-57\"/>\n     </defs>\n     <use xlink:href=\"#DejaVuSans-48\"/>\n     <use x=\"63.623047\" xlink:href=\"#DejaVuSans-46\"/>\n     <use x=\"95.410156\" xlink:href=\"#DejaVuSans-55\"/>\n     <use x=\"159.033203\" xlink:href=\"#DejaVuSans-57\"/>\n    </g>\n   </g>\n   <g id=\"text_31\">\n    <!-- -0.62 -->\n    <g style=\"fill:#ffffff;\" transform=\"translate(83.507254 17.641451)scale(0.1 -0.1)\">\n     <defs>\n      <path d=\"M 4.890625 31.390625 \nL 31.203125 31.390625 \nL 31.203125 23.390625 \nL 4.890625 23.390625 \nz\n\" id=\"DejaVuSans-45\"/>\n      <path d=\"M 33.015625 40.375 \nQ 26.375 40.375 22.484375 35.828125 \nQ 18.609375 31.296875 18.609375 23.390625 \nQ 18.609375 15.53125 22.484375 10.953125 \nQ 26.375 6.390625 33.015625 6.390625 \nQ 39.65625 6.390625 43.53125 10.953125 \nQ 47.40625 15.53125 47.40625 23.390625 \nQ 47.40625 31.296875 43.53125 35.828125 \nQ 39.65625 40.375 33.015625 40.375 \nz\nM 52.59375 71.296875 \nL 52.59375 62.3125 \nQ 48.875 64.0625 45.09375 64.984375 \nQ 41.3125 65.921875 37.59375 65.921875 \nQ 27.828125 65.921875 22.671875 59.328125 \nQ 17.53125 52.734375 16.796875 39.40625 \nQ 19.671875 43.65625 24.015625 45.921875 \nQ 28.375 48.1875 33.59375 48.1875 \nQ 44.578125 48.1875 50.953125 41.515625 \nQ 57.328125 34.859375 57.328125 23.390625 \nQ 57.328125 12.15625 50.6875 5.359375 \nQ 44.046875 -1.421875 33.015625 -1.421875 \nQ 20.359375 -1.421875 13.671875 8.265625 \nQ 6.984375 17.96875 6.984375 36.375 \nQ 6.984375 53.65625 15.1875 63.9375 \nQ 23.390625 74.21875 37.203125 74.21875 \nQ 40.921875 74.21875 44.703125 73.484375 \nQ 48.484375 72.75 52.59375 71.296875 \nz\n\" id=\"DejaVuSans-54\"/>\n     </defs>\n     <use xlink:href=\"#DejaVuSans-45\"/>\n     <use x=\"36.083984\" xlink:href=\"#DejaVuSans-48\"/>\n     <use x=\"99.707031\" xlink:href=\"#DejaVuSans-46\"/>\n     <use x=\"131.494141\" xlink:href=\"#DejaVuSans-54\"/>\n     <use x=\"195.117188\" xlink:href=\"#DejaVuSans-50\"/>\n    </g>\n   </g>\n   <g id=\"text_32\">\n    <!-- 0.49 -->\n    <g style=\"fill:#ffffff;\" transform=\"translate(94.876875 17.641451)scale(0.1 -0.1)\">\n     <defs>\n      <path d=\"M 37.796875 64.3125 \nL 12.890625 25.390625 \nL 37.796875 25.390625 \nz\nM 35.203125 72.90625 \nL 47.609375 72.90625 \nL 47.609375 25.390625 \nL 58.015625 25.390625 \nL 58.015625 17.1875 \nL 47.609375 17.1875 \nL 47.609375 0 \nL 37.796875 0 \nL 37.796875 17.1875 \nL 4.890625 17.1875 \nL 4.890625 26.703125 \nz\n\" id=\"DejaVuSans-52\"/>\n     </defs>\n     <use xlink:href=\"#DejaVuSans-48\"/>\n     <use x=\"63.623047\" xlink:href=\"#DejaVuSans-46\"/>\n     <use x=\"95.410156\" xlink:href=\"#DejaVuSans-52\"/>\n     <use x=\"159.033203\" xlink:href=\"#DejaVuSans-57\"/>\n    </g>\n   </g>\n   <g id=\"text_33\">\n    <!-- 0.49 -->\n    <g style=\"fill:#ffffff;\" transform=\"translate(104.442589 17.641451)scale(0.1 -0.1)\">\n     <use xlink:href=\"#DejaVuSans-48\"/>\n     <use x=\"63.623047\" xlink:href=\"#DejaVuSans-46\"/>\n     <use x=\"95.410156\" xlink:href=\"#DejaVuSans-52\"/>\n     <use x=\"159.033203\" xlink:href=\"#DejaVuSans-57\"/>\n    </g>\n   </g>\n   <g id=\"text_34\">\n    <!-- 0.18 -->\n    <g style=\"fill:#ffffff;\" transform=\"translate(114.008304 17.641451)scale(0.1 -0.1)\">\n     <defs>\n      <path d=\"M 31.78125 34.625 \nQ 24.75 34.625 20.71875 30.859375 \nQ 16.703125 27.09375 16.703125 20.515625 \nQ 16.703125 13.921875 20.71875 10.15625 \nQ 24.75 6.390625 31.78125 6.390625 \nQ 38.8125 6.390625 42.859375 10.171875 \nQ 46.921875 13.96875 46.921875 20.515625 \nQ 46.921875 27.09375 42.890625 30.859375 \nQ 38.875 34.625 31.78125 34.625 \nz\nM 21.921875 38.8125 \nQ 15.578125 40.375 12.03125 44.71875 \nQ 8.5 49.078125 8.5 55.328125 \nQ 8.5 64.0625 14.71875 69.140625 \nQ 20.953125 74.21875 31.78125 74.21875 \nQ 42.671875 74.21875 48.875 69.140625 \nQ 55.078125 64.0625 55.078125 55.328125 \nQ 55.078125 49.078125 51.53125 44.71875 \nQ 48 40.375 41.703125 38.8125 \nQ 48.828125 37.15625 52.796875 32.3125 \nQ 56.78125 27.484375 56.78125 20.515625 \nQ 56.78125 9.90625 50.3125 4.234375 \nQ 43.84375 -1.421875 31.78125 -1.421875 \nQ 19.734375 -1.421875 13.25 4.234375 \nQ 6.78125 9.90625 6.78125 20.515625 \nQ 6.78125 27.484375 10.78125 32.3125 \nQ 14.796875 37.15625 21.921875 38.8125 \nz\nM 18.3125 54.390625 \nQ 18.3125 48.734375 21.84375 45.5625 \nQ 25.390625 42.390625 31.78125 42.390625 \nQ 38.140625 42.390625 41.71875 45.5625 \nQ 45.3125 48.734375 45.3125 54.390625 \nQ 45.3125 60.0625 41.71875 63.234375 \nQ 38.140625 66.40625 31.78125 66.40625 \nQ 25.390625 66.40625 21.84375 63.234375 \nQ 18.3125 60.0625 18.3125 54.390625 \nz\n\" id=\"DejaVuSans-56\"/>\n     </defs>\n     <use xlink:href=\"#DejaVuSans-48\"/>\n     <use x=\"63.623047\" xlink:href=\"#DejaVuSans-46\"/>\n     <use x=\"95.410156\" xlink:href=\"#DejaVuSans-49\"/>\n     <use x=\"159.033203\" xlink:href=\"#DejaVuSans-56\"/>\n    </g>\n   </g>\n   <g id=\"text_35\">\n    <!-- 0.44 -->\n    <g style=\"fill:#ffffff;\" transform=\"translate(123.574018 17.641451)scale(0.1 -0.1)\">\n     <use xlink:href=\"#DejaVuSans-48\"/>\n     <use x=\"63.623047\" xlink:href=\"#DejaVuSans-46\"/>\n     <use x=\"95.410156\" xlink:href=\"#DejaVuSans-52\"/>\n     <use x=\"159.033203\" xlink:href=\"#DejaVuSans-52\"/>\n    </g>\n   </g>\n   <g id=\"text_36\">\n    <!-- 0.44 -->\n    <g style=\"fill:#ffffff;\" transform=\"translate(133.139732 17.641451)scale(0.1 -0.1)\">\n     <use xlink:href=\"#DejaVuSans-48\"/>\n     <use x=\"63.623047\" xlink:href=\"#DejaVuSans-46\"/>\n     <use x=\"95.410156\" xlink:href=\"#DejaVuSans-52\"/>\n     <use x=\"159.033203\" xlink:href=\"#DejaVuSans-52\"/>\n    </g>\n   </g>\n   <g id=\"text_37\">\n    <!-- 0.028 -->\n    <g style=\"fill:#ffffff;\" transform=\"translate(139.524196 17.641451)scale(0.1 -0.1)\">\n     <use xlink:href=\"#DejaVuSans-48\"/>\n     <use x=\"63.623047\" xlink:href=\"#DejaVuSans-46\"/>\n     <use x=\"95.410156\" xlink:href=\"#DejaVuSans-48\"/>\n     <use x=\"159.033203\" xlink:href=\"#DejaVuSans-50\"/>\n     <use x=\"222.65625\" xlink:href=\"#DejaVuSans-56\"/>\n    </g>\n   </g>\n   <g id=\"text_38\">\n    <!-- 0.37 -->\n    <g style=\"fill:#ffffff;\" transform=\"translate(152.271161 17.641451)scale(0.1 -0.1)\">\n     <use xlink:href=\"#DejaVuSans-48\"/>\n     <use x=\"63.623047\" xlink:href=\"#DejaVuSans-46\"/>\n     <use x=\"95.410156\" xlink:href=\"#DejaVuSans-51\"/>\n     <use x=\"159.033203\" xlink:href=\"#DejaVuSans-55\"/>\n    </g>\n   </g>\n   <g id=\"text_39\">\n    <!-- 0.34 -->\n    <g style=\"fill:#ffffff;\" transform=\"translate(161.836875 17.641451)scale(0.1 -0.1)\">\n     <use xlink:href=\"#DejaVuSans-48\"/>\n     <use x=\"63.623047\" xlink:href=\"#DejaVuSans-46\"/>\n     <use x=\"95.410156\" xlink:href=\"#DejaVuSans-51\"/>\n     <use x=\"159.033203\" xlink:href=\"#DejaVuSans-52\"/>\n    </g>\n   </g>\n   <g id=\"text_40\">\n    <!-- 0.27 -->\n    <g style=\"fill:#ffffff;\" transform=\"translate(171.402589 17.641451)scale(0.1 -0.1)\">\n     <use xlink:href=\"#DejaVuSans-48\"/>\n     <use x=\"63.623047\" xlink:href=\"#DejaVuSans-46\"/>\n     <use x=\"95.410156\" xlink:href=\"#DejaVuSans-50\"/>\n     <use x=\"159.033203\" xlink:href=\"#DejaVuSans-55\"/>\n    </g>\n   </g>\n   <g id=\"text_41\">\n    <!-- 0.29 -->\n    <g style=\"fill:#ffffff;\" transform=\"translate(180.968304 17.641451)scale(0.1 -0.1)\">\n     <use xlink:href=\"#DejaVuSans-48\"/>\n     <use x=\"63.623047\" xlink:href=\"#DejaVuSans-46\"/>\n     <use x=\"95.410156\" xlink:href=\"#DejaVuSans-50\"/>\n     <use x=\"159.033203\" xlink:href=\"#DejaVuSans-57\"/>\n    </g>\n   </g>\n   <g id=\"text_42\">\n    <!-- 0.32 -->\n    <g style=\"fill:#ffffff;\" transform=\"translate(190.534018 17.641451)scale(0.1 -0.1)\">\n     <use xlink:href=\"#DejaVuSans-48\"/>\n     <use x=\"63.623047\" xlink:href=\"#DejaVuSans-46\"/>\n     <use x=\"95.410156\" xlink:href=\"#DejaVuSans-51\"/>\n     <use x=\"159.033203\" xlink:href=\"#DejaVuSans-50\"/>\n    </g>\n   </g>\n   <g id=\"text_43\">\n    <!-- 0.009 -->\n    <g style=\"fill:#ffffff;\" transform=\"translate(196.918482 17.641451)scale(0.1 -0.1)\">\n     <use xlink:href=\"#DejaVuSans-48\"/>\n     <use x=\"63.623047\" xlink:href=\"#DejaVuSans-46\"/>\n     <use x=\"95.410156\" xlink:href=\"#DejaVuSans-48\"/>\n     <use x=\"159.033203\" xlink:href=\"#DejaVuSans-48\"/>\n     <use x=\"222.65625\" xlink:href=\"#DejaVuSans-57\"/>\n    </g>\n   </g>\n   <g id=\"text_44\">\n    <!-- 0.13 -->\n    <g style=\"fill:#ffffff;\" transform=\"translate(209.665446 17.641451)scale(0.1 -0.1)\">\n     <use xlink:href=\"#DejaVuSans-48\"/>\n     <use x=\"63.623047\" xlink:href=\"#DejaVuSans-46\"/>\n     <use x=\"95.410156\" xlink:href=\"#DejaVuSans-49\"/>\n     <use x=\"159.033203\" xlink:href=\"#DejaVuSans-51\"/>\n    </g>\n   </g>\n   <g id=\"text_45\">\n    <!-- 0.39 -->\n    <g style=\"fill:#ffffff;\" transform=\"translate(219.231161 17.641451)scale(0.1 -0.1)\">\n     <use xlink:href=\"#DejaVuSans-48\"/>\n     <use x=\"63.623047\" xlink:href=\"#DejaVuSans-46\"/>\n     <use x=\"95.410156\" xlink:href=\"#DejaVuSans-51\"/>\n     <use x=\"159.033203\" xlink:href=\"#DejaVuSans-57\"/>\n    </g>\n   </g>\n   <g id=\"text_46\">\n    <!-- 0.34 -->\n    <g style=\"fill:#ffffff;\" transform=\"translate(228.796875 17.641451)scale(0.1 -0.1)\">\n     <use xlink:href=\"#DejaVuSans-48\"/>\n     <use x=\"63.623047\" xlink:href=\"#DejaVuSans-46\"/>\n     <use x=\"95.410156\" xlink:href=\"#DejaVuSans-51\"/>\n     <use x=\"159.033203\" xlink:href=\"#DejaVuSans-52\"/>\n    </g>\n   </g>\n   <g id=\"text_47\">\n    <!-- 0.41 -->\n    <g style=\"fill:#ffffff;\" transform=\"translate(238.362589 17.641451)scale(0.1 -0.1)\">\n     <use xlink:href=\"#DejaVuSans-48\"/>\n     <use x=\"63.623047\" xlink:href=\"#DejaVuSans-46\"/>\n     <use x=\"95.410156\" xlink:href=\"#DejaVuSans-52\"/>\n     <use x=\"159.033203\" xlink:href=\"#DejaVuSans-49\"/>\n    </g>\n   </g>\n   <g id=\"text_48\">\n    <!-- 0.23 -->\n    <g style=\"fill:#ffffff;\" transform=\"translate(247.928304 17.641451)scale(0.1 -0.1)\">\n     <use xlink:href=\"#DejaVuSans-48\"/>\n     <use x=\"63.623047\" xlink:href=\"#DejaVuSans-46\"/>\n     <use x=\"95.410156\" xlink:href=\"#DejaVuSans-50\"/>\n     <use x=\"159.033203\" xlink:href=\"#DejaVuSans-51\"/>\n    </g>\n   </g>\n   <g id=\"text_49\">\n    <!-- 0.19 -->\n    <g style=\"fill:#ffffff;\" transform=\"translate(257.494018 17.641451)scale(0.1 -0.1)\">\n     <use xlink:href=\"#DejaVuSans-48\"/>\n     <use x=\"63.623047\" xlink:href=\"#DejaVuSans-46\"/>\n     <use x=\"95.410156\" xlink:href=\"#DejaVuSans-49\"/>\n     <use x=\"159.033203\" xlink:href=\"#DejaVuSans-57\"/>\n    </g>\n   </g>\n   <g id=\"text_50\">\n    <!-- 0.26 -->\n    <g style=\"fill:#ffffff;\" transform=\"translate(267.059732 17.641451)scale(0.1 -0.1)\">\n     <use xlink:href=\"#DejaVuSans-48\"/>\n     <use x=\"63.623047\" xlink:href=\"#DejaVuSans-46\"/>\n     <use x=\"95.410156\" xlink:href=\"#DejaVuSans-50\"/>\n     <use x=\"159.033203\" xlink:href=\"#DejaVuSans-54\"/>\n    </g>\n   </g>\n   <g id=\"text_51\">\n    <!-- 0.19 -->\n    <g style=\"fill:#ffffff;\" transform=\"translate(276.625446 17.641451)scale(0.1 -0.1)\">\n     <use xlink:href=\"#DejaVuSans-48\"/>\n     <use x=\"63.623047\" xlink:href=\"#DejaVuSans-46\"/>\n     <use x=\"95.410156\" xlink:href=\"#DejaVuSans-49\"/>\n     <use x=\"159.033203\" xlink:href=\"#DejaVuSans-57\"/>\n    </g>\n   </g>\n   <g id=\"text_52\">\n    <!-- 0.49 -->\n    <g style=\"fill:#ffffff;\" transform=\"translate(286.191161 17.641451)scale(0.1 -0.1)\">\n     <use xlink:href=\"#DejaVuSans-48\"/>\n     <use x=\"63.623047\" xlink:href=\"#DejaVuSans-46\"/>\n     <use x=\"95.410156\" xlink:href=\"#DejaVuSans-52\"/>\n     <use x=\"159.033203\" xlink:href=\"#DejaVuSans-57\"/>\n    </g>\n   </g>\n   <g id=\"text_53\">\n    <!-- -0.019 -->\n    <g style=\"fill:#ffffff;\" transform=\"translate(290.771719 17.641451)scale(0.1 -0.1)\">\n     <use xlink:href=\"#DejaVuSans-45\"/>\n     <use x=\"36.083984\" xlink:href=\"#DejaVuSans-48\"/>\n     <use x=\"99.707031\" xlink:href=\"#DejaVuSans-46\"/>\n     <use x=\"131.494141\" xlink:href=\"#DejaVuSans-48\"/>\n     <use x=\"195.117188\" xlink:href=\"#DejaVuSans-49\"/>\n     <use x=\"258.740234\" xlink:href=\"#DejaVuSans-57\"/>\n    </g>\n   </g>\n   <g id=\"text_54\">\n    <!-- 0.72 -->\n    <g style=\"fill:#262626;\" transform=\"translate(305.322589 17.641451)scale(0.1 -0.1)\">\n     <use xlink:href=\"#DejaVuSans-48\"/>\n     <use x=\"63.623047\" xlink:href=\"#DejaVuSans-46\"/>\n     <use x=\"95.410156\" xlink:href=\"#DejaVuSans-55\"/>\n     <use x=\"159.033203\" xlink:href=\"#DejaVuSans-50\"/>\n    </g>\n   </g>\n   <g id=\"text_55\">\n    <!-- 0.33 -->\n    <g style=\"fill:#ffffff;\" transform=\"translate(314.888304 17.641451)scale(0.1 -0.1)\">\n     <use xlink:href=\"#DejaVuSans-48\"/>\n     <use x=\"63.623047\" xlink:href=\"#DejaVuSans-46\"/>\n     <use x=\"95.410156\" xlink:href=\"#DejaVuSans-51\"/>\n     <use x=\"159.033203\" xlink:href=\"#DejaVuSans-51\"/>\n    </g>\n   </g>\n   <g id=\"text_56\">\n    <!-- -0.73 -->\n    <g style=\"fill:#ffffff;\" transform=\"translate(322.650112 17.641451)scale(0.1 -0.1)\">\n     <use xlink:href=\"#DejaVuSans-45\"/>\n     <use x=\"36.083984\" xlink:href=\"#DejaVuSans-48\"/>\n     <use x=\"99.707031\" xlink:href=\"#DejaVuSans-46\"/>\n     <use x=\"131.494141\" xlink:href=\"#DejaVuSans-55\"/>\n     <use x=\"195.117188\" xlink:href=\"#DejaVuSans-51\"/>\n    </g>\n   </g>\n   <g id=\"text_57\">\n    <!-- 0.79 -->\n    <g style=\"fill:#262626;\" transform=\"translate(66.179732 25.407165)scale(0.1 -0.1)\">\n     <use xlink:href=\"#DejaVuSans-48\"/>\n     <use x=\"63.623047\" xlink:href=\"#DejaVuSans-46\"/>\n     <use x=\"95.410156\" xlink:href=\"#DejaVuSans-55\"/>\n     <use x=\"159.033203\" xlink:href=\"#DejaVuSans-57\"/>\n    </g>\n   </g>\n   <g id=\"text_58\">\n    <!-- 1 -->\n    <g style=\"fill:#262626;\" transform=\"translate(83.697009 25.407165)scale(0.1 -0.1)\">\n     <use xlink:href=\"#DejaVuSans-49\"/>\n    </g>\n   </g>\n   <g id=\"text_59\">\n    <!-- -0.44 -->\n    <g style=\"fill:#ffffff;\" transform=\"translate(83.507254 25.407165)scale(0.1 -0.1)\">\n     <use xlink:href=\"#DejaVuSans-45\"/>\n     <use x=\"36.083984\" xlink:href=\"#DejaVuSans-48\"/>\n     <use x=\"99.707031\" xlink:href=\"#DejaVuSans-46\"/>\n     <use x=\"131.494141\" xlink:href=\"#DejaVuSans-52\"/>\n     <use x=\"195.117188\" xlink:href=\"#DejaVuSans-52\"/>\n    </g>\n   </g>\n   <g id=\"text_60\">\n    <!-- 0.64 -->\n    <g style=\"fill:#262626;\" transform=\"translate(94.876875 25.407165)scale(0.1 -0.1)\">\n     <use xlink:href=\"#DejaVuSans-48\"/>\n     <use x=\"63.623047\" xlink:href=\"#DejaVuSans-46\"/>\n     <use x=\"95.410156\" xlink:href=\"#DejaVuSans-54\"/>\n     <use x=\"159.033203\" xlink:href=\"#DejaVuSans-52\"/>\n    </g>\n   </g>\n   <g id=\"text_61\">\n    <!-- 0.62 -->\n    <g style=\"fill:#262626;\" transform=\"translate(104.442589 25.407165)scale(0.1 -0.1)\">\n     <use xlink:href=\"#DejaVuSans-48\"/>\n     <use x=\"63.623047\" xlink:href=\"#DejaVuSans-46\"/>\n     <use x=\"95.410156\" xlink:href=\"#DejaVuSans-54\"/>\n     <use x=\"159.033203\" xlink:href=\"#DejaVuSans-50\"/>\n    </g>\n   </g>\n   <g id=\"text_62\">\n    <!-- 0.28 -->\n    <g style=\"fill:#ffffff;\" transform=\"translate(114.008304 25.407165)scale(0.1 -0.1)\">\n     <use xlink:href=\"#DejaVuSans-48\"/>\n     <use x=\"63.623047\" xlink:href=\"#DejaVuSans-46\"/>\n     <use x=\"95.410156\" xlink:href=\"#DejaVuSans-50\"/>\n     <use x=\"159.033203\" xlink:href=\"#DejaVuSans-56\"/>\n    </g>\n   </g>\n   <g id=\"text_63\">\n    <!-- 0.44 -->\n    <g style=\"fill:#ffffff;\" transform=\"translate(123.574018 25.407165)scale(0.1 -0.1)\">\n     <use xlink:href=\"#DejaVuSans-48\"/>\n     <use x=\"63.623047\" xlink:href=\"#DejaVuSans-46\"/>\n     <use x=\"95.410156\" xlink:href=\"#DejaVuSans-52\"/>\n     <use x=\"159.033203\" xlink:href=\"#DejaVuSans-52\"/>\n    </g>\n   </g>\n   <g id=\"text_64\">\n    <!-- 0.44 -->\n    <g style=\"fill:#ffffff;\" transform=\"translate(133.139732 25.407165)scale(0.1 -0.1)\">\n     <use xlink:href=\"#DejaVuSans-48\"/>\n     <use x=\"63.623047\" xlink:href=\"#DejaVuSans-46\"/>\n     <use x=\"95.410156\" xlink:href=\"#DejaVuSans-52\"/>\n     <use x=\"159.033203\" xlink:href=\"#DejaVuSans-52\"/>\n    </g>\n   </g>\n   <g id=\"text_65\">\n    <!-- 0.037 -->\n    <g style=\"fill:#ffffff;\" transform=\"translate(139.524196 25.407165)scale(0.1 -0.1)\">\n     <use xlink:href=\"#DejaVuSans-48\"/>\n     <use x=\"63.623047\" xlink:href=\"#DejaVuSans-46\"/>\n     <use x=\"95.410156\" xlink:href=\"#DejaVuSans-48\"/>\n     <use x=\"159.033203\" xlink:href=\"#DejaVuSans-51\"/>\n     <use x=\"222.65625\" xlink:href=\"#DejaVuSans-55\"/>\n    </g>\n   </g>\n   <g id=\"text_66\">\n    <!-- 0.54 -->\n    <g style=\"fill:#ffffff;\" transform=\"translate(152.271161 25.407165)scale(0.1 -0.1)\">\n     <defs>\n      <path d=\"M 10.796875 72.90625 \nL 49.515625 72.90625 \nL 49.515625 64.59375 \nL 19.828125 64.59375 \nL 19.828125 46.734375 \nQ 21.96875 47.46875 24.109375 47.828125 \nQ 26.265625 48.1875 28.421875 48.1875 \nQ 40.625 48.1875 47.75 41.5 \nQ 54.890625 34.8125 54.890625 23.390625 \nQ 54.890625 11.625 47.5625 5.09375 \nQ 40.234375 -1.421875 26.90625 -1.421875 \nQ 22.3125 -1.421875 17.546875 -0.640625 \nQ 12.796875 0.140625 7.71875 1.703125 \nL 7.71875 11.625 \nQ 12.109375 9.234375 16.796875 8.0625 \nQ 21.484375 6.890625 26.703125 6.890625 \nQ 35.15625 6.890625 40.078125 11.328125 \nQ 45.015625 15.765625 45.015625 23.390625 \nQ 45.015625 31 40.078125 35.4375 \nQ 35.15625 39.890625 26.703125 39.890625 \nQ 22.75 39.890625 18.8125 39.015625 \nQ 14.890625 38.140625 10.796875 36.28125 \nz\n\" id=\"DejaVuSans-53\"/>\n     </defs>\n     <use xlink:href=\"#DejaVuSans-48\"/>\n     <use x=\"63.623047\" xlink:href=\"#DejaVuSans-46\"/>\n     <use x=\"95.410156\" xlink:href=\"#DejaVuSans-53\"/>\n     <use x=\"159.033203\" xlink:href=\"#DejaVuSans-52\"/>\n    </g>\n   </g>\n   <g id=\"text_67\">\n    <!-- 0.52 -->\n    <g style=\"fill:#ffffff;\" transform=\"translate(161.836875 25.407165)scale(0.1 -0.1)\">\n     <use xlink:href=\"#DejaVuSans-48\"/>\n     <use x=\"63.623047\" xlink:href=\"#DejaVuSans-46\"/>\n     <use x=\"95.410156\" xlink:href=\"#DejaVuSans-53\"/>\n     <use x=\"159.033203\" xlink:href=\"#DejaVuSans-50\"/>\n    </g>\n   </g>\n   <g id=\"text_68\">\n    <!-- 0.3 -->\n    <g style=\"fill:#ffffff;\" transform=\"translate(174.583839 25.407165)scale(0.1 -0.1)\">\n     <use xlink:href=\"#DejaVuSans-48\"/>\n     <use x=\"63.623047\" xlink:href=\"#DejaVuSans-46\"/>\n     <use x=\"95.410156\" xlink:href=\"#DejaVuSans-51\"/>\n    </g>\n   </g>\n   <g id=\"text_69\">\n    <!-- 0.46 -->\n    <g style=\"fill:#ffffff;\" transform=\"translate(180.968304 25.407165)scale(0.1 -0.1)\">\n     <use xlink:href=\"#DejaVuSans-48\"/>\n     <use x=\"63.623047\" xlink:href=\"#DejaVuSans-46\"/>\n     <use x=\"95.410156\" xlink:href=\"#DejaVuSans-52\"/>\n     <use x=\"159.033203\" xlink:href=\"#DejaVuSans-54\"/>\n    </g>\n   </g>\n   <g id=\"text_70\">\n    <!-- 0.49 -->\n    <g style=\"fill:#ffffff;\" transform=\"translate(190.534018 25.407165)scale(0.1 -0.1)\">\n     <use xlink:href=\"#DejaVuSans-48\"/>\n     <use x=\"63.623047\" xlink:href=\"#DejaVuSans-46\"/>\n     <use x=\"95.410156\" xlink:href=\"#DejaVuSans-52\"/>\n     <use x=\"159.033203\" xlink:href=\"#DejaVuSans-57\"/>\n    </g>\n   </g>\n   <g id=\"text_71\">\n    <!-- 0.044 -->\n    <g style=\"fill:#ffffff;\" transform=\"translate(196.918482 25.407165)scale(0.1 -0.1)\">\n     <use xlink:href=\"#DejaVuSans-48\"/>\n     <use x=\"63.623047\" xlink:href=\"#DejaVuSans-46\"/>\n     <use x=\"95.410156\" xlink:href=\"#DejaVuSans-48\"/>\n     <use x=\"159.033203\" xlink:href=\"#DejaVuSans-52\"/>\n     <use x=\"222.65625\" xlink:href=\"#DejaVuSans-52\"/>\n    </g>\n   </g>\n   <g id=\"text_72\">\n    <!-- 0.25 -->\n    <g style=\"fill:#ffffff;\" transform=\"translate(209.665446 25.407165)scale(0.1 -0.1)\">\n     <use xlink:href=\"#DejaVuSans-48\"/>\n     <use x=\"63.623047\" xlink:href=\"#DejaVuSans-46\"/>\n     <use x=\"95.410156\" xlink:href=\"#DejaVuSans-50\"/>\n     <use x=\"159.033203\" xlink:href=\"#DejaVuSans-53\"/>\n    </g>\n   </g>\n   <g id=\"text_73\">\n    <!-- 0.52 -->\n    <g style=\"fill:#ffffff;\" transform=\"translate(219.231161 25.407165)scale(0.1 -0.1)\">\n     <use xlink:href=\"#DejaVuSans-48\"/>\n     <use x=\"63.623047\" xlink:href=\"#DejaVuSans-46\"/>\n     <use x=\"95.410156\" xlink:href=\"#DejaVuSans-53\"/>\n     <use x=\"159.033203\" xlink:href=\"#DejaVuSans-50\"/>\n    </g>\n   </g>\n   <g id=\"text_74\">\n    <!-- 0.48 -->\n    <g style=\"fill:#ffffff;\" transform=\"translate(228.796875 25.407165)scale(0.1 -0.1)\">\n     <use xlink:href=\"#DejaVuSans-48\"/>\n     <use x=\"63.623047\" xlink:href=\"#DejaVuSans-46\"/>\n     <use x=\"95.410156\" xlink:href=\"#DejaVuSans-52\"/>\n     <use x=\"159.033203\" xlink:href=\"#DejaVuSans-56\"/>\n    </g>\n   </g>\n   <g id=\"text_75\">\n    <!-- 0.53 -->\n    <g style=\"fill:#ffffff;\" transform=\"translate(238.362589 25.407165)scale(0.1 -0.1)\">\n     <use xlink:href=\"#DejaVuSans-48\"/>\n     <use x=\"63.623047\" xlink:href=\"#DejaVuSans-46\"/>\n     <use x=\"95.410156\" xlink:href=\"#DejaVuSans-53\"/>\n     <use x=\"159.033203\" xlink:href=\"#DejaVuSans-51\"/>\n    </g>\n   </g>\n   <g id=\"text_76\">\n    <!-- 0.35 -->\n    <g style=\"fill:#ffffff;\" transform=\"translate(247.928304 25.407165)scale(0.1 -0.1)\">\n     <use xlink:href=\"#DejaVuSans-48\"/>\n     <use x=\"63.623047\" xlink:href=\"#DejaVuSans-46\"/>\n     <use x=\"95.410156\" xlink:href=\"#DejaVuSans-51\"/>\n     <use x=\"159.033203\" xlink:href=\"#DejaVuSans-53\"/>\n    </g>\n   </g>\n   <g id=\"text_77\">\n    <!-- 0.27 -->\n    <g style=\"fill:#ffffff;\" transform=\"translate(257.494018 25.407165)scale(0.1 -0.1)\">\n     <use xlink:href=\"#DejaVuSans-48\"/>\n     <use x=\"63.623047\" xlink:href=\"#DejaVuSans-46\"/>\n     <use x=\"95.410156\" xlink:href=\"#DejaVuSans-50\"/>\n     <use x=\"159.033203\" xlink:href=\"#DejaVuSans-55\"/>\n    </g>\n   </g>\n   <g id=\"text_78\">\n    <!-- 0.44 -->\n    <g style=\"fill:#ffffff;\" transform=\"translate(267.059732 25.407165)scale(0.1 -0.1)\">\n     <use xlink:href=\"#DejaVuSans-48\"/>\n     <use x=\"63.623047\" xlink:href=\"#DejaVuSans-46\"/>\n     <use x=\"95.410156\" xlink:href=\"#DejaVuSans-52\"/>\n     <use x=\"159.033203\" xlink:href=\"#DejaVuSans-52\"/>\n    </g>\n   </g>\n   <g id=\"text_79\">\n    <!-- 0.3 -->\n    <g style=\"fill:#ffffff;\" transform=\"translate(279.806696 25.407165)scale(0.1 -0.1)\">\n     <use xlink:href=\"#DejaVuSans-48\"/>\n     <use x=\"63.623047\" xlink:href=\"#DejaVuSans-46\"/>\n     <use x=\"95.410156\" xlink:href=\"#DejaVuSans-51\"/>\n    </g>\n   </g>\n   <g id=\"text_80\">\n    <!-- 0.63 -->\n    <g style=\"fill:#262626;\" transform=\"translate(286.191161 25.407165)scale(0.1 -0.1)\">\n     <use xlink:href=\"#DejaVuSans-48\"/>\n     <use x=\"63.623047\" xlink:href=\"#DejaVuSans-46\"/>\n     <use x=\"95.410156\" xlink:href=\"#DejaVuSans-54\"/>\n     <use x=\"159.033203\" xlink:href=\"#DejaVuSans-51\"/>\n    </g>\n   </g>\n   <g id=\"text_81\">\n    <!-- -0.076 -->\n    <g style=\"fill:#ffffff;\" transform=\"translate(290.771719 25.407165)scale(0.1 -0.1)\">\n     <use xlink:href=\"#DejaVuSans-45\"/>\n     <use x=\"36.083984\" xlink:href=\"#DejaVuSans-48\"/>\n     <use x=\"99.707031\" xlink:href=\"#DejaVuSans-46\"/>\n     <use x=\"131.494141\" xlink:href=\"#DejaVuSans-48\"/>\n     <use x=\"195.117188\" xlink:href=\"#DejaVuSans-55\"/>\n     <use x=\"258.740234\" xlink:href=\"#DejaVuSans-54\"/>\n    </g>\n   </g>\n   <g id=\"text_82\">\n    <!-- 0.71 -->\n    <g style=\"fill:#262626;\" transform=\"translate(305.322589 25.407165)scale(0.1 -0.1)\">\n     <use xlink:href=\"#DejaVuSans-48\"/>\n     <use x=\"63.623047\" xlink:href=\"#DejaVuSans-46\"/>\n     <use x=\"95.410156\" xlink:href=\"#DejaVuSans-55\"/>\n     <use x=\"159.033203\" xlink:href=\"#DejaVuSans-49\"/>\n    </g>\n   </g>\n   <g id=\"text_83\">\n    <!-- 0.53 -->\n    <g style=\"fill:#ffffff;\" transform=\"translate(314.888304 25.407165)scale(0.1 -0.1)\">\n     <use xlink:href=\"#DejaVuSans-48\"/>\n     <use x=\"63.623047\" xlink:href=\"#DejaVuSans-46\"/>\n     <use x=\"95.410156\" xlink:href=\"#DejaVuSans-53\"/>\n     <use x=\"159.033203\" xlink:href=\"#DejaVuSans-51\"/>\n    </g>\n   </g>\n   <g id=\"text_84\">\n    <!-- -0.75 -->\n    <g style=\"fill:#ffffff;\" transform=\"translate(322.650112 25.407165)scale(0.1 -0.1)\">\n     <use xlink:href=\"#DejaVuSans-45\"/>\n     <use x=\"36.083984\" xlink:href=\"#DejaVuSans-48\"/>\n     <use x=\"99.707031\" xlink:href=\"#DejaVuSans-46\"/>\n     <use x=\"131.494141\" xlink:href=\"#DejaVuSans-55\"/>\n     <use x=\"195.117188\" xlink:href=\"#DejaVuSans-53\"/>\n    </g>\n   </g>\n   <g id=\"text_85\">\n    <!-- -0.62 -->\n    <g style=\"fill:#ffffff;\" transform=\"translate(64.375826 33.172879)scale(0.1 -0.1)\">\n     <use xlink:href=\"#DejaVuSans-45\"/>\n     <use x=\"36.083984\" xlink:href=\"#DejaVuSans-48\"/>\n     <use x=\"99.707031\" xlink:href=\"#DejaVuSans-46\"/>\n     <use x=\"131.494141\" xlink:href=\"#DejaVuSans-54\"/>\n     <use x=\"195.117188\" xlink:href=\"#DejaVuSans-50\"/>\n    </g>\n   </g>\n   <g id=\"text_86\">\n    <!-- -0.44 -->\n    <g style=\"fill:#ffffff;\" transform=\"translate(73.94154 33.172879)scale(0.1 -0.1)\">\n     <use xlink:href=\"#DejaVuSans-45\"/>\n     <use x=\"36.083984\" xlink:href=\"#DejaVuSans-48\"/>\n     <use x=\"99.707031\" xlink:href=\"#DejaVuSans-46\"/>\n     <use x=\"131.494141\" xlink:href=\"#DejaVuSans-52\"/>\n     <use x=\"195.117188\" xlink:href=\"#DejaVuSans-52\"/>\n    </g>\n   </g>\n   <g id=\"text_87\">\n    <!-- 1 -->\n    <g style=\"fill:#262626;\" transform=\"translate(93.262723 33.172879)scale(0.1 -0.1)\">\n     <use xlink:href=\"#DejaVuSans-49\"/>\n    </g>\n   </g>\n   <g id=\"text_88\">\n    <!-- -0.26 -->\n    <g style=\"fill:#ffffff;\" transform=\"translate(93.072969 33.172879)scale(0.1 -0.1)\">\n     <use xlink:href=\"#DejaVuSans-45\"/>\n     <use x=\"36.083984\" xlink:href=\"#DejaVuSans-48\"/>\n     <use x=\"99.707031\" xlink:href=\"#DejaVuSans-46\"/>\n     <use x=\"131.494141\" xlink:href=\"#DejaVuSans-50\"/>\n     <use x=\"195.117188\" xlink:href=\"#DejaVuSans-54\"/>\n    </g>\n   </g>\n   <g id=\"text_89\">\n    <!-- -0.26 -->\n    <g style=\"fill:#ffffff;\" transform=\"translate(102.638683 33.172879)scale(0.1 -0.1)\">\n     <use xlink:href=\"#DejaVuSans-45\"/>\n     <use x=\"36.083984\" xlink:href=\"#DejaVuSans-48\"/>\n     <use x=\"99.707031\" xlink:href=\"#DejaVuSans-46\"/>\n     <use x=\"131.494141\" xlink:href=\"#DejaVuSans-50\"/>\n     <use x=\"195.117188\" xlink:href=\"#DejaVuSans-54\"/>\n    </g>\n   </g>\n   <g id=\"text_90\">\n    <!-- -0.029 -->\n    <g style=\"fill:#ffffff;\" transform=\"translate(109.023147 33.172879)scale(0.1 -0.1)\">\n     <use xlink:href=\"#DejaVuSans-45\"/>\n     <use x=\"36.083984\" xlink:href=\"#DejaVuSans-48\"/>\n     <use x=\"99.707031\" xlink:href=\"#DejaVuSans-46\"/>\n     <use x=\"131.494141\" xlink:href=\"#DejaVuSans-48\"/>\n     <use x=\"195.117188\" xlink:href=\"#DejaVuSans-50\"/>\n     <use x=\"258.740234\" xlink:href=\"#DejaVuSans-57\"/>\n    </g>\n   </g>\n   <g id=\"text_91\">\n    <!-- -0.34 -->\n    <g style=\"fill:#ffffff;\" transform=\"translate(121.770112 33.172879)scale(0.1 -0.1)\">\n     <use xlink:href=\"#DejaVuSans-45\"/>\n     <use x=\"36.083984\" xlink:href=\"#DejaVuSans-48\"/>\n     <use x=\"99.707031\" xlink:href=\"#DejaVuSans-46\"/>\n     <use x=\"131.494141\" xlink:href=\"#DejaVuSans-51\"/>\n     <use x=\"195.117188\" xlink:href=\"#DejaVuSans-52\"/>\n    </g>\n   </g>\n   <g id=\"text_92\">\n    <!-- -0.34 -->\n    <g style=\"fill:#ffffff;\" transform=\"translate(131.335826 33.172879)scale(0.1 -0.1)\">\n     <use xlink:href=\"#DejaVuSans-45\"/>\n     <use x=\"36.083984\" xlink:href=\"#DejaVuSans-48\"/>\n     <use x=\"99.707031\" xlink:href=\"#DejaVuSans-46\"/>\n     <use x=\"131.494141\" xlink:href=\"#DejaVuSans-51\"/>\n     <use x=\"195.117188\" xlink:href=\"#DejaVuSans-52\"/>\n    </g>\n   </g>\n   <g id=\"text_93\">\n    <!-- -0.012 -->\n    <g style=\"fill:#ffffff;\" transform=\"translate(137.72029 33.172879)scale(0.1 -0.1)\">\n     <use xlink:href=\"#DejaVuSans-45\"/>\n     <use x=\"36.083984\" xlink:href=\"#DejaVuSans-48\"/>\n     <use x=\"99.707031\" xlink:href=\"#DejaVuSans-46\"/>\n     <use x=\"131.494141\" xlink:href=\"#DejaVuSans-48\"/>\n     <use x=\"195.117188\" xlink:href=\"#DejaVuSans-49\"/>\n     <use x=\"258.740234\" xlink:href=\"#DejaVuSans-50\"/>\n    </g>\n   </g>\n   <g id=\"text_94\">\n    <!-- -0.14 -->\n    <g style=\"fill:#ffffff;\" transform=\"translate(150.467254 33.172879)scale(0.1 -0.1)\">\n     <use xlink:href=\"#DejaVuSans-45\"/>\n     <use x=\"36.083984\" xlink:href=\"#DejaVuSans-48\"/>\n     <use x=\"99.707031\" xlink:href=\"#DejaVuSans-46\"/>\n     <use x=\"131.494141\" xlink:href=\"#DejaVuSans-49\"/>\n     <use x=\"195.117188\" xlink:href=\"#DejaVuSans-52\"/>\n    </g>\n   </g>\n   <g id=\"text_95\">\n    <!-- -0.11 -->\n    <g style=\"fill:#ffffff;\" transform=\"translate(160.032969 33.172879)scale(0.1 -0.1)\">\n     <use xlink:href=\"#DejaVuSans-45\"/>\n     <use x=\"36.083984\" xlink:href=\"#DejaVuSans-48\"/>\n     <use x=\"99.707031\" xlink:href=\"#DejaVuSans-46\"/>\n     <use x=\"131.494141\" xlink:href=\"#DejaVuSans-49\"/>\n     <use x=\"195.117188\" xlink:href=\"#DejaVuSans-49\"/>\n    </g>\n   </g>\n   <g id=\"text_96\">\n    <!-- -0.1 -->\n    <g style=\"fill:#ffffff;\" transform=\"translate(172.779933 33.172879)scale(0.1 -0.1)\">\n     <use xlink:href=\"#DejaVuSans-45\"/>\n     <use x=\"36.083984\" xlink:href=\"#DejaVuSans-48\"/>\n     <use x=\"99.707031\" xlink:href=\"#DejaVuSans-46\"/>\n     <use x=\"131.494141\" xlink:href=\"#DejaVuSans-49\"/>\n    </g>\n   </g>\n   <g id=\"text_97\">\n    <!-- -0.14 -->\n    <g style=\"fill:#ffffff;\" transform=\"translate(179.164397 33.172879)scale(0.1 -0.1)\">\n     <use xlink:href=\"#DejaVuSans-45\"/>\n     <use x=\"36.083984\" xlink:href=\"#DejaVuSans-48\"/>\n     <use x=\"99.707031\" xlink:href=\"#DejaVuSans-46\"/>\n     <use x=\"131.494141\" xlink:href=\"#DejaVuSans-49\"/>\n     <use x=\"195.117188\" xlink:href=\"#DejaVuSans-52\"/>\n    </g>\n   </g>\n   <g id=\"text_98\">\n    <!-- -0.17 -->\n    <g style=\"fill:#ffffff;\" transform=\"translate(188.730112 33.172879)scale(0.1 -0.1)\">\n     <use xlink:href=\"#DejaVuSans-45\"/>\n     <use x=\"36.083984\" xlink:href=\"#DejaVuSans-48\"/>\n     <use x=\"99.707031\" xlink:href=\"#DejaVuSans-46\"/>\n     <use x=\"131.494141\" xlink:href=\"#DejaVuSans-49\"/>\n     <use x=\"195.117188\" xlink:href=\"#DejaVuSans-55\"/>\n    </g>\n   </g>\n   <g id=\"text_99\">\n    <!-- 0.1 -->\n    <g style=\"fill:#ffffff;\" transform=\"translate(203.280982 33.172879)scale(0.1 -0.1)\">\n     <use xlink:href=\"#DejaVuSans-48\"/>\n     <use x=\"63.623047\" xlink:href=\"#DejaVuSans-46\"/>\n     <use x=\"95.410156\" xlink:href=\"#DejaVuSans-49\"/>\n    </g>\n   </g>\n   <g id=\"text_100\">\n    <!-- 0.0067 -->\n    <g style=\"fill:#ffffff;\" transform=\"translate(203.302946 33.172879)scale(0.1 -0.1)\">\n     <use xlink:href=\"#DejaVuSans-48\"/>\n     <use x=\"63.623047\" xlink:href=\"#DejaVuSans-46\"/>\n     <use x=\"95.410156\" xlink:href=\"#DejaVuSans-48\"/>\n     <use x=\"159.033203\" xlink:href=\"#DejaVuSans-48\"/>\n     <use x=\"222.65625\" xlink:href=\"#DejaVuSans-54\"/>\n     <use x=\"286.279297\" xlink:href=\"#DejaVuSans-55\"/>\n    </g>\n   </g>\n   <g id=\"text_101\">\n    <!-- -0.18 -->\n    <g style=\"fill:#ffffff;\" transform=\"translate(217.427254 33.172879)scale(0.1 -0.1)\">\n     <use xlink:href=\"#DejaVuSans-45\"/>\n     <use x=\"36.083984\" xlink:href=\"#DejaVuSans-48\"/>\n     <use x=\"99.707031\" xlink:href=\"#DejaVuSans-46\"/>\n     <use x=\"131.494141\" xlink:href=\"#DejaVuSans-49\"/>\n     <use x=\"195.117188\" xlink:href=\"#DejaVuSans-56\"/>\n    </g>\n   </g>\n   <g id=\"text_102\">\n    <!-- -0.14 -->\n    <g style=\"fill:#ffffff;\" transform=\"translate(226.992969 33.172879)scale(0.1 -0.1)\">\n     <use xlink:href=\"#DejaVuSans-45\"/>\n     <use x=\"36.083984\" xlink:href=\"#DejaVuSans-48\"/>\n     <use x=\"99.707031\" xlink:href=\"#DejaVuSans-46\"/>\n     <use x=\"131.494141\" xlink:href=\"#DejaVuSans-49\"/>\n     <use x=\"195.117188\" xlink:href=\"#DejaVuSans-52\"/>\n    </g>\n   </g>\n   <g id=\"text_103\">\n    <!-- -0.2 -->\n    <g style=\"fill:#ffffff;\" transform=\"translate(239.739933 33.172879)scale(0.1 -0.1)\">\n     <use xlink:href=\"#DejaVuSans-45\"/>\n     <use x=\"36.083984\" xlink:href=\"#DejaVuSans-48\"/>\n     <use x=\"99.707031\" xlink:href=\"#DejaVuSans-46\"/>\n     <use x=\"131.494141\" xlink:href=\"#DejaVuSans-50\"/>\n    </g>\n   </g>\n   <g id=\"text_104\">\n    <!-- 0.16 -->\n    <g style=\"fill:#ffffff;\" transform=\"translate(247.928304 33.172879)scale(0.1 -0.1)\">\n     <use xlink:href=\"#DejaVuSans-48\"/>\n     <use x=\"63.623047\" xlink:href=\"#DejaVuSans-46\"/>\n     <use x=\"95.410156\" xlink:href=\"#DejaVuSans-49\"/>\n     <use x=\"159.033203\" xlink:href=\"#DejaVuSans-54\"/>\n    </g>\n   </g>\n   <g id=\"text_105\">\n    <!-- -0.17 -->\n    <g style=\"fill:#ffffff;\" transform=\"translate(255.690112 33.172879)scale(0.1 -0.1)\">\n     <use xlink:href=\"#DejaVuSans-45\"/>\n     <use x=\"36.083984\" xlink:href=\"#DejaVuSans-48\"/>\n     <use x=\"99.707031\" xlink:href=\"#DejaVuSans-46\"/>\n     <use x=\"131.494141\" xlink:href=\"#DejaVuSans-49\"/>\n     <use x=\"195.117188\" xlink:href=\"#DejaVuSans-55\"/>\n    </g>\n   </g>\n   <g id=\"text_106\">\n    <!-- -0.034 -->\n    <g style=\"fill:#ffffff;\" transform=\"translate(262.074576 33.172879)scale(0.1 -0.1)\">\n     <use xlink:href=\"#DejaVuSans-45\"/>\n     <use x=\"36.083984\" xlink:href=\"#DejaVuSans-48\"/>\n     <use x=\"99.707031\" xlink:href=\"#DejaVuSans-46\"/>\n     <use x=\"131.494141\" xlink:href=\"#DejaVuSans-48\"/>\n     <use x=\"195.117188\" xlink:href=\"#DejaVuSans-51\"/>\n     <use x=\"258.740234\" xlink:href=\"#DejaVuSans-52\"/>\n    </g>\n   </g>\n   <g id=\"text_107\">\n    <!-- 0.078 -->\n    <g style=\"fill:#ffffff;\" transform=\"translate(273.444196 33.172879)scale(0.1 -0.1)\">\n     <use xlink:href=\"#DejaVuSans-48\"/>\n     <use x=\"63.623047\" xlink:href=\"#DejaVuSans-46\"/>\n     <use x=\"95.410156\" xlink:href=\"#DejaVuSans-48\"/>\n     <use x=\"159.033203\" xlink:href=\"#DejaVuSans-55\"/>\n     <use x=\"222.65625\" xlink:href=\"#DejaVuSans-56\"/>\n    </g>\n   </g>\n   <g id=\"text_108\">\n    <!-- -0.27 -->\n    <g style=\"fill:#ffffff;\" transform=\"translate(284.387254 33.172879)scale(0.1 -0.1)\">\n     <use xlink:href=\"#DejaVuSans-45\"/>\n     <use x=\"36.083984\" xlink:href=\"#DejaVuSans-48\"/>\n     <use x=\"99.707031\" xlink:href=\"#DejaVuSans-46\"/>\n     <use x=\"131.494141\" xlink:href=\"#DejaVuSans-50\"/>\n     <use x=\"195.117188\" xlink:href=\"#DejaVuSans-55\"/>\n    </g>\n   </g>\n   <g id=\"text_109\">\n    <!-- 0.084 -->\n    <g style=\"fill:#ffffff;\" transform=\"translate(292.575625 33.172879)scale(0.1 -0.1)\">\n     <use xlink:href=\"#DejaVuSans-48\"/>\n     <use x=\"63.623047\" xlink:href=\"#DejaVuSans-46\"/>\n     <use x=\"95.410156\" xlink:href=\"#DejaVuSans-48\"/>\n     <use x=\"159.033203\" xlink:href=\"#DejaVuSans-56\"/>\n     <use x=\"222.65625\" xlink:href=\"#DejaVuSans-52\"/>\n    </g>\n   </g>\n   <g id=\"text_110\">\n    <!-- -0.72 -->\n    <g style=\"fill:#ffffff;\" transform=\"translate(303.518683 33.172879)scale(0.1 -0.1)\">\n     <use xlink:href=\"#DejaVuSans-45\"/>\n     <use x=\"36.083984\" xlink:href=\"#DejaVuSans-48\"/>\n     <use x=\"99.707031\" xlink:href=\"#DejaVuSans-46\"/>\n     <use x=\"131.494141\" xlink:href=\"#DejaVuSans-55\"/>\n     <use x=\"195.117188\" xlink:href=\"#DejaVuSans-50\"/>\n    </g>\n   </g>\n   <g id=\"text_111\">\n    <!-- -0.18 -->\n    <g style=\"fill:#ffffff;\" transform=\"translate(313.084397 33.172879)scale(0.1 -0.1)\">\n     <use xlink:href=\"#DejaVuSans-45\"/>\n     <use x=\"36.083984\" xlink:href=\"#DejaVuSans-48\"/>\n     <use x=\"99.707031\" xlink:href=\"#DejaVuSans-46\"/>\n     <use x=\"131.494141\" xlink:href=\"#DejaVuSans-49\"/>\n     <use x=\"195.117188\" xlink:href=\"#DejaVuSans-56\"/>\n    </g>\n   </g>\n   <g id=\"text_112\">\n    <!-- 0.62 -->\n    <g style=\"fill:#262626;\" transform=\"translate(324.454018 33.172879)scale(0.1 -0.1)\">\n     <use xlink:href=\"#DejaVuSans-48\"/>\n     <use x=\"63.623047\" xlink:href=\"#DejaVuSans-46\"/>\n     <use x=\"95.410156\" xlink:href=\"#DejaVuSans-54\"/>\n     <use x=\"159.033203\" xlink:href=\"#DejaVuSans-50\"/>\n    </g>\n   </g>\n   <g id=\"text_113\">\n    <!-- 0.49 -->\n    <g style=\"fill:#ffffff;\" transform=\"translate(66.179732 40.938594)scale(0.1 -0.1)\">\n     <use xlink:href=\"#DejaVuSans-48\"/>\n     <use x=\"63.623047\" xlink:href=\"#DejaVuSans-46\"/>\n     <use x=\"95.410156\" xlink:href=\"#DejaVuSans-52\"/>\n     <use x=\"159.033203\" xlink:href=\"#DejaVuSans-57\"/>\n    </g>\n   </g>\n   <g id=\"text_114\">\n    <!-- 0.64 -->\n    <g style=\"fill:#262626;\" transform=\"translate(75.745446 40.938594)scale(0.1 -0.1)\">\n     <use xlink:href=\"#DejaVuSans-48\"/>\n     <use x=\"63.623047\" xlink:href=\"#DejaVuSans-46\"/>\n     <use x=\"95.410156\" xlink:href=\"#DejaVuSans-54\"/>\n     <use x=\"159.033203\" xlink:href=\"#DejaVuSans-52\"/>\n    </g>\n   </g>\n   <g id=\"text_115\">\n    <!-- -0.26 -->\n    <g style=\"fill:#ffffff;\" transform=\"translate(83.507254 40.938594)scale(0.1 -0.1)\">\n     <use xlink:href=\"#DejaVuSans-45\"/>\n     <use x=\"36.083984\" xlink:href=\"#DejaVuSans-48\"/>\n     <use x=\"99.707031\" xlink:href=\"#DejaVuSans-46\"/>\n     <use x=\"131.494141\" xlink:href=\"#DejaVuSans-50\"/>\n     <use x=\"195.117188\" xlink:href=\"#DejaVuSans-54\"/>\n    </g>\n   </g>\n   <g id=\"text_116\">\n    <!-- 1 -->\n    <g style=\"fill:#262626;\" transform=\"translate(102.828438 40.938594)scale(0.1 -0.1)\">\n     <use xlink:href=\"#DejaVuSans-49\"/>\n    </g>\n   </g>\n   <g id=\"text_117\">\n    <!-- 0.97 -->\n    <g style=\"fill:#262626;\" transform=\"translate(104.442589 40.938594)scale(0.1 -0.1)\">\n     <use xlink:href=\"#DejaVuSans-48\"/>\n     <use x=\"63.623047\" xlink:href=\"#DejaVuSans-46\"/>\n     <use x=\"95.410156\" xlink:href=\"#DejaVuSans-57\"/>\n     <use x=\"159.033203\" xlink:href=\"#DejaVuSans-55\"/>\n    </g>\n   </g>\n   <g id=\"text_118\">\n    <!-- 0.4 -->\n    <g style=\"fill:#ffffff;\" transform=\"translate(117.189554 40.938594)scale(0.1 -0.1)\">\n     <use xlink:href=\"#DejaVuSans-48\"/>\n     <use x=\"63.623047\" xlink:href=\"#DejaVuSans-46\"/>\n     <use x=\"95.410156\" xlink:href=\"#DejaVuSans-52\"/>\n    </g>\n   </g>\n   <g id=\"text_119\">\n    <!-- 0.55 -->\n    <g style=\"fill:#ffffff;\" transform=\"translate(123.574018 40.938594)scale(0.1 -0.1)\">\n     <use xlink:href=\"#DejaVuSans-48\"/>\n     <use x=\"63.623047\" xlink:href=\"#DejaVuSans-46\"/>\n     <use x=\"95.410156\" xlink:href=\"#DejaVuSans-53\"/>\n     <use x=\"159.033203\" xlink:href=\"#DejaVuSans-53\"/>\n    </g>\n   </g>\n   <g id=\"text_120\">\n    <!-- 0.55 -->\n    <g style=\"fill:#ffffff;\" transform=\"translate(133.139732 40.938594)scale(0.1 -0.1)\">\n     <use xlink:href=\"#DejaVuSans-48\"/>\n     <use x=\"63.623047\" xlink:href=\"#DejaVuSans-46\"/>\n     <use x=\"95.410156\" xlink:href=\"#DejaVuSans-53\"/>\n     <use x=\"159.033203\" xlink:href=\"#DejaVuSans-53\"/>\n    </g>\n   </g>\n   <g id=\"text_121\">\n    <!-- 0.094 -->\n    <g style=\"fill:#ffffff;\" transform=\"translate(139.524196 40.938594)scale(0.1 -0.1)\">\n     <use xlink:href=\"#DejaVuSans-48\"/>\n     <use x=\"63.623047\" xlink:href=\"#DejaVuSans-46\"/>\n     <use x=\"95.410156\" xlink:href=\"#DejaVuSans-48\"/>\n     <use x=\"159.033203\" xlink:href=\"#DejaVuSans-57\"/>\n     <use x=\"222.65625\" xlink:href=\"#DejaVuSans-52\"/>\n    </g>\n   </g>\n   <g id=\"text_122\">\n    <!-- 0.91 -->\n    <g style=\"fill:#262626;\" transform=\"translate(152.271161 40.938594)scale(0.1 -0.1)\">\n     <use xlink:href=\"#DejaVuSans-48\"/>\n     <use x=\"63.623047\" xlink:href=\"#DejaVuSans-46\"/>\n     <use x=\"95.410156\" xlink:href=\"#DejaVuSans-57\"/>\n     <use x=\"159.033203\" xlink:href=\"#DejaVuSans-49\"/>\n    </g>\n   </g>\n   <g id=\"text_123\">\n    <!-- 0.9 -->\n    <g style=\"fill:#262626;\" transform=\"translate(165.018125 40.938594)scale(0.1 -0.1)\">\n     <use xlink:href=\"#DejaVuSans-48\"/>\n     <use x=\"63.623047\" xlink:href=\"#DejaVuSans-46\"/>\n     <use x=\"95.410156\" xlink:href=\"#DejaVuSans-57\"/>\n    </g>\n   </g>\n   <g id=\"text_124\">\n    <!-- 0.4 -->\n    <g style=\"fill:#ffffff;\" transform=\"translate(174.583839 40.938594)scale(0.1 -0.1)\">\n     <use xlink:href=\"#DejaVuSans-48\"/>\n     <use x=\"63.623047\" xlink:href=\"#DejaVuSans-46\"/>\n     <use x=\"95.410156\" xlink:href=\"#DejaVuSans-52\"/>\n    </g>\n   </g>\n   <g id=\"text_125\">\n    <!-- 0.79 -->\n    <g style=\"fill:#262626;\" transform=\"translate(180.968304 40.938594)scale(0.1 -0.1)\">\n     <use xlink:href=\"#DejaVuSans-48\"/>\n     <use x=\"63.623047\" xlink:href=\"#DejaVuSans-46\"/>\n     <use x=\"95.410156\" xlink:href=\"#DejaVuSans-55\"/>\n     <use x=\"159.033203\" xlink:href=\"#DejaVuSans-57\"/>\n    </g>\n   </g>\n   <g id=\"text_126\">\n    <!-- 0.79 -->\n    <g style=\"fill:#262626;\" transform=\"translate(190.534018 40.938594)scale(0.1 -0.1)\">\n     <use xlink:href=\"#DejaVuSans-48\"/>\n     <use x=\"63.623047\" xlink:href=\"#DejaVuSans-46\"/>\n     <use x=\"95.410156\" xlink:href=\"#DejaVuSans-55\"/>\n     <use x=\"159.033203\" xlink:href=\"#DejaVuSans-57\"/>\n    </g>\n   </g>\n   <g id=\"text_127\">\n    <!-- 0.22 -->\n    <g style=\"fill:#ffffff;\" transform=\"translate(200.099732 40.938594)scale(0.1 -0.1)\">\n     <use xlink:href=\"#DejaVuSans-48\"/>\n     <use x=\"63.623047\" xlink:href=\"#DejaVuSans-46\"/>\n     <use x=\"95.410156\" xlink:href=\"#DejaVuSans-50\"/>\n     <use x=\"159.033203\" xlink:href=\"#DejaVuSans-50\"/>\n    </g>\n   </g>\n   <g id=\"text_128\">\n    <!-- 0.23 -->\n    <g style=\"fill:#ffffff;\" transform=\"translate(209.665446 40.938594)scale(0.1 -0.1)\">\n     <use xlink:href=\"#DejaVuSans-48\"/>\n     <use x=\"63.623047\" xlink:href=\"#DejaVuSans-46\"/>\n     <use x=\"95.410156\" xlink:href=\"#DejaVuSans-50\"/>\n     <use x=\"159.033203\" xlink:href=\"#DejaVuSans-51\"/>\n    </g>\n   </g>\n   <g id=\"text_129\">\n    <!-- 0.63 -->\n    <g style=\"fill:#262626;\" transform=\"translate(219.231161 40.938594)scale(0.1 -0.1)\">\n     <use xlink:href=\"#DejaVuSans-48\"/>\n     <use x=\"63.623047\" xlink:href=\"#DejaVuSans-46\"/>\n     <use x=\"95.410156\" xlink:href=\"#DejaVuSans-54\"/>\n     <use x=\"159.033203\" xlink:href=\"#DejaVuSans-51\"/>\n    </g>\n   </g>\n   <g id=\"text_130\">\n    <!-- 0.56 -->\n    <g style=\"fill:#262626;\" transform=\"translate(228.796875 40.938594)scale(0.1 -0.1)\">\n     <use xlink:href=\"#DejaVuSans-48\"/>\n     <use x=\"63.623047\" xlink:href=\"#DejaVuSans-46\"/>\n     <use x=\"95.410156\" xlink:href=\"#DejaVuSans-53\"/>\n     <use x=\"159.033203\" xlink:href=\"#DejaVuSans-54\"/>\n    </g>\n   </g>\n   <g id=\"text_131\">\n    <!-- 0.6 -->\n    <g style=\"fill:#262626;\" transform=\"translate(241.543839 40.938594)scale(0.1 -0.1)\">\n     <use xlink:href=\"#DejaVuSans-48\"/>\n     <use x=\"63.623047\" xlink:href=\"#DejaVuSans-46\"/>\n     <use x=\"95.410156\" xlink:href=\"#DejaVuSans-54\"/>\n    </g>\n   </g>\n   <g id=\"text_132\">\n    <!-- 0.44 -->\n    <g style=\"fill:#ffffff;\" transform=\"translate(247.928304 40.938594)scale(0.1 -0.1)\">\n     <use xlink:href=\"#DejaVuSans-48\"/>\n     <use x=\"63.623047\" xlink:href=\"#DejaVuSans-46\"/>\n     <use x=\"95.410156\" xlink:href=\"#DejaVuSans-52\"/>\n     <use x=\"159.033203\" xlink:href=\"#DejaVuSans-52\"/>\n    </g>\n   </g>\n   <g id=\"text_133\">\n    <!-- 0.23 -->\n    <g style=\"fill:#ffffff;\" transform=\"translate(257.494018 40.938594)scale(0.1 -0.1)\">\n     <use xlink:href=\"#DejaVuSans-48\"/>\n     <use x=\"63.623047\" xlink:href=\"#DejaVuSans-46\"/>\n     <use x=\"95.410156\" xlink:href=\"#DejaVuSans-50\"/>\n     <use x=\"159.033203\" xlink:href=\"#DejaVuSans-51\"/>\n    </g>\n   </g>\n   <g id=\"text_134\">\n    <!-- 0.74 -->\n    <g style=\"fill:#262626;\" transform=\"translate(267.059732 40.938594)scale(0.1 -0.1)\">\n     <use xlink:href=\"#DejaVuSans-48\"/>\n     <use x=\"63.623047\" xlink:href=\"#DejaVuSans-46\"/>\n     <use x=\"95.410156\" xlink:href=\"#DejaVuSans-55\"/>\n     <use x=\"159.033203\" xlink:href=\"#DejaVuSans-52\"/>\n    </g>\n   </g>\n   <g id=\"text_135\">\n    <!-- 0.32 -->\n    <g style=\"fill:#ffffff;\" transform=\"translate(276.625446 40.938594)scale(0.1 -0.1)\">\n     <use xlink:href=\"#DejaVuSans-48\"/>\n     <use x=\"63.623047\" xlink:href=\"#DejaVuSans-46\"/>\n     <use x=\"95.410156\" xlink:href=\"#DejaVuSans-51\"/>\n     <use x=\"159.033203\" xlink:href=\"#DejaVuSans-50\"/>\n    </g>\n   </g>\n   <g id=\"text_136\">\n    <!-- 0.98 -->\n    <g style=\"fill:#262626;\" transform=\"translate(286.191161 40.938594)scale(0.1 -0.1)\">\n     <use xlink:href=\"#DejaVuSans-48\"/>\n     <use x=\"63.623047\" xlink:href=\"#DejaVuSans-46\"/>\n     <use x=\"95.410156\" xlink:href=\"#DejaVuSans-57\"/>\n     <use x=\"159.033203\" xlink:href=\"#DejaVuSans-56\"/>\n    </g>\n   </g>\n   <g id=\"text_137\">\n    <!-- -0.061 -->\n    <g style=\"fill:#ffffff;\" transform=\"translate(290.771719 40.938594)scale(0.1 -0.1)\">\n     <use xlink:href=\"#DejaVuSans-45\"/>\n     <use x=\"36.083984\" xlink:href=\"#DejaVuSans-48\"/>\n     <use x=\"99.707031\" xlink:href=\"#DejaVuSans-46\"/>\n     <use x=\"131.494141\" xlink:href=\"#DejaVuSans-48\"/>\n     <use x=\"195.117188\" xlink:href=\"#DejaVuSans-54\"/>\n     <use x=\"258.740234\" xlink:href=\"#DejaVuSans-49\"/>\n    </g>\n   </g>\n   <g id=\"text_138\">\n    <!-- 0.67 -->\n    <g style=\"fill:#262626;\" transform=\"translate(305.322589 40.938594)scale(0.1 -0.1)\">\n     <use xlink:href=\"#DejaVuSans-48\"/>\n     <use x=\"63.623047\" xlink:href=\"#DejaVuSans-46\"/>\n     <use x=\"95.410156\" xlink:href=\"#DejaVuSans-54\"/>\n     <use x=\"159.033203\" xlink:href=\"#DejaVuSans-55\"/>\n    </g>\n   </g>\n   <g id=\"text_139\">\n    <!-- 0.7 -->\n    <g style=\"fill:#262626;\" transform=\"translate(318.069554 40.938594)scale(0.1 -0.1)\">\n     <use xlink:href=\"#DejaVuSans-48\"/>\n     <use x=\"63.623047\" xlink:href=\"#DejaVuSans-46\"/>\n     <use x=\"95.410156\" xlink:href=\"#DejaVuSans-55\"/>\n    </g>\n   </g>\n   <g id=\"text_140\">\n    <!-- -0.74 -->\n    <g style=\"fill:#ffffff;\" transform=\"translate(322.650112 40.938594)scale(0.1 -0.1)\">\n     <use xlink:href=\"#DejaVuSans-45\"/>\n     <use x=\"36.083984\" xlink:href=\"#DejaVuSans-48\"/>\n     <use x=\"99.707031\" xlink:href=\"#DejaVuSans-46\"/>\n     <use x=\"131.494141\" xlink:href=\"#DejaVuSans-55\"/>\n     <use x=\"195.117188\" xlink:href=\"#DejaVuSans-52\"/>\n    </g>\n   </g>\n   <g id=\"text_141\">\n    <!-- 0.49 -->\n    <g style=\"fill:#ffffff;\" transform=\"translate(66.179732 48.704308)scale(0.1 -0.1)\">\n     <use xlink:href=\"#DejaVuSans-48\"/>\n     <use x=\"63.623047\" xlink:href=\"#DejaVuSans-46\"/>\n     <use x=\"95.410156\" xlink:href=\"#DejaVuSans-52\"/>\n     <use x=\"159.033203\" xlink:href=\"#DejaVuSans-57\"/>\n    </g>\n   </g>\n   <g id=\"text_142\">\n    <!-- 0.62 -->\n    <g style=\"fill:#262626;\" transform=\"translate(75.745446 48.704308)scale(0.1 -0.1)\">\n     <use xlink:href=\"#DejaVuSans-48\"/>\n     <use x=\"63.623047\" xlink:href=\"#DejaVuSans-46\"/>\n     <use x=\"95.410156\" xlink:href=\"#DejaVuSans-54\"/>\n     <use x=\"159.033203\" xlink:href=\"#DejaVuSans-50\"/>\n    </g>\n   </g>\n   <g id=\"text_143\">\n    <!-- -0.26 -->\n    <g style=\"fill:#ffffff;\" transform=\"translate(83.507254 48.704308)scale(0.1 -0.1)\">\n     <use xlink:href=\"#DejaVuSans-45\"/>\n     <use x=\"36.083984\" xlink:href=\"#DejaVuSans-48\"/>\n     <use x=\"99.707031\" xlink:href=\"#DejaVuSans-46\"/>\n     <use x=\"131.494141\" xlink:href=\"#DejaVuSans-50\"/>\n     <use x=\"195.117188\" xlink:href=\"#DejaVuSans-54\"/>\n    </g>\n   </g>\n   <g id=\"text_144\">\n    <!-- 0.97 -->\n    <g style=\"fill:#262626;\" transform=\"translate(94.876875 48.704308)scale(0.1 -0.1)\">\n     <use xlink:href=\"#DejaVuSans-48\"/>\n     <use x=\"63.623047\" xlink:href=\"#DejaVuSans-46\"/>\n     <use x=\"95.410156\" xlink:href=\"#DejaVuSans-57\"/>\n     <use x=\"159.033203\" xlink:href=\"#DejaVuSans-55\"/>\n    </g>\n   </g>\n   <g id=\"text_145\">\n    <!-- 1 -->\n    <g style=\"fill:#262626;\" transform=\"translate(112.394152 48.704308)scale(0.1 -0.1)\">\n     <use xlink:href=\"#DejaVuSans-49\"/>\n    </g>\n   </g>\n   <g id=\"text_146\">\n    <!-- 0.2 -->\n    <g style=\"fill:#ffffff;\" transform=\"translate(117.189554 48.704308)scale(0.1 -0.1)\">\n     <use xlink:href=\"#DejaVuSans-48\"/>\n     <use x=\"63.623047\" xlink:href=\"#DejaVuSans-46\"/>\n     <use x=\"95.410156\" xlink:href=\"#DejaVuSans-50\"/>\n    </g>\n   </g>\n   <g id=\"text_147\">\n    <!-- 0.63 -->\n    <g style=\"fill:#262626;\" transform=\"translate(123.574018 48.704308)scale(0.1 -0.1)\">\n     <use xlink:href=\"#DejaVuSans-48\"/>\n     <use x=\"63.623047\" xlink:href=\"#DejaVuSans-46\"/>\n     <use x=\"95.410156\" xlink:href=\"#DejaVuSans-54\"/>\n     <use x=\"159.033203\" xlink:href=\"#DejaVuSans-51\"/>\n    </g>\n   </g>\n   <g id=\"text_148\">\n    <!-- 0.67 -->\n    <g style=\"fill:#262626;\" transform=\"translate(133.139732 48.704308)scale(0.1 -0.1)\">\n     <use xlink:href=\"#DejaVuSans-48\"/>\n     <use x=\"63.623047\" xlink:href=\"#DejaVuSans-46\"/>\n     <use x=\"95.410156\" xlink:href=\"#DejaVuSans-54\"/>\n     <use x=\"159.033203\" xlink:href=\"#DejaVuSans-55\"/>\n    </g>\n   </g>\n   <g id=\"text_149\">\n    <!-- 0.072 -->\n    <g style=\"fill:#ffffff;\" transform=\"translate(139.524196 48.704308)scale(0.1 -0.1)\">\n     <use xlink:href=\"#DejaVuSans-48\"/>\n     <use x=\"63.623047\" xlink:href=\"#DejaVuSans-46\"/>\n     <use x=\"95.410156\" xlink:href=\"#DejaVuSans-48\"/>\n     <use x=\"159.033203\" xlink:href=\"#DejaVuSans-55\"/>\n     <use x=\"222.65625\" xlink:href=\"#DejaVuSans-50\"/>\n    </g>\n   </g>\n   <g id=\"text_150\">\n    <!-- 0.84 -->\n    <g style=\"fill:#262626;\" transform=\"translate(152.271161 48.704308)scale(0.1 -0.1)\">\n     <use xlink:href=\"#DejaVuSans-48\"/>\n     <use x=\"63.623047\" xlink:href=\"#DejaVuSans-46\"/>\n     <use x=\"95.410156\" xlink:href=\"#DejaVuSans-56\"/>\n     <use x=\"159.033203\" xlink:href=\"#DejaVuSans-52\"/>\n    </g>\n   </g>\n   <g id=\"text_151\">\n    <!-- 0.86 -->\n    <g style=\"fill:#262626;\" transform=\"translate(161.836875 48.704308)scale(0.1 -0.1)\">\n     <use xlink:href=\"#DejaVuSans-48\"/>\n     <use x=\"63.623047\" xlink:href=\"#DejaVuSans-46\"/>\n     <use x=\"95.410156\" xlink:href=\"#DejaVuSans-56\"/>\n     <use x=\"159.033203\" xlink:href=\"#DejaVuSans-54\"/>\n    </g>\n   </g>\n   <g id=\"text_152\">\n    <!-- 0.24 -->\n    <g style=\"fill:#ffffff;\" transform=\"translate(171.402589 48.704308)scale(0.1 -0.1)\">\n     <use xlink:href=\"#DejaVuSans-48\"/>\n     <use x=\"63.623047\" xlink:href=\"#DejaVuSans-46\"/>\n     <use x=\"95.410156\" xlink:href=\"#DejaVuSans-50\"/>\n     <use x=\"159.033203\" xlink:href=\"#DejaVuSans-52\"/>\n    </g>\n   </g>\n   <g id=\"text_153\">\n    <!-- 0.78 -->\n    <g style=\"fill:#262626;\" transform=\"translate(180.968304 48.704308)scale(0.1 -0.1)\">\n     <use xlink:href=\"#DejaVuSans-48\"/>\n     <use x=\"63.623047\" xlink:href=\"#DejaVuSans-46\"/>\n     <use x=\"95.410156\" xlink:href=\"#DejaVuSans-55\"/>\n     <use x=\"159.033203\" xlink:href=\"#DejaVuSans-56\"/>\n    </g>\n   </g>\n   <g id=\"text_154\">\n    <!-- 0.77 -->\n    <g style=\"fill:#262626;\" transform=\"translate(190.534018 48.704308)scale(0.1 -0.1)\">\n     <use xlink:href=\"#DejaVuSans-48\"/>\n     <use x=\"63.623047\" xlink:href=\"#DejaVuSans-46\"/>\n     <use x=\"95.410156\" xlink:href=\"#DejaVuSans-55\"/>\n     <use x=\"159.033203\" xlink:href=\"#DejaVuSans-55\"/>\n    </g>\n   </g>\n   <g id=\"text_155\">\n    <!-- 0.29 -->\n    <g style=\"fill:#ffffff;\" transform=\"translate(200.099732 48.704308)scale(0.1 -0.1)\">\n     <use xlink:href=\"#DejaVuSans-48\"/>\n     <use x=\"63.623047\" xlink:href=\"#DejaVuSans-46\"/>\n     <use x=\"95.410156\" xlink:href=\"#DejaVuSans-50\"/>\n     <use x=\"159.033203\" xlink:href=\"#DejaVuSans-57\"/>\n    </g>\n   </g>\n   <g id=\"text_156\">\n    <!-- 0.1 -->\n    <g style=\"fill:#ffffff;\" transform=\"translate(212.846696 48.704308)scale(0.1 -0.1)\">\n     <use xlink:href=\"#DejaVuSans-48\"/>\n     <use x=\"63.623047\" xlink:href=\"#DejaVuSans-46\"/>\n     <use x=\"95.410156\" xlink:href=\"#DejaVuSans-49\"/>\n    </g>\n   </g>\n   <g id=\"text_157\">\n    <!-- 0.56 -->\n    <g style=\"fill:#ffffff;\" transform=\"translate(219.231161 48.704308)scale(0.1 -0.1)\">\n     <use xlink:href=\"#DejaVuSans-48\"/>\n     <use x=\"63.623047\" xlink:href=\"#DejaVuSans-46\"/>\n     <use x=\"95.410156\" xlink:href=\"#DejaVuSans-53\"/>\n     <use x=\"159.033203\" xlink:href=\"#DejaVuSans-54\"/>\n    </g>\n   </g>\n   <g id=\"text_158\">\n    <!-- 0.47 -->\n    <g style=\"fill:#ffffff;\" transform=\"translate(228.796875 48.704308)scale(0.1 -0.1)\">\n     <use xlink:href=\"#DejaVuSans-48\"/>\n     <use x=\"63.623047\" xlink:href=\"#DejaVuSans-46\"/>\n     <use x=\"95.410156\" xlink:href=\"#DejaVuSans-52\"/>\n     <use x=\"159.033203\" xlink:href=\"#DejaVuSans-55\"/>\n    </g>\n   </g>\n   <g id=\"text_159\">\n    <!-- 0.63 -->\n    <g style=\"fill:#262626;\" transform=\"translate(238.362589 48.704308)scale(0.1 -0.1)\">\n     <use xlink:href=\"#DejaVuSans-48\"/>\n     <use x=\"63.623047\" xlink:href=\"#DejaVuSans-46\"/>\n     <use x=\"95.410156\" xlink:href=\"#DejaVuSans-54\"/>\n     <use x=\"159.033203\" xlink:href=\"#DejaVuSans-51\"/>\n    </g>\n   </g>\n   <g id=\"text_160\">\n    <!-- 0.44 -->\n    <g style=\"fill:#ffffff;\" transform=\"translate(247.928304 48.704308)scale(0.1 -0.1)\">\n     <use xlink:href=\"#DejaVuSans-48\"/>\n     <use x=\"63.623047\" xlink:href=\"#DejaVuSans-46\"/>\n     <use x=\"95.410156\" xlink:href=\"#DejaVuSans-52\"/>\n     <use x=\"159.033203\" xlink:href=\"#DejaVuSans-52\"/>\n    </g>\n   </g>\n   <g id=\"text_161\">\n    <!-- 0.15 -->\n    <g style=\"fill:#ffffff;\" transform=\"translate(257.494018 48.704308)scale(0.1 -0.1)\">\n     <use xlink:href=\"#DejaVuSans-48\"/>\n     <use x=\"63.623047\" xlink:href=\"#DejaVuSans-46\"/>\n     <use x=\"95.410156\" xlink:href=\"#DejaVuSans-49\"/>\n     <use x=\"159.033203\" xlink:href=\"#DejaVuSans-53\"/>\n    </g>\n   </g>\n   <g id=\"text_162\">\n    <!-- 0.75 -->\n    <g style=\"fill:#262626;\" transform=\"translate(267.059732 48.704308)scale(0.1 -0.1)\">\n     <use xlink:href=\"#DejaVuSans-48\"/>\n     <use x=\"63.623047\" xlink:href=\"#DejaVuSans-46\"/>\n     <use x=\"95.410156\" xlink:href=\"#DejaVuSans-55\"/>\n     <use x=\"159.033203\" xlink:href=\"#DejaVuSans-53\"/>\n    </g>\n   </g>\n   <g id=\"text_163\">\n    <!-- 0.29 -->\n    <g style=\"fill:#ffffff;\" transform=\"translate(276.625446 48.704308)scale(0.1 -0.1)\">\n     <use xlink:href=\"#DejaVuSans-48\"/>\n     <use x=\"63.623047\" xlink:href=\"#DejaVuSans-46\"/>\n     <use x=\"95.410156\" xlink:href=\"#DejaVuSans-50\"/>\n     <use x=\"159.033203\" xlink:href=\"#DejaVuSans-57\"/>\n    </g>\n   </g>\n   <g id=\"text_164\">\n    <!-- 0.97 -->\n    <g style=\"fill:#262626;\" transform=\"translate(286.191161 48.704308)scale(0.1 -0.1)\">\n     <use xlink:href=\"#DejaVuSans-48\"/>\n     <use x=\"63.623047\" xlink:href=\"#DejaVuSans-46\"/>\n     <use x=\"95.410156\" xlink:href=\"#DejaVuSans-57\"/>\n     <use x=\"159.033203\" xlink:href=\"#DejaVuSans-55\"/>\n    </g>\n   </g>\n   <g id=\"text_165\">\n    <!-- -0.063 -->\n    <g style=\"fill:#ffffff;\" transform=\"translate(290.771719 48.704308)scale(0.1 -0.1)\">\n     <use xlink:href=\"#DejaVuSans-45\"/>\n     <use x=\"36.083984\" xlink:href=\"#DejaVuSans-48\"/>\n     <use x=\"99.707031\" xlink:href=\"#DejaVuSans-46\"/>\n     <use x=\"131.494141\" xlink:href=\"#DejaVuSans-48\"/>\n     <use x=\"195.117188\" xlink:href=\"#DejaVuSans-54\"/>\n     <use x=\"258.740234\" xlink:href=\"#DejaVuSans-51\"/>\n    </g>\n   </g>\n   <g id=\"text_166\">\n    <!-- 0.66 -->\n    <g style=\"fill:#262626;\" transform=\"translate(305.322589 48.704308)scale(0.1 -0.1)\">\n     <use xlink:href=\"#DejaVuSans-48\"/>\n     <use x=\"63.623047\" xlink:href=\"#DejaVuSans-46\"/>\n     <use x=\"95.410156\" xlink:href=\"#DejaVuSans-54\"/>\n     <use x=\"159.033203\" xlink:href=\"#DejaVuSans-54\"/>\n    </g>\n   </g>\n   <g id=\"text_167\">\n    <!-- 0.68 -->\n    <g style=\"fill:#262626;\" transform=\"translate(314.888304 48.704308)scale(0.1 -0.1)\">\n     <use xlink:href=\"#DejaVuSans-48\"/>\n     <use x=\"63.623047\" xlink:href=\"#DejaVuSans-46\"/>\n     <use x=\"95.410156\" xlink:href=\"#DejaVuSans-54\"/>\n     <use x=\"159.033203\" xlink:href=\"#DejaVuSans-56\"/>\n    </g>\n   </g>\n   <g id=\"text_168\">\n    <!-- -0.73 -->\n    <g style=\"fill:#ffffff;\" transform=\"translate(322.650112 48.704308)scale(0.1 -0.1)\">\n     <use xlink:href=\"#DejaVuSans-45\"/>\n     <use x=\"36.083984\" xlink:href=\"#DejaVuSans-48\"/>\n     <use x=\"99.707031\" xlink:href=\"#DejaVuSans-46\"/>\n     <use x=\"131.494141\" xlink:href=\"#DejaVuSans-55\"/>\n     <use x=\"195.117188\" xlink:href=\"#DejaVuSans-51\"/>\n    </g>\n   </g>\n   <g id=\"text_169\">\n    <!-- 0.18 -->\n    <g style=\"fill:#ffffff;\" transform=\"translate(66.179732 56.470022)scale(0.1 -0.1)\">\n     <use xlink:href=\"#DejaVuSans-48\"/>\n     <use x=\"63.623047\" xlink:href=\"#DejaVuSans-46\"/>\n     <use x=\"95.410156\" xlink:href=\"#DejaVuSans-49\"/>\n     <use x=\"159.033203\" xlink:href=\"#DejaVuSans-56\"/>\n    </g>\n   </g>\n   <g id=\"text_170\">\n    <!-- 0.28 -->\n    <g style=\"fill:#ffffff;\" transform=\"translate(75.745446 56.470022)scale(0.1 -0.1)\">\n     <use xlink:href=\"#DejaVuSans-48\"/>\n     <use x=\"63.623047\" xlink:href=\"#DejaVuSans-46\"/>\n     <use x=\"95.410156\" xlink:href=\"#DejaVuSans-50\"/>\n     <use x=\"159.033203\" xlink:href=\"#DejaVuSans-56\"/>\n    </g>\n   </g>\n   <g id=\"text_171\">\n    <!-- -0.029 -->\n    <g style=\"fill:#ffffff;\" transform=\"translate(80.326004 56.470022)scale(0.1 -0.1)\">\n     <use xlink:href=\"#DejaVuSans-45\"/>\n     <use x=\"36.083984\" xlink:href=\"#DejaVuSans-48\"/>\n     <use x=\"99.707031\" xlink:href=\"#DejaVuSans-46\"/>\n     <use x=\"131.494141\" xlink:href=\"#DejaVuSans-48\"/>\n     <use x=\"195.117188\" xlink:href=\"#DejaVuSans-50\"/>\n     <use x=\"258.740234\" xlink:href=\"#DejaVuSans-57\"/>\n    </g>\n   </g>\n   <g id=\"text_172\">\n    <!-- 0.4 -->\n    <g style=\"fill:#ffffff;\" transform=\"translate(98.058125 56.470022)scale(0.1 -0.1)\">\n     <use xlink:href=\"#DejaVuSans-48\"/>\n     <use x=\"63.623047\" xlink:href=\"#DejaVuSans-46\"/>\n     <use x=\"95.410156\" xlink:href=\"#DejaVuSans-52\"/>\n    </g>\n   </g>\n   <g id=\"text_173\">\n    <!-- 0.2 -->\n    <g style=\"fill:#ffffff;\" transform=\"translate(107.623839 56.470022)scale(0.1 -0.1)\">\n     <use xlink:href=\"#DejaVuSans-48\"/>\n     <use x=\"63.623047\" xlink:href=\"#DejaVuSans-46\"/>\n     <use x=\"95.410156\" xlink:href=\"#DejaVuSans-50\"/>\n    </g>\n   </g>\n   <g id=\"text_174\">\n    <!-- 1 -->\n    <g style=\"fill:#262626;\" transform=\"translate(121.959866 56.470022)scale(0.1 -0.1)\">\n     <use xlink:href=\"#DejaVuSans-49\"/>\n    </g>\n   </g>\n   <g id=\"text_175\">\n    <!-- -0.097 -->\n    <g style=\"fill:#ffffff;\" transform=\"translate(118.588862 56.470022)scale(0.1 -0.1)\">\n     <use xlink:href=\"#DejaVuSans-45\"/>\n     <use x=\"36.083984\" xlink:href=\"#DejaVuSans-48\"/>\n     <use x=\"99.707031\" xlink:href=\"#DejaVuSans-46\"/>\n     <use x=\"131.494141\" xlink:href=\"#DejaVuSans-48\"/>\n     <use x=\"195.117188\" xlink:href=\"#DejaVuSans-57\"/>\n     <use x=\"258.740234\" xlink:href=\"#DejaVuSans-55\"/>\n    </g>\n   </g>\n   <g id=\"text_176\">\n    <!-- -0.19 -->\n    <g style=\"fill:#ffffff;\" transform=\"translate(131.335826 56.470022)scale(0.1 -0.1)\">\n     <use xlink:href=\"#DejaVuSans-45\"/>\n     <use x=\"36.083984\" xlink:href=\"#DejaVuSans-48\"/>\n     <use x=\"99.707031\" xlink:href=\"#DejaVuSans-46\"/>\n     <use x=\"131.494141\" xlink:href=\"#DejaVuSans-49\"/>\n     <use x=\"195.117188\" xlink:href=\"#DejaVuSans-57\"/>\n    </g>\n   </g>\n   <g id=\"text_177\">\n    <!-- 0.14 -->\n    <g style=\"fill:#ffffff;\" transform=\"translate(142.705446 56.470022)scale(0.1 -0.1)\">\n     <use xlink:href=\"#DejaVuSans-48\"/>\n     <use x=\"63.623047\" xlink:href=\"#DejaVuSans-46\"/>\n     <use x=\"95.410156\" xlink:href=\"#DejaVuSans-49\"/>\n     <use x=\"159.033203\" xlink:href=\"#DejaVuSans-52\"/>\n    </g>\n   </g>\n   <g id=\"text_178\">\n    <!-- 0.52 -->\n    <g style=\"fill:#ffffff;\" transform=\"translate(152.271161 56.470022)scale(0.1 -0.1)\">\n     <use xlink:href=\"#DejaVuSans-48\"/>\n     <use x=\"63.623047\" xlink:href=\"#DejaVuSans-46\"/>\n     <use x=\"95.410156\" xlink:href=\"#DejaVuSans-53\"/>\n     <use x=\"159.033203\" xlink:href=\"#DejaVuSans-50\"/>\n    </g>\n   </g>\n   <g id=\"text_179\">\n    <!-- 0.39 -->\n    <g style=\"fill:#ffffff;\" transform=\"translate(161.836875 56.470022)scale(0.1 -0.1)\">\n     <use xlink:href=\"#DejaVuSans-48\"/>\n     <use x=\"63.623047\" xlink:href=\"#DejaVuSans-46\"/>\n     <use x=\"95.410156\" xlink:href=\"#DejaVuSans-51\"/>\n     <use x=\"159.033203\" xlink:href=\"#DejaVuSans-57\"/>\n    </g>\n   </g>\n   <g id=\"text_180\">\n    <!-- 0.79 -->\n    <g style=\"fill:#262626;\" transform=\"translate(171.402589 56.470022)scale(0.1 -0.1)\">\n     <use xlink:href=\"#DejaVuSans-48\"/>\n     <use x=\"63.623047\" xlink:href=\"#DejaVuSans-46\"/>\n     <use x=\"95.410156\" xlink:href=\"#DejaVuSans-55\"/>\n     <use x=\"159.033203\" xlink:href=\"#DejaVuSans-57\"/>\n    </g>\n   </g>\n   <g id=\"text_181\">\n    <!-- 0.23 -->\n    <g style=\"fill:#ffffff;\" transform=\"translate(180.968304 56.470022)scale(0.1 -0.1)\">\n     <use xlink:href=\"#DejaVuSans-48\"/>\n     <use x=\"63.623047\" xlink:href=\"#DejaVuSans-46\"/>\n     <use x=\"95.410156\" xlink:href=\"#DejaVuSans-50\"/>\n     <use x=\"159.033203\" xlink:href=\"#DejaVuSans-51\"/>\n    </g>\n   </g>\n   <g id=\"text_182\">\n    <!-- 0.29 -->\n    <g style=\"fill:#ffffff;\" transform=\"translate(190.534018 56.470022)scale(0.1 -0.1)\">\n     <use xlink:href=\"#DejaVuSans-48\"/>\n     <use x=\"63.623047\" xlink:href=\"#DejaVuSans-46\"/>\n     <use x=\"95.410156\" xlink:href=\"#DejaVuSans-50\"/>\n     <use x=\"159.033203\" xlink:href=\"#DejaVuSans-57\"/>\n    </g>\n   </g>\n   <g id=\"text_183\">\n    <!-- -0.16 -->\n    <g style=\"fill:#ffffff;\" transform=\"translate(198.295826 56.470022)scale(0.1 -0.1)\">\n     <use xlink:href=\"#DejaVuSans-45\"/>\n     <use x=\"36.083984\" xlink:href=\"#DejaVuSans-48\"/>\n     <use x=\"99.707031\" xlink:href=\"#DejaVuSans-46\"/>\n     <use x=\"131.494141\" xlink:href=\"#DejaVuSans-49\"/>\n     <use x=\"195.117188\" xlink:href=\"#DejaVuSans-54\"/>\n    </g>\n   </g>\n   <g id=\"text_184\">\n    <!-- 0.54 -->\n    <g style=\"fill:#ffffff;\" transform=\"translate(209.665446 56.470022)scale(0.1 -0.1)\">\n     <use xlink:href=\"#DejaVuSans-48\"/>\n     <use x=\"63.623047\" xlink:href=\"#DejaVuSans-46\"/>\n     <use x=\"95.410156\" xlink:href=\"#DejaVuSans-53\"/>\n     <use x=\"159.033203\" xlink:href=\"#DejaVuSans-52\"/>\n    </g>\n   </g>\n   <g id=\"text_185\">\n    <!-- 0.46 -->\n    <g style=\"fill:#ffffff;\" transform=\"translate(219.231161 56.470022)scale(0.1 -0.1)\">\n     <use xlink:href=\"#DejaVuSans-48\"/>\n     <use x=\"63.623047\" xlink:href=\"#DejaVuSans-46\"/>\n     <use x=\"95.410156\" xlink:href=\"#DejaVuSans-52\"/>\n     <use x=\"159.033203\" xlink:href=\"#DejaVuSans-54\"/>\n    </g>\n   </g>\n   <g id=\"text_186\">\n    <!-- 0.53 -->\n    <g style=\"fill:#ffffff;\" transform=\"translate(228.796875 56.470022)scale(0.1 -0.1)\">\n     <use xlink:href=\"#DejaVuSans-48\"/>\n     <use x=\"63.623047\" xlink:href=\"#DejaVuSans-46\"/>\n     <use x=\"95.410156\" xlink:href=\"#DejaVuSans-53\"/>\n     <use x=\"159.033203\" xlink:href=\"#DejaVuSans-51\"/>\n    </g>\n   </g>\n   <g id=\"text_187\">\n    <!-- 0.084 -->\n    <g style=\"fill:#ffffff;\" transform=\"translate(235.181339 56.470022)scale(0.1 -0.1)\">\n     <use xlink:href=\"#DejaVuSans-48\"/>\n     <use x=\"63.623047\" xlink:href=\"#DejaVuSans-46\"/>\n     <use x=\"95.410156\" xlink:href=\"#DejaVuSans-48\"/>\n     <use x=\"159.033203\" xlink:href=\"#DejaVuSans-56\"/>\n     <use x=\"222.65625\" xlink:href=\"#DejaVuSans-52\"/>\n    </g>\n   </g>\n   <g id=\"text_188\">\n    <!-- 0.2 -->\n    <g style=\"fill:#ffffff;\" transform=\"translate(251.109554 56.470022)scale(0.1 -0.1)\">\n     <use xlink:href=\"#DejaVuSans-48\"/>\n     <use x=\"63.623047\" xlink:href=\"#DejaVuSans-46\"/>\n     <use x=\"95.410156\" xlink:href=\"#DejaVuSans-50\"/>\n    </g>\n   </g>\n   <g id=\"text_189\">\n    <!-- 0.36 -->\n    <g style=\"fill:#ffffff;\" transform=\"translate(257.494018 56.470022)scale(0.1 -0.1)\">\n     <use xlink:href=\"#DejaVuSans-48\"/>\n     <use x=\"63.623047\" xlink:href=\"#DejaVuSans-46\"/>\n     <use x=\"95.410156\" xlink:href=\"#DejaVuSans-51\"/>\n     <use x=\"159.033203\" xlink:href=\"#DejaVuSans-54\"/>\n    </g>\n   </g>\n   <g id=\"text_190\">\n    <!-- 0.2 -->\n    <g style=\"fill:#ffffff;\" transform=\"translate(270.240982 56.470022)scale(0.1 -0.1)\">\n     <use xlink:href=\"#DejaVuSans-48\"/>\n     <use x=\"63.623047\" xlink:href=\"#DejaVuSans-46\"/>\n     <use x=\"95.410156\" xlink:href=\"#DejaVuSans-50\"/>\n    </g>\n   </g>\n   <g id=\"text_191\">\n    <!-- 0.22 -->\n    <g style=\"fill:#ffffff;\" transform=\"translate(276.625446 56.470022)scale(0.1 -0.1)\">\n     <use xlink:href=\"#DejaVuSans-48\"/>\n     <use x=\"63.623047\" xlink:href=\"#DejaVuSans-46\"/>\n     <use x=\"95.410156\" xlink:href=\"#DejaVuSans-50\"/>\n     <use x=\"159.033203\" xlink:href=\"#DejaVuSans-50\"/>\n    </g>\n   </g>\n   <g id=\"text_192\">\n    <!-- 0.33 -->\n    <g style=\"fill:#ffffff;\" transform=\"translate(286.191161 56.470022)scale(0.1 -0.1)\">\n     <use xlink:href=\"#DejaVuSans-48\"/>\n     <use x=\"63.623047\" xlink:href=\"#DejaVuSans-46\"/>\n     <use x=\"95.410156\" xlink:href=\"#DejaVuSans-51\"/>\n     <use x=\"159.033203\" xlink:href=\"#DejaVuSans-51\"/>\n    </g>\n   </g>\n   <g id=\"text_193\">\n    <!-- 0.0064 -->\n    <g style=\"fill:#ffffff;\" transform=\"translate(289.394375 56.470022)scale(0.1 -0.1)\">\n     <use xlink:href=\"#DejaVuSans-48\"/>\n     <use x=\"63.623047\" xlink:href=\"#DejaVuSans-46\"/>\n     <use x=\"95.410156\" xlink:href=\"#DejaVuSans-48\"/>\n     <use x=\"159.033203\" xlink:href=\"#DejaVuSans-48\"/>\n     <use x=\"222.65625\" xlink:href=\"#DejaVuSans-54\"/>\n     <use x=\"286.279297\" xlink:href=\"#DejaVuSans-52\"/>\n    </g>\n   </g>\n   <g id=\"text_194\">\n    <!-- 0.19 -->\n    <g style=\"fill:#ffffff;\" transform=\"translate(305.322589 56.470022)scale(0.1 -0.1)\">\n     <use xlink:href=\"#DejaVuSans-48\"/>\n     <use x=\"63.623047\" xlink:href=\"#DejaVuSans-46\"/>\n     <use x=\"95.410156\" xlink:href=\"#DejaVuSans-49\"/>\n     <use x=\"159.033203\" xlink:href=\"#DejaVuSans-57\"/>\n    </g>\n   </g>\n   <g id=\"text_195\">\n    <!-- 0.28 -->\n    <g style=\"fill:#ffffff;\" transform=\"translate(314.888304 56.470022)scale(0.1 -0.1)\">\n     <use xlink:href=\"#DejaVuSans-48\"/>\n     <use x=\"63.623047\" xlink:href=\"#DejaVuSans-46\"/>\n     <use x=\"95.410156\" xlink:href=\"#DejaVuSans-50\"/>\n     <use x=\"159.033203\" xlink:href=\"#DejaVuSans-56\"/>\n    </g>\n   </g>\n   <g id=\"text_196\">\n    <!-- -0.24 -->\n    <g style=\"fill:#ffffff;\" transform=\"translate(322.650112 56.470022)scale(0.1 -0.1)\">\n     <use xlink:href=\"#DejaVuSans-45\"/>\n     <use x=\"36.083984\" xlink:href=\"#DejaVuSans-48\"/>\n     <use x=\"99.707031\" xlink:href=\"#DejaVuSans-46\"/>\n     <use x=\"131.494141\" xlink:href=\"#DejaVuSans-50\"/>\n     <use x=\"195.117188\" xlink:href=\"#DejaVuSans-52\"/>\n    </g>\n   </g>\n   <g id=\"text_197\">\n    <!-- 0.44 -->\n    <g style=\"fill:#ffffff;\" transform=\"translate(66.179732 64.235737)scale(0.1 -0.1)\">\n     <use xlink:href=\"#DejaVuSans-48\"/>\n     <use x=\"63.623047\" xlink:href=\"#DejaVuSans-46\"/>\n     <use x=\"95.410156\" xlink:href=\"#DejaVuSans-52\"/>\n     <use x=\"159.033203\" xlink:href=\"#DejaVuSans-52\"/>\n    </g>\n   </g>\n   <g id=\"text_198\">\n    <!-- 0.44 -->\n    <g style=\"fill:#ffffff;\" transform=\"translate(75.745446 64.235737)scale(0.1 -0.1)\">\n     <use xlink:href=\"#DejaVuSans-48\"/>\n     <use x=\"63.623047\" xlink:href=\"#DejaVuSans-46\"/>\n     <use x=\"95.410156\" xlink:href=\"#DejaVuSans-52\"/>\n     <use x=\"159.033203\" xlink:href=\"#DejaVuSans-52\"/>\n    </g>\n   </g>\n   <g id=\"text_199\">\n    <!-- -0.34 -->\n    <g style=\"fill:#ffffff;\" transform=\"translate(83.507254 64.235737)scale(0.1 -0.1)\">\n     <use xlink:href=\"#DejaVuSans-45\"/>\n     <use x=\"36.083984\" xlink:href=\"#DejaVuSans-48\"/>\n     <use x=\"99.707031\" xlink:href=\"#DejaVuSans-46\"/>\n     <use x=\"131.494141\" xlink:href=\"#DejaVuSans-51\"/>\n     <use x=\"195.117188\" xlink:href=\"#DejaVuSans-52\"/>\n    </g>\n   </g>\n   <g id=\"text_200\">\n    <!-- 0.55 -->\n    <g style=\"fill:#ffffff;\" transform=\"translate(94.876875 64.235737)scale(0.1 -0.1)\">\n     <use xlink:href=\"#DejaVuSans-48\"/>\n     <use x=\"63.623047\" xlink:href=\"#DejaVuSans-46\"/>\n     <use x=\"95.410156\" xlink:href=\"#DejaVuSans-53\"/>\n     <use x=\"159.033203\" xlink:href=\"#DejaVuSans-53\"/>\n    </g>\n   </g>\n   <g id=\"text_201\">\n    <!-- 0.63 -->\n    <g style=\"fill:#262626;\" transform=\"translate(104.442589 64.235737)scale(0.1 -0.1)\">\n     <use xlink:href=\"#DejaVuSans-48\"/>\n     <use x=\"63.623047\" xlink:href=\"#DejaVuSans-46\"/>\n     <use x=\"95.410156\" xlink:href=\"#DejaVuSans-54\"/>\n     <use x=\"159.033203\" xlink:href=\"#DejaVuSans-51\"/>\n    </g>\n   </g>\n   <g id=\"text_202\">\n    <!-- -0.097 -->\n    <g style=\"fill:#ffffff;\" transform=\"translate(109.023147 64.235737)scale(0.1 -0.1)\">\n     <use xlink:href=\"#DejaVuSans-45\"/>\n     <use x=\"36.083984\" xlink:href=\"#DejaVuSans-48\"/>\n     <use x=\"99.707031\" xlink:href=\"#DejaVuSans-46\"/>\n     <use x=\"131.494141\" xlink:href=\"#DejaVuSans-48\"/>\n     <use x=\"195.117188\" xlink:href=\"#DejaVuSans-57\"/>\n     <use x=\"258.740234\" xlink:href=\"#DejaVuSans-55\"/>\n    </g>\n   </g>\n   <g id=\"text_203\">\n    <!-- 1 -->\n    <g style=\"fill:#262626;\" transform=\"translate(131.52558 64.235737)scale(0.1 -0.1)\">\n     <use xlink:href=\"#DejaVuSans-49\"/>\n    </g>\n   </g>\n   <g id=\"text_204\">\n    <!-- 0.97 -->\n    <g style=\"fill:#262626;\" transform=\"translate(133.139732 64.235737)scale(0.1 -0.1)\">\n     <use xlink:href=\"#DejaVuSans-48\"/>\n     <use x=\"63.623047\" xlink:href=\"#DejaVuSans-46\"/>\n     <use x=\"95.410156\" xlink:href=\"#DejaVuSans-57\"/>\n     <use x=\"159.033203\" xlink:href=\"#DejaVuSans-55\"/>\n    </g>\n   </g>\n   <g id=\"text_205\">\n    <!-- 0.38 -->\n    <g style=\"fill:#ffffff;\" transform=\"translate(142.705446 64.235737)scale(0.1 -0.1)\">\n     <use xlink:href=\"#DejaVuSans-48\"/>\n     <use x=\"63.623047\" xlink:href=\"#DejaVuSans-46\"/>\n     <use x=\"95.410156\" xlink:href=\"#DejaVuSans-51\"/>\n     <use x=\"159.033203\" xlink:href=\"#DejaVuSans-56\"/>\n    </g>\n   </g>\n   <g id=\"text_206\">\n    <!-- 0.15 -->\n    <g style=\"fill:#ffffff;\" transform=\"translate(152.271161 64.235737)scale(0.1 -0.1)\">\n     <use xlink:href=\"#DejaVuSans-48\"/>\n     <use x=\"63.623047\" xlink:href=\"#DejaVuSans-46\"/>\n     <use x=\"95.410156\" xlink:href=\"#DejaVuSans-49\"/>\n     <use x=\"159.033203\" xlink:href=\"#DejaVuSans-53\"/>\n    </g>\n   </g>\n   <g id=\"text_207\">\n    <!-- 0.16 -->\n    <g style=\"fill:#ffffff;\" transform=\"translate(161.836875 64.235737)scale(0.1 -0.1)\">\n     <use xlink:href=\"#DejaVuSans-48\"/>\n     <use x=\"63.623047\" xlink:href=\"#DejaVuSans-46\"/>\n     <use x=\"95.410156\" xlink:href=\"#DejaVuSans-49\"/>\n     <use x=\"159.033203\" xlink:href=\"#DejaVuSans-54\"/>\n    </g>\n   </g>\n   <g id=\"text_208\">\n    <!-- 0.065 -->\n    <g style=\"fill:#ffffff;\" transform=\"translate(168.221339 64.235737)scale(0.1 -0.1)\">\n     <use xlink:href=\"#DejaVuSans-48\"/>\n     <use x=\"63.623047\" xlink:href=\"#DejaVuSans-46\"/>\n     <use x=\"95.410156\" xlink:href=\"#DejaVuSans-48\"/>\n     <use x=\"159.033203\" xlink:href=\"#DejaVuSans-54\"/>\n     <use x=\"222.65625\" xlink:href=\"#DejaVuSans-53\"/>\n    </g>\n   </g>\n   <g id=\"text_209\">\n    <!-- 0.35 -->\n    <g style=\"fill:#ffffff;\" transform=\"translate(180.968304 64.235737)scale(0.1 -0.1)\">\n     <use xlink:href=\"#DejaVuSans-48\"/>\n     <use x=\"63.623047\" xlink:href=\"#DejaVuSans-46\"/>\n     <use x=\"95.410156\" xlink:href=\"#DejaVuSans-51\"/>\n     <use x=\"159.033203\" xlink:href=\"#DejaVuSans-53\"/>\n    </g>\n   </g>\n   <g id=\"text_210\">\n    <!-- 0.28 -->\n    <g style=\"fill:#ffffff;\" transform=\"translate(190.534018 64.235737)scale(0.1 -0.1)\">\n     <use xlink:href=\"#DejaVuSans-48\"/>\n     <use x=\"63.623047\" xlink:href=\"#DejaVuSans-46\"/>\n     <use x=\"95.410156\" xlink:href=\"#DejaVuSans-50\"/>\n     <use x=\"159.033203\" xlink:href=\"#DejaVuSans-56\"/>\n    </g>\n   </g>\n   <g id=\"text_211\">\n    <!-- 0.41 -->\n    <g style=\"fill:#ffffff;\" transform=\"translate(200.099732 64.235737)scale(0.1 -0.1)\">\n     <use xlink:href=\"#DejaVuSans-48\"/>\n     <use x=\"63.623047\" xlink:href=\"#DejaVuSans-46\"/>\n     <use x=\"95.410156\" xlink:href=\"#DejaVuSans-52\"/>\n     <use x=\"159.033203\" xlink:href=\"#DejaVuSans-49\"/>\n    </g>\n   </g>\n   <g id=\"text_212\">\n    <!-- -0.37 -->\n    <g style=\"fill:#ffffff;\" transform=\"translate(207.86154 64.235737)scale(0.1 -0.1)\">\n     <use xlink:href=\"#DejaVuSans-45\"/>\n     <use x=\"36.083984\" xlink:href=\"#DejaVuSans-48\"/>\n     <use x=\"99.707031\" xlink:href=\"#DejaVuSans-46\"/>\n     <use x=\"131.494141\" xlink:href=\"#DejaVuSans-51\"/>\n     <use x=\"195.117188\" xlink:href=\"#DejaVuSans-55\"/>\n    </g>\n   </g>\n   <g id=\"text_213\">\n    <!-- 0.078 -->\n    <g style=\"fill:#ffffff;\" transform=\"translate(216.049911 64.235737)scale(0.1 -0.1)\">\n     <use xlink:href=\"#DejaVuSans-48\"/>\n     <use x=\"63.623047\" xlink:href=\"#DejaVuSans-46\"/>\n     <use x=\"95.410156\" xlink:href=\"#DejaVuSans-48\"/>\n     <use x=\"159.033203\" xlink:href=\"#DejaVuSans-55\"/>\n     <use x=\"222.65625\" xlink:href=\"#DejaVuSans-56\"/>\n    </g>\n   </g>\n   <g id=\"text_214\">\n    <!-- -0.049 -->\n    <g style=\"fill:#ffffff;\" transform=\"translate(223.811719 64.235737)scale(0.1 -0.1)\">\n     <use xlink:href=\"#DejaVuSans-45\"/>\n     <use x=\"36.083984\" xlink:href=\"#DejaVuSans-48\"/>\n     <use x=\"99.707031\" xlink:href=\"#DejaVuSans-46\"/>\n     <use x=\"131.494141\" xlink:href=\"#DejaVuSans-48\"/>\n     <use x=\"195.117188\" xlink:href=\"#DejaVuSans-52\"/>\n     <use x=\"258.740234\" xlink:href=\"#DejaVuSans-57\"/>\n    </g>\n   </g>\n   <g id=\"text_215\">\n    <!-- 0.39 -->\n    <g style=\"fill:#ffffff;\" transform=\"translate(238.362589 64.235737)scale(0.1 -0.1)\">\n     <use xlink:href=\"#DejaVuSans-48\"/>\n     <use x=\"63.623047\" xlink:href=\"#DejaVuSans-46\"/>\n     <use x=\"95.410156\" xlink:href=\"#DejaVuSans-51\"/>\n     <use x=\"159.033203\" xlink:href=\"#DejaVuSans-57\"/>\n    </g>\n   </g>\n   <g id=\"text_216\">\n    <!-- 0.17 -->\n    <g style=\"fill:#ffffff;\" transform=\"translate(247.928304 64.235737)scale(0.1 -0.1)\">\n     <use xlink:href=\"#DejaVuSans-48\"/>\n     <use x=\"63.623047\" xlink:href=\"#DejaVuSans-46\"/>\n     <use x=\"95.410156\" xlink:href=\"#DejaVuSans-49\"/>\n     <use x=\"159.033203\" xlink:href=\"#DejaVuSans-55\"/>\n    </g>\n   </g>\n   <g id=\"text_217\">\n    <!-- -0.11 -->\n    <g style=\"fill:#ffffff;\" transform=\"translate(255.690112 64.235737)scale(0.1 -0.1)\">\n     <use xlink:href=\"#DejaVuSans-45\"/>\n     <use x=\"36.083984\" xlink:href=\"#DejaVuSans-48\"/>\n     <use x=\"99.707031\" xlink:href=\"#DejaVuSans-46\"/>\n     <use x=\"131.494141\" xlink:href=\"#DejaVuSans-49\"/>\n     <use x=\"195.117188\" xlink:href=\"#DejaVuSans-49\"/>\n    </g>\n   </g>\n   <g id=\"text_218\">\n    <!-- 0.35 -->\n    <g style=\"fill:#ffffff;\" transform=\"translate(267.059732 64.235737)scale(0.1 -0.1)\">\n     <use xlink:href=\"#DejaVuSans-48\"/>\n     <use x=\"63.623047\" xlink:href=\"#DejaVuSans-46\"/>\n     <use x=\"95.410156\" xlink:href=\"#DejaVuSans-51\"/>\n     <use x=\"159.033203\" xlink:href=\"#DejaVuSans-53\"/>\n    </g>\n   </g>\n   <g id=\"text_219\">\n    <!-- -0.0073 -->\n    <g style=\"fill:#ffffff;\" transform=\"translate(268.45904 64.235737)scale(0.1 -0.1)\">\n     <use xlink:href=\"#DejaVuSans-45\"/>\n     <use x=\"36.083984\" xlink:href=\"#DejaVuSans-48\"/>\n     <use x=\"99.707031\" xlink:href=\"#DejaVuSans-46\"/>\n     <use x=\"131.494141\" xlink:href=\"#DejaVuSans-48\"/>\n     <use x=\"195.117188\" xlink:href=\"#DejaVuSans-48\"/>\n     <use x=\"258.740234\" xlink:href=\"#DejaVuSans-55\"/>\n     <use x=\"322.363281\" xlink:href=\"#DejaVuSans-51\"/>\n    </g>\n   </g>\n   <g id=\"text_220\">\n    <!-- 0.62 -->\n    <g style=\"fill:#262626;\" transform=\"translate(286.191161 64.235737)scale(0.1 -0.1)\">\n     <use xlink:href=\"#DejaVuSans-48\"/>\n     <use x=\"63.623047\" xlink:href=\"#DejaVuSans-46\"/>\n     <use x=\"95.410156\" xlink:href=\"#DejaVuSans-54\"/>\n     <use x=\"159.033203\" xlink:href=\"#DejaVuSans-50\"/>\n    </g>\n   </g>\n   <g id=\"text_221\">\n    <!-- 0.1 -->\n    <g style=\"fill:#ffffff;\" transform=\"translate(298.938125 64.235737)scale(0.1 -0.1)\">\n     <use xlink:href=\"#DejaVuSans-48\"/>\n     <use x=\"63.623047\" xlink:href=\"#DejaVuSans-46\"/>\n     <use x=\"95.410156\" xlink:href=\"#DejaVuSans-49\"/>\n    </g>\n   </g>\n   <g id=\"text_222\">\n    <!-- 0.5 -->\n    <g style=\"fill:#ffffff;\" transform=\"translate(308.503839 64.235737)scale(0.1 -0.1)\">\n     <use xlink:href=\"#DejaVuSans-48\"/>\n     <use x=\"63.623047\" xlink:href=\"#DejaVuSans-46\"/>\n     <use x=\"95.410156\" xlink:href=\"#DejaVuSans-53\"/>\n    </g>\n   </g>\n   <g id=\"text_223\">\n    <!-- 0.38 -->\n    <g style=\"fill:#ffffff;\" transform=\"translate(314.888304 64.235737)scale(0.1 -0.1)\">\n     <use xlink:href=\"#DejaVuSans-48\"/>\n     <use x=\"63.623047\" xlink:href=\"#DejaVuSans-46\"/>\n     <use x=\"95.410156\" xlink:href=\"#DejaVuSans-51\"/>\n     <use x=\"159.033203\" xlink:href=\"#DejaVuSans-56\"/>\n    </g>\n   </g>\n   <g id=\"text_224\">\n    <!-- -0.54 -->\n    <g style=\"fill:#ffffff;\" transform=\"translate(322.650112 64.235737)scale(0.1 -0.1)\">\n     <use xlink:href=\"#DejaVuSans-45\"/>\n     <use x=\"36.083984\" xlink:href=\"#DejaVuSans-48\"/>\n     <use x=\"99.707031\" xlink:href=\"#DejaVuSans-46\"/>\n     <use x=\"131.494141\" xlink:href=\"#DejaVuSans-53\"/>\n     <use x=\"195.117188\" xlink:href=\"#DejaVuSans-52\"/>\n    </g>\n   </g>\n   <g id=\"text_225\">\n    <!-- 0.44 -->\n    <g style=\"fill:#ffffff;\" transform=\"translate(66.179732 72.001451)scale(0.1 -0.1)\">\n     <use xlink:href=\"#DejaVuSans-48\"/>\n     <use x=\"63.623047\" xlink:href=\"#DejaVuSans-46\"/>\n     <use x=\"95.410156\" xlink:href=\"#DejaVuSans-52\"/>\n     <use x=\"159.033203\" xlink:href=\"#DejaVuSans-52\"/>\n    </g>\n   </g>\n   <g id=\"text_226\">\n    <!-- 0.44 -->\n    <g style=\"fill:#ffffff;\" transform=\"translate(75.745446 72.001451)scale(0.1 -0.1)\">\n     <use xlink:href=\"#DejaVuSans-48\"/>\n     <use x=\"63.623047\" xlink:href=\"#DejaVuSans-46\"/>\n     <use x=\"95.410156\" xlink:href=\"#DejaVuSans-52\"/>\n     <use x=\"159.033203\" xlink:href=\"#DejaVuSans-52\"/>\n    </g>\n   </g>\n   <g id=\"text_227\">\n    <!-- -0.34 -->\n    <g style=\"fill:#ffffff;\" transform=\"translate(83.507254 72.001451)scale(0.1 -0.1)\">\n     <use xlink:href=\"#DejaVuSans-45\"/>\n     <use x=\"36.083984\" xlink:href=\"#DejaVuSans-48\"/>\n     <use x=\"99.707031\" xlink:href=\"#DejaVuSans-46\"/>\n     <use x=\"131.494141\" xlink:href=\"#DejaVuSans-51\"/>\n     <use x=\"195.117188\" xlink:href=\"#DejaVuSans-52\"/>\n    </g>\n   </g>\n   <g id=\"text_228\">\n    <!-- 0.55 -->\n    <g style=\"fill:#ffffff;\" transform=\"translate(94.876875 72.001451)scale(0.1 -0.1)\">\n     <use xlink:href=\"#DejaVuSans-48\"/>\n     <use x=\"63.623047\" xlink:href=\"#DejaVuSans-46\"/>\n     <use x=\"95.410156\" xlink:href=\"#DejaVuSans-53\"/>\n     <use x=\"159.033203\" xlink:href=\"#DejaVuSans-53\"/>\n    </g>\n   </g>\n   <g id=\"text_229\">\n    <!-- 0.67 -->\n    <g style=\"fill:#262626;\" transform=\"translate(104.442589 72.001451)scale(0.1 -0.1)\">\n     <use xlink:href=\"#DejaVuSans-48\"/>\n     <use x=\"63.623047\" xlink:href=\"#DejaVuSans-46\"/>\n     <use x=\"95.410156\" xlink:href=\"#DejaVuSans-54\"/>\n     <use x=\"159.033203\" xlink:href=\"#DejaVuSans-55\"/>\n    </g>\n   </g>\n   <g id=\"text_230\">\n    <!-- -0.19 -->\n    <g style=\"fill:#ffffff;\" transform=\"translate(112.204397 72.001451)scale(0.1 -0.1)\">\n     <use xlink:href=\"#DejaVuSans-45\"/>\n     <use x=\"36.083984\" xlink:href=\"#DejaVuSans-48\"/>\n     <use x=\"99.707031\" xlink:href=\"#DejaVuSans-46\"/>\n     <use x=\"131.494141\" xlink:href=\"#DejaVuSans-49\"/>\n     <use x=\"195.117188\" xlink:href=\"#DejaVuSans-57\"/>\n    </g>\n   </g>\n   <g id=\"text_231\">\n    <!-- 0.97 -->\n    <g style=\"fill:#262626;\" transform=\"translate(123.574018 72.001451)scale(0.1 -0.1)\">\n     <use xlink:href=\"#DejaVuSans-48\"/>\n     <use x=\"63.623047\" xlink:href=\"#DejaVuSans-46\"/>\n     <use x=\"95.410156\" xlink:href=\"#DejaVuSans-57\"/>\n     <use x=\"159.033203\" xlink:href=\"#DejaVuSans-55\"/>\n    </g>\n   </g>\n   <g id=\"text_232\">\n    <!-- 1 -->\n    <g style=\"fill:#262626;\" transform=\"translate(141.091295 72.001451)scale(0.1 -0.1)\">\n     <use xlink:href=\"#DejaVuSans-49\"/>\n    </g>\n   </g>\n   <g id=\"text_233\">\n    <!-- 0.28 -->\n    <g style=\"fill:#ffffff;\" transform=\"translate(142.705446 72.001451)scale(0.1 -0.1)\">\n     <use xlink:href=\"#DejaVuSans-48\"/>\n     <use x=\"63.623047\" xlink:href=\"#DejaVuSans-46\"/>\n     <use x=\"95.410156\" xlink:href=\"#DejaVuSans-50\"/>\n     <use x=\"159.033203\" xlink:href=\"#DejaVuSans-56\"/>\n    </g>\n   </g>\n   <g id=\"text_234\">\n    <!-- 0.17 -->\n    <g style=\"fill:#ffffff;\" transform=\"translate(152.271161 72.001451)scale(0.1 -0.1)\">\n     <use xlink:href=\"#DejaVuSans-48\"/>\n     <use x=\"63.623047\" xlink:href=\"#DejaVuSans-46\"/>\n     <use x=\"95.410156\" xlink:href=\"#DejaVuSans-49\"/>\n     <use x=\"159.033203\" xlink:href=\"#DejaVuSans-55\"/>\n    </g>\n   </g>\n   <g id=\"text_235\">\n    <!-- 0.19 -->\n    <g style=\"fill:#ffffff;\" transform=\"translate(161.836875 72.001451)scale(0.1 -0.1)\">\n     <use xlink:href=\"#DejaVuSans-48\"/>\n     <use x=\"63.623047\" xlink:href=\"#DejaVuSans-46\"/>\n     <use x=\"95.410156\" xlink:href=\"#DejaVuSans-49\"/>\n     <use x=\"159.033203\" xlink:href=\"#DejaVuSans-57\"/>\n    </g>\n   </g>\n   <g id=\"text_236\">\n    <!-- 0.051 -->\n    <g style=\"fill:#ffffff;\" transform=\"translate(168.221339 72.001451)scale(0.1 -0.1)\">\n     <use xlink:href=\"#DejaVuSans-48\"/>\n     <use x=\"63.623047\" xlink:href=\"#DejaVuSans-46\"/>\n     <use x=\"95.410156\" xlink:href=\"#DejaVuSans-48\"/>\n     <use x=\"159.033203\" xlink:href=\"#DejaVuSans-53\"/>\n     <use x=\"222.65625\" xlink:href=\"#DejaVuSans-49\"/>\n    </g>\n   </g>\n   <g id=\"text_237\">\n    <!-- 0.38 -->\n    <g style=\"fill:#ffffff;\" transform=\"translate(180.968304 72.001451)scale(0.1 -0.1)\">\n     <use xlink:href=\"#DejaVuSans-48\"/>\n     <use x=\"63.623047\" xlink:href=\"#DejaVuSans-46\"/>\n     <use x=\"95.410156\" xlink:href=\"#DejaVuSans-51\"/>\n     <use x=\"159.033203\" xlink:href=\"#DejaVuSans-56\"/>\n    </g>\n   </g>\n   <g id=\"text_238\">\n    <!-- 0.32 -->\n    <g style=\"fill:#ffffff;\" transform=\"translate(190.534018 72.001451)scale(0.1 -0.1)\">\n     <use xlink:href=\"#DejaVuSans-48\"/>\n     <use x=\"63.623047\" xlink:href=\"#DejaVuSans-46\"/>\n     <use x=\"95.410156\" xlink:href=\"#DejaVuSans-51\"/>\n     <use x=\"159.033203\" xlink:href=\"#DejaVuSans-50\"/>\n    </g>\n   </g>\n   <g id=\"text_239\">\n    <!-- 0.41 -->\n    <g style=\"fill:#ffffff;\" transform=\"translate(200.099732 72.001451)scale(0.1 -0.1)\">\n     <use xlink:href=\"#DejaVuSans-48\"/>\n     <use x=\"63.623047\" xlink:href=\"#DejaVuSans-46\"/>\n     <use x=\"95.410156\" xlink:href=\"#DejaVuSans-52\"/>\n     <use x=\"159.033203\" xlink:href=\"#DejaVuSans-49\"/>\n    </g>\n   </g>\n   <g id=\"text_240\">\n    <!-- -0.36 -->\n    <g style=\"fill:#ffffff;\" transform=\"translate(207.86154 72.001451)scale(0.1 -0.1)\">\n     <use xlink:href=\"#DejaVuSans-45\"/>\n     <use x=\"36.083984\" xlink:href=\"#DejaVuSans-48\"/>\n     <use x=\"99.707031\" xlink:href=\"#DejaVuSans-46\"/>\n     <use x=\"131.494141\" xlink:href=\"#DejaVuSans-51\"/>\n     <use x=\"195.117188\" xlink:href=\"#DejaVuSans-54\"/>\n    </g>\n   </g>\n   <g id=\"text_241\">\n    <!-- 0.1 -->\n    <g style=\"fill:#ffffff;\" transform=\"translate(222.412411 72.001451)scale(0.1 -0.1)\">\n     <use xlink:href=\"#DejaVuSans-48\"/>\n     <use x=\"63.623047\" xlink:href=\"#DejaVuSans-46\"/>\n     <use x=\"95.410156\" xlink:href=\"#DejaVuSans-49\"/>\n    </g>\n   </g>\n   <g id=\"text_242\">\n    <!-- -0.029 -->\n    <g style=\"fill:#ffffff;\" transform=\"translate(223.811719 72.001451)scale(0.1 -0.1)\">\n     <use xlink:href=\"#DejaVuSans-45\"/>\n     <use x=\"36.083984\" xlink:href=\"#DejaVuSans-48\"/>\n     <use x=\"99.707031\" xlink:href=\"#DejaVuSans-46\"/>\n     <use x=\"131.494141\" xlink:href=\"#DejaVuSans-48\"/>\n     <use x=\"195.117188\" xlink:href=\"#DejaVuSans-50\"/>\n     <use x=\"258.740234\" xlink:href=\"#DejaVuSans-57\"/>\n    </g>\n   </g>\n   <g id=\"text_243\">\n    <!-- 0.41 -->\n    <g style=\"fill:#ffffff;\" transform=\"translate(238.362589 72.001451)scale(0.1 -0.1)\">\n     <use xlink:href=\"#DejaVuSans-48\"/>\n     <use x=\"63.623047\" xlink:href=\"#DejaVuSans-46\"/>\n     <use x=\"95.410156\" xlink:href=\"#DejaVuSans-52\"/>\n     <use x=\"159.033203\" xlink:href=\"#DejaVuSans-49\"/>\n    </g>\n   </g>\n   <g id=\"text_244\">\n    <!-- 0.18 -->\n    <g style=\"fill:#ffffff;\" transform=\"translate(247.928304 72.001451)scale(0.1 -0.1)\">\n     <use xlink:href=\"#DejaVuSans-48\"/>\n     <use x=\"63.623047\" xlink:href=\"#DejaVuSans-46\"/>\n     <use x=\"95.410156\" xlink:href=\"#DejaVuSans-49\"/>\n     <use x=\"159.033203\" xlink:href=\"#DejaVuSans-56\"/>\n    </g>\n   </g>\n   <g id=\"text_245\">\n    <!-- -0.1 -->\n    <g style=\"fill:#ffffff;\" transform=\"translate(258.871362 72.001451)scale(0.1 -0.1)\">\n     <use xlink:href=\"#DejaVuSans-45\"/>\n     <use x=\"36.083984\" xlink:href=\"#DejaVuSans-48\"/>\n     <use x=\"99.707031\" xlink:href=\"#DejaVuSans-46\"/>\n     <use x=\"131.494141\" xlink:href=\"#DejaVuSans-49\"/>\n    </g>\n   </g>\n   <g id=\"text_246\">\n    <!-- 0.37 -->\n    <g style=\"fill:#ffffff;\" transform=\"translate(267.059732 72.001451)scale(0.1 -0.1)\">\n     <use xlink:href=\"#DejaVuSans-48\"/>\n     <use x=\"63.623047\" xlink:href=\"#DejaVuSans-46\"/>\n     <use x=\"95.410156\" xlink:href=\"#DejaVuSans-51\"/>\n     <use x=\"159.033203\" xlink:href=\"#DejaVuSans-55\"/>\n    </g>\n   </g>\n   <g id=\"text_247\">\n    <!-- 0.013 -->\n    <g style=\"fill:#ffffff;\" transform=\"translate(273.444196 72.001451)scale(0.1 -0.1)\">\n     <use xlink:href=\"#DejaVuSans-48\"/>\n     <use x=\"63.623047\" xlink:href=\"#DejaVuSans-46\"/>\n     <use x=\"95.410156\" xlink:href=\"#DejaVuSans-48\"/>\n     <use x=\"159.033203\" xlink:href=\"#DejaVuSans-49\"/>\n     <use x=\"222.65625\" xlink:href=\"#DejaVuSans-51\"/>\n    </g>\n   </g>\n   <g id=\"text_248\">\n    <!-- 0.63 -->\n    <g style=\"fill:#262626;\" transform=\"translate(286.191161 72.001451)scale(0.1 -0.1)\">\n     <use xlink:href=\"#DejaVuSans-48\"/>\n     <use x=\"63.623047\" xlink:href=\"#DejaVuSans-46\"/>\n     <use x=\"95.410156\" xlink:href=\"#DejaVuSans-54\"/>\n     <use x=\"159.033203\" xlink:href=\"#DejaVuSans-51\"/>\n    </g>\n   </g>\n   <g id=\"text_249\">\n    <!-- 0.082 -->\n    <g style=\"fill:#ffffff;\" transform=\"translate(292.575625 72.001451)scale(0.1 -0.1)\">\n     <use xlink:href=\"#DejaVuSans-48\"/>\n     <use x=\"63.623047\" xlink:href=\"#DejaVuSans-46\"/>\n     <use x=\"95.410156\" xlink:href=\"#DejaVuSans-48\"/>\n     <use x=\"159.033203\" xlink:href=\"#DejaVuSans-56\"/>\n     <use x=\"222.65625\" xlink:href=\"#DejaVuSans-50\"/>\n    </g>\n   </g>\n   <g id=\"text_250\">\n    <!-- 0.51 -->\n    <g style=\"fill:#ffffff;\" transform=\"translate(305.322589 72.001451)scale(0.1 -0.1)\">\n     <use xlink:href=\"#DejaVuSans-48\"/>\n     <use x=\"63.623047\" xlink:href=\"#DejaVuSans-46\"/>\n     <use x=\"95.410156\" xlink:href=\"#DejaVuSans-53\"/>\n     <use x=\"159.033203\" xlink:href=\"#DejaVuSans-49\"/>\n    </g>\n   </g>\n   <g id=\"text_251\">\n    <!-- 0.38 -->\n    <g style=\"fill:#ffffff;\" transform=\"translate(314.888304 72.001451)scale(0.1 -0.1)\">\n     <use xlink:href=\"#DejaVuSans-48\"/>\n     <use x=\"63.623047\" xlink:href=\"#DejaVuSans-46\"/>\n     <use x=\"95.410156\" xlink:href=\"#DejaVuSans-51\"/>\n     <use x=\"159.033203\" xlink:href=\"#DejaVuSans-56\"/>\n    </g>\n   </g>\n   <g id=\"text_252\">\n    <!-- -0.55 -->\n    <g style=\"fill:#ffffff;\" transform=\"translate(322.650112 72.001451)scale(0.1 -0.1)\">\n     <use xlink:href=\"#DejaVuSans-45\"/>\n     <use x=\"36.083984\" xlink:href=\"#DejaVuSans-48\"/>\n     <use x=\"99.707031\" xlink:href=\"#DejaVuSans-46\"/>\n     <use x=\"131.494141\" xlink:href=\"#DejaVuSans-53\"/>\n     <use x=\"195.117188\" xlink:href=\"#DejaVuSans-53\"/>\n    </g>\n   </g>\n   <g id=\"text_253\">\n    <!-- 0.028 -->\n    <g style=\"fill:#ffffff;\" transform=\"translate(62.998482 79.767165)scale(0.1 -0.1)\">\n     <use xlink:href=\"#DejaVuSans-48\"/>\n     <use x=\"63.623047\" xlink:href=\"#DejaVuSans-46\"/>\n     <use x=\"95.410156\" xlink:href=\"#DejaVuSans-48\"/>\n     <use x=\"159.033203\" xlink:href=\"#DejaVuSans-50\"/>\n     <use x=\"222.65625\" xlink:href=\"#DejaVuSans-56\"/>\n    </g>\n   </g>\n   <g id=\"text_254\">\n    <!-- 0.037 -->\n    <g style=\"fill:#ffffff;\" transform=\"translate(72.564196 79.767165)scale(0.1 -0.1)\">\n     <use xlink:href=\"#DejaVuSans-48\"/>\n     <use x=\"63.623047\" xlink:href=\"#DejaVuSans-46\"/>\n     <use x=\"95.410156\" xlink:href=\"#DejaVuSans-48\"/>\n     <use x=\"159.033203\" xlink:href=\"#DejaVuSans-51\"/>\n     <use x=\"222.65625\" xlink:href=\"#DejaVuSans-55\"/>\n    </g>\n   </g>\n   <g id=\"text_255\">\n    <!-- -0.012 -->\n    <g style=\"fill:#ffffff;\" transform=\"translate(80.326004 79.767165)scale(0.1 -0.1)\">\n     <use xlink:href=\"#DejaVuSans-45\"/>\n     <use x=\"36.083984\" xlink:href=\"#DejaVuSans-48\"/>\n     <use x=\"99.707031\" xlink:href=\"#DejaVuSans-46\"/>\n     <use x=\"131.494141\" xlink:href=\"#DejaVuSans-48\"/>\n     <use x=\"195.117188\" xlink:href=\"#DejaVuSans-49\"/>\n     <use x=\"258.740234\" xlink:href=\"#DejaVuSans-50\"/>\n    </g>\n   </g>\n   <g id=\"text_256\">\n    <!-- 0.094 -->\n    <g style=\"fill:#ffffff;\" transform=\"translate(91.695625 79.767165)scale(0.1 -0.1)\">\n     <use xlink:href=\"#DejaVuSans-48\"/>\n     <use x=\"63.623047\" xlink:href=\"#DejaVuSans-46\"/>\n     <use x=\"95.410156\" xlink:href=\"#DejaVuSans-48\"/>\n     <use x=\"159.033203\" xlink:href=\"#DejaVuSans-57\"/>\n     <use x=\"222.65625\" xlink:href=\"#DejaVuSans-52\"/>\n    </g>\n   </g>\n   <g id=\"text_257\">\n    <!-- 0.072 -->\n    <g style=\"fill:#ffffff;\" transform=\"translate(101.261339 79.767165)scale(0.1 -0.1)\">\n     <use xlink:href=\"#DejaVuSans-48\"/>\n     <use x=\"63.623047\" xlink:href=\"#DejaVuSans-46\"/>\n     <use x=\"95.410156\" xlink:href=\"#DejaVuSans-48\"/>\n     <use x=\"159.033203\" xlink:href=\"#DejaVuSans-55\"/>\n     <use x=\"222.65625\" xlink:href=\"#DejaVuSans-50\"/>\n    </g>\n   </g>\n   <g id=\"text_258\">\n    <!-- 0.14 -->\n    <g style=\"fill:#ffffff;\" transform=\"translate(114.008304 79.767165)scale(0.1 -0.1)\">\n     <use xlink:href=\"#DejaVuSans-48\"/>\n     <use x=\"63.623047\" xlink:href=\"#DejaVuSans-46\"/>\n     <use x=\"95.410156\" xlink:href=\"#DejaVuSans-49\"/>\n     <use x=\"159.033203\" xlink:href=\"#DejaVuSans-52\"/>\n    </g>\n   </g>\n   <g id=\"text_259\">\n    <!-- 0.38 -->\n    <g style=\"fill:#ffffff;\" transform=\"translate(123.574018 79.767165)scale(0.1 -0.1)\">\n     <use xlink:href=\"#DejaVuSans-48\"/>\n     <use x=\"63.623047\" xlink:href=\"#DejaVuSans-46\"/>\n     <use x=\"95.410156\" xlink:href=\"#DejaVuSans-51\"/>\n     <use x=\"159.033203\" xlink:href=\"#DejaVuSans-56\"/>\n    </g>\n   </g>\n   <g id=\"text_260\">\n    <!-- 0.28 -->\n    <g style=\"fill:#ffffff;\" transform=\"translate(133.139732 79.767165)scale(0.1 -0.1)\">\n     <use xlink:href=\"#DejaVuSans-48\"/>\n     <use x=\"63.623047\" xlink:href=\"#DejaVuSans-46\"/>\n     <use x=\"95.410156\" xlink:href=\"#DejaVuSans-50\"/>\n     <use x=\"159.033203\" xlink:href=\"#DejaVuSans-56\"/>\n    </g>\n   </g>\n   <g id=\"text_261\">\n    <!-- 1 -->\n    <g style=\"fill:#262626;\" transform=\"translate(150.657009 79.767165)scale(0.1 -0.1)\">\n     <use xlink:href=\"#DejaVuSans-49\"/>\n    </g>\n   </g>\n   <g id=\"text_262\">\n    <!-- -0.076 -->\n    <g style=\"fill:#ffffff;\" transform=\"translate(147.286004 79.767165)scale(0.1 -0.1)\">\n     <use xlink:href=\"#DejaVuSans-45\"/>\n     <use x=\"36.083984\" xlink:href=\"#DejaVuSans-48\"/>\n     <use x=\"99.707031\" xlink:href=\"#DejaVuSans-46\"/>\n     <use x=\"131.494141\" xlink:href=\"#DejaVuSans-48\"/>\n     <use x=\"195.117188\" xlink:href=\"#DejaVuSans-55\"/>\n     <use x=\"258.740234\" xlink:href=\"#DejaVuSans-54\"/>\n    </g>\n   </g>\n   <g id=\"text_263\">\n    <!-- -0.093 -->\n    <g style=\"fill:#ffffff;\" transform=\"translate(156.851719 79.767165)scale(0.1 -0.1)\">\n     <use xlink:href=\"#DejaVuSans-45\"/>\n     <use x=\"36.083984\" xlink:href=\"#DejaVuSans-48\"/>\n     <use x=\"99.707031\" xlink:href=\"#DejaVuSans-46\"/>\n     <use x=\"131.494141\" xlink:href=\"#DejaVuSans-48\"/>\n     <use x=\"195.117188\" xlink:href=\"#DejaVuSans-57\"/>\n     <use x=\"258.740234\" xlink:href=\"#DejaVuSans-51\"/>\n    </g>\n   </g>\n   <g id=\"text_264\">\n    <!-- -0.016 -->\n    <g style=\"fill:#ffffff;\" transform=\"translate(166.417433 79.767165)scale(0.1 -0.1)\">\n     <use xlink:href=\"#DejaVuSans-45\"/>\n     <use x=\"36.083984\" xlink:href=\"#DejaVuSans-48\"/>\n     <use x=\"99.707031\" xlink:href=\"#DejaVuSans-46\"/>\n     <use x=\"131.494141\" xlink:href=\"#DejaVuSans-48\"/>\n     <use x=\"195.117188\" xlink:href=\"#DejaVuSans-49\"/>\n     <use x=\"258.740234\" xlink:href=\"#DejaVuSans-54\"/>\n    </g>\n   </g>\n   <g id=\"text_265\">\n    <!-- -0.00056 -->\n    <g style=\"fill:#ffffff;\" transform=\"translate(169.620647 79.767165)scale(0.1 -0.1)\">\n     <use xlink:href=\"#DejaVuSans-45\"/>\n     <use x=\"36.083984\" xlink:href=\"#DejaVuSans-48\"/>\n     <use x=\"99.707031\" xlink:href=\"#DejaVuSans-46\"/>\n     <use x=\"131.494141\" xlink:href=\"#DejaVuSans-48\"/>\n     <use x=\"195.117188\" xlink:href=\"#DejaVuSans-48\"/>\n     <use x=\"258.740234\" xlink:href=\"#DejaVuSans-48\"/>\n     <use x=\"322.363281\" xlink:href=\"#DejaVuSans-53\"/>\n     <use x=\"385.986328\" xlink:href=\"#DejaVuSans-54\"/>\n    </g>\n   </g>\n   <g id=\"text_266\">\n    <!-- -0.041 -->\n    <g style=\"fill:#ffffff;\" transform=\"translate(185.548862 79.767165)scale(0.1 -0.1)\">\n     <use xlink:href=\"#DejaVuSans-45\"/>\n     <use x=\"36.083984\" xlink:href=\"#DejaVuSans-48\"/>\n     <use x=\"99.707031\" xlink:href=\"#DejaVuSans-46\"/>\n     <use x=\"131.494141\" xlink:href=\"#DejaVuSans-48\"/>\n     <use x=\"195.117188\" xlink:href=\"#DejaVuSans-52\"/>\n     <use x=\"258.740234\" xlink:href=\"#DejaVuSans-49\"/>\n    </g>\n   </g>\n   <g id=\"text_267\">\n    <!-- 0.23 -->\n    <g style=\"fill:#ffffff;\" transform=\"translate(200.099732 79.767165)scale(0.1 -0.1)\">\n     <use xlink:href=\"#DejaVuSans-48\"/>\n     <use x=\"63.623047\" xlink:href=\"#DejaVuSans-46\"/>\n     <use x=\"95.410156\" xlink:href=\"#DejaVuSans-50\"/>\n     <use x=\"159.033203\" xlink:href=\"#DejaVuSans-51\"/>\n    </g>\n   </g>\n   <g id=\"text_268\">\n    <!-- -0.26 -->\n    <g style=\"fill:#ffffff;\" transform=\"translate(207.86154 79.767165)scale(0.1 -0.1)\">\n     <use xlink:href=\"#DejaVuSans-45\"/>\n     <use x=\"36.083984\" xlink:href=\"#DejaVuSans-48\"/>\n     <use x=\"99.707031\" xlink:href=\"#DejaVuSans-46\"/>\n     <use x=\"131.494141\" xlink:href=\"#DejaVuSans-50\"/>\n     <use x=\"195.117188\" xlink:href=\"#DejaVuSans-54\"/>\n    </g>\n   </g>\n   <g id=\"text_269\">\n    <!-- -0.19 -->\n    <g style=\"fill:#ffffff;\" transform=\"translate(217.427254 79.767165)scale(0.1 -0.1)\">\n     <use xlink:href=\"#DejaVuSans-45\"/>\n     <use x=\"36.083984\" xlink:href=\"#DejaVuSans-48\"/>\n     <use x=\"99.707031\" xlink:href=\"#DejaVuSans-46\"/>\n     <use x=\"131.494141\" xlink:href=\"#DejaVuSans-49\"/>\n     <use x=\"195.117188\" xlink:href=\"#DejaVuSans-57\"/>\n    </g>\n   </g>\n   <g id=\"text_270\">\n    <!-- -0.22 -->\n    <g style=\"fill:#ffffff;\" transform=\"translate(226.992969 79.767165)scale(0.1 -0.1)\">\n     <use xlink:href=\"#DejaVuSans-45\"/>\n     <use x=\"36.083984\" xlink:href=\"#DejaVuSans-48\"/>\n     <use x=\"99.707031\" xlink:href=\"#DejaVuSans-46\"/>\n     <use x=\"131.494141\" xlink:href=\"#DejaVuSans-50\"/>\n     <use x=\"195.117188\" xlink:href=\"#DejaVuSans-50\"/>\n    </g>\n   </g>\n   <g id=\"text_271\">\n    <!-- 0.026 -->\n    <g style=\"fill:#ffffff;\" transform=\"translate(235.181339 79.767165)scale(0.1 -0.1)\">\n     <use xlink:href=\"#DejaVuSans-48\"/>\n     <use x=\"63.623047\" xlink:href=\"#DejaVuSans-46\"/>\n     <use x=\"95.410156\" xlink:href=\"#DejaVuSans-48\"/>\n     <use x=\"159.033203\" xlink:href=\"#DejaVuSans-50\"/>\n     <use x=\"222.65625\" xlink:href=\"#DejaVuSans-54\"/>\n    </g>\n   </g>\n   <g id=\"text_272\">\n    <!-- 0.14 -->\n    <g style=\"fill:#ffffff;\" transform=\"translate(247.928304 79.767165)scale(0.1 -0.1)\">\n     <use xlink:href=\"#DejaVuSans-48\"/>\n     <use x=\"63.623047\" xlink:href=\"#DejaVuSans-46\"/>\n     <use x=\"95.410156\" xlink:href=\"#DejaVuSans-49\"/>\n     <use x=\"159.033203\" xlink:href=\"#DejaVuSans-52\"/>\n    </g>\n   </g>\n   <g id=\"text_273\">\n    <!-- -0.18 -->\n    <g style=\"fill:#ffffff;\" transform=\"translate(255.690112 79.767165)scale(0.1 -0.1)\">\n     <use xlink:href=\"#DejaVuSans-45\"/>\n     <use x=\"36.083984\" xlink:href=\"#DejaVuSans-48\"/>\n     <use x=\"99.707031\" xlink:href=\"#DejaVuSans-46\"/>\n     <use x=\"131.494141\" xlink:href=\"#DejaVuSans-49\"/>\n     <use x=\"195.117188\" xlink:href=\"#DejaVuSans-56\"/>\n    </g>\n   </g>\n   <g id=\"text_274\">\n    <!-- -0.015 -->\n    <g style=\"fill:#ffffff;\" transform=\"translate(262.074576 79.767165)scale(0.1 -0.1)\">\n     <use xlink:href=\"#DejaVuSans-45\"/>\n     <use x=\"36.083984\" xlink:href=\"#DejaVuSans-48\"/>\n     <use x=\"99.707031\" xlink:href=\"#DejaVuSans-46\"/>\n     <use x=\"131.494141\" xlink:href=\"#DejaVuSans-48\"/>\n     <use x=\"195.117188\" xlink:href=\"#DejaVuSans-49\"/>\n     <use x=\"258.740234\" xlink:href=\"#DejaVuSans-53\"/>\n    </g>\n   </g>\n   <g id=\"text_275\">\n    <!-- -0.076 -->\n    <g style=\"fill:#ffffff;\" transform=\"translate(271.64029 79.767165)scale(0.1 -0.1)\">\n     <use xlink:href=\"#DejaVuSans-45\"/>\n     <use x=\"36.083984\" xlink:href=\"#DejaVuSans-48\"/>\n     <use x=\"99.707031\" xlink:href=\"#DejaVuSans-46\"/>\n     <use x=\"131.494141\" xlink:href=\"#DejaVuSans-48\"/>\n     <use x=\"195.117188\" xlink:href=\"#DejaVuSans-55\"/>\n     <use x=\"258.740234\" xlink:href=\"#DejaVuSans-54\"/>\n    </g>\n   </g>\n   <g id=\"text_276\">\n    <!-- 0.12 -->\n    <g style=\"fill:#ffffff;\" transform=\"translate(286.191161 79.767165)scale(0.1 -0.1)\">\n     <use xlink:href=\"#DejaVuSans-48\"/>\n     <use x=\"63.623047\" xlink:href=\"#DejaVuSans-46\"/>\n     <use x=\"95.410156\" xlink:href=\"#DejaVuSans-49\"/>\n     <use x=\"159.033203\" xlink:href=\"#DejaVuSans-50\"/>\n    </g>\n   </g>\n   <g id=\"text_277\">\n    <!-- 0.044 -->\n    <g style=\"fill:#ffffff;\" transform=\"translate(292.575625 79.767165)scale(0.1 -0.1)\">\n     <use xlink:href=\"#DejaVuSans-48\"/>\n     <use x=\"63.623047\" xlink:href=\"#DejaVuSans-46\"/>\n     <use x=\"95.410156\" xlink:href=\"#DejaVuSans-48\"/>\n     <use x=\"159.033203\" xlink:href=\"#DejaVuSans-52\"/>\n     <use x=\"222.65625\" xlink:href=\"#DejaVuSans-52\"/>\n    </g>\n   </g>\n   <g id=\"text_278\">\n    <!-- 0.032 -->\n    <g style=\"fill:#ffffff;\" transform=\"translate(302.141339 79.767165)scale(0.1 -0.1)\">\n     <use xlink:href=\"#DejaVuSans-48\"/>\n     <use x=\"63.623047\" xlink:href=\"#DejaVuSans-46\"/>\n     <use x=\"95.410156\" xlink:href=\"#DejaVuSans-48\"/>\n     <use x=\"159.033203\" xlink:href=\"#DejaVuSans-51\"/>\n     <use x=\"222.65625\" xlink:href=\"#DejaVuSans-50\"/>\n    </g>\n   </g>\n   <g id=\"text_279\">\n    <!-- -0.0023 -->\n    <g style=\"fill:#ffffff;\" transform=\"translate(306.721897 79.767165)scale(0.1 -0.1)\">\n     <use xlink:href=\"#DejaVuSans-45\"/>\n     <use x=\"36.083984\" xlink:href=\"#DejaVuSans-48\"/>\n     <use x=\"99.707031\" xlink:href=\"#DejaVuSans-46\"/>\n     <use x=\"131.494141\" xlink:href=\"#DejaVuSans-48\"/>\n     <use x=\"195.117188\" xlink:href=\"#DejaVuSans-48\"/>\n     <use x=\"258.740234\" xlink:href=\"#DejaVuSans-50\"/>\n     <use x=\"322.363281\" xlink:href=\"#DejaVuSans-51\"/>\n    </g>\n   </g>\n   <g id=\"text_280\">\n    <!-- -0.015 -->\n    <g style=\"fill:#ffffff;\" transform=\"translate(319.468862 79.767165)scale(0.1 -0.1)\">\n     <use xlink:href=\"#DejaVuSans-45\"/>\n     <use x=\"36.083984\" xlink:href=\"#DejaVuSans-48\"/>\n     <use x=\"99.707031\" xlink:href=\"#DejaVuSans-46\"/>\n     <use x=\"131.494141\" xlink:href=\"#DejaVuSans-48\"/>\n     <use x=\"195.117188\" xlink:href=\"#DejaVuSans-49\"/>\n     <use x=\"258.740234\" xlink:href=\"#DejaVuSans-53\"/>\n    </g>\n   </g>\n   <g id=\"text_281\">\n    <!-- 0.37 -->\n    <g style=\"fill:#ffffff;\" transform=\"translate(66.179732 87.532879)scale(0.1 -0.1)\">\n     <use xlink:href=\"#DejaVuSans-48\"/>\n     <use x=\"63.623047\" xlink:href=\"#DejaVuSans-46\"/>\n     <use x=\"95.410156\" xlink:href=\"#DejaVuSans-51\"/>\n     <use x=\"159.033203\" xlink:href=\"#DejaVuSans-55\"/>\n    </g>\n   </g>\n   <g id=\"text_282\">\n    <!-- 0.54 -->\n    <g style=\"fill:#ffffff;\" transform=\"translate(75.745446 87.532879)scale(0.1 -0.1)\">\n     <use xlink:href=\"#DejaVuSans-48\"/>\n     <use x=\"63.623047\" xlink:href=\"#DejaVuSans-46\"/>\n     <use x=\"95.410156\" xlink:href=\"#DejaVuSans-53\"/>\n     <use x=\"159.033203\" xlink:href=\"#DejaVuSans-52\"/>\n    </g>\n   </g>\n   <g id=\"text_283\">\n    <!-- -0.14 -->\n    <g style=\"fill:#ffffff;\" transform=\"translate(83.507254 87.532879)scale(0.1 -0.1)\">\n     <use xlink:href=\"#DejaVuSans-45\"/>\n     <use x=\"36.083984\" xlink:href=\"#DejaVuSans-48\"/>\n     <use x=\"99.707031\" xlink:href=\"#DejaVuSans-46\"/>\n     <use x=\"131.494141\" xlink:href=\"#DejaVuSans-49\"/>\n     <use x=\"195.117188\" xlink:href=\"#DejaVuSans-52\"/>\n    </g>\n   </g>\n   <g id=\"text_284\">\n    <!-- 0.91 -->\n    <g style=\"fill:#262626;\" transform=\"translate(94.876875 87.532879)scale(0.1 -0.1)\">\n     <use xlink:href=\"#DejaVuSans-48\"/>\n     <use x=\"63.623047\" xlink:href=\"#DejaVuSans-46\"/>\n     <use x=\"95.410156\" xlink:href=\"#DejaVuSans-57\"/>\n     <use x=\"159.033203\" xlink:href=\"#DejaVuSans-49\"/>\n    </g>\n   </g>\n   <g id=\"text_285\">\n    <!-- 0.84 -->\n    <g style=\"fill:#262626;\" transform=\"translate(104.442589 87.532879)scale(0.1 -0.1)\">\n     <use xlink:href=\"#DejaVuSans-48\"/>\n     <use x=\"63.623047\" xlink:href=\"#DejaVuSans-46\"/>\n     <use x=\"95.410156\" xlink:href=\"#DejaVuSans-56\"/>\n     <use x=\"159.033203\" xlink:href=\"#DejaVuSans-52\"/>\n    </g>\n   </g>\n   <g id=\"text_286\">\n    <!-- 0.52 -->\n    <g style=\"fill:#ffffff;\" transform=\"translate(114.008304 87.532879)scale(0.1 -0.1)\">\n     <use xlink:href=\"#DejaVuSans-48\"/>\n     <use x=\"63.623047\" xlink:href=\"#DejaVuSans-46\"/>\n     <use x=\"95.410156\" xlink:href=\"#DejaVuSans-53\"/>\n     <use x=\"159.033203\" xlink:href=\"#DejaVuSans-50\"/>\n    </g>\n   </g>\n   <g id=\"text_287\">\n    <!-- 0.15 -->\n    <g style=\"fill:#ffffff;\" transform=\"translate(123.574018 87.532879)scale(0.1 -0.1)\">\n     <use xlink:href=\"#DejaVuSans-48\"/>\n     <use x=\"63.623047\" xlink:href=\"#DejaVuSans-46\"/>\n     <use x=\"95.410156\" xlink:href=\"#DejaVuSans-49\"/>\n     <use x=\"159.033203\" xlink:href=\"#DejaVuSans-53\"/>\n    </g>\n   </g>\n   <g id=\"text_288\">\n    <!-- 0.17 -->\n    <g style=\"fill:#ffffff;\" transform=\"translate(133.139732 87.532879)scale(0.1 -0.1)\">\n     <use xlink:href=\"#DejaVuSans-48\"/>\n     <use x=\"63.623047\" xlink:href=\"#DejaVuSans-46\"/>\n     <use x=\"95.410156\" xlink:href=\"#DejaVuSans-49\"/>\n     <use x=\"159.033203\" xlink:href=\"#DejaVuSans-55\"/>\n    </g>\n   </g>\n   <g id=\"text_289\">\n    <!-- -0.076 -->\n    <g style=\"fill:#ffffff;\" transform=\"translate(137.72029 87.532879)scale(0.1 -0.1)\">\n     <use xlink:href=\"#DejaVuSans-45\"/>\n     <use x=\"36.083984\" xlink:href=\"#DejaVuSans-48\"/>\n     <use x=\"99.707031\" xlink:href=\"#DejaVuSans-46\"/>\n     <use x=\"131.494141\" xlink:href=\"#DejaVuSans-48\"/>\n     <use x=\"195.117188\" xlink:href=\"#DejaVuSans-55\"/>\n     <use x=\"258.740234\" xlink:href=\"#DejaVuSans-54\"/>\n    </g>\n   </g>\n   <g id=\"text_290\">\n    <!-- 1 -->\n    <g style=\"fill:#262626;\" transform=\"translate(160.222723 87.532879)scale(0.1 -0.1)\">\n     <use xlink:href=\"#DejaVuSans-49\"/>\n    </g>\n   </g>\n   <g id=\"text_291\">\n    <!-- 0.98 -->\n    <g style=\"fill:#262626;\" transform=\"translate(161.836875 87.532879)scale(0.1 -0.1)\">\n     <use xlink:href=\"#DejaVuSans-48\"/>\n     <use x=\"63.623047\" xlink:href=\"#DejaVuSans-46\"/>\n     <use x=\"95.410156\" xlink:href=\"#DejaVuSans-57\"/>\n     <use x=\"159.033203\" xlink:href=\"#DejaVuSans-56\"/>\n    </g>\n   </g>\n   <g id=\"text_292\">\n    <!-- 0.43 -->\n    <g style=\"fill:#ffffff;\" transform=\"translate(171.402589 87.532879)scale(0.1 -0.1)\">\n     <use xlink:href=\"#DejaVuSans-48\"/>\n     <use x=\"63.623047\" xlink:href=\"#DejaVuSans-46\"/>\n     <use x=\"95.410156\" xlink:href=\"#DejaVuSans-52\"/>\n     <use x=\"159.033203\" xlink:href=\"#DejaVuSans-51\"/>\n    </g>\n   </g>\n   <g id=\"text_293\">\n    <!-- 0.76 -->\n    <g style=\"fill:#262626;\" transform=\"translate(180.968304 87.532879)scale(0.1 -0.1)\">\n     <use xlink:href=\"#DejaVuSans-48\"/>\n     <use x=\"63.623047\" xlink:href=\"#DejaVuSans-46\"/>\n     <use x=\"95.410156\" xlink:href=\"#DejaVuSans-55\"/>\n     <use x=\"159.033203\" xlink:href=\"#DejaVuSans-54\"/>\n    </g>\n   </g>\n   <g id=\"text_294\">\n    <!-- 0.8 -->\n    <g style=\"fill:#262626;\" transform=\"translate(193.715268 87.532879)scale(0.1 -0.1)\">\n     <use xlink:href=\"#DejaVuSans-48\"/>\n     <use x=\"63.623047\" xlink:href=\"#DejaVuSans-46\"/>\n     <use x=\"95.410156\" xlink:href=\"#DejaVuSans-56\"/>\n    </g>\n   </g>\n   <g id=\"text_295\">\n    <!-- 0.051 -->\n    <g style=\"fill:#ffffff;\" transform=\"translate(196.918482 87.532879)scale(0.1 -0.1)\">\n     <use xlink:href=\"#DejaVuSans-48\"/>\n     <use x=\"63.623047\" xlink:href=\"#DejaVuSans-46\"/>\n     <use x=\"95.410156\" xlink:href=\"#DejaVuSans-48\"/>\n     <use x=\"159.033203\" xlink:href=\"#DejaVuSans-53\"/>\n     <use x=\"222.65625\" xlink:href=\"#DejaVuSans-49\"/>\n    </g>\n   </g>\n   <g id=\"text_296\">\n    <!-- 0.45 -->\n    <g style=\"fill:#ffffff;\" transform=\"translate(209.665446 87.532879)scale(0.1 -0.1)\">\n     <use xlink:href=\"#DejaVuSans-48\"/>\n     <use x=\"63.623047\" xlink:href=\"#DejaVuSans-46\"/>\n     <use x=\"95.410156\" xlink:href=\"#DejaVuSans-52\"/>\n     <use x=\"159.033203\" xlink:href=\"#DejaVuSans-53\"/>\n    </g>\n   </g>\n   <g id=\"text_297\">\n    <!-- 0.71 -->\n    <g style=\"fill:#262626;\" transform=\"translate(219.231161 87.532879)scale(0.1 -0.1)\">\n     <use xlink:href=\"#DejaVuSans-48\"/>\n     <use x=\"63.623047\" xlink:href=\"#DejaVuSans-46\"/>\n     <use x=\"95.410156\" xlink:href=\"#DejaVuSans-55\"/>\n     <use x=\"159.033203\" xlink:href=\"#DejaVuSans-49\"/>\n    </g>\n   </g>\n   <g id=\"text_298\">\n    <!-- 0.69 -->\n    <g style=\"fill:#262626;\" transform=\"translate(228.796875 87.532879)scale(0.1 -0.1)\">\n     <use xlink:href=\"#DejaVuSans-48\"/>\n     <use x=\"63.623047\" xlink:href=\"#DejaVuSans-46\"/>\n     <use x=\"95.410156\" xlink:href=\"#DejaVuSans-54\"/>\n     <use x=\"159.033203\" xlink:href=\"#DejaVuSans-57\"/>\n    </g>\n   </g>\n   <g id=\"text_299\">\n    <!-- 0.51 -->\n    <g style=\"fill:#ffffff;\" transform=\"translate(238.362589 87.532879)scale(0.1 -0.1)\">\n     <use xlink:href=\"#DejaVuSans-48\"/>\n     <use x=\"63.623047\" xlink:href=\"#DejaVuSans-46\"/>\n     <use x=\"95.410156\" xlink:href=\"#DejaVuSans-53\"/>\n     <use x=\"159.033203\" xlink:href=\"#DejaVuSans-49\"/>\n    </g>\n   </g>\n   <g id=\"text_300\">\n    <!-- 0.43 -->\n    <g style=\"fill:#ffffff;\" transform=\"translate(247.928304 87.532879)scale(0.1 -0.1)\">\n     <use xlink:href=\"#DejaVuSans-48\"/>\n     <use x=\"63.623047\" xlink:href=\"#DejaVuSans-46\"/>\n     <use x=\"95.410156\" xlink:href=\"#DejaVuSans-52\"/>\n     <use x=\"159.033203\" xlink:href=\"#DejaVuSans-51\"/>\n    </g>\n   </g>\n   <g id=\"text_301\">\n    <!-- 0.33 -->\n    <g style=\"fill:#ffffff;\" transform=\"translate(257.494018 87.532879)scale(0.1 -0.1)\">\n     <use xlink:href=\"#DejaVuSans-48\"/>\n     <use x=\"63.623047\" xlink:href=\"#DejaVuSans-46\"/>\n     <use x=\"95.410156\" xlink:href=\"#DejaVuSans-51\"/>\n     <use x=\"159.033203\" xlink:href=\"#DejaVuSans-51\"/>\n    </g>\n   </g>\n   <g id=\"text_302\">\n    <!-- 0.71 -->\n    <g style=\"fill:#262626;\" transform=\"translate(267.059732 87.532879)scale(0.1 -0.1)\">\n     <use xlink:href=\"#DejaVuSans-48\"/>\n     <use x=\"63.623047\" xlink:href=\"#DejaVuSans-46\"/>\n     <use x=\"95.410156\" xlink:href=\"#DejaVuSans-55\"/>\n     <use x=\"159.033203\" xlink:href=\"#DejaVuSans-49\"/>\n    </g>\n   </g>\n   <g id=\"text_303\">\n    <!-- 0.38 -->\n    <g style=\"fill:#ffffff;\" transform=\"translate(276.625446 87.532879)scale(0.1 -0.1)\">\n     <use xlink:href=\"#DejaVuSans-48\"/>\n     <use x=\"63.623047\" xlink:href=\"#DejaVuSans-46\"/>\n     <use x=\"95.410156\" xlink:href=\"#DejaVuSans-51\"/>\n     <use x=\"159.033203\" xlink:href=\"#DejaVuSans-56\"/>\n    </g>\n   </g>\n   <g id=\"text_304\">\n    <!-- 0.86 -->\n    <g style=\"fill:#262626;\" transform=\"translate(286.191161 87.532879)scale(0.1 -0.1)\">\n     <use xlink:href=\"#DejaVuSans-48\"/>\n     <use x=\"63.623047\" xlink:href=\"#DejaVuSans-46\"/>\n     <use x=\"95.410156\" xlink:href=\"#DejaVuSans-56\"/>\n     <use x=\"159.033203\" xlink:href=\"#DejaVuSans-54\"/>\n    </g>\n   </g>\n   <g id=\"text_305\">\n    <!-- -0.13 -->\n    <g style=\"fill:#ffffff;\" transform=\"translate(293.952969 87.532879)scale(0.1 -0.1)\">\n     <use xlink:href=\"#DejaVuSans-45\"/>\n     <use x=\"36.083984\" xlink:href=\"#DejaVuSans-48\"/>\n     <use x=\"99.707031\" xlink:href=\"#DejaVuSans-46\"/>\n     <use x=\"131.494141\" xlink:href=\"#DejaVuSans-49\"/>\n     <use x=\"195.117188\" xlink:href=\"#DejaVuSans-51\"/>\n    </g>\n   </g>\n   <g id=\"text_306\">\n    <!-- 0.54 -->\n    <g style=\"fill:#ffffff;\" transform=\"translate(305.322589 87.532879)scale(0.1 -0.1)\">\n     <use xlink:href=\"#DejaVuSans-48\"/>\n     <use x=\"63.623047\" xlink:href=\"#DejaVuSans-46\"/>\n     <use x=\"95.410156\" xlink:href=\"#DejaVuSans-53\"/>\n     <use x=\"159.033203\" xlink:href=\"#DejaVuSans-52\"/>\n    </g>\n   </g>\n   <g id=\"text_307\">\n    <!-- 0.64 -->\n    <g style=\"fill:#262626;\" transform=\"translate(314.888304 87.532879)scale(0.1 -0.1)\">\n     <use xlink:href=\"#DejaVuSans-48\"/>\n     <use x=\"63.623047\" xlink:href=\"#DejaVuSans-46\"/>\n     <use x=\"95.410156\" xlink:href=\"#DejaVuSans-54\"/>\n     <use x=\"159.033203\" xlink:href=\"#DejaVuSans-52\"/>\n    </g>\n   </g>\n   <g id=\"text_308\">\n    <!-- -0.6 -->\n    <g style=\"fill:#ffffff;\" transform=\"translate(325.831362 87.532879)scale(0.1 -0.1)\">\n     <use xlink:href=\"#DejaVuSans-45\"/>\n     <use x=\"36.083984\" xlink:href=\"#DejaVuSans-48\"/>\n     <use x=\"99.707031\" xlink:href=\"#DejaVuSans-46\"/>\n     <use x=\"131.494141\" xlink:href=\"#DejaVuSans-54\"/>\n    </g>\n   </g>\n   <g id=\"text_309\">\n    <!-- 0.34 -->\n    <g style=\"fill:#ffffff;\" transform=\"translate(66.179732 95.298594)scale(0.1 -0.1)\">\n     <use xlink:href=\"#DejaVuSans-48\"/>\n     <use x=\"63.623047\" xlink:href=\"#DejaVuSans-46\"/>\n     <use x=\"95.410156\" xlink:href=\"#DejaVuSans-51\"/>\n     <use x=\"159.033203\" xlink:href=\"#DejaVuSans-52\"/>\n    </g>\n   </g>\n   <g id=\"text_310\">\n    <!-- 0.52 -->\n    <g style=\"fill:#ffffff;\" transform=\"translate(75.745446 95.298594)scale(0.1 -0.1)\">\n     <use xlink:href=\"#DejaVuSans-48\"/>\n     <use x=\"63.623047\" xlink:href=\"#DejaVuSans-46\"/>\n     <use x=\"95.410156\" xlink:href=\"#DejaVuSans-53\"/>\n     <use x=\"159.033203\" xlink:href=\"#DejaVuSans-50\"/>\n    </g>\n   </g>\n   <g id=\"text_311\">\n    <!-- -0.11 -->\n    <g style=\"fill:#ffffff;\" transform=\"translate(83.507254 95.298594)scale(0.1 -0.1)\">\n     <use xlink:href=\"#DejaVuSans-45\"/>\n     <use x=\"36.083984\" xlink:href=\"#DejaVuSans-48\"/>\n     <use x=\"99.707031\" xlink:href=\"#DejaVuSans-46\"/>\n     <use x=\"131.494141\" xlink:href=\"#DejaVuSans-49\"/>\n     <use x=\"195.117188\" xlink:href=\"#DejaVuSans-49\"/>\n    </g>\n   </g>\n   <g id=\"text_312\">\n    <!-- 0.9 -->\n    <g style=\"fill:#262626;\" transform=\"translate(98.058125 95.298594)scale(0.1 -0.1)\">\n     <use xlink:href=\"#DejaVuSans-48\"/>\n     <use x=\"63.623047\" xlink:href=\"#DejaVuSans-46\"/>\n     <use x=\"95.410156\" xlink:href=\"#DejaVuSans-57\"/>\n    </g>\n   </g>\n   <g id=\"text_313\">\n    <!-- 0.86 -->\n    <g style=\"fill:#262626;\" transform=\"translate(104.442589 95.298594)scale(0.1 -0.1)\">\n     <use xlink:href=\"#DejaVuSans-48\"/>\n     <use x=\"63.623047\" xlink:href=\"#DejaVuSans-46\"/>\n     <use x=\"95.410156\" xlink:href=\"#DejaVuSans-56\"/>\n     <use x=\"159.033203\" xlink:href=\"#DejaVuSans-54\"/>\n    </g>\n   </g>\n   <g id=\"text_314\">\n    <!-- 0.39 -->\n    <g style=\"fill:#ffffff;\" transform=\"translate(114.008304 95.298594)scale(0.1 -0.1)\">\n     <use xlink:href=\"#DejaVuSans-48\"/>\n     <use x=\"63.623047\" xlink:href=\"#DejaVuSans-46\"/>\n     <use x=\"95.410156\" xlink:href=\"#DejaVuSans-51\"/>\n     <use x=\"159.033203\" xlink:href=\"#DejaVuSans-57\"/>\n    </g>\n   </g>\n   <g id=\"text_315\">\n    <!-- 0.16 -->\n    <g style=\"fill:#ffffff;\" transform=\"translate(123.574018 95.298594)scale(0.1 -0.1)\">\n     <use xlink:href=\"#DejaVuSans-48\"/>\n     <use x=\"63.623047\" xlink:href=\"#DejaVuSans-46\"/>\n     <use x=\"95.410156\" xlink:href=\"#DejaVuSans-49\"/>\n     <use x=\"159.033203\" xlink:href=\"#DejaVuSans-54\"/>\n    </g>\n   </g>\n   <g id=\"text_316\">\n    <!-- 0.19 -->\n    <g style=\"fill:#ffffff;\" transform=\"translate(133.139732 95.298594)scale(0.1 -0.1)\">\n     <use xlink:href=\"#DejaVuSans-48\"/>\n     <use x=\"63.623047\" xlink:href=\"#DejaVuSans-46\"/>\n     <use x=\"95.410156\" xlink:href=\"#DejaVuSans-49\"/>\n     <use x=\"159.033203\" xlink:href=\"#DejaVuSans-57\"/>\n    </g>\n   </g>\n   <g id=\"text_317\">\n    <!-- -0.093 -->\n    <g style=\"fill:#ffffff;\" transform=\"translate(137.72029 95.298594)scale(0.1 -0.1)\">\n     <use xlink:href=\"#DejaVuSans-45\"/>\n     <use x=\"36.083984\" xlink:href=\"#DejaVuSans-48\"/>\n     <use x=\"99.707031\" xlink:href=\"#DejaVuSans-46\"/>\n     <use x=\"131.494141\" xlink:href=\"#DejaVuSans-48\"/>\n     <use x=\"195.117188\" xlink:href=\"#DejaVuSans-57\"/>\n     <use x=\"258.740234\" xlink:href=\"#DejaVuSans-51\"/>\n    </g>\n   </g>\n   <g id=\"text_318\">\n    <!-- 0.98 -->\n    <g style=\"fill:#262626;\" transform=\"translate(152.271161 95.298594)scale(0.1 -0.1)\">\n     <use xlink:href=\"#DejaVuSans-48\"/>\n     <use x=\"63.623047\" xlink:href=\"#DejaVuSans-46\"/>\n     <use x=\"95.410156\" xlink:href=\"#DejaVuSans-57\"/>\n     <use x=\"159.033203\" xlink:href=\"#DejaVuSans-56\"/>\n    </g>\n   </g>\n   <g id=\"text_319\">\n    <!-- 1 -->\n    <g style=\"fill:#262626;\" transform=\"translate(169.788438 95.298594)scale(0.1 -0.1)\">\n     <use xlink:href=\"#DejaVuSans-49\"/>\n    </g>\n   </g>\n   <g id=\"text_320\">\n    <!-- 0.28 -->\n    <g style=\"fill:#ffffff;\" transform=\"translate(171.402589 95.298594)scale(0.1 -0.1)\">\n     <use xlink:href=\"#DejaVuSans-48\"/>\n     <use x=\"63.623047\" xlink:href=\"#DejaVuSans-46\"/>\n     <use x=\"95.410156\" xlink:href=\"#DejaVuSans-50\"/>\n     <use x=\"159.033203\" xlink:href=\"#DejaVuSans-56\"/>\n    </g>\n   </g>\n   <g id=\"text_321\">\n    <!-- 0.76 -->\n    <g style=\"fill:#262626;\" transform=\"translate(180.968304 95.298594)scale(0.1 -0.1)\">\n     <use xlink:href=\"#DejaVuSans-48\"/>\n     <use x=\"63.623047\" xlink:href=\"#DejaVuSans-46\"/>\n     <use x=\"95.410156\" xlink:href=\"#DejaVuSans-55\"/>\n     <use x=\"159.033203\" xlink:href=\"#DejaVuSans-54\"/>\n    </g>\n   </g>\n   <g id=\"text_322\">\n    <!-- 0.79 -->\n    <g style=\"fill:#262626;\" transform=\"translate(190.534018 95.298594)scale(0.1 -0.1)\">\n     <use xlink:href=\"#DejaVuSans-48\"/>\n     <use x=\"63.623047\" xlink:href=\"#DejaVuSans-46\"/>\n     <use x=\"95.410156\" xlink:href=\"#DejaVuSans-55\"/>\n     <use x=\"159.033203\" xlink:href=\"#DejaVuSans-57\"/>\n    </g>\n   </g>\n   <g id=\"text_323\">\n    <!-- 0.093 -->\n    <g style=\"fill:#ffffff;\" transform=\"translate(196.918482 95.298594)scale(0.1 -0.1)\">\n     <use xlink:href=\"#DejaVuSans-48\"/>\n     <use x=\"63.623047\" xlink:href=\"#DejaVuSans-46\"/>\n     <use x=\"95.410156\" xlink:href=\"#DejaVuSans-48\"/>\n     <use x=\"159.033203\" xlink:href=\"#DejaVuSans-57\"/>\n     <use x=\"222.65625\" xlink:href=\"#DejaVuSans-51\"/>\n    </g>\n   </g>\n   <g id=\"text_324\">\n    <!-- 0.38 -->\n    <g style=\"fill:#ffffff;\" transform=\"translate(209.665446 95.298594)scale(0.1 -0.1)\">\n     <use xlink:href=\"#DejaVuSans-48\"/>\n     <use x=\"63.623047\" xlink:href=\"#DejaVuSans-46\"/>\n     <use x=\"95.410156\" xlink:href=\"#DejaVuSans-51\"/>\n     <use x=\"159.033203\" xlink:href=\"#DejaVuSans-56\"/>\n    </g>\n   </g>\n   <g id=\"text_325\">\n    <!-- 0.66 -->\n    <g style=\"fill:#262626;\" transform=\"translate(219.231161 95.298594)scale(0.1 -0.1)\">\n     <use xlink:href=\"#DejaVuSans-48\"/>\n     <use x=\"63.623047\" xlink:href=\"#DejaVuSans-46\"/>\n     <use x=\"95.410156\" xlink:href=\"#DejaVuSans-54\"/>\n     <use x=\"159.033203\" xlink:href=\"#DejaVuSans-54\"/>\n    </g>\n   </g>\n   <g id=\"text_326\">\n    <!-- 0.63 -->\n    <g style=\"fill:#262626;\" transform=\"translate(228.796875 95.298594)scale(0.1 -0.1)\">\n     <use xlink:href=\"#DejaVuSans-48\"/>\n     <use x=\"63.623047\" xlink:href=\"#DejaVuSans-46\"/>\n     <use x=\"95.410156\" xlink:href=\"#DejaVuSans-54\"/>\n     <use x=\"159.033203\" xlink:href=\"#DejaVuSans-51\"/>\n    </g>\n   </g>\n   <g id=\"text_327\">\n    <!-- 0.55 -->\n    <g style=\"fill:#ffffff;\" transform=\"translate(238.362589 95.298594)scale(0.1 -0.1)\">\n     <use xlink:href=\"#DejaVuSans-48\"/>\n     <use x=\"63.623047\" xlink:href=\"#DejaVuSans-46\"/>\n     <use x=\"95.410156\" xlink:href=\"#DejaVuSans-53\"/>\n     <use x=\"159.033203\" xlink:href=\"#DejaVuSans-53\"/>\n    </g>\n   </g>\n   <g id=\"text_328\">\n    <!-- 0.45 -->\n    <g style=\"fill:#ffffff;\" transform=\"translate(247.928304 95.298594)scale(0.1 -0.1)\">\n     <use xlink:href=\"#DejaVuSans-48\"/>\n     <use x=\"63.623047\" xlink:href=\"#DejaVuSans-46\"/>\n     <use x=\"95.410156\" xlink:href=\"#DejaVuSans-52\"/>\n     <use x=\"159.033203\" xlink:href=\"#DejaVuSans-53\"/>\n    </g>\n   </g>\n   <g id=\"text_329\">\n    <!-- 0.26 -->\n    <g style=\"fill:#ffffff;\" transform=\"translate(257.494018 95.298594)scale(0.1 -0.1)\">\n     <use xlink:href=\"#DejaVuSans-48\"/>\n     <use x=\"63.623047\" xlink:href=\"#DejaVuSans-46\"/>\n     <use x=\"95.410156\" xlink:href=\"#DejaVuSans-50\"/>\n     <use x=\"159.033203\" xlink:href=\"#DejaVuSans-54\"/>\n    </g>\n   </g>\n   <g id=\"text_330\">\n    <!-- 0.73 -->\n    <g style=\"fill:#262626;\" transform=\"translate(267.059732 95.298594)scale(0.1 -0.1)\">\n     <use xlink:href=\"#DejaVuSans-48\"/>\n     <use x=\"63.623047\" xlink:href=\"#DejaVuSans-46\"/>\n     <use x=\"95.410156\" xlink:href=\"#DejaVuSans-55\"/>\n     <use x=\"159.033203\" xlink:href=\"#DejaVuSans-51\"/>\n    </g>\n   </g>\n   <g id=\"text_331\">\n    <!-- 0.37 -->\n    <g style=\"fill:#ffffff;\" transform=\"translate(276.625446 95.298594)scale(0.1 -0.1)\">\n     <use xlink:href=\"#DejaVuSans-48\"/>\n     <use x=\"63.623047\" xlink:href=\"#DejaVuSans-46\"/>\n     <use x=\"95.410156\" xlink:href=\"#DejaVuSans-51\"/>\n     <use x=\"159.033203\" xlink:href=\"#DejaVuSans-55\"/>\n    </g>\n   </g>\n   <g id=\"text_332\">\n    <!-- 0.85 -->\n    <g style=\"fill:#262626;\" transform=\"translate(286.191161 95.298594)scale(0.1 -0.1)\">\n     <use xlink:href=\"#DejaVuSans-48\"/>\n     <use x=\"63.623047\" xlink:href=\"#DejaVuSans-46\"/>\n     <use x=\"95.410156\" xlink:href=\"#DejaVuSans-56\"/>\n     <use x=\"159.033203\" xlink:href=\"#DejaVuSans-53\"/>\n    </g>\n   </g>\n   <g id=\"text_333\">\n    <!-- -0.14 -->\n    <g style=\"fill:#ffffff;\" transform=\"translate(293.952969 95.298594)scale(0.1 -0.1)\">\n     <use xlink:href=\"#DejaVuSans-45\"/>\n     <use x=\"36.083984\" xlink:href=\"#DejaVuSans-48\"/>\n     <use x=\"99.707031\" xlink:href=\"#DejaVuSans-46\"/>\n     <use x=\"131.494141\" xlink:href=\"#DejaVuSans-49\"/>\n     <use x=\"195.117188\" xlink:href=\"#DejaVuSans-52\"/>\n    </g>\n   </g>\n   <g id=\"text_334\">\n    <!-- 0.52 -->\n    <g style=\"fill:#ffffff;\" transform=\"translate(305.322589 95.298594)scale(0.1 -0.1)\">\n     <use xlink:href=\"#DejaVuSans-48\"/>\n     <use x=\"63.623047\" xlink:href=\"#DejaVuSans-46\"/>\n     <use x=\"95.410156\" xlink:href=\"#DejaVuSans-53\"/>\n     <use x=\"159.033203\" xlink:href=\"#DejaVuSans-50\"/>\n    </g>\n   </g>\n   <g id=\"text_335\">\n    <!-- 0.63 -->\n    <g style=\"fill:#262626;\" transform=\"translate(314.888304 95.298594)scale(0.1 -0.1)\">\n     <use xlink:href=\"#DejaVuSans-48\"/>\n     <use x=\"63.623047\" xlink:href=\"#DejaVuSans-46\"/>\n     <use x=\"95.410156\" xlink:href=\"#DejaVuSans-54\"/>\n     <use x=\"159.033203\" xlink:href=\"#DejaVuSans-51\"/>\n    </g>\n   </g>\n   <g id=\"text_336\">\n    <!-- -0.59 -->\n    <g style=\"fill:#ffffff;\" transform=\"translate(322.650112 95.298594)scale(0.1 -0.1)\">\n     <use xlink:href=\"#DejaVuSans-45\"/>\n     <use x=\"36.083984\" xlink:href=\"#DejaVuSans-48\"/>\n     <use x=\"99.707031\" xlink:href=\"#DejaVuSans-46\"/>\n     <use x=\"131.494141\" xlink:href=\"#DejaVuSans-53\"/>\n     <use x=\"195.117188\" xlink:href=\"#DejaVuSans-57\"/>\n    </g>\n   </g>\n   <g id=\"text_337\">\n    <!-- 0.27 -->\n    <g style=\"fill:#ffffff;\" transform=\"translate(66.179732 103.064308)scale(0.1 -0.1)\">\n     <use xlink:href=\"#DejaVuSans-48\"/>\n     <use x=\"63.623047\" xlink:href=\"#DejaVuSans-46\"/>\n     <use x=\"95.410156\" xlink:href=\"#DejaVuSans-50\"/>\n     <use x=\"159.033203\" xlink:href=\"#DejaVuSans-55\"/>\n    </g>\n   </g>\n   <g id=\"text_338\">\n    <!-- 0.3 -->\n    <g style=\"fill:#ffffff;\" transform=\"translate(78.926696 103.064308)scale(0.1 -0.1)\">\n     <use xlink:href=\"#DejaVuSans-48\"/>\n     <use x=\"63.623047\" xlink:href=\"#DejaVuSans-46\"/>\n     <use x=\"95.410156\" xlink:href=\"#DejaVuSans-51\"/>\n    </g>\n   </g>\n   <g id=\"text_339\">\n    <!-- -0.1 -->\n    <g style=\"fill:#ffffff;\" transform=\"translate(86.688504 103.064308)scale(0.1 -0.1)\">\n     <use xlink:href=\"#DejaVuSans-45\"/>\n     <use x=\"36.083984\" xlink:href=\"#DejaVuSans-48\"/>\n     <use x=\"99.707031\" xlink:href=\"#DejaVuSans-46\"/>\n     <use x=\"131.494141\" xlink:href=\"#DejaVuSans-49\"/>\n    </g>\n   </g>\n   <g id=\"text_340\">\n    <!-- 0.4 -->\n    <g style=\"fill:#ffffff;\" transform=\"translate(98.058125 103.064308)scale(0.1 -0.1)\">\n     <use xlink:href=\"#DejaVuSans-48\"/>\n     <use x=\"63.623047\" xlink:href=\"#DejaVuSans-46\"/>\n     <use x=\"95.410156\" xlink:href=\"#DejaVuSans-52\"/>\n    </g>\n   </g>\n   <g id=\"text_341\">\n    <!-- 0.24 -->\n    <g style=\"fill:#ffffff;\" transform=\"translate(104.442589 103.064308)scale(0.1 -0.1)\">\n     <use xlink:href=\"#DejaVuSans-48\"/>\n     <use x=\"63.623047\" xlink:href=\"#DejaVuSans-46\"/>\n     <use x=\"95.410156\" xlink:href=\"#DejaVuSans-50\"/>\n     <use x=\"159.033203\" xlink:href=\"#DejaVuSans-52\"/>\n    </g>\n   </g>\n   <g id=\"text_342\">\n    <!-- 0.79 -->\n    <g style=\"fill:#262626;\" transform=\"translate(114.008304 103.064308)scale(0.1 -0.1)\">\n     <use xlink:href=\"#DejaVuSans-48\"/>\n     <use x=\"63.623047\" xlink:href=\"#DejaVuSans-46\"/>\n     <use x=\"95.410156\" xlink:href=\"#DejaVuSans-55\"/>\n     <use x=\"159.033203\" xlink:href=\"#DejaVuSans-57\"/>\n    </g>\n   </g>\n   <g id=\"text_343\">\n    <!-- 0.065 -->\n    <g style=\"fill:#ffffff;\" transform=\"translate(120.392768 103.064308)scale(0.1 -0.1)\">\n     <use xlink:href=\"#DejaVuSans-48\"/>\n     <use x=\"63.623047\" xlink:href=\"#DejaVuSans-46\"/>\n     <use x=\"95.410156\" xlink:href=\"#DejaVuSans-48\"/>\n     <use x=\"159.033203\" xlink:href=\"#DejaVuSans-54\"/>\n     <use x=\"222.65625\" xlink:href=\"#DejaVuSans-53\"/>\n    </g>\n   </g>\n   <g id=\"text_344\">\n    <!-- 0.051 -->\n    <g style=\"fill:#ffffff;\" transform=\"translate(129.958482 103.064308)scale(0.1 -0.1)\">\n     <use xlink:href=\"#DejaVuSans-48\"/>\n     <use x=\"63.623047\" xlink:href=\"#DejaVuSans-46\"/>\n     <use x=\"95.410156\" xlink:href=\"#DejaVuSans-48\"/>\n     <use x=\"159.033203\" xlink:href=\"#DejaVuSans-53\"/>\n     <use x=\"222.65625\" xlink:href=\"#DejaVuSans-49\"/>\n    </g>\n   </g>\n   <g id=\"text_345\">\n    <!-- -0.016 -->\n    <g style=\"fill:#ffffff;\" transform=\"translate(137.72029 103.064308)scale(0.1 -0.1)\">\n     <use xlink:href=\"#DejaVuSans-45\"/>\n     <use x=\"36.083984\" xlink:href=\"#DejaVuSans-48\"/>\n     <use x=\"99.707031\" xlink:href=\"#DejaVuSans-46\"/>\n     <use x=\"131.494141\" xlink:href=\"#DejaVuSans-48\"/>\n     <use x=\"195.117188\" xlink:href=\"#DejaVuSans-49\"/>\n     <use x=\"258.740234\" xlink:href=\"#DejaVuSans-54\"/>\n    </g>\n   </g>\n   <g id=\"text_346\">\n    <!-- 0.43 -->\n    <g style=\"fill:#ffffff;\" transform=\"translate(152.271161 103.064308)scale(0.1 -0.1)\">\n     <use xlink:href=\"#DejaVuSans-48\"/>\n     <use x=\"63.623047\" xlink:href=\"#DejaVuSans-46\"/>\n     <use x=\"95.410156\" xlink:href=\"#DejaVuSans-52\"/>\n     <use x=\"159.033203\" xlink:href=\"#DejaVuSans-51\"/>\n    </g>\n   </g>\n   <g id=\"text_347\">\n    <!-- 0.28 -->\n    <g style=\"fill:#ffffff;\" transform=\"translate(161.836875 103.064308)scale(0.1 -0.1)\">\n     <use xlink:href=\"#DejaVuSans-48\"/>\n     <use x=\"63.623047\" xlink:href=\"#DejaVuSans-46\"/>\n     <use x=\"95.410156\" xlink:href=\"#DejaVuSans-50\"/>\n     <use x=\"159.033203\" xlink:href=\"#DejaVuSans-56\"/>\n    </g>\n   </g>\n   <g id=\"text_348\">\n    <!-- 1 -->\n    <g style=\"fill:#262626;\" transform=\"translate(179.354152 103.064308)scale(0.1 -0.1)\">\n     <use xlink:href=\"#DejaVuSans-49\"/>\n    </g>\n   </g>\n   <g id=\"text_349\">\n    <!-- 0.23 -->\n    <g style=\"fill:#ffffff;\" transform=\"translate(180.968304 103.064308)scale(0.1 -0.1)\">\n     <use xlink:href=\"#DejaVuSans-48\"/>\n     <use x=\"63.623047\" xlink:href=\"#DejaVuSans-46\"/>\n     <use x=\"95.410156\" xlink:href=\"#DejaVuSans-50\"/>\n     <use x=\"159.033203\" xlink:href=\"#DejaVuSans-51\"/>\n    </g>\n   </g>\n   <g id=\"text_350\">\n    <!-- 0.27 -->\n    <g style=\"fill:#ffffff;\" transform=\"translate(190.534018 103.064308)scale(0.1 -0.1)\">\n     <use xlink:href=\"#DejaVuSans-48\"/>\n     <use x=\"63.623047\" xlink:href=\"#DejaVuSans-46\"/>\n     <use x=\"95.410156\" xlink:href=\"#DejaVuSans-50\"/>\n     <use x=\"159.033203\" xlink:href=\"#DejaVuSans-55\"/>\n    </g>\n   </g>\n   <g id=\"text_351\">\n    <!-- -0.16 -->\n    <g style=\"fill:#ffffff;\" transform=\"translate(198.295826 103.064308)scale(0.1 -0.1)\">\n     <use xlink:href=\"#DejaVuSans-45\"/>\n     <use x=\"36.083984\" xlink:href=\"#DejaVuSans-48\"/>\n     <use x=\"99.707031\" xlink:href=\"#DejaVuSans-46\"/>\n     <use x=\"131.494141\" xlink:href=\"#DejaVuSans-49\"/>\n     <use x=\"195.117188\" xlink:href=\"#DejaVuSans-54\"/>\n    </g>\n   </g>\n   <g id=\"text_352\">\n    <!-- 0.4 -->\n    <g style=\"fill:#ffffff;\" transform=\"translate(212.846696 103.064308)scale(0.1 -0.1)\">\n     <use xlink:href=\"#DejaVuSans-48\"/>\n     <use x=\"63.623047\" xlink:href=\"#DejaVuSans-46\"/>\n     <use x=\"95.410156\" xlink:href=\"#DejaVuSans-52\"/>\n    </g>\n   </g>\n   <g id=\"text_353\">\n    <!-- 0.46 -->\n    <g style=\"fill:#ffffff;\" transform=\"translate(219.231161 103.064308)scale(0.1 -0.1)\">\n     <use xlink:href=\"#DejaVuSans-48\"/>\n     <use x=\"63.623047\" xlink:href=\"#DejaVuSans-46\"/>\n     <use x=\"95.410156\" xlink:href=\"#DejaVuSans-52\"/>\n     <use x=\"159.033203\" xlink:href=\"#DejaVuSans-54\"/>\n    </g>\n   </g>\n   <g id=\"text_354\">\n    <!-- 0.49 -->\n    <g style=\"fill:#ffffff;\" transform=\"translate(228.796875 103.064308)scale(0.1 -0.1)\">\n     <use xlink:href=\"#DejaVuSans-48\"/>\n     <use x=\"63.623047\" xlink:href=\"#DejaVuSans-46\"/>\n     <use x=\"95.410156\" xlink:href=\"#DejaVuSans-52\"/>\n     <use x=\"159.033203\" xlink:href=\"#DejaVuSans-57\"/>\n    </g>\n   </g>\n   <g id=\"text_355\">\n    <!-- 0.11 -->\n    <g style=\"fill:#ffffff;\" transform=\"translate(238.362589 103.064308)scale(0.1 -0.1)\">\n     <use xlink:href=\"#DejaVuSans-48\"/>\n     <use x=\"63.623047\" xlink:href=\"#DejaVuSans-46\"/>\n     <use x=\"95.410156\" xlink:href=\"#DejaVuSans-49\"/>\n     <use x=\"159.033203\" xlink:href=\"#DejaVuSans-49\"/>\n    </g>\n   </g>\n   <g id=\"text_356\">\n    <!-- 0.15 -->\n    <g style=\"fill:#ffffff;\" transform=\"translate(247.928304 103.064308)scale(0.1 -0.1)\">\n     <use xlink:href=\"#DejaVuSans-48\"/>\n     <use x=\"63.623047\" xlink:href=\"#DejaVuSans-46\"/>\n     <use x=\"95.410156\" xlink:href=\"#DejaVuSans-49\"/>\n     <use x=\"159.033203\" xlink:href=\"#DejaVuSans-53\"/>\n    </g>\n   </g>\n   <g id=\"text_357\">\n    <!-- 0.36 -->\n    <g style=\"fill:#ffffff;\" transform=\"translate(257.494018 103.064308)scale(0.1 -0.1)\">\n     <use xlink:href=\"#DejaVuSans-48\"/>\n     <use x=\"63.623047\" xlink:href=\"#DejaVuSans-46\"/>\n     <use x=\"95.410156\" xlink:href=\"#DejaVuSans-51\"/>\n     <use x=\"159.033203\" xlink:href=\"#DejaVuSans-54\"/>\n    </g>\n   </g>\n   <g id=\"text_358\">\n    <!-- 0.21 -->\n    <g style=\"fill:#ffffff;\" transform=\"translate(267.059732 103.064308)scale(0.1 -0.1)\">\n     <use xlink:href=\"#DejaVuSans-48\"/>\n     <use x=\"63.623047\" xlink:href=\"#DejaVuSans-46\"/>\n     <use x=\"95.410156\" xlink:href=\"#DejaVuSans-50\"/>\n     <use x=\"159.033203\" xlink:href=\"#DejaVuSans-49\"/>\n    </g>\n   </g>\n   <g id=\"text_359\">\n    <!-- 0.23 -->\n    <g style=\"fill:#ffffff;\" transform=\"translate(276.625446 103.064308)scale(0.1 -0.1)\">\n     <use xlink:href=\"#DejaVuSans-48\"/>\n     <use x=\"63.623047\" xlink:href=\"#DejaVuSans-46\"/>\n     <use x=\"95.410156\" xlink:href=\"#DejaVuSans-50\"/>\n     <use x=\"159.033203\" xlink:href=\"#DejaVuSans-51\"/>\n    </g>\n   </g>\n   <g id=\"text_360\">\n    <!-- 0.35 -->\n    <g style=\"fill:#ffffff;\" transform=\"translate(286.191161 103.064308)scale(0.1 -0.1)\">\n     <use xlink:href=\"#DejaVuSans-48\"/>\n     <use x=\"63.623047\" xlink:href=\"#DejaVuSans-46\"/>\n     <use x=\"95.410156\" xlink:href=\"#DejaVuSans-51\"/>\n     <use x=\"159.033203\" xlink:href=\"#DejaVuSans-53\"/>\n    </g>\n   </g>\n   <g id=\"text_361\">\n    <!-- 0.04 -->\n    <g style=\"fill:#ffffff;\" transform=\"translate(295.756875 103.064308)scale(0.1 -0.1)\">\n     <use xlink:href=\"#DejaVuSans-48\"/>\n     <use x=\"63.623047\" xlink:href=\"#DejaVuSans-46\"/>\n     <use x=\"95.410156\" xlink:href=\"#DejaVuSans-48\"/>\n     <use x=\"159.033203\" xlink:href=\"#DejaVuSans-52\"/>\n    </g>\n   </g>\n   <g id=\"text_362\">\n    <!-- 0.25 -->\n    <g style=\"fill:#ffffff;\" transform=\"translate(305.322589 103.064308)scale(0.1 -0.1)\">\n     <use xlink:href=\"#DejaVuSans-48\"/>\n     <use x=\"63.623047\" xlink:href=\"#DejaVuSans-46\"/>\n     <use x=\"95.410156\" xlink:href=\"#DejaVuSans-50\"/>\n     <use x=\"159.033203\" xlink:href=\"#DejaVuSans-53\"/>\n    </g>\n   </g>\n   <g id=\"text_363\">\n    <!-- 0.26 -->\n    <g style=\"fill:#ffffff;\" transform=\"translate(314.888304 103.064308)scale(0.1 -0.1)\">\n     <use xlink:href=\"#DejaVuSans-48\"/>\n     <use x=\"63.623047\" xlink:href=\"#DejaVuSans-46\"/>\n     <use x=\"95.410156\" xlink:href=\"#DejaVuSans-50\"/>\n     <use x=\"159.033203\" xlink:href=\"#DejaVuSans-54\"/>\n    </g>\n   </g>\n   <g id=\"text_364\">\n    <!-- -0.3 -->\n    <g style=\"fill:#ffffff;\" transform=\"translate(325.831362 103.064308)scale(0.1 -0.1)\">\n     <use xlink:href=\"#DejaVuSans-45\"/>\n     <use x=\"36.083984\" xlink:href=\"#DejaVuSans-48\"/>\n     <use x=\"99.707031\" xlink:href=\"#DejaVuSans-46\"/>\n     <use x=\"131.494141\" xlink:href=\"#DejaVuSans-51\"/>\n    </g>\n   </g>\n   <g id=\"text_365\">\n    <!-- 0.29 -->\n    <g style=\"fill:#ffffff;\" transform=\"translate(66.179732 110.830022)scale(0.1 -0.1)\">\n     <use xlink:href=\"#DejaVuSans-48\"/>\n     <use x=\"63.623047\" xlink:href=\"#DejaVuSans-46\"/>\n     <use x=\"95.410156\" xlink:href=\"#DejaVuSans-50\"/>\n     <use x=\"159.033203\" xlink:href=\"#DejaVuSans-57\"/>\n    </g>\n   </g>\n   <g id=\"text_366\">\n    <!-- 0.46 -->\n    <g style=\"fill:#ffffff;\" transform=\"translate(75.745446 110.830022)scale(0.1 -0.1)\">\n     <use xlink:href=\"#DejaVuSans-48\"/>\n     <use x=\"63.623047\" xlink:href=\"#DejaVuSans-46\"/>\n     <use x=\"95.410156\" xlink:href=\"#DejaVuSans-52\"/>\n     <use x=\"159.033203\" xlink:href=\"#DejaVuSans-54\"/>\n    </g>\n   </g>\n   <g id=\"text_367\">\n    <!-- -0.14 -->\n    <g style=\"fill:#ffffff;\" transform=\"translate(83.507254 110.830022)scale(0.1 -0.1)\">\n     <use xlink:href=\"#DejaVuSans-45\"/>\n     <use x=\"36.083984\" xlink:href=\"#DejaVuSans-48\"/>\n     <use x=\"99.707031\" xlink:href=\"#DejaVuSans-46\"/>\n     <use x=\"131.494141\" xlink:href=\"#DejaVuSans-49\"/>\n     <use x=\"195.117188\" xlink:href=\"#DejaVuSans-52\"/>\n    </g>\n   </g>\n   <g id=\"text_368\">\n    <!-- 0.79 -->\n    <g style=\"fill:#262626;\" transform=\"translate(94.876875 110.830022)scale(0.1 -0.1)\">\n     <use xlink:href=\"#DejaVuSans-48\"/>\n     <use x=\"63.623047\" xlink:href=\"#DejaVuSans-46\"/>\n     <use x=\"95.410156\" xlink:href=\"#DejaVuSans-55\"/>\n     <use x=\"159.033203\" xlink:href=\"#DejaVuSans-57\"/>\n    </g>\n   </g>\n   <g id=\"text_369\">\n    <!-- 0.78 -->\n    <g style=\"fill:#262626;\" transform=\"translate(104.442589 110.830022)scale(0.1 -0.1)\">\n     <use xlink:href=\"#DejaVuSans-48\"/>\n     <use x=\"63.623047\" xlink:href=\"#DejaVuSans-46\"/>\n     <use x=\"95.410156\" xlink:href=\"#DejaVuSans-55\"/>\n     <use x=\"159.033203\" xlink:href=\"#DejaVuSans-56\"/>\n    </g>\n   </g>\n   <g id=\"text_370\">\n    <!-- 0.23 -->\n    <g style=\"fill:#ffffff;\" transform=\"translate(114.008304 110.830022)scale(0.1 -0.1)\">\n     <use xlink:href=\"#DejaVuSans-48\"/>\n     <use x=\"63.623047\" xlink:href=\"#DejaVuSans-46\"/>\n     <use x=\"95.410156\" xlink:href=\"#DejaVuSans-50\"/>\n     <use x=\"159.033203\" xlink:href=\"#DejaVuSans-51\"/>\n    </g>\n   </g>\n   <g id=\"text_371\">\n    <!-- 0.35 -->\n    <g style=\"fill:#ffffff;\" transform=\"translate(123.574018 110.830022)scale(0.1 -0.1)\">\n     <use xlink:href=\"#DejaVuSans-48\"/>\n     <use x=\"63.623047\" xlink:href=\"#DejaVuSans-46\"/>\n     <use x=\"95.410156\" xlink:href=\"#DejaVuSans-51\"/>\n     <use x=\"159.033203\" xlink:href=\"#DejaVuSans-53\"/>\n    </g>\n   </g>\n   <g id=\"text_372\">\n    <!-- 0.38 -->\n    <g style=\"fill:#ffffff;\" transform=\"translate(133.139732 110.830022)scale(0.1 -0.1)\">\n     <use xlink:href=\"#DejaVuSans-48\"/>\n     <use x=\"63.623047\" xlink:href=\"#DejaVuSans-46\"/>\n     <use x=\"95.410156\" xlink:href=\"#DejaVuSans-51\"/>\n     <use x=\"159.033203\" xlink:href=\"#DejaVuSans-56\"/>\n    </g>\n   </g>\n   <g id=\"text_373\">\n    <!-- -0.00056 -->\n    <g style=\"fill:#ffffff;\" transform=\"translate(131.35779 110.830022)scale(0.1 -0.1)\">\n     <use xlink:href=\"#DejaVuSans-45\"/>\n     <use x=\"36.083984\" xlink:href=\"#DejaVuSans-48\"/>\n     <use x=\"99.707031\" xlink:href=\"#DejaVuSans-46\"/>\n     <use x=\"131.494141\" xlink:href=\"#DejaVuSans-48\"/>\n     <use x=\"195.117188\" xlink:href=\"#DejaVuSans-48\"/>\n     <use x=\"258.740234\" xlink:href=\"#DejaVuSans-48\"/>\n     <use x=\"322.363281\" xlink:href=\"#DejaVuSans-53\"/>\n     <use x=\"385.986328\" xlink:href=\"#DejaVuSans-54\"/>\n    </g>\n   </g>\n   <g id=\"text_374\">\n    <!-- 0.76 -->\n    <g style=\"fill:#262626;\" transform=\"translate(152.271161 110.830022)scale(0.1 -0.1)\">\n     <use xlink:href=\"#DejaVuSans-48\"/>\n     <use x=\"63.623047\" xlink:href=\"#DejaVuSans-46\"/>\n     <use x=\"95.410156\" xlink:href=\"#DejaVuSans-55\"/>\n     <use x=\"159.033203\" xlink:href=\"#DejaVuSans-54\"/>\n    </g>\n   </g>\n   <g id=\"text_375\">\n    <!-- 0.76 -->\n    <g style=\"fill:#262626;\" transform=\"translate(161.836875 110.830022)scale(0.1 -0.1)\">\n     <use xlink:href=\"#DejaVuSans-48\"/>\n     <use x=\"63.623047\" xlink:href=\"#DejaVuSans-46\"/>\n     <use x=\"95.410156\" xlink:href=\"#DejaVuSans-55\"/>\n     <use x=\"159.033203\" xlink:href=\"#DejaVuSans-54\"/>\n    </g>\n   </g>\n   <g id=\"text_376\">\n    <!-- 0.23 -->\n    <g style=\"fill:#ffffff;\" transform=\"translate(171.402589 110.830022)scale(0.1 -0.1)\">\n     <use xlink:href=\"#DejaVuSans-48\"/>\n     <use x=\"63.623047\" xlink:href=\"#DejaVuSans-46\"/>\n     <use x=\"95.410156\" xlink:href=\"#DejaVuSans-50\"/>\n     <use x=\"159.033203\" xlink:href=\"#DejaVuSans-51\"/>\n    </g>\n   </g>\n   <g id=\"text_377\">\n    <!-- 1 -->\n    <g style=\"fill:#262626;\" transform=\"translate(188.919866 110.830022)scale(0.1 -0.1)\">\n     <use xlink:href=\"#DejaVuSans-49\"/>\n    </g>\n   </g>\n   <g id=\"text_378\">\n    <!-- 0.98 -->\n    <g style=\"fill:#262626;\" transform=\"translate(190.534018 110.830022)scale(0.1 -0.1)\">\n     <use xlink:href=\"#DejaVuSans-48\"/>\n     <use x=\"63.623047\" xlink:href=\"#DejaVuSans-46\"/>\n     <use x=\"95.410156\" xlink:href=\"#DejaVuSans-57\"/>\n     <use x=\"159.033203\" xlink:href=\"#DejaVuSans-56\"/>\n    </g>\n   </g>\n   <g id=\"text_379\">\n    <!-- 0.32 -->\n    <g style=\"fill:#ffffff;\" transform=\"translate(200.099732 110.830022)scale(0.1 -0.1)\">\n     <use xlink:href=\"#DejaVuSans-48\"/>\n     <use x=\"63.623047\" xlink:href=\"#DejaVuSans-46\"/>\n     <use x=\"95.410156\" xlink:href=\"#DejaVuSans-51\"/>\n     <use x=\"159.033203\" xlink:href=\"#DejaVuSans-50\"/>\n    </g>\n   </g>\n   <g id=\"text_380\">\n    <!-- 0.19 -->\n    <g style=\"fill:#ffffff;\" transform=\"translate(209.665446 110.830022)scale(0.1 -0.1)\">\n     <use xlink:href=\"#DejaVuSans-48\"/>\n     <use x=\"63.623047\" xlink:href=\"#DejaVuSans-46\"/>\n     <use x=\"95.410156\" xlink:href=\"#DejaVuSans-49\"/>\n     <use x=\"159.033203\" xlink:href=\"#DejaVuSans-57\"/>\n    </g>\n   </g>\n   <g id=\"text_381\">\n    <!-- 0.56 -->\n    <g style=\"fill:#ffffff;\" transform=\"translate(219.231161 110.830022)scale(0.1 -0.1)\">\n     <use xlink:href=\"#DejaVuSans-48\"/>\n     <use x=\"63.623047\" xlink:href=\"#DejaVuSans-46\"/>\n     <use x=\"95.410156\" xlink:href=\"#DejaVuSans-53\"/>\n     <use x=\"159.033203\" xlink:href=\"#DejaVuSans-54\"/>\n    </g>\n   </g>\n   <g id=\"text_382\">\n    <!-- 0.49 -->\n    <g style=\"fill:#ffffff;\" transform=\"translate(228.796875 110.830022)scale(0.1 -0.1)\">\n     <use xlink:href=\"#DejaVuSans-48\"/>\n     <use x=\"63.623047\" xlink:href=\"#DejaVuSans-46\"/>\n     <use x=\"95.410156\" xlink:href=\"#DejaVuSans-52\"/>\n     <use x=\"159.033203\" xlink:href=\"#DejaVuSans-57\"/>\n    </g>\n   </g>\n   <g id=\"text_383\">\n    <!-- 0.55 -->\n    <g style=\"fill:#ffffff;\" transform=\"translate(238.362589 110.830022)scale(0.1 -0.1)\">\n     <use xlink:href=\"#DejaVuSans-48\"/>\n     <use x=\"63.623047\" xlink:href=\"#DejaVuSans-46\"/>\n     <use x=\"95.410156\" xlink:href=\"#DejaVuSans-53\"/>\n     <use x=\"159.033203\" xlink:href=\"#DejaVuSans-53\"/>\n    </g>\n   </g>\n   <g id=\"text_384\">\n    <!-- 0.4 -->\n    <g style=\"fill:#ffffff;\" transform=\"translate(251.109554 110.830022)scale(0.1 -0.1)\">\n     <use xlink:href=\"#DejaVuSans-48\"/>\n     <use x=\"63.623047\" xlink:href=\"#DejaVuSans-46\"/>\n     <use x=\"95.410156\" xlink:href=\"#DejaVuSans-52\"/>\n    </g>\n   </g>\n   <g id=\"text_385\">\n    <!-- 0.23 -->\n    <g style=\"fill:#ffffff;\" transform=\"translate(257.494018 110.830022)scale(0.1 -0.1)\">\n     <use xlink:href=\"#DejaVuSans-48\"/>\n     <use x=\"63.623047\" xlink:href=\"#DejaVuSans-46\"/>\n     <use x=\"95.410156\" xlink:href=\"#DejaVuSans-50\"/>\n     <use x=\"159.033203\" xlink:href=\"#DejaVuSans-51\"/>\n    </g>\n   </g>\n   <g id=\"text_386\">\n    <!-- 0.72 -->\n    <g style=\"fill:#262626;\" transform=\"translate(267.059732 110.830022)scale(0.1 -0.1)\">\n     <use xlink:href=\"#DejaVuSans-48\"/>\n     <use x=\"63.623047\" xlink:href=\"#DejaVuSans-46\"/>\n     <use x=\"95.410156\" xlink:href=\"#DejaVuSans-55\"/>\n     <use x=\"159.033203\" xlink:href=\"#DejaVuSans-50\"/>\n    </g>\n   </g>\n   <g id=\"text_387\">\n    <!-- 0.36 -->\n    <g style=\"fill:#ffffff;\" transform=\"translate(276.625446 110.830022)scale(0.1 -0.1)\">\n     <use xlink:href=\"#DejaVuSans-48\"/>\n     <use x=\"63.623047\" xlink:href=\"#DejaVuSans-46\"/>\n     <use x=\"95.410156\" xlink:href=\"#DejaVuSans-51\"/>\n     <use x=\"159.033203\" xlink:href=\"#DejaVuSans-54\"/>\n    </g>\n   </g>\n   <g id=\"text_388\">\n    <!-- 0.86 -->\n    <g style=\"fill:#262626;\" transform=\"translate(286.191161 110.830022)scale(0.1 -0.1)\">\n     <use xlink:href=\"#DejaVuSans-48\"/>\n     <use x=\"63.623047\" xlink:href=\"#DejaVuSans-46\"/>\n     <use x=\"95.410156\" xlink:href=\"#DejaVuSans-56\"/>\n     <use x=\"159.033203\" xlink:href=\"#DejaVuSans-54\"/>\n    </g>\n   </g>\n   <g id=\"text_389\">\n    <!-- -0.058 -->\n    <g style=\"fill:#ffffff;\" transform=\"translate(290.771719 110.830022)scale(0.1 -0.1)\">\n     <use xlink:href=\"#DejaVuSans-45\"/>\n     <use x=\"36.083984\" xlink:href=\"#DejaVuSans-48\"/>\n     <use x=\"99.707031\" xlink:href=\"#DejaVuSans-46\"/>\n     <use x=\"131.494141\" xlink:href=\"#DejaVuSans-48\"/>\n     <use x=\"195.117188\" xlink:href=\"#DejaVuSans-53\"/>\n     <use x=\"258.740234\" xlink:href=\"#DejaVuSans-56\"/>\n    </g>\n   </g>\n   <g id=\"text_390\">\n    <!-- 0.51 -->\n    <g style=\"fill:#ffffff;\" transform=\"translate(305.322589 110.830022)scale(0.1 -0.1)\">\n     <use xlink:href=\"#DejaVuSans-48\"/>\n     <use x=\"63.623047\" xlink:href=\"#DejaVuSans-46\"/>\n     <use x=\"95.410156\" xlink:href=\"#DejaVuSans-53\"/>\n     <use x=\"159.033203\" xlink:href=\"#DejaVuSans-49\"/>\n    </g>\n   </g>\n   <g id=\"text_391\">\n    <!-- 0.6 -->\n    <g style=\"fill:#262626;\" transform=\"translate(318.069554 110.830022)scale(0.1 -0.1)\">\n     <use xlink:href=\"#DejaVuSans-48\"/>\n     <use x=\"63.623047\" xlink:href=\"#DejaVuSans-46\"/>\n     <use x=\"95.410156\" xlink:href=\"#DejaVuSans-54\"/>\n    </g>\n   </g>\n   <g id=\"text_392\">\n    <!-- -0.56 -->\n    <g style=\"fill:#ffffff;\" transform=\"translate(322.650112 110.830022)scale(0.1 -0.1)\">\n     <use xlink:href=\"#DejaVuSans-45\"/>\n     <use x=\"36.083984\" xlink:href=\"#DejaVuSans-48\"/>\n     <use x=\"99.707031\" xlink:href=\"#DejaVuSans-46\"/>\n     <use x=\"131.494141\" xlink:href=\"#DejaVuSans-53\"/>\n     <use x=\"195.117188\" xlink:href=\"#DejaVuSans-54\"/>\n    </g>\n   </g>\n   <g id=\"text_393\">\n    <!-- 0.32 -->\n    <g style=\"fill:#ffffff;\" transform=\"translate(66.179732 118.595737)scale(0.1 -0.1)\">\n     <use xlink:href=\"#DejaVuSans-48\"/>\n     <use x=\"63.623047\" xlink:href=\"#DejaVuSans-46\"/>\n     <use x=\"95.410156\" xlink:href=\"#DejaVuSans-51\"/>\n     <use x=\"159.033203\" xlink:href=\"#DejaVuSans-50\"/>\n    </g>\n   </g>\n   <g id=\"text_394\">\n    <!-- 0.49 -->\n    <g style=\"fill:#ffffff;\" transform=\"translate(75.745446 118.595737)scale(0.1 -0.1)\">\n     <use xlink:href=\"#DejaVuSans-48\"/>\n     <use x=\"63.623047\" xlink:href=\"#DejaVuSans-46\"/>\n     <use x=\"95.410156\" xlink:href=\"#DejaVuSans-52\"/>\n     <use x=\"159.033203\" xlink:href=\"#DejaVuSans-57\"/>\n    </g>\n   </g>\n   <g id=\"text_395\">\n    <!-- -0.17 -->\n    <g style=\"fill:#ffffff;\" transform=\"translate(83.507254 118.595737)scale(0.1 -0.1)\">\n     <use xlink:href=\"#DejaVuSans-45\"/>\n     <use x=\"36.083984\" xlink:href=\"#DejaVuSans-48\"/>\n     <use x=\"99.707031\" xlink:href=\"#DejaVuSans-46\"/>\n     <use x=\"131.494141\" xlink:href=\"#DejaVuSans-49\"/>\n     <use x=\"195.117188\" xlink:href=\"#DejaVuSans-55\"/>\n    </g>\n   </g>\n   <g id=\"text_396\">\n    <!-- 0.79 -->\n    <g style=\"fill:#262626;\" transform=\"translate(94.876875 118.595737)scale(0.1 -0.1)\">\n     <use xlink:href=\"#DejaVuSans-48\"/>\n     <use x=\"63.623047\" xlink:href=\"#DejaVuSans-46\"/>\n     <use x=\"95.410156\" xlink:href=\"#DejaVuSans-55\"/>\n     <use x=\"159.033203\" xlink:href=\"#DejaVuSans-57\"/>\n    </g>\n   </g>\n   <g id=\"text_397\">\n    <!-- 0.77 -->\n    <g style=\"fill:#262626;\" transform=\"translate(104.442589 118.595737)scale(0.1 -0.1)\">\n     <use xlink:href=\"#DejaVuSans-48\"/>\n     <use x=\"63.623047\" xlink:href=\"#DejaVuSans-46\"/>\n     <use x=\"95.410156\" xlink:href=\"#DejaVuSans-55\"/>\n     <use x=\"159.033203\" xlink:href=\"#DejaVuSans-55\"/>\n    </g>\n   </g>\n   <g id=\"text_398\">\n    <!-- 0.29 -->\n    <g style=\"fill:#ffffff;\" transform=\"translate(114.008304 118.595737)scale(0.1 -0.1)\">\n     <use xlink:href=\"#DejaVuSans-48\"/>\n     <use x=\"63.623047\" xlink:href=\"#DejaVuSans-46\"/>\n     <use x=\"95.410156\" xlink:href=\"#DejaVuSans-50\"/>\n     <use x=\"159.033203\" xlink:href=\"#DejaVuSans-57\"/>\n    </g>\n   </g>\n   <g id=\"text_399\">\n    <!-- 0.28 -->\n    <g style=\"fill:#ffffff;\" transform=\"translate(123.574018 118.595737)scale(0.1 -0.1)\">\n     <use xlink:href=\"#DejaVuSans-48\"/>\n     <use x=\"63.623047\" xlink:href=\"#DejaVuSans-46\"/>\n     <use x=\"95.410156\" xlink:href=\"#DejaVuSans-50\"/>\n     <use x=\"159.033203\" xlink:href=\"#DejaVuSans-56\"/>\n    </g>\n   </g>\n   <g id=\"text_400\">\n    <!-- 0.32 -->\n    <g style=\"fill:#ffffff;\" transform=\"translate(133.139732 118.595737)scale(0.1 -0.1)\">\n     <use xlink:href=\"#DejaVuSans-48\"/>\n     <use x=\"63.623047\" xlink:href=\"#DejaVuSans-46\"/>\n     <use x=\"95.410156\" xlink:href=\"#DejaVuSans-51\"/>\n     <use x=\"159.033203\" xlink:href=\"#DejaVuSans-50\"/>\n    </g>\n   </g>\n   <g id=\"text_401\">\n    <!-- -0.041 -->\n    <g style=\"fill:#ffffff;\" transform=\"translate(137.72029 118.595737)scale(0.1 -0.1)\">\n     <use xlink:href=\"#DejaVuSans-45\"/>\n     <use x=\"36.083984\" xlink:href=\"#DejaVuSans-48\"/>\n     <use x=\"99.707031\" xlink:href=\"#DejaVuSans-46\"/>\n     <use x=\"131.494141\" xlink:href=\"#DejaVuSans-48\"/>\n     <use x=\"195.117188\" xlink:href=\"#DejaVuSans-52\"/>\n     <use x=\"258.740234\" xlink:href=\"#DejaVuSans-49\"/>\n    </g>\n   </g>\n   <g id=\"text_402\">\n    <!-- 0.8 -->\n    <g style=\"fill:#262626;\" transform=\"translate(155.452411 118.595737)scale(0.1 -0.1)\">\n     <use xlink:href=\"#DejaVuSans-48\"/>\n     <use x=\"63.623047\" xlink:href=\"#DejaVuSans-46\"/>\n     <use x=\"95.410156\" xlink:href=\"#DejaVuSans-56\"/>\n    </g>\n   </g>\n   <g id=\"text_403\">\n    <!-- 0.79 -->\n    <g style=\"fill:#262626;\" transform=\"translate(161.836875 118.595737)scale(0.1 -0.1)\">\n     <use xlink:href=\"#DejaVuSans-48\"/>\n     <use x=\"63.623047\" xlink:href=\"#DejaVuSans-46\"/>\n     <use x=\"95.410156\" xlink:href=\"#DejaVuSans-55\"/>\n     <use x=\"159.033203\" xlink:href=\"#DejaVuSans-57\"/>\n    </g>\n   </g>\n   <g id=\"text_404\">\n    <!-- 0.27 -->\n    <g style=\"fill:#ffffff;\" transform=\"translate(171.402589 118.595737)scale(0.1 -0.1)\">\n     <use xlink:href=\"#DejaVuSans-48\"/>\n     <use x=\"63.623047\" xlink:href=\"#DejaVuSans-46\"/>\n     <use x=\"95.410156\" xlink:href=\"#DejaVuSans-50\"/>\n     <use x=\"159.033203\" xlink:href=\"#DejaVuSans-55\"/>\n    </g>\n   </g>\n   <g id=\"text_405\">\n    <!-- 0.98 -->\n    <g style=\"fill:#262626;\" transform=\"translate(180.968304 118.595737)scale(0.1 -0.1)\">\n     <use xlink:href=\"#DejaVuSans-48\"/>\n     <use x=\"63.623047\" xlink:href=\"#DejaVuSans-46\"/>\n     <use x=\"95.410156\" xlink:href=\"#DejaVuSans-57\"/>\n     <use x=\"159.033203\" xlink:href=\"#DejaVuSans-56\"/>\n    </g>\n   </g>\n   <g id=\"text_406\">\n    <!-- 1 -->\n    <g style=\"fill:#262626;\" transform=\"translate(198.48558 118.595737)scale(0.1 -0.1)\">\n     <use xlink:href=\"#DejaVuSans-49\"/>\n    </g>\n   </g>\n   <g id=\"text_407\">\n    <!-- 0.18 -->\n    <g style=\"fill:#ffffff;\" transform=\"translate(200.099732 118.595737)scale(0.1 -0.1)\">\n     <use xlink:href=\"#DejaVuSans-48\"/>\n     <use x=\"63.623047\" xlink:href=\"#DejaVuSans-46\"/>\n     <use x=\"95.410156\" xlink:href=\"#DejaVuSans-49\"/>\n     <use x=\"159.033203\" xlink:href=\"#DejaVuSans-56\"/>\n    </g>\n   </g>\n   <g id=\"text_408\">\n    <!-- 0.29 -->\n    <g style=\"fill:#ffffff;\" transform=\"translate(209.665446 118.595737)scale(0.1 -0.1)\">\n     <use xlink:href=\"#DejaVuSans-48\"/>\n     <use x=\"63.623047\" xlink:href=\"#DejaVuSans-46\"/>\n     <use x=\"95.410156\" xlink:href=\"#DejaVuSans-50\"/>\n     <use x=\"159.033203\" xlink:href=\"#DejaVuSans-57\"/>\n    </g>\n   </g>\n   <g id=\"text_409\">\n    <!-- 0.64 -->\n    <g style=\"fill:#262626;\" transform=\"translate(219.231161 118.595737)scale(0.1 -0.1)\">\n     <use xlink:href=\"#DejaVuSans-48\"/>\n     <use x=\"63.623047\" xlink:href=\"#DejaVuSans-46\"/>\n     <use x=\"95.410156\" xlink:href=\"#DejaVuSans-54\"/>\n     <use x=\"159.033203\" xlink:href=\"#DejaVuSans-52\"/>\n    </g>\n   </g>\n   <g id=\"text_410\">\n    <!-- 0.59 -->\n    <g style=\"fill:#262626;\" transform=\"translate(228.796875 118.595737)scale(0.1 -0.1)\">\n     <use xlink:href=\"#DejaVuSans-48\"/>\n     <use x=\"63.623047\" xlink:href=\"#DejaVuSans-46\"/>\n     <use x=\"95.410156\" xlink:href=\"#DejaVuSans-53\"/>\n     <use x=\"159.033203\" xlink:href=\"#DejaVuSans-57\"/>\n    </g>\n   </g>\n   <g id=\"text_411\">\n    <!-- 0.55 -->\n    <g style=\"fill:#ffffff;\" transform=\"translate(238.362589 118.595737)scale(0.1 -0.1)\">\n     <use xlink:href=\"#DejaVuSans-48\"/>\n     <use x=\"63.623047\" xlink:href=\"#DejaVuSans-46\"/>\n     <use x=\"95.410156\" xlink:href=\"#DejaVuSans-53\"/>\n     <use x=\"159.033203\" xlink:href=\"#DejaVuSans-53\"/>\n    </g>\n   </g>\n   <g id=\"text_412\">\n    <!-- 0.41 -->\n    <g style=\"fill:#ffffff;\" transform=\"translate(247.928304 118.595737)scale(0.1 -0.1)\">\n     <use xlink:href=\"#DejaVuSans-48\"/>\n     <use x=\"63.623047\" xlink:href=\"#DejaVuSans-46\"/>\n     <use x=\"95.410156\" xlink:href=\"#DejaVuSans-52\"/>\n     <use x=\"159.033203\" xlink:href=\"#DejaVuSans-49\"/>\n    </g>\n   </g>\n   <g id=\"text_413\">\n    <!-- 0.3 -->\n    <g style=\"fill:#ffffff;\" transform=\"translate(260.675268 118.595737)scale(0.1 -0.1)\">\n     <use xlink:href=\"#DejaVuSans-48\"/>\n     <use x=\"63.623047\" xlink:href=\"#DejaVuSans-46\"/>\n     <use x=\"95.410156\" xlink:href=\"#DejaVuSans-51\"/>\n    </g>\n   </g>\n   <g id=\"text_414\">\n    <!-- 0.73 -->\n    <g style=\"fill:#262626;\" transform=\"translate(267.059732 118.595737)scale(0.1 -0.1)\">\n     <use xlink:href=\"#DejaVuSans-48\"/>\n     <use x=\"63.623047\" xlink:href=\"#DejaVuSans-46\"/>\n     <use x=\"95.410156\" xlink:href=\"#DejaVuSans-55\"/>\n     <use x=\"159.033203\" xlink:href=\"#DejaVuSans-51\"/>\n    </g>\n   </g>\n   <g id=\"text_415\">\n    <!-- 0.39 -->\n    <g style=\"fill:#ffffff;\" transform=\"translate(276.625446 118.595737)scale(0.1 -0.1)\">\n     <use xlink:href=\"#DejaVuSans-48\"/>\n     <use x=\"63.623047\" xlink:href=\"#DejaVuSans-46\"/>\n     <use x=\"95.410156\" xlink:href=\"#DejaVuSans-51\"/>\n     <use x=\"159.033203\" xlink:href=\"#DejaVuSans-57\"/>\n    </g>\n   </g>\n   <g id=\"text_416\">\n    <!-- 0.85 -->\n    <g style=\"fill:#262626;\" transform=\"translate(286.191161 118.595737)scale(0.1 -0.1)\">\n     <use xlink:href=\"#DejaVuSans-48\"/>\n     <use x=\"63.623047\" xlink:href=\"#DejaVuSans-46\"/>\n     <use x=\"95.410156\" xlink:href=\"#DejaVuSans-56\"/>\n     <use x=\"159.033203\" xlink:href=\"#DejaVuSans-53\"/>\n    </g>\n   </g>\n   <g id=\"text_417\">\n    <!-- -0.089 -->\n    <g style=\"fill:#ffffff;\" transform=\"translate(290.771719 118.595737)scale(0.1 -0.1)\">\n     <use xlink:href=\"#DejaVuSans-45\"/>\n     <use x=\"36.083984\" xlink:href=\"#DejaVuSans-48\"/>\n     <use x=\"99.707031\" xlink:href=\"#DejaVuSans-46\"/>\n     <use x=\"131.494141\" xlink:href=\"#DejaVuSans-48\"/>\n     <use x=\"195.117188\" xlink:href=\"#DejaVuSans-56\"/>\n     <use x=\"258.740234\" xlink:href=\"#DejaVuSans-57\"/>\n    </g>\n   </g>\n   <g id=\"text_418\">\n    <!-- 0.54 -->\n    <g style=\"fill:#ffffff;\" transform=\"translate(305.322589 118.595737)scale(0.1 -0.1)\">\n     <use xlink:href=\"#DejaVuSans-48\"/>\n     <use x=\"63.623047\" xlink:href=\"#DejaVuSans-46\"/>\n     <use x=\"95.410156\" xlink:href=\"#DejaVuSans-53\"/>\n     <use x=\"159.033203\" xlink:href=\"#DejaVuSans-52\"/>\n    </g>\n   </g>\n   <g id=\"text_419\">\n    <!-- 0.61 -->\n    <g style=\"fill:#262626;\" transform=\"translate(314.888304 118.595737)scale(0.1 -0.1)\">\n     <use xlink:href=\"#DejaVuSans-48\"/>\n     <use x=\"63.623047\" xlink:href=\"#DejaVuSans-46\"/>\n     <use x=\"95.410156\" xlink:href=\"#DejaVuSans-54\"/>\n     <use x=\"159.033203\" xlink:href=\"#DejaVuSans-49\"/>\n    </g>\n   </g>\n   <g id=\"text_420\">\n    <!-- -0.58 -->\n    <g style=\"fill:#ffffff;\" transform=\"translate(322.650112 118.595737)scale(0.1 -0.1)\">\n     <use xlink:href=\"#DejaVuSans-45\"/>\n     <use x=\"36.083984\" xlink:href=\"#DejaVuSans-48\"/>\n     <use x=\"99.707031\" xlink:href=\"#DejaVuSans-46\"/>\n     <use x=\"131.494141\" xlink:href=\"#DejaVuSans-53\"/>\n     <use x=\"195.117188\" xlink:href=\"#DejaVuSans-56\"/>\n    </g>\n   </g>\n   <g id=\"text_421\">\n    <!-- 0.009 -->\n    <g style=\"fill:#ffffff;\" transform=\"translate(62.998482 126.361451)scale(0.1 -0.1)\">\n     <use xlink:href=\"#DejaVuSans-48\"/>\n     <use x=\"63.623047\" xlink:href=\"#DejaVuSans-46\"/>\n     <use x=\"95.410156\" xlink:href=\"#DejaVuSans-48\"/>\n     <use x=\"159.033203\" xlink:href=\"#DejaVuSans-48\"/>\n     <use x=\"222.65625\" xlink:href=\"#DejaVuSans-57\"/>\n    </g>\n   </g>\n   <g id=\"text_422\">\n    <!-- 0.044 -->\n    <g style=\"fill:#ffffff;\" transform=\"translate(72.564196 126.361451)scale(0.1 -0.1)\">\n     <use xlink:href=\"#DejaVuSans-48\"/>\n     <use x=\"63.623047\" xlink:href=\"#DejaVuSans-46\"/>\n     <use x=\"95.410156\" xlink:href=\"#DejaVuSans-48\"/>\n     <use x=\"159.033203\" xlink:href=\"#DejaVuSans-52\"/>\n     <use x=\"222.65625\" xlink:href=\"#DejaVuSans-52\"/>\n    </g>\n   </g>\n   <g id=\"text_423\">\n    <!-- 0.1 -->\n    <g style=\"fill:#ffffff;\" transform=\"translate(88.492411 126.361451)scale(0.1 -0.1)\">\n     <use xlink:href=\"#DejaVuSans-48\"/>\n     <use x=\"63.623047\" xlink:href=\"#DejaVuSans-46\"/>\n     <use x=\"95.410156\" xlink:href=\"#DejaVuSans-49\"/>\n    </g>\n   </g>\n   <g id=\"text_424\">\n    <!-- 0.22 -->\n    <g style=\"fill:#ffffff;\" transform=\"translate(94.876875 126.361451)scale(0.1 -0.1)\">\n     <use xlink:href=\"#DejaVuSans-48\"/>\n     <use x=\"63.623047\" xlink:href=\"#DejaVuSans-46\"/>\n     <use x=\"95.410156\" xlink:href=\"#DejaVuSans-50\"/>\n     <use x=\"159.033203\" xlink:href=\"#DejaVuSans-50\"/>\n    </g>\n   </g>\n   <g id=\"text_425\">\n    <!-- 0.29 -->\n    <g style=\"fill:#ffffff;\" transform=\"translate(104.442589 126.361451)scale(0.1 -0.1)\">\n     <use xlink:href=\"#DejaVuSans-48\"/>\n     <use x=\"63.623047\" xlink:href=\"#DejaVuSans-46\"/>\n     <use x=\"95.410156\" xlink:href=\"#DejaVuSans-50\"/>\n     <use x=\"159.033203\" xlink:href=\"#DejaVuSans-57\"/>\n    </g>\n   </g>\n   <g id=\"text_426\">\n    <!-- -0.16 -->\n    <g style=\"fill:#ffffff;\" transform=\"translate(112.204397 126.361451)scale(0.1 -0.1)\">\n     <use xlink:href=\"#DejaVuSans-45\"/>\n     <use x=\"36.083984\" xlink:href=\"#DejaVuSans-48\"/>\n     <use x=\"99.707031\" xlink:href=\"#DejaVuSans-46\"/>\n     <use x=\"131.494141\" xlink:href=\"#DejaVuSans-49\"/>\n     <use x=\"195.117188\" xlink:href=\"#DejaVuSans-54\"/>\n    </g>\n   </g>\n   <g id=\"text_427\">\n    <!-- 0.41 -->\n    <g style=\"fill:#ffffff;\" transform=\"translate(123.574018 126.361451)scale(0.1 -0.1)\">\n     <use xlink:href=\"#DejaVuSans-48\"/>\n     <use x=\"63.623047\" xlink:href=\"#DejaVuSans-46\"/>\n     <use x=\"95.410156\" xlink:href=\"#DejaVuSans-52\"/>\n     <use x=\"159.033203\" xlink:href=\"#DejaVuSans-49\"/>\n    </g>\n   </g>\n   <g id=\"text_428\">\n    <!-- 0.41 -->\n    <g style=\"fill:#ffffff;\" transform=\"translate(133.139732 126.361451)scale(0.1 -0.1)\">\n     <use xlink:href=\"#DejaVuSans-48\"/>\n     <use x=\"63.623047\" xlink:href=\"#DejaVuSans-46\"/>\n     <use x=\"95.410156\" xlink:href=\"#DejaVuSans-52\"/>\n     <use x=\"159.033203\" xlink:href=\"#DejaVuSans-49\"/>\n    </g>\n   </g>\n   <g id=\"text_429\">\n    <!-- 0.23 -->\n    <g style=\"fill:#ffffff;\" transform=\"translate(142.705446 126.361451)scale(0.1 -0.1)\">\n     <use xlink:href=\"#DejaVuSans-48\"/>\n     <use x=\"63.623047\" xlink:href=\"#DejaVuSans-46\"/>\n     <use x=\"95.410156\" xlink:href=\"#DejaVuSans-50\"/>\n     <use x=\"159.033203\" xlink:href=\"#DejaVuSans-51\"/>\n    </g>\n   </g>\n   <g id=\"text_430\">\n    <!-- 0.051 -->\n    <g style=\"fill:#ffffff;\" transform=\"translate(149.089911 126.361451)scale(0.1 -0.1)\">\n     <use xlink:href=\"#DejaVuSans-48\"/>\n     <use x=\"63.623047\" xlink:href=\"#DejaVuSans-46\"/>\n     <use x=\"95.410156\" xlink:href=\"#DejaVuSans-48\"/>\n     <use x=\"159.033203\" xlink:href=\"#DejaVuSans-53\"/>\n     <use x=\"222.65625\" xlink:href=\"#DejaVuSans-49\"/>\n    </g>\n   </g>\n   <g id=\"text_431\">\n    <!-- 0.093 -->\n    <g style=\"fill:#ffffff;\" transform=\"translate(158.655625 126.361451)scale(0.1 -0.1)\">\n     <use xlink:href=\"#DejaVuSans-48\"/>\n     <use x=\"63.623047\" xlink:href=\"#DejaVuSans-46\"/>\n     <use x=\"95.410156\" xlink:href=\"#DejaVuSans-48\"/>\n     <use x=\"159.033203\" xlink:href=\"#DejaVuSans-57\"/>\n     <use x=\"222.65625\" xlink:href=\"#DejaVuSans-51\"/>\n    </g>\n   </g>\n   <g id=\"text_432\">\n    <!-- -0.16 -->\n    <g style=\"fill:#ffffff;\" transform=\"translate(169.598683 126.361451)scale(0.1 -0.1)\">\n     <use xlink:href=\"#DejaVuSans-45\"/>\n     <use x=\"36.083984\" xlink:href=\"#DejaVuSans-48\"/>\n     <use x=\"99.707031\" xlink:href=\"#DejaVuSans-46\"/>\n     <use x=\"131.494141\" xlink:href=\"#DejaVuSans-49\"/>\n     <use x=\"195.117188\" xlink:href=\"#DejaVuSans-54\"/>\n    </g>\n   </g>\n   <g id=\"text_433\">\n    <!-- 0.32 -->\n    <g style=\"fill:#ffffff;\" transform=\"translate(180.968304 126.361451)scale(0.1 -0.1)\">\n     <use xlink:href=\"#DejaVuSans-48\"/>\n     <use x=\"63.623047\" xlink:href=\"#DejaVuSans-46\"/>\n     <use x=\"95.410156\" xlink:href=\"#DejaVuSans-51\"/>\n     <use x=\"159.033203\" xlink:href=\"#DejaVuSans-50\"/>\n    </g>\n   </g>\n   <g id=\"text_434\">\n    <!-- 0.18 -->\n    <g style=\"fill:#ffffff;\" transform=\"translate(190.534018 126.361451)scale(0.1 -0.1)\">\n     <use xlink:href=\"#DejaVuSans-48\"/>\n     <use x=\"63.623047\" xlink:href=\"#DejaVuSans-46\"/>\n     <use x=\"95.410156\" xlink:href=\"#DejaVuSans-49\"/>\n     <use x=\"159.033203\" xlink:href=\"#DejaVuSans-56\"/>\n    </g>\n   </g>\n   <g id=\"text_435\">\n    <!-- 1 -->\n    <g style=\"fill:#262626;\" transform=\"translate(208.051295 126.361451)scale(0.1 -0.1)\">\n     <use xlink:href=\"#DejaVuSans-49\"/>\n    </g>\n   </g>\n   <g id=\"text_436\">\n    <!-- -0.35 -->\n    <g style=\"fill:#ffffff;\" transform=\"translate(207.86154 126.361451)scale(0.1 -0.1)\">\n     <use xlink:href=\"#DejaVuSans-45\"/>\n     <use x=\"36.083984\" xlink:href=\"#DejaVuSans-48\"/>\n     <use x=\"99.707031\" xlink:href=\"#DejaVuSans-46\"/>\n     <use x=\"131.494141\" xlink:href=\"#DejaVuSans-51\"/>\n     <use x=\"195.117188\" xlink:href=\"#DejaVuSans-53\"/>\n    </g>\n   </g>\n   <g id=\"text_437\">\n    <!-- -0.17 -->\n    <g style=\"fill:#ffffff;\" transform=\"translate(217.427254 126.361451)scale(0.1 -0.1)\">\n     <use xlink:href=\"#DejaVuSans-45\"/>\n     <use x=\"36.083984\" xlink:href=\"#DejaVuSans-48\"/>\n     <use x=\"99.707031\" xlink:href=\"#DejaVuSans-46\"/>\n     <use x=\"131.494141\" xlink:href=\"#DejaVuSans-49\"/>\n     <use x=\"195.117188\" xlink:href=\"#DejaVuSans-55\"/>\n    </g>\n   </g>\n   <g id=\"text_438\">\n    <!-- -0.24 -->\n    <g style=\"fill:#ffffff;\" transform=\"translate(226.992969 126.361451)scale(0.1 -0.1)\">\n     <use xlink:href=\"#DejaVuSans-45\"/>\n     <use x=\"36.083984\" xlink:href=\"#DejaVuSans-48\"/>\n     <use x=\"99.707031\" xlink:href=\"#DejaVuSans-46\"/>\n     <use x=\"131.494141\" xlink:href=\"#DejaVuSans-50\"/>\n     <use x=\"195.117188\" xlink:href=\"#DejaVuSans-52\"/>\n    </g>\n   </g>\n   <g id=\"text_439\">\n    <!-- 0.22 -->\n    <g style=\"fill:#ffffff;\" transform=\"translate(238.362589 126.361451)scale(0.1 -0.1)\">\n     <use xlink:href=\"#DejaVuSans-48\"/>\n     <use x=\"63.623047\" xlink:href=\"#DejaVuSans-46\"/>\n     <use x=\"95.410156\" xlink:href=\"#DejaVuSans-50\"/>\n     <use x=\"159.033203\" xlink:href=\"#DejaVuSans-50\"/>\n    </g>\n   </g>\n   <g id=\"text_440\">\n    <!-- 0.16 -->\n    <g style=\"fill:#ffffff;\" transform=\"translate(247.928304 126.361451)scale(0.1 -0.1)\">\n     <use xlink:href=\"#DejaVuSans-48\"/>\n     <use x=\"63.623047\" xlink:href=\"#DejaVuSans-46\"/>\n     <use x=\"95.410156\" xlink:href=\"#DejaVuSans-49\"/>\n     <use x=\"159.033203\" xlink:href=\"#DejaVuSans-54\"/>\n    </g>\n   </g>\n   <g id=\"text_441\">\n    <!-- -0.22 -->\n    <g style=\"fill:#ffffff;\" transform=\"translate(255.690112 126.361451)scale(0.1 -0.1)\">\n     <use xlink:href=\"#DejaVuSans-45\"/>\n     <use x=\"36.083984\" xlink:href=\"#DejaVuSans-48\"/>\n     <use x=\"99.707031\" xlink:href=\"#DejaVuSans-46\"/>\n     <use x=\"131.494141\" xlink:href=\"#DejaVuSans-50\"/>\n     <use x=\"195.117188\" xlink:href=\"#DejaVuSans-50\"/>\n    </g>\n   </g>\n   <g id=\"text_442\">\n    <!-- 0.18 -->\n    <g style=\"fill:#ffffff;\" transform=\"translate(267.059732 126.361451)scale(0.1 -0.1)\">\n     <use xlink:href=\"#DejaVuSans-48\"/>\n     <use x=\"63.623047\" xlink:href=\"#DejaVuSans-46\"/>\n     <use x=\"95.410156\" xlink:href=\"#DejaVuSans-49\"/>\n     <use x=\"159.033203\" xlink:href=\"#DejaVuSans-56\"/>\n    </g>\n   </g>\n   <g id=\"text_443\">\n    <!-- -0.025 -->\n    <g style=\"fill:#ffffff;\" transform=\"translate(271.64029 126.361451)scale(0.1 -0.1)\">\n     <use xlink:href=\"#DejaVuSans-45\"/>\n     <use x=\"36.083984\" xlink:href=\"#DejaVuSans-48\"/>\n     <use x=\"99.707031\" xlink:href=\"#DejaVuSans-46\"/>\n     <use x=\"131.494141\" xlink:href=\"#DejaVuSans-48\"/>\n     <use x=\"195.117188\" xlink:href=\"#DejaVuSans-50\"/>\n     <use x=\"258.740234\" xlink:href=\"#DejaVuSans-53\"/>\n    </g>\n   </g>\n   <g id=\"text_444\">\n    <!-- 0.3 -->\n    <g style=\"fill:#ffffff;\" transform=\"translate(289.372411 126.361451)scale(0.1 -0.1)\">\n     <use xlink:href=\"#DejaVuSans-48\"/>\n     <use x=\"63.623047\" xlink:href=\"#DejaVuSans-46\"/>\n     <use x=\"95.410156\" xlink:href=\"#DejaVuSans-51\"/>\n    </g>\n   </g>\n   <g id=\"text_445\">\n    <!-- 0.17 -->\n    <g style=\"fill:#ffffff;\" transform=\"translate(295.756875 126.361451)scale(0.1 -0.1)\">\n     <use xlink:href=\"#DejaVuSans-48\"/>\n     <use x=\"63.623047\" xlink:href=\"#DejaVuSans-46\"/>\n     <use x=\"95.410156\" xlink:href=\"#DejaVuSans-49\"/>\n     <use x=\"159.033203\" xlink:href=\"#DejaVuSans-55\"/>\n    </g>\n   </g>\n   <g id=\"text_446\">\n    <!-- 0.043 -->\n    <g style=\"fill:#ffffff;\" transform=\"translate(302.141339 126.361451)scale(0.1 -0.1)\">\n     <use xlink:href=\"#DejaVuSans-48\"/>\n     <use x=\"63.623047\" xlink:href=\"#DejaVuSans-46\"/>\n     <use x=\"95.410156\" xlink:href=\"#DejaVuSans-48\"/>\n     <use x=\"159.033203\" xlink:href=\"#DejaVuSans-52\"/>\n     <use x=\"222.65625\" xlink:href=\"#DejaVuSans-51\"/>\n    </g>\n   </g>\n   <g id=\"text_447\">\n    <!-- 0.2 -->\n    <g style=\"fill:#ffffff;\" transform=\"translate(318.069554 126.361451)scale(0.1 -0.1)\">\n     <use xlink:href=\"#DejaVuSans-48\"/>\n     <use x=\"63.623047\" xlink:href=\"#DejaVuSans-46\"/>\n     <use x=\"95.410156\" xlink:href=\"#DejaVuSans-50\"/>\n    </g>\n   </g>\n   <g id=\"text_448\">\n    <!-- -0.099 -->\n    <g style=\"fill:#ffffff;\" transform=\"translate(319.468862 126.361451)scale(0.1 -0.1)\">\n     <use xlink:href=\"#DejaVuSans-45\"/>\n     <use x=\"36.083984\" xlink:href=\"#DejaVuSans-48\"/>\n     <use x=\"99.707031\" xlink:href=\"#DejaVuSans-46\"/>\n     <use x=\"131.494141\" xlink:href=\"#DejaVuSans-48\"/>\n     <use x=\"195.117188\" xlink:href=\"#DejaVuSans-57\"/>\n     <use x=\"258.740234\" xlink:href=\"#DejaVuSans-57\"/>\n    </g>\n   </g>\n   <g id=\"text_449\">\n    <!-- 0.13 -->\n    <g style=\"fill:#ffffff;\" transform=\"translate(66.179732 134.127165)scale(0.1 -0.1)\">\n     <use xlink:href=\"#DejaVuSans-48\"/>\n     <use x=\"63.623047\" xlink:href=\"#DejaVuSans-46\"/>\n     <use x=\"95.410156\" xlink:href=\"#DejaVuSans-49\"/>\n     <use x=\"159.033203\" xlink:href=\"#DejaVuSans-51\"/>\n    </g>\n   </g>\n   <g id=\"text_450\">\n    <!-- 0.25 -->\n    <g style=\"fill:#ffffff;\" transform=\"translate(75.745446 134.127165)scale(0.1 -0.1)\">\n     <use xlink:href=\"#DejaVuSans-48\"/>\n     <use x=\"63.623047\" xlink:href=\"#DejaVuSans-46\"/>\n     <use x=\"95.410156\" xlink:href=\"#DejaVuSans-50\"/>\n     <use x=\"159.033203\" xlink:href=\"#DejaVuSans-53\"/>\n    </g>\n   </g>\n   <g id=\"text_451\">\n    <!-- 0.0067 -->\n    <g style=\"fill:#ffffff;\" transform=\"translate(78.948661 134.127165)scale(0.1 -0.1)\">\n     <use xlink:href=\"#DejaVuSans-48\"/>\n     <use x=\"63.623047\" xlink:href=\"#DejaVuSans-46\"/>\n     <use x=\"95.410156\" xlink:href=\"#DejaVuSans-48\"/>\n     <use x=\"159.033203\" xlink:href=\"#DejaVuSans-48\"/>\n     <use x=\"222.65625\" xlink:href=\"#DejaVuSans-54\"/>\n     <use x=\"286.279297\" xlink:href=\"#DejaVuSans-55\"/>\n    </g>\n   </g>\n   <g id=\"text_452\">\n    <!-- 0.23 -->\n    <g style=\"fill:#ffffff;\" transform=\"translate(94.876875 134.127165)scale(0.1 -0.1)\">\n     <use xlink:href=\"#DejaVuSans-48\"/>\n     <use x=\"63.623047\" xlink:href=\"#DejaVuSans-46\"/>\n     <use x=\"95.410156\" xlink:href=\"#DejaVuSans-50\"/>\n     <use x=\"159.033203\" xlink:href=\"#DejaVuSans-51\"/>\n    </g>\n   </g>\n   <g id=\"text_453\">\n    <!-- 0.1 -->\n    <g style=\"fill:#ffffff;\" transform=\"translate(107.623839 134.127165)scale(0.1 -0.1)\">\n     <use xlink:href=\"#DejaVuSans-48\"/>\n     <use x=\"63.623047\" xlink:href=\"#DejaVuSans-46\"/>\n     <use x=\"95.410156\" xlink:href=\"#DejaVuSans-49\"/>\n    </g>\n   </g>\n   <g id=\"text_454\">\n    <!-- 0.54 -->\n    <g style=\"fill:#ffffff;\" transform=\"translate(114.008304 134.127165)scale(0.1 -0.1)\">\n     <use xlink:href=\"#DejaVuSans-48\"/>\n     <use x=\"63.623047\" xlink:href=\"#DejaVuSans-46\"/>\n     <use x=\"95.410156\" xlink:href=\"#DejaVuSans-53\"/>\n     <use x=\"159.033203\" xlink:href=\"#DejaVuSans-52\"/>\n    </g>\n   </g>\n   <g id=\"text_455\">\n    <!-- -0.37 -->\n    <g style=\"fill:#ffffff;\" transform=\"translate(121.770112 134.127165)scale(0.1 -0.1)\">\n     <use xlink:href=\"#DejaVuSans-45\"/>\n     <use x=\"36.083984\" xlink:href=\"#DejaVuSans-48\"/>\n     <use x=\"99.707031\" xlink:href=\"#DejaVuSans-46\"/>\n     <use x=\"131.494141\" xlink:href=\"#DejaVuSans-51\"/>\n     <use x=\"195.117188\" xlink:href=\"#DejaVuSans-55\"/>\n    </g>\n   </g>\n   <g id=\"text_456\">\n    <!-- -0.36 -->\n    <g style=\"fill:#ffffff;\" transform=\"translate(131.335826 134.127165)scale(0.1 -0.1)\">\n     <use xlink:href=\"#DejaVuSans-45\"/>\n     <use x=\"36.083984\" xlink:href=\"#DejaVuSans-48\"/>\n     <use x=\"99.707031\" xlink:href=\"#DejaVuSans-46\"/>\n     <use x=\"131.494141\" xlink:href=\"#DejaVuSans-51\"/>\n     <use x=\"195.117188\" xlink:href=\"#DejaVuSans-54\"/>\n    </g>\n   </g>\n   <g id=\"text_457\">\n    <!-- -0.26 -->\n    <g style=\"fill:#ffffff;\" transform=\"translate(140.90154 134.127165)scale(0.1 -0.1)\">\n     <use xlink:href=\"#DejaVuSans-45\"/>\n     <use x=\"36.083984\" xlink:href=\"#DejaVuSans-48\"/>\n     <use x=\"99.707031\" xlink:href=\"#DejaVuSans-46\"/>\n     <use x=\"131.494141\" xlink:href=\"#DejaVuSans-50\"/>\n     <use x=\"195.117188\" xlink:href=\"#DejaVuSans-54\"/>\n    </g>\n   </g>\n   <g id=\"text_458\">\n    <!-- 0.45 -->\n    <g style=\"fill:#ffffff;\" transform=\"translate(152.271161 134.127165)scale(0.1 -0.1)\">\n     <use xlink:href=\"#DejaVuSans-48\"/>\n     <use x=\"63.623047\" xlink:href=\"#DejaVuSans-46\"/>\n     <use x=\"95.410156\" xlink:href=\"#DejaVuSans-52\"/>\n     <use x=\"159.033203\" xlink:href=\"#DejaVuSans-53\"/>\n    </g>\n   </g>\n   <g id=\"text_459\">\n    <!-- 0.38 -->\n    <g style=\"fill:#ffffff;\" transform=\"translate(161.836875 134.127165)scale(0.1 -0.1)\">\n     <use xlink:href=\"#DejaVuSans-48\"/>\n     <use x=\"63.623047\" xlink:href=\"#DejaVuSans-46\"/>\n     <use x=\"95.410156\" xlink:href=\"#DejaVuSans-51\"/>\n     <use x=\"159.033203\" xlink:href=\"#DejaVuSans-56\"/>\n    </g>\n   </g>\n   <g id=\"text_460\">\n    <!-- 0.4 -->\n    <g style=\"fill:#ffffff;\" transform=\"translate(174.583839 134.127165)scale(0.1 -0.1)\">\n     <use xlink:href=\"#DejaVuSans-48\"/>\n     <use x=\"63.623047\" xlink:href=\"#DejaVuSans-46\"/>\n     <use x=\"95.410156\" xlink:href=\"#DejaVuSans-52\"/>\n    </g>\n   </g>\n   <g id=\"text_461\">\n    <!-- 0.19 -->\n    <g style=\"fill:#ffffff;\" transform=\"translate(180.968304 134.127165)scale(0.1 -0.1)\">\n     <use xlink:href=\"#DejaVuSans-48\"/>\n     <use x=\"63.623047\" xlink:href=\"#DejaVuSans-46\"/>\n     <use x=\"95.410156\" xlink:href=\"#DejaVuSans-49\"/>\n     <use x=\"159.033203\" xlink:href=\"#DejaVuSans-57\"/>\n    </g>\n   </g>\n   <g id=\"text_462\">\n    <!-- 0.29 -->\n    <g style=\"fill:#ffffff;\" transform=\"translate(190.534018 134.127165)scale(0.1 -0.1)\">\n     <use xlink:href=\"#DejaVuSans-48\"/>\n     <use x=\"63.623047\" xlink:href=\"#DejaVuSans-46\"/>\n     <use x=\"95.410156\" xlink:href=\"#DejaVuSans-50\"/>\n     <use x=\"159.033203\" xlink:href=\"#DejaVuSans-57\"/>\n    </g>\n   </g>\n   <g id=\"text_463\">\n    <!-- -0.35 -->\n    <g style=\"fill:#ffffff;\" transform=\"translate(198.295826 134.127165)scale(0.1 -0.1)\">\n     <use xlink:href=\"#DejaVuSans-45\"/>\n     <use x=\"36.083984\" xlink:href=\"#DejaVuSans-48\"/>\n     <use x=\"99.707031\" xlink:href=\"#DejaVuSans-46\"/>\n     <use x=\"131.494141\" xlink:href=\"#DejaVuSans-51\"/>\n     <use x=\"195.117188\" xlink:href=\"#DejaVuSans-53\"/>\n    </g>\n   </g>\n   <g id=\"text_464\">\n    <!-- 1 -->\n    <g style=\"fill:#262626;\" transform=\"translate(217.617009 134.127165)scale(0.1 -0.1)\">\n     <use xlink:href=\"#DejaVuSans-49\"/>\n    </g>\n   </g>\n   <g id=\"text_465\">\n    <!-- 0.63 -->\n    <g style=\"fill:#262626;\" transform=\"translate(219.231161 134.127165)scale(0.1 -0.1)\">\n     <use xlink:href=\"#DejaVuSans-48\"/>\n     <use x=\"63.623047\" xlink:href=\"#DejaVuSans-46\"/>\n     <use x=\"95.410156\" xlink:href=\"#DejaVuSans-54\"/>\n     <use x=\"159.033203\" xlink:href=\"#DejaVuSans-51\"/>\n    </g>\n   </g>\n   <g id=\"text_466\">\n    <!-- 0.79 -->\n    <g style=\"fill:#262626;\" transform=\"translate(228.796875 134.127165)scale(0.1 -0.1)\">\n     <use xlink:href=\"#DejaVuSans-48\"/>\n     <use x=\"63.623047\" xlink:href=\"#DejaVuSans-46\"/>\n     <use x=\"95.410156\" xlink:href=\"#DejaVuSans-55\"/>\n     <use x=\"159.033203\" xlink:href=\"#DejaVuSans-57\"/>\n    </g>\n   </g>\n   <g id=\"text_467\">\n    <!-- -0.089 -->\n    <g style=\"fill:#ffffff;\" transform=\"translate(233.377433 134.127165)scale(0.1 -0.1)\">\n     <use xlink:href=\"#DejaVuSans-45\"/>\n     <use x=\"36.083984\" xlink:href=\"#DejaVuSans-48\"/>\n     <use x=\"99.707031\" xlink:href=\"#DejaVuSans-46\"/>\n     <use x=\"131.494141\" xlink:href=\"#DejaVuSans-48\"/>\n     <use x=\"195.117188\" xlink:href=\"#DejaVuSans-56\"/>\n     <use x=\"258.740234\" xlink:href=\"#DejaVuSans-57\"/>\n    </g>\n   </g>\n   <g id=\"text_468\">\n    <!-- 0.16 -->\n    <g style=\"fill:#ffffff;\" transform=\"translate(247.928304 134.127165)scale(0.1 -0.1)\">\n     <use xlink:href=\"#DejaVuSans-48\"/>\n     <use x=\"63.623047\" xlink:href=\"#DejaVuSans-46\"/>\n     <use x=\"95.410156\" xlink:href=\"#DejaVuSans-49\"/>\n     <use x=\"159.033203\" xlink:href=\"#DejaVuSans-54\"/>\n    </g>\n   </g>\n   <g id=\"text_469\">\n    <!-- 0.55 -->\n    <g style=\"fill:#ffffff;\" transform=\"translate(257.494018 134.127165)scale(0.1 -0.1)\">\n     <use xlink:href=\"#DejaVuSans-48\"/>\n     <use x=\"63.623047\" xlink:href=\"#DejaVuSans-46\"/>\n     <use x=\"95.410156\" xlink:href=\"#DejaVuSans-53\"/>\n     <use x=\"159.033203\" xlink:href=\"#DejaVuSans-53\"/>\n    </g>\n   </g>\n   <g id=\"text_470\">\n    <!-- 0.14 -->\n    <g style=\"fill:#ffffff;\" transform=\"translate(267.059732 134.127165)scale(0.1 -0.1)\">\n     <use xlink:href=\"#DejaVuSans-48\"/>\n     <use x=\"63.623047\" xlink:href=\"#DejaVuSans-46\"/>\n     <use x=\"95.410156\" xlink:href=\"#DejaVuSans-49\"/>\n     <use x=\"159.033203\" xlink:href=\"#DejaVuSans-52\"/>\n    </g>\n   </g>\n   <g id=\"text_471\">\n    <!-- 0.41 -->\n    <g style=\"fill:#ffffff;\" transform=\"translate(276.625446 134.127165)scale(0.1 -0.1)\">\n     <use xlink:href=\"#DejaVuSans-48\"/>\n     <use x=\"63.623047\" xlink:href=\"#DejaVuSans-46\"/>\n     <use x=\"95.410156\" xlink:href=\"#DejaVuSans-52\"/>\n     <use x=\"159.033203\" xlink:href=\"#DejaVuSans-49\"/>\n    </g>\n   </g>\n   <g id=\"text_472\">\n    <!-- 0.16 -->\n    <g style=\"fill:#ffffff;\" transform=\"translate(286.191161 134.127165)scale(0.1 -0.1)\">\n     <use xlink:href=\"#DejaVuSans-48\"/>\n     <use x=\"63.623047\" xlink:href=\"#DejaVuSans-46\"/>\n     <use x=\"95.410156\" xlink:href=\"#DejaVuSans-49\"/>\n     <use x=\"159.033203\" xlink:href=\"#DejaVuSans-54\"/>\n    </g>\n   </g>\n   <g id=\"text_473\">\n    <!-- -0.18 -->\n    <g style=\"fill:#ffffff;\" transform=\"translate(293.952969 134.127165)scale(0.1 -0.1)\">\n     <use xlink:href=\"#DejaVuSans-45\"/>\n     <use x=\"36.083984\" xlink:href=\"#DejaVuSans-48\"/>\n     <use x=\"99.707031\" xlink:href=\"#DejaVuSans-46\"/>\n     <use x=\"131.494141\" xlink:href=\"#DejaVuSans-49\"/>\n     <use x=\"195.117188\" xlink:href=\"#DejaVuSans-56\"/>\n    </g>\n   </g>\n   <g id=\"text_474\">\n    <!-- 0.093 -->\n    <g style=\"fill:#ffffff;\" transform=\"translate(302.141339 134.127165)scale(0.1 -0.1)\">\n     <use xlink:href=\"#DejaVuSans-48\"/>\n     <use x=\"63.623047\" xlink:href=\"#DejaVuSans-46\"/>\n     <use x=\"95.410156\" xlink:href=\"#DejaVuSans-48\"/>\n     <use x=\"159.033203\" xlink:href=\"#DejaVuSans-57\"/>\n     <use x=\"222.65625\" xlink:href=\"#DejaVuSans-51\"/>\n    </g>\n   </g>\n   <g id=\"text_475\">\n    <!-- 0.11 -->\n    <g style=\"fill:#ffffff;\" transform=\"translate(314.888304 134.127165)scale(0.1 -0.1)\">\n     <use xlink:href=\"#DejaVuSans-48\"/>\n     <use x=\"63.623047\" xlink:href=\"#DejaVuSans-46\"/>\n     <use x=\"95.410156\" xlink:href=\"#DejaVuSans-49\"/>\n     <use x=\"159.033203\" xlink:href=\"#DejaVuSans-49\"/>\n    </g>\n   </g>\n   <g id=\"text_476\">\n    <!-- -0.13 -->\n    <g style=\"fill:#ffffff;\" transform=\"translate(322.650112 134.127165)scale(0.1 -0.1)\">\n     <use xlink:href=\"#DejaVuSans-45\"/>\n     <use x=\"36.083984\" xlink:href=\"#DejaVuSans-48\"/>\n     <use x=\"99.707031\" xlink:href=\"#DejaVuSans-46\"/>\n     <use x=\"131.494141\" xlink:href=\"#DejaVuSans-49\"/>\n     <use x=\"195.117188\" xlink:href=\"#DejaVuSans-51\"/>\n    </g>\n   </g>\n   <g id=\"text_477\">\n    <!-- 0.39 -->\n    <g style=\"fill:#ffffff;\" transform=\"translate(66.179732 141.892879)scale(0.1 -0.1)\">\n     <use xlink:href=\"#DejaVuSans-48\"/>\n     <use x=\"63.623047\" xlink:href=\"#DejaVuSans-46\"/>\n     <use x=\"95.410156\" xlink:href=\"#DejaVuSans-51\"/>\n     <use x=\"159.033203\" xlink:href=\"#DejaVuSans-57\"/>\n    </g>\n   </g>\n   <g id=\"text_478\">\n    <!-- 0.52 -->\n    <g style=\"fill:#ffffff;\" transform=\"translate(75.745446 141.892879)scale(0.1 -0.1)\">\n     <use xlink:href=\"#DejaVuSans-48\"/>\n     <use x=\"63.623047\" xlink:href=\"#DejaVuSans-46\"/>\n     <use x=\"95.410156\" xlink:href=\"#DejaVuSans-53\"/>\n     <use x=\"159.033203\" xlink:href=\"#DejaVuSans-50\"/>\n    </g>\n   </g>\n   <g id=\"text_479\">\n    <!-- -0.18 -->\n    <g style=\"fill:#ffffff;\" transform=\"translate(83.507254 141.892879)scale(0.1 -0.1)\">\n     <use xlink:href=\"#DejaVuSans-45\"/>\n     <use x=\"36.083984\" xlink:href=\"#DejaVuSans-48\"/>\n     <use x=\"99.707031\" xlink:href=\"#DejaVuSans-46\"/>\n     <use x=\"131.494141\" xlink:href=\"#DejaVuSans-49\"/>\n     <use x=\"195.117188\" xlink:href=\"#DejaVuSans-56\"/>\n    </g>\n   </g>\n   <g id=\"text_480\">\n    <!-- 0.63 -->\n    <g style=\"fill:#262626;\" transform=\"translate(94.876875 141.892879)scale(0.1 -0.1)\">\n     <use xlink:href=\"#DejaVuSans-48\"/>\n     <use x=\"63.623047\" xlink:href=\"#DejaVuSans-46\"/>\n     <use x=\"95.410156\" xlink:href=\"#DejaVuSans-54\"/>\n     <use x=\"159.033203\" xlink:href=\"#DejaVuSans-51\"/>\n    </g>\n   </g>\n   <g id=\"text_481\">\n    <!-- 0.56 -->\n    <g style=\"fill:#ffffff;\" transform=\"translate(104.442589 141.892879)scale(0.1 -0.1)\">\n     <use xlink:href=\"#DejaVuSans-48\"/>\n     <use x=\"63.623047\" xlink:href=\"#DejaVuSans-46\"/>\n     <use x=\"95.410156\" xlink:href=\"#DejaVuSans-53\"/>\n     <use x=\"159.033203\" xlink:href=\"#DejaVuSans-54\"/>\n    </g>\n   </g>\n   <g id=\"text_482\">\n    <!-- 0.46 -->\n    <g style=\"fill:#ffffff;\" transform=\"translate(114.008304 141.892879)scale(0.1 -0.1)\">\n     <use xlink:href=\"#DejaVuSans-48\"/>\n     <use x=\"63.623047\" xlink:href=\"#DejaVuSans-46\"/>\n     <use x=\"95.410156\" xlink:href=\"#DejaVuSans-52\"/>\n     <use x=\"159.033203\" xlink:href=\"#DejaVuSans-54\"/>\n    </g>\n   </g>\n   <g id=\"text_483\">\n    <!-- 0.078 -->\n    <g style=\"fill:#ffffff;\" transform=\"translate(120.392768 141.892879)scale(0.1 -0.1)\">\n     <use xlink:href=\"#DejaVuSans-48\"/>\n     <use x=\"63.623047\" xlink:href=\"#DejaVuSans-46\"/>\n     <use x=\"95.410156\" xlink:href=\"#DejaVuSans-48\"/>\n     <use x=\"159.033203\" xlink:href=\"#DejaVuSans-55\"/>\n     <use x=\"222.65625\" xlink:href=\"#DejaVuSans-56\"/>\n    </g>\n   </g>\n   <g id=\"text_484\">\n    <!-- 0.1 -->\n    <g style=\"fill:#ffffff;\" transform=\"translate(136.320982 141.892879)scale(0.1 -0.1)\">\n     <use xlink:href=\"#DejaVuSans-48\"/>\n     <use x=\"63.623047\" xlink:href=\"#DejaVuSans-46\"/>\n     <use x=\"95.410156\" xlink:href=\"#DejaVuSans-49\"/>\n    </g>\n   </g>\n   <g id=\"text_485\">\n    <!-- -0.19 -->\n    <g style=\"fill:#ffffff;\" transform=\"translate(140.90154 141.892879)scale(0.1 -0.1)\">\n     <use xlink:href=\"#DejaVuSans-45\"/>\n     <use x=\"36.083984\" xlink:href=\"#DejaVuSans-48\"/>\n     <use x=\"99.707031\" xlink:href=\"#DejaVuSans-46\"/>\n     <use x=\"131.494141\" xlink:href=\"#DejaVuSans-49\"/>\n     <use x=\"195.117188\" xlink:href=\"#DejaVuSans-57\"/>\n    </g>\n   </g>\n   <g id=\"text_486\">\n    <!-- 0.71 -->\n    <g style=\"fill:#262626;\" transform=\"translate(152.271161 141.892879)scale(0.1 -0.1)\">\n     <use xlink:href=\"#DejaVuSans-48\"/>\n     <use x=\"63.623047\" xlink:href=\"#DejaVuSans-46\"/>\n     <use x=\"95.410156\" xlink:href=\"#DejaVuSans-55\"/>\n     <use x=\"159.033203\" xlink:href=\"#DejaVuSans-49\"/>\n    </g>\n   </g>\n   <g id=\"text_487\">\n    <!-- 0.66 -->\n    <g style=\"fill:#262626;\" transform=\"translate(161.836875 141.892879)scale(0.1 -0.1)\">\n     <use xlink:href=\"#DejaVuSans-48\"/>\n     <use x=\"63.623047\" xlink:href=\"#DejaVuSans-46\"/>\n     <use x=\"95.410156\" xlink:href=\"#DejaVuSans-54\"/>\n     <use x=\"159.033203\" xlink:href=\"#DejaVuSans-54\"/>\n    </g>\n   </g>\n   <g id=\"text_488\">\n    <!-- 0.46 -->\n    <g style=\"fill:#ffffff;\" transform=\"translate(171.402589 141.892879)scale(0.1 -0.1)\">\n     <use xlink:href=\"#DejaVuSans-48\"/>\n     <use x=\"63.623047\" xlink:href=\"#DejaVuSans-46\"/>\n     <use x=\"95.410156\" xlink:href=\"#DejaVuSans-52\"/>\n     <use x=\"159.033203\" xlink:href=\"#DejaVuSans-54\"/>\n    </g>\n   </g>\n   <g id=\"text_489\">\n    <!-- 0.56 -->\n    <g style=\"fill:#ffffff;\" transform=\"translate(180.968304 141.892879)scale(0.1 -0.1)\">\n     <use xlink:href=\"#DejaVuSans-48\"/>\n     <use x=\"63.623047\" xlink:href=\"#DejaVuSans-46\"/>\n     <use x=\"95.410156\" xlink:href=\"#DejaVuSans-53\"/>\n     <use x=\"159.033203\" xlink:href=\"#DejaVuSans-54\"/>\n    </g>\n   </g>\n   <g id=\"text_490\">\n    <!-- 0.64 -->\n    <g style=\"fill:#262626;\" transform=\"translate(190.534018 141.892879)scale(0.1 -0.1)\">\n     <use xlink:href=\"#DejaVuSans-48\"/>\n     <use x=\"63.623047\" xlink:href=\"#DejaVuSans-46\"/>\n     <use x=\"95.410156\" xlink:href=\"#DejaVuSans-54\"/>\n     <use x=\"159.033203\" xlink:href=\"#DejaVuSans-52\"/>\n    </g>\n   </g>\n   <g id=\"text_491\">\n    <!-- -0.17 -->\n    <g style=\"fill:#ffffff;\" transform=\"translate(198.295826 141.892879)scale(0.1 -0.1)\">\n     <use xlink:href=\"#DejaVuSans-45\"/>\n     <use x=\"36.083984\" xlink:href=\"#DejaVuSans-48\"/>\n     <use x=\"99.707031\" xlink:href=\"#DejaVuSans-46\"/>\n     <use x=\"131.494141\" xlink:href=\"#DejaVuSans-49\"/>\n     <use x=\"195.117188\" xlink:href=\"#DejaVuSans-55\"/>\n    </g>\n   </g>\n   <g id=\"text_492\">\n    <!-- 0.63 -->\n    <g style=\"fill:#262626;\" transform=\"translate(209.665446 141.892879)scale(0.1 -0.1)\">\n     <use xlink:href=\"#DejaVuSans-48\"/>\n     <use x=\"63.623047\" xlink:href=\"#DejaVuSans-46\"/>\n     <use x=\"95.410156\" xlink:href=\"#DejaVuSans-54\"/>\n     <use x=\"159.033203\" xlink:href=\"#DejaVuSans-51\"/>\n    </g>\n   </g>\n   <g id=\"text_493\">\n    <!-- 1 -->\n    <g style=\"fill:#262626;\" transform=\"translate(227.182723 141.892879)scale(0.1 -0.1)\">\n     <use xlink:href=\"#DejaVuSans-49\"/>\n    </g>\n   </g>\n   <g id=\"text_494\">\n    <!-- 0.97 -->\n    <g style=\"fill:#262626;\" transform=\"translate(228.796875 141.892879)scale(0.1 -0.1)\">\n     <use xlink:href=\"#DejaVuSans-48\"/>\n     <use x=\"63.623047\" xlink:href=\"#DejaVuSans-46\"/>\n     <use x=\"95.410156\" xlink:href=\"#DejaVuSans-57\"/>\n     <use x=\"159.033203\" xlink:href=\"#DejaVuSans-55\"/>\n    </g>\n   </g>\n   <g id=\"text_495\">\n    <!-- 0.38 -->\n    <g style=\"fill:#ffffff;\" transform=\"translate(238.362589 141.892879)scale(0.1 -0.1)\">\n     <use xlink:href=\"#DejaVuSans-48\"/>\n     <use x=\"63.623047\" xlink:href=\"#DejaVuSans-46\"/>\n     <use x=\"95.410156\" xlink:href=\"#DejaVuSans-51\"/>\n     <use x=\"159.033203\" xlink:href=\"#DejaVuSans-56\"/>\n    </g>\n   </g>\n   <g id=\"text_496\">\n    <!-- 0.3 -->\n    <g style=\"fill:#ffffff;\" transform=\"translate(251.109554 141.892879)scale(0.1 -0.1)\">\n     <use xlink:href=\"#DejaVuSans-48\"/>\n     <use x=\"63.623047\" xlink:href=\"#DejaVuSans-46\"/>\n     <use x=\"95.410156\" xlink:href=\"#DejaVuSans-51\"/>\n    </g>\n   </g>\n   <g id=\"text_497\">\n    <!-- 0.54 -->\n    <g style=\"fill:#ffffff;\" transform=\"translate(257.494018 141.892879)scale(0.1 -0.1)\">\n     <use xlink:href=\"#DejaVuSans-48\"/>\n     <use x=\"63.623047\" xlink:href=\"#DejaVuSans-46\"/>\n     <use x=\"95.410156\" xlink:href=\"#DejaVuSans-53\"/>\n     <use x=\"159.033203\" xlink:href=\"#DejaVuSans-52\"/>\n    </g>\n   </g>\n   <g id=\"text_498\">\n    <!-- 0.55 -->\n    <g style=\"fill:#ffffff;\" transform=\"translate(267.059732 141.892879)scale(0.1 -0.1)\">\n     <use xlink:href=\"#DejaVuSans-48\"/>\n     <use x=\"63.623047\" xlink:href=\"#DejaVuSans-46\"/>\n     <use x=\"95.410156\" xlink:href=\"#DejaVuSans-53\"/>\n     <use x=\"159.033203\" xlink:href=\"#DejaVuSans-53\"/>\n    </g>\n   </g>\n   <g id=\"text_499\">\n    <!-- 0.45 -->\n    <g style=\"fill:#ffffff;\" transform=\"translate(276.625446 141.892879)scale(0.1 -0.1)\">\n     <use xlink:href=\"#DejaVuSans-48\"/>\n     <use x=\"63.623047\" xlink:href=\"#DejaVuSans-46\"/>\n     <use x=\"95.410156\" xlink:href=\"#DejaVuSans-52\"/>\n     <use x=\"159.033203\" xlink:href=\"#DejaVuSans-53\"/>\n    </g>\n   </g>\n   <g id=\"text_500\">\n    <!-- 0.6 -->\n    <g style=\"fill:#262626;\" transform=\"translate(289.372411 141.892879)scale(0.1 -0.1)\">\n     <use xlink:href=\"#DejaVuSans-48\"/>\n     <use x=\"63.623047\" xlink:href=\"#DejaVuSans-46\"/>\n     <use x=\"95.410156\" xlink:href=\"#DejaVuSans-54\"/>\n    </g>\n   </g>\n   <g id=\"text_501\">\n    <!-- -0.0073 -->\n    <g style=\"fill:#ffffff;\" transform=\"translate(287.590469 141.892879)scale(0.1 -0.1)\">\n     <use xlink:href=\"#DejaVuSans-45\"/>\n     <use x=\"36.083984\" xlink:href=\"#DejaVuSans-48\"/>\n     <use x=\"99.707031\" xlink:href=\"#DejaVuSans-46\"/>\n     <use x=\"131.494141\" xlink:href=\"#DejaVuSans-48\"/>\n     <use x=\"195.117188\" xlink:href=\"#DejaVuSans-48\"/>\n     <use x=\"258.740234\" xlink:href=\"#DejaVuSans-55\"/>\n     <use x=\"322.363281\" xlink:href=\"#DejaVuSans-51\"/>\n    </g>\n   </g>\n   <g id=\"text_502\">\n    <!-- 0.48 -->\n    <g style=\"fill:#ffffff;\" transform=\"translate(305.322589 141.892879)scale(0.1 -0.1)\">\n     <use xlink:href=\"#DejaVuSans-48\"/>\n     <use x=\"63.623047\" xlink:href=\"#DejaVuSans-46\"/>\n     <use x=\"95.410156\" xlink:href=\"#DejaVuSans-52\"/>\n     <use x=\"159.033203\" xlink:href=\"#DejaVuSans-56\"/>\n    </g>\n   </g>\n   <g id=\"text_503\">\n    <!-- 0.5 -->\n    <g style=\"fill:#ffffff;\" transform=\"translate(318.069554 141.892879)scale(0.1 -0.1)\">\n     <use xlink:href=\"#DejaVuSans-48\"/>\n     <use x=\"63.623047\" xlink:href=\"#DejaVuSans-46\"/>\n     <use x=\"95.410156\" xlink:href=\"#DejaVuSans-53\"/>\n    </g>\n   </g>\n   <g id=\"text_504\">\n    <!-- -0.55 -->\n    <g style=\"fill:#ffffff;\" transform=\"translate(322.650112 141.892879)scale(0.1 -0.1)\">\n     <use xlink:href=\"#DejaVuSans-45\"/>\n     <use x=\"36.083984\" xlink:href=\"#DejaVuSans-48\"/>\n     <use x=\"99.707031\" xlink:href=\"#DejaVuSans-46\"/>\n     <use x=\"131.494141\" xlink:href=\"#DejaVuSans-53\"/>\n     <use x=\"195.117188\" xlink:href=\"#DejaVuSans-53\"/>\n    </g>\n   </g>\n   <g id=\"text_505\">\n    <!-- 0.34 -->\n    <g style=\"fill:#ffffff;\" transform=\"translate(66.179732 149.658594)scale(0.1 -0.1)\">\n     <use xlink:href=\"#DejaVuSans-48\"/>\n     <use x=\"63.623047\" xlink:href=\"#DejaVuSans-46\"/>\n     <use x=\"95.410156\" xlink:href=\"#DejaVuSans-51\"/>\n     <use x=\"159.033203\" xlink:href=\"#DejaVuSans-52\"/>\n    </g>\n   </g>\n   <g id=\"text_506\">\n    <!-- 0.48 -->\n    <g style=\"fill:#ffffff;\" transform=\"translate(75.745446 149.658594)scale(0.1 -0.1)\">\n     <use xlink:href=\"#DejaVuSans-48\"/>\n     <use x=\"63.623047\" xlink:href=\"#DejaVuSans-46\"/>\n     <use x=\"95.410156\" xlink:href=\"#DejaVuSans-52\"/>\n     <use x=\"159.033203\" xlink:href=\"#DejaVuSans-56\"/>\n    </g>\n   </g>\n   <g id=\"text_507\">\n    <!-- -0.14 -->\n    <g style=\"fill:#ffffff;\" transform=\"translate(83.507254 149.658594)scale(0.1 -0.1)\">\n     <use xlink:href=\"#DejaVuSans-45\"/>\n     <use x=\"36.083984\" xlink:href=\"#DejaVuSans-48\"/>\n     <use x=\"99.707031\" xlink:href=\"#DejaVuSans-46\"/>\n     <use x=\"131.494141\" xlink:href=\"#DejaVuSans-49\"/>\n     <use x=\"195.117188\" xlink:href=\"#DejaVuSans-52\"/>\n    </g>\n   </g>\n   <g id=\"text_508\">\n    <!-- 0.56 -->\n    <g style=\"fill:#262626;\" transform=\"translate(94.876875 149.658594)scale(0.1 -0.1)\">\n     <use xlink:href=\"#DejaVuSans-48\"/>\n     <use x=\"63.623047\" xlink:href=\"#DejaVuSans-46\"/>\n     <use x=\"95.410156\" xlink:href=\"#DejaVuSans-53\"/>\n     <use x=\"159.033203\" xlink:href=\"#DejaVuSans-54\"/>\n    </g>\n   </g>\n   <g id=\"text_509\">\n    <!-- 0.47 -->\n    <g style=\"fill:#ffffff;\" transform=\"translate(104.442589 149.658594)scale(0.1 -0.1)\">\n     <use xlink:href=\"#DejaVuSans-48\"/>\n     <use x=\"63.623047\" xlink:href=\"#DejaVuSans-46\"/>\n     <use x=\"95.410156\" xlink:href=\"#DejaVuSans-52\"/>\n     <use x=\"159.033203\" xlink:href=\"#DejaVuSans-55\"/>\n    </g>\n   </g>\n   <g id=\"text_510\">\n    <!-- 0.53 -->\n    <g style=\"fill:#ffffff;\" transform=\"translate(114.008304 149.658594)scale(0.1 -0.1)\">\n     <use xlink:href=\"#DejaVuSans-48\"/>\n     <use x=\"63.623047\" xlink:href=\"#DejaVuSans-46\"/>\n     <use x=\"95.410156\" xlink:href=\"#DejaVuSans-53\"/>\n     <use x=\"159.033203\" xlink:href=\"#DejaVuSans-51\"/>\n    </g>\n   </g>\n   <g id=\"text_511\">\n    <!-- -0.049 -->\n    <g style=\"fill:#ffffff;\" transform=\"translate(118.588862 149.658594)scale(0.1 -0.1)\">\n     <use xlink:href=\"#DejaVuSans-45\"/>\n     <use x=\"36.083984\" xlink:href=\"#DejaVuSans-48\"/>\n     <use x=\"99.707031\" xlink:href=\"#DejaVuSans-46\"/>\n     <use x=\"131.494141\" xlink:href=\"#DejaVuSans-48\"/>\n     <use x=\"195.117188\" xlink:href=\"#DejaVuSans-52\"/>\n     <use x=\"258.740234\" xlink:href=\"#DejaVuSans-57\"/>\n    </g>\n   </g>\n   <g id=\"text_512\">\n    <!-- -0.029 -->\n    <g style=\"fill:#ffffff;\" transform=\"translate(128.154576 149.658594)scale(0.1 -0.1)\">\n     <use xlink:href=\"#DejaVuSans-45\"/>\n     <use x=\"36.083984\" xlink:href=\"#DejaVuSans-48\"/>\n     <use x=\"99.707031\" xlink:href=\"#DejaVuSans-46\"/>\n     <use x=\"131.494141\" xlink:href=\"#DejaVuSans-48\"/>\n     <use x=\"195.117188\" xlink:href=\"#DejaVuSans-50\"/>\n     <use x=\"258.740234\" xlink:href=\"#DejaVuSans-57\"/>\n    </g>\n   </g>\n   <g id=\"text_513\">\n    <!-- -0.22 -->\n    <g style=\"fill:#ffffff;\" transform=\"translate(140.90154 149.658594)scale(0.1 -0.1)\">\n     <use xlink:href=\"#DejaVuSans-45\"/>\n     <use x=\"36.083984\" xlink:href=\"#DejaVuSans-48\"/>\n     <use x=\"99.707031\" xlink:href=\"#DejaVuSans-46\"/>\n     <use x=\"131.494141\" xlink:href=\"#DejaVuSans-50\"/>\n     <use x=\"195.117188\" xlink:href=\"#DejaVuSans-50\"/>\n    </g>\n   </g>\n   <g id=\"text_514\">\n    <!-- 0.69 -->\n    <g style=\"fill:#262626;\" transform=\"translate(152.271161 149.658594)scale(0.1 -0.1)\">\n     <use xlink:href=\"#DejaVuSans-48\"/>\n     <use x=\"63.623047\" xlink:href=\"#DejaVuSans-46\"/>\n     <use x=\"95.410156\" xlink:href=\"#DejaVuSans-54\"/>\n     <use x=\"159.033203\" xlink:href=\"#DejaVuSans-57\"/>\n    </g>\n   </g>\n   <g id=\"text_515\">\n    <!-- 0.63 -->\n    <g style=\"fill:#262626;\" transform=\"translate(161.836875 149.658594)scale(0.1 -0.1)\">\n     <use xlink:href=\"#DejaVuSans-48\"/>\n     <use x=\"63.623047\" xlink:href=\"#DejaVuSans-46\"/>\n     <use x=\"95.410156\" xlink:href=\"#DejaVuSans-54\"/>\n     <use x=\"159.033203\" xlink:href=\"#DejaVuSans-51\"/>\n    </g>\n   </g>\n   <g id=\"text_516\">\n    <!-- 0.49 -->\n    <g style=\"fill:#ffffff;\" transform=\"translate(171.402589 149.658594)scale(0.1 -0.1)\">\n     <use xlink:href=\"#DejaVuSans-48\"/>\n     <use x=\"63.623047\" xlink:href=\"#DejaVuSans-46\"/>\n     <use x=\"95.410156\" xlink:href=\"#DejaVuSans-52\"/>\n     <use x=\"159.033203\" xlink:href=\"#DejaVuSans-57\"/>\n    </g>\n   </g>\n   <g id=\"text_517\">\n    <!-- 0.49 -->\n    <g style=\"fill:#ffffff;\" transform=\"translate(180.968304 149.658594)scale(0.1 -0.1)\">\n     <use xlink:href=\"#DejaVuSans-48\"/>\n     <use x=\"63.623047\" xlink:href=\"#DejaVuSans-46\"/>\n     <use x=\"95.410156\" xlink:href=\"#DejaVuSans-52\"/>\n     <use x=\"159.033203\" xlink:href=\"#DejaVuSans-57\"/>\n    </g>\n   </g>\n   <g id=\"text_518\">\n    <!-- 0.59 -->\n    <g style=\"fill:#262626;\" transform=\"translate(190.534018 149.658594)scale(0.1 -0.1)\">\n     <use xlink:href=\"#DejaVuSans-48\"/>\n     <use x=\"63.623047\" xlink:href=\"#DejaVuSans-46\"/>\n     <use x=\"95.410156\" xlink:href=\"#DejaVuSans-53\"/>\n     <use x=\"159.033203\" xlink:href=\"#DejaVuSans-57\"/>\n    </g>\n   </g>\n   <g id=\"text_519\">\n    <!-- -0.24 -->\n    <g style=\"fill:#ffffff;\" transform=\"translate(198.295826 149.658594)scale(0.1 -0.1)\">\n     <use xlink:href=\"#DejaVuSans-45\"/>\n     <use x=\"36.083984\" xlink:href=\"#DejaVuSans-48\"/>\n     <use x=\"99.707031\" xlink:href=\"#DejaVuSans-46\"/>\n     <use x=\"131.494141\" xlink:href=\"#DejaVuSans-50\"/>\n     <use x=\"195.117188\" xlink:href=\"#DejaVuSans-52\"/>\n    </g>\n   </g>\n   <g id=\"text_520\">\n    <!-- 0.79 -->\n    <g style=\"fill:#262626;\" transform=\"translate(209.665446 149.658594)scale(0.1 -0.1)\">\n     <use xlink:href=\"#DejaVuSans-48\"/>\n     <use x=\"63.623047\" xlink:href=\"#DejaVuSans-46\"/>\n     <use x=\"95.410156\" xlink:href=\"#DejaVuSans-55\"/>\n     <use x=\"159.033203\" xlink:href=\"#DejaVuSans-57\"/>\n    </g>\n   </g>\n   <g id=\"text_521\">\n    <!-- 0.97 -->\n    <g style=\"fill:#262626;\" transform=\"translate(219.231161 149.658594)scale(0.1 -0.1)\">\n     <use xlink:href=\"#DejaVuSans-48\"/>\n     <use x=\"63.623047\" xlink:href=\"#DejaVuSans-46\"/>\n     <use x=\"95.410156\" xlink:href=\"#DejaVuSans-57\"/>\n     <use x=\"159.033203\" xlink:href=\"#DejaVuSans-55\"/>\n    </g>\n   </g>\n   <g id=\"text_522\">\n    <!-- 1 -->\n    <g style=\"fill:#262626;\" transform=\"translate(236.748437 149.658594)scale(0.1 -0.1)\">\n     <use xlink:href=\"#DejaVuSans-49\"/>\n    </g>\n   </g>\n   <g id=\"text_523\">\n    <!-- 0.27 -->\n    <g style=\"fill:#ffffff;\" transform=\"translate(238.362589 149.658594)scale(0.1 -0.1)\">\n     <use xlink:href=\"#DejaVuSans-48\"/>\n     <use x=\"63.623047\" xlink:href=\"#DejaVuSans-46\"/>\n     <use x=\"95.410156\" xlink:href=\"#DejaVuSans-50\"/>\n     <use x=\"159.033203\" xlink:href=\"#DejaVuSans-55\"/>\n    </g>\n   </g>\n   <g id=\"text_524\">\n    <!-- 0.28 -->\n    <g style=\"fill:#ffffff;\" transform=\"translate(247.928304 149.658594)scale(0.1 -0.1)\">\n     <use xlink:href=\"#DejaVuSans-48\"/>\n     <use x=\"63.623047\" xlink:href=\"#DejaVuSans-46\"/>\n     <use x=\"95.410156\" xlink:href=\"#DejaVuSans-50\"/>\n     <use x=\"159.033203\" xlink:href=\"#DejaVuSans-56\"/>\n    </g>\n   </g>\n   <g id=\"text_525\">\n    <!-- 0.59 -->\n    <g style=\"fill:#262626;\" transform=\"translate(257.494018 149.658594)scale(0.1 -0.1)\">\n     <use xlink:href=\"#DejaVuSans-48\"/>\n     <use x=\"63.623047\" xlink:href=\"#DejaVuSans-46\"/>\n     <use x=\"95.410156\" xlink:href=\"#DejaVuSans-53\"/>\n     <use x=\"159.033203\" xlink:href=\"#DejaVuSans-57\"/>\n    </g>\n   </g>\n   <g id=\"text_526\">\n    <!-- 0.47 -->\n    <g style=\"fill:#ffffff;\" transform=\"translate(267.059732 149.658594)scale(0.1 -0.1)\">\n     <use xlink:href=\"#DejaVuSans-48\"/>\n     <use x=\"63.623047\" xlink:href=\"#DejaVuSans-46\"/>\n     <use x=\"95.410156\" xlink:href=\"#DejaVuSans-52\"/>\n     <use x=\"159.033203\" xlink:href=\"#DejaVuSans-55\"/>\n    </g>\n   </g>\n   <g id=\"text_527\">\n    <!-- 0.47 -->\n    <g style=\"fill:#ffffff;\" transform=\"translate(276.625446 149.658594)scale(0.1 -0.1)\">\n     <use xlink:href=\"#DejaVuSans-48\"/>\n     <use x=\"63.623047\" xlink:href=\"#DejaVuSans-46\"/>\n     <use x=\"95.410156\" xlink:href=\"#DejaVuSans-52\"/>\n     <use x=\"159.033203\" xlink:href=\"#DejaVuSans-55\"/>\n    </g>\n   </g>\n   <g id=\"text_528\">\n    <!-- 0.52 -->\n    <g style=\"fill:#ffffff;\" transform=\"translate(286.191161 149.658594)scale(0.1 -0.1)\">\n     <use xlink:href=\"#DejaVuSans-48\"/>\n     <use x=\"63.623047\" xlink:href=\"#DejaVuSans-46\"/>\n     <use x=\"95.410156\" xlink:href=\"#DejaVuSans-53\"/>\n     <use x=\"159.033203\" xlink:href=\"#DejaVuSans-50\"/>\n    </g>\n   </g>\n   <g id=\"text_529\">\n    <!-- -0.058 -->\n    <g style=\"fill:#ffffff;\" transform=\"translate(290.771719 149.658594)scale(0.1 -0.1)\">\n     <use xlink:href=\"#DejaVuSans-45\"/>\n     <use x=\"36.083984\" xlink:href=\"#DejaVuSans-48\"/>\n     <use x=\"99.707031\" xlink:href=\"#DejaVuSans-46\"/>\n     <use x=\"131.494141\" xlink:href=\"#DejaVuSans-48\"/>\n     <use x=\"195.117188\" xlink:href=\"#DejaVuSans-53\"/>\n     <use x=\"258.740234\" xlink:href=\"#DejaVuSans-56\"/>\n    </g>\n   </g>\n   <g id=\"text_530\">\n    <!-- 0.41 -->\n    <g style=\"fill:#ffffff;\" transform=\"translate(305.322589 149.658594)scale(0.1 -0.1)\">\n     <use xlink:href=\"#DejaVuSans-48\"/>\n     <use x=\"63.623047\" xlink:href=\"#DejaVuSans-46\"/>\n     <use x=\"95.410156\" xlink:href=\"#DejaVuSans-52\"/>\n     <use x=\"159.033203\" xlink:href=\"#DejaVuSans-49\"/>\n    </g>\n   </g>\n   <g id=\"text_531\">\n    <!-- 0.43 -->\n    <g style=\"fill:#ffffff;\" transform=\"translate(314.888304 149.658594)scale(0.1 -0.1)\">\n     <use xlink:href=\"#DejaVuSans-48\"/>\n     <use x=\"63.623047\" xlink:href=\"#DejaVuSans-46\"/>\n     <use x=\"95.410156\" xlink:href=\"#DejaVuSans-52\"/>\n     <use x=\"159.033203\" xlink:href=\"#DejaVuSans-51\"/>\n    </g>\n   </g>\n   <g id=\"text_532\">\n    <!-- -0.47 -->\n    <g style=\"fill:#ffffff;\" transform=\"translate(322.650112 149.658594)scale(0.1 -0.1)\">\n     <use xlink:href=\"#DejaVuSans-45\"/>\n     <use x=\"36.083984\" xlink:href=\"#DejaVuSans-48\"/>\n     <use x=\"99.707031\" xlink:href=\"#DejaVuSans-46\"/>\n     <use x=\"131.494141\" xlink:href=\"#DejaVuSans-52\"/>\n     <use x=\"195.117188\" xlink:href=\"#DejaVuSans-55\"/>\n    </g>\n   </g>\n   <g id=\"text_533\">\n    <!-- 0.41 -->\n    <g style=\"fill:#ffffff;\" transform=\"translate(66.179732 157.424308)scale(0.1 -0.1)\">\n     <use xlink:href=\"#DejaVuSans-48\"/>\n     <use x=\"63.623047\" xlink:href=\"#DejaVuSans-46\"/>\n     <use x=\"95.410156\" xlink:href=\"#DejaVuSans-52\"/>\n     <use x=\"159.033203\" xlink:href=\"#DejaVuSans-49\"/>\n    </g>\n   </g>\n   <g id=\"text_534\">\n    <!-- 0.53 -->\n    <g style=\"fill:#ffffff;\" transform=\"translate(75.745446 157.424308)scale(0.1 -0.1)\">\n     <use xlink:href=\"#DejaVuSans-48\"/>\n     <use x=\"63.623047\" xlink:href=\"#DejaVuSans-46\"/>\n     <use x=\"95.410156\" xlink:href=\"#DejaVuSans-53\"/>\n     <use x=\"159.033203\" xlink:href=\"#DejaVuSans-51\"/>\n    </g>\n   </g>\n   <g id=\"text_535\">\n    <!-- -0.2 -->\n    <g style=\"fill:#ffffff;\" transform=\"translate(86.688504 157.424308)scale(0.1 -0.1)\">\n     <use xlink:href=\"#DejaVuSans-45\"/>\n     <use x=\"36.083984\" xlink:href=\"#DejaVuSans-48\"/>\n     <use x=\"99.707031\" xlink:href=\"#DejaVuSans-46\"/>\n     <use x=\"131.494141\" xlink:href=\"#DejaVuSans-50\"/>\n    </g>\n   </g>\n   <g id=\"text_536\">\n    <!-- 0.6 -->\n    <g style=\"fill:#262626;\" transform=\"translate(98.058125 157.424308)scale(0.1 -0.1)\">\n     <use xlink:href=\"#DejaVuSans-48\"/>\n     <use x=\"63.623047\" xlink:href=\"#DejaVuSans-46\"/>\n     <use x=\"95.410156\" xlink:href=\"#DejaVuSans-54\"/>\n    </g>\n   </g>\n   <g id=\"text_537\">\n    <!-- 0.63 -->\n    <g style=\"fill:#262626;\" transform=\"translate(104.442589 157.424308)scale(0.1 -0.1)\">\n     <use xlink:href=\"#DejaVuSans-48\"/>\n     <use x=\"63.623047\" xlink:href=\"#DejaVuSans-46\"/>\n     <use x=\"95.410156\" xlink:href=\"#DejaVuSans-54\"/>\n     <use x=\"159.033203\" xlink:href=\"#DejaVuSans-51\"/>\n    </g>\n   </g>\n   <g id=\"text_538\">\n    <!-- 0.084 -->\n    <g style=\"fill:#ffffff;\" transform=\"translate(110.827054 157.424308)scale(0.1 -0.1)\">\n     <use xlink:href=\"#DejaVuSans-48\"/>\n     <use x=\"63.623047\" xlink:href=\"#DejaVuSans-46\"/>\n     <use x=\"95.410156\" xlink:href=\"#DejaVuSans-48\"/>\n     <use x=\"159.033203\" xlink:href=\"#DejaVuSans-56\"/>\n     <use x=\"222.65625\" xlink:href=\"#DejaVuSans-52\"/>\n    </g>\n   </g>\n   <g id=\"text_539\">\n    <!-- 0.39 -->\n    <g style=\"fill:#ffffff;\" transform=\"translate(123.574018 157.424308)scale(0.1 -0.1)\">\n     <use xlink:href=\"#DejaVuSans-48\"/>\n     <use x=\"63.623047\" xlink:href=\"#DejaVuSans-46\"/>\n     <use x=\"95.410156\" xlink:href=\"#DejaVuSans-51\"/>\n     <use x=\"159.033203\" xlink:href=\"#DejaVuSans-57\"/>\n    </g>\n   </g>\n   <g id=\"text_540\">\n    <!-- 0.41 -->\n    <g style=\"fill:#ffffff;\" transform=\"translate(133.139732 157.424308)scale(0.1 -0.1)\">\n     <use xlink:href=\"#DejaVuSans-48\"/>\n     <use x=\"63.623047\" xlink:href=\"#DejaVuSans-46\"/>\n     <use x=\"95.410156\" xlink:href=\"#DejaVuSans-52\"/>\n     <use x=\"159.033203\" xlink:href=\"#DejaVuSans-49\"/>\n    </g>\n   </g>\n   <g id=\"text_541\">\n    <!-- 0.026 -->\n    <g style=\"fill:#ffffff;\" transform=\"translate(139.524196 157.424308)scale(0.1 -0.1)\">\n     <use xlink:href=\"#DejaVuSans-48\"/>\n     <use x=\"63.623047\" xlink:href=\"#DejaVuSans-46\"/>\n     <use x=\"95.410156\" xlink:href=\"#DejaVuSans-48\"/>\n     <use x=\"159.033203\" xlink:href=\"#DejaVuSans-50\"/>\n     <use x=\"222.65625\" xlink:href=\"#DejaVuSans-54\"/>\n    </g>\n   </g>\n   <g id=\"text_542\">\n    <!-- 0.51 -->\n    <g style=\"fill:#ffffff;\" transform=\"translate(152.271161 157.424308)scale(0.1 -0.1)\">\n     <use xlink:href=\"#DejaVuSans-48\"/>\n     <use x=\"63.623047\" xlink:href=\"#DejaVuSans-46\"/>\n     <use x=\"95.410156\" xlink:href=\"#DejaVuSans-53\"/>\n     <use x=\"159.033203\" xlink:href=\"#DejaVuSans-49\"/>\n    </g>\n   </g>\n   <g id=\"text_543\">\n    <!-- 0.55 -->\n    <g style=\"fill:#ffffff;\" transform=\"translate(161.836875 157.424308)scale(0.1 -0.1)\">\n     <use xlink:href=\"#DejaVuSans-48\"/>\n     <use x=\"63.623047\" xlink:href=\"#DejaVuSans-46\"/>\n     <use x=\"95.410156\" xlink:href=\"#DejaVuSans-53\"/>\n     <use x=\"159.033203\" xlink:href=\"#DejaVuSans-53\"/>\n    </g>\n   </g>\n   <g id=\"text_544\">\n    <!-- 0.11 -->\n    <g style=\"fill:#ffffff;\" transform=\"translate(171.402589 157.424308)scale(0.1 -0.1)\">\n     <use xlink:href=\"#DejaVuSans-48\"/>\n     <use x=\"63.623047\" xlink:href=\"#DejaVuSans-46\"/>\n     <use x=\"95.410156\" xlink:href=\"#DejaVuSans-49\"/>\n     <use x=\"159.033203\" xlink:href=\"#DejaVuSans-49\"/>\n    </g>\n   </g>\n   <g id=\"text_545\">\n    <!-- 0.55 -->\n    <g style=\"fill:#ffffff;\" transform=\"translate(180.968304 157.424308)scale(0.1 -0.1)\">\n     <use xlink:href=\"#DejaVuSans-48\"/>\n     <use x=\"63.623047\" xlink:href=\"#DejaVuSans-46\"/>\n     <use x=\"95.410156\" xlink:href=\"#DejaVuSans-53\"/>\n     <use x=\"159.033203\" xlink:href=\"#DejaVuSans-53\"/>\n    </g>\n   </g>\n   <g id=\"text_546\">\n    <!-- 0.55 -->\n    <g style=\"fill:#ffffff;\" transform=\"translate(190.534018 157.424308)scale(0.1 -0.1)\">\n     <use xlink:href=\"#DejaVuSans-48\"/>\n     <use x=\"63.623047\" xlink:href=\"#DejaVuSans-46\"/>\n     <use x=\"95.410156\" xlink:href=\"#DejaVuSans-53\"/>\n     <use x=\"159.033203\" xlink:href=\"#DejaVuSans-53\"/>\n    </g>\n   </g>\n   <g id=\"text_547\">\n    <!-- 0.22 -->\n    <g style=\"fill:#ffffff;\" transform=\"translate(200.099732 157.424308)scale(0.1 -0.1)\">\n     <use xlink:href=\"#DejaVuSans-48\"/>\n     <use x=\"63.623047\" xlink:href=\"#DejaVuSans-46\"/>\n     <use x=\"95.410156\" xlink:href=\"#DejaVuSans-50\"/>\n     <use x=\"159.033203\" xlink:href=\"#DejaVuSans-50\"/>\n    </g>\n   </g>\n   <g id=\"text_548\">\n    <!-- -0.089 -->\n    <g style=\"fill:#ffffff;\" transform=\"translate(204.68029 157.424308)scale(0.1 -0.1)\">\n     <use xlink:href=\"#DejaVuSans-45\"/>\n     <use x=\"36.083984\" xlink:href=\"#DejaVuSans-48\"/>\n     <use x=\"99.707031\" xlink:href=\"#DejaVuSans-46\"/>\n     <use x=\"131.494141\" xlink:href=\"#DejaVuSans-48\"/>\n     <use x=\"195.117188\" xlink:href=\"#DejaVuSans-56\"/>\n     <use x=\"258.740234\" xlink:href=\"#DejaVuSans-57\"/>\n    </g>\n   </g>\n   <g id=\"text_549\">\n    <!-- 0.38 -->\n    <g style=\"fill:#ffffff;\" transform=\"translate(219.231161 157.424308)scale(0.1 -0.1)\">\n     <use xlink:href=\"#DejaVuSans-48\"/>\n     <use x=\"63.623047\" xlink:href=\"#DejaVuSans-46\"/>\n     <use x=\"95.410156\" xlink:href=\"#DejaVuSans-51\"/>\n     <use x=\"159.033203\" xlink:href=\"#DejaVuSans-56\"/>\n    </g>\n   </g>\n   <g id=\"text_550\">\n    <!-- 0.27 -->\n    <g style=\"fill:#ffffff;\" transform=\"translate(228.796875 157.424308)scale(0.1 -0.1)\">\n     <use xlink:href=\"#DejaVuSans-48\"/>\n     <use x=\"63.623047\" xlink:href=\"#DejaVuSans-46\"/>\n     <use x=\"95.410156\" xlink:href=\"#DejaVuSans-50\"/>\n     <use x=\"159.033203\" xlink:href=\"#DejaVuSans-55\"/>\n    </g>\n   </g>\n   <g id=\"text_551\">\n    <!-- 1 -->\n    <g style=\"fill:#262626;\" transform=\"translate(246.314152 157.424308)scale(0.1 -0.1)\">\n     <use xlink:href=\"#DejaVuSans-49\"/>\n    </g>\n   </g>\n   <g id=\"text_552\">\n    <!-- 0.51 -->\n    <g style=\"fill:#ffffff;\" transform=\"translate(247.928304 157.424308)scale(0.1 -0.1)\">\n     <use xlink:href=\"#DejaVuSans-48\"/>\n     <use x=\"63.623047\" xlink:href=\"#DejaVuSans-46\"/>\n     <use x=\"95.410156\" xlink:href=\"#DejaVuSans-53\"/>\n     <use x=\"159.033203\" xlink:href=\"#DejaVuSans-49\"/>\n    </g>\n   </g>\n   <g id=\"text_553\">\n    <!-- -0.088 -->\n    <g style=\"fill:#ffffff;\" transform=\"translate(252.508862 157.424308)scale(0.1 -0.1)\">\n     <use xlink:href=\"#DejaVuSans-45\"/>\n     <use x=\"36.083984\" xlink:href=\"#DejaVuSans-48\"/>\n     <use x=\"99.707031\" xlink:href=\"#DejaVuSans-46\"/>\n     <use x=\"131.494141\" xlink:href=\"#DejaVuSans-48\"/>\n     <use x=\"195.117188\" xlink:href=\"#DejaVuSans-56\"/>\n     <use x=\"258.740234\" xlink:href=\"#DejaVuSans-56\"/>\n    </g>\n   </g>\n   <g id=\"text_554\">\n    <!-- 0.75 -->\n    <g style=\"fill:#262626;\" transform=\"translate(267.059732 157.424308)scale(0.1 -0.1)\">\n     <use xlink:href=\"#DejaVuSans-48\"/>\n     <use x=\"63.623047\" xlink:href=\"#DejaVuSans-46\"/>\n     <use x=\"95.410156\" xlink:href=\"#DejaVuSans-55\"/>\n     <use x=\"159.033203\" xlink:href=\"#DejaVuSans-53\"/>\n    </g>\n   </g>\n   <g id=\"text_555\">\n    <!-- 0.22 -->\n    <g style=\"fill:#ffffff;\" transform=\"translate(276.625446 157.424308)scale(0.1 -0.1)\">\n     <use xlink:href=\"#DejaVuSans-48\"/>\n     <use x=\"63.623047\" xlink:href=\"#DejaVuSans-46\"/>\n     <use x=\"95.410156\" xlink:href=\"#DejaVuSans-50\"/>\n     <use x=\"159.033203\" xlink:href=\"#DejaVuSans-50\"/>\n    </g>\n   </g>\n   <g id=\"text_556\">\n    <!-- 0.62 -->\n    <g style=\"fill:#262626;\" transform=\"translate(286.191161 157.424308)scale(0.1 -0.1)\">\n     <use xlink:href=\"#DejaVuSans-48\"/>\n     <use x=\"63.623047\" xlink:href=\"#DejaVuSans-46\"/>\n     <use x=\"95.410156\" xlink:href=\"#DejaVuSans-54\"/>\n     <use x=\"159.033203\" xlink:href=\"#DejaVuSans-50\"/>\n    </g>\n   </g>\n   <g id=\"text_557\">\n    <!-- 0.2 -->\n    <g style=\"fill:#ffffff;\" transform=\"translate(298.938125 157.424308)scale(0.1 -0.1)\">\n     <use xlink:href=\"#DejaVuSans-48\"/>\n     <use x=\"63.623047\" xlink:href=\"#DejaVuSans-46\"/>\n     <use x=\"95.410156\" xlink:href=\"#DejaVuSans-50\"/>\n    </g>\n   </g>\n   <g id=\"text_558\">\n    <!-- 0.6 -->\n    <g style=\"fill:#262626;\" transform=\"translate(308.503839 157.424308)scale(0.1 -0.1)\">\n     <use xlink:href=\"#DejaVuSans-48\"/>\n     <use x=\"63.623047\" xlink:href=\"#DejaVuSans-46\"/>\n     <use x=\"95.410156\" xlink:href=\"#DejaVuSans-54\"/>\n    </g>\n   </g>\n   <g id=\"text_559\">\n    <!-- 0.67 -->\n    <g style=\"fill:#262626;\" transform=\"translate(314.888304 157.424308)scale(0.1 -0.1)\">\n     <use xlink:href=\"#DejaVuSans-48\"/>\n     <use x=\"63.623047\" xlink:href=\"#DejaVuSans-46\"/>\n     <use x=\"95.410156\" xlink:href=\"#DejaVuSans-54\"/>\n     <use x=\"159.033203\" xlink:href=\"#DejaVuSans-55\"/>\n    </g>\n   </g>\n   <g id=\"text_560\">\n    <!-- -0.63 -->\n    <g style=\"fill:#ffffff;\" transform=\"translate(322.650112 157.424308)scale(0.1 -0.1)\">\n     <use xlink:href=\"#DejaVuSans-45\"/>\n     <use x=\"36.083984\" xlink:href=\"#DejaVuSans-48\"/>\n     <use x=\"99.707031\" xlink:href=\"#DejaVuSans-46\"/>\n     <use x=\"131.494141\" xlink:href=\"#DejaVuSans-54\"/>\n     <use x=\"195.117188\" xlink:href=\"#DejaVuSans-51\"/>\n    </g>\n   </g>\n   <g id=\"text_561\">\n    <!-- 0.23 -->\n    <g style=\"fill:#ffffff;\" transform=\"translate(66.179732 165.190022)scale(0.1 -0.1)\">\n     <use xlink:href=\"#DejaVuSans-48\"/>\n     <use x=\"63.623047\" xlink:href=\"#DejaVuSans-46\"/>\n     <use x=\"95.410156\" xlink:href=\"#DejaVuSans-50\"/>\n     <use x=\"159.033203\" xlink:href=\"#DejaVuSans-51\"/>\n    </g>\n   </g>\n   <g id=\"text_562\">\n    <!-- 0.35 -->\n    <g style=\"fill:#ffffff;\" transform=\"translate(75.745446 165.190022)scale(0.1 -0.1)\">\n     <use xlink:href=\"#DejaVuSans-48\"/>\n     <use x=\"63.623047\" xlink:href=\"#DejaVuSans-46\"/>\n     <use x=\"95.410156\" xlink:href=\"#DejaVuSans-51\"/>\n     <use x=\"159.033203\" xlink:href=\"#DejaVuSans-53\"/>\n    </g>\n   </g>\n   <g id=\"text_563\">\n    <!-- 0.16 -->\n    <g style=\"fill:#ffffff;\" transform=\"translate(85.311161 165.190022)scale(0.1 -0.1)\">\n     <use xlink:href=\"#DejaVuSans-48\"/>\n     <use x=\"63.623047\" xlink:href=\"#DejaVuSans-46\"/>\n     <use x=\"95.410156\" xlink:href=\"#DejaVuSans-49\"/>\n     <use x=\"159.033203\" xlink:href=\"#DejaVuSans-54\"/>\n    </g>\n   </g>\n   <g id=\"text_564\">\n    <!-- 0.44 -->\n    <g style=\"fill:#ffffff;\" transform=\"translate(94.876875 165.190022)scale(0.1 -0.1)\">\n     <use xlink:href=\"#DejaVuSans-48\"/>\n     <use x=\"63.623047\" xlink:href=\"#DejaVuSans-46\"/>\n     <use x=\"95.410156\" xlink:href=\"#DejaVuSans-52\"/>\n     <use x=\"159.033203\" xlink:href=\"#DejaVuSans-52\"/>\n    </g>\n   </g>\n   <g id=\"text_565\">\n    <!-- 0.44 -->\n    <g style=\"fill:#ffffff;\" transform=\"translate(104.442589 165.190022)scale(0.1 -0.1)\">\n     <use xlink:href=\"#DejaVuSans-48\"/>\n     <use x=\"63.623047\" xlink:href=\"#DejaVuSans-46\"/>\n     <use x=\"95.410156\" xlink:href=\"#DejaVuSans-52\"/>\n     <use x=\"159.033203\" xlink:href=\"#DejaVuSans-52\"/>\n    </g>\n   </g>\n   <g id=\"text_566\">\n    <!-- 0.2 -->\n    <g style=\"fill:#ffffff;\" transform=\"translate(117.189554 165.190022)scale(0.1 -0.1)\">\n     <use xlink:href=\"#DejaVuSans-48\"/>\n     <use x=\"63.623047\" xlink:href=\"#DejaVuSans-46\"/>\n     <use x=\"95.410156\" xlink:href=\"#DejaVuSans-50\"/>\n    </g>\n   </g>\n   <g id=\"text_567\">\n    <!-- 0.17 -->\n    <g style=\"fill:#ffffff;\" transform=\"translate(123.574018 165.190022)scale(0.1 -0.1)\">\n     <use xlink:href=\"#DejaVuSans-48\"/>\n     <use x=\"63.623047\" xlink:href=\"#DejaVuSans-46\"/>\n     <use x=\"95.410156\" xlink:href=\"#DejaVuSans-49\"/>\n     <use x=\"159.033203\" xlink:href=\"#DejaVuSans-55\"/>\n    </g>\n   </g>\n   <g id=\"text_568\">\n    <!-- 0.18 -->\n    <g style=\"fill:#ffffff;\" transform=\"translate(133.139732 165.190022)scale(0.1 -0.1)\">\n     <use xlink:href=\"#DejaVuSans-48\"/>\n     <use x=\"63.623047\" xlink:href=\"#DejaVuSans-46\"/>\n     <use x=\"95.410156\" xlink:href=\"#DejaVuSans-49\"/>\n     <use x=\"159.033203\" xlink:href=\"#DejaVuSans-56\"/>\n    </g>\n   </g>\n   <g id=\"text_569\">\n    <!-- 0.14 -->\n    <g style=\"fill:#ffffff;\" transform=\"translate(142.705446 165.190022)scale(0.1 -0.1)\">\n     <use xlink:href=\"#DejaVuSans-48\"/>\n     <use x=\"63.623047\" xlink:href=\"#DejaVuSans-46\"/>\n     <use x=\"95.410156\" xlink:href=\"#DejaVuSans-49\"/>\n     <use x=\"159.033203\" xlink:href=\"#DejaVuSans-52\"/>\n    </g>\n   </g>\n   <g id=\"text_570\">\n    <!-- 0.43 -->\n    <g style=\"fill:#ffffff;\" transform=\"translate(152.271161 165.190022)scale(0.1 -0.1)\">\n     <use xlink:href=\"#DejaVuSans-48\"/>\n     <use x=\"63.623047\" xlink:href=\"#DejaVuSans-46\"/>\n     <use x=\"95.410156\" xlink:href=\"#DejaVuSans-52\"/>\n     <use x=\"159.033203\" xlink:href=\"#DejaVuSans-51\"/>\n    </g>\n   </g>\n   <g id=\"text_571\">\n    <!-- 0.45 -->\n    <g style=\"fill:#ffffff;\" transform=\"translate(161.836875 165.190022)scale(0.1 -0.1)\">\n     <use xlink:href=\"#DejaVuSans-48\"/>\n     <use x=\"63.623047\" xlink:href=\"#DejaVuSans-46\"/>\n     <use x=\"95.410156\" xlink:href=\"#DejaVuSans-52\"/>\n     <use x=\"159.033203\" xlink:href=\"#DejaVuSans-53\"/>\n    </g>\n   </g>\n   <g id=\"text_572\">\n    <!-- 0.15 -->\n    <g style=\"fill:#ffffff;\" transform=\"translate(171.402589 165.190022)scale(0.1 -0.1)\">\n     <use xlink:href=\"#DejaVuSans-48\"/>\n     <use x=\"63.623047\" xlink:href=\"#DejaVuSans-46\"/>\n     <use x=\"95.410156\" xlink:href=\"#DejaVuSans-49\"/>\n     <use x=\"159.033203\" xlink:href=\"#DejaVuSans-53\"/>\n    </g>\n   </g>\n   <g id=\"text_573\">\n    <!-- 0.4 -->\n    <g style=\"fill:#ffffff;\" transform=\"translate(184.149554 165.190022)scale(0.1 -0.1)\">\n     <use xlink:href=\"#DejaVuSans-48\"/>\n     <use x=\"63.623047\" xlink:href=\"#DejaVuSans-46\"/>\n     <use x=\"95.410156\" xlink:href=\"#DejaVuSans-52\"/>\n    </g>\n   </g>\n   <g id=\"text_574\">\n    <!-- 0.41 -->\n    <g style=\"fill:#ffffff;\" transform=\"translate(190.534018 165.190022)scale(0.1 -0.1)\">\n     <use xlink:href=\"#DejaVuSans-48\"/>\n     <use x=\"63.623047\" xlink:href=\"#DejaVuSans-46\"/>\n     <use x=\"95.410156\" xlink:href=\"#DejaVuSans-52\"/>\n     <use x=\"159.033203\" xlink:href=\"#DejaVuSans-49\"/>\n    </g>\n   </g>\n   <g id=\"text_575\">\n    <!-- 0.16 -->\n    <g style=\"fill:#ffffff;\" transform=\"translate(200.099732 165.190022)scale(0.1 -0.1)\">\n     <use xlink:href=\"#DejaVuSans-48\"/>\n     <use x=\"63.623047\" xlink:href=\"#DejaVuSans-46\"/>\n     <use x=\"95.410156\" xlink:href=\"#DejaVuSans-49\"/>\n     <use x=\"159.033203\" xlink:href=\"#DejaVuSans-54\"/>\n    </g>\n   </g>\n   <g id=\"text_576\">\n    <!-- 0.16 -->\n    <g style=\"fill:#ffffff;\" transform=\"translate(209.665446 165.190022)scale(0.1 -0.1)\">\n     <use xlink:href=\"#DejaVuSans-48\"/>\n     <use x=\"63.623047\" xlink:href=\"#DejaVuSans-46\"/>\n     <use x=\"95.410156\" xlink:href=\"#DejaVuSans-49\"/>\n     <use x=\"159.033203\" xlink:href=\"#DejaVuSans-54\"/>\n    </g>\n   </g>\n   <g id=\"text_577\">\n    <!-- 0.3 -->\n    <g style=\"fill:#ffffff;\" transform=\"translate(222.412411 165.190022)scale(0.1 -0.1)\">\n     <use xlink:href=\"#DejaVuSans-48\"/>\n     <use x=\"63.623047\" xlink:href=\"#DejaVuSans-46\"/>\n     <use x=\"95.410156\" xlink:href=\"#DejaVuSans-51\"/>\n    </g>\n   </g>\n   <g id=\"text_578\">\n    <!-- 0.28 -->\n    <g style=\"fill:#ffffff;\" transform=\"translate(228.796875 165.190022)scale(0.1 -0.1)\">\n     <use xlink:href=\"#DejaVuSans-48\"/>\n     <use x=\"63.623047\" xlink:href=\"#DejaVuSans-46\"/>\n     <use x=\"95.410156\" xlink:href=\"#DejaVuSans-50\"/>\n     <use x=\"159.033203\" xlink:href=\"#DejaVuSans-56\"/>\n    </g>\n   </g>\n   <g id=\"text_579\">\n    <!-- 0.51 -->\n    <g style=\"fill:#ffffff;\" transform=\"translate(238.362589 165.190022)scale(0.1 -0.1)\">\n     <use xlink:href=\"#DejaVuSans-48\"/>\n     <use x=\"63.623047\" xlink:href=\"#DejaVuSans-46\"/>\n     <use x=\"95.410156\" xlink:href=\"#DejaVuSans-53\"/>\n     <use x=\"159.033203\" xlink:href=\"#DejaVuSans-49\"/>\n    </g>\n   </g>\n   <g id=\"text_580\">\n    <!-- 1 -->\n    <g style=\"fill:#262626;\" transform=\"translate(255.879866 165.190022)scale(0.1 -0.1)\">\n     <use xlink:href=\"#DejaVuSans-49\"/>\n    </g>\n   </g>\n   <g id=\"text_581\">\n    <!-- -0.0056 -->\n    <g style=\"fill:#ffffff;\" transform=\"translate(249.327612 165.190022)scale(0.1 -0.1)\">\n     <use xlink:href=\"#DejaVuSans-45\"/>\n     <use x=\"36.083984\" xlink:href=\"#DejaVuSans-48\"/>\n     <use x=\"99.707031\" xlink:href=\"#DejaVuSans-46\"/>\n     <use x=\"131.494141\" xlink:href=\"#DejaVuSans-48\"/>\n     <use x=\"195.117188\" xlink:href=\"#DejaVuSans-48\"/>\n     <use x=\"258.740234\" xlink:href=\"#DejaVuSans-53\"/>\n     <use x=\"322.363281\" xlink:href=\"#DejaVuSans-54\"/>\n    </g>\n   </g>\n   <g id=\"text_582\">\n    <!-- 0.47 -->\n    <g style=\"fill:#ffffff;\" transform=\"translate(267.059732 165.190022)scale(0.1 -0.1)\">\n     <use xlink:href=\"#DejaVuSans-48\"/>\n     <use x=\"63.623047\" xlink:href=\"#DejaVuSans-46\"/>\n     <use x=\"95.410156\" xlink:href=\"#DejaVuSans-52\"/>\n     <use x=\"159.033203\" xlink:href=\"#DejaVuSans-55\"/>\n    </g>\n   </g>\n   <g id=\"text_583\">\n    <!-- 0.38 -->\n    <g style=\"fill:#ffffff;\" transform=\"translate(276.625446 165.190022)scale(0.1 -0.1)\">\n     <use xlink:href=\"#DejaVuSans-48\"/>\n     <use x=\"63.623047\" xlink:href=\"#DejaVuSans-46\"/>\n     <use x=\"95.410156\" xlink:href=\"#DejaVuSans-51\"/>\n     <use x=\"159.033203\" xlink:href=\"#DejaVuSans-56\"/>\n    </g>\n   </g>\n   <g id=\"text_584\">\n    <!-- 0.44 -->\n    <g style=\"fill:#ffffff;\" transform=\"translate(286.191161 165.190022)scale(0.1 -0.1)\">\n     <use xlink:href=\"#DejaVuSans-48\"/>\n     <use x=\"63.623047\" xlink:href=\"#DejaVuSans-46\"/>\n     <use x=\"95.410156\" xlink:href=\"#DejaVuSans-52\"/>\n     <use x=\"159.033203\" xlink:href=\"#DejaVuSans-52\"/>\n    </g>\n   </g>\n   <g id=\"text_585\">\n    <!-- 0.025 -->\n    <g style=\"fill:#ffffff;\" transform=\"translate(292.575625 165.190022)scale(0.1 -0.1)\">\n     <use xlink:href=\"#DejaVuSans-48\"/>\n     <use x=\"63.623047\" xlink:href=\"#DejaVuSans-46\"/>\n     <use x=\"95.410156\" xlink:href=\"#DejaVuSans-48\"/>\n     <use x=\"159.033203\" xlink:href=\"#DejaVuSans-50\"/>\n     <use x=\"222.65625\" xlink:href=\"#DejaVuSans-53\"/>\n    </g>\n   </g>\n   <g id=\"text_586\">\n    <!-- 0.23 -->\n    <g style=\"fill:#ffffff;\" transform=\"translate(305.322589 165.190022)scale(0.1 -0.1)\">\n     <use xlink:href=\"#DejaVuSans-48\"/>\n     <use x=\"63.623047\" xlink:href=\"#DejaVuSans-46\"/>\n     <use x=\"95.410156\" xlink:href=\"#DejaVuSans-50\"/>\n     <use x=\"159.033203\" xlink:href=\"#DejaVuSans-51\"/>\n    </g>\n   </g>\n   <g id=\"text_587\">\n    <!-- 0.42 -->\n    <g style=\"fill:#ffffff;\" transform=\"translate(314.888304 165.190022)scale(0.1 -0.1)\">\n     <use xlink:href=\"#DejaVuSans-48\"/>\n     <use x=\"63.623047\" xlink:href=\"#DejaVuSans-46\"/>\n     <use x=\"95.410156\" xlink:href=\"#DejaVuSans-52\"/>\n     <use x=\"159.033203\" xlink:href=\"#DejaVuSans-50\"/>\n    </g>\n   </g>\n   <g id=\"text_588\">\n    <!-- -0.34 -->\n    <g style=\"fill:#ffffff;\" transform=\"translate(322.650112 165.190022)scale(0.1 -0.1)\">\n     <use xlink:href=\"#DejaVuSans-45\"/>\n     <use x=\"36.083984\" xlink:href=\"#DejaVuSans-48\"/>\n     <use x=\"99.707031\" xlink:href=\"#DejaVuSans-46\"/>\n     <use x=\"131.494141\" xlink:href=\"#DejaVuSans-51\"/>\n     <use x=\"195.117188\" xlink:href=\"#DejaVuSans-52\"/>\n    </g>\n   </g>\n   <g id=\"text_589\">\n    <!-- 0.19 -->\n    <g style=\"fill:#ffffff;\" transform=\"translate(66.179732 172.955737)scale(0.1 -0.1)\">\n     <use xlink:href=\"#DejaVuSans-48\"/>\n     <use x=\"63.623047\" xlink:href=\"#DejaVuSans-46\"/>\n     <use x=\"95.410156\" xlink:href=\"#DejaVuSans-49\"/>\n     <use x=\"159.033203\" xlink:href=\"#DejaVuSans-57\"/>\n    </g>\n   </g>\n   <g id=\"text_590\">\n    <!-- 0.27 -->\n    <g style=\"fill:#ffffff;\" transform=\"translate(75.745446 172.955737)scale(0.1 -0.1)\">\n     <use xlink:href=\"#DejaVuSans-48\"/>\n     <use x=\"63.623047\" xlink:href=\"#DejaVuSans-46\"/>\n     <use x=\"95.410156\" xlink:href=\"#DejaVuSans-50\"/>\n     <use x=\"159.033203\" xlink:href=\"#DejaVuSans-55\"/>\n    </g>\n   </g>\n   <g id=\"text_591\">\n    <!-- -0.17 -->\n    <g style=\"fill:#ffffff;\" transform=\"translate(83.507254 172.955737)scale(0.1 -0.1)\">\n     <use xlink:href=\"#DejaVuSans-45\"/>\n     <use x=\"36.083984\" xlink:href=\"#DejaVuSans-48\"/>\n     <use x=\"99.707031\" xlink:href=\"#DejaVuSans-46\"/>\n     <use x=\"131.494141\" xlink:href=\"#DejaVuSans-49\"/>\n     <use x=\"195.117188\" xlink:href=\"#DejaVuSans-55\"/>\n    </g>\n   </g>\n   <g id=\"text_592\">\n    <!-- 0.23 -->\n    <g style=\"fill:#ffffff;\" transform=\"translate(94.876875 172.955737)scale(0.1 -0.1)\">\n     <use xlink:href=\"#DejaVuSans-48\"/>\n     <use x=\"63.623047\" xlink:href=\"#DejaVuSans-46\"/>\n     <use x=\"95.410156\" xlink:href=\"#DejaVuSans-50\"/>\n     <use x=\"159.033203\" xlink:href=\"#DejaVuSans-51\"/>\n    </g>\n   </g>\n   <g id=\"text_593\">\n    <!-- 0.15 -->\n    <g style=\"fill:#ffffff;\" transform=\"translate(104.442589 172.955737)scale(0.1 -0.1)\">\n     <use xlink:href=\"#DejaVuSans-48\"/>\n     <use x=\"63.623047\" xlink:href=\"#DejaVuSans-46\"/>\n     <use x=\"95.410156\" xlink:href=\"#DejaVuSans-49\"/>\n     <use x=\"159.033203\" xlink:href=\"#DejaVuSans-53\"/>\n    </g>\n   </g>\n   <g id=\"text_594\">\n    <!-- 0.36 -->\n    <g style=\"fill:#ffffff;\" transform=\"translate(114.008304 172.955737)scale(0.1 -0.1)\">\n     <use xlink:href=\"#DejaVuSans-48\"/>\n     <use x=\"63.623047\" xlink:href=\"#DejaVuSans-46\"/>\n     <use x=\"95.410156\" xlink:href=\"#DejaVuSans-51\"/>\n     <use x=\"159.033203\" xlink:href=\"#DejaVuSans-54\"/>\n    </g>\n   </g>\n   <g id=\"text_595\">\n    <!-- -0.11 -->\n    <g style=\"fill:#ffffff;\" transform=\"translate(121.770112 172.955737)scale(0.1 -0.1)\">\n     <use xlink:href=\"#DejaVuSans-45\"/>\n     <use x=\"36.083984\" xlink:href=\"#DejaVuSans-48\"/>\n     <use x=\"99.707031\" xlink:href=\"#DejaVuSans-46\"/>\n     <use x=\"131.494141\" xlink:href=\"#DejaVuSans-49\"/>\n     <use x=\"195.117188\" xlink:href=\"#DejaVuSans-49\"/>\n    </g>\n   </g>\n   <g id=\"text_596\">\n    <!-- -0.1 -->\n    <g style=\"fill:#ffffff;\" transform=\"translate(134.517076 172.955737)scale(0.1 -0.1)\">\n     <use xlink:href=\"#DejaVuSans-45\"/>\n     <use x=\"36.083984\" xlink:href=\"#DejaVuSans-48\"/>\n     <use x=\"99.707031\" xlink:href=\"#DejaVuSans-46\"/>\n     <use x=\"131.494141\" xlink:href=\"#DejaVuSans-49\"/>\n    </g>\n   </g>\n   <g id=\"text_597\">\n    <!-- -0.18 -->\n    <g style=\"fill:#ffffff;\" transform=\"translate(140.90154 172.955737)scale(0.1 -0.1)\">\n     <use xlink:href=\"#DejaVuSans-45\"/>\n     <use x=\"36.083984\" xlink:href=\"#DejaVuSans-48\"/>\n     <use x=\"99.707031\" xlink:href=\"#DejaVuSans-46\"/>\n     <use x=\"131.494141\" xlink:href=\"#DejaVuSans-49\"/>\n     <use x=\"195.117188\" xlink:href=\"#DejaVuSans-56\"/>\n    </g>\n   </g>\n   <g id=\"text_598\">\n    <!-- 0.33 -->\n    <g style=\"fill:#ffffff;\" transform=\"translate(152.271161 172.955737)scale(0.1 -0.1)\">\n     <use xlink:href=\"#DejaVuSans-48\"/>\n     <use x=\"63.623047\" xlink:href=\"#DejaVuSans-46\"/>\n     <use x=\"95.410156\" xlink:href=\"#DejaVuSans-51\"/>\n     <use x=\"159.033203\" xlink:href=\"#DejaVuSans-51\"/>\n    </g>\n   </g>\n   <g id=\"text_599\">\n    <!-- 0.26 -->\n    <g style=\"fill:#ffffff;\" transform=\"translate(161.836875 172.955737)scale(0.1 -0.1)\">\n     <use xlink:href=\"#DejaVuSans-48\"/>\n     <use x=\"63.623047\" xlink:href=\"#DejaVuSans-46\"/>\n     <use x=\"95.410156\" xlink:href=\"#DejaVuSans-50\"/>\n     <use x=\"159.033203\" xlink:href=\"#DejaVuSans-54\"/>\n    </g>\n   </g>\n   <g id=\"text_600\">\n    <!-- 0.36 -->\n    <g style=\"fill:#ffffff;\" transform=\"translate(171.402589 172.955737)scale(0.1 -0.1)\">\n     <use xlink:href=\"#DejaVuSans-48\"/>\n     <use x=\"63.623047\" xlink:href=\"#DejaVuSans-46\"/>\n     <use x=\"95.410156\" xlink:href=\"#DejaVuSans-51\"/>\n     <use x=\"159.033203\" xlink:href=\"#DejaVuSans-54\"/>\n    </g>\n   </g>\n   <g id=\"text_601\">\n    <!-- 0.23 -->\n    <g style=\"fill:#ffffff;\" transform=\"translate(180.968304 172.955737)scale(0.1 -0.1)\">\n     <use xlink:href=\"#DejaVuSans-48\"/>\n     <use x=\"63.623047\" xlink:href=\"#DejaVuSans-46\"/>\n     <use x=\"95.410156\" xlink:href=\"#DejaVuSans-50\"/>\n     <use x=\"159.033203\" xlink:href=\"#DejaVuSans-51\"/>\n    </g>\n   </g>\n   <g id=\"text_602\">\n    <!-- 0.3 -->\n    <g style=\"fill:#ffffff;\" transform=\"translate(193.715268 172.955737)scale(0.1 -0.1)\">\n     <use xlink:href=\"#DejaVuSans-48\"/>\n     <use x=\"63.623047\" xlink:href=\"#DejaVuSans-46\"/>\n     <use x=\"95.410156\" xlink:href=\"#DejaVuSans-51\"/>\n    </g>\n   </g>\n   <g id=\"text_603\">\n    <!-- -0.22 -->\n    <g style=\"fill:#ffffff;\" transform=\"translate(198.295826 172.955737)scale(0.1 -0.1)\">\n     <use xlink:href=\"#DejaVuSans-45\"/>\n     <use x=\"36.083984\" xlink:href=\"#DejaVuSans-48\"/>\n     <use x=\"99.707031\" xlink:href=\"#DejaVuSans-46\"/>\n     <use x=\"131.494141\" xlink:href=\"#DejaVuSans-50\"/>\n     <use x=\"195.117188\" xlink:href=\"#DejaVuSans-50\"/>\n    </g>\n   </g>\n   <g id=\"text_604\">\n    <!-- 0.55 -->\n    <g style=\"fill:#ffffff;\" transform=\"translate(209.665446 172.955737)scale(0.1 -0.1)\">\n     <use xlink:href=\"#DejaVuSans-48\"/>\n     <use x=\"63.623047\" xlink:href=\"#DejaVuSans-46\"/>\n     <use x=\"95.410156\" xlink:href=\"#DejaVuSans-53\"/>\n     <use x=\"159.033203\" xlink:href=\"#DejaVuSans-53\"/>\n    </g>\n   </g>\n   <g id=\"text_605\">\n    <!-- 0.54 -->\n    <g style=\"fill:#ffffff;\" transform=\"translate(219.231161 172.955737)scale(0.1 -0.1)\">\n     <use xlink:href=\"#DejaVuSans-48\"/>\n     <use x=\"63.623047\" xlink:href=\"#DejaVuSans-46\"/>\n     <use x=\"95.410156\" xlink:href=\"#DejaVuSans-53\"/>\n     <use x=\"159.033203\" xlink:href=\"#DejaVuSans-52\"/>\n    </g>\n   </g>\n   <g id=\"text_606\">\n    <!-- 0.59 -->\n    <g style=\"fill:#262626;\" transform=\"translate(228.796875 172.955737)scale(0.1 -0.1)\">\n     <use xlink:href=\"#DejaVuSans-48\"/>\n     <use x=\"63.623047\" xlink:href=\"#DejaVuSans-46\"/>\n     <use x=\"95.410156\" xlink:href=\"#DejaVuSans-53\"/>\n     <use x=\"159.033203\" xlink:href=\"#DejaVuSans-57\"/>\n    </g>\n   </g>\n   <g id=\"text_607\">\n    <!-- -0.088 -->\n    <g style=\"fill:#ffffff;\" transform=\"translate(233.377433 172.955737)scale(0.1 -0.1)\">\n     <use xlink:href=\"#DejaVuSans-45\"/>\n     <use x=\"36.083984\" xlink:href=\"#DejaVuSans-48\"/>\n     <use x=\"99.707031\" xlink:href=\"#DejaVuSans-46\"/>\n     <use x=\"131.494141\" xlink:href=\"#DejaVuSans-48\"/>\n     <use x=\"195.117188\" xlink:href=\"#DejaVuSans-56\"/>\n     <use x=\"258.740234\" xlink:href=\"#DejaVuSans-56\"/>\n    </g>\n   </g>\n   <g id=\"text_608\">\n    <!-- -0.0056 -->\n    <g style=\"fill:#ffffff;\" transform=\"translate(239.761897 172.955737)scale(0.1 -0.1)\">\n     <use xlink:href=\"#DejaVuSans-45\"/>\n     <use x=\"36.083984\" xlink:href=\"#DejaVuSans-48\"/>\n     <use x=\"99.707031\" xlink:href=\"#DejaVuSans-46\"/>\n     <use x=\"131.494141\" xlink:href=\"#DejaVuSans-48\"/>\n     <use x=\"195.117188\" xlink:href=\"#DejaVuSans-48\"/>\n     <use x=\"258.740234\" xlink:href=\"#DejaVuSans-53\"/>\n     <use x=\"322.363281\" xlink:href=\"#DejaVuSans-54\"/>\n    </g>\n   </g>\n   <g id=\"text_609\">\n    <!-- 1 -->\n    <g style=\"fill:#262626;\" transform=\"translate(265.44558 172.955737)scale(0.1 -0.1)\">\n     <use xlink:href=\"#DejaVuSans-49\"/>\n    </g>\n   </g>\n   <g id=\"text_610\">\n    <!-- 0.084 -->\n    <g style=\"fill:#ffffff;\" transform=\"translate(263.878482 172.955737)scale(0.1 -0.1)\">\n     <use xlink:href=\"#DejaVuSans-48\"/>\n     <use x=\"63.623047\" xlink:href=\"#DejaVuSans-46\"/>\n     <use x=\"95.410156\" xlink:href=\"#DejaVuSans-48\"/>\n     <use x=\"159.033203\" xlink:href=\"#DejaVuSans-56\"/>\n     <use x=\"222.65625\" xlink:href=\"#DejaVuSans-52\"/>\n    </g>\n   </g>\n   <g id=\"text_611\">\n    <!-- 0.33 -->\n    <g style=\"fill:#ffffff;\" transform=\"translate(276.625446 172.955737)scale(0.1 -0.1)\">\n     <use xlink:href=\"#DejaVuSans-48\"/>\n     <use x=\"63.623047\" xlink:href=\"#DejaVuSans-46\"/>\n     <use x=\"95.410156\" xlink:href=\"#DejaVuSans-51\"/>\n     <use x=\"159.033203\" xlink:href=\"#DejaVuSans-51\"/>\n    </g>\n   </g>\n   <g id=\"text_612\">\n    <!-- 0.2 -->\n    <g style=\"fill:#ffffff;\" transform=\"translate(289.372411 172.955737)scale(0.1 -0.1)\">\n     <use xlink:href=\"#DejaVuSans-48\"/>\n     <use x=\"63.623047\" xlink:href=\"#DejaVuSans-46\"/>\n     <use x=\"95.410156\" xlink:href=\"#DejaVuSans-50\"/>\n    </g>\n   </g>\n   <g id=\"text_613\">\n    <!-- -0.079 -->\n    <g style=\"fill:#ffffff;\" transform=\"translate(290.771719 172.955737)scale(0.1 -0.1)\">\n     <use xlink:href=\"#DejaVuSans-45\"/>\n     <use x=\"36.083984\" xlink:href=\"#DejaVuSans-48\"/>\n     <use x=\"99.707031\" xlink:href=\"#DejaVuSans-46\"/>\n     <use x=\"131.494141\" xlink:href=\"#DejaVuSans-48\"/>\n     <use x=\"195.117188\" xlink:href=\"#DejaVuSans-55\"/>\n     <use x=\"258.740234\" xlink:href=\"#DejaVuSans-57\"/>\n    </g>\n   </g>\n   <g id=\"text_614\">\n    <!-- 0.24 -->\n    <g style=\"fill:#ffffff;\" transform=\"translate(305.322589 172.955737)scale(0.1 -0.1)\">\n     <use xlink:href=\"#DejaVuSans-48\"/>\n     <use x=\"63.623047\" xlink:href=\"#DejaVuSans-46\"/>\n     <use x=\"95.410156\" xlink:href=\"#DejaVuSans-50\"/>\n     <use x=\"159.033203\" xlink:href=\"#DejaVuSans-52\"/>\n    </g>\n   </g>\n   <g id=\"text_615\">\n    <!-- 0.17 -->\n    <g style=\"fill:#ffffff;\" transform=\"translate(314.888304 172.955737)scale(0.1 -0.1)\">\n     <use xlink:href=\"#DejaVuSans-48\"/>\n     <use x=\"63.623047\" xlink:href=\"#DejaVuSans-46\"/>\n     <use x=\"95.410156\" xlink:href=\"#DejaVuSans-49\"/>\n     <use x=\"159.033203\" xlink:href=\"#DejaVuSans-55\"/>\n    </g>\n   </g>\n   <g id=\"text_616\">\n    <!-- -0.26 -->\n    <g style=\"fill:#ffffff;\" transform=\"translate(322.650112 172.955737)scale(0.1 -0.1)\">\n     <use xlink:href=\"#DejaVuSans-45\"/>\n     <use x=\"36.083984\" xlink:href=\"#DejaVuSans-48\"/>\n     <use x=\"99.707031\" xlink:href=\"#DejaVuSans-46\"/>\n     <use x=\"131.494141\" xlink:href=\"#DejaVuSans-50\"/>\n     <use x=\"195.117188\" xlink:href=\"#DejaVuSans-54\"/>\n    </g>\n   </g>\n   <g id=\"text_617\">\n    <!-- 0.26 -->\n    <g style=\"fill:#ffffff;\" transform=\"translate(66.179732 180.721451)scale(0.1 -0.1)\">\n     <use xlink:href=\"#DejaVuSans-48\"/>\n     <use x=\"63.623047\" xlink:href=\"#DejaVuSans-46\"/>\n     <use x=\"95.410156\" xlink:href=\"#DejaVuSans-50\"/>\n     <use x=\"159.033203\" xlink:href=\"#DejaVuSans-54\"/>\n    </g>\n   </g>\n   <g id=\"text_618\">\n    <!-- 0.44 -->\n    <g style=\"fill:#ffffff;\" transform=\"translate(75.745446 180.721451)scale(0.1 -0.1)\">\n     <use xlink:href=\"#DejaVuSans-48\"/>\n     <use x=\"63.623047\" xlink:href=\"#DejaVuSans-46\"/>\n     <use x=\"95.410156\" xlink:href=\"#DejaVuSans-52\"/>\n     <use x=\"159.033203\" xlink:href=\"#DejaVuSans-52\"/>\n    </g>\n   </g>\n   <g id=\"text_619\">\n    <!-- -0.034 -->\n    <g style=\"fill:#ffffff;\" transform=\"translate(80.326004 180.721451)scale(0.1 -0.1)\">\n     <use xlink:href=\"#DejaVuSans-45\"/>\n     <use x=\"36.083984\" xlink:href=\"#DejaVuSans-48\"/>\n     <use x=\"99.707031\" xlink:href=\"#DejaVuSans-46\"/>\n     <use x=\"131.494141\" xlink:href=\"#DejaVuSans-48\"/>\n     <use x=\"195.117188\" xlink:href=\"#DejaVuSans-51\"/>\n     <use x=\"258.740234\" xlink:href=\"#DejaVuSans-52\"/>\n    </g>\n   </g>\n   <g id=\"text_620\">\n    <!-- 0.74 -->\n    <g style=\"fill:#262626;\" transform=\"translate(94.876875 180.721451)scale(0.1 -0.1)\">\n     <use xlink:href=\"#DejaVuSans-48\"/>\n     <use x=\"63.623047\" xlink:href=\"#DejaVuSans-46\"/>\n     <use x=\"95.410156\" xlink:href=\"#DejaVuSans-55\"/>\n     <use x=\"159.033203\" xlink:href=\"#DejaVuSans-52\"/>\n    </g>\n   </g>\n   <g id=\"text_621\">\n    <!-- 0.75 -->\n    <g style=\"fill:#262626;\" transform=\"translate(104.442589 180.721451)scale(0.1 -0.1)\">\n     <use xlink:href=\"#DejaVuSans-48\"/>\n     <use x=\"63.623047\" xlink:href=\"#DejaVuSans-46\"/>\n     <use x=\"95.410156\" xlink:href=\"#DejaVuSans-55\"/>\n     <use x=\"159.033203\" xlink:href=\"#DejaVuSans-53\"/>\n    </g>\n   </g>\n   <g id=\"text_622\">\n    <!-- 0.2 -->\n    <g style=\"fill:#ffffff;\" transform=\"translate(117.189554 180.721451)scale(0.1 -0.1)\">\n     <use xlink:href=\"#DejaVuSans-48\"/>\n     <use x=\"63.623047\" xlink:href=\"#DejaVuSans-46\"/>\n     <use x=\"95.410156\" xlink:href=\"#DejaVuSans-50\"/>\n    </g>\n   </g>\n   <g id=\"text_623\">\n    <!-- 0.35 -->\n    <g style=\"fill:#ffffff;\" transform=\"translate(123.574018 180.721451)scale(0.1 -0.1)\">\n     <use xlink:href=\"#DejaVuSans-48\"/>\n     <use x=\"63.623047\" xlink:href=\"#DejaVuSans-46\"/>\n     <use x=\"95.410156\" xlink:href=\"#DejaVuSans-51\"/>\n     <use x=\"159.033203\" xlink:href=\"#DejaVuSans-53\"/>\n    </g>\n   </g>\n   <g id=\"text_624\">\n    <!-- 0.37 -->\n    <g style=\"fill:#ffffff;\" transform=\"translate(133.139732 180.721451)scale(0.1 -0.1)\">\n     <use xlink:href=\"#DejaVuSans-48\"/>\n     <use x=\"63.623047\" xlink:href=\"#DejaVuSans-46\"/>\n     <use x=\"95.410156\" xlink:href=\"#DejaVuSans-51\"/>\n     <use x=\"159.033203\" xlink:href=\"#DejaVuSans-55\"/>\n    </g>\n   </g>\n   <g id=\"text_625\">\n    <!-- -0.015 -->\n    <g style=\"fill:#ffffff;\" transform=\"translate(137.72029 180.721451)scale(0.1 -0.1)\">\n     <use xlink:href=\"#DejaVuSans-45\"/>\n     <use x=\"36.083984\" xlink:href=\"#DejaVuSans-48\"/>\n     <use x=\"99.707031\" xlink:href=\"#DejaVuSans-46\"/>\n     <use x=\"131.494141\" xlink:href=\"#DejaVuSans-48\"/>\n     <use x=\"195.117188\" xlink:href=\"#DejaVuSans-49\"/>\n     <use x=\"258.740234\" xlink:href=\"#DejaVuSans-53\"/>\n    </g>\n   </g>\n   <g id=\"text_626\">\n    <!-- 0.71 -->\n    <g style=\"fill:#262626;\" transform=\"translate(152.271161 180.721451)scale(0.1 -0.1)\">\n     <use xlink:href=\"#DejaVuSans-48\"/>\n     <use x=\"63.623047\" xlink:href=\"#DejaVuSans-46\"/>\n     <use x=\"95.410156\" xlink:href=\"#DejaVuSans-55\"/>\n     <use x=\"159.033203\" xlink:href=\"#DejaVuSans-49\"/>\n    </g>\n   </g>\n   <g id=\"text_627\">\n    <!-- 0.73 -->\n    <g style=\"fill:#262626;\" transform=\"translate(161.836875 180.721451)scale(0.1 -0.1)\">\n     <use xlink:href=\"#DejaVuSans-48\"/>\n     <use x=\"63.623047\" xlink:href=\"#DejaVuSans-46\"/>\n     <use x=\"95.410156\" xlink:href=\"#DejaVuSans-55\"/>\n     <use x=\"159.033203\" xlink:href=\"#DejaVuSans-51\"/>\n    </g>\n   </g>\n   <g id=\"text_628\">\n    <!-- 0.21 -->\n    <g style=\"fill:#ffffff;\" transform=\"translate(171.402589 180.721451)scale(0.1 -0.1)\">\n     <use xlink:href=\"#DejaVuSans-48\"/>\n     <use x=\"63.623047\" xlink:href=\"#DejaVuSans-46\"/>\n     <use x=\"95.410156\" xlink:href=\"#DejaVuSans-50\"/>\n     <use x=\"159.033203\" xlink:href=\"#DejaVuSans-49\"/>\n    </g>\n   </g>\n   <g id=\"text_629\">\n    <!-- 0.72 -->\n    <g style=\"fill:#262626;\" transform=\"translate(180.968304 180.721451)scale(0.1 -0.1)\">\n     <use xlink:href=\"#DejaVuSans-48\"/>\n     <use x=\"63.623047\" xlink:href=\"#DejaVuSans-46\"/>\n     <use x=\"95.410156\" xlink:href=\"#DejaVuSans-55\"/>\n     <use x=\"159.033203\" xlink:href=\"#DejaVuSans-50\"/>\n    </g>\n   </g>\n   <g id=\"text_630\">\n    <!-- 0.73 -->\n    <g style=\"fill:#262626;\" transform=\"translate(190.534018 180.721451)scale(0.1 -0.1)\">\n     <use xlink:href=\"#DejaVuSans-48\"/>\n     <use x=\"63.623047\" xlink:href=\"#DejaVuSans-46\"/>\n     <use x=\"95.410156\" xlink:href=\"#DejaVuSans-55\"/>\n     <use x=\"159.033203\" xlink:href=\"#DejaVuSans-51\"/>\n    </g>\n   </g>\n   <g id=\"text_631\">\n    <!-- 0.18 -->\n    <g style=\"fill:#ffffff;\" transform=\"translate(200.099732 180.721451)scale(0.1 -0.1)\">\n     <use xlink:href=\"#DejaVuSans-48\"/>\n     <use x=\"63.623047\" xlink:href=\"#DejaVuSans-46\"/>\n     <use x=\"95.410156\" xlink:href=\"#DejaVuSans-49\"/>\n     <use x=\"159.033203\" xlink:href=\"#DejaVuSans-56\"/>\n    </g>\n   </g>\n   <g id=\"text_632\">\n    <!-- 0.14 -->\n    <g style=\"fill:#ffffff;\" transform=\"translate(209.665446 180.721451)scale(0.1 -0.1)\">\n     <use xlink:href=\"#DejaVuSans-48\"/>\n     <use x=\"63.623047\" xlink:href=\"#DejaVuSans-46\"/>\n     <use x=\"95.410156\" xlink:href=\"#DejaVuSans-49\"/>\n     <use x=\"159.033203\" xlink:href=\"#DejaVuSans-52\"/>\n    </g>\n   </g>\n   <g id=\"text_633\">\n    <!-- 0.55 -->\n    <g style=\"fill:#ffffff;\" transform=\"translate(219.231161 180.721451)scale(0.1 -0.1)\">\n     <use xlink:href=\"#DejaVuSans-48\"/>\n     <use x=\"63.623047\" xlink:href=\"#DejaVuSans-46\"/>\n     <use x=\"95.410156\" xlink:href=\"#DejaVuSans-53\"/>\n     <use x=\"159.033203\" xlink:href=\"#DejaVuSans-53\"/>\n    </g>\n   </g>\n   <g id=\"text_634\">\n    <!-- 0.47 -->\n    <g style=\"fill:#ffffff;\" transform=\"translate(228.796875 180.721451)scale(0.1 -0.1)\">\n     <use xlink:href=\"#DejaVuSans-48\"/>\n     <use x=\"63.623047\" xlink:href=\"#DejaVuSans-46\"/>\n     <use x=\"95.410156\" xlink:href=\"#DejaVuSans-52\"/>\n     <use x=\"159.033203\" xlink:href=\"#DejaVuSans-55\"/>\n    </g>\n   </g>\n   <g id=\"text_635\">\n    <!-- 0.75 -->\n    <g style=\"fill:#262626;\" transform=\"translate(238.362589 180.721451)scale(0.1 -0.1)\">\n     <use xlink:href=\"#DejaVuSans-48\"/>\n     <use x=\"63.623047\" xlink:href=\"#DejaVuSans-46\"/>\n     <use x=\"95.410156\" xlink:href=\"#DejaVuSans-55\"/>\n     <use x=\"159.033203\" xlink:href=\"#DejaVuSans-53\"/>\n    </g>\n   </g>\n   <g id=\"text_636\">\n    <!-- 0.47 -->\n    <g style=\"fill:#ffffff;\" transform=\"translate(247.928304 180.721451)scale(0.1 -0.1)\">\n     <use xlink:href=\"#DejaVuSans-48\"/>\n     <use x=\"63.623047\" xlink:href=\"#DejaVuSans-46\"/>\n     <use x=\"95.410156\" xlink:href=\"#DejaVuSans-52\"/>\n     <use x=\"159.033203\" xlink:href=\"#DejaVuSans-55\"/>\n    </g>\n   </g>\n   <g id=\"text_637\">\n    <!-- 0.084 -->\n    <g style=\"fill:#ffffff;\" transform=\"translate(254.312768 180.721451)scale(0.1 -0.1)\">\n     <use xlink:href=\"#DejaVuSans-48\"/>\n     <use x=\"63.623047\" xlink:href=\"#DejaVuSans-46\"/>\n     <use x=\"95.410156\" xlink:href=\"#DejaVuSans-48\"/>\n     <use x=\"159.033203\" xlink:href=\"#DejaVuSans-56\"/>\n     <use x=\"222.65625\" xlink:href=\"#DejaVuSans-52\"/>\n    </g>\n   </g>\n   <g id=\"text_638\">\n    <!-- 1 -->\n    <g style=\"fill:#262626;\" transform=\"translate(275.011295 180.721451)scale(0.1 -0.1)\">\n     <use xlink:href=\"#DejaVuSans-49\"/>\n    </g>\n   </g>\n   <g id=\"text_639\">\n    <!-- 0.44 -->\n    <g style=\"fill:#ffffff;\" transform=\"translate(276.625446 180.721451)scale(0.1 -0.1)\">\n     <use xlink:href=\"#DejaVuSans-48\"/>\n     <use x=\"63.623047\" xlink:href=\"#DejaVuSans-46\"/>\n     <use x=\"95.410156\" xlink:href=\"#DejaVuSans-52\"/>\n     <use x=\"159.033203\" xlink:href=\"#DejaVuSans-52\"/>\n    </g>\n   </g>\n   <g id=\"text_640\">\n    <!-- 0.76 -->\n    <g style=\"fill:#262626;\" transform=\"translate(286.191161 180.721451)scale(0.1 -0.1)\">\n     <use xlink:href=\"#DejaVuSans-48\"/>\n     <use x=\"63.623047\" xlink:href=\"#DejaVuSans-46\"/>\n     <use x=\"95.410156\" xlink:href=\"#DejaVuSans-55\"/>\n     <use x=\"159.033203\" xlink:href=\"#DejaVuSans-54\"/>\n    </g>\n   </g>\n   <g id=\"text_641\">\n    <!-- -0.052 -->\n    <g style=\"fill:#ffffff;\" transform=\"translate(290.771719 180.721451)scale(0.1 -0.1)\">\n     <use xlink:href=\"#DejaVuSans-45\"/>\n     <use x=\"36.083984\" xlink:href=\"#DejaVuSans-48\"/>\n     <use x=\"99.707031\" xlink:href=\"#DejaVuSans-46\"/>\n     <use x=\"131.494141\" xlink:href=\"#DejaVuSans-48\"/>\n     <use x=\"195.117188\" xlink:href=\"#DejaVuSans-53\"/>\n     <use x=\"258.740234\" xlink:href=\"#DejaVuSans-50\"/>\n    </g>\n   </g>\n   <g id=\"text_642\">\n    <!-- 0.46 -->\n    <g style=\"fill:#ffffff;\" transform=\"translate(305.322589 180.721451)scale(0.1 -0.1)\">\n     <use xlink:href=\"#DejaVuSans-48\"/>\n     <use x=\"63.623047\" xlink:href=\"#DejaVuSans-46\"/>\n     <use x=\"95.410156\" xlink:href=\"#DejaVuSans-52\"/>\n     <use x=\"159.033203\" xlink:href=\"#DejaVuSans-54\"/>\n    </g>\n   </g>\n   <g id=\"text_643\">\n    <!-- 0.63 -->\n    <g style=\"fill:#262626;\" transform=\"translate(314.888304 180.721451)scale(0.1 -0.1)\">\n     <use xlink:href=\"#DejaVuSans-48\"/>\n     <use x=\"63.623047\" xlink:href=\"#DejaVuSans-46\"/>\n     <use x=\"95.410156\" xlink:href=\"#DejaVuSans-54\"/>\n     <use x=\"159.033203\" xlink:href=\"#DejaVuSans-51\"/>\n    </g>\n   </g>\n   <g id=\"text_644\">\n    <!-- -0.51 -->\n    <g style=\"fill:#ffffff;\" transform=\"translate(322.650112 180.721451)scale(0.1 -0.1)\">\n     <use xlink:href=\"#DejaVuSans-45\"/>\n     <use x=\"36.083984\" xlink:href=\"#DejaVuSans-48\"/>\n     <use x=\"99.707031\" xlink:href=\"#DejaVuSans-46\"/>\n     <use x=\"131.494141\" xlink:href=\"#DejaVuSans-53\"/>\n     <use x=\"195.117188\" xlink:href=\"#DejaVuSans-49\"/>\n    </g>\n   </g>\n   <g id=\"text_645\">\n    <!-- 0.19 -->\n    <g style=\"fill:#ffffff;\" transform=\"translate(66.179732 188.487165)scale(0.1 -0.1)\">\n     <use xlink:href=\"#DejaVuSans-48\"/>\n     <use x=\"63.623047\" xlink:href=\"#DejaVuSans-46\"/>\n     <use x=\"95.410156\" xlink:href=\"#DejaVuSans-49\"/>\n     <use x=\"159.033203\" xlink:href=\"#DejaVuSans-57\"/>\n    </g>\n   </g>\n   <g id=\"text_646\">\n    <!-- 0.3 -->\n    <g style=\"fill:#ffffff;\" transform=\"translate(78.926696 188.487165)scale(0.1 -0.1)\">\n     <use xlink:href=\"#DejaVuSans-48\"/>\n     <use x=\"63.623047\" xlink:href=\"#DejaVuSans-46\"/>\n     <use x=\"95.410156\" xlink:href=\"#DejaVuSans-51\"/>\n    </g>\n   </g>\n   <g id=\"text_647\">\n    <!-- 0.078 -->\n    <g style=\"fill:#ffffff;\" transform=\"translate(82.129911 188.487165)scale(0.1 -0.1)\">\n     <use xlink:href=\"#DejaVuSans-48\"/>\n     <use x=\"63.623047\" xlink:href=\"#DejaVuSans-46\"/>\n     <use x=\"95.410156\" xlink:href=\"#DejaVuSans-48\"/>\n     <use x=\"159.033203\" xlink:href=\"#DejaVuSans-55\"/>\n     <use x=\"222.65625\" xlink:href=\"#DejaVuSans-56\"/>\n    </g>\n   </g>\n   <g id=\"text_648\">\n    <!-- 0.32 -->\n    <g style=\"fill:#ffffff;\" transform=\"translate(94.876875 188.487165)scale(0.1 -0.1)\">\n     <use xlink:href=\"#DejaVuSans-48\"/>\n     <use x=\"63.623047\" xlink:href=\"#DejaVuSans-46\"/>\n     <use x=\"95.410156\" xlink:href=\"#DejaVuSans-51\"/>\n     <use x=\"159.033203\" xlink:href=\"#DejaVuSans-50\"/>\n    </g>\n   </g>\n   <g id=\"text_649\">\n    <!-- 0.29 -->\n    <g style=\"fill:#ffffff;\" transform=\"translate(104.442589 188.487165)scale(0.1 -0.1)\">\n     <use xlink:href=\"#DejaVuSans-48\"/>\n     <use x=\"63.623047\" xlink:href=\"#DejaVuSans-46\"/>\n     <use x=\"95.410156\" xlink:href=\"#DejaVuSans-50\"/>\n     <use x=\"159.033203\" xlink:href=\"#DejaVuSans-57\"/>\n    </g>\n   </g>\n   <g id=\"text_650\">\n    <!-- 0.22 -->\n    <g style=\"fill:#ffffff;\" transform=\"translate(114.008304 188.487165)scale(0.1 -0.1)\">\n     <use xlink:href=\"#DejaVuSans-48\"/>\n     <use x=\"63.623047\" xlink:href=\"#DejaVuSans-46\"/>\n     <use x=\"95.410156\" xlink:href=\"#DejaVuSans-50\"/>\n     <use x=\"159.033203\" xlink:href=\"#DejaVuSans-50\"/>\n    </g>\n   </g>\n   <g id=\"text_651\">\n    <!-- -0.0073 -->\n    <g style=\"fill:#ffffff;\" transform=\"translate(115.407612 188.487165)scale(0.1 -0.1)\">\n     <use xlink:href=\"#DejaVuSans-45\"/>\n     <use x=\"36.083984\" xlink:href=\"#DejaVuSans-48\"/>\n     <use x=\"99.707031\" xlink:href=\"#DejaVuSans-46\"/>\n     <use x=\"131.494141\" xlink:href=\"#DejaVuSans-48\"/>\n     <use x=\"195.117188\" xlink:href=\"#DejaVuSans-48\"/>\n     <use x=\"258.740234\" xlink:href=\"#DejaVuSans-55\"/>\n     <use x=\"322.363281\" xlink:href=\"#DejaVuSans-51\"/>\n    </g>\n   </g>\n   <g id=\"text_652\">\n    <!-- 0.013 -->\n    <g style=\"fill:#ffffff;\" transform=\"translate(129.958482 188.487165)scale(0.1 -0.1)\">\n     <use xlink:href=\"#DejaVuSans-48\"/>\n     <use x=\"63.623047\" xlink:href=\"#DejaVuSans-46\"/>\n     <use x=\"95.410156\" xlink:href=\"#DejaVuSans-48\"/>\n     <use x=\"159.033203\" xlink:href=\"#DejaVuSans-49\"/>\n     <use x=\"222.65625\" xlink:href=\"#DejaVuSans-51\"/>\n    </g>\n   </g>\n   <g id=\"text_653\">\n    <!-- -0.076 -->\n    <g style=\"fill:#ffffff;\" transform=\"translate(137.72029 188.487165)scale(0.1 -0.1)\">\n     <use xlink:href=\"#DejaVuSans-45\"/>\n     <use x=\"36.083984\" xlink:href=\"#DejaVuSans-48\"/>\n     <use x=\"99.707031\" xlink:href=\"#DejaVuSans-46\"/>\n     <use x=\"131.494141\" xlink:href=\"#DejaVuSans-48\"/>\n     <use x=\"195.117188\" xlink:href=\"#DejaVuSans-55\"/>\n     <use x=\"258.740234\" xlink:href=\"#DejaVuSans-54\"/>\n    </g>\n   </g>\n   <g id=\"text_654\">\n    <!-- 0.38 -->\n    <g style=\"fill:#ffffff;\" transform=\"translate(152.271161 188.487165)scale(0.1 -0.1)\">\n     <use xlink:href=\"#DejaVuSans-48\"/>\n     <use x=\"63.623047\" xlink:href=\"#DejaVuSans-46\"/>\n     <use x=\"95.410156\" xlink:href=\"#DejaVuSans-51\"/>\n     <use x=\"159.033203\" xlink:href=\"#DejaVuSans-56\"/>\n    </g>\n   </g>\n   <g id=\"text_655\">\n    <!-- 0.37 -->\n    <g style=\"fill:#ffffff;\" transform=\"translate(161.836875 188.487165)scale(0.1 -0.1)\">\n     <use xlink:href=\"#DejaVuSans-48\"/>\n     <use x=\"63.623047\" xlink:href=\"#DejaVuSans-46\"/>\n     <use x=\"95.410156\" xlink:href=\"#DejaVuSans-51\"/>\n     <use x=\"159.033203\" xlink:href=\"#DejaVuSans-55\"/>\n    </g>\n   </g>\n   <g id=\"text_656\">\n    <!-- 0.23 -->\n    <g style=\"fill:#ffffff;\" transform=\"translate(171.402589 188.487165)scale(0.1 -0.1)\">\n     <use xlink:href=\"#DejaVuSans-48\"/>\n     <use x=\"63.623047\" xlink:href=\"#DejaVuSans-46\"/>\n     <use x=\"95.410156\" xlink:href=\"#DejaVuSans-50\"/>\n     <use x=\"159.033203\" xlink:href=\"#DejaVuSans-51\"/>\n    </g>\n   </g>\n   <g id=\"text_657\">\n    <!-- 0.36 -->\n    <g style=\"fill:#ffffff;\" transform=\"translate(180.968304 188.487165)scale(0.1 -0.1)\">\n     <use xlink:href=\"#DejaVuSans-48\"/>\n     <use x=\"63.623047\" xlink:href=\"#DejaVuSans-46\"/>\n     <use x=\"95.410156\" xlink:href=\"#DejaVuSans-51\"/>\n     <use x=\"159.033203\" xlink:href=\"#DejaVuSans-54\"/>\n    </g>\n   </g>\n   <g id=\"text_658\">\n    <!-- 0.39 -->\n    <g style=\"fill:#ffffff;\" transform=\"translate(190.534018 188.487165)scale(0.1 -0.1)\">\n     <use xlink:href=\"#DejaVuSans-48\"/>\n     <use x=\"63.623047\" xlink:href=\"#DejaVuSans-46\"/>\n     <use x=\"95.410156\" xlink:href=\"#DejaVuSans-51\"/>\n     <use x=\"159.033203\" xlink:href=\"#DejaVuSans-57\"/>\n    </g>\n   </g>\n   <g id=\"text_659\">\n    <!-- -0.025 -->\n    <g style=\"fill:#ffffff;\" transform=\"translate(195.114576 188.487165)scale(0.1 -0.1)\">\n     <use xlink:href=\"#DejaVuSans-45\"/>\n     <use x=\"36.083984\" xlink:href=\"#DejaVuSans-48\"/>\n     <use x=\"99.707031\" xlink:href=\"#DejaVuSans-46\"/>\n     <use x=\"131.494141\" xlink:href=\"#DejaVuSans-48\"/>\n     <use x=\"195.117188\" xlink:href=\"#DejaVuSans-50\"/>\n     <use x=\"258.740234\" xlink:href=\"#DejaVuSans-53\"/>\n    </g>\n   </g>\n   <g id=\"text_660\">\n    <!-- 0.41 -->\n    <g style=\"fill:#ffffff;\" transform=\"translate(209.665446 188.487165)scale(0.1 -0.1)\">\n     <use xlink:href=\"#DejaVuSans-48\"/>\n     <use x=\"63.623047\" xlink:href=\"#DejaVuSans-46\"/>\n     <use x=\"95.410156\" xlink:href=\"#DejaVuSans-52\"/>\n     <use x=\"159.033203\" xlink:href=\"#DejaVuSans-49\"/>\n    </g>\n   </g>\n   <g id=\"text_661\">\n    <!-- 0.45 -->\n    <g style=\"fill:#ffffff;\" transform=\"translate(219.231161 188.487165)scale(0.1 -0.1)\">\n     <use xlink:href=\"#DejaVuSans-48\"/>\n     <use x=\"63.623047\" xlink:href=\"#DejaVuSans-46\"/>\n     <use x=\"95.410156\" xlink:href=\"#DejaVuSans-52\"/>\n     <use x=\"159.033203\" xlink:href=\"#DejaVuSans-53\"/>\n    </g>\n   </g>\n   <g id=\"text_662\">\n    <!-- 0.47 -->\n    <g style=\"fill:#ffffff;\" transform=\"translate(228.796875 188.487165)scale(0.1 -0.1)\">\n     <use xlink:href=\"#DejaVuSans-48\"/>\n     <use x=\"63.623047\" xlink:href=\"#DejaVuSans-46\"/>\n     <use x=\"95.410156\" xlink:href=\"#DejaVuSans-52\"/>\n     <use x=\"159.033203\" xlink:href=\"#DejaVuSans-55\"/>\n    </g>\n   </g>\n   <g id=\"text_663\">\n    <!-- 0.22 -->\n    <g style=\"fill:#ffffff;\" transform=\"translate(238.362589 188.487165)scale(0.1 -0.1)\">\n     <use xlink:href=\"#DejaVuSans-48\"/>\n     <use x=\"63.623047\" xlink:href=\"#DejaVuSans-46\"/>\n     <use x=\"95.410156\" xlink:href=\"#DejaVuSans-50\"/>\n     <use x=\"159.033203\" xlink:href=\"#DejaVuSans-50\"/>\n    </g>\n   </g>\n   <g id=\"text_664\">\n    <!-- 0.38 -->\n    <g style=\"fill:#ffffff;\" transform=\"translate(247.928304 188.487165)scale(0.1 -0.1)\">\n     <use xlink:href=\"#DejaVuSans-48\"/>\n     <use x=\"63.623047\" xlink:href=\"#DejaVuSans-46\"/>\n     <use x=\"95.410156\" xlink:href=\"#DejaVuSans-51\"/>\n     <use x=\"159.033203\" xlink:href=\"#DejaVuSans-56\"/>\n    </g>\n   </g>\n   <g id=\"text_665\">\n    <!-- 0.33 -->\n    <g style=\"fill:#ffffff;\" transform=\"translate(257.494018 188.487165)scale(0.1 -0.1)\">\n     <use xlink:href=\"#DejaVuSans-48\"/>\n     <use x=\"63.623047\" xlink:href=\"#DejaVuSans-46\"/>\n     <use x=\"95.410156\" xlink:href=\"#DejaVuSans-51\"/>\n     <use x=\"159.033203\" xlink:href=\"#DejaVuSans-51\"/>\n    </g>\n   </g>\n   <g id=\"text_666\">\n    <!-- 0.44 -->\n    <g style=\"fill:#ffffff;\" transform=\"translate(267.059732 188.487165)scale(0.1 -0.1)\">\n     <use xlink:href=\"#DejaVuSans-48\"/>\n     <use x=\"63.623047\" xlink:href=\"#DejaVuSans-46\"/>\n     <use x=\"95.410156\" xlink:href=\"#DejaVuSans-52\"/>\n     <use x=\"159.033203\" xlink:href=\"#DejaVuSans-52\"/>\n    </g>\n   </g>\n   <g id=\"text_667\">\n    <!-- 1 -->\n    <g style=\"fill:#262626;\" transform=\"translate(284.577009 188.487165)scale(0.1 -0.1)\">\n     <use xlink:href=\"#DejaVuSans-49\"/>\n    </g>\n   </g>\n   <g id=\"text_668\">\n    <!-- 0.31 -->\n    <g style=\"fill:#ffffff;\" transform=\"translate(286.191161 188.487165)scale(0.1 -0.1)\">\n     <use xlink:href=\"#DejaVuSans-48\"/>\n     <use x=\"63.623047\" xlink:href=\"#DejaVuSans-46\"/>\n     <use x=\"95.410156\" xlink:href=\"#DejaVuSans-51\"/>\n     <use x=\"159.033203\" xlink:href=\"#DejaVuSans-49\"/>\n    </g>\n   </g>\n   <g id=\"text_669\">\n    <!-- -0.18 -->\n    <g style=\"fill:#ffffff;\" transform=\"translate(293.952969 188.487165)scale(0.1 -0.1)\">\n     <use xlink:href=\"#DejaVuSans-45\"/>\n     <use x=\"36.083984\" xlink:href=\"#DejaVuSans-48\"/>\n     <use x=\"99.707031\" xlink:href=\"#DejaVuSans-46\"/>\n     <use x=\"131.494141\" xlink:href=\"#DejaVuSans-49\"/>\n     <use x=\"195.117188\" xlink:href=\"#DejaVuSans-56\"/>\n    </g>\n   </g>\n   <g id=\"text_670\">\n    <!-- 0.12 -->\n    <g style=\"fill:#ffffff;\" transform=\"translate(305.322589 188.487165)scale(0.1 -0.1)\">\n     <use xlink:href=\"#DejaVuSans-48\"/>\n     <use x=\"63.623047\" xlink:href=\"#DejaVuSans-46\"/>\n     <use x=\"95.410156\" xlink:href=\"#DejaVuSans-49\"/>\n     <use x=\"159.033203\" xlink:href=\"#DejaVuSans-50\"/>\n    </g>\n   </g>\n   <g id=\"text_671\">\n    <!-- 0.2 -->\n    <g style=\"fill:#ffffff;\" transform=\"translate(318.069554 188.487165)scale(0.1 -0.1)\">\n     <use xlink:href=\"#DejaVuSans-48\"/>\n     <use x=\"63.623047\" xlink:href=\"#DejaVuSans-46\"/>\n     <use x=\"95.410156\" xlink:href=\"#DejaVuSans-50\"/>\n    </g>\n   </g>\n   <g id=\"text_672\">\n    <!-- -0.2 -->\n    <g style=\"fill:#ffffff;\" transform=\"translate(325.831362 188.487165)scale(0.1 -0.1)\">\n     <use xlink:href=\"#DejaVuSans-45\"/>\n     <use x=\"36.083984\" xlink:href=\"#DejaVuSans-48\"/>\n     <use x=\"99.707031\" xlink:href=\"#DejaVuSans-46\"/>\n     <use x=\"131.494141\" xlink:href=\"#DejaVuSans-50\"/>\n    </g>\n   </g>\n   <g id=\"text_673\">\n    <!-- 0.49 -->\n    <g style=\"fill:#ffffff;\" transform=\"translate(66.179732 196.252879)scale(0.1 -0.1)\">\n     <use xlink:href=\"#DejaVuSans-48\"/>\n     <use x=\"63.623047\" xlink:href=\"#DejaVuSans-46\"/>\n     <use x=\"95.410156\" xlink:href=\"#DejaVuSans-52\"/>\n     <use x=\"159.033203\" xlink:href=\"#DejaVuSans-57\"/>\n    </g>\n   </g>\n   <g id=\"text_674\">\n    <!-- 0.63 -->\n    <g style=\"fill:#262626;\" transform=\"translate(75.745446 196.252879)scale(0.1 -0.1)\">\n     <use xlink:href=\"#DejaVuSans-48\"/>\n     <use x=\"63.623047\" xlink:href=\"#DejaVuSans-46\"/>\n     <use x=\"95.410156\" xlink:href=\"#DejaVuSans-54\"/>\n     <use x=\"159.033203\" xlink:href=\"#DejaVuSans-51\"/>\n    </g>\n   </g>\n   <g id=\"text_675\">\n    <!-- -0.27 -->\n    <g style=\"fill:#ffffff;\" transform=\"translate(83.507254 196.252879)scale(0.1 -0.1)\">\n     <use xlink:href=\"#DejaVuSans-45\"/>\n     <use x=\"36.083984\" xlink:href=\"#DejaVuSans-48\"/>\n     <use x=\"99.707031\" xlink:href=\"#DejaVuSans-46\"/>\n     <use x=\"131.494141\" xlink:href=\"#DejaVuSans-50\"/>\n     <use x=\"195.117188\" xlink:href=\"#DejaVuSans-55\"/>\n    </g>\n   </g>\n   <g id=\"text_676\">\n    <!-- 0.98 -->\n    <g style=\"fill:#262626;\" transform=\"translate(94.876875 196.252879)scale(0.1 -0.1)\">\n     <use xlink:href=\"#DejaVuSans-48\"/>\n     <use x=\"63.623047\" xlink:href=\"#DejaVuSans-46\"/>\n     <use x=\"95.410156\" xlink:href=\"#DejaVuSans-57\"/>\n     <use x=\"159.033203\" xlink:href=\"#DejaVuSans-56\"/>\n    </g>\n   </g>\n   <g id=\"text_677\">\n    <!-- 0.97 -->\n    <g style=\"fill:#262626;\" transform=\"translate(104.442589 196.252879)scale(0.1 -0.1)\">\n     <use xlink:href=\"#DejaVuSans-48\"/>\n     <use x=\"63.623047\" xlink:href=\"#DejaVuSans-46\"/>\n     <use x=\"95.410156\" xlink:href=\"#DejaVuSans-57\"/>\n     <use x=\"159.033203\" xlink:href=\"#DejaVuSans-55\"/>\n    </g>\n   </g>\n   <g id=\"text_678\">\n    <!-- 0.33 -->\n    <g style=\"fill:#ffffff;\" transform=\"translate(114.008304 196.252879)scale(0.1 -0.1)\">\n     <use xlink:href=\"#DejaVuSans-48\"/>\n     <use x=\"63.623047\" xlink:href=\"#DejaVuSans-46\"/>\n     <use x=\"95.410156\" xlink:href=\"#DejaVuSans-51\"/>\n     <use x=\"159.033203\" xlink:href=\"#DejaVuSans-51\"/>\n    </g>\n   </g>\n   <g id=\"text_679\">\n    <!-- 0.62 -->\n    <g style=\"fill:#262626;\" transform=\"translate(123.574018 196.252879)scale(0.1 -0.1)\">\n     <use xlink:href=\"#DejaVuSans-48\"/>\n     <use x=\"63.623047\" xlink:href=\"#DejaVuSans-46\"/>\n     <use x=\"95.410156\" xlink:href=\"#DejaVuSans-54\"/>\n     <use x=\"159.033203\" xlink:href=\"#DejaVuSans-50\"/>\n    </g>\n   </g>\n   <g id=\"text_680\">\n    <!-- 0.63 -->\n    <g style=\"fill:#262626;\" transform=\"translate(133.139732 196.252879)scale(0.1 -0.1)\">\n     <use xlink:href=\"#DejaVuSans-48\"/>\n     <use x=\"63.623047\" xlink:href=\"#DejaVuSans-46\"/>\n     <use x=\"95.410156\" xlink:href=\"#DejaVuSans-54\"/>\n     <use x=\"159.033203\" xlink:href=\"#DejaVuSans-51\"/>\n    </g>\n   </g>\n   <g id=\"text_681\">\n    <!-- 0.12 -->\n    <g style=\"fill:#ffffff;\" transform=\"translate(142.705446 196.252879)scale(0.1 -0.1)\">\n     <use xlink:href=\"#DejaVuSans-48\"/>\n     <use x=\"63.623047\" xlink:href=\"#DejaVuSans-46\"/>\n     <use x=\"95.410156\" xlink:href=\"#DejaVuSans-49\"/>\n     <use x=\"159.033203\" xlink:href=\"#DejaVuSans-50\"/>\n    </g>\n   </g>\n   <g id=\"text_682\">\n    <!-- 0.86 -->\n    <g style=\"fill:#262626;\" transform=\"translate(152.271161 196.252879)scale(0.1 -0.1)\">\n     <use xlink:href=\"#DejaVuSans-48\"/>\n     <use x=\"63.623047\" xlink:href=\"#DejaVuSans-46\"/>\n     <use x=\"95.410156\" xlink:href=\"#DejaVuSans-56\"/>\n     <use x=\"159.033203\" xlink:href=\"#DejaVuSans-54\"/>\n    </g>\n   </g>\n   <g id=\"text_683\">\n    <!-- 0.85 -->\n    <g style=\"fill:#262626;\" transform=\"translate(161.836875 196.252879)scale(0.1 -0.1)\">\n     <use xlink:href=\"#DejaVuSans-48\"/>\n     <use x=\"63.623047\" xlink:href=\"#DejaVuSans-46\"/>\n     <use x=\"95.410156\" xlink:href=\"#DejaVuSans-56\"/>\n     <use x=\"159.033203\" xlink:href=\"#DejaVuSans-53\"/>\n    </g>\n   </g>\n   <g id=\"text_684\">\n    <!-- 0.35 -->\n    <g style=\"fill:#ffffff;\" transform=\"translate(171.402589 196.252879)scale(0.1 -0.1)\">\n     <use xlink:href=\"#DejaVuSans-48\"/>\n     <use x=\"63.623047\" xlink:href=\"#DejaVuSans-46\"/>\n     <use x=\"95.410156\" xlink:href=\"#DejaVuSans-51\"/>\n     <use x=\"159.033203\" xlink:href=\"#DejaVuSans-53\"/>\n    </g>\n   </g>\n   <g id=\"text_685\">\n    <!-- 0.86 -->\n    <g style=\"fill:#262626;\" transform=\"translate(180.968304 196.252879)scale(0.1 -0.1)\">\n     <use xlink:href=\"#DejaVuSans-48\"/>\n     <use x=\"63.623047\" xlink:href=\"#DejaVuSans-46\"/>\n     <use x=\"95.410156\" xlink:href=\"#DejaVuSans-56\"/>\n     <use x=\"159.033203\" xlink:href=\"#DejaVuSans-54\"/>\n    </g>\n   </g>\n   <g id=\"text_686\">\n    <!-- 0.85 -->\n    <g style=\"fill:#262626;\" transform=\"translate(190.534018 196.252879)scale(0.1 -0.1)\">\n     <use xlink:href=\"#DejaVuSans-48\"/>\n     <use x=\"63.623047\" xlink:href=\"#DejaVuSans-46\"/>\n     <use x=\"95.410156\" xlink:href=\"#DejaVuSans-56\"/>\n     <use x=\"159.033203\" xlink:href=\"#DejaVuSans-53\"/>\n    </g>\n   </g>\n   <g id=\"text_687\">\n    <!-- 0.3 -->\n    <g style=\"fill:#ffffff;\" transform=\"translate(203.280982 196.252879)scale(0.1 -0.1)\">\n     <use xlink:href=\"#DejaVuSans-48\"/>\n     <use x=\"63.623047\" xlink:href=\"#DejaVuSans-46\"/>\n     <use x=\"95.410156\" xlink:href=\"#DejaVuSans-51\"/>\n    </g>\n   </g>\n   <g id=\"text_688\">\n    <!-- 0.16 -->\n    <g style=\"fill:#ffffff;\" transform=\"translate(209.665446 196.252879)scale(0.1 -0.1)\">\n     <use xlink:href=\"#DejaVuSans-48\"/>\n     <use x=\"63.623047\" xlink:href=\"#DejaVuSans-46\"/>\n     <use x=\"95.410156\" xlink:href=\"#DejaVuSans-49\"/>\n     <use x=\"159.033203\" xlink:href=\"#DejaVuSans-54\"/>\n    </g>\n   </g>\n   <g id=\"text_689\">\n    <!-- 0.6 -->\n    <g style=\"fill:#262626;\" transform=\"translate(222.412411 196.252879)scale(0.1 -0.1)\">\n     <use xlink:href=\"#DejaVuSans-48\"/>\n     <use x=\"63.623047\" xlink:href=\"#DejaVuSans-46\"/>\n     <use x=\"95.410156\" xlink:href=\"#DejaVuSans-54\"/>\n    </g>\n   </g>\n   <g id=\"text_690\">\n    <!-- 0.52 -->\n    <g style=\"fill:#ffffff;\" transform=\"translate(228.796875 196.252879)scale(0.1 -0.1)\">\n     <use xlink:href=\"#DejaVuSans-48\"/>\n     <use x=\"63.623047\" xlink:href=\"#DejaVuSans-46\"/>\n     <use x=\"95.410156\" xlink:href=\"#DejaVuSans-53\"/>\n     <use x=\"159.033203\" xlink:href=\"#DejaVuSans-50\"/>\n    </g>\n   </g>\n   <g id=\"text_691\">\n    <!-- 0.62 -->\n    <g style=\"fill:#262626;\" transform=\"translate(238.362589 196.252879)scale(0.1 -0.1)\">\n     <use xlink:href=\"#DejaVuSans-48\"/>\n     <use x=\"63.623047\" xlink:href=\"#DejaVuSans-46\"/>\n     <use x=\"95.410156\" xlink:href=\"#DejaVuSans-54\"/>\n     <use x=\"159.033203\" xlink:href=\"#DejaVuSans-50\"/>\n    </g>\n   </g>\n   <g id=\"text_692\">\n    <!-- 0.44 -->\n    <g style=\"fill:#ffffff;\" transform=\"translate(247.928304 196.252879)scale(0.1 -0.1)\">\n     <use xlink:href=\"#DejaVuSans-48\"/>\n     <use x=\"63.623047\" xlink:href=\"#DejaVuSans-46\"/>\n     <use x=\"95.410156\" xlink:href=\"#DejaVuSans-52\"/>\n     <use x=\"159.033203\" xlink:href=\"#DejaVuSans-52\"/>\n    </g>\n   </g>\n   <g id=\"text_693\">\n    <!-- 0.2 -->\n    <g style=\"fill:#ffffff;\" transform=\"translate(260.675268 196.252879)scale(0.1 -0.1)\">\n     <use xlink:href=\"#DejaVuSans-48\"/>\n     <use x=\"63.623047\" xlink:href=\"#DejaVuSans-46\"/>\n     <use x=\"95.410156\" xlink:href=\"#DejaVuSans-50\"/>\n    </g>\n   </g>\n   <g id=\"text_694\">\n    <!-- 0.76 -->\n    <g style=\"fill:#262626;\" transform=\"translate(267.059732 196.252879)scale(0.1 -0.1)\">\n     <use xlink:href=\"#DejaVuSans-48\"/>\n     <use x=\"63.623047\" xlink:href=\"#DejaVuSans-46\"/>\n     <use x=\"95.410156\" xlink:href=\"#DejaVuSans-55\"/>\n     <use x=\"159.033203\" xlink:href=\"#DejaVuSans-54\"/>\n    </g>\n   </g>\n   <g id=\"text_695\">\n    <!-- 0.31 -->\n    <g style=\"fill:#ffffff;\" transform=\"translate(276.625446 196.252879)scale(0.1 -0.1)\">\n     <use xlink:href=\"#DejaVuSans-48\"/>\n     <use x=\"63.623047\" xlink:href=\"#DejaVuSans-46\"/>\n     <use x=\"95.410156\" xlink:href=\"#DejaVuSans-51\"/>\n     <use x=\"159.033203\" xlink:href=\"#DejaVuSans-49\"/>\n    </g>\n   </g>\n   <g id=\"text_696\">\n    <!-- 1 -->\n    <g style=\"fill:#262626;\" transform=\"translate(294.142723 196.252879)scale(0.1 -0.1)\">\n     <use xlink:href=\"#DejaVuSans-49\"/>\n    </g>\n   </g>\n   <g id=\"text_697\">\n    <!-- -0.043 -->\n    <g style=\"fill:#ffffff;\" transform=\"translate(290.771719 196.252879)scale(0.1 -0.1)\">\n     <use xlink:href=\"#DejaVuSans-45\"/>\n     <use x=\"36.083984\" xlink:href=\"#DejaVuSans-48\"/>\n     <use x=\"99.707031\" xlink:href=\"#DejaVuSans-46\"/>\n     <use x=\"131.494141\" xlink:href=\"#DejaVuSans-48\"/>\n     <use x=\"195.117188\" xlink:href=\"#DejaVuSans-52\"/>\n     <use x=\"258.740234\" xlink:href=\"#DejaVuSans-51\"/>\n    </g>\n   </g>\n   <g id=\"text_698\">\n    <!-- 0.67 -->\n    <g style=\"fill:#262626;\" transform=\"translate(305.322589 196.252879)scale(0.1 -0.1)\">\n     <use xlink:href=\"#DejaVuSans-48\"/>\n     <use x=\"63.623047\" xlink:href=\"#DejaVuSans-46\"/>\n     <use x=\"95.410156\" xlink:href=\"#DejaVuSans-54\"/>\n     <use x=\"159.033203\" xlink:href=\"#DejaVuSans-55\"/>\n    </g>\n   </g>\n   <g id=\"text_699\">\n    <!-- 0.7 -->\n    <g style=\"fill:#262626;\" transform=\"translate(318.069554 196.252879)scale(0.1 -0.1)\">\n     <use xlink:href=\"#DejaVuSans-48\"/>\n     <use x=\"63.623047\" xlink:href=\"#DejaVuSans-46\"/>\n     <use x=\"95.410156\" xlink:href=\"#DejaVuSans-55\"/>\n    </g>\n   </g>\n   <g id=\"text_700\">\n    <!-- -0.74 -->\n    <g style=\"fill:#ffffff;\" transform=\"translate(322.650112 196.252879)scale(0.1 -0.1)\">\n     <use xlink:href=\"#DejaVuSans-45\"/>\n     <use x=\"36.083984\" xlink:href=\"#DejaVuSans-48\"/>\n     <use x=\"99.707031\" xlink:href=\"#DejaVuSans-46\"/>\n     <use x=\"131.494141\" xlink:href=\"#DejaVuSans-55\"/>\n     <use x=\"195.117188\" xlink:href=\"#DejaVuSans-52\"/>\n    </g>\n   </g>\n   <g id=\"text_701\">\n    <!-- -0.019 -->\n    <g style=\"fill:#ffffff;\" transform=\"translate(61.194576 204.018594)scale(0.1 -0.1)\">\n     <use xlink:href=\"#DejaVuSans-45\"/>\n     <use x=\"36.083984\" xlink:href=\"#DejaVuSans-48\"/>\n     <use x=\"99.707031\" xlink:href=\"#DejaVuSans-46\"/>\n     <use x=\"131.494141\" xlink:href=\"#DejaVuSans-48\"/>\n     <use x=\"195.117188\" xlink:href=\"#DejaVuSans-49\"/>\n     <use x=\"258.740234\" xlink:href=\"#DejaVuSans-57\"/>\n    </g>\n   </g>\n   <g id=\"text_702\">\n    <!-- -0.076 -->\n    <g style=\"fill:#ffffff;\" transform=\"translate(70.76029 204.018594)scale(0.1 -0.1)\">\n     <use xlink:href=\"#DejaVuSans-45\"/>\n     <use x=\"36.083984\" xlink:href=\"#DejaVuSans-48\"/>\n     <use x=\"99.707031\" xlink:href=\"#DejaVuSans-46\"/>\n     <use x=\"131.494141\" xlink:href=\"#DejaVuSans-48\"/>\n     <use x=\"195.117188\" xlink:href=\"#DejaVuSans-55\"/>\n     <use x=\"258.740234\" xlink:href=\"#DejaVuSans-54\"/>\n    </g>\n   </g>\n   <g id=\"text_703\">\n    <!-- 0.084 -->\n    <g style=\"fill:#ffffff;\" transform=\"translate(82.129911 204.018594)scale(0.1 -0.1)\">\n     <use xlink:href=\"#DejaVuSans-48\"/>\n     <use x=\"63.623047\" xlink:href=\"#DejaVuSans-46\"/>\n     <use x=\"95.410156\" xlink:href=\"#DejaVuSans-48\"/>\n     <use x=\"159.033203\" xlink:href=\"#DejaVuSans-56\"/>\n     <use x=\"222.65625\" xlink:href=\"#DejaVuSans-52\"/>\n    </g>\n   </g>\n   <g id=\"text_704\">\n    <!-- -0.061 -->\n    <g style=\"fill:#ffffff;\" transform=\"translate(89.891719 204.018594)scale(0.1 -0.1)\">\n     <use xlink:href=\"#DejaVuSans-45\"/>\n     <use x=\"36.083984\" xlink:href=\"#DejaVuSans-48\"/>\n     <use x=\"99.707031\" xlink:href=\"#DejaVuSans-46\"/>\n     <use x=\"131.494141\" xlink:href=\"#DejaVuSans-48\"/>\n     <use x=\"195.117188\" xlink:href=\"#DejaVuSans-54\"/>\n     <use x=\"258.740234\" xlink:href=\"#DejaVuSans-49\"/>\n    </g>\n   </g>\n   <g id=\"text_705\">\n    <!-- -0.063 -->\n    <g style=\"fill:#ffffff;\" transform=\"translate(99.457433 204.018594)scale(0.1 -0.1)\">\n     <use xlink:href=\"#DejaVuSans-45\"/>\n     <use x=\"36.083984\" xlink:href=\"#DejaVuSans-48\"/>\n     <use x=\"99.707031\" xlink:href=\"#DejaVuSans-46\"/>\n     <use x=\"131.494141\" xlink:href=\"#DejaVuSans-48\"/>\n     <use x=\"195.117188\" xlink:href=\"#DejaVuSans-54\"/>\n     <use x=\"258.740234\" xlink:href=\"#DejaVuSans-51\"/>\n    </g>\n   </g>\n   <g id=\"text_706\">\n    <!-- 0.0064 -->\n    <g style=\"fill:#ffffff;\" transform=\"translate(107.645804 204.018594)scale(0.1 -0.1)\">\n     <use xlink:href=\"#DejaVuSans-48\"/>\n     <use x=\"63.623047\" xlink:href=\"#DejaVuSans-46\"/>\n     <use x=\"95.410156\" xlink:href=\"#DejaVuSans-48\"/>\n     <use x=\"159.033203\" xlink:href=\"#DejaVuSans-48\"/>\n     <use x=\"222.65625\" xlink:href=\"#DejaVuSans-54\"/>\n     <use x=\"286.279297\" xlink:href=\"#DejaVuSans-52\"/>\n    </g>\n   </g>\n   <g id=\"text_707\">\n    <!-- 0.1 -->\n    <g style=\"fill:#ffffff;\" transform=\"translate(126.755268 204.018594)scale(0.1 -0.1)\">\n     <use xlink:href=\"#DejaVuSans-48\"/>\n     <use x=\"63.623047\" xlink:href=\"#DejaVuSans-46\"/>\n     <use x=\"95.410156\" xlink:href=\"#DejaVuSans-49\"/>\n    </g>\n   </g>\n   <g id=\"text_708\">\n    <!-- 0.082 -->\n    <g style=\"fill:#ffffff;\" transform=\"translate(129.958482 204.018594)scale(0.1 -0.1)\">\n     <use xlink:href=\"#DejaVuSans-48\"/>\n     <use x=\"63.623047\" xlink:href=\"#DejaVuSans-46\"/>\n     <use x=\"95.410156\" xlink:href=\"#DejaVuSans-48\"/>\n     <use x=\"159.033203\" xlink:href=\"#DejaVuSans-56\"/>\n     <use x=\"222.65625\" xlink:href=\"#DejaVuSans-50\"/>\n    </g>\n   </g>\n   <g id=\"text_709\">\n    <!-- 0.044 -->\n    <g style=\"fill:#ffffff;\" transform=\"translate(139.524196 204.018594)scale(0.1 -0.1)\">\n     <use xlink:href=\"#DejaVuSans-48\"/>\n     <use x=\"63.623047\" xlink:href=\"#DejaVuSans-46\"/>\n     <use x=\"95.410156\" xlink:href=\"#DejaVuSans-48\"/>\n     <use x=\"159.033203\" xlink:href=\"#DejaVuSans-52\"/>\n     <use x=\"222.65625\" xlink:href=\"#DejaVuSans-52\"/>\n    </g>\n   </g>\n   <g id=\"text_710\">\n    <!-- -0.13 -->\n    <g style=\"fill:#ffffff;\" transform=\"translate(150.467254 204.018594)scale(0.1 -0.1)\">\n     <use xlink:href=\"#DejaVuSans-45\"/>\n     <use x=\"36.083984\" xlink:href=\"#DejaVuSans-48\"/>\n     <use x=\"99.707031\" xlink:href=\"#DejaVuSans-46\"/>\n     <use x=\"131.494141\" xlink:href=\"#DejaVuSans-49\"/>\n     <use x=\"195.117188\" xlink:href=\"#DejaVuSans-51\"/>\n    </g>\n   </g>\n   <g id=\"text_711\">\n    <!-- -0.14 -->\n    <g style=\"fill:#ffffff;\" transform=\"translate(160.032969 204.018594)scale(0.1 -0.1)\">\n     <use xlink:href=\"#DejaVuSans-45\"/>\n     <use x=\"36.083984\" xlink:href=\"#DejaVuSans-48\"/>\n     <use x=\"99.707031\" xlink:href=\"#DejaVuSans-46\"/>\n     <use x=\"131.494141\" xlink:href=\"#DejaVuSans-49\"/>\n     <use x=\"195.117188\" xlink:href=\"#DejaVuSans-52\"/>\n    </g>\n   </g>\n   <g id=\"text_712\">\n    <!-- 0.04 -->\n    <g style=\"fill:#ffffff;\" transform=\"translate(171.402589 204.018594)scale(0.1 -0.1)\">\n     <use xlink:href=\"#DejaVuSans-48\"/>\n     <use x=\"63.623047\" xlink:href=\"#DejaVuSans-46\"/>\n     <use x=\"95.410156\" xlink:href=\"#DejaVuSans-48\"/>\n     <use x=\"159.033203\" xlink:href=\"#DejaVuSans-52\"/>\n    </g>\n   </g>\n   <g id=\"text_713\">\n    <!-- -0.058 -->\n    <g style=\"fill:#ffffff;\" transform=\"translate(175.983147 204.018594)scale(0.1 -0.1)\">\n     <use xlink:href=\"#DejaVuSans-45\"/>\n     <use x=\"36.083984\" xlink:href=\"#DejaVuSans-48\"/>\n     <use x=\"99.707031\" xlink:href=\"#DejaVuSans-46\"/>\n     <use x=\"131.494141\" xlink:href=\"#DejaVuSans-48\"/>\n     <use x=\"195.117188\" xlink:href=\"#DejaVuSans-53\"/>\n     <use x=\"258.740234\" xlink:href=\"#DejaVuSans-56\"/>\n    </g>\n   </g>\n   <g id=\"text_714\">\n    <!-- -0.089 -->\n    <g style=\"fill:#ffffff;\" transform=\"translate(185.548862 204.018594)scale(0.1 -0.1)\">\n     <use xlink:href=\"#DejaVuSans-45\"/>\n     <use x=\"36.083984\" xlink:href=\"#DejaVuSans-48\"/>\n     <use x=\"99.707031\" xlink:href=\"#DejaVuSans-46\"/>\n     <use x=\"131.494141\" xlink:href=\"#DejaVuSans-48\"/>\n     <use x=\"195.117188\" xlink:href=\"#DejaVuSans-56\"/>\n     <use x=\"258.740234\" xlink:href=\"#DejaVuSans-57\"/>\n    </g>\n   </g>\n   <g id=\"text_715\">\n    <!-- 0.17 -->\n    <g style=\"fill:#ffffff;\" transform=\"translate(200.099732 204.018594)scale(0.1 -0.1)\">\n     <use xlink:href=\"#DejaVuSans-48\"/>\n     <use x=\"63.623047\" xlink:href=\"#DejaVuSans-46\"/>\n     <use x=\"95.410156\" xlink:href=\"#DejaVuSans-49\"/>\n     <use x=\"159.033203\" xlink:href=\"#DejaVuSans-55\"/>\n    </g>\n   </g>\n   <g id=\"text_716\">\n    <!-- -0.18 -->\n    <g style=\"fill:#ffffff;\" transform=\"translate(207.86154 204.018594)scale(0.1 -0.1)\">\n     <use xlink:href=\"#DejaVuSans-45\"/>\n     <use x=\"36.083984\" xlink:href=\"#DejaVuSans-48\"/>\n     <use x=\"99.707031\" xlink:href=\"#DejaVuSans-46\"/>\n     <use x=\"131.494141\" xlink:href=\"#DejaVuSans-49\"/>\n     <use x=\"195.117188\" xlink:href=\"#DejaVuSans-56\"/>\n    </g>\n   </g>\n   <g id=\"text_717\">\n    <!-- -0.0073 -->\n    <g style=\"fill:#ffffff;\" transform=\"translate(211.064754 204.018594)scale(0.1 -0.1)\">\n     <use xlink:href=\"#DejaVuSans-45\"/>\n     <use x=\"36.083984\" xlink:href=\"#DejaVuSans-48\"/>\n     <use x=\"99.707031\" xlink:href=\"#DejaVuSans-46\"/>\n     <use x=\"131.494141\" xlink:href=\"#DejaVuSans-48\"/>\n     <use x=\"195.117188\" xlink:href=\"#DejaVuSans-48\"/>\n     <use x=\"258.740234\" xlink:href=\"#DejaVuSans-55\"/>\n     <use x=\"322.363281\" xlink:href=\"#DejaVuSans-51\"/>\n    </g>\n   </g>\n   <g id=\"text_718\">\n    <!-- -0.058 -->\n    <g style=\"fill:#ffffff;\" transform=\"translate(223.811719 204.018594)scale(0.1 -0.1)\">\n     <use xlink:href=\"#DejaVuSans-45\"/>\n     <use x=\"36.083984\" xlink:href=\"#DejaVuSans-48\"/>\n     <use x=\"99.707031\" xlink:href=\"#DejaVuSans-46\"/>\n     <use x=\"131.494141\" xlink:href=\"#DejaVuSans-48\"/>\n     <use x=\"195.117188\" xlink:href=\"#DejaVuSans-53\"/>\n     <use x=\"258.740234\" xlink:href=\"#DejaVuSans-56\"/>\n    </g>\n   </g>\n   <g id=\"text_719\">\n    <!-- 0.2 -->\n    <g style=\"fill:#ffffff;\" transform=\"translate(241.543839 204.018594)scale(0.1 -0.1)\">\n     <use xlink:href=\"#DejaVuSans-48\"/>\n     <use x=\"63.623047\" xlink:href=\"#DejaVuSans-46\"/>\n     <use x=\"95.410156\" xlink:href=\"#DejaVuSans-50\"/>\n    </g>\n   </g>\n   <g id=\"text_720\">\n    <!-- 0.025 -->\n    <g style=\"fill:#ffffff;\" transform=\"translate(244.747054 204.018594)scale(0.1 -0.1)\">\n     <use xlink:href=\"#DejaVuSans-48\"/>\n     <use x=\"63.623047\" xlink:href=\"#DejaVuSans-46\"/>\n     <use x=\"95.410156\" xlink:href=\"#DejaVuSans-48\"/>\n     <use x=\"159.033203\" xlink:href=\"#DejaVuSans-50\"/>\n     <use x=\"222.65625\" xlink:href=\"#DejaVuSans-53\"/>\n    </g>\n   </g>\n   <g id=\"text_721\">\n    <!-- -0.079 -->\n    <g style=\"fill:#ffffff;\" transform=\"translate(252.508862 204.018594)scale(0.1 -0.1)\">\n     <use xlink:href=\"#DejaVuSans-45\"/>\n     <use x=\"36.083984\" xlink:href=\"#DejaVuSans-48\"/>\n     <use x=\"99.707031\" xlink:href=\"#DejaVuSans-46\"/>\n     <use x=\"131.494141\" xlink:href=\"#DejaVuSans-48\"/>\n     <use x=\"195.117188\" xlink:href=\"#DejaVuSans-55\"/>\n     <use x=\"258.740234\" xlink:href=\"#DejaVuSans-57\"/>\n    </g>\n   </g>\n   <g id=\"text_722\">\n    <!-- -0.052 -->\n    <g style=\"fill:#ffffff;\" transform=\"translate(262.074576 204.018594)scale(0.1 -0.1)\">\n     <use xlink:href=\"#DejaVuSans-45\"/>\n     <use x=\"36.083984\" xlink:href=\"#DejaVuSans-48\"/>\n     <use x=\"99.707031\" xlink:href=\"#DejaVuSans-46\"/>\n     <use x=\"131.494141\" xlink:href=\"#DejaVuSans-48\"/>\n     <use x=\"195.117188\" xlink:href=\"#DejaVuSans-53\"/>\n     <use x=\"258.740234\" xlink:href=\"#DejaVuSans-50\"/>\n    </g>\n   </g>\n   <g id=\"text_723\">\n    <!-- -0.18 -->\n    <g style=\"fill:#ffffff;\" transform=\"translate(274.82154 204.018594)scale(0.1 -0.1)\">\n     <use xlink:href=\"#DejaVuSans-45\"/>\n     <use x=\"36.083984\" xlink:href=\"#DejaVuSans-48\"/>\n     <use x=\"99.707031\" xlink:href=\"#DejaVuSans-46\"/>\n     <use x=\"131.494141\" xlink:href=\"#DejaVuSans-49\"/>\n     <use x=\"195.117188\" xlink:href=\"#DejaVuSans-56\"/>\n    </g>\n   </g>\n   <g id=\"text_724\">\n    <!-- -0.043 -->\n    <g style=\"fill:#ffffff;\" transform=\"translate(281.206004 204.018594)scale(0.1 -0.1)\">\n     <use xlink:href=\"#DejaVuSans-45\"/>\n     <use x=\"36.083984\" xlink:href=\"#DejaVuSans-48\"/>\n     <use x=\"99.707031\" xlink:href=\"#DejaVuSans-46\"/>\n     <use x=\"131.494141\" xlink:href=\"#DejaVuSans-48\"/>\n     <use x=\"195.117188\" xlink:href=\"#DejaVuSans-52\"/>\n     <use x=\"258.740234\" xlink:href=\"#DejaVuSans-51\"/>\n    </g>\n   </g>\n   <g id=\"text_725\">\n    <!-- 1 -->\n    <g style=\"fill:#262626;\" transform=\"translate(303.708438 204.018594)scale(0.1 -0.1)\">\n     <use xlink:href=\"#DejaVuSans-49\"/>\n    </g>\n   </g>\n   <g id=\"text_726\">\n    <!-- 0.039 -->\n    <g style=\"fill:#ffffff;\" transform=\"translate(302.141339 204.018594)scale(0.1 -0.1)\">\n     <use xlink:href=\"#DejaVuSans-48\"/>\n     <use x=\"63.623047\" xlink:href=\"#DejaVuSans-46\"/>\n     <use x=\"95.410156\" xlink:href=\"#DejaVuSans-48\"/>\n     <use x=\"159.033203\" xlink:href=\"#DejaVuSans-51\"/>\n     <use x=\"222.65625\" xlink:href=\"#DejaVuSans-57\"/>\n    </g>\n   </g>\n   <g id=\"text_727\">\n    <!-- 0.26 -->\n    <g style=\"fill:#ffffff;\" transform=\"translate(314.888304 204.018594)scale(0.1 -0.1)\">\n     <use xlink:href=\"#DejaVuSans-48\"/>\n     <use x=\"63.623047\" xlink:href=\"#DejaVuSans-46\"/>\n     <use x=\"95.410156\" xlink:href=\"#DejaVuSans-50\"/>\n     <use x=\"159.033203\" xlink:href=\"#DejaVuSans-54\"/>\n    </g>\n   </g>\n   <g id=\"text_728\">\n    <!-- -0.15 -->\n    <g style=\"fill:#ffffff;\" transform=\"translate(322.650112 204.018594)scale(0.1 -0.1)\">\n     <use xlink:href=\"#DejaVuSans-45\"/>\n     <use x=\"36.083984\" xlink:href=\"#DejaVuSans-48\"/>\n     <use x=\"99.707031\" xlink:href=\"#DejaVuSans-46\"/>\n     <use x=\"131.494141\" xlink:href=\"#DejaVuSans-49\"/>\n     <use x=\"195.117188\" xlink:href=\"#DejaVuSans-53\"/>\n    </g>\n   </g>\n   <g id=\"text_729\">\n    <!-- 0.72 -->\n    <g style=\"fill:#262626;\" transform=\"translate(66.179732 211.784308)scale(0.1 -0.1)\">\n     <use xlink:href=\"#DejaVuSans-48\"/>\n     <use x=\"63.623047\" xlink:href=\"#DejaVuSans-46\"/>\n     <use x=\"95.410156\" xlink:href=\"#DejaVuSans-55\"/>\n     <use x=\"159.033203\" xlink:href=\"#DejaVuSans-50\"/>\n    </g>\n   </g>\n   <g id=\"text_730\">\n    <!-- 0.71 -->\n    <g style=\"fill:#262626;\" transform=\"translate(75.745446 211.784308)scale(0.1 -0.1)\">\n     <use xlink:href=\"#DejaVuSans-48\"/>\n     <use x=\"63.623047\" xlink:href=\"#DejaVuSans-46\"/>\n     <use x=\"95.410156\" xlink:href=\"#DejaVuSans-55\"/>\n     <use x=\"159.033203\" xlink:href=\"#DejaVuSans-49\"/>\n    </g>\n   </g>\n   <g id=\"text_731\">\n    <!-- -0.72 -->\n    <g style=\"fill:#ffffff;\" transform=\"translate(83.507254 211.784308)scale(0.1 -0.1)\">\n     <use xlink:href=\"#DejaVuSans-45\"/>\n     <use x=\"36.083984\" xlink:href=\"#DejaVuSans-48\"/>\n     <use x=\"99.707031\" xlink:href=\"#DejaVuSans-46\"/>\n     <use x=\"131.494141\" xlink:href=\"#DejaVuSans-55\"/>\n     <use x=\"195.117188\" xlink:href=\"#DejaVuSans-50\"/>\n    </g>\n   </g>\n   <g id=\"text_732\">\n    <!-- 0.67 -->\n    <g style=\"fill:#262626;\" transform=\"translate(94.876875 211.784308)scale(0.1 -0.1)\">\n     <use xlink:href=\"#DejaVuSans-48\"/>\n     <use x=\"63.623047\" xlink:href=\"#DejaVuSans-46\"/>\n     <use x=\"95.410156\" xlink:href=\"#DejaVuSans-54\"/>\n     <use x=\"159.033203\" xlink:href=\"#DejaVuSans-55\"/>\n    </g>\n   </g>\n   <g id=\"text_733\">\n    <!-- 0.66 -->\n    <g style=\"fill:#262626;\" transform=\"translate(104.442589 211.784308)scale(0.1 -0.1)\">\n     <use xlink:href=\"#DejaVuSans-48\"/>\n     <use x=\"63.623047\" xlink:href=\"#DejaVuSans-46\"/>\n     <use x=\"95.410156\" xlink:href=\"#DejaVuSans-54\"/>\n     <use x=\"159.033203\" xlink:href=\"#DejaVuSans-54\"/>\n    </g>\n   </g>\n   <g id=\"text_734\">\n    <!-- 0.19 -->\n    <g style=\"fill:#ffffff;\" transform=\"translate(114.008304 211.784308)scale(0.1 -0.1)\">\n     <use xlink:href=\"#DejaVuSans-48\"/>\n     <use x=\"63.623047\" xlink:href=\"#DejaVuSans-46\"/>\n     <use x=\"95.410156\" xlink:href=\"#DejaVuSans-49\"/>\n     <use x=\"159.033203\" xlink:href=\"#DejaVuSans-57\"/>\n    </g>\n   </g>\n   <g id=\"text_735\">\n    <!-- 0.5 -->\n    <g style=\"fill:#ffffff;\" transform=\"translate(126.755268 211.784308)scale(0.1 -0.1)\">\n     <use xlink:href=\"#DejaVuSans-48\"/>\n     <use x=\"63.623047\" xlink:href=\"#DejaVuSans-46\"/>\n     <use x=\"95.410156\" xlink:href=\"#DejaVuSans-53\"/>\n    </g>\n   </g>\n   <g id=\"text_736\">\n    <!-- 0.51 -->\n    <g style=\"fill:#ffffff;\" transform=\"translate(133.139732 211.784308)scale(0.1 -0.1)\">\n     <use xlink:href=\"#DejaVuSans-48\"/>\n     <use x=\"63.623047\" xlink:href=\"#DejaVuSans-46\"/>\n     <use x=\"95.410156\" xlink:href=\"#DejaVuSans-53\"/>\n     <use x=\"159.033203\" xlink:href=\"#DejaVuSans-49\"/>\n    </g>\n   </g>\n   <g id=\"text_737\">\n    <!-- 0.032 -->\n    <g style=\"fill:#ffffff;\" transform=\"translate(139.524196 211.784308)scale(0.1 -0.1)\">\n     <use xlink:href=\"#DejaVuSans-48\"/>\n     <use x=\"63.623047\" xlink:href=\"#DejaVuSans-46\"/>\n     <use x=\"95.410156\" xlink:href=\"#DejaVuSans-48\"/>\n     <use x=\"159.033203\" xlink:href=\"#DejaVuSans-51\"/>\n     <use x=\"222.65625\" xlink:href=\"#DejaVuSans-50\"/>\n    </g>\n   </g>\n   <g id=\"text_738\">\n    <!-- 0.54 -->\n    <g style=\"fill:#ffffff;\" transform=\"translate(152.271161 211.784308)scale(0.1 -0.1)\">\n     <use xlink:href=\"#DejaVuSans-48\"/>\n     <use x=\"63.623047\" xlink:href=\"#DejaVuSans-46\"/>\n     <use x=\"95.410156\" xlink:href=\"#DejaVuSans-53\"/>\n     <use x=\"159.033203\" xlink:href=\"#DejaVuSans-52\"/>\n    </g>\n   </g>\n   <g id=\"text_739\">\n    <!-- 0.52 -->\n    <g style=\"fill:#ffffff;\" transform=\"translate(161.836875 211.784308)scale(0.1 -0.1)\">\n     <use xlink:href=\"#DejaVuSans-48\"/>\n     <use x=\"63.623047\" xlink:href=\"#DejaVuSans-46\"/>\n     <use x=\"95.410156\" xlink:href=\"#DejaVuSans-53\"/>\n     <use x=\"159.033203\" xlink:href=\"#DejaVuSans-50\"/>\n    </g>\n   </g>\n   <g id=\"text_740\">\n    <!-- 0.25 -->\n    <g style=\"fill:#ffffff;\" transform=\"translate(171.402589 211.784308)scale(0.1 -0.1)\">\n     <use xlink:href=\"#DejaVuSans-48\"/>\n     <use x=\"63.623047\" xlink:href=\"#DejaVuSans-46\"/>\n     <use x=\"95.410156\" xlink:href=\"#DejaVuSans-50\"/>\n     <use x=\"159.033203\" xlink:href=\"#DejaVuSans-53\"/>\n    </g>\n   </g>\n   <g id=\"text_741\">\n    <!-- 0.51 -->\n    <g style=\"fill:#ffffff;\" transform=\"translate(180.968304 211.784308)scale(0.1 -0.1)\">\n     <use xlink:href=\"#DejaVuSans-48\"/>\n     <use x=\"63.623047\" xlink:href=\"#DejaVuSans-46\"/>\n     <use x=\"95.410156\" xlink:href=\"#DejaVuSans-53\"/>\n     <use x=\"159.033203\" xlink:href=\"#DejaVuSans-49\"/>\n    </g>\n   </g>\n   <g id=\"text_742\">\n    <!-- 0.54 -->\n    <g style=\"fill:#ffffff;\" transform=\"translate(190.534018 211.784308)scale(0.1 -0.1)\">\n     <use xlink:href=\"#DejaVuSans-48\"/>\n     <use x=\"63.623047\" xlink:href=\"#DejaVuSans-46\"/>\n     <use x=\"95.410156\" xlink:href=\"#DejaVuSans-53\"/>\n     <use x=\"159.033203\" xlink:href=\"#DejaVuSans-52\"/>\n    </g>\n   </g>\n   <g id=\"text_743\">\n    <!-- 0.043 -->\n    <g style=\"fill:#ffffff;\" transform=\"translate(196.918482 211.784308)scale(0.1 -0.1)\">\n     <use xlink:href=\"#DejaVuSans-48\"/>\n     <use x=\"63.623047\" xlink:href=\"#DejaVuSans-46\"/>\n     <use x=\"95.410156\" xlink:href=\"#DejaVuSans-48\"/>\n     <use x=\"159.033203\" xlink:href=\"#DejaVuSans-52\"/>\n     <use x=\"222.65625\" xlink:href=\"#DejaVuSans-51\"/>\n    </g>\n   </g>\n   <g id=\"text_744\">\n    <!-- 0.093 -->\n    <g style=\"fill:#ffffff;\" transform=\"translate(206.484196 211.784308)scale(0.1 -0.1)\">\n     <use xlink:href=\"#DejaVuSans-48\"/>\n     <use x=\"63.623047\" xlink:href=\"#DejaVuSans-46\"/>\n     <use x=\"95.410156\" xlink:href=\"#DejaVuSans-48\"/>\n     <use x=\"159.033203\" xlink:href=\"#DejaVuSans-57\"/>\n     <use x=\"222.65625\" xlink:href=\"#DejaVuSans-51\"/>\n    </g>\n   </g>\n   <g id=\"text_745\">\n    <!-- 0.48 -->\n    <g style=\"fill:#ffffff;\" transform=\"translate(219.231161 211.784308)scale(0.1 -0.1)\">\n     <use xlink:href=\"#DejaVuSans-48\"/>\n     <use x=\"63.623047\" xlink:href=\"#DejaVuSans-46\"/>\n     <use x=\"95.410156\" xlink:href=\"#DejaVuSans-52\"/>\n     <use x=\"159.033203\" xlink:href=\"#DejaVuSans-56\"/>\n    </g>\n   </g>\n   <g id=\"text_746\">\n    <!-- 0.41 -->\n    <g style=\"fill:#ffffff;\" transform=\"translate(228.796875 211.784308)scale(0.1 -0.1)\">\n     <use xlink:href=\"#DejaVuSans-48\"/>\n     <use x=\"63.623047\" xlink:href=\"#DejaVuSans-46\"/>\n     <use x=\"95.410156\" xlink:href=\"#DejaVuSans-52\"/>\n     <use x=\"159.033203\" xlink:href=\"#DejaVuSans-49\"/>\n    </g>\n   </g>\n   <g id=\"text_747\">\n    <!-- 0.6 -->\n    <g style=\"fill:#262626;\" transform=\"translate(241.543839 211.784308)scale(0.1 -0.1)\">\n     <use xlink:href=\"#DejaVuSans-48\"/>\n     <use x=\"63.623047\" xlink:href=\"#DejaVuSans-46\"/>\n     <use x=\"95.410156\" xlink:href=\"#DejaVuSans-54\"/>\n    </g>\n   </g>\n   <g id=\"text_748\">\n    <!-- 0.23 -->\n    <g style=\"fill:#ffffff;\" transform=\"translate(247.928304 211.784308)scale(0.1 -0.1)\">\n     <use xlink:href=\"#DejaVuSans-48\"/>\n     <use x=\"63.623047\" xlink:href=\"#DejaVuSans-46\"/>\n     <use x=\"95.410156\" xlink:href=\"#DejaVuSans-50\"/>\n     <use x=\"159.033203\" xlink:href=\"#DejaVuSans-51\"/>\n    </g>\n   </g>\n   <g id=\"text_749\">\n    <!-- 0.24 -->\n    <g style=\"fill:#ffffff;\" transform=\"translate(257.494018 211.784308)scale(0.1 -0.1)\">\n     <use xlink:href=\"#DejaVuSans-48\"/>\n     <use x=\"63.623047\" xlink:href=\"#DejaVuSans-46\"/>\n     <use x=\"95.410156\" xlink:href=\"#DejaVuSans-50\"/>\n     <use x=\"159.033203\" xlink:href=\"#DejaVuSans-52\"/>\n    </g>\n   </g>\n   <g id=\"text_750\">\n    <!-- 0.46 -->\n    <g style=\"fill:#ffffff;\" transform=\"translate(267.059732 211.784308)scale(0.1 -0.1)\">\n     <use xlink:href=\"#DejaVuSans-48\"/>\n     <use x=\"63.623047\" xlink:href=\"#DejaVuSans-46\"/>\n     <use x=\"95.410156\" xlink:href=\"#DejaVuSans-52\"/>\n     <use x=\"159.033203\" xlink:href=\"#DejaVuSans-54\"/>\n    </g>\n   </g>\n   <g id=\"text_751\">\n    <!-- 0.12 -->\n    <g style=\"fill:#ffffff;\" transform=\"translate(276.625446 211.784308)scale(0.1 -0.1)\">\n     <use xlink:href=\"#DejaVuSans-48\"/>\n     <use x=\"63.623047\" xlink:href=\"#DejaVuSans-46\"/>\n     <use x=\"95.410156\" xlink:href=\"#DejaVuSans-49\"/>\n     <use x=\"159.033203\" xlink:href=\"#DejaVuSans-50\"/>\n    </g>\n   </g>\n   <g id=\"text_752\">\n    <!-- 0.67 -->\n    <g style=\"fill:#262626;\" transform=\"translate(286.191161 211.784308)scale(0.1 -0.1)\">\n     <use xlink:href=\"#DejaVuSans-48\"/>\n     <use x=\"63.623047\" xlink:href=\"#DejaVuSans-46\"/>\n     <use x=\"95.410156\" xlink:href=\"#DejaVuSans-54\"/>\n     <use x=\"159.033203\" xlink:href=\"#DejaVuSans-55\"/>\n    </g>\n   </g>\n   <g id=\"text_753\">\n    <!-- 0.039 -->\n    <g style=\"fill:#ffffff;\" transform=\"translate(292.575625 211.784308)scale(0.1 -0.1)\">\n     <use xlink:href=\"#DejaVuSans-48\"/>\n     <use x=\"63.623047\" xlink:href=\"#DejaVuSans-46\"/>\n     <use x=\"95.410156\" xlink:href=\"#DejaVuSans-48\"/>\n     <use x=\"159.033203\" xlink:href=\"#DejaVuSans-51\"/>\n     <use x=\"222.65625\" xlink:href=\"#DejaVuSans-57\"/>\n    </g>\n   </g>\n   <g id=\"text_754\">\n    <!-- 1 -->\n    <g style=\"fill:#262626;\" transform=\"translate(313.274152 211.784308)scale(0.1 -0.1)\">\n     <use xlink:href=\"#DejaVuSans-49\"/>\n    </g>\n   </g>\n   <g id=\"text_755\">\n    <!-- 0.72 -->\n    <g style=\"fill:#262626;\" transform=\"translate(314.888304 211.784308)scale(0.1 -0.1)\">\n     <use xlink:href=\"#DejaVuSans-48\"/>\n     <use x=\"63.623047\" xlink:href=\"#DejaVuSans-46\"/>\n     <use x=\"95.410156\" xlink:href=\"#DejaVuSans-55\"/>\n     <use x=\"159.033203\" xlink:href=\"#DejaVuSans-50\"/>\n    </g>\n   </g>\n   <g id=\"text_756\">\n    <!-- -0.94 -->\n    <g style=\"fill:#ffffff;\" transform=\"translate(322.650112 211.784308)scale(0.1 -0.1)\">\n     <use xlink:href=\"#DejaVuSans-45\"/>\n     <use x=\"36.083984\" xlink:href=\"#DejaVuSans-48\"/>\n     <use x=\"99.707031\" xlink:href=\"#DejaVuSans-46\"/>\n     <use x=\"131.494141\" xlink:href=\"#DejaVuSans-57\"/>\n     <use x=\"195.117188\" xlink:href=\"#DejaVuSans-52\"/>\n    </g>\n   </g>\n   <g id=\"text_757\">\n    <!-- 0.33 -->\n    <g style=\"fill:#ffffff;\" transform=\"translate(66.179732 219.550022)scale(0.1 -0.1)\">\n     <use xlink:href=\"#DejaVuSans-48\"/>\n     <use x=\"63.623047\" xlink:href=\"#DejaVuSans-46\"/>\n     <use x=\"95.410156\" xlink:href=\"#DejaVuSans-51\"/>\n     <use x=\"159.033203\" xlink:href=\"#DejaVuSans-51\"/>\n    </g>\n   </g>\n   <g id=\"text_758\">\n    <!-- 0.53 -->\n    <g style=\"fill:#ffffff;\" transform=\"translate(75.745446 219.550022)scale(0.1 -0.1)\">\n     <use xlink:href=\"#DejaVuSans-48\"/>\n     <use x=\"63.623047\" xlink:href=\"#DejaVuSans-46\"/>\n     <use x=\"95.410156\" xlink:href=\"#DejaVuSans-53\"/>\n     <use x=\"159.033203\" xlink:href=\"#DejaVuSans-51\"/>\n    </g>\n   </g>\n   <g id=\"text_759\">\n    <!-- -0.18 -->\n    <g style=\"fill:#ffffff;\" transform=\"translate(83.507254 219.550022)scale(0.1 -0.1)\">\n     <use xlink:href=\"#DejaVuSans-45\"/>\n     <use x=\"36.083984\" xlink:href=\"#DejaVuSans-48\"/>\n     <use x=\"99.707031\" xlink:href=\"#DejaVuSans-46\"/>\n     <use x=\"131.494141\" xlink:href=\"#DejaVuSans-49\"/>\n     <use x=\"195.117188\" xlink:href=\"#DejaVuSans-56\"/>\n    </g>\n   </g>\n   <g id=\"text_760\">\n    <!-- 0.7 -->\n    <g style=\"fill:#262626;\" transform=\"translate(98.058125 219.550022)scale(0.1 -0.1)\">\n     <use xlink:href=\"#DejaVuSans-48\"/>\n     <use x=\"63.623047\" xlink:href=\"#DejaVuSans-46\"/>\n     <use x=\"95.410156\" xlink:href=\"#DejaVuSans-55\"/>\n    </g>\n   </g>\n   <g id=\"text_761\">\n    <!-- 0.68 -->\n    <g style=\"fill:#262626;\" transform=\"translate(104.442589 219.550022)scale(0.1 -0.1)\">\n     <use xlink:href=\"#DejaVuSans-48\"/>\n     <use x=\"63.623047\" xlink:href=\"#DejaVuSans-46\"/>\n     <use x=\"95.410156\" xlink:href=\"#DejaVuSans-54\"/>\n     <use x=\"159.033203\" xlink:href=\"#DejaVuSans-56\"/>\n    </g>\n   </g>\n   <g id=\"text_762\">\n    <!-- 0.28 -->\n    <g style=\"fill:#ffffff;\" transform=\"translate(114.008304 219.550022)scale(0.1 -0.1)\">\n     <use xlink:href=\"#DejaVuSans-48\"/>\n     <use x=\"63.623047\" xlink:href=\"#DejaVuSans-46\"/>\n     <use x=\"95.410156\" xlink:href=\"#DejaVuSans-50\"/>\n     <use x=\"159.033203\" xlink:href=\"#DejaVuSans-56\"/>\n    </g>\n   </g>\n   <g id=\"text_763\">\n    <!-- 0.38 -->\n    <g style=\"fill:#ffffff;\" transform=\"translate(123.574018 219.550022)scale(0.1 -0.1)\">\n     <use xlink:href=\"#DejaVuSans-48\"/>\n     <use x=\"63.623047\" xlink:href=\"#DejaVuSans-46\"/>\n     <use x=\"95.410156\" xlink:href=\"#DejaVuSans-51\"/>\n     <use x=\"159.033203\" xlink:href=\"#DejaVuSans-56\"/>\n    </g>\n   </g>\n   <g id=\"text_764\">\n    <!-- 0.38 -->\n    <g style=\"fill:#ffffff;\" transform=\"translate(133.139732 219.550022)scale(0.1 -0.1)\">\n     <use xlink:href=\"#DejaVuSans-48\"/>\n     <use x=\"63.623047\" xlink:href=\"#DejaVuSans-46\"/>\n     <use x=\"95.410156\" xlink:href=\"#DejaVuSans-51\"/>\n     <use x=\"159.033203\" xlink:href=\"#DejaVuSans-56\"/>\n    </g>\n   </g>\n   <g id=\"text_765\">\n    <!-- -0.0023 -->\n    <g style=\"fill:#ffffff;\" transform=\"translate(134.53904 219.550022)scale(0.1 -0.1)\">\n     <use xlink:href=\"#DejaVuSans-45\"/>\n     <use x=\"36.083984\" xlink:href=\"#DejaVuSans-48\"/>\n     <use x=\"99.707031\" xlink:href=\"#DejaVuSans-46\"/>\n     <use x=\"131.494141\" xlink:href=\"#DejaVuSans-48\"/>\n     <use x=\"195.117188\" xlink:href=\"#DejaVuSans-48\"/>\n     <use x=\"258.740234\" xlink:href=\"#DejaVuSans-50\"/>\n     <use x=\"322.363281\" xlink:href=\"#DejaVuSans-51\"/>\n    </g>\n   </g>\n   <g id=\"text_766\">\n    <!-- 0.64 -->\n    <g style=\"fill:#262626;\" transform=\"translate(152.271161 219.550022)scale(0.1 -0.1)\">\n     <use xlink:href=\"#DejaVuSans-48\"/>\n     <use x=\"63.623047\" xlink:href=\"#DejaVuSans-46\"/>\n     <use x=\"95.410156\" xlink:href=\"#DejaVuSans-54\"/>\n     <use x=\"159.033203\" xlink:href=\"#DejaVuSans-52\"/>\n    </g>\n   </g>\n   <g id=\"text_767\">\n    <!-- 0.63 -->\n    <g style=\"fill:#262626;\" transform=\"translate(161.836875 219.550022)scale(0.1 -0.1)\">\n     <use xlink:href=\"#DejaVuSans-48\"/>\n     <use x=\"63.623047\" xlink:href=\"#DejaVuSans-46\"/>\n     <use x=\"95.410156\" xlink:href=\"#DejaVuSans-54\"/>\n     <use x=\"159.033203\" xlink:href=\"#DejaVuSans-51\"/>\n    </g>\n   </g>\n   <g id=\"text_768\">\n    <!-- 0.26 -->\n    <g style=\"fill:#ffffff;\" transform=\"translate(171.402589 219.550022)scale(0.1 -0.1)\">\n     <use xlink:href=\"#DejaVuSans-48\"/>\n     <use x=\"63.623047\" xlink:href=\"#DejaVuSans-46\"/>\n     <use x=\"95.410156\" xlink:href=\"#DejaVuSans-50\"/>\n     <use x=\"159.033203\" xlink:href=\"#DejaVuSans-54\"/>\n    </g>\n   </g>\n   <g id=\"text_769\">\n    <!-- 0.6 -->\n    <g style=\"fill:#262626;\" transform=\"translate(184.149554 219.550022)scale(0.1 -0.1)\">\n     <use xlink:href=\"#DejaVuSans-48\"/>\n     <use x=\"63.623047\" xlink:href=\"#DejaVuSans-46\"/>\n     <use x=\"95.410156\" xlink:href=\"#DejaVuSans-54\"/>\n    </g>\n   </g>\n   <g id=\"text_770\">\n    <!-- 0.61 -->\n    <g style=\"fill:#262626;\" transform=\"translate(190.534018 219.550022)scale(0.1 -0.1)\">\n     <use xlink:href=\"#DejaVuSans-48\"/>\n     <use x=\"63.623047\" xlink:href=\"#DejaVuSans-46\"/>\n     <use x=\"95.410156\" xlink:href=\"#DejaVuSans-54\"/>\n     <use x=\"159.033203\" xlink:href=\"#DejaVuSans-49\"/>\n    </g>\n   </g>\n   <g id=\"text_771\">\n    <!-- 0.2 -->\n    <g style=\"fill:#ffffff;\" transform=\"translate(203.280982 219.550022)scale(0.1 -0.1)\">\n     <use xlink:href=\"#DejaVuSans-48\"/>\n     <use x=\"63.623047\" xlink:href=\"#DejaVuSans-46\"/>\n     <use x=\"95.410156\" xlink:href=\"#DejaVuSans-50\"/>\n    </g>\n   </g>\n   <g id=\"text_772\">\n    <!-- 0.11 -->\n    <g style=\"fill:#ffffff;\" transform=\"translate(209.665446 219.550022)scale(0.1 -0.1)\">\n     <use xlink:href=\"#DejaVuSans-48\"/>\n     <use x=\"63.623047\" xlink:href=\"#DejaVuSans-46\"/>\n     <use x=\"95.410156\" xlink:href=\"#DejaVuSans-49\"/>\n     <use x=\"159.033203\" xlink:href=\"#DejaVuSans-49\"/>\n    </g>\n   </g>\n   <g id=\"text_773\">\n    <!-- 0.5 -->\n    <g style=\"fill:#ffffff;\" transform=\"translate(222.412411 219.550022)scale(0.1 -0.1)\">\n     <use xlink:href=\"#DejaVuSans-48\"/>\n     <use x=\"63.623047\" xlink:href=\"#DejaVuSans-46\"/>\n     <use x=\"95.410156\" xlink:href=\"#DejaVuSans-53\"/>\n    </g>\n   </g>\n   <g id=\"text_774\">\n    <!-- 0.43 -->\n    <g style=\"fill:#ffffff;\" transform=\"translate(228.796875 219.550022)scale(0.1 -0.1)\">\n     <use xlink:href=\"#DejaVuSans-48\"/>\n     <use x=\"63.623047\" xlink:href=\"#DejaVuSans-46\"/>\n     <use x=\"95.410156\" xlink:href=\"#DejaVuSans-52\"/>\n     <use x=\"159.033203\" xlink:href=\"#DejaVuSans-51\"/>\n    </g>\n   </g>\n   <g id=\"text_775\">\n    <!-- 0.67 -->\n    <g style=\"fill:#262626;\" transform=\"translate(238.362589 219.550022)scale(0.1 -0.1)\">\n     <use xlink:href=\"#DejaVuSans-48\"/>\n     <use x=\"63.623047\" xlink:href=\"#DejaVuSans-46\"/>\n     <use x=\"95.410156\" xlink:href=\"#DejaVuSans-54\"/>\n     <use x=\"159.033203\" xlink:href=\"#DejaVuSans-55\"/>\n    </g>\n   </g>\n   <g id=\"text_776\">\n    <!-- 0.42 -->\n    <g style=\"fill:#ffffff;\" transform=\"translate(247.928304 219.550022)scale(0.1 -0.1)\">\n     <use xlink:href=\"#DejaVuSans-48\"/>\n     <use x=\"63.623047\" xlink:href=\"#DejaVuSans-46\"/>\n     <use x=\"95.410156\" xlink:href=\"#DejaVuSans-52\"/>\n     <use x=\"159.033203\" xlink:href=\"#DejaVuSans-50\"/>\n    </g>\n   </g>\n   <g id=\"text_777\">\n    <!-- 0.17 -->\n    <g style=\"fill:#ffffff;\" transform=\"translate(257.494018 219.550022)scale(0.1 -0.1)\">\n     <use xlink:href=\"#DejaVuSans-48\"/>\n     <use x=\"63.623047\" xlink:href=\"#DejaVuSans-46\"/>\n     <use x=\"95.410156\" xlink:href=\"#DejaVuSans-49\"/>\n     <use x=\"159.033203\" xlink:href=\"#DejaVuSans-55\"/>\n    </g>\n   </g>\n   <g id=\"text_778\">\n    <!-- 0.63 -->\n    <g style=\"fill:#262626;\" transform=\"translate(267.059732 219.550022)scale(0.1 -0.1)\">\n     <use xlink:href=\"#DejaVuSans-48\"/>\n     <use x=\"63.623047\" xlink:href=\"#DejaVuSans-46\"/>\n     <use x=\"95.410156\" xlink:href=\"#DejaVuSans-54\"/>\n     <use x=\"159.033203\" xlink:href=\"#DejaVuSans-51\"/>\n    </g>\n   </g>\n   <g id=\"text_779\">\n    <!-- 0.2 -->\n    <g style=\"fill:#ffffff;\" transform=\"translate(279.806696 219.550022)scale(0.1 -0.1)\">\n     <use xlink:href=\"#DejaVuSans-48\"/>\n     <use x=\"63.623047\" xlink:href=\"#DejaVuSans-46\"/>\n     <use x=\"95.410156\" xlink:href=\"#DejaVuSans-50\"/>\n    </g>\n   </g>\n   <g id=\"text_780\">\n    <!-- 0.7 -->\n    <g style=\"fill:#262626;\" transform=\"translate(289.372411 219.550022)scale(0.1 -0.1)\">\n     <use xlink:href=\"#DejaVuSans-48\"/>\n     <use x=\"63.623047\" xlink:href=\"#DejaVuSans-46\"/>\n     <use x=\"95.410156\" xlink:href=\"#DejaVuSans-55\"/>\n    </g>\n   </g>\n   <g id=\"text_781\">\n    <!-- 0.26 -->\n    <g style=\"fill:#ffffff;\" transform=\"translate(295.756875 219.550022)scale(0.1 -0.1)\">\n     <use xlink:href=\"#DejaVuSans-48\"/>\n     <use x=\"63.623047\" xlink:href=\"#DejaVuSans-46\"/>\n     <use x=\"95.410156\" xlink:href=\"#DejaVuSans-50\"/>\n     <use x=\"159.033203\" xlink:href=\"#DejaVuSans-54\"/>\n    </g>\n   </g>\n   <g id=\"text_782\">\n    <!-- 0.72 -->\n    <g style=\"fill:#262626;\" transform=\"translate(305.322589 219.550022)scale(0.1 -0.1)\">\n     <use xlink:href=\"#DejaVuSans-48\"/>\n     <use x=\"63.623047\" xlink:href=\"#DejaVuSans-46\"/>\n     <use x=\"95.410156\" xlink:href=\"#DejaVuSans-55\"/>\n     <use x=\"159.033203\" xlink:href=\"#DejaVuSans-50\"/>\n    </g>\n   </g>\n   <g id=\"text_783\">\n    <!-- 1 -->\n    <g style=\"fill:#262626;\" transform=\"translate(322.839866 219.550022)scale(0.1 -0.1)\">\n     <use xlink:href=\"#DejaVuSans-49\"/>\n    </g>\n   </g>\n   <g id=\"text_784\">\n    <!-- -0.8 -->\n    <g style=\"fill:#ffffff;\" transform=\"translate(325.831362 219.550022)scale(0.1 -0.1)\">\n     <use xlink:href=\"#DejaVuSans-45\"/>\n     <use x=\"36.083984\" xlink:href=\"#DejaVuSans-48\"/>\n     <use x=\"99.707031\" xlink:href=\"#DejaVuSans-46\"/>\n     <use x=\"131.494141\" xlink:href=\"#DejaVuSans-56\"/>\n    </g>\n   </g>\n   <g id=\"text_785\">\n    <!-- -0.73 -->\n    <g style=\"fill:#ffffff;\" transform=\"translate(64.375826 227.315737)scale(0.1 -0.1)\">\n     <use xlink:href=\"#DejaVuSans-45\"/>\n     <use x=\"36.083984\" xlink:href=\"#DejaVuSans-48\"/>\n     <use x=\"99.707031\" xlink:href=\"#DejaVuSans-46\"/>\n     <use x=\"131.494141\" xlink:href=\"#DejaVuSans-55\"/>\n     <use x=\"195.117188\" xlink:href=\"#DejaVuSans-51\"/>\n    </g>\n   </g>\n   <g id=\"text_786\">\n    <!-- -0.75 -->\n    <g style=\"fill:#ffffff;\" transform=\"translate(73.94154 227.315737)scale(0.1 -0.1)\">\n     <use xlink:href=\"#DejaVuSans-45\"/>\n     <use x=\"36.083984\" xlink:href=\"#DejaVuSans-48\"/>\n     <use x=\"99.707031\" xlink:href=\"#DejaVuSans-46\"/>\n     <use x=\"131.494141\" xlink:href=\"#DejaVuSans-55\"/>\n     <use x=\"195.117188\" xlink:href=\"#DejaVuSans-53\"/>\n    </g>\n   </g>\n   <g id=\"text_787\">\n    <!-- 0.62 -->\n    <g style=\"fill:#262626;\" transform=\"translate(85.311161 227.315737)scale(0.1 -0.1)\">\n     <use xlink:href=\"#DejaVuSans-48\"/>\n     <use x=\"63.623047\" xlink:href=\"#DejaVuSans-46\"/>\n     <use x=\"95.410156\" xlink:href=\"#DejaVuSans-54\"/>\n     <use x=\"159.033203\" xlink:href=\"#DejaVuSans-50\"/>\n    </g>\n   </g>\n   <g id=\"text_788\">\n    <!-- -0.74 -->\n    <g style=\"fill:#ffffff;\" transform=\"translate(93.072969 227.315737)scale(0.1 -0.1)\">\n     <use xlink:href=\"#DejaVuSans-45\"/>\n     <use x=\"36.083984\" xlink:href=\"#DejaVuSans-48\"/>\n     <use x=\"99.707031\" xlink:href=\"#DejaVuSans-46\"/>\n     <use x=\"131.494141\" xlink:href=\"#DejaVuSans-55\"/>\n     <use x=\"195.117188\" xlink:href=\"#DejaVuSans-52\"/>\n    </g>\n   </g>\n   <g id=\"text_789\">\n    <!-- -0.73 -->\n    <g style=\"fill:#ffffff;\" transform=\"translate(102.638683 227.315737)scale(0.1 -0.1)\">\n     <use xlink:href=\"#DejaVuSans-45\"/>\n     <use x=\"36.083984\" xlink:href=\"#DejaVuSans-48\"/>\n     <use x=\"99.707031\" xlink:href=\"#DejaVuSans-46\"/>\n     <use x=\"131.494141\" xlink:href=\"#DejaVuSans-55\"/>\n     <use x=\"195.117188\" xlink:href=\"#DejaVuSans-51\"/>\n    </g>\n   </g>\n   <g id=\"text_790\">\n    <!-- -0.24 -->\n    <g style=\"fill:#ffffff;\" transform=\"translate(112.204397 227.315737)scale(0.1 -0.1)\">\n     <use xlink:href=\"#DejaVuSans-45\"/>\n     <use x=\"36.083984\" xlink:href=\"#DejaVuSans-48\"/>\n     <use x=\"99.707031\" xlink:href=\"#DejaVuSans-46\"/>\n     <use x=\"131.494141\" xlink:href=\"#DejaVuSans-50\"/>\n     <use x=\"195.117188\" xlink:href=\"#DejaVuSans-52\"/>\n    </g>\n   </g>\n   <g id=\"text_791\">\n    <!-- -0.54 -->\n    <g style=\"fill:#ffffff;\" transform=\"translate(121.770112 227.315737)scale(0.1 -0.1)\">\n     <use xlink:href=\"#DejaVuSans-45\"/>\n     <use x=\"36.083984\" xlink:href=\"#DejaVuSans-48\"/>\n     <use x=\"99.707031\" xlink:href=\"#DejaVuSans-46\"/>\n     <use x=\"131.494141\" xlink:href=\"#DejaVuSans-53\"/>\n     <use x=\"195.117188\" xlink:href=\"#DejaVuSans-52\"/>\n    </g>\n   </g>\n   <g id=\"text_792\">\n    <!-- -0.55 -->\n    <g style=\"fill:#ffffff;\" transform=\"translate(131.335826 227.315737)scale(0.1 -0.1)\">\n     <use xlink:href=\"#DejaVuSans-45\"/>\n     <use x=\"36.083984\" xlink:href=\"#DejaVuSans-48\"/>\n     <use x=\"99.707031\" xlink:href=\"#DejaVuSans-46\"/>\n     <use x=\"131.494141\" xlink:href=\"#DejaVuSans-53\"/>\n     <use x=\"195.117188\" xlink:href=\"#DejaVuSans-53\"/>\n    </g>\n   </g>\n   <g id=\"text_793\">\n    <!-- -0.015 -->\n    <g style=\"fill:#ffffff;\" transform=\"translate(137.72029 227.315737)scale(0.1 -0.1)\">\n     <use xlink:href=\"#DejaVuSans-45\"/>\n     <use x=\"36.083984\" xlink:href=\"#DejaVuSans-48\"/>\n     <use x=\"99.707031\" xlink:href=\"#DejaVuSans-46\"/>\n     <use x=\"131.494141\" xlink:href=\"#DejaVuSans-48\"/>\n     <use x=\"195.117188\" xlink:href=\"#DejaVuSans-49\"/>\n     <use x=\"258.740234\" xlink:href=\"#DejaVuSans-53\"/>\n    </g>\n   </g>\n   <g id=\"text_794\">\n    <!-- -0.6 -->\n    <g style=\"fill:#ffffff;\" transform=\"translate(153.648504 227.315737)scale(0.1 -0.1)\">\n     <use xlink:href=\"#DejaVuSans-45\"/>\n     <use x=\"36.083984\" xlink:href=\"#DejaVuSans-48\"/>\n     <use x=\"99.707031\" xlink:href=\"#DejaVuSans-46\"/>\n     <use x=\"131.494141\" xlink:href=\"#DejaVuSans-54\"/>\n    </g>\n   </g>\n   <g id=\"text_795\">\n    <!-- -0.59 -->\n    <g style=\"fill:#ffffff;\" transform=\"translate(160.032969 227.315737)scale(0.1 -0.1)\">\n     <use xlink:href=\"#DejaVuSans-45\"/>\n     <use x=\"36.083984\" xlink:href=\"#DejaVuSans-48\"/>\n     <use x=\"99.707031\" xlink:href=\"#DejaVuSans-46\"/>\n     <use x=\"131.494141\" xlink:href=\"#DejaVuSans-53\"/>\n     <use x=\"195.117188\" xlink:href=\"#DejaVuSans-57\"/>\n    </g>\n   </g>\n   <g id=\"text_796\">\n    <!-- -0.3 -->\n    <g style=\"fill:#ffffff;\" transform=\"translate(172.779933 227.315737)scale(0.1 -0.1)\">\n     <use xlink:href=\"#DejaVuSans-45\"/>\n     <use x=\"36.083984\" xlink:href=\"#DejaVuSans-48\"/>\n     <use x=\"99.707031\" xlink:href=\"#DejaVuSans-46\"/>\n     <use x=\"131.494141\" xlink:href=\"#DejaVuSans-51\"/>\n    </g>\n   </g>\n   <g id=\"text_797\">\n    <!-- -0.56 -->\n    <g style=\"fill:#ffffff;\" transform=\"translate(179.164397 227.315737)scale(0.1 -0.1)\">\n     <use xlink:href=\"#DejaVuSans-45\"/>\n     <use x=\"36.083984\" xlink:href=\"#DejaVuSans-48\"/>\n     <use x=\"99.707031\" xlink:href=\"#DejaVuSans-46\"/>\n     <use x=\"131.494141\" xlink:href=\"#DejaVuSans-53\"/>\n     <use x=\"195.117188\" xlink:href=\"#DejaVuSans-54\"/>\n    </g>\n   </g>\n   <g id=\"text_798\">\n    <!-- -0.58 -->\n    <g style=\"fill:#ffffff;\" transform=\"translate(188.730112 227.315737)scale(0.1 -0.1)\">\n     <use xlink:href=\"#DejaVuSans-45\"/>\n     <use x=\"36.083984\" xlink:href=\"#DejaVuSans-48\"/>\n     <use x=\"99.707031\" xlink:href=\"#DejaVuSans-46\"/>\n     <use x=\"131.494141\" xlink:href=\"#DejaVuSans-53\"/>\n     <use x=\"195.117188\" xlink:href=\"#DejaVuSans-56\"/>\n    </g>\n   </g>\n   <g id=\"text_799\">\n    <!-- -0.099 -->\n    <g style=\"fill:#ffffff;\" transform=\"translate(195.114576 227.315737)scale(0.1 -0.1)\">\n     <use xlink:href=\"#DejaVuSans-45\"/>\n     <use x=\"36.083984\" xlink:href=\"#DejaVuSans-48\"/>\n     <use x=\"99.707031\" xlink:href=\"#DejaVuSans-46\"/>\n     <use x=\"131.494141\" xlink:href=\"#DejaVuSans-48\"/>\n     <use x=\"195.117188\" xlink:href=\"#DejaVuSans-57\"/>\n     <use x=\"258.740234\" xlink:href=\"#DejaVuSans-57\"/>\n    </g>\n   </g>\n   <g id=\"text_800\">\n    <!-- -0.13 -->\n    <g style=\"fill:#ffffff;\" transform=\"translate(207.86154 227.315737)scale(0.1 -0.1)\">\n     <use xlink:href=\"#DejaVuSans-45\"/>\n     <use x=\"36.083984\" xlink:href=\"#DejaVuSans-48\"/>\n     <use x=\"99.707031\" xlink:href=\"#DejaVuSans-46\"/>\n     <use x=\"131.494141\" xlink:href=\"#DejaVuSans-49\"/>\n     <use x=\"195.117188\" xlink:href=\"#DejaVuSans-51\"/>\n    </g>\n   </g>\n   <g id=\"text_801\">\n    <!-- -0.55 -->\n    <g style=\"fill:#ffffff;\" transform=\"translate(217.427254 227.315737)scale(0.1 -0.1)\">\n     <use xlink:href=\"#DejaVuSans-45\"/>\n     <use x=\"36.083984\" xlink:href=\"#DejaVuSans-48\"/>\n     <use x=\"99.707031\" xlink:href=\"#DejaVuSans-46\"/>\n     <use x=\"131.494141\" xlink:href=\"#DejaVuSans-53\"/>\n     <use x=\"195.117188\" xlink:href=\"#DejaVuSans-53\"/>\n    </g>\n   </g>\n   <g id=\"text_802\">\n    <!-- -0.47 -->\n    <g style=\"fill:#ffffff;\" transform=\"translate(226.992969 227.315737)scale(0.1 -0.1)\">\n     <use xlink:href=\"#DejaVuSans-45\"/>\n     <use x=\"36.083984\" xlink:href=\"#DejaVuSans-48\"/>\n     <use x=\"99.707031\" xlink:href=\"#DejaVuSans-46\"/>\n     <use x=\"131.494141\" xlink:href=\"#DejaVuSans-52\"/>\n     <use x=\"195.117188\" xlink:href=\"#DejaVuSans-55\"/>\n    </g>\n   </g>\n   <g id=\"text_803\">\n    <!-- -0.63 -->\n    <g style=\"fill:#ffffff;\" transform=\"translate(236.558683 227.315737)scale(0.1 -0.1)\">\n     <use xlink:href=\"#DejaVuSans-45\"/>\n     <use x=\"36.083984\" xlink:href=\"#DejaVuSans-48\"/>\n     <use x=\"99.707031\" xlink:href=\"#DejaVuSans-46\"/>\n     <use x=\"131.494141\" xlink:href=\"#DejaVuSans-54\"/>\n     <use x=\"195.117188\" xlink:href=\"#DejaVuSans-51\"/>\n    </g>\n   </g>\n   <g id=\"text_804\">\n    <!-- -0.34 -->\n    <g style=\"fill:#ffffff;\" transform=\"translate(246.124397 227.315737)scale(0.1 -0.1)\">\n     <use xlink:href=\"#DejaVuSans-45\"/>\n     <use x=\"36.083984\" xlink:href=\"#DejaVuSans-48\"/>\n     <use x=\"99.707031\" xlink:href=\"#DejaVuSans-46\"/>\n     <use x=\"131.494141\" xlink:href=\"#DejaVuSans-51\"/>\n     <use x=\"195.117188\" xlink:href=\"#DejaVuSans-52\"/>\n    </g>\n   </g>\n   <g id=\"text_805\">\n    <!-- -0.26 -->\n    <g style=\"fill:#ffffff;\" transform=\"translate(255.690112 227.315737)scale(0.1 -0.1)\">\n     <use xlink:href=\"#DejaVuSans-45\"/>\n     <use x=\"36.083984\" xlink:href=\"#DejaVuSans-48\"/>\n     <use x=\"99.707031\" xlink:href=\"#DejaVuSans-46\"/>\n     <use x=\"131.494141\" xlink:href=\"#DejaVuSans-50\"/>\n     <use x=\"195.117188\" xlink:href=\"#DejaVuSans-54\"/>\n    </g>\n   </g>\n   <g id=\"text_806\">\n    <!-- -0.51 -->\n    <g style=\"fill:#ffffff;\" transform=\"translate(265.255826 227.315737)scale(0.1 -0.1)\">\n     <use xlink:href=\"#DejaVuSans-45\"/>\n     <use x=\"36.083984\" xlink:href=\"#DejaVuSans-48\"/>\n     <use x=\"99.707031\" xlink:href=\"#DejaVuSans-46\"/>\n     <use x=\"131.494141\" xlink:href=\"#DejaVuSans-53\"/>\n     <use x=\"195.117188\" xlink:href=\"#DejaVuSans-49\"/>\n    </g>\n   </g>\n   <g id=\"text_807\">\n    <!-- -0.2 -->\n    <g style=\"fill:#ffffff;\" transform=\"translate(278.00279 227.315737)scale(0.1 -0.1)\">\n     <use xlink:href=\"#DejaVuSans-45\"/>\n     <use x=\"36.083984\" xlink:href=\"#DejaVuSans-48\"/>\n     <use x=\"99.707031\" xlink:href=\"#DejaVuSans-46\"/>\n     <use x=\"131.494141\" xlink:href=\"#DejaVuSans-50\"/>\n    </g>\n   </g>\n   <g id=\"text_808\">\n    <!-- -0.74 -->\n    <g style=\"fill:#ffffff;\" transform=\"translate(284.387254 227.315737)scale(0.1 -0.1)\">\n     <use xlink:href=\"#DejaVuSans-45\"/>\n     <use x=\"36.083984\" xlink:href=\"#DejaVuSans-48\"/>\n     <use x=\"99.707031\" xlink:href=\"#DejaVuSans-46\"/>\n     <use x=\"131.494141\" xlink:href=\"#DejaVuSans-55\"/>\n     <use x=\"195.117188\" xlink:href=\"#DejaVuSans-52\"/>\n    </g>\n   </g>\n   <g id=\"text_809\">\n    <!-- -0.15 -->\n    <g style=\"fill:#ffffff;\" transform=\"translate(293.952969 227.315737)scale(0.1 -0.1)\">\n     <use xlink:href=\"#DejaVuSans-45\"/>\n     <use x=\"36.083984\" xlink:href=\"#DejaVuSans-48\"/>\n     <use x=\"99.707031\" xlink:href=\"#DejaVuSans-46\"/>\n     <use x=\"131.494141\" xlink:href=\"#DejaVuSans-49\"/>\n     <use x=\"195.117188\" xlink:href=\"#DejaVuSans-53\"/>\n    </g>\n   </g>\n   <g id=\"text_810\">\n    <!-- -0.94 -->\n    <g style=\"fill:#ffffff;\" transform=\"translate(303.518683 227.315737)scale(0.1 -0.1)\">\n     <use xlink:href=\"#DejaVuSans-45\"/>\n     <use x=\"36.083984\" xlink:href=\"#DejaVuSans-48\"/>\n     <use x=\"99.707031\" xlink:href=\"#DejaVuSans-46\"/>\n     <use x=\"131.494141\" xlink:href=\"#DejaVuSans-57\"/>\n     <use x=\"195.117188\" xlink:href=\"#DejaVuSans-52\"/>\n    </g>\n   </g>\n   <g id=\"text_811\">\n    <!-- -0.8 -->\n    <g style=\"fill:#ffffff;\" transform=\"translate(316.265647 227.315737)scale(0.1 -0.1)\">\n     <use xlink:href=\"#DejaVuSans-45\"/>\n     <use x=\"36.083984\" xlink:href=\"#DejaVuSans-48\"/>\n     <use x=\"99.707031\" xlink:href=\"#DejaVuSans-46\"/>\n     <use x=\"131.494141\" xlink:href=\"#DejaVuSans-56\"/>\n    </g>\n   </g>\n   <g id=\"text_812\">\n    <!-- 1 -->\n    <g style=\"fill:#262626;\" transform=\"translate(332.40558 227.315737)scale(0.1 -0.1)\">\n     <use xlink:href=\"#DejaVuSans-49\"/>\n    </g>\n   </g>\n  </g>\n  <g id=\"axes_2\">\n   <g id=\"patch_3\">\n    <path clip-path=\"url(#p80086a8177)\" d=\"M 357.109688 228.439219 \nL 357.109688 227.589844 \nL 357.109688 11.848594 \nL 357.109688 10.999219 \nL 367.981688 10.999219 \nL 367.981688 11.848594 \nL 367.981688 227.589844 \nL 367.981688 228.439219 \nz\n\" style=\"fill:#ffffff;stroke:#ffffff;stroke-linejoin:miter;stroke-width:0.01;\"/>\n   </g>\n   <image height=\"217\" id=\"imagee1eefa8c9d\" transform=\"scale(1 -1)translate(0 -217)\" width=\"11\" x=\"357\" xlink:href=\"data:image/png;base64,\niVBORw0KGgoAAAANSUhEUgAAAAsAAADZCAYAAAD2WsoCAAABVElEQVR4nO3aQW4DMQxDUct2LpH7n7PpNku9BQFN0awJgvqincwgdV/vz2p+blV1tevu2n0xOoO4VsxZxEdo5GJsoZEbcEhmdIYBjUauojOcrfxT1i0DrhHltwHbUu3GEBpW/rY02g2KkTwpECM3IG5wSPljrYs5E7onDmjrNhop5yED7vbjgdMgcex0i/gIDRxQxBLjn8a3eAyNvtoGzN0b9wOZkXOKRpFz33jdE3PGzCKGrViMUxQjViRyFvGB2pkzZm5rkzE2XHa3hqCDQ3j3+QFnWgrRMHSpGLjuVAxyXrluXIlhNEY4F1y6GiPlvMTZYggNHDAlprc9FgMe8pJLIbG8f5Yfa7e2OOcyGzpxPrl1PxCd0aAYI2gUnW7jHBPbXUfl73/Tj8mcGzC37iFF+us0quR03yfSkAFj6zbOM7qxzmtCDPqXRRAd0XjigHBSfgEnpywj9n+fcQAAAABJRU5ErkJggg==\" y=\"-10\"/>\n   <g id=\"matplotlib.axis_3\"/>\n   <g id=\"matplotlib.axis_4\">\n    <g id=\"ytick_15\">\n     <g id=\"line2d_29\">\n      <defs>\n       <path d=\"M 0 0 \nL 3.5 0 \n\" id=\"m305ee7703b\" style=\"stroke:#000000;stroke-width:0.8;\"/>\n      </defs>\n      <g>\n       <use style=\"stroke:#000000;stroke-width:0.8;\" x=\"367.981688\" xlink:href=\"#m305ee7703b\" y=\"207.014895\"/>\n      </g>\n     </g>\n     <g id=\"text_813\">\n      <!-- −0.75 -->\n      <g transform=\"translate(374.981688 210.814114)scale(0.1 -0.1)\">\n       <defs>\n        <path d=\"M 10.59375 35.5 \nL 73.1875 35.5 \nL 73.1875 27.203125 \nL 10.59375 27.203125 \nz\n\" id=\"DejaVuSans-8722\"/>\n       </defs>\n       <use xlink:href=\"#DejaVuSans-8722\"/>\n       <use x=\"83.789062\" xlink:href=\"#DejaVuSans-48\"/>\n       <use x=\"147.412109\" xlink:href=\"#DejaVuSans-46\"/>\n       <use x=\"179.199219\" xlink:href=\"#DejaVuSans-55\"/>\n       <use x=\"242.822266\" xlink:href=\"#DejaVuSans-53\"/>\n      </g>\n     </g>\n    </g>\n    <g id=\"ytick_16\">\n     <g id=\"line2d_30\">\n      <g>\n       <use style=\"stroke:#000000;stroke-width:0.8;\" x=\"367.981688\" xlink:href=\"#m305ee7703b\" y=\"179.012655\"/>\n      </g>\n     </g>\n     <g id=\"text_814\">\n      <!-- −0.50 -->\n      <g transform=\"translate(374.981688 182.811874)scale(0.1 -0.1)\">\n       <use xlink:href=\"#DejaVuSans-8722\"/>\n       <use x=\"83.789062\" xlink:href=\"#DejaVuSans-48\"/>\n       <use x=\"147.412109\" xlink:href=\"#DejaVuSans-46\"/>\n       <use x=\"179.199219\" xlink:href=\"#DejaVuSans-53\"/>\n       <use x=\"242.822266\" xlink:href=\"#DejaVuSans-48\"/>\n      </g>\n     </g>\n    </g>\n    <g id=\"ytick_17\">\n     <g id=\"line2d_31\">\n      <g>\n       <use style=\"stroke:#000000;stroke-width:0.8;\" x=\"367.981688\" xlink:href=\"#m305ee7703b\" y=\"151.010416\"/>\n      </g>\n     </g>\n     <g id=\"text_815\">\n      <!-- −0.25 -->\n      <g transform=\"translate(374.981688 154.809635)scale(0.1 -0.1)\">\n       <use xlink:href=\"#DejaVuSans-8722\"/>\n       <use x=\"83.789062\" xlink:href=\"#DejaVuSans-48\"/>\n       <use x=\"147.412109\" xlink:href=\"#DejaVuSans-46\"/>\n       <use x=\"179.199219\" xlink:href=\"#DejaVuSans-50\"/>\n       <use x=\"242.822266\" xlink:href=\"#DejaVuSans-53\"/>\n      </g>\n     </g>\n    </g>\n    <g id=\"ytick_18\">\n     <g id=\"line2d_32\">\n      <g>\n       <use style=\"stroke:#000000;stroke-width:0.8;\" x=\"367.981688\" xlink:href=\"#m305ee7703b\" y=\"123.008176\"/>\n      </g>\n     </g>\n     <g id=\"text_816\">\n      <!-- 0.00 -->\n      <g transform=\"translate(374.981688 126.807395)scale(0.1 -0.1)\">\n       <use xlink:href=\"#DejaVuSans-48\"/>\n       <use x=\"63.623047\" xlink:href=\"#DejaVuSans-46\"/>\n       <use x=\"95.410156\" xlink:href=\"#DejaVuSans-48\"/>\n       <use x=\"159.033203\" xlink:href=\"#DejaVuSans-48\"/>\n      </g>\n     </g>\n    </g>\n    <g id=\"ytick_19\">\n     <g id=\"line2d_33\">\n      <g>\n       <use style=\"stroke:#000000;stroke-width:0.8;\" x=\"367.981688\" xlink:href=\"#m305ee7703b\" y=\"95.005937\"/>\n      </g>\n     </g>\n     <g id=\"text_817\">\n      <!-- 0.25 -->\n      <g transform=\"translate(374.981688 98.805156)scale(0.1 -0.1)\">\n       <use xlink:href=\"#DejaVuSans-48\"/>\n       <use x=\"63.623047\" xlink:href=\"#DejaVuSans-46\"/>\n       <use x=\"95.410156\" xlink:href=\"#DejaVuSans-50\"/>\n       <use x=\"159.033203\" xlink:href=\"#DejaVuSans-53\"/>\n      </g>\n     </g>\n    </g>\n    <g id=\"ytick_20\">\n     <g id=\"line2d_34\">\n      <g>\n       <use style=\"stroke:#000000;stroke-width:0.8;\" x=\"367.981688\" xlink:href=\"#m305ee7703b\" y=\"67.003698\"/>\n      </g>\n     </g>\n     <g id=\"text_818\">\n      <!-- 0.50 -->\n      <g transform=\"translate(374.981688 70.802916)scale(0.1 -0.1)\">\n       <use xlink:href=\"#DejaVuSans-48\"/>\n       <use x=\"63.623047\" xlink:href=\"#DejaVuSans-46\"/>\n       <use x=\"95.410156\" xlink:href=\"#DejaVuSans-53\"/>\n       <use x=\"159.033203\" xlink:href=\"#DejaVuSans-48\"/>\n      </g>\n     </g>\n    </g>\n    <g id=\"ytick_21\">\n     <g id=\"line2d_35\">\n      <g>\n       <use style=\"stroke:#000000;stroke-width:0.8;\" x=\"367.981688\" xlink:href=\"#m305ee7703b\" y=\"39.001458\"/>\n      </g>\n     </g>\n     <g id=\"text_819\">\n      <!-- 0.75 -->\n      <g transform=\"translate(374.981688 42.800677)scale(0.1 -0.1)\">\n       <use xlink:href=\"#DejaVuSans-48\"/>\n       <use x=\"63.623047\" xlink:href=\"#DejaVuSans-46\"/>\n       <use x=\"95.410156\" xlink:href=\"#DejaVuSans-55\"/>\n       <use x=\"159.033203\" xlink:href=\"#DejaVuSans-53\"/>\n      </g>\n     </g>\n    </g>\n    <g id=\"ytick_22\">\n     <g id=\"line2d_36\">\n      <g>\n       <use style=\"stroke:#000000;stroke-width:0.8;\" x=\"367.981688\" xlink:href=\"#m305ee7703b\" y=\"10.999219\"/>\n      </g>\n     </g>\n     <g id=\"text_820\">\n      <!-- 1.00 -->\n      <g transform=\"translate(374.981688 14.798438)scale(0.1 -0.1)\">\n       <use xlink:href=\"#DejaVuSans-49\"/>\n       <use x=\"63.623047\" xlink:href=\"#DejaVuSans-46\"/>\n       <use x=\"95.410156\" xlink:href=\"#DejaVuSans-48\"/>\n       <use x=\"159.033203\" xlink:href=\"#DejaVuSans-48\"/>\n      </g>\n     </g>\n    </g>\n   </g>\n   <g id=\"patch_4\">\n    <path d=\"M 357.109688 228.439219 \nL 357.109688 227.589844 \nL 357.109688 11.848594 \nL 357.109688 10.999219 \nL 367.981688 10.999219 \nL 367.981688 11.848594 \nL 367.981688 227.589844 \nL 367.981688 228.439219 \nz\n\" style=\"fill:none;\"/>\n   </g>\n  </g>\n </g>\n <defs>\n  <clipPath id=\"pf4708f123d\">\n   <rect height=\"217.44\" width=\"267.84\" x=\"72.529688\" y=\"10.999219\"/>\n  </clipPath>\n  <clipPath id=\"p80086a8177\">\n   <rect height=\"217.44\" width=\"10.872\" x=\"357.109688\" y=\"10.999219\"/>\n  </clipPath>\n </defs>\n</svg>\n",
      "image/png": "[encoded data removed]"
     },
     "metadata": {
      "needs_background": "light"
     }
    }
   ],
   "source": [
    "import seaborn as sn\n",
    "import matplotlib.pyplot as plt\n",
    "\n",
    "corrMatrix = df.corr()\n",
    "print(corrMatrix)\n",
    "\n",
    "sn.heatmap(corrMatrix, annot=True)\n",
    "plt.show()~"
   ]
  },
  {
   "cell_type": "code",
   "execution_count": null,
   "metadata": {},
   "outputs": [],
   "source": []
  }
 ]
}