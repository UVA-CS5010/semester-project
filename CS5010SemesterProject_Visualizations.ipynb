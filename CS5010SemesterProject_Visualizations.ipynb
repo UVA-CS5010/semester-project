{
 "metadata": {
  "language_info": {
   "codemirror_mode": {
    "name": "ipython",
    "version": 3
   },
   "file_extension": ".py",
   "mimetype": "text/x-python",
   "name": "python",
   "nbconvert_exporter": "python",
   "pygments_lexer": "ipython3",
   "version": "3.8.5-final"
  },
  "orig_nbformat": 2,
  "kernelspec": {
   "name": "python385jvsc74a57bd0a2777c296240adcad02f4626a08e2a0d9cb9bdce0a04311f76e3f1ed69778bcd",
   "display_name": "Python 3.8.5 64-bit (conda)"
  }
 },
 "nbformat": 4,
 "nbformat_minor": 2,
 "cells": [
  {
   "source": [
    "## NBA vs WNBA Exploratory Analysis"
   ],
   "cell_type": "markdown",
   "metadata": {}
  },
  {
   "cell_type": "code",
   "execution_count": 2,
   "metadata": {},
   "outputs": [
    {
     "output_type": "execute_result",
     "data": {
      "text/plain": [
       "                 Player   G  GS     MP    FG   FGA    FG%   3P   3PA    3P%  \\\n",
       "160        Megan Walker  18   0  205.0   1.4   4.3  0.321  0.3   2.4  0.140   \n",
       "159  Jocelyn Willoughby  22   5  383.0   1.8   5.0  0.358  0.7   1.7  0.405   \n",
       "158       Jazmine Jones  20   2  428.0   3.5   8.6  0.404  0.8   2.3  0.333   \n",
       "154        Bella Alarie  22   3  309.0   1.1   3.0  0.364  0.0   0.6  0.077   \n",
       "157        Ruthy Hebard  22   6  320.0   2.6   3.9  0.682  0.0   0.0    NaN   \n",
       "..                  ...  ..  ..    ...   ...   ...    ...  ...   ...    ...   \n",
       "4         Stephen Curry  51  51   34.1  10.2  21.0  0.486  5.1  12.1  0.425   \n",
       "3          Kevin Durant  24  22   32.7   9.3  17.1  0.543  2.5   5.5  0.462   \n",
       "2     Russell Westbrook  51  51   35.6   8.2  18.9  0.436  1.3   4.1  0.310   \n",
       "1          James Harden  42  42   37.1   8.0  17.2  0.463  2.8   7.8  0.358   \n",
       "0             John Wall  39  39   32.0   7.3  18.1  0.403  2.0   6.2  0.322   \n",
       "\n",
       "     ...   PF   PTS  League   Team  Position  Age     Avg_Salary  \\\n",
       "160  ...  0.8   3.3    WNBA    PHX         F   22      $65,459     \n",
       "159  ...  2.3   5.8    WNBA     NY         F   23      $65,459     \n",
       "158  ...  3.0  10.8    WNBA     NY         G   24      $65,459     \n",
       "154  ...  1.6   2.7    WNBA    DAL         G   22      $68,339     \n",
       "157  ...  1.6   5.7    WNBA    CHI         F   22      $68,339     \n",
       "..   ...  ...   ...     ...    ...       ...  ...            ...   \n",
       "4    ...  1.8  31.1     NBA    GSW         G   32  $40,231,758     \n",
       "3    ...  2.0  27.3     NBA    BKN         F   32  $41,063,925     \n",
       "2    ...  2.8  21.6     NBA    WAS         G   31  $41,358,814     \n",
       "1    ...  2.3  25.2     NBA    BKN         G   31  $42,782,880     \n",
       "0    ...  1.1  20.4     NBA    HOU         G   30  $42,782,880     \n",
       "\n",
       "     salary_float  salary_ratio  Salary_Rank  \n",
       "160       65459.0       0.00109          161  \n",
       "159       65459.0       0.00109          160  \n",
       "158       65459.0       0.00109          159  \n",
       "154       68339.0       0.00114          155  \n",
       "157       68339.0       0.00114          158  \n",
       "..            ...           ...          ...  \n",
       "4      40231758.0       0.00544            5  \n",
       "3      41063925.0       0.00555            4  \n",
       "2      41358814.0       0.00559            3  \n",
       "1      42782880.0       0.00578            2  \n",
       "0      42782880.0       0.00578            1  \n",
       "\n",
       "[161 rows x 33 columns]"
      ],
      "text/html": "<div>\n<style scoped>\n    .dataframe tbody tr th:only-of-type {\n        vertical-align: middle;\n    }\n\n    .dataframe tbody tr th {\n        vertical-align: top;\n    }\n\n    .dataframe thead th {\n        text-align: right;\n    }\n</style>\n<table border=\"1\" class=\"dataframe\">\n  <thead>\n    <tr style=\"text-align: right;\">\n      <th></th>\n      <th>Player</th>\n      <th>G</th>\n      <th>GS</th>\n      <th>MP</th>\n      <th>FG</th>\n      <th>FGA</th>\n      <th>FG%</th>\n      <th>3P</th>\n      <th>3PA</th>\n      <th>3P%</th>\n      <th>...</th>\n      <th>PF</th>\n      <th>PTS</th>\n      <th>League</th>\n      <th>Team</th>\n      <th>Position</th>\n      <th>Age</th>\n      <th>Avg_Salary</th>\n      <th>salary_float</th>\n      <th>salary_ratio</th>\n      <th>Salary_Rank</th>\n    </tr>\n  </thead>\n  <tbody>\n    <tr>\n      <th>160</th>\n      <td>Megan Walker</td>\n      <td>18</td>\n      <td>0</td>\n      <td>205.0</td>\n      <td>1.4</td>\n      <td>4.3</td>\n      <td>0.321</td>\n      <td>0.3</td>\n      <td>2.4</td>\n      <td>0.140</td>\n      <td>...</td>\n      <td>0.8</td>\n      <td>3.3</td>\n      <td>WNBA</td>\n      <td>PHX</td>\n      <td>F</td>\n      <td>22</td>\n      <td>$65,459</td>\n      <td>65459.0</td>\n      <td>0.00109</td>\n      <td>161</td>\n    </tr>\n    <tr>\n      <th>159</th>\n      <td>Jocelyn Willoughby</td>\n      <td>22</td>\n      <td>5</td>\n      <td>383.0</td>\n      <td>1.8</td>\n      <td>5.0</td>\n      <td>0.358</td>\n      <td>0.7</td>\n      <td>1.7</td>\n      <td>0.405</td>\n      <td>...</td>\n      <td>2.3</td>\n      <td>5.8</td>\n      <td>WNBA</td>\n      <td>NY</td>\n      <td>F</td>\n      <td>23</td>\n      <td>$65,459</td>\n      <td>65459.0</td>\n      <td>0.00109</td>\n      <td>160</td>\n    </tr>\n    <tr>\n      <th>158</th>\n      <td>Jazmine Jones</td>\n      <td>20</td>\n      <td>2</td>\n      <td>428.0</td>\n      <td>3.5</td>\n      <td>8.6</td>\n      <td>0.404</td>\n      <td>0.8</td>\n      <td>2.3</td>\n      <td>0.333</td>\n      <td>...</td>\n      <td>3.0</td>\n      <td>10.8</td>\n      <td>WNBA</td>\n      <td>NY</td>\n      <td>G</td>\n      <td>24</td>\n      <td>$65,459</td>\n      <td>65459.0</td>\n      <td>0.00109</td>\n      <td>159</td>\n    </tr>\n    <tr>\n      <th>154</th>\n      <td>Bella Alarie</td>\n      <td>22</td>\n      <td>3</td>\n      <td>309.0</td>\n      <td>1.1</td>\n      <td>3.0</td>\n      <td>0.364</td>\n      <td>0.0</td>\n      <td>0.6</td>\n      <td>0.077</td>\n      <td>...</td>\n      <td>1.6</td>\n      <td>2.7</td>\n      <td>WNBA</td>\n      <td>DAL</td>\n      <td>G</td>\n      <td>22</td>\n      <td>$68,339</td>\n      <td>68339.0</td>\n      <td>0.00114</td>\n      <td>155</td>\n    </tr>\n    <tr>\n      <th>157</th>\n      <td>Ruthy Hebard</td>\n      <td>22</td>\n      <td>6</td>\n      <td>320.0</td>\n      <td>2.6</td>\n      <td>3.9</td>\n      <td>0.682</td>\n      <td>0.0</td>\n      <td>0.0</td>\n      <td>NaN</td>\n      <td>...</td>\n      <td>1.6</td>\n      <td>5.7</td>\n      <td>WNBA</td>\n      <td>CHI</td>\n      <td>F</td>\n      <td>22</td>\n      <td>$68,339</td>\n      <td>68339.0</td>\n      <td>0.00114</td>\n      <td>158</td>\n    </tr>\n    <tr>\n      <th>...</th>\n      <td>...</td>\n      <td>...</td>\n      <td>...</td>\n      <td>...</td>\n      <td>...</td>\n      <td>...</td>\n      <td>...</td>\n      <td>...</td>\n      <td>...</td>\n      <td>...</td>\n      <td>...</td>\n      <td>...</td>\n      <td>...</td>\n      <td>...</td>\n      <td>...</td>\n      <td>...</td>\n      <td>...</td>\n      <td>...</td>\n      <td>...</td>\n      <td>...</td>\n      <td>...</td>\n    </tr>\n    <tr>\n      <th>4</th>\n      <td>Stephen Curry</td>\n      <td>51</td>\n      <td>51</td>\n      <td>34.1</td>\n      <td>10.2</td>\n      <td>21.0</td>\n      <td>0.486</td>\n      <td>5.1</td>\n      <td>12.1</td>\n      <td>0.425</td>\n      <td>...</td>\n      <td>1.8</td>\n      <td>31.1</td>\n      <td>NBA</td>\n      <td>GSW</td>\n      <td>G</td>\n      <td>32</td>\n      <td>$40,231,758</td>\n      <td>40231758.0</td>\n      <td>0.00544</td>\n      <td>5</td>\n    </tr>\n    <tr>\n      <th>3</th>\n      <td>Kevin Durant</td>\n      <td>24</td>\n      <td>22</td>\n      <td>32.7</td>\n      <td>9.3</td>\n      <td>17.1</td>\n      <td>0.543</td>\n      <td>2.5</td>\n      <td>5.5</td>\n      <td>0.462</td>\n      <td>...</td>\n      <td>2.0</td>\n      <td>27.3</td>\n      <td>NBA</td>\n      <td>BKN</td>\n      <td>F</td>\n      <td>32</td>\n      <td>$41,063,925</td>\n      <td>41063925.0</td>\n      <td>0.00555</td>\n      <td>4</td>\n    </tr>\n    <tr>\n      <th>2</th>\n      <td>Russell Westbrook</td>\n      <td>51</td>\n      <td>51</td>\n      <td>35.6</td>\n      <td>8.2</td>\n      <td>18.9</td>\n      <td>0.436</td>\n      <td>1.3</td>\n      <td>4.1</td>\n      <td>0.310</td>\n      <td>...</td>\n      <td>2.8</td>\n      <td>21.6</td>\n      <td>NBA</td>\n      <td>WAS</td>\n      <td>G</td>\n      <td>31</td>\n      <td>$41,358,814</td>\n      <td>41358814.0</td>\n      <td>0.00559</td>\n      <td>3</td>\n    </tr>\n    <tr>\n      <th>1</th>\n      <td>James Harden</td>\n      <td>42</td>\n      <td>42</td>\n      <td>37.1</td>\n      <td>8.0</td>\n      <td>17.2</td>\n      <td>0.463</td>\n      <td>2.8</td>\n      <td>7.8</td>\n      <td>0.358</td>\n      <td>...</td>\n      <td>2.3</td>\n      <td>25.2</td>\n      <td>NBA</td>\n      <td>BKN</td>\n      <td>G</td>\n      <td>31</td>\n      <td>$42,782,880</td>\n      <td>42782880.0</td>\n      <td>0.00578</td>\n      <td>2</td>\n    </tr>\n    <tr>\n      <th>0</th>\n      <td>John Wall</td>\n      <td>39</td>\n      <td>39</td>\n      <td>32.0</td>\n      <td>7.3</td>\n      <td>18.1</td>\n      <td>0.403</td>\n      <td>2.0</td>\n      <td>6.2</td>\n      <td>0.322</td>\n      <td>...</td>\n      <td>1.1</td>\n      <td>20.4</td>\n      <td>NBA</td>\n      <td>HOU</td>\n      <td>G</td>\n      <td>30</td>\n      <td>$42,782,880</td>\n      <td>42782880.0</td>\n      <td>0.00578</td>\n      <td>1</td>\n    </tr>\n  </tbody>\n</table>\n<p>161 rows × 33 columns</p>\n</div>"
     },
     "metadata": {},
     "execution_count": 2
    }
   ],
   "source": [
    "import pandas as pd\n",
    "\n",
    "path = r'C:\\Users\\allie\\Documents\\cs5010\\NBAvsWNBA.csv' # use your path\n",
    "df= pd.read_csv(path)  \n",
    "df.sort_values('salary_float')\n",
    "#df.dtypes"
   ]
  },
  {
   "source": [
    "### Important Constant values we may want to refer to:\n",
    "\n",
    "**NBA Salary Cap = $109,140,000** <br>\n",
    "**WNBA Salary Cap = $1,300,000** <br>\n",
    "**NBA Revenue = $7,400,000,000** <br>\n",
    "**WNBA Revenue = $60,000,000**"
   ],
   "cell_type": "markdown",
   "metadata": {}
  },
  {
   "cell_type": "code",
   "execution_count": 75,
   "metadata": {},
   "outputs": [],
   "source": [
    "nba_salary_cap = float(109140000)\n",
    "wnba_salary_cap = float(1300000)\n",
    "nba_revenue = float(7400000000)\n",
    "wnba_revenue = float(60000000)"
   ]
  },
  {
   "source": [
    "### Views of Salaries vs League"
   ],
   "cell_type": "markdown",
   "metadata": {}
  },
  {
   "cell_type": "code",
   "execution_count": 4,
   "metadata": {},
   "outputs": [
    {
     "output_type": "display_data",
     "data": {
      "application/vnd.plotly.v1+json": {
       "config": {
        "plotlyServerURL": "https://plot.ly"
       },
       "data": [
        {
         "customdata": [
          [
           "$42,782,880  "
          ],
          [
           "$42,782,880  "
          ],
          [
           "$41,358,814  "
          ],
          [
           "$41,063,925  "
          ],
          [
           "$40,231,758  "
          ],
          [
           "$39,932,648  "
          ],
          [
           "$38,328,212  "
          ],
          [
           "$37,980,720  "
          ],
          [
           "$36,000,000  "
          ],
          [
           "$35,500,000  "
          ],
          [
           "$35,448,672  "
          ],
          [
           "$35,197,650  "
          ],
          [
           "$35,197,650  "
          ],
          [
           "$34,379,100  "
          ],
          [
           "$34,227,984  "
          ],
          [
           "$34,226,304  "
          ],
          [
           "$34,122,650  "
          ],
          [
           "$31,650,600  "
          ],
          [
           "$31,650,600  "
          ],
          [
           "$31,650,600  "
          ],
          [
           "$31,650,600  "
          ],
          [
           "$30,521,116  "
          ],
          [
           "$30,500,000  "
          ],
          [
           "$30,100,543  "
          ],
          [
           "$30,000,000  "
          ],
          [
           "$29,542,010  "
          ],
          [
           "$29,542,010  "
          ],
          [
           "$29,331,375  "
          ],
          [
           "$27,977,689  "
          ],
          [
           "$27,800,000  "
          ],
          [
           "$27,250,000  "
          ],
          [
           "$26,583,334  "
          ],
          [
           "$25,500,000  "
          ],
          [
           "$25,434,263  "
          ],
          [
           "$25,200,000  "
          ],
          [
           "$25,000,000  "
          ],
          [
           "$25,000,000  "
          ],
          [
           "$24,916,591  "
          ],
          [
           "$23,500,000  "
          ],
          [
           "$21,250,000  "
          ],
          [
           "$21,250,000  "
          ],
          [
           "$21,250,000  "
          ],
          [
           "$21,250,000  "
          ],
          [
           "$21,000,000  "
          ],
          [
           "$20,700,000  "
          ],
          [
           "$20,475,000  "
          ],
          [
           "$20,002,500  "
          ],
          [
           "$20,000,000  "
          ],
          [
           "$20,000,000  "
          ],
          [
           "$19,500,000  "
          ],
          [
           "$18,900,000  "
          ],
          [
           "$18,893,589  "
          ],
          [
           "$18,750,000  "
          ],
          [
           "$18,725,000  "
          ],
          [
           "$18,000,000  "
          ],
          [
           "$17,737,500  "
          ],
          [
           "$17,500,000  "
          ],
          [
           "$17,500,000  "
          ],
          [
           "$17,500,000  "
          ],
          [
           "$17,000,000  "
          ],
          [
           "$17,000,000  "
          ],
          [
           "$16,000,000  "
          ],
          [
           "$15,955,000  "
          ],
          [
           "$15,000,000  "
          ],
          [
           "$15,000,000  "
          ],
          [
           "$15,000,000  "
          ],
          [
           "$15,000,000  "
          ],
          [
           "$14,545,000  "
          ],
          [
           "$14,431,700  "
          ],
          [
           "$14,000,000  "
          ],
          [
           "$13,666,667  "
          ],
          [
           "$13,500,000  "
          ],
          [
           "$13,333,327  "
          ],
          [
           "$13,250,000  "
          ],
          [
           "$13,250,000  "
          ],
          [
           "$13,038,862  "
          ],
          [
           "$13,000,000  "
          ],
          [
           "$13,000,000  "
          ],
          [
           "$13,000,000  "
          ],
          [
           "$12,999,975  "
          ],
          [
           "$12,880,000  "
          ],
          [
           "$12,724,946  "
          ],
          [
           "$12,625,000  "
          ],
          [
           "$12,500,000  "
          ],
          [
           "$12,500,000  "
          ],
          [
           "$12,400,000  "
          ]
         ],
         "hovertemplate": "League=NBA<br>Salary_Rank=%{x}<br>salary_float=%{y}<br>Avg_Salary=%{customdata[0]}<extra></extra>",
         "legendgroup": "NBA",
         "marker": {
          "color": "#636efa",
          "symbol": "circle"
         },
         "mode": "markers",
         "name": "NBA",
         "orientation": "v",
         "showlegend": true,
         "type": "scatter",
         "x": [
          1,
          2,
          3,
          4,
          5,
          6,
          7,
          8,
          9,
          10,
          11,
          12,
          13,
          14,
          15,
          16,
          17,
          18,
          19,
          20,
          21,
          22,
          23,
          24,
          25,
          26,
          27,
          28,
          29,
          30,
          31,
          32,
          33,
          34,
          35,
          36,
          37,
          38,
          39,
          40,
          41,
          42,
          43,
          44,
          45,
          46,
          47,
          48,
          49,
          50,
          51,
          52,
          53,
          54,
          55,
          56,
          57,
          58,
          59,
          60,
          61,
          62,
          63,
          64,
          65,
          66,
          67,
          68,
          69,
          70,
          71,
          72,
          73,
          74,
          75,
          76,
          77,
          78,
          79,
          80,
          81,
          82,
          83,
          84,
          85,
          86
         ],
         "xaxis": "x2",
         "y": [
          42782880,
          42782880,
          41358814,
          41063925,
          40231758,
          39932648,
          38328212,
          37980720,
          36000000,
          35500000,
          35448672,
          35197650,
          35197650,
          34379100,
          34227984,
          34226304,
          34122650,
          31650600,
          31650600,
          31650600,
          31650600,
          30521116,
          30500000,
          30100543,
          30000000,
          29542010,
          29542010,
          29331375,
          27977689,
          27800000,
          27250000,
          26583334,
          25500000,
          25434263,
          25200000,
          25000000,
          25000000,
          24916591,
          23500000,
          21250000,
          21250000,
          21250000,
          21250000,
          21000000,
          20700000,
          20475000,
          20002500,
          20000000,
          20000000,
          19500000,
          18900000,
          18893589,
          18750000,
          18725000,
          18000000,
          17737500,
          17500000,
          17500000,
          17500000,
          17000000,
          17000000,
          16000000,
          15955000,
          15000000,
          15000000,
          15000000,
          15000000,
          14545000,
          14431700,
          14000000,
          13666667,
          13500000,
          13333327,
          13250000,
          13250000,
          13038862,
          13000000,
          13000000,
          13000000,
          12999975,
          12880000,
          12724946,
          12625000,
          12500000,
          12500000,
          12400000
         ],
         "yaxis": "y2"
        },
        {
         "customdata": [
          [
           "$224,870  "
          ],
          [
           "$224,870  "
          ],
          [
           "$224,772  "
          ],
          [
           "$224,675  "
          ],
          [
           "$221,515  "
          ],
          [
           "$221,450  "
          ],
          [
           "$209,000  "
          ],
          [
           "$203,000  "
          ],
          [
           "$197,000  "
          ],
          [
           "$196,267  "
          ],
          [
           "$196,267  "
          ],
          [
           "$196,267  "
          ],
          [
           "$193,409  "
          ],
          [
           "$193,409  "
          ],
          [
           "$192,500  "
          ],
          [
           "$190,550  "
          ],
          [
           "$190,517  "
          ],
          [
           "$188,333  "
          ],
          [
           "$187,750  "
          ],
          [
           "$187,750  "
          ],
          [
           "$187,750  "
          ],
          [
           "$183,000  "
          ],
          [
           "$177,625  "
          ],
          [
           "$175,067  "
          ],
          [
           "$172,550  "
          ],
          [
           "$172,500  "
          ],
          [
           "$170,000  "
          ],
          [
           "$165,000  "
          ],
          [
           "$164,800  "
          ],
          [
           "$159,867  "
          ],
          [
           "$155,000  "
          ],
          [
           "$154,455  "
          ],
          [
           "$150,350  "
          ],
          [
           "$144,242  "
          ],
          [
           "$142,100  "
          ],
          [
           "$125,250  "
          ],
          [
           "$120,000  "
          ],
          [
           "$120,000  "
          ],
          [
           "$119,500  "
          ],
          [
           "$119,500  "
          ],
          [
           "$117,000  "
          ],
          [
           "$116,000  "
          ],
          [
           "$115,627  "
          ],
          [
           "$115,000  "
          ],
          [
           "$111,650  "
          ],
          [
           "$110,000  "
          ],
          [
           "$105,000  "
          ],
          [
           "$101,985  "
          ],
          [
           "$101,500  "
          ],
          [
           "$91,250  "
          ],
          [
           "$90,000  "
          ],
          [
           "$85,000  "
          ],
          [
           "$76,800  "
          ],
          [
           "$75,000  "
          ],
          [
           "$73,000  "
          ],
          [
           "$71,633  "
          ],
          [
           "$71,199  "
          ],
          [
           "$71,199  "
          ],
          [
           "$71,199  "
          ],
          [
           "$71,199  "
          ],
          [
           "$70,040  "
          ],
          [
           "$70,040  "
          ],
          [
           "$70,040  "
          ],
          [
           "$70,040  "
          ],
          [
           "$70,040  "
          ],
          [
           "$70,040  "
          ],
          [
           "$70,040  "
          ],
          [
           "$70,040  "
          ],
          [
           "$68,339  "
          ],
          [
           "$68,339  "
          ],
          [
           "$68,339  "
          ],
          [
           "$68,339  "
          ],
          [
           "$65,459  "
          ],
          [
           "$65,459  "
          ],
          [
           "$65,459  "
          ]
         ],
         "hovertemplate": "League=WNBA<br>Salary_Rank=%{x}<br>salary_float=%{y}<br>Avg_Salary=%{customdata[0]}<extra></extra>",
         "legendgroup": "WNBA",
         "marker": {
          "color": "#EF553B",
          "symbol": "circle"
         },
         "mode": "markers",
         "name": "WNBA",
         "orientation": "v",
         "showlegend": true,
         "type": "scatter",
         "x": [
          87,
          88,
          89,
          90,
          91,
          92,
          93,
          94,
          95,
          96,
          97,
          98,
          99,
          100,
          101,
          102,
          103,
          104,
          105,
          106,
          107,
          108,
          109,
          110,
          111,
          112,
          113,
          114,
          115,
          116,
          117,
          118,
          119,
          120,
          121,
          122,
          123,
          124,
          125,
          126,
          127,
          128,
          129,
          130,
          131,
          132,
          133,
          134,
          135,
          136,
          137,
          138,
          139,
          140,
          141,
          142,
          143,
          144,
          145,
          146,
          147,
          148,
          149,
          150,
          151,
          152,
          153,
          154,
          155,
          156,
          157,
          158,
          159,
          160,
          161
         ],
         "xaxis": "x",
         "y": [
          224870,
          224870,
          224772,
          224675,
          221515,
          221450,
          209000,
          203000,
          197000,
          196267,
          196267,
          196267,
          193409,
          193409,
          192500,
          190550,
          190517,
          188333,
          187750,
          187750,
          187750,
          183000,
          177625,
          175067,
          172550,
          172500,
          170000,
          165000,
          164800,
          159867,
          155000,
          154455,
          150350,
          144242,
          142100,
          125250,
          120000,
          120000,
          119500,
          119500,
          117000,
          116000,
          115627,
          115000,
          111650,
          110000,
          105000,
          101985,
          101500,
          91250,
          90000,
          85000,
          76800,
          75000,
          73000,
          71633,
          71199,
          71199,
          71199,
          71199,
          70040,
          70040,
          70040,
          70040,
          70040,
          70040,
          70040,
          70040,
          68339,
          68339,
          68339,
          68339,
          65459,
          65459,
          65459
         ],
         "yaxis": "y"
        }
       ],
       "layout": {
        "annotations": [
         {
          "font": {},
          "showarrow": false,
          "text": "League=WNBA",
          "textangle": 90,
          "x": 0.98,
          "xanchor": "left",
          "xref": "paper",
          "y": 0.2425,
          "yanchor": "middle",
          "yref": "paper"
         },
         {
          "font": {},
          "showarrow": false,
          "text": "League=NBA",
          "textangle": 90,
          "x": 0.98,
          "xanchor": "left",
          "xref": "paper",
          "y": 0.7575000000000001,
          "yanchor": "middle",
          "yref": "paper"
         }
        ],
        "legend": {
         "title": {
          "text": "League"
         },
         "tracegroupgap": 0
        },
        "margin": {
         "t": 60
        },
        "template": {
         "data": {
          "bar": [
           {
            "error_x": {
             "color": "#2a3f5f"
            },
            "error_y": {
             "color": "#2a3f5f"
            },
            "marker": {
             "line": {
              "color": "#E5ECF6",
              "width": 0.5
             }
            },
            "type": "bar"
           }
          ],
          "barpolar": [
           {
            "marker": {
             "line": {
              "color": "#E5ECF6",
              "width": 0.5
             }
            },
            "type": "barpolar"
           }
          ],
          "carpet": [
           {
            "aaxis": {
             "endlinecolor": "#2a3f5f",
             "gridcolor": "white",
             "linecolor": "white",
             "minorgridcolor": "white",
             "startlinecolor": "#2a3f5f"
            },
            "baxis": {
             "endlinecolor": "#2a3f5f",
             "gridcolor": "white",
             "linecolor": "white",
             "minorgridcolor": "white",
             "startlinecolor": "#2a3f5f"
            },
            "type": "carpet"
           }
          ],
          "choropleth": [
           {
            "colorbar": {
             "outlinewidth": 0,
             "ticks": ""
            },
            "type": "choropleth"
           }
          ],
          "contour": [
           {
            "colorbar": {
             "outlinewidth": 0,
             "ticks": ""
            },
            "colorscale": [
             [
              0,
              "#0d0887"
             ],
             [
              0.1111111111111111,
              "#46039f"
             ],
             [
              0.2222222222222222,
              "#7201a8"
             ],
             [
              0.3333333333333333,
              "#9c179e"
             ],
             [
              0.4444444444444444,
              "#bd3786"
             ],
             [
              0.5555555555555556,
              "#d8576b"
             ],
             [
              0.6666666666666666,
              "#ed7953"
             ],
             [
              0.7777777777777778,
              "#fb9f3a"
             ],
             [
              0.8888888888888888,
              "#fdca26"
             ],
             [
              1,
              "#f0f921"
             ]
            ],
            "type": "contour"
           }
          ],
          "contourcarpet": [
           {
            "colorbar": {
             "outlinewidth": 0,
             "ticks": ""
            },
            "type": "contourcarpet"
           }
          ],
          "heatmap": [
           {
            "colorbar": {
             "outlinewidth": 0,
             "ticks": ""
            },
            "colorscale": [
             [
              0,
              "#0d0887"
             ],
             [
              0.1111111111111111,
              "#46039f"
             ],
             [
              0.2222222222222222,
              "#7201a8"
             ],
             [
              0.3333333333333333,
              "#9c179e"
             ],
             [
              0.4444444444444444,
              "#bd3786"
             ],
             [
              0.5555555555555556,
              "#d8576b"
             ],
             [
              0.6666666666666666,
              "#ed7953"
             ],
             [
              0.7777777777777778,
              "#fb9f3a"
             ],
             [
              0.8888888888888888,
              "#fdca26"
             ],
             [
              1,
              "#f0f921"
             ]
            ],
            "type": "heatmap"
           }
          ],
          "heatmapgl": [
           {
            "colorbar": {
             "outlinewidth": 0,
             "ticks": ""
            },
            "colorscale": [
             [
              0,
              "#0d0887"
             ],
             [
              0.1111111111111111,
              "#46039f"
             ],
             [
              0.2222222222222222,
              "#7201a8"
             ],
             [
              0.3333333333333333,
              "#9c179e"
             ],
             [
              0.4444444444444444,
              "#bd3786"
             ],
             [
              0.5555555555555556,
              "#d8576b"
             ],
             [
              0.6666666666666666,
              "#ed7953"
             ],
             [
              0.7777777777777778,
              "#fb9f3a"
             ],
             [
              0.8888888888888888,
              "#fdca26"
             ],
             [
              1,
              "#f0f921"
             ]
            ],
            "type": "heatmapgl"
           }
          ],
          "histogram": [
           {
            "marker": {
             "colorbar": {
              "outlinewidth": 0,
              "ticks": ""
             }
            },
            "type": "histogram"
           }
          ],
          "histogram2d": [
           {
            "colorbar": {
             "outlinewidth": 0,
             "ticks": ""
            },
            "colorscale": [
             [
              0,
              "#0d0887"
             ],
             [
              0.1111111111111111,
              "#46039f"
             ],
             [
              0.2222222222222222,
              "#7201a8"
             ],
             [
              0.3333333333333333,
              "#9c179e"
             ],
             [
              0.4444444444444444,
              "#bd3786"
             ],
             [
              0.5555555555555556,
              "#d8576b"
             ],
             [
              0.6666666666666666,
              "#ed7953"
             ],
             [
              0.7777777777777778,
              "#fb9f3a"
             ],
             [
              0.8888888888888888,
              "#fdca26"
             ],
             [
              1,
              "#f0f921"
             ]
            ],
            "type": "histogram2d"
           }
          ],
          "histogram2dcontour": [
           {
            "colorbar": {
             "outlinewidth": 0,
             "ticks": ""
            },
            "colorscale": [
             [
              0,
              "#0d0887"
             ],
             [
              0.1111111111111111,
              "#46039f"
             ],
             [
              0.2222222222222222,
              "#7201a8"
             ],
             [
              0.3333333333333333,
              "#9c179e"
             ],
             [
              0.4444444444444444,
              "#bd3786"
             ],
             [
              0.5555555555555556,
              "#d8576b"
             ],
             [
              0.6666666666666666,
              "#ed7953"
             ],
             [
              0.7777777777777778,
              "#fb9f3a"
             ],
             [
              0.8888888888888888,
              "#fdca26"
             ],
             [
              1,
              "#f0f921"
             ]
            ],
            "type": "histogram2dcontour"
           }
          ],
          "mesh3d": [
           {
            "colorbar": {
             "outlinewidth": 0,
             "ticks": ""
            },
            "type": "mesh3d"
           }
          ],
          "parcoords": [
           {
            "line": {
             "colorbar": {
              "outlinewidth": 0,
              "ticks": ""
             }
            },
            "type": "parcoords"
           }
          ],
          "pie": [
           {
            "automargin": true,
            "type": "pie"
           }
          ],
          "scatter": [
           {
            "marker": {
             "colorbar": {
              "outlinewidth": 0,
              "ticks": ""
             }
            },
            "type": "scatter"
           }
          ],
          "scatter3d": [
           {
            "line": {
             "colorbar": {
              "outlinewidth": 0,
              "ticks": ""
             }
            },
            "marker": {
             "colorbar": {
              "outlinewidth": 0,
              "ticks": ""
             }
            },
            "type": "scatter3d"
           }
          ],
          "scattercarpet": [
           {
            "marker": {
             "colorbar": {
              "outlinewidth": 0,
              "ticks": ""
             }
            },
            "type": "scattercarpet"
           }
          ],
          "scattergeo": [
           {
            "marker": {
             "colorbar": {
              "outlinewidth": 0,
              "ticks": ""
             }
            },
            "type": "scattergeo"
           }
          ],
          "scattergl": [
           {
            "marker": {
             "colorbar": {
              "outlinewidth": 0,
              "ticks": ""
             }
            },
            "type": "scattergl"
           }
          ],
          "scattermapbox": [
           {
            "marker": {
             "colorbar": {
              "outlinewidth": 0,
              "ticks": ""
             }
            },
            "type": "scattermapbox"
           }
          ],
          "scatterpolar": [
           {
            "marker": {
             "colorbar": {
              "outlinewidth": 0,
              "ticks": ""
             }
            },
            "type": "scatterpolar"
           }
          ],
          "scatterpolargl": [
           {
            "marker": {
             "colorbar": {
              "outlinewidth": 0,
              "ticks": ""
             }
            },
            "type": "scatterpolargl"
           }
          ],
          "scatterternary": [
           {
            "marker": {
             "colorbar": {
              "outlinewidth": 0,
              "ticks": ""
             }
            },
            "type": "scatterternary"
           }
          ],
          "surface": [
           {
            "colorbar": {
             "outlinewidth": 0,
             "ticks": ""
            },
            "colorscale": [
             [
              0,
              "#0d0887"
             ],
             [
              0.1111111111111111,
              "#46039f"
             ],
             [
              0.2222222222222222,
              "#7201a8"
             ],
             [
              0.3333333333333333,
              "#9c179e"
             ],
             [
              0.4444444444444444,
              "#bd3786"
             ],
             [
              0.5555555555555556,
              "#d8576b"
             ],
             [
              0.6666666666666666,
              "#ed7953"
             ],
             [
              0.7777777777777778,
              "#fb9f3a"
             ],
             [
              0.8888888888888888,
              "#fdca26"
             ],
             [
              1,
              "#f0f921"
             ]
            ],
            "type": "surface"
           }
          ],
          "table": [
           {
            "cells": {
             "fill": {
              "color": "#EBF0F8"
             },
             "line": {
              "color": "white"
             }
            },
            "header": {
             "fill": {
              "color": "#C8D4E3"
             },
             "line": {
              "color": "white"
             }
            },
            "type": "table"
           }
          ]
         },
         "layout": {
          "annotationdefaults": {
           "arrowcolor": "#2a3f5f",
           "arrowhead": 0,
           "arrowwidth": 1
          },
          "autotypenumbers": "strict",
          "coloraxis": {
           "colorbar": {
            "outlinewidth": 0,
            "ticks": ""
           }
          },
          "colorscale": {
           "diverging": [
            [
             0,
             "#8e0152"
            ],
            [
             0.1,
             "#c51b7d"
            ],
            [
             0.2,
             "#de77ae"
            ],
            [
             0.3,
             "#f1b6da"
            ],
            [
             0.4,
             "#fde0ef"
            ],
            [
             0.5,
             "#f7f7f7"
            ],
            [
             0.6,
             "#e6f5d0"
            ],
            [
             0.7,
             "#b8e186"
            ],
            [
             0.8,
             "#7fbc41"
            ],
            [
             0.9,
             "#4d9221"
            ],
            [
             1,
             "#276419"
            ]
           ],
           "sequential": [
            [
             0,
             "#0d0887"
            ],
            [
             0.1111111111111111,
             "#46039f"
            ],
            [
             0.2222222222222222,
             "#7201a8"
            ],
            [
             0.3333333333333333,
             "#9c179e"
            ],
            [
             0.4444444444444444,
             "#bd3786"
            ],
            [
             0.5555555555555556,
             "#d8576b"
            ],
            [
             0.6666666666666666,
             "#ed7953"
            ],
            [
             0.7777777777777778,
             "#fb9f3a"
            ],
            [
             0.8888888888888888,
             "#fdca26"
            ],
            [
             1,
             "#f0f921"
            ]
           ],
           "sequentialminus": [
            [
             0,
             "#0d0887"
            ],
            [
             0.1111111111111111,
             "#46039f"
            ],
            [
             0.2222222222222222,
             "#7201a8"
            ],
            [
             0.3333333333333333,
             "#9c179e"
            ],
            [
             0.4444444444444444,
             "#bd3786"
            ],
            [
             0.5555555555555556,
             "#d8576b"
            ],
            [
             0.6666666666666666,
             "#ed7953"
            ],
            [
             0.7777777777777778,
             "#fb9f3a"
            ],
            [
             0.8888888888888888,
             "#fdca26"
            ],
            [
             1,
             "#f0f921"
            ]
           ]
          },
          "colorway": [
           "#636efa",
           "#EF553B",
           "#00cc96",
           "#ab63fa",
           "#FFA15A",
           "#19d3f3",
           "#FF6692",
           "#B6E880",
           "#FF97FF",
           "#FECB52"
          ],
          "font": {
           "color": "#2a3f5f"
          },
          "geo": {
           "bgcolor": "white",
           "lakecolor": "white",
           "landcolor": "#E5ECF6",
           "showlakes": true,
           "showland": true,
           "subunitcolor": "white"
          },
          "hoverlabel": {
           "align": "left"
          },
          "hovermode": "closest",
          "mapbox": {
           "style": "light"
          },
          "paper_bgcolor": "white",
          "plot_bgcolor": "#E5ECF6",
          "polar": {
           "angularaxis": {
            "gridcolor": "white",
            "linecolor": "white",
            "ticks": ""
           },
           "bgcolor": "#E5ECF6",
           "radialaxis": {
            "gridcolor": "white",
            "linecolor": "white",
            "ticks": ""
           }
          },
          "scene": {
           "xaxis": {
            "backgroundcolor": "#E5ECF6",
            "gridcolor": "white",
            "gridwidth": 2,
            "linecolor": "white",
            "showbackground": true,
            "ticks": "",
            "zerolinecolor": "white"
           },
           "yaxis": {
            "backgroundcolor": "#E5ECF6",
            "gridcolor": "white",
            "gridwidth": 2,
            "linecolor": "white",
            "showbackground": true,
            "ticks": "",
            "zerolinecolor": "white"
           },
           "zaxis": {
            "backgroundcolor": "#E5ECF6",
            "gridcolor": "white",
            "gridwidth": 2,
            "linecolor": "white",
            "showbackground": true,
            "ticks": "",
            "zerolinecolor": "white"
           }
          },
          "shapedefaults": {
           "line": {
            "color": "#2a3f5f"
           }
          },
          "ternary": {
           "aaxis": {
            "gridcolor": "white",
            "linecolor": "white",
            "ticks": ""
           },
           "baxis": {
            "gridcolor": "white",
            "linecolor": "white",
            "ticks": ""
           },
           "bgcolor": "#E5ECF6",
           "caxis": {
            "gridcolor": "white",
            "linecolor": "white",
            "ticks": ""
           }
          },
          "title": {
           "x": 0.05
          },
          "xaxis": {
           "automargin": true,
           "gridcolor": "white",
           "linecolor": "white",
           "ticks": "",
           "title": {
            "standoff": 15
           },
           "zerolinecolor": "white",
           "zerolinewidth": 2
          },
          "yaxis": {
           "automargin": true,
           "gridcolor": "white",
           "linecolor": "white",
           "ticks": "",
           "title": {
            "standoff": 15
           },
           "zerolinecolor": "white",
           "zerolinewidth": 2
          }
         }
        },
        "xaxis": {
         "anchor": "y",
         "domain": [
          0,
          0.98
         ],
         "title": {
          "text": "Salary_Rank"
         }
        },
        "xaxis2": {
         "anchor": "y2",
         "domain": [
          0,
          0.98
         ],
         "matches": "x",
         "showticklabels": false
        },
        "yaxis": {
         "anchor": "x",
         "domain": [
          0,
          0.485
         ],
         "title": {
          "text": "salary_float"
         }
        },
        "yaxis2": {
         "anchor": "x2",
         "domain": [
          0.515,
          1
         ],
         "title": {
          "text": "salary_float"
         }
        }
       }
      }
     },
     "metadata": {}
    }
   ],
   "source": [
    "import plotly.express as px\n",
    "\n",
    "fig = px.scatter(df, x= \"Salary_Rank\", y=\"salary_float\", color=\"League\", facet_row=\"League\", hover_data=['Avg_Salary'])\n",
    "fig.update_yaxes(matches=None)\n",
    "\n",
    "fig.show()"
   ]
  },
  {
   "cell_type": "code",
   "execution_count": 77,
   "metadata": {},
   "outputs": [
    {
     "output_type": "display_data",
     "data": {
      "application/vnd.plotly.v1+json": {
       "config": {
        "plotlyServerURL": "https://plot.ly"
       },
       "data": [
        {
         "alignmentgroup": "True",
         "boxpoints": "all",
         "hovertemplate": "League=%{x}<br>salary_float=%{y}<extra></extra>",
         "legendgroup": "NBA",
         "marker": {
          "color": "#636efa"
         },
         "name": "NBA",
         "notched": false,
         "offsetgroup": "NBA",
         "orientation": "v",
         "showlegend": true,
         "type": "box",
         "x": [
          "NBA",
          "NBA",
          "NBA",
          "NBA",
          "NBA",
          "NBA",
          "NBA",
          "NBA",
          "NBA",
          "NBA",
          "NBA",
          "NBA",
          "NBA",
          "NBA",
          "NBA",
          "NBA",
          "NBA",
          "NBA",
          "NBA",
          "NBA",
          "NBA",
          "NBA",
          "NBA",
          "NBA",
          "NBA",
          "NBA",
          "NBA",
          "NBA",
          "NBA",
          "NBA",
          "NBA",
          "NBA",
          "NBA",
          "NBA",
          "NBA",
          "NBA",
          "NBA",
          "NBA",
          "NBA",
          "NBA",
          "NBA",
          "NBA",
          "NBA",
          "NBA",
          "NBA",
          "NBA",
          "NBA",
          "NBA",
          "NBA",
          "NBA",
          "NBA",
          "NBA",
          "NBA",
          "NBA",
          "NBA",
          "NBA",
          "NBA",
          "NBA",
          "NBA",
          "NBA",
          "NBA",
          "NBA",
          "NBA",
          "NBA",
          "NBA",
          "NBA",
          "NBA",
          "NBA",
          "NBA",
          "NBA",
          "NBA",
          "NBA",
          "NBA",
          "NBA",
          "NBA",
          "NBA",
          "NBA",
          "NBA",
          "NBA",
          "NBA",
          "NBA",
          "NBA",
          "NBA",
          "NBA",
          "NBA",
          "NBA"
         ],
         "x0": " ",
         "xaxis": "x2",
         "y": [
          42782880,
          42782880,
          41358814,
          41063925,
          40231758,
          39932648,
          38328212,
          37980720,
          36000000,
          35500000,
          35448672,
          35197650,
          35197650,
          34379100,
          34227984,
          34226304,
          34122650,
          31650600,
          31650600,
          31650600,
          31650600,
          30521116,
          30500000,
          30100543,
          30000000,
          29542010,
          29542010,
          29331375,
          27977689,
          27800000,
          27250000,
          26583334,
          25500000,
          25434263,
          25200000,
          25000000,
          25000000,
          24916591,
          23500000,
          21250000,
          21250000,
          21250000,
          21250000,
          21000000,
          20700000,
          20475000,
          20002500,
          20000000,
          20000000,
          19500000,
          18900000,
          18893589,
          18750000,
          18725000,
          18000000,
          17737500,
          17500000,
          17500000,
          17500000,
          17000000,
          17000000,
          16000000,
          15955000,
          15000000,
          15000000,
          15000000,
          15000000,
          14545000,
          14431700,
          14000000,
          13666667,
          13500000,
          13333327,
          13250000,
          13250000,
          13038862,
          13000000,
          13000000,
          13000000,
          12999975,
          12880000,
          12724946,
          12625000,
          12500000,
          12500000,
          12400000
         ],
         "y0": " ",
         "yaxis": "y2"
        },
        {
         "alignmentgroup": "True",
         "boxpoints": "all",
         "hovertemplate": "League=%{x}<br>salary_float=%{y}<extra></extra>",
         "legendgroup": "WNBA",
         "marker": {
          "color": "#EF553B"
         },
         "name": "WNBA",
         "notched": false,
         "offsetgroup": "WNBA",
         "orientation": "v",
         "showlegend": true,
         "type": "box",
         "x": [
          "WNBA",
          "WNBA",
          "WNBA",
          "WNBA",
          "WNBA",
          "WNBA",
          "WNBA",
          "WNBA",
          "WNBA",
          "WNBA",
          "WNBA",
          "WNBA",
          "WNBA",
          "WNBA",
          "WNBA",
          "WNBA",
          "WNBA",
          "WNBA",
          "WNBA",
          "WNBA",
          "WNBA",
          "WNBA",
          "WNBA",
          "WNBA",
          "WNBA",
          "WNBA",
          "WNBA",
          "WNBA",
          "WNBA",
          "WNBA",
          "WNBA",
          "WNBA",
          "WNBA",
          "WNBA",
          "WNBA",
          "WNBA",
          "WNBA",
          "WNBA",
          "WNBA",
          "WNBA",
          "WNBA",
          "WNBA",
          "WNBA",
          "WNBA",
          "WNBA",
          "WNBA",
          "WNBA",
          "WNBA",
          "WNBA",
          "WNBA",
          "WNBA",
          "WNBA",
          "WNBA",
          "WNBA",
          "WNBA",
          "WNBA",
          "WNBA",
          "WNBA",
          "WNBA",
          "WNBA",
          "WNBA",
          "WNBA",
          "WNBA",
          "WNBA",
          "WNBA",
          "WNBA",
          "WNBA",
          "WNBA",
          "WNBA",
          "WNBA",
          "WNBA",
          "WNBA",
          "WNBA",
          "WNBA",
          "WNBA"
         ],
         "x0": " ",
         "xaxis": "x",
         "y": [
          224870,
          224870,
          224772,
          224675,
          221515,
          221450,
          209000,
          203000,
          197000,
          196267,
          196267,
          196267,
          193409,
          193409,
          192500,
          190550,
          190517,
          188333,
          187750,
          187750,
          187750,
          183000,
          177625,
          175067,
          172550,
          172500,
          170000,
          165000,
          164800,
          159867,
          155000,
          154455,
          150350,
          144242,
          142100,
          125250,
          120000,
          120000,
          119500,
          119500,
          117000,
          116000,
          115627,
          115000,
          111650,
          110000,
          105000,
          101985,
          101500,
          91250,
          90000,
          85000,
          76800,
          75000,
          73000,
          71633,
          71199,
          71199,
          71199,
          71199,
          70040,
          70040,
          70040,
          70040,
          70040,
          70040,
          70040,
          70040,
          68339,
          68339,
          68339,
          68339,
          65459,
          65459,
          65459
         ],
         "y0": " ",
         "yaxis": "y"
        }
       ],
       "layout": {
        "annotations": [
         {
          "font": {},
          "showarrow": false,
          "text": "League=WNBA",
          "textangle": 90,
          "x": 0.98,
          "xanchor": "left",
          "xref": "paper",
          "y": 0.2425,
          "yanchor": "middle",
          "yref": "paper"
         },
         {
          "font": {},
          "showarrow": false,
          "text": "League=NBA",
          "textangle": 90,
          "x": 0.98,
          "xanchor": "left",
          "xref": "paper",
          "y": 0.7575000000000001,
          "yanchor": "middle",
          "yref": "paper"
         }
        ],
        "boxmode": "overlay",
        "legend": {
         "title": {
          "text": "League"
         },
         "tracegroupgap": 0
        },
        "margin": {
         "t": 60
        },
        "template": {
         "data": {
          "bar": [
           {
            "error_x": {
             "color": "#2a3f5f"
            },
            "error_y": {
             "color": "#2a3f5f"
            },
            "marker": {
             "line": {
              "color": "#E5ECF6",
              "width": 0.5
             }
            },
            "type": "bar"
           }
          ],
          "barpolar": [
           {
            "marker": {
             "line": {
              "color": "#E5ECF6",
              "width": 0.5
             }
            },
            "type": "barpolar"
           }
          ],
          "carpet": [
           {
            "aaxis": {
             "endlinecolor": "#2a3f5f",
             "gridcolor": "white",
             "linecolor": "white",
             "minorgridcolor": "white",
             "startlinecolor": "#2a3f5f"
            },
            "baxis": {
             "endlinecolor": "#2a3f5f",
             "gridcolor": "white",
             "linecolor": "white",
             "minorgridcolor": "white",
             "startlinecolor": "#2a3f5f"
            },
            "type": "carpet"
           }
          ],
          "choropleth": [
           {
            "colorbar": {
             "outlinewidth": 0,
             "ticks": ""
            },
            "type": "choropleth"
           }
          ],
          "contour": [
           {
            "colorbar": {
             "outlinewidth": 0,
             "ticks": ""
            },
            "colorscale": [
             [
              0,
              "#0d0887"
             ],
             [
              0.1111111111111111,
              "#46039f"
             ],
             [
              0.2222222222222222,
              "#7201a8"
             ],
             [
              0.3333333333333333,
              "#9c179e"
             ],
             [
              0.4444444444444444,
              "#bd3786"
             ],
             [
              0.5555555555555556,
              "#d8576b"
             ],
             [
              0.6666666666666666,
              "#ed7953"
             ],
             [
              0.7777777777777778,
              "#fb9f3a"
             ],
             [
              0.8888888888888888,
              "#fdca26"
             ],
             [
              1,
              "#f0f921"
             ]
            ],
            "type": "contour"
           }
          ],
          "contourcarpet": [
           {
            "colorbar": {
             "outlinewidth": 0,
             "ticks": ""
            },
            "type": "contourcarpet"
           }
          ],
          "heatmap": [
           {
            "colorbar": {
             "outlinewidth": 0,
             "ticks": ""
            },
            "colorscale": [
             [
              0,
              "#0d0887"
             ],
             [
              0.1111111111111111,
              "#46039f"
             ],
             [
              0.2222222222222222,
              "#7201a8"
             ],
             [
              0.3333333333333333,
              "#9c179e"
             ],
             [
              0.4444444444444444,
              "#bd3786"
             ],
             [
              0.5555555555555556,
              "#d8576b"
             ],
             [
              0.6666666666666666,
              "#ed7953"
             ],
             [
              0.7777777777777778,
              "#fb9f3a"
             ],
             [
              0.8888888888888888,
              "#fdca26"
             ],
             [
              1,
              "#f0f921"
             ]
            ],
            "type": "heatmap"
           }
          ],
          "heatmapgl": [
           {
            "colorbar": {
             "outlinewidth": 0,
             "ticks": ""
            },
            "colorscale": [
             [
              0,
              "#0d0887"
             ],
             [
              0.1111111111111111,
              "#46039f"
             ],
             [
              0.2222222222222222,
              "#7201a8"
             ],
             [
              0.3333333333333333,
              "#9c179e"
             ],
             [
              0.4444444444444444,
              "#bd3786"
             ],
             [
              0.5555555555555556,
              "#d8576b"
             ],
             [
              0.6666666666666666,
              "#ed7953"
             ],
             [
              0.7777777777777778,
              "#fb9f3a"
             ],
             [
              0.8888888888888888,
              "#fdca26"
             ],
             [
              1,
              "#f0f921"
             ]
            ],
            "type": "heatmapgl"
           }
          ],
          "histogram": [
           {
            "marker": {
             "colorbar": {
              "outlinewidth": 0,
              "ticks": ""
             }
            },
            "type": "histogram"
           }
          ],
          "histogram2d": [
           {
            "colorbar": {
             "outlinewidth": 0,
             "ticks": ""
            },
            "colorscale": [
             [
              0,
              "#0d0887"
             ],
             [
              0.1111111111111111,
              "#46039f"
             ],
             [
              0.2222222222222222,
              "#7201a8"
             ],
             [
              0.3333333333333333,
              "#9c179e"
             ],
             [
              0.4444444444444444,
              "#bd3786"
             ],
             [
              0.5555555555555556,
              "#d8576b"
             ],
             [
              0.6666666666666666,
              "#ed7953"
             ],
             [
              0.7777777777777778,
              "#fb9f3a"
             ],
             [
              0.8888888888888888,
              "#fdca26"
             ],
             [
              1,
              "#f0f921"
             ]
            ],
            "type": "histogram2d"
           }
          ],
          "histogram2dcontour": [
           {
            "colorbar": {
             "outlinewidth": 0,
             "ticks": ""
            },
            "colorscale": [
             [
              0,
              "#0d0887"
             ],
             [
              0.1111111111111111,
              "#46039f"
             ],
             [
              0.2222222222222222,
              "#7201a8"
             ],
             [
              0.3333333333333333,
              "#9c179e"
             ],
             [
              0.4444444444444444,
              "#bd3786"
             ],
             [
              0.5555555555555556,
              "#d8576b"
             ],
             [
              0.6666666666666666,
              "#ed7953"
             ],
             [
              0.7777777777777778,
              "#fb9f3a"
             ],
             [
              0.8888888888888888,
              "#fdca26"
             ],
             [
              1,
              "#f0f921"
             ]
            ],
            "type": "histogram2dcontour"
           }
          ],
          "mesh3d": [
           {
            "colorbar": {
             "outlinewidth": 0,
             "ticks": ""
            },
            "type": "mesh3d"
           }
          ],
          "parcoords": [
           {
            "line": {
             "colorbar": {
              "outlinewidth": 0,
              "ticks": ""
             }
            },
            "type": "parcoords"
           }
          ],
          "pie": [
           {
            "automargin": true,
            "type": "pie"
           }
          ],
          "scatter": [
           {
            "marker": {
             "colorbar": {
              "outlinewidth": 0,
              "ticks": ""
             }
            },
            "type": "scatter"
           }
          ],
          "scatter3d": [
           {
            "line": {
             "colorbar": {
              "outlinewidth": 0,
              "ticks": ""
             }
            },
            "marker": {
             "colorbar": {
              "outlinewidth": 0,
              "ticks": ""
             }
            },
            "type": "scatter3d"
           }
          ],
          "scattercarpet": [
           {
            "marker": {
             "colorbar": {
              "outlinewidth": 0,
              "ticks": ""
             }
            },
            "type": "scattercarpet"
           }
          ],
          "scattergeo": [
           {
            "marker": {
             "colorbar": {
              "outlinewidth": 0,
              "ticks": ""
             }
            },
            "type": "scattergeo"
           }
          ],
          "scattergl": [
           {
            "marker": {
             "colorbar": {
              "outlinewidth": 0,
              "ticks": ""
             }
            },
            "type": "scattergl"
           }
          ],
          "scattermapbox": [
           {
            "marker": {
             "colorbar": {
              "outlinewidth": 0,
              "ticks": ""
             }
            },
            "type": "scattermapbox"
           }
          ],
          "scatterpolar": [
           {
            "marker": {
             "colorbar": {
              "outlinewidth": 0,
              "ticks": ""
             }
            },
            "type": "scatterpolar"
           }
          ],
          "scatterpolargl": [
           {
            "marker": {
             "colorbar": {
              "outlinewidth": 0,
              "ticks": ""
             }
            },
            "type": "scatterpolargl"
           }
          ],
          "scatterternary": [
           {
            "marker": {
             "colorbar": {
              "outlinewidth": 0,
              "ticks": ""
             }
            },
            "type": "scatterternary"
           }
          ],
          "surface": [
           {
            "colorbar": {
             "outlinewidth": 0,
             "ticks": ""
            },
            "colorscale": [
             [
              0,
              "#0d0887"
             ],
             [
              0.1111111111111111,
              "#46039f"
             ],
             [
              0.2222222222222222,
              "#7201a8"
             ],
             [
              0.3333333333333333,
              "#9c179e"
             ],
             [
              0.4444444444444444,
              "#bd3786"
             ],
             [
              0.5555555555555556,
              "#d8576b"
             ],
             [
              0.6666666666666666,
              "#ed7953"
             ],
             [
              0.7777777777777778,
              "#fb9f3a"
             ],
             [
              0.8888888888888888,
              "#fdca26"
             ],
             [
              1,
              "#f0f921"
             ]
            ],
            "type": "surface"
           }
          ],
          "table": [
           {
            "cells": {
             "fill": {
              "color": "#EBF0F8"
             },
             "line": {
              "color": "white"
             }
            },
            "header": {
             "fill": {
              "color": "#C8D4E3"
             },
             "line": {
              "color": "white"
             }
            },
            "type": "table"
           }
          ]
         },
         "layout": {
          "annotationdefaults": {
           "arrowcolor": "#2a3f5f",
           "arrowhead": 0,
           "arrowwidth": 1
          },
          "autotypenumbers": "strict",
          "coloraxis": {
           "colorbar": {
            "outlinewidth": 0,
            "ticks": ""
           }
          },
          "colorscale": {
           "diverging": [
            [
             0,
             "#8e0152"
            ],
            [
             0.1,
             "#c51b7d"
            ],
            [
             0.2,
             "#de77ae"
            ],
            [
             0.3,
             "#f1b6da"
            ],
            [
             0.4,
             "#fde0ef"
            ],
            [
             0.5,
             "#f7f7f7"
            ],
            [
             0.6,
             "#e6f5d0"
            ],
            [
             0.7,
             "#b8e186"
            ],
            [
             0.8,
             "#7fbc41"
            ],
            [
             0.9,
             "#4d9221"
            ],
            [
             1,
             "#276419"
            ]
           ],
           "sequential": [
            [
             0,
             "#0d0887"
            ],
            [
             0.1111111111111111,
             "#46039f"
            ],
            [
             0.2222222222222222,
             "#7201a8"
            ],
            [
             0.3333333333333333,
             "#9c179e"
            ],
            [
             0.4444444444444444,
             "#bd3786"
            ],
            [
             0.5555555555555556,
             "#d8576b"
            ],
            [
             0.6666666666666666,
             "#ed7953"
            ],
            [
             0.7777777777777778,
             "#fb9f3a"
            ],
            [
             0.8888888888888888,
             "#fdca26"
            ],
            [
             1,
             "#f0f921"
            ]
           ],
           "sequentialminus": [
            [
             0,
             "#0d0887"
            ],
            [
             0.1111111111111111,
             "#46039f"
            ],
            [
             0.2222222222222222,
             "#7201a8"
            ],
            [
             0.3333333333333333,
             "#9c179e"
            ],
            [
             0.4444444444444444,
             "#bd3786"
            ],
            [
             0.5555555555555556,
             "#d8576b"
            ],
            [
             0.6666666666666666,
             "#ed7953"
            ],
            [
             0.7777777777777778,
             "#fb9f3a"
            ],
            [
             0.8888888888888888,
             "#fdca26"
            ],
            [
             1,
             "#f0f921"
            ]
           ]
          },
          "colorway": [
           "#636efa",
           "#EF553B",
           "#00cc96",
           "#ab63fa",
           "#FFA15A",
           "#19d3f3",
           "#FF6692",
           "#B6E880",
           "#FF97FF",
           "#FECB52"
          ],
          "font": {
           "color": "#2a3f5f"
          },
          "geo": {
           "bgcolor": "white",
           "lakecolor": "white",
           "landcolor": "#E5ECF6",
           "showlakes": true,
           "showland": true,
           "subunitcolor": "white"
          },
          "hoverlabel": {
           "align": "left"
          },
          "hovermode": "closest",
          "mapbox": {
           "style": "light"
          },
          "paper_bgcolor": "white",
          "plot_bgcolor": "#E5ECF6",
          "polar": {
           "angularaxis": {
            "gridcolor": "white",
            "linecolor": "white",
            "ticks": ""
           },
           "bgcolor": "#E5ECF6",
           "radialaxis": {
            "gridcolor": "white",
            "linecolor": "white",
            "ticks": ""
           }
          },
          "scene": {
           "xaxis": {
            "backgroundcolor": "#E5ECF6",
            "gridcolor": "white",
            "gridwidth": 2,
            "linecolor": "white",
            "showbackground": true,
            "ticks": "",
            "zerolinecolor": "white"
           },
           "yaxis": {
            "backgroundcolor": "#E5ECF6",
            "gridcolor": "white",
            "gridwidth": 2,
            "linecolor": "white",
            "showbackground": true,
            "ticks": "",
            "zerolinecolor": "white"
           },
           "zaxis": {
            "backgroundcolor": "#E5ECF6",
            "gridcolor": "white",
            "gridwidth": 2,
            "linecolor": "white",
            "showbackground": true,
            "ticks": "",
            "zerolinecolor": "white"
           }
          },
          "shapedefaults": {
           "line": {
            "color": "#2a3f5f"
           }
          },
          "ternary": {
           "aaxis": {
            "gridcolor": "white",
            "linecolor": "white",
            "ticks": ""
           },
           "baxis": {
            "gridcolor": "white",
            "linecolor": "white",
            "ticks": ""
           },
           "bgcolor": "#E5ECF6",
           "caxis": {
            "gridcolor": "white",
            "linecolor": "white",
            "ticks": ""
           }
          },
          "title": {
           "x": 0.05
          },
          "xaxis": {
           "automargin": true,
           "gridcolor": "white",
           "linecolor": "white",
           "ticks": "",
           "title": {
            "standoff": 15
           },
           "zerolinecolor": "white",
           "zerolinewidth": 2
          },
          "yaxis": {
           "automargin": true,
           "gridcolor": "white",
           "linecolor": "white",
           "ticks": "",
           "title": {
            "standoff": 15
           },
           "zerolinecolor": "white",
           "zerolinewidth": 2
          }
         }
        },
        "xaxis": {
         "anchor": "y",
         "categoryarray": [
          "NBA",
          "WNBA"
         ],
         "categoryorder": "array",
         "domain": [
          0,
          0.98
         ],
         "title": {
          "text": "League"
         }
        },
        "xaxis2": {
         "anchor": "y2",
         "domain": [
          0,
          0.98
         ],
         "matches": "x",
         "showticklabels": false
        },
        "yaxis": {
         "anchor": "x",
         "domain": [
          0,
          0.485
         ],
         "title": {
          "text": "salary_float"
         }
        },
        "yaxis2": {
         "anchor": "x2",
         "domain": [
          0.515,
          1
         ],
         "title": {
          "text": "salary_float"
         }
        }
       }
      }
     },
     "metadata": {}
    }
   ],
   "source": [
    "fig = px.box(df, x=\"League\", y=\"salary_float\", color=\"League\", facet_row=\"League\", points=\"all\")\n",
    "fig.update_yaxes(matches=None)\n",
    "fig.show()"
   ]
  },
  {
   "source": [
    "### Views of Salary Ratios vs League\n",
    "\n",
    "Salary Ratios compare player's salaries to the League's revenue. <br>\n",
    "Diving all of the salaries by respective revenues scales the data to comparable values for more useful insights"
   ],
   "cell_type": "markdown",
   "metadata": {}
  },
  {
   "cell_type": "code",
   "execution_count": 78,
   "metadata": {},
   "outputs": [
    {
     "output_type": "display_data",
     "data": {
      "application/vnd.plotly.v1+json": {
       "config": {
        "plotlyServerURL": "https://plot.ly"
       },
       "data": [
        {
         "customdata": [
          [
           "$42,782,880  "
          ],
          [
           "$42,782,880  "
          ],
          [
           "$41,358,814  "
          ],
          [
           "$41,063,925  "
          ],
          [
           "$40,231,758  "
          ],
          [
           "$39,932,648  "
          ],
          [
           "$38,328,212  "
          ],
          [
           "$37,980,720  "
          ],
          [
           "$36,000,000  "
          ],
          [
           "$35,500,000  "
          ],
          [
           "$35,448,672  "
          ],
          [
           "$35,197,650  "
          ],
          [
           "$35,197,650  "
          ],
          [
           "$34,379,100  "
          ],
          [
           "$34,227,984  "
          ],
          [
           "$34,226,304  "
          ],
          [
           "$34,122,650  "
          ],
          [
           "$31,650,600  "
          ],
          [
           "$31,650,600  "
          ],
          [
           "$31,650,600  "
          ],
          [
           "$31,650,600  "
          ],
          [
           "$30,521,116  "
          ],
          [
           "$30,500,000  "
          ],
          [
           "$30,100,543  "
          ],
          [
           "$30,000,000  "
          ],
          [
           "$29,542,010  "
          ],
          [
           "$29,542,010  "
          ],
          [
           "$29,331,375  "
          ],
          [
           "$27,977,689  "
          ],
          [
           "$27,800,000  "
          ],
          [
           "$27,250,000  "
          ],
          [
           "$26,583,334  "
          ],
          [
           "$25,500,000  "
          ],
          [
           "$25,434,263  "
          ],
          [
           "$25,200,000  "
          ],
          [
           "$25,000,000  "
          ],
          [
           "$25,000,000  "
          ],
          [
           "$24,916,591  "
          ],
          [
           "$23,500,000  "
          ],
          [
           "$21,250,000  "
          ],
          [
           "$21,250,000  "
          ],
          [
           "$21,250,000  "
          ],
          [
           "$21,250,000  "
          ],
          [
           "$21,000,000  "
          ],
          [
           "$20,700,000  "
          ],
          [
           "$20,475,000  "
          ],
          [
           "$20,002,500  "
          ],
          [
           "$20,000,000  "
          ],
          [
           "$20,000,000  "
          ],
          [
           "$19,500,000  "
          ],
          [
           "$18,900,000  "
          ],
          [
           "$18,893,589  "
          ],
          [
           "$18,750,000  "
          ],
          [
           "$18,725,000  "
          ],
          [
           "$18,000,000  "
          ],
          [
           "$17,737,500  "
          ],
          [
           "$17,500,000  "
          ],
          [
           "$17,500,000  "
          ],
          [
           "$17,500,000  "
          ],
          [
           "$17,000,000  "
          ],
          [
           "$17,000,000  "
          ],
          [
           "$16,000,000  "
          ],
          [
           "$15,955,000  "
          ],
          [
           "$15,000,000  "
          ],
          [
           "$15,000,000  "
          ],
          [
           "$15,000,000  "
          ],
          [
           "$15,000,000  "
          ],
          [
           "$14,545,000  "
          ],
          [
           "$14,431,700  "
          ],
          [
           "$14,000,000  "
          ],
          [
           "$13,666,667  "
          ],
          [
           "$13,500,000  "
          ],
          [
           "$13,333,327  "
          ],
          [
           "$13,250,000  "
          ],
          [
           "$13,250,000  "
          ],
          [
           "$13,038,862  "
          ],
          [
           "$13,000,000  "
          ],
          [
           "$13,000,000  "
          ],
          [
           "$13,000,000  "
          ],
          [
           "$12,999,975  "
          ],
          [
           "$12,880,000  "
          ],
          [
           "$12,724,946  "
          ],
          [
           "$12,625,000  "
          ],
          [
           "$12,500,000  "
          ],
          [
           "$12,500,000  "
          ],
          [
           "$12,400,000  "
          ]
         ],
         "hovertemplate": "League=NBA<br>Salary_Rank=%{x}<br>salary_ratio=%{y}<br>Avg_Salary=%{customdata[0]}<extra></extra>",
         "legendgroup": "NBA",
         "marker": {
          "color": "#636efa",
          "symbol": "circle"
         },
         "mode": "markers",
         "name": "NBA",
         "orientation": "v",
         "showlegend": true,
         "type": "scatter",
         "x": [
          1,
          2,
          3,
          4,
          5,
          6,
          7,
          8,
          9,
          10,
          11,
          12,
          13,
          14,
          15,
          16,
          17,
          18,
          19,
          20,
          21,
          22,
          23,
          24,
          25,
          26,
          27,
          28,
          29,
          30,
          31,
          32,
          33,
          34,
          35,
          36,
          37,
          38,
          39,
          40,
          41,
          42,
          43,
          44,
          45,
          46,
          47,
          48,
          49,
          50,
          51,
          52,
          53,
          54,
          55,
          56,
          57,
          58,
          59,
          60,
          61,
          62,
          63,
          64,
          65,
          66,
          67,
          68,
          69,
          70,
          71,
          72,
          73,
          74,
          75,
          76,
          77,
          78,
          79,
          80,
          81,
          82,
          83,
          84,
          85,
          86
         ],
         "xaxis": "x",
         "y": [
          0.00578147027027027,
          0.00578147027027027,
          0.005589028918918919,
          0.005549179054054054,
          0.005436724054054054,
          0.0053963037837837825,
          0.005179488108108108,
          0.00513252972972973,
          0.004864864864864865,
          0.004797297297297297,
          0.004790361081081081,
          0.004756439189189189,
          0.004756439189189189,
          0.004645824324324324,
          0.0046254032432432425,
          0.004625176216216216,
          0.004611168918918919,
          0.0042771081081081075,
          0.0042771081081081075,
          0.0042771081081081075,
          0.0042771081081081075,
          0.0041244751351351356,
          0.004121621621621622,
          0.004067640945945946,
          0.004054054054054054,
          0.003992163513513514,
          0.003992163513513514,
          0.003963699324324325,
          0.0037807687837837843,
          0.003756756756756757,
          0.003682432432432433,
          0.003592342432432433,
          0.003445945945945946,
          0.0034370625675675674,
          0.0034054054054054052,
          0.0033783783783783786,
          0.0033783783783783786,
          0.0033671068918918923,
          0.003175675675675676,
          0.0028716216216216213,
          0.0028716216216216213,
          0.0028716216216216213,
          0.0028716216216216213,
          0.002837837837837838,
          0.002797297297297297,
          0.002766891891891892,
          0.002703040540540541,
          0.0027027027027027033,
          0.0027027027027027033,
          0.002635135135135135,
          0.0025540540540540547,
          0.002553187702702702,
          0.002533783783783784,
          0.002530405405405405,
          0.0024324324324324323,
          0.0023969594594594593,
          0.002364864864864865,
          0.002364864864864865,
          0.002364864864864865,
          0.002297297297297297,
          0.002297297297297297,
          0.002162162162162162,
          0.002156081081081081,
          0.002027027027027027,
          0.002027027027027027,
          0.002027027027027027,
          0.002027027027027027,
          0.0019655405405405407,
          0.0019502297297297297,
          0.001891891891891892,
          0.0018468468918918922,
          0.0018243243243243246,
          0.001801800945945946,
          0.0017905405405405407,
          0.0017905405405405407,
          0.0017620083783783786,
          0.0017567567567567568,
          0.0017567567567567568,
          0.0017567567567567568,
          0.0017567533783783785,
          0.0017405405405405403,
          0.0017195872972972973,
          0.001706081081081081,
          0.0016891891891891893,
          0.0016891891891891893,
          0.0016756756756756755
         ],
         "yaxis": "y"
        },
        {
         "customdata": [
          [
           "$224,870  "
          ],
          [
           "$224,870  "
          ],
          [
           "$224,772  "
          ],
          [
           "$224,675  "
          ],
          [
           "$221,515  "
          ],
          [
           "$221,450  "
          ],
          [
           "$209,000  "
          ],
          [
           "$203,000  "
          ],
          [
           "$197,000  "
          ],
          [
           "$196,267  "
          ],
          [
           "$196,267  "
          ],
          [
           "$196,267  "
          ],
          [
           "$193,409  "
          ],
          [
           "$193,409  "
          ],
          [
           "$192,500  "
          ],
          [
           "$190,550  "
          ],
          [
           "$190,517  "
          ],
          [
           "$188,333  "
          ],
          [
           "$187,750  "
          ],
          [
           "$187,750  "
          ],
          [
           "$187,750  "
          ],
          [
           "$183,000  "
          ],
          [
           "$177,625  "
          ],
          [
           "$175,067  "
          ],
          [
           "$172,550  "
          ],
          [
           "$172,500  "
          ],
          [
           "$170,000  "
          ],
          [
           "$165,000  "
          ],
          [
           "$164,800  "
          ],
          [
           "$159,867  "
          ],
          [
           "$155,000  "
          ],
          [
           "$154,455  "
          ],
          [
           "$150,350  "
          ],
          [
           "$144,242  "
          ],
          [
           "$142,100  "
          ],
          [
           "$125,250  "
          ],
          [
           "$120,000  "
          ],
          [
           "$120,000  "
          ],
          [
           "$119,500  "
          ],
          [
           "$119,500  "
          ],
          [
           "$117,000  "
          ],
          [
           "$116,000  "
          ],
          [
           "$115,627  "
          ],
          [
           "$115,000  "
          ],
          [
           "$111,650  "
          ],
          [
           "$110,000  "
          ],
          [
           "$105,000  "
          ],
          [
           "$101,985  "
          ],
          [
           "$101,500  "
          ],
          [
           "$91,250  "
          ],
          [
           "$90,000  "
          ],
          [
           "$85,000  "
          ],
          [
           "$76,800  "
          ],
          [
           "$75,000  "
          ],
          [
           "$73,000  "
          ],
          [
           "$71,633  "
          ],
          [
           "$71,199  "
          ],
          [
           "$71,199  "
          ],
          [
           "$71,199  "
          ],
          [
           "$71,199  "
          ],
          [
           "$70,040  "
          ],
          [
           "$70,040  "
          ],
          [
           "$70,040  "
          ],
          [
           "$70,040  "
          ],
          [
           "$70,040  "
          ],
          [
           "$70,040  "
          ],
          [
           "$70,040  "
          ],
          [
           "$70,040  "
          ],
          [
           "$68,339  "
          ],
          [
           "$68,339  "
          ],
          [
           "$68,339  "
          ],
          [
           "$68,339  "
          ],
          [
           "$65,459  "
          ],
          [
           "$65,459  "
          ],
          [
           "$65,459  "
          ]
         ],
         "hovertemplate": "League=WNBA<br>Salary_Rank=%{x}<br>salary_ratio=%{y}<br>Avg_Salary=%{customdata[0]}<extra></extra>",
         "legendgroup": "WNBA",
         "marker": {
          "color": "#EF553B",
          "symbol": "circle"
         },
         "mode": "markers",
         "name": "WNBA",
         "orientation": "v",
         "showlegend": true,
         "type": "scatter",
         "x": [
          87,
          88,
          89,
          90,
          91,
          92,
          93,
          94,
          95,
          96,
          97,
          98,
          99,
          100,
          101,
          102,
          103,
          104,
          105,
          106,
          107,
          108,
          109,
          110,
          111,
          112,
          113,
          114,
          115,
          116,
          117,
          118,
          119,
          120,
          121,
          122,
          123,
          124,
          125,
          126,
          127,
          128,
          129,
          130,
          131,
          132,
          133,
          134,
          135,
          136,
          137,
          138,
          139,
          140,
          141,
          142,
          143,
          144,
          145,
          146,
          147,
          148,
          149,
          150,
          151,
          152,
          153,
          154,
          155,
          156,
          157,
          158,
          159,
          160,
          161
         ],
         "xaxis": "x",
         "y": [
          0.0037478333333333335,
          0.0037478333333333335,
          0.0037461999999999994,
          0.003744583333333333,
          0.0036919166666666663,
          0.003690833333333333,
          0.0034833333333333326,
          0.003383333333333333,
          0.003283333333333333,
          0.0032711166666666673,
          0.0032711166666666673,
          0.0032711166666666673,
          0.003223483333333333,
          0.003223483333333333,
          0.003208333333333333,
          0.003175833333333333,
          0.003175283333333333,
          0.003138883333333333,
          0.0031291666666666672,
          0.0031291666666666672,
          0.0031291666666666672,
          0.00305,
          0.002960416666666667,
          0.002917783333333333,
          0.0028758333333333327,
          0.002875,
          0.0028333333333333327,
          0.00275,
          0.0027466666666666672,
          0.00266445,
          0.002583333333333333,
          0.00257425,
          0.002505833333333333,
          0.002404033333333333,
          0.002368333333333333,
          0.0020875,
          0.002,
          0.002,
          0.0019916666666666668,
          0.0019916666666666668,
          0.00195,
          0.0019333333333333331,
          0.0019271166666666667,
          0.0019166666666666663,
          0.0018608333333333333,
          0.0018333333333333333,
          0.00175,
          0.00169975,
          0.0016916666666666664,
          0.0015208333333333332,
          0.0015,
          0.0014166666666666668,
          0.00128,
          0.00125,
          0.001216666666666667,
          0.0011938833333333331,
          0.00118665,
          0.00118665,
          0.00118665,
          0.00118665,
          0.0011673333333333336,
          0.0011673333333333336,
          0.0011673333333333336,
          0.0011673333333333336,
          0.0011673333333333336,
          0.0011673333333333336,
          0.0011673333333333336,
          0.0011673333333333336,
          0.0011389833333333333,
          0.0011389833333333333,
          0.0011389833333333333,
          0.0011389833333333333,
          0.0010909833333333334,
          0.0010909833333333334,
          0.0010909833333333334
         ],
         "yaxis": "y"
        }
       ],
       "layout": {
        "legend": {
         "title": {
          "text": "League"
         },
         "tracegroupgap": 0
        },
        "margin": {
         "t": 60
        },
        "template": {
         "data": {
          "bar": [
           {
            "error_x": {
             "color": "#2a3f5f"
            },
            "error_y": {
             "color": "#2a3f5f"
            },
            "marker": {
             "line": {
              "color": "#E5ECF6",
              "width": 0.5
             }
            },
            "type": "bar"
           }
          ],
          "barpolar": [
           {
            "marker": {
             "line": {
              "color": "#E5ECF6",
              "width": 0.5
             }
            },
            "type": "barpolar"
           }
          ],
          "carpet": [
           {
            "aaxis": {
             "endlinecolor": "#2a3f5f",
             "gridcolor": "white",
             "linecolor": "white",
             "minorgridcolor": "white",
             "startlinecolor": "#2a3f5f"
            },
            "baxis": {
             "endlinecolor": "#2a3f5f",
             "gridcolor": "white",
             "linecolor": "white",
             "minorgridcolor": "white",
             "startlinecolor": "#2a3f5f"
            },
            "type": "carpet"
           }
          ],
          "choropleth": [
           {
            "colorbar": {
             "outlinewidth": 0,
             "ticks": ""
            },
            "type": "choropleth"
           }
          ],
          "contour": [
           {
            "colorbar": {
             "outlinewidth": 0,
             "ticks": ""
            },
            "colorscale": [
             [
              0,
              "#0d0887"
             ],
             [
              0.1111111111111111,
              "#46039f"
             ],
             [
              0.2222222222222222,
              "#7201a8"
             ],
             [
              0.3333333333333333,
              "#9c179e"
             ],
             [
              0.4444444444444444,
              "#bd3786"
             ],
             [
              0.5555555555555556,
              "#d8576b"
             ],
             [
              0.6666666666666666,
              "#ed7953"
             ],
             [
              0.7777777777777778,
              "#fb9f3a"
             ],
             [
              0.8888888888888888,
              "#fdca26"
             ],
             [
              1,
              "#f0f921"
             ]
            ],
            "type": "contour"
           }
          ],
          "contourcarpet": [
           {
            "colorbar": {
             "outlinewidth": 0,
             "ticks": ""
            },
            "type": "contourcarpet"
           }
          ],
          "heatmap": [
           {
            "colorbar": {
             "outlinewidth": 0,
             "ticks": ""
            },
            "colorscale": [
             [
              0,
              "#0d0887"
             ],
             [
              0.1111111111111111,
              "#46039f"
             ],
             [
              0.2222222222222222,
              "#7201a8"
             ],
             [
              0.3333333333333333,
              "#9c179e"
             ],
             [
              0.4444444444444444,
              "#bd3786"
             ],
             [
              0.5555555555555556,
              "#d8576b"
             ],
             [
              0.6666666666666666,
              "#ed7953"
             ],
             [
              0.7777777777777778,
              "#fb9f3a"
             ],
             [
              0.8888888888888888,
              "#fdca26"
             ],
             [
              1,
              "#f0f921"
             ]
            ],
            "type": "heatmap"
           }
          ],
          "heatmapgl": [
           {
            "colorbar": {
             "outlinewidth": 0,
             "ticks": ""
            },
            "colorscale": [
             [
              0,
              "#0d0887"
             ],
             [
              0.1111111111111111,
              "#46039f"
             ],
             [
              0.2222222222222222,
              "#7201a8"
             ],
             [
              0.3333333333333333,
              "#9c179e"
             ],
             [
              0.4444444444444444,
              "#bd3786"
             ],
             [
              0.5555555555555556,
              "#d8576b"
             ],
             [
              0.6666666666666666,
              "#ed7953"
             ],
             [
              0.7777777777777778,
              "#fb9f3a"
             ],
             [
              0.8888888888888888,
              "#fdca26"
             ],
             [
              1,
              "#f0f921"
             ]
            ],
            "type": "heatmapgl"
           }
          ],
          "histogram": [
           {
            "marker": {
             "colorbar": {
              "outlinewidth": 0,
              "ticks": ""
             }
            },
            "type": "histogram"
           }
          ],
          "histogram2d": [
           {
            "colorbar": {
             "outlinewidth": 0,
             "ticks": ""
            },
            "colorscale": [
             [
              0,
              "#0d0887"
             ],
             [
              0.1111111111111111,
              "#46039f"
             ],
             [
              0.2222222222222222,
              "#7201a8"
             ],
             [
              0.3333333333333333,
              "#9c179e"
             ],
             [
              0.4444444444444444,
              "#bd3786"
             ],
             [
              0.5555555555555556,
              "#d8576b"
             ],
             [
              0.6666666666666666,
              "#ed7953"
             ],
             [
              0.7777777777777778,
              "#fb9f3a"
             ],
             [
              0.8888888888888888,
              "#fdca26"
             ],
             [
              1,
              "#f0f921"
             ]
            ],
            "type": "histogram2d"
           }
          ],
          "histogram2dcontour": [
           {
            "colorbar": {
             "outlinewidth": 0,
             "ticks": ""
            },
            "colorscale": [
             [
              0,
              "#0d0887"
             ],
             [
              0.1111111111111111,
              "#46039f"
             ],
             [
              0.2222222222222222,
              "#7201a8"
             ],
             [
              0.3333333333333333,
              "#9c179e"
             ],
             [
              0.4444444444444444,
              "#bd3786"
             ],
             [
              0.5555555555555556,
              "#d8576b"
             ],
             [
              0.6666666666666666,
              "#ed7953"
             ],
             [
              0.7777777777777778,
              "#fb9f3a"
             ],
             [
              0.8888888888888888,
              "#fdca26"
             ],
             [
              1,
              "#f0f921"
             ]
            ],
            "type": "histogram2dcontour"
           }
          ],
          "mesh3d": [
           {
            "colorbar": {
             "outlinewidth": 0,
             "ticks": ""
            },
            "type": "mesh3d"
           }
          ],
          "parcoords": [
           {
            "line": {
             "colorbar": {
              "outlinewidth": 0,
              "ticks": ""
             }
            },
            "type": "parcoords"
           }
          ],
          "pie": [
           {
            "automargin": true,
            "type": "pie"
           }
          ],
          "scatter": [
           {
            "marker": {
             "colorbar": {
              "outlinewidth": 0,
              "ticks": ""
             }
            },
            "type": "scatter"
           }
          ],
          "scatter3d": [
           {
            "line": {
             "colorbar": {
              "outlinewidth": 0,
              "ticks": ""
             }
            },
            "marker": {
             "colorbar": {
              "outlinewidth": 0,
              "ticks": ""
             }
            },
            "type": "scatter3d"
           }
          ],
          "scattercarpet": [
           {
            "marker": {
             "colorbar": {
              "outlinewidth": 0,
              "ticks": ""
             }
            },
            "type": "scattercarpet"
           }
          ],
          "scattergeo": [
           {
            "marker": {
             "colorbar": {
              "outlinewidth": 0,
              "ticks": ""
             }
            },
            "type": "scattergeo"
           }
          ],
          "scattergl": [
           {
            "marker": {
             "colorbar": {
              "outlinewidth": 0,
              "ticks": ""
             }
            },
            "type": "scattergl"
           }
          ],
          "scattermapbox": [
           {
            "marker": {
             "colorbar": {
              "outlinewidth": 0,
              "ticks": ""
             }
            },
            "type": "scattermapbox"
           }
          ],
          "scatterpolar": [
           {
            "marker": {
             "colorbar": {
              "outlinewidth": 0,
              "ticks": ""
             }
            },
            "type": "scatterpolar"
           }
          ],
          "scatterpolargl": [
           {
            "marker": {
             "colorbar": {
              "outlinewidth": 0,
              "ticks": ""
             }
            },
            "type": "scatterpolargl"
           }
          ],
          "scatterternary": [
           {
            "marker": {
             "colorbar": {
              "outlinewidth": 0,
              "ticks": ""
             }
            },
            "type": "scatterternary"
           }
          ],
          "surface": [
           {
            "colorbar": {
             "outlinewidth": 0,
             "ticks": ""
            },
            "colorscale": [
             [
              0,
              "#0d0887"
             ],
             [
              0.1111111111111111,
              "#46039f"
             ],
             [
              0.2222222222222222,
              "#7201a8"
             ],
             [
              0.3333333333333333,
              "#9c179e"
             ],
             [
              0.4444444444444444,
              "#bd3786"
             ],
             [
              0.5555555555555556,
              "#d8576b"
             ],
             [
              0.6666666666666666,
              "#ed7953"
             ],
             [
              0.7777777777777778,
              "#fb9f3a"
             ],
             [
              0.8888888888888888,
              "#fdca26"
             ],
             [
              1,
              "#f0f921"
             ]
            ],
            "type": "surface"
           }
          ],
          "table": [
           {
            "cells": {
             "fill": {
              "color": "#EBF0F8"
             },
             "line": {
              "color": "white"
             }
            },
            "header": {
             "fill": {
              "color": "#C8D4E3"
             },
             "line": {
              "color": "white"
             }
            },
            "type": "table"
           }
          ]
         },
         "layout": {
          "annotationdefaults": {
           "arrowcolor": "#2a3f5f",
           "arrowhead": 0,
           "arrowwidth": 1
          },
          "autotypenumbers": "strict",
          "coloraxis": {
           "colorbar": {
            "outlinewidth": 0,
            "ticks": ""
           }
          },
          "colorscale": {
           "diverging": [
            [
             0,
             "#8e0152"
            ],
            [
             0.1,
             "#c51b7d"
            ],
            [
             0.2,
             "#de77ae"
            ],
            [
             0.3,
             "#f1b6da"
            ],
            [
             0.4,
             "#fde0ef"
            ],
            [
             0.5,
             "#f7f7f7"
            ],
            [
             0.6,
             "#e6f5d0"
            ],
            [
             0.7,
             "#b8e186"
            ],
            [
             0.8,
             "#7fbc41"
            ],
            [
             0.9,
             "#4d9221"
            ],
            [
             1,
             "#276419"
            ]
           ],
           "sequential": [
            [
             0,
             "#0d0887"
            ],
            [
             0.1111111111111111,
             "#46039f"
            ],
            [
             0.2222222222222222,
             "#7201a8"
            ],
            [
             0.3333333333333333,
             "#9c179e"
            ],
            [
             0.4444444444444444,
             "#bd3786"
            ],
            [
             0.5555555555555556,
             "#d8576b"
            ],
            [
             0.6666666666666666,
             "#ed7953"
            ],
            [
             0.7777777777777778,
             "#fb9f3a"
            ],
            [
             0.8888888888888888,
             "#fdca26"
            ],
            [
             1,
             "#f0f921"
            ]
           ],
           "sequentialminus": [
            [
             0,
             "#0d0887"
            ],
            [
             0.1111111111111111,
             "#46039f"
            ],
            [
             0.2222222222222222,
             "#7201a8"
            ],
            [
             0.3333333333333333,
             "#9c179e"
            ],
            [
             0.4444444444444444,
             "#bd3786"
            ],
            [
             0.5555555555555556,
             "#d8576b"
            ],
            [
             0.6666666666666666,
             "#ed7953"
            ],
            [
             0.7777777777777778,
             "#fb9f3a"
            ],
            [
             0.8888888888888888,
             "#fdca26"
            ],
            [
             1,
             "#f0f921"
            ]
           ]
          },
          "colorway": [
           "#636efa",
           "#EF553B",
           "#00cc96",
           "#ab63fa",
           "#FFA15A",
           "#19d3f3",
           "#FF6692",
           "#B6E880",
           "#FF97FF",
           "#FECB52"
          ],
          "font": {
           "color": "#2a3f5f"
          },
          "geo": {
           "bgcolor": "white",
           "lakecolor": "white",
           "landcolor": "#E5ECF6",
           "showlakes": true,
           "showland": true,
           "subunitcolor": "white"
          },
          "hoverlabel": {
           "align": "left"
          },
          "hovermode": "closest",
          "mapbox": {
           "style": "light"
          },
          "paper_bgcolor": "white",
          "plot_bgcolor": "#E5ECF6",
          "polar": {
           "angularaxis": {
            "gridcolor": "white",
            "linecolor": "white",
            "ticks": ""
           },
           "bgcolor": "#E5ECF6",
           "radialaxis": {
            "gridcolor": "white",
            "linecolor": "white",
            "ticks": ""
           }
          },
          "scene": {
           "xaxis": {
            "backgroundcolor": "#E5ECF6",
            "gridcolor": "white",
            "gridwidth": 2,
            "linecolor": "white",
            "showbackground": true,
            "ticks": "",
            "zerolinecolor": "white"
           },
           "yaxis": {
            "backgroundcolor": "#E5ECF6",
            "gridcolor": "white",
            "gridwidth": 2,
            "linecolor": "white",
            "showbackground": true,
            "ticks": "",
            "zerolinecolor": "white"
           },
           "zaxis": {
            "backgroundcolor": "#E5ECF6",
            "gridcolor": "white",
            "gridwidth": 2,
            "linecolor": "white",
            "showbackground": true,
            "ticks": "",
            "zerolinecolor": "white"
           }
          },
          "shapedefaults": {
           "line": {
            "color": "#2a3f5f"
           }
          },
          "ternary": {
           "aaxis": {
            "gridcolor": "white",
            "linecolor": "white",
            "ticks": ""
           },
           "baxis": {
            "gridcolor": "white",
            "linecolor": "white",
            "ticks": ""
           },
           "bgcolor": "#E5ECF6",
           "caxis": {
            "gridcolor": "white",
            "linecolor": "white",
            "ticks": ""
           }
          },
          "title": {
           "x": 0.05
          },
          "xaxis": {
           "automargin": true,
           "gridcolor": "white",
           "linecolor": "white",
           "ticks": "",
           "title": {
            "standoff": 15
           },
           "zerolinecolor": "white",
           "zerolinewidth": 2
          },
          "yaxis": {
           "automargin": true,
           "gridcolor": "white",
           "linecolor": "white",
           "ticks": "",
           "title": {
            "standoff": 15
           },
           "zerolinecolor": "white",
           "zerolinewidth": 2
          }
         }
        },
        "xaxis": {
         "anchor": "y",
         "domain": [
          0,
          1
         ],
         "title": {
          "text": "Salary_Rank"
         }
        },
        "yaxis": {
         "anchor": "x",
         "domain": [
          0,
          1
         ],
         "title": {
          "text": "salary_ratio"
         }
        }
       }
      }
     },
     "metadata": {}
    }
   ],
   "source": [
    "fig = px.scatter(df, x= \"Salary_Rank\", y=\"salary_ratio\", color=\"League\", hover_data=['Avg_Salary'])\n",
    "fig.show()"
   ]
  },
  {
   "cell_type": "code",
   "execution_count": 79,
   "metadata": {},
   "outputs": [
    {
     "output_type": "display_data",
     "data": {
      "application/vnd.plotly.v1+json": {
       "config": {
        "plotlyServerURL": "https://plot.ly"
       },
       "data": [
        {
         "alignmentgroup": "True",
         "boxpoints": "all",
         "hovertemplate": "League=%{x}<br>salary_ratio=%{y}<extra></extra>",
         "legendgroup": "NBA",
         "marker": {
          "color": "#636efa"
         },
         "name": "NBA",
         "notched": false,
         "offsetgroup": "NBA",
         "orientation": "v",
         "showlegend": true,
         "type": "box",
         "x": [
          "NBA",
          "NBA",
          "NBA",
          "NBA",
          "NBA",
          "NBA",
          "NBA",
          "NBA",
          "NBA",
          "NBA",
          "NBA",
          "NBA",
          "NBA",
          "NBA",
          "NBA",
          "NBA",
          "NBA",
          "NBA",
          "NBA",
          "NBA",
          "NBA",
          "NBA",
          "NBA",
          "NBA",
          "NBA",
          "NBA",
          "NBA",
          "NBA",
          "NBA",
          "NBA",
          "NBA",
          "NBA",
          "NBA",
          "NBA",
          "NBA",
          "NBA",
          "NBA",
          "NBA",
          "NBA",
          "NBA",
          "NBA",
          "NBA",
          "NBA",
          "NBA",
          "NBA",
          "NBA",
          "NBA",
          "NBA",
          "NBA",
          "NBA",
          "NBA",
          "NBA",
          "NBA",
          "NBA",
          "NBA",
          "NBA",
          "NBA",
          "NBA",
          "NBA",
          "NBA",
          "NBA",
          "NBA",
          "NBA",
          "NBA",
          "NBA",
          "NBA",
          "NBA",
          "NBA",
          "NBA",
          "NBA",
          "NBA",
          "NBA",
          "NBA",
          "NBA",
          "NBA",
          "NBA",
          "NBA",
          "NBA",
          "NBA",
          "NBA",
          "NBA",
          "NBA",
          "NBA",
          "NBA",
          "NBA",
          "NBA"
         ],
         "x0": " ",
         "xaxis": "x",
         "y": [
          0.00578147027027027,
          0.00578147027027027,
          0.005589028918918919,
          0.005549179054054054,
          0.005436724054054054,
          0.0053963037837837825,
          0.005179488108108108,
          0.00513252972972973,
          0.004864864864864865,
          0.004797297297297297,
          0.004790361081081081,
          0.004756439189189189,
          0.004756439189189189,
          0.004645824324324324,
          0.0046254032432432425,
          0.004625176216216216,
          0.004611168918918919,
          0.0042771081081081075,
          0.0042771081081081075,
          0.0042771081081081075,
          0.0042771081081081075,
          0.0041244751351351356,
          0.004121621621621622,
          0.004067640945945946,
          0.004054054054054054,
          0.003992163513513514,
          0.003992163513513514,
          0.003963699324324325,
          0.0037807687837837843,
          0.003756756756756757,
          0.003682432432432433,
          0.003592342432432433,
          0.003445945945945946,
          0.0034370625675675674,
          0.0034054054054054052,
          0.0033783783783783786,
          0.0033783783783783786,
          0.0033671068918918923,
          0.003175675675675676,
          0.0028716216216216213,
          0.0028716216216216213,
          0.0028716216216216213,
          0.0028716216216216213,
          0.002837837837837838,
          0.002797297297297297,
          0.002766891891891892,
          0.002703040540540541,
          0.0027027027027027033,
          0.0027027027027027033,
          0.002635135135135135,
          0.0025540540540540547,
          0.002553187702702702,
          0.002533783783783784,
          0.002530405405405405,
          0.0024324324324324323,
          0.0023969594594594593,
          0.002364864864864865,
          0.002364864864864865,
          0.002364864864864865,
          0.002297297297297297,
          0.002297297297297297,
          0.002162162162162162,
          0.002156081081081081,
          0.002027027027027027,
          0.002027027027027027,
          0.002027027027027027,
          0.002027027027027027,
          0.0019655405405405407,
          0.0019502297297297297,
          0.001891891891891892,
          0.0018468468918918922,
          0.0018243243243243246,
          0.001801800945945946,
          0.0017905405405405407,
          0.0017905405405405407,
          0.0017620083783783786,
          0.0017567567567567568,
          0.0017567567567567568,
          0.0017567567567567568,
          0.0017567533783783785,
          0.0017405405405405403,
          0.0017195872972972973,
          0.001706081081081081,
          0.0016891891891891893,
          0.0016891891891891893,
          0.0016756756756756755
         ],
         "y0": " ",
         "yaxis": "y"
        },
        {
         "alignmentgroup": "True",
         "boxpoints": "all",
         "hovertemplate": "League=%{x}<br>salary_ratio=%{y}<extra></extra>",
         "legendgroup": "WNBA",
         "marker": {
          "color": "#EF553B"
         },
         "name": "WNBA",
         "notched": false,
         "offsetgroup": "WNBA",
         "orientation": "v",
         "showlegend": true,
         "type": "box",
         "x": [
          "WNBA",
          "WNBA",
          "WNBA",
          "WNBA",
          "WNBA",
          "WNBA",
          "WNBA",
          "WNBA",
          "WNBA",
          "WNBA",
          "WNBA",
          "WNBA",
          "WNBA",
          "WNBA",
          "WNBA",
          "WNBA",
          "WNBA",
          "WNBA",
          "WNBA",
          "WNBA",
          "WNBA",
          "WNBA",
          "WNBA",
          "WNBA",
          "WNBA",
          "WNBA",
          "WNBA",
          "WNBA",
          "WNBA",
          "WNBA",
          "WNBA",
          "WNBA",
          "WNBA",
          "WNBA",
          "WNBA",
          "WNBA",
          "WNBA",
          "WNBA",
          "WNBA",
          "WNBA",
          "WNBA",
          "WNBA",
          "WNBA",
          "WNBA",
          "WNBA",
          "WNBA",
          "WNBA",
          "WNBA",
          "WNBA",
          "WNBA",
          "WNBA",
          "WNBA",
          "WNBA",
          "WNBA",
          "WNBA",
          "WNBA",
          "WNBA",
          "WNBA",
          "WNBA",
          "WNBA",
          "WNBA",
          "WNBA",
          "WNBA",
          "WNBA",
          "WNBA",
          "WNBA",
          "WNBA",
          "WNBA",
          "WNBA",
          "WNBA",
          "WNBA",
          "WNBA",
          "WNBA",
          "WNBA",
          "WNBA"
         ],
         "x0": " ",
         "xaxis": "x",
         "y": [
          0.0037478333333333335,
          0.0037478333333333335,
          0.0037461999999999994,
          0.003744583333333333,
          0.0036919166666666663,
          0.003690833333333333,
          0.0034833333333333326,
          0.003383333333333333,
          0.003283333333333333,
          0.0032711166666666673,
          0.0032711166666666673,
          0.0032711166666666673,
          0.003223483333333333,
          0.003223483333333333,
          0.003208333333333333,
          0.003175833333333333,
          0.003175283333333333,
          0.003138883333333333,
          0.0031291666666666672,
          0.0031291666666666672,
          0.0031291666666666672,
          0.00305,
          0.002960416666666667,
          0.002917783333333333,
          0.0028758333333333327,
          0.002875,
          0.0028333333333333327,
          0.00275,
          0.0027466666666666672,
          0.00266445,
          0.002583333333333333,
          0.00257425,
          0.002505833333333333,
          0.002404033333333333,
          0.002368333333333333,
          0.0020875,
          0.002,
          0.002,
          0.0019916666666666668,
          0.0019916666666666668,
          0.00195,
          0.0019333333333333331,
          0.0019271166666666667,
          0.0019166666666666663,
          0.0018608333333333333,
          0.0018333333333333333,
          0.00175,
          0.00169975,
          0.0016916666666666664,
          0.0015208333333333332,
          0.0015,
          0.0014166666666666668,
          0.00128,
          0.00125,
          0.001216666666666667,
          0.0011938833333333331,
          0.00118665,
          0.00118665,
          0.00118665,
          0.00118665,
          0.0011673333333333336,
          0.0011673333333333336,
          0.0011673333333333336,
          0.0011673333333333336,
          0.0011673333333333336,
          0.0011673333333333336,
          0.0011673333333333336,
          0.0011673333333333336,
          0.0011389833333333333,
          0.0011389833333333333,
          0.0011389833333333333,
          0.0011389833333333333,
          0.0010909833333333334,
          0.0010909833333333334,
          0.0010909833333333334
         ],
         "y0": " ",
         "yaxis": "y"
        }
       ],
       "layout": {
        "boxmode": "overlay",
        "legend": {
         "title": {
          "text": "League"
         },
         "tracegroupgap": 0
        },
        "margin": {
         "t": 60
        },
        "template": {
         "data": {
          "bar": [
           {
            "error_x": {
             "color": "#2a3f5f"
            },
            "error_y": {
             "color": "#2a3f5f"
            },
            "marker": {
             "line": {
              "color": "#E5ECF6",
              "width": 0.5
             }
            },
            "type": "bar"
           }
          ],
          "barpolar": [
           {
            "marker": {
             "line": {
              "color": "#E5ECF6",
              "width": 0.5
             }
            },
            "type": "barpolar"
           }
          ],
          "carpet": [
           {
            "aaxis": {
             "endlinecolor": "#2a3f5f",
             "gridcolor": "white",
             "linecolor": "white",
             "minorgridcolor": "white",
             "startlinecolor": "#2a3f5f"
            },
            "baxis": {
             "endlinecolor": "#2a3f5f",
             "gridcolor": "white",
             "linecolor": "white",
             "minorgridcolor": "white",
             "startlinecolor": "#2a3f5f"
            },
            "type": "carpet"
           }
          ],
          "choropleth": [
           {
            "colorbar": {
             "outlinewidth": 0,
             "ticks": ""
            },
            "type": "choropleth"
           }
          ],
          "contour": [
           {
            "colorbar": {
             "outlinewidth": 0,
             "ticks": ""
            },
            "colorscale": [
             [
              0,
              "#0d0887"
             ],
             [
              0.1111111111111111,
              "#46039f"
             ],
             [
              0.2222222222222222,
              "#7201a8"
             ],
             [
              0.3333333333333333,
              "#9c179e"
             ],
             [
              0.4444444444444444,
              "#bd3786"
             ],
             [
              0.5555555555555556,
              "#d8576b"
             ],
             [
              0.6666666666666666,
              "#ed7953"
             ],
             [
              0.7777777777777778,
              "#fb9f3a"
             ],
             [
              0.8888888888888888,
              "#fdca26"
             ],
             [
              1,
              "#f0f921"
             ]
            ],
            "type": "contour"
           }
          ],
          "contourcarpet": [
           {
            "colorbar": {
             "outlinewidth": 0,
             "ticks": ""
            },
            "type": "contourcarpet"
           }
          ],
          "heatmap": [
           {
            "colorbar": {
             "outlinewidth": 0,
             "ticks": ""
            },
            "colorscale": [
             [
              0,
              "#0d0887"
             ],
             [
              0.1111111111111111,
              "#46039f"
             ],
             [
              0.2222222222222222,
              "#7201a8"
             ],
             [
              0.3333333333333333,
              "#9c179e"
             ],
             [
              0.4444444444444444,
              "#bd3786"
             ],
             [
              0.5555555555555556,
              "#d8576b"
             ],
             [
              0.6666666666666666,
              "#ed7953"
             ],
             [
              0.7777777777777778,
              "#fb9f3a"
             ],
             [
              0.8888888888888888,
              "#fdca26"
             ],
             [
              1,
              "#f0f921"
             ]
            ],
            "type": "heatmap"
           }
          ],
          "heatmapgl": [
           {
            "colorbar": {
             "outlinewidth": 0,
             "ticks": ""
            },
            "colorscale": [
             [
              0,
              "#0d0887"
             ],
             [
              0.1111111111111111,
              "#46039f"
             ],
             [
              0.2222222222222222,
              "#7201a8"
             ],
             [
              0.3333333333333333,
              "#9c179e"
             ],
             [
              0.4444444444444444,
              "#bd3786"
             ],
             [
              0.5555555555555556,
              "#d8576b"
             ],
             [
              0.6666666666666666,
              "#ed7953"
             ],
             [
              0.7777777777777778,
              "#fb9f3a"
             ],
             [
              0.8888888888888888,
              "#fdca26"
             ],
             [
              1,
              "#f0f921"
             ]
            ],
            "type": "heatmapgl"
           }
          ],
          "histogram": [
           {
            "marker": {
             "colorbar": {
              "outlinewidth": 0,
              "ticks": ""
             }
            },
            "type": "histogram"
           }
          ],
          "histogram2d": [
           {
            "colorbar": {
             "outlinewidth": 0,
             "ticks": ""
            },
            "colorscale": [
             [
              0,
              "#0d0887"
             ],
             [
              0.1111111111111111,
              "#46039f"
             ],
             [
              0.2222222222222222,
              "#7201a8"
             ],
             [
              0.3333333333333333,
              "#9c179e"
             ],
             [
              0.4444444444444444,
              "#bd3786"
             ],
             [
              0.5555555555555556,
              "#d8576b"
             ],
             [
              0.6666666666666666,
              "#ed7953"
             ],
             [
              0.7777777777777778,
              "#fb9f3a"
             ],
             [
              0.8888888888888888,
              "#fdca26"
             ],
             [
              1,
              "#f0f921"
             ]
            ],
            "type": "histogram2d"
           }
          ],
          "histogram2dcontour": [
           {
            "colorbar": {
             "outlinewidth": 0,
             "ticks": ""
            },
            "colorscale": [
             [
              0,
              "#0d0887"
             ],
             [
              0.1111111111111111,
              "#46039f"
             ],
             [
              0.2222222222222222,
              "#7201a8"
             ],
             [
              0.3333333333333333,
              "#9c179e"
             ],
             [
              0.4444444444444444,
              "#bd3786"
             ],
             [
              0.5555555555555556,
              "#d8576b"
             ],
             [
              0.6666666666666666,
              "#ed7953"
             ],
             [
              0.7777777777777778,
              "#fb9f3a"
             ],
             [
              0.8888888888888888,
              "#fdca26"
             ],
             [
              1,
              "#f0f921"
             ]
            ],
            "type": "histogram2dcontour"
           }
          ],
          "mesh3d": [
           {
            "colorbar": {
             "outlinewidth": 0,
             "ticks": ""
            },
            "type": "mesh3d"
           }
          ],
          "parcoords": [
           {
            "line": {
             "colorbar": {
              "outlinewidth": 0,
              "ticks": ""
             }
            },
            "type": "parcoords"
           }
          ],
          "pie": [
           {
            "automargin": true,
            "type": "pie"
           }
          ],
          "scatter": [
           {
            "marker": {
             "colorbar": {
              "outlinewidth": 0,
              "ticks": ""
             }
            },
            "type": "scatter"
           }
          ],
          "scatter3d": [
           {
            "line": {
             "colorbar": {
              "outlinewidth": 0,
              "ticks": ""
             }
            },
            "marker": {
             "colorbar": {
              "outlinewidth": 0,
              "ticks": ""
             }
            },
            "type": "scatter3d"
           }
          ],
          "scattercarpet": [
           {
            "marker": {
             "colorbar": {
              "outlinewidth": 0,
              "ticks": ""
             }
            },
            "type": "scattercarpet"
           }
          ],
          "scattergeo": [
           {
            "marker": {
             "colorbar": {
              "outlinewidth": 0,
              "ticks": ""
             }
            },
            "type": "scattergeo"
           }
          ],
          "scattergl": [
           {
            "marker": {
             "colorbar": {
              "outlinewidth": 0,
              "ticks": ""
             }
            },
            "type": "scattergl"
           }
          ],
          "scattermapbox": [
           {
            "marker": {
             "colorbar": {
              "outlinewidth": 0,
              "ticks": ""
             }
            },
            "type": "scattermapbox"
           }
          ],
          "scatterpolar": [
           {
            "marker": {
             "colorbar": {
              "outlinewidth": 0,
              "ticks": ""
             }
            },
            "type": "scatterpolar"
           }
          ],
          "scatterpolargl": [
           {
            "marker": {
             "colorbar": {
              "outlinewidth": 0,
              "ticks": ""
             }
            },
            "type": "scatterpolargl"
           }
          ],
          "scatterternary": [
           {
            "marker": {
             "colorbar": {
              "outlinewidth": 0,
              "ticks": ""
             }
            },
            "type": "scatterternary"
           }
          ],
          "surface": [
           {
            "colorbar": {
             "outlinewidth": 0,
             "ticks": ""
            },
            "colorscale": [
             [
              0,
              "#0d0887"
             ],
             [
              0.1111111111111111,
              "#46039f"
             ],
             [
              0.2222222222222222,
              "#7201a8"
             ],
             [
              0.3333333333333333,
              "#9c179e"
             ],
             [
              0.4444444444444444,
              "#bd3786"
             ],
             [
              0.5555555555555556,
              "#d8576b"
             ],
             [
              0.6666666666666666,
              "#ed7953"
             ],
             [
              0.7777777777777778,
              "#fb9f3a"
             ],
             [
              0.8888888888888888,
              "#fdca26"
             ],
             [
              1,
              "#f0f921"
             ]
            ],
            "type": "surface"
           }
          ],
          "table": [
           {
            "cells": {
             "fill": {
              "color": "#EBF0F8"
             },
             "line": {
              "color": "white"
             }
            },
            "header": {
             "fill": {
              "color": "#C8D4E3"
             },
             "line": {
              "color": "white"
             }
            },
            "type": "table"
           }
          ]
         },
         "layout": {
          "annotationdefaults": {
           "arrowcolor": "#2a3f5f",
           "arrowhead": 0,
           "arrowwidth": 1
          },
          "autotypenumbers": "strict",
          "coloraxis": {
           "colorbar": {
            "outlinewidth": 0,
            "ticks": ""
           }
          },
          "colorscale": {
           "diverging": [
            [
             0,
             "#8e0152"
            ],
            [
             0.1,
             "#c51b7d"
            ],
            [
             0.2,
             "#de77ae"
            ],
            [
             0.3,
             "#f1b6da"
            ],
            [
             0.4,
             "#fde0ef"
            ],
            [
             0.5,
             "#f7f7f7"
            ],
            [
             0.6,
             "#e6f5d0"
            ],
            [
             0.7,
             "#b8e186"
            ],
            [
             0.8,
             "#7fbc41"
            ],
            [
             0.9,
             "#4d9221"
            ],
            [
             1,
             "#276419"
            ]
           ],
           "sequential": [
            [
             0,
             "#0d0887"
            ],
            [
             0.1111111111111111,
             "#46039f"
            ],
            [
             0.2222222222222222,
             "#7201a8"
            ],
            [
             0.3333333333333333,
             "#9c179e"
            ],
            [
             0.4444444444444444,
             "#bd3786"
            ],
            [
             0.5555555555555556,
             "#d8576b"
            ],
            [
             0.6666666666666666,
             "#ed7953"
            ],
            [
             0.7777777777777778,
             "#fb9f3a"
            ],
            [
             0.8888888888888888,
             "#fdca26"
            ],
            [
             1,
             "#f0f921"
            ]
           ],
           "sequentialminus": [
            [
             0,
             "#0d0887"
            ],
            [
             0.1111111111111111,
             "#46039f"
            ],
            [
             0.2222222222222222,
             "#7201a8"
            ],
            [
             0.3333333333333333,
             "#9c179e"
            ],
            [
             0.4444444444444444,
             "#bd3786"
            ],
            [
             0.5555555555555556,
             "#d8576b"
            ],
            [
             0.6666666666666666,
             "#ed7953"
            ],
            [
             0.7777777777777778,
             "#fb9f3a"
            ],
            [
             0.8888888888888888,
             "#fdca26"
            ],
            [
             1,
             "#f0f921"
            ]
           ]
          },
          "colorway": [
           "#636efa",
           "#EF553B",
           "#00cc96",
           "#ab63fa",
           "#FFA15A",
           "#19d3f3",
           "#FF6692",
           "#B6E880",
           "#FF97FF",
           "#FECB52"
          ],
          "font": {
           "color": "#2a3f5f"
          },
          "geo": {
           "bgcolor": "white",
           "lakecolor": "white",
           "landcolor": "#E5ECF6",
           "showlakes": true,
           "showland": true,
           "subunitcolor": "white"
          },
          "hoverlabel": {
           "align": "left"
          },
          "hovermode": "closest",
          "mapbox": {
           "style": "light"
          },
          "paper_bgcolor": "white",
          "plot_bgcolor": "#E5ECF6",
          "polar": {
           "angularaxis": {
            "gridcolor": "white",
            "linecolor": "white",
            "ticks": ""
           },
           "bgcolor": "#E5ECF6",
           "radialaxis": {
            "gridcolor": "white",
            "linecolor": "white",
            "ticks": ""
           }
          },
          "scene": {
           "xaxis": {
            "backgroundcolor": "#E5ECF6",
            "gridcolor": "white",
            "gridwidth": 2,
            "linecolor": "white",
            "showbackground": true,
            "ticks": "",
            "zerolinecolor": "white"
           },
           "yaxis": {
            "backgroundcolor": "#E5ECF6",
            "gridcolor": "white",
            "gridwidth": 2,
            "linecolor": "white",
            "showbackground": true,
            "ticks": "",
            "zerolinecolor": "white"
           },
           "zaxis": {
            "backgroundcolor": "#E5ECF6",
            "gridcolor": "white",
            "gridwidth": 2,
            "linecolor": "white",
            "showbackground": true,
            "ticks": "",
            "zerolinecolor": "white"
           }
          },
          "shapedefaults": {
           "line": {
            "color": "#2a3f5f"
           }
          },
          "ternary": {
           "aaxis": {
            "gridcolor": "white",
            "linecolor": "white",
            "ticks": ""
           },
           "baxis": {
            "gridcolor": "white",
            "linecolor": "white",
            "ticks": ""
           },
           "bgcolor": "#E5ECF6",
           "caxis": {
            "gridcolor": "white",
            "linecolor": "white",
            "ticks": ""
           }
          },
          "title": {
           "x": 0.05
          },
          "xaxis": {
           "automargin": true,
           "gridcolor": "white",
           "linecolor": "white",
           "ticks": "",
           "title": {
            "standoff": 15
           },
           "zerolinecolor": "white",
           "zerolinewidth": 2
          },
          "yaxis": {
           "automargin": true,
           "gridcolor": "white",
           "linecolor": "white",
           "ticks": "",
           "title": {
            "standoff": 15
           },
           "zerolinecolor": "white",
           "zerolinewidth": 2
          }
         }
        },
        "xaxis": {
         "anchor": "y",
         "categoryarray": [
          "NBA",
          "WNBA"
         ],
         "categoryorder": "array",
         "domain": [
          0,
          1
         ],
         "title": {
          "text": "League"
         }
        },
        "yaxis": {
         "anchor": "x",
         "domain": [
          0,
          1
         ],
         "title": {
          "text": "salary_ratio"
         }
        }
       }
      }
     },
     "metadata": {}
    }
   ],
   "source": [
    "fig = px.box(df, x=\"League\", y=\"salary_ratio\", color=\"League\", points=\"all\")\n",
    "fig.show()"
   ]
  },
  {
   "cell_type": "code",
   "execution_count": 3,
   "metadata": {},
   "outputs": [
    {
     "output_type": "display_data",
     "data": {
      "application/vnd.plotly.v1+json": {
       "config": {
        "plotlyServerURL": "https://plot.ly"
       },
       "data": [
        {
         "alignmentgroup": "True",
         "boxpoints": "all",
         "customdata": [
          [
           "$42,782,880  ",
           0.0057799999999999995
          ],
          [
           "$42,782,880  ",
           0.0057799999999999995
          ],
          [
           "$41,358,814  ",
           0.0055899999999999995
          ],
          [
           "$41,063,925  ",
           0.00555
          ],
          [
           "$40,231,758  ",
           0.0054399999999999995
          ],
          [
           "$39,932,648  ",
           0.0054
          ],
          [
           "$38,328,212  ",
           0.00518
          ],
          [
           "$37,980,720  ",
           0.00513
          ],
          [
           "$36,000,000  ",
           0.00486
          ],
          [
           "$35,500,000  ",
           0.0048
          ],
          [
           "$35,448,672  ",
           0.00479
          ],
          [
           "$35,197,650  ",
           0.00476
          ],
          [
           "$35,197,650  ",
           0.00476
          ],
          [
           "$34,379,100  ",
           0.00465
          ],
          [
           "$34,227,984  ",
           0.00463
          ],
          [
           "$34,226,304  ",
           0.00463
          ],
          [
           "$34,122,650  ",
           0.00461
          ],
          [
           "$31,650,600  ",
           0.00428
          ],
          [
           "$31,650,600  ",
           0.00428
          ],
          [
           "$31,650,600  ",
           0.00428
          ],
          [
           "$31,650,600  ",
           0.00428
          ],
          [
           "$30,521,116  ",
           0.00412
          ],
          [
           "$30,500,000  ",
           0.00412
          ],
          [
           "$30,100,543  ",
           0.004070000000000001
          ],
          [
           "$30,000,000  ",
           0.00405
          ],
          [
           "$29,542,010  ",
           0.00399
          ],
          [
           "$29,542,010  ",
           0.00399
          ],
          [
           "$29,331,375  ",
           0.00396
          ],
          [
           "$27,977,689  ",
           0.0037799999999999995
          ],
          [
           "$27,800,000  ",
           0.0037600000000000003
          ],
          [
           "$27,250,000  ",
           0.0036799999999999997
          ],
          [
           "$26,583,334  ",
           0.00359
          ],
          [
           "$25,500,000  ",
           0.00345
          ],
          [
           "$25,434,263  ",
           0.00344
          ],
          [
           "$25,200,000  ",
           0.0034100000000000003
          ],
          [
           "$25,000,000  ",
           0.0033799999999999998
          ],
          [
           "$25,000,000  ",
           0.0033799999999999998
          ],
          [
           "$24,916,591  ",
           0.00337
          ],
          [
           "$23,500,000  ",
           0.00318
          ],
          [
           "$21,250,000  ",
           0.0028699999999999997
          ],
          [
           "$21,250,000  ",
           0.0028699999999999997
          ],
          [
           "$21,250,000  ",
           0.0028699999999999997
          ],
          [
           "$21,250,000  ",
           0.0028699999999999997
          ],
          [
           "$21,000,000  ",
           0.0028399999999999996
          ],
          [
           "$20,700,000  ",
           0.0028
          ],
          [
           "$20,475,000  ",
           0.00277
          ],
          [
           "$20,002,500  ",
           0.0027
          ],
          [
           "$20,000,000  ",
           0.0027
          ],
          [
           "$20,000,000  ",
           0.0027
          ],
          [
           "$19,500,000  ",
           0.00264
          ],
          [
           "$18,900,000  ",
           0.00255
          ],
          [
           "$18,893,589  ",
           0.00255
          ],
          [
           "$18,750,000  ",
           0.00253
          ],
          [
           "$18,725,000  ",
           0.00253
          ],
          [
           "$18,000,000  ",
           0.00243
          ],
          [
           "$17,737,500  ",
           0.0024
          ],
          [
           "$17,500,000  ",
           0.00236
          ],
          [
           "$17,500,000  ",
           0.00236
          ],
          [
           "$17,500,000  ",
           0.00236
          ],
          [
           "$17,000,000  ",
           0.0023
          ],
          [
           "$17,000,000  ",
           0.0023
          ],
          [
           "$16,000,000  ",
           0.00216
          ],
          [
           "$15,955,000  ",
           0.00216
          ],
          [
           "$15,000,000  ",
           0.00203
          ],
          [
           "$15,000,000  ",
           0.00203
          ],
          [
           "$15,000,000  ",
           0.00203
          ],
          [
           "$15,000,000  ",
           0.00203
          ],
          [
           "$14,545,000  ",
           0.00197
          ],
          [
           "$14,431,700  ",
           0.00195
          ],
          [
           "$14,000,000  ",
           0.0018899999999999998
          ],
          [
           "$13,666,667  ",
           0.00185
          ],
          [
           "$13,500,000  ",
           0.00182
          ],
          [
           "$13,333,327  ",
           0.0018
          ],
          [
           "$13,250,000  ",
           0.00179
          ],
          [
           "$13,250,000  ",
           0.00179
          ],
          [
           "$13,038,862  ",
           0.00176
          ],
          [
           "$13,000,000  ",
           0.00176
          ],
          [
           "$13,000,000  ",
           0.00176
          ],
          [
           "$13,000,000  ",
           0.00176
          ],
          [
           "$12,999,975  ",
           0.00176
          ],
          [
           "$12,880,000  ",
           0.0017399999999999998
          ],
          [
           "$12,724,946  ",
           0.00172
          ],
          [
           "$12,625,000  ",
           0.0017100000000000001
          ],
          [
           "$12,500,000  ",
           0.0016899999999999999
          ],
          [
           "$12,500,000  ",
           0.0016899999999999999
          ],
          [
           "$12,400,000  ",
           0.00168
          ]
         ],
         "hovertemplate": "League=NBA<br>Position=%{x}<br>FG%=%{y}<br>Avg_Salary=%{customdata[0]}<br>salary_ratio=%{customdata[1]}<extra></extra>",
         "legendgroup": "NBA",
         "marker": {
          "color": "#636efa"
         },
         "name": "NBA",
         "notched": false,
         "offsetgroup": "NBA",
         "orientation": "v",
         "showlegend": true,
         "type": "box",
         "x": [
          "G",
          "G",
          "G",
          "F",
          "G",
          "G",
          "F",
          "F",
          "F",
          "F",
          "G",
          "F",
          "G",
          "F",
          "G",
          "F",
          "G",
          "G",
          "F",
          "G",
          "C",
          "G",
          "G",
          "F",
          "F",
          "C",
          "F",
          "G",
          "G",
          "G",
          "F",
          "G",
          "C",
          "G",
          "G",
          "F",
          "C",
          "F",
          "G",
          "F",
          "G",
          "G",
          "G",
          "G",
          "F",
          "F",
          "F",
          "C",
          "F",
          "G",
          "G",
          "G",
          "G",
          "F",
          "C",
          "G",
          "G",
          "G",
          "G",
          "G",
          "G",
          "F",
          "G",
          "F",
          "G",
          "G",
          "F",
          "F",
          "F",
          "C",
          "F",
          "G",
          "G",
          "G",
          "F",
          "G",
          "F",
          "C",
          "F",
          "G",
          "G",
          "F",
          "F",
          "F",
          "F",
          "G"
         ],
         "x0": " ",
         "xaxis": "x",
         "y": [
          0.40299999999999997,
          0.46299999999999997,
          0.436,
          0.5429999999999999,
          0.486,
          0.48700000000000004,
          0.513,
          0.5329999999999999,
          0.521,
          0.479,
          0.545,
          0.494,
          0.401,
          0.516,
          0.483,
          0.45399999999999996,
          0.513,
          0.47700000000000004,
          0.46799999999999997,
          0.48200000000000004,
          0.49,
          0.447,
          0.435,
          0.40299999999999997,
          0.473,
          0.515,
          0.47200000000000003,
          0.441,
          0.439,
          0.49200000000000005,
          0.45,
          0.496,
          0.6729999999999999,
          0.48200000000000004,
          0.506,
          0.564,
          0.62,
          0.418,
          0.40399999999999997,
          0.494,
          0.391,
          0.455,
          0.408,
          0.423,
          0.46,
          0.425,
          0.43,
          0.47700000000000004,
          0.46,
          0.506,
          0.46799999999999997,
          0.433,
          0.515,
          0.52,
          0.604,
          0.44,
          0.40700000000000003,
          0.434,
          0.431,
          0.457,
          0.38,
          0.414,
          0.451,
          0.385,
          0.423,
          0.44,
          0.439,
          0.574,
          0.442,
          0.54,
          0.529,
          0.41200000000000003,
          0.43200000000000005,
          0.405,
          0.426,
          0.429,
          0.348,
          0.483,
          0.525,
          0.41100000000000003,
          0.424,
          0.502,
          0.401,
          0.385,
          0.48100000000000004,
          0.46299999999999997
         ],
         "y0": " ",
         "yaxis": "y"
        },
        {
         "alignmentgroup": "True",
         "boxpoints": "all",
         "customdata": [
          [
           "$224,870  ",
           0.00375
          ],
          [
           "$224,870  ",
           0.00375
          ],
          [
           "$224,772  ",
           0.00375
          ],
          [
           "$224,675  ",
           0.00374
          ],
          [
           "$221,515  ",
           0.0036899999999999997
          ],
          [
           "$221,450  ",
           0.0036899999999999997
          ],
          [
           "$209,000  ",
           0.0034799999999999996
          ],
          [
           "$203,000  ",
           0.0033799999999999998
          ],
          [
           "$197,000  ",
           0.00328
          ],
          [
           "$196,267  ",
           0.0032700000000000003
          ],
          [
           "$196,267  ",
           0.0032700000000000003
          ],
          [
           "$196,267  ",
           0.0032700000000000003
          ],
          [
           "$193,409  ",
           0.00322
          ],
          [
           "$193,409  ",
           0.00322
          ],
          [
           "$192,500  ",
           0.00321
          ],
          [
           "$190,550  ",
           0.00318
          ],
          [
           "$190,517  ",
           0.00318
          ],
          [
           "$188,333  ",
           0.00314
          ],
          [
           "$187,750  ",
           0.00313
          ],
          [
           "$187,750  ",
           0.00313
          ],
          [
           "$187,750  ",
           0.00313
          ],
          [
           "$183,000  ",
           0.00305
          ],
          [
           "$177,625  ",
           0.00296
          ],
          [
           "$175,067  ",
           0.00292
          ],
          [
           "$172,550  ",
           0.00288
          ],
          [
           "$172,500  ",
           0.00288
          ],
          [
           "$170,000  ",
           0.00283
          ],
          [
           "$165,000  ",
           0.00275
          ],
          [
           "$164,800  ",
           0.00275
          ],
          [
           "$159,867  ",
           0.00266
          ],
          [
           "$155,000  ",
           0.0025800000000000003
          ],
          [
           "$154,455  ",
           0.00257
          ],
          [
           "$150,350  ",
           0.00251
          ],
          [
           "$144,242  ",
           0.0024
          ],
          [
           "$142,100  ",
           0.00237
          ],
          [
           "$125,250  ",
           0.00209
          ],
          [
           "$120,000  ",
           0.002
          ],
          [
           "$120,000  ",
           0.002
          ],
          [
           "$119,500  ",
           0.00199
          ],
          [
           "$119,500  ",
           0.00199
          ],
          [
           "$117,000  ",
           0.00195
          ],
          [
           "$116,000  ",
           0.00193
          ],
          [
           "$115,627  ",
           0.00193
          ],
          [
           "$115,000  ",
           0.0019199999999999998
          ],
          [
           "$111,650  ",
           0.00186
          ],
          [
           "$110,000  ",
           0.00183
          ],
          [
           "$105,000  ",
           0.00175
          ],
          [
           "$101,985  ",
           0.0017
          ],
          [
           "$101,500  ",
           0.0016899999999999999
          ],
          [
           "$91,250  ",
           0.0015199999999999999
          ],
          [
           "$90,000  ",
           0.0015
          ],
          [
           "$85,000  ",
           0.0014199999999999998
          ],
          [
           "$76,800  ",
           0.00128
          ],
          [
           "$75,000  ",
           0.00125
          ],
          [
           "$73,000  ",
           0.00122
          ],
          [
           "$71,633  ",
           0.00119
          ],
          [
           "$71,199  ",
           0.00119
          ],
          [
           "$71,199  ",
           0.00119
          ],
          [
           "$71,199  ",
           0.00119
          ],
          [
           "$71,199  ",
           0.00119
          ],
          [
           "$70,040  ",
           0.00117
          ],
          [
           "$70,040  ",
           0.00117
          ],
          [
           "$70,040  ",
           0.00117
          ],
          [
           "$70,040  ",
           0.00117
          ],
          [
           "$70,040  ",
           0.00117
          ],
          [
           "$70,040  ",
           0.00117
          ],
          [
           "$70,040  ",
           0.00117
          ],
          [
           "$70,040  ",
           0.00117
          ],
          [
           "$68,339  ",
           0.00114
          ],
          [
           "$68,339  ",
           0.00114
          ],
          [
           "$68,339  ",
           0.00114
          ],
          [
           "$68,339  ",
           0.00114
          ],
          [
           "$65,459  ",
           0.00109
          ],
          [
           "$65,459  ",
           0.00109
          ],
          [
           "$65,459  ",
           0.00109
          ]
         ],
         "hovertemplate": "League=WNBA<br>Position=%{x}<br>FG%=%{y}<br>Avg_Salary=%{customdata[0]}<br>salary_ratio=%{customdata[1]}<extra></extra>",
         "legendgroup": "WNBA",
         "marker": {
          "color": "#EF553B"
         },
         "name": "WNBA",
         "notched": false,
         "offsetgroup": "WNBA",
         "orientation": "v",
         "showlegend": true,
         "type": "box",
         "x": [
          "F",
          "G",
          "G",
          "F",
          "C",
          "G",
          "F",
          "G",
          "G",
          "G",
          "F",
          "G",
          "F",
          "G",
          "F",
          "F",
          "G",
          "G",
          "G",
          "F",
          "F",
          "F",
          "C",
          "G",
          "F",
          "G",
          "F",
          "G",
          "G",
          "C",
          "G",
          "F",
          "G",
          "G",
          "F",
          "G",
          "C",
          "G",
          "G",
          "G",
          "F",
          "C",
          "C",
          "G",
          "G",
          "C",
          "F",
          "F",
          "G",
          "G",
          "G",
          "G",
          "G",
          "G",
          "F",
          "C",
          "G",
          "F",
          "F",
          "G",
          "C",
          "F",
          "G",
          "G",
          "G",
          "F",
          "F",
          "G",
          "G",
          "G",
          "F",
          "F",
          "G",
          "F",
          "F"
         ],
         "x0": " ",
         "xaxis": "x",
         "y": [
          0.422,
          0.474,
          0.409,
          0.53,
          0.4970000000000001,
          0.494,
          0.5,
          0.491,
          0.448,
          0.425,
          0.464,
          0.481,
          0.569,
          0.442,
          0.51,
          0.5539999999999999,
          0.42,
          0.404,
          0.436,
          0.451,
          0.518,
          0.5579999999999999,
          0.486,
          0.409,
          0.341,
          0.438,
          0.462,
          0.496,
          0.464,
          0.496,
          0.512,
          0.447,
          0.443,
          0.34600000000000003,
          0.408,
          0.408,
          0.605,
          0.465,
          0.293,
          0.443,
          0.539,
          0.489,
          0.609,
          0.386,
          0.487,
          0.488,
          0.464,
          0.429,
          0.462,
          0.435,
          0.267,
          0.429,
          0.505,
          0.404,
          0.35600000000000004,
          0.3720000000000001,
          0.452,
          0.368,
          0.419,
          0.473,
          0.35100000000000003,
          0.421,
          0.491,
          0.6,
          0.35700000000000004,
          0.379,
          null,
          0.424,
          0.364,
          0.433,
          0.366,
          0.682,
          0.404,
          0.358,
          0.321
         ],
         "y0": " ",
         "yaxis": "y"
        }
       ],
       "layout": {
        "boxmode": "group",
        "legend": {
         "title": {
          "text": "League"
         },
         "tracegroupgap": 0
        },
        "margin": {
         "t": 60
        },
        "template": {
         "data": {
          "bar": [
           {
            "error_x": {
             "color": "#2a3f5f"
            },
            "error_y": {
             "color": "#2a3f5f"
            },
            "marker": {
             "line": {
              "color": "#E5ECF6",
              "width": 0.5
             }
            },
            "type": "bar"
           }
          ],
          "barpolar": [
           {
            "marker": {
             "line": {
              "color": "#E5ECF6",
              "width": 0.5
             }
            },
            "type": "barpolar"
           }
          ],
          "carpet": [
           {
            "aaxis": {
             "endlinecolor": "#2a3f5f",
             "gridcolor": "white",
             "linecolor": "white",
             "minorgridcolor": "white",
             "startlinecolor": "#2a3f5f"
            },
            "baxis": {
             "endlinecolor": "#2a3f5f",
             "gridcolor": "white",
             "linecolor": "white",
             "minorgridcolor": "white",
             "startlinecolor": "#2a3f5f"
            },
            "type": "carpet"
           }
          ],
          "choropleth": [
           {
            "colorbar": {
             "outlinewidth": 0,
             "ticks": ""
            },
            "type": "choropleth"
           }
          ],
          "contour": [
           {
            "colorbar": {
             "outlinewidth": 0,
             "ticks": ""
            },
            "colorscale": [
             [
              0,
              "#0d0887"
             ],
             [
              0.1111111111111111,
              "#46039f"
             ],
             [
              0.2222222222222222,
              "#7201a8"
             ],
             [
              0.3333333333333333,
              "#9c179e"
             ],
             [
              0.4444444444444444,
              "#bd3786"
             ],
             [
              0.5555555555555556,
              "#d8576b"
             ],
             [
              0.6666666666666666,
              "#ed7953"
             ],
             [
              0.7777777777777778,
              "#fb9f3a"
             ],
             [
              0.8888888888888888,
              "#fdca26"
             ],
             [
              1,
              "#f0f921"
             ]
            ],
            "type": "contour"
           }
          ],
          "contourcarpet": [
           {
            "colorbar": {
             "outlinewidth": 0,
             "ticks": ""
            },
            "type": "contourcarpet"
           }
          ],
          "heatmap": [
           {
            "colorbar": {
             "outlinewidth": 0,
             "ticks": ""
            },
            "colorscale": [
             [
              0,
              "#0d0887"
             ],
             [
              0.1111111111111111,
              "#46039f"
             ],
             [
              0.2222222222222222,
              "#7201a8"
             ],
             [
              0.3333333333333333,
              "#9c179e"
             ],
             [
              0.4444444444444444,
              "#bd3786"
             ],
             [
              0.5555555555555556,
              "#d8576b"
             ],
             [
              0.6666666666666666,
              "#ed7953"
             ],
             [
              0.7777777777777778,
              "#fb9f3a"
             ],
             [
              0.8888888888888888,
              "#fdca26"
             ],
             [
              1,
              "#f0f921"
             ]
            ],
            "type": "heatmap"
           }
          ],
          "heatmapgl": [
           {
            "colorbar": {
             "outlinewidth": 0,
             "ticks": ""
            },
            "colorscale": [
             [
              0,
              "#0d0887"
             ],
             [
              0.1111111111111111,
              "#46039f"
             ],
             [
              0.2222222222222222,
              "#7201a8"
             ],
             [
              0.3333333333333333,
              "#9c179e"
             ],
             [
              0.4444444444444444,
              "#bd3786"
             ],
             [
              0.5555555555555556,
              "#d8576b"
             ],
             [
              0.6666666666666666,
              "#ed7953"
             ],
             [
              0.7777777777777778,
              "#fb9f3a"
             ],
             [
              0.8888888888888888,
              "#fdca26"
             ],
             [
              1,
              "#f0f921"
             ]
            ],
            "type": "heatmapgl"
           }
          ],
          "histogram": [
           {
            "marker": {
             "colorbar": {
              "outlinewidth": 0,
              "ticks": ""
             }
            },
            "type": "histogram"
           }
          ],
          "histogram2d": [
           {
            "colorbar": {
             "outlinewidth": 0,
             "ticks": ""
            },
            "colorscale": [
             [
              0,
              "#0d0887"
             ],
             [
              0.1111111111111111,
              "#46039f"
             ],
             [
              0.2222222222222222,
              "#7201a8"
             ],
             [
              0.3333333333333333,
              "#9c179e"
             ],
             [
              0.4444444444444444,
              "#bd3786"
             ],
             [
              0.5555555555555556,
              "#d8576b"
             ],
             [
              0.6666666666666666,
              "#ed7953"
             ],
             [
              0.7777777777777778,
              "#fb9f3a"
             ],
             [
              0.8888888888888888,
              "#fdca26"
             ],
             [
              1,
              "#f0f921"
             ]
            ],
            "type": "histogram2d"
           }
          ],
          "histogram2dcontour": [
           {
            "colorbar": {
             "outlinewidth": 0,
             "ticks": ""
            },
            "colorscale": [
             [
              0,
              "#0d0887"
             ],
             [
              0.1111111111111111,
              "#46039f"
             ],
             [
              0.2222222222222222,
              "#7201a8"
             ],
             [
              0.3333333333333333,
              "#9c179e"
             ],
             [
              0.4444444444444444,
              "#bd3786"
             ],
             [
              0.5555555555555556,
              "#d8576b"
             ],
             [
              0.6666666666666666,
              "#ed7953"
             ],
             [
              0.7777777777777778,
              "#fb9f3a"
             ],
             [
              0.8888888888888888,
              "#fdca26"
             ],
             [
              1,
              "#f0f921"
             ]
            ],
            "type": "histogram2dcontour"
           }
          ],
          "mesh3d": [
           {
            "colorbar": {
             "outlinewidth": 0,
             "ticks": ""
            },
            "type": "mesh3d"
           }
          ],
          "parcoords": [
           {
            "line": {
             "colorbar": {
              "outlinewidth": 0,
              "ticks": ""
             }
            },
            "type": "parcoords"
           }
          ],
          "pie": [
           {
            "automargin": true,
            "type": "pie"
           }
          ],
          "scatter": [
           {
            "marker": {
             "colorbar": {
              "outlinewidth": 0,
              "ticks": ""
             }
            },
            "type": "scatter"
           }
          ],
          "scatter3d": [
           {
            "line": {
             "colorbar": {
              "outlinewidth": 0,
              "ticks": ""
             }
            },
            "marker": {
             "colorbar": {
              "outlinewidth": 0,
              "ticks": ""
             }
            },
            "type": "scatter3d"
           }
          ],
          "scattercarpet": [
           {
            "marker": {
             "colorbar": {
              "outlinewidth": 0,
              "ticks": ""
             }
            },
            "type": "scattercarpet"
           }
          ],
          "scattergeo": [
           {
            "marker": {
             "colorbar": {
              "outlinewidth": 0,
              "ticks": ""
             }
            },
            "type": "scattergeo"
           }
          ],
          "scattergl": [
           {
            "marker": {
             "colorbar": {
              "outlinewidth": 0,
              "ticks": ""
             }
            },
            "type": "scattergl"
           }
          ],
          "scattermapbox": [
           {
            "marker": {
             "colorbar": {
              "outlinewidth": 0,
              "ticks": ""
             }
            },
            "type": "scattermapbox"
           }
          ],
          "scatterpolar": [
           {
            "marker": {
             "colorbar": {
              "outlinewidth": 0,
              "ticks": ""
             }
            },
            "type": "scatterpolar"
           }
          ],
          "scatterpolargl": [
           {
            "marker": {
             "colorbar": {
              "outlinewidth": 0,
              "ticks": ""
             }
            },
            "type": "scatterpolargl"
           }
          ],
          "scatterternary": [
           {
            "marker": {
             "colorbar": {
              "outlinewidth": 0,
              "ticks": ""
             }
            },
            "type": "scatterternary"
           }
          ],
          "surface": [
           {
            "colorbar": {
             "outlinewidth": 0,
             "ticks": ""
            },
            "colorscale": [
             [
              0,
              "#0d0887"
             ],
             [
              0.1111111111111111,
              "#46039f"
             ],
             [
              0.2222222222222222,
              "#7201a8"
             ],
             [
              0.3333333333333333,
              "#9c179e"
             ],
             [
              0.4444444444444444,
              "#bd3786"
             ],
             [
              0.5555555555555556,
              "#d8576b"
             ],
             [
              0.6666666666666666,
              "#ed7953"
             ],
             [
              0.7777777777777778,
              "#fb9f3a"
             ],
             [
              0.8888888888888888,
              "#fdca26"
             ],
             [
              1,
              "#f0f921"
             ]
            ],
            "type": "surface"
           }
          ],
          "table": [
           {
            "cells": {
             "fill": {
              "color": "#EBF0F8"
             },
             "line": {
              "color": "white"
             }
            },
            "header": {
             "fill": {
              "color": "#C8D4E3"
             },
             "line": {
              "color": "white"
             }
            },
            "type": "table"
           }
          ]
         },
         "layout": {
          "annotationdefaults": {
           "arrowcolor": "#2a3f5f",
           "arrowhead": 0,
           "arrowwidth": 1
          },
          "autotypenumbers": "strict",
          "coloraxis": {
           "colorbar": {
            "outlinewidth": 0,
            "ticks": ""
           }
          },
          "colorscale": {
           "diverging": [
            [
             0,
             "#8e0152"
            ],
            [
             0.1,
             "#c51b7d"
            ],
            [
             0.2,
             "#de77ae"
            ],
            [
             0.3,
             "#f1b6da"
            ],
            [
             0.4,
             "#fde0ef"
            ],
            [
             0.5,
             "#f7f7f7"
            ],
            [
             0.6,
             "#e6f5d0"
            ],
            [
             0.7,
             "#b8e186"
            ],
            [
             0.8,
             "#7fbc41"
            ],
            [
             0.9,
             "#4d9221"
            ],
            [
             1,
             "#276419"
            ]
           ],
           "sequential": [
            [
             0,
             "#0d0887"
            ],
            [
             0.1111111111111111,
             "#46039f"
            ],
            [
             0.2222222222222222,
             "#7201a8"
            ],
            [
             0.3333333333333333,
             "#9c179e"
            ],
            [
             0.4444444444444444,
             "#bd3786"
            ],
            [
             0.5555555555555556,
             "#d8576b"
            ],
            [
             0.6666666666666666,
             "#ed7953"
            ],
            [
             0.7777777777777778,
             "#fb9f3a"
            ],
            [
             0.8888888888888888,
             "#fdca26"
            ],
            [
             1,
             "#f0f921"
            ]
           ],
           "sequentialminus": [
            [
             0,
             "#0d0887"
            ],
            [
             0.1111111111111111,
             "#46039f"
            ],
            [
             0.2222222222222222,
             "#7201a8"
            ],
            [
             0.3333333333333333,
             "#9c179e"
            ],
            [
             0.4444444444444444,
             "#bd3786"
            ],
            [
             0.5555555555555556,
             "#d8576b"
            ],
            [
             0.6666666666666666,
             "#ed7953"
            ],
            [
             0.7777777777777778,
             "#fb9f3a"
            ],
            [
             0.8888888888888888,
             "#fdca26"
            ],
            [
             1,
             "#f0f921"
            ]
           ]
          },
          "colorway": [
           "#636efa",
           "#EF553B",
           "#00cc96",
           "#ab63fa",
           "#FFA15A",
           "#19d3f3",
           "#FF6692",
           "#B6E880",
           "#FF97FF",
           "#FECB52"
          ],
          "font": {
           "color": "#2a3f5f"
          },
          "geo": {
           "bgcolor": "white",
           "lakecolor": "white",
           "landcolor": "#E5ECF6",
           "showlakes": true,
           "showland": true,
           "subunitcolor": "white"
          },
          "hoverlabel": {
           "align": "left"
          },
          "hovermode": "closest",
          "mapbox": {
           "style": "light"
          },
          "paper_bgcolor": "white",
          "plot_bgcolor": "#E5ECF6",
          "polar": {
           "angularaxis": {
            "gridcolor": "white",
            "linecolor": "white",
            "ticks": ""
           },
           "bgcolor": "#E5ECF6",
           "radialaxis": {
            "gridcolor": "white",
            "linecolor": "white",
            "ticks": ""
           }
          },
          "scene": {
           "xaxis": {
            "backgroundcolor": "#E5ECF6",
            "gridcolor": "white",
            "gridwidth": 2,
            "linecolor": "white",
            "showbackground": true,
            "ticks": "",
            "zerolinecolor": "white"
           },
           "yaxis": {
            "backgroundcolor": "#E5ECF6",
            "gridcolor": "white",
            "gridwidth": 2,
            "linecolor": "white",
            "showbackground": true,
            "ticks": "",
            "zerolinecolor": "white"
           },
           "zaxis": {
            "backgroundcolor": "#E5ECF6",
            "gridcolor": "white",
            "gridwidth": 2,
            "linecolor": "white",
            "showbackground": true,
            "ticks": "",
            "zerolinecolor": "white"
           }
          },
          "shapedefaults": {
           "line": {
            "color": "#2a3f5f"
           }
          },
          "ternary": {
           "aaxis": {
            "gridcolor": "white",
            "linecolor": "white",
            "ticks": ""
           },
           "baxis": {
            "gridcolor": "white",
            "linecolor": "white",
            "ticks": ""
           },
           "bgcolor": "#E5ECF6",
           "caxis": {
            "gridcolor": "white",
            "linecolor": "white",
            "ticks": ""
           }
          },
          "title": {
           "x": 0.05
          },
          "xaxis": {
           "automargin": true,
           "gridcolor": "white",
           "linecolor": "white",
           "ticks": "",
           "title": {
            "standoff": 15
           },
           "zerolinecolor": "white",
           "zerolinewidth": 2
          },
          "yaxis": {
           "automargin": true,
           "gridcolor": "white",
           "linecolor": "white",
           "ticks": "",
           "title": {
            "standoff": 15
           },
           "zerolinecolor": "white",
           "zerolinewidth": 2
          }
         }
        },
        "xaxis": {
         "anchor": "y",
         "domain": [
          0,
          1
         ],
         "title": {
          "text": "Position"
         }
        },
        "yaxis": {
         "anchor": "x",
         "domain": [
          0,
          1
         ],
         "title": {
          "text": "FG%"
         }
        }
       }
      }
     },
     "metadata": {}
    }
   ],
   "source": [
    "fig = px.box(df, x= \"Position\", y=\"FG%\", color=\"League\", hover_data=['Avg_Salary', 'salary_ratio'], points=\"all\")\n",
    "\n",
    "fig.show()"
   ]
  },
  {
   "cell_type": "code",
   "execution_count": 6,
   "metadata": {},
   "outputs": [
    {
     "output_type": "display_data",
     "data": {
      "application/vnd.plotly.v1+json": {
       "config": {
        "plotlyServerURL": "https://plot.ly"
       },
       "data": [
        {
         "dimensions": [
          {
           "axis": {
            "matches": true
           },
           "label": "salary_ratio",
           "values": [
            0.0057799999999999995,
            0.0057799999999999995,
            0.0055899999999999995,
            0.00555,
            0.0054399999999999995,
            0.0054,
            0.00518,
            0.00513,
            0.00486,
            0.0048,
            0.00479,
            0.00476,
            0.00476,
            0.00465,
            0.00463,
            0.00463,
            0.00461,
            0.00428,
            0.00428,
            0.00428,
            0.00428,
            0.00412,
            0.00412,
            0.004070000000000001,
            0.00405,
            0.00399,
            0.00399,
            0.00396,
            0.0037799999999999995,
            0.0037600000000000003,
            0.0036799999999999997,
            0.00359,
            0.00345,
            0.00344,
            0.0034100000000000003,
            0.0033799999999999998,
            0.0033799999999999998,
            0.00337,
            0.00318,
            0.0028699999999999997,
            0.0028699999999999997,
            0.0028699999999999997,
            0.0028699999999999997,
            0.0028399999999999996,
            0.0028,
            0.00277,
            0.0027,
            0.0027,
            0.0027,
            0.00264,
            0.00255,
            0.00255,
            0.00253,
            0.00253,
            0.00243,
            0.0024,
            0.00236,
            0.00236,
            0.00236,
            0.0023,
            0.0023,
            0.00216,
            0.00216,
            0.00203,
            0.00203,
            0.00203,
            0.00203,
            0.00197,
            0.00195,
            0.0018899999999999998,
            0.00185,
            0.00182,
            0.0018,
            0.00179,
            0.00179,
            0.00176,
            0.00176,
            0.00176,
            0.00176,
            0.00176,
            0.0017399999999999998,
            0.00172,
            0.0017100000000000001,
            0.0016899999999999999,
            0.0016899999999999999,
            0.00168
           ]
          },
          {
           "axis": {
            "matches": true
           },
           "label": "FG%",
           "values": [
            0.40299999999999997,
            0.46299999999999997,
            0.436,
            0.5429999999999999,
            0.486,
            0.48700000000000004,
            0.513,
            0.5329999999999999,
            0.521,
            0.479,
            0.545,
            0.494,
            0.401,
            0.516,
            0.483,
            0.45399999999999996,
            0.513,
            0.47700000000000004,
            0.46799999999999997,
            0.48200000000000004,
            0.49,
            0.447,
            0.435,
            0.40299999999999997,
            0.473,
            0.515,
            0.47200000000000003,
            0.441,
            0.439,
            0.49200000000000005,
            0.45,
            0.496,
            0.6729999999999999,
            0.48200000000000004,
            0.506,
            0.564,
            0.62,
            0.418,
            0.40399999999999997,
            0.494,
            0.391,
            0.455,
            0.408,
            0.423,
            0.46,
            0.425,
            0.43,
            0.47700000000000004,
            0.46,
            0.506,
            0.46799999999999997,
            0.433,
            0.515,
            0.52,
            0.604,
            0.44,
            0.40700000000000003,
            0.434,
            0.431,
            0.457,
            0.38,
            0.414,
            0.451,
            0.385,
            0.423,
            0.44,
            0.439,
            0.574,
            0.442,
            0.54,
            0.529,
            0.41200000000000003,
            0.43200000000000005,
            0.405,
            0.426,
            0.429,
            0.348,
            0.483,
            0.525,
            0.41100000000000003,
            0.424,
            0.502,
            0.401,
            0.385,
            0.48100000000000004,
            0.46299999999999997
           ]
          },
          {
           "axis": {
            "matches": true
           },
           "label": "3P%",
           "values": [
            0.322,
            0.358,
            0.31,
            0.462,
            0.425,
            0.375,
            0.368,
            0.293,
            0.40700000000000003,
            0.426,
            0.3,
            0.22899999999999998,
            0.345,
            0.39299999999999996,
            0.43200000000000005,
            0.285,
            0.391,
            0.408,
            0.382,
            0.344,
            0.4,
            0.41200000000000003,
            0.389,
            0.326,
            0.415,
            0.387,
            0.379,
            0.41200000000000003,
            0.375,
            0.26899999999999996,
            0.368,
            0.40399999999999997,
            0,
            0.34299999999999997,
            0.40399999999999997,
            0.297,
            0,
            0.255,
            0.385,
            0.379,
            0.369,
            0.39299999999999996,
            0.326,
            0.341,
            0.41,
            0.40700000000000003,
            0.35700000000000004,
            0.335,
            0.354,
            0.41600000000000004,
            0.405,
            0.32899999999999996,
            0.48200000000000004,
            0.302,
            null,
            0.385,
            0.34600000000000003,
            0.34299999999999997,
            0.305,
            0.39799999999999996,
            0.305,
            0.373,
            0.33299999999999996,
            0.32899999999999996,
            0.418,
            0.39899999999999997,
            0.318,
            0.265,
            0.26,
            0.12,
            0.38,
            0.337,
            0.41600000000000004,
            0.376,
            0.381,
            0.42,
            0.122,
            0.348,
            0.494,
            0.355,
            0.35,
            0.354,
            0.4,
            0.365,
            0.33899999999999997,
            0.336
           ]
          },
          {
           "axis": {
            "matches": true
           },
           "label": "GS",
           "values": [
            39,
            42,
            51,
            22,
            51,
            57,
            41,
            23,
            49,
            55,
            48,
            42,
            37,
            46,
            45,
            47,
            43,
            48,
            53,
            54,
            38,
            47,
            41,
            15,
            44,
            40,
            59,
            19,
            53,
            49,
            28,
            53,
            58,
            49,
            42,
            48,
            54,
            51,
            58,
            56,
            46,
            52,
            33,
            24,
            59,
            4,
            51,
            47,
            38,
            53,
            54,
            13,
            55,
            53,
            52,
            20,
            56,
            54,
            26,
            26,
            41,
            0,
            55,
            4,
            57,
            36,
            50,
            17,
            6,
            20,
            36,
            2,
            31,
            0,
            51,
            54,
            0,
            56,
            17,
            35,
            1,
            37,
            10,
            15,
            50,
            8
           ]
          }
         ],
         "hovertemplate": "League=NBA<br>%{xaxis.title.text}=%{x}<br>%{yaxis.title.text}=%{y}<extra></extra>",
         "legendgroup": "NBA",
         "marker": {
          "color": "#636efa",
          "symbol": "circle"
         },
         "name": "NBA",
         "showlegend": true,
         "type": "splom"
        },
        {
         "dimensions": [
          {
           "axis": {
            "matches": true
           },
           "label": "salary_ratio",
           "values": [
            0.00375,
            0.00375,
            0.00375,
            0.00374,
            0.0036899999999999997,
            0.0036899999999999997,
            0.0034799999999999996,
            0.0033799999999999998,
            0.00328,
            0.0032700000000000003,
            0.0032700000000000003,
            0.0032700000000000003,
            0.00322,
            0.00322,
            0.00321,
            0.00318,
            0.00318,
            0.00314,
            0.00313,
            0.00313,
            0.00313,
            0.00305,
            0.00296,
            0.00292,
            0.00288,
            0.00288,
            0.00283,
            0.00275,
            0.00275,
            0.00266,
            0.0025800000000000003,
            0.00257,
            0.00251,
            0.0024,
            0.00237,
            0.00209,
            0.002,
            0.002,
            0.00199,
            0.00199,
            0.00195,
            0.00193,
            0.00193,
            0.0019199999999999998,
            0.00186,
            0.00183,
            0.00175,
            0.0017,
            0.0016899999999999999,
            0.0015199999999999999,
            0.0015,
            0.0014199999999999998,
            0.00128,
            0.00125,
            0.00122,
            0.00119,
            0.00119,
            0.00119,
            0.00119,
            0.00119,
            0.00117,
            0.00117,
            0.00117,
            0.00117,
            0.00117,
            0.00117,
            0.00117,
            0.00117,
            0.00114,
            0.00114,
            0.00114,
            0.00114,
            0.00109,
            0.00109,
            0.00109
           ]
          },
          {
           "axis": {
            "matches": true
           },
           "label": "FG%",
           "values": [
            0.422,
            0.474,
            0.409,
            0.53,
            0.4970000000000001,
            0.494,
            0.5,
            0.491,
            0.448,
            0.425,
            0.464,
            0.481,
            0.569,
            0.442,
            0.51,
            0.5539999999999999,
            0.42,
            0.404,
            0.436,
            0.451,
            0.518,
            0.5579999999999999,
            0.486,
            0.409,
            0.341,
            0.438,
            0.462,
            0.496,
            0.464,
            0.496,
            0.512,
            0.447,
            0.443,
            0.34600000000000003,
            0.408,
            0.408,
            0.605,
            0.465,
            0.293,
            0.443,
            0.539,
            0.489,
            0.609,
            0.386,
            0.487,
            0.488,
            0.464,
            0.429,
            0.462,
            0.435,
            0.267,
            0.429,
            0.505,
            0.404,
            0.35600000000000004,
            0.3720000000000001,
            0.452,
            0.368,
            0.419,
            0.473,
            0.35100000000000003,
            0.421,
            0.491,
            0.6,
            0.35700000000000004,
            0.379,
            null,
            0.424,
            0.364,
            0.433,
            0.366,
            0.682,
            0.404,
            0.358,
            0.321
           ]
          },
          {
           "axis": {
            "matches": true
           },
           "label": "3P%",
           "values": [
            0.252,
            0.397,
            0.365,
            0.35,
            0,
            0.469,
            0,
            0.395,
            0.34600000000000003,
            0.342,
            0.34600000000000003,
            0.405,
            0.5,
            0.305,
            0.396,
            0.469,
            0.385,
            0.333,
            0.235,
            0.368,
            0.471,
            0.522,
            0.375,
            0.333,
            0.333,
            0.411,
            0.16699999999999998,
            0.344,
            0.35200000000000004,
            0,
            0.385,
            0,
            0.381,
            0.233,
            0.298,
            0.305,
            1,
            0.341,
            0.355,
            0.39,
            0.474,
            null,
            null,
            0.333,
            0.327,
            0,
            0.433,
            0.34700000000000003,
            0.472,
            0.422,
            0.462,
            0.431,
            0.472,
            0.333,
            0.25,
            0.235,
            0.35,
            0.197,
            0.5,
            0.375,
            0.24,
            0.333,
            0.545,
            0.667,
            0.333,
            0.294,
            null,
            0.353,
            0.077,
            0.339,
            0.424,
            null,
            0.333,
            0.405,
            0.14
           ]
          },
          {
           "axis": {
            "matches": true
           },
           "label": "GS",
           "values": [
            22,
            22,
            19,
            22,
            12,
            11,
            21,
            22,
            22,
            22,
            6,
            22,
            18,
            22,
            22,
            13,
            3,
            19,
            14,
            20,
            22,
            22,
            8,
            6,
            15,
            22,
            22,
            22,
            14,
            11,
            1,
            11,
            0,
            11,
            5,
            22,
            21,
            19,
            10,
            22,
            0,
            22,
            7,
            0,
            14,
            10,
            22,
            14,
            1,
            4,
            10,
            10,
            15,
            7,
            0,
            22,
            3,
            14,
            1,
            16,
            7,
            1,
            0,
            0,
            4,
            0,
            0,
            21,
            3,
            3,
            0,
            6,
            2,
            5,
            0
           ]
          }
         ],
         "hovertemplate": "League=WNBA<br>%{xaxis.title.text}=%{x}<br>%{yaxis.title.text}=%{y}<extra></extra>",
         "legendgroup": "WNBA",
         "marker": {
          "color": "#EF553B",
          "symbol": "circle"
         },
         "name": "WNBA",
         "showlegend": true,
         "type": "splom"
        }
       ],
       "layout": {
        "dragmode": "select",
        "legend": {
         "title": {
          "text": "League"
         },
         "tracegroupgap": 0
        },
        "margin": {
         "t": 60
        },
        "template": {
         "data": {
          "bar": [
           {
            "error_x": {
             "color": "#2a3f5f"
            },
            "error_y": {
             "color": "#2a3f5f"
            },
            "marker": {
             "line": {
              "color": "#E5ECF6",
              "width": 0.5
             }
            },
            "type": "bar"
           }
          ],
          "barpolar": [
           {
            "marker": {
             "line": {
              "color": "#E5ECF6",
              "width": 0.5
             }
            },
            "type": "barpolar"
           }
          ],
          "carpet": [
           {
            "aaxis": {
             "endlinecolor": "#2a3f5f",
             "gridcolor": "white",
             "linecolor": "white",
             "minorgridcolor": "white",
             "startlinecolor": "#2a3f5f"
            },
            "baxis": {
             "endlinecolor": "#2a3f5f",
             "gridcolor": "white",
             "linecolor": "white",
             "minorgridcolor": "white",
             "startlinecolor": "#2a3f5f"
            },
            "type": "carpet"
           }
          ],
          "choropleth": [
           {
            "colorbar": {
             "outlinewidth": 0,
             "ticks": ""
            },
            "type": "choropleth"
           }
          ],
          "contour": [
           {
            "colorbar": {
             "outlinewidth": 0,
             "ticks": ""
            },
            "colorscale": [
             [
              0,
              "#0d0887"
             ],
             [
              0.1111111111111111,
              "#46039f"
             ],
             [
              0.2222222222222222,
              "#7201a8"
             ],
             [
              0.3333333333333333,
              "#9c179e"
             ],
             [
              0.4444444444444444,
              "#bd3786"
             ],
             [
              0.5555555555555556,
              "#d8576b"
             ],
             [
              0.6666666666666666,
              "#ed7953"
             ],
             [
              0.7777777777777778,
              "#fb9f3a"
             ],
             [
              0.8888888888888888,
              "#fdca26"
             ],
             [
              1,
              "#f0f921"
             ]
            ],
            "type": "contour"
           }
          ],
          "contourcarpet": [
           {
            "colorbar": {
             "outlinewidth": 0,
             "ticks": ""
            },
            "type": "contourcarpet"
           }
          ],
          "heatmap": [
           {
            "colorbar": {
             "outlinewidth": 0,
             "ticks": ""
            },
            "colorscale": [
             [
              0,
              "#0d0887"
             ],
             [
              0.1111111111111111,
              "#46039f"
             ],
             [
              0.2222222222222222,
              "#7201a8"
             ],
             [
              0.3333333333333333,
              "#9c179e"
             ],
             [
              0.4444444444444444,
              "#bd3786"
             ],
             [
              0.5555555555555556,
              "#d8576b"
             ],
             [
              0.6666666666666666,
              "#ed7953"
             ],
             [
              0.7777777777777778,
              "#fb9f3a"
             ],
             [
              0.8888888888888888,
              "#fdca26"
             ],
             [
              1,
              "#f0f921"
             ]
            ],
            "type": "heatmap"
           }
          ],
          "heatmapgl": [
           {
            "colorbar": {
             "outlinewidth": 0,
             "ticks": ""
            },
            "colorscale": [
             [
              0,
              "#0d0887"
             ],
             [
              0.1111111111111111,
              "#46039f"
             ],
             [
              0.2222222222222222,
              "#7201a8"
             ],
             [
              0.3333333333333333,
              "#9c179e"
             ],
             [
              0.4444444444444444,
              "#bd3786"
             ],
             [
              0.5555555555555556,
              "#d8576b"
             ],
             [
              0.6666666666666666,
              "#ed7953"
             ],
             [
              0.7777777777777778,
              "#fb9f3a"
             ],
             [
              0.8888888888888888,
              "#fdca26"
             ],
             [
              1,
              "#f0f921"
             ]
            ],
            "type": "heatmapgl"
           }
          ],
          "histogram": [
           {
            "marker": {
             "colorbar": {
              "outlinewidth": 0,
              "ticks": ""
             }
            },
            "type": "histogram"
           }
          ],
          "histogram2d": [
           {
            "colorbar": {
             "outlinewidth": 0,
             "ticks": ""
            },
            "colorscale": [
             [
              0,
              "#0d0887"
             ],
             [
              0.1111111111111111,
              "#46039f"
             ],
             [
              0.2222222222222222,
              "#7201a8"
             ],
             [
              0.3333333333333333,
              "#9c179e"
             ],
             [
              0.4444444444444444,
              "#bd3786"
             ],
             [
              0.5555555555555556,
              "#d8576b"
             ],
             [
              0.6666666666666666,
              "#ed7953"
             ],
             [
              0.7777777777777778,
              "#fb9f3a"
             ],
             [
              0.8888888888888888,
              "#fdca26"
             ],
             [
              1,
              "#f0f921"
             ]
            ],
            "type": "histogram2d"
           }
          ],
          "histogram2dcontour": [
           {
            "colorbar": {
             "outlinewidth": 0,
             "ticks": ""
            },
            "colorscale": [
             [
              0,
              "#0d0887"
             ],
             [
              0.1111111111111111,
              "#46039f"
             ],
             [
              0.2222222222222222,
              "#7201a8"
             ],
             [
              0.3333333333333333,
              "#9c179e"
             ],
             [
              0.4444444444444444,
              "#bd3786"
             ],
             [
              0.5555555555555556,
              "#d8576b"
             ],
             [
              0.6666666666666666,
              "#ed7953"
             ],
             [
              0.7777777777777778,
              "#fb9f3a"
             ],
             [
              0.8888888888888888,
              "#fdca26"
             ],
             [
              1,
              "#f0f921"
             ]
            ],
            "type": "histogram2dcontour"
           }
          ],
          "mesh3d": [
           {
            "colorbar": {
             "outlinewidth": 0,
             "ticks": ""
            },
            "type": "mesh3d"
           }
          ],
          "parcoords": [
           {
            "line": {
             "colorbar": {
              "outlinewidth": 0,
              "ticks": ""
             }
            },
            "type": "parcoords"
           }
          ],
          "pie": [
           {
            "automargin": true,
            "type": "pie"
           }
          ],
          "scatter": [
           {
            "marker": {
             "colorbar": {
              "outlinewidth": 0,
              "ticks": ""
             }
            },
            "type": "scatter"
           }
          ],
          "scatter3d": [
           {
            "line": {
             "colorbar": {
              "outlinewidth": 0,
              "ticks": ""
             }
            },
            "marker": {
             "colorbar": {
              "outlinewidth": 0,
              "ticks": ""
             }
            },
            "type": "scatter3d"
           }
          ],
          "scattercarpet": [
           {
            "marker": {
             "colorbar": {
              "outlinewidth": 0,
              "ticks": ""
             }
            },
            "type": "scattercarpet"
           }
          ],
          "scattergeo": [
           {
            "marker": {
             "colorbar": {
              "outlinewidth": 0,
              "ticks": ""
             }
            },
            "type": "scattergeo"
           }
          ],
          "scattergl": [
           {
            "marker": {
             "colorbar": {
              "outlinewidth": 0,
              "ticks": ""
             }
            },
            "type": "scattergl"
           }
          ],
          "scattermapbox": [
           {
            "marker": {
             "colorbar": {
              "outlinewidth": 0,
              "ticks": ""
             }
            },
            "type": "scattermapbox"
           }
          ],
          "scatterpolar": [
           {
            "marker": {
             "colorbar": {
              "outlinewidth": 0,
              "ticks": ""
             }
            },
            "type": "scatterpolar"
           }
          ],
          "scatterpolargl": [
           {
            "marker": {
             "colorbar": {
              "outlinewidth": 0,
              "ticks": ""
             }
            },
            "type": "scatterpolargl"
           }
          ],
          "scatterternary": [
           {
            "marker": {
             "colorbar": {
              "outlinewidth": 0,
              "ticks": ""
             }
            },
            "type": "scatterternary"
           }
          ],
          "surface": [
           {
            "colorbar": {
             "outlinewidth": 0,
             "ticks": ""
            },
            "colorscale": [
             [
              0,
              "#0d0887"
             ],
             [
              0.1111111111111111,
              "#46039f"
             ],
             [
              0.2222222222222222,
              "#7201a8"
             ],
             [
              0.3333333333333333,
              "#9c179e"
             ],
             [
              0.4444444444444444,
              "#bd3786"
             ],
             [
              0.5555555555555556,
              "#d8576b"
             ],
             [
              0.6666666666666666,
              "#ed7953"
             ],
             [
              0.7777777777777778,
              "#fb9f3a"
             ],
             [
              0.8888888888888888,
              "#fdca26"
             ],
             [
              1,
              "#f0f921"
             ]
            ],
            "type": "surface"
           }
          ],
          "table": [
           {
            "cells": {
             "fill": {
              "color": "#EBF0F8"
             },
             "line": {
              "color": "white"
             }
            },
            "header": {
             "fill": {
              "color": "#C8D4E3"
             },
             "line": {
              "color": "white"
             }
            },
            "type": "table"
           }
          ]
         },
         "layout": {
          "annotationdefaults": {
           "arrowcolor": "#2a3f5f",
           "arrowhead": 0,
           "arrowwidth": 1
          },
          "autotypenumbers": "strict",
          "coloraxis": {
           "colorbar": {
            "outlinewidth": 0,
            "ticks": ""
           }
          },
          "colorscale": {
           "diverging": [
            [
             0,
             "#8e0152"
            ],
            [
             0.1,
             "#c51b7d"
            ],
            [
             0.2,
             "#de77ae"
            ],
            [
             0.3,
             "#f1b6da"
            ],
            [
             0.4,
             "#fde0ef"
            ],
            [
             0.5,
             "#f7f7f7"
            ],
            [
             0.6,
             "#e6f5d0"
            ],
            [
             0.7,
             "#b8e186"
            ],
            [
             0.8,
             "#7fbc41"
            ],
            [
             0.9,
             "#4d9221"
            ],
            [
             1,
             "#276419"
            ]
           ],
           "sequential": [
            [
             0,
             "#0d0887"
            ],
            [
             0.1111111111111111,
             "#46039f"
            ],
            [
             0.2222222222222222,
             "#7201a8"
            ],
            [
             0.3333333333333333,
             "#9c179e"
            ],
            [
             0.4444444444444444,
             "#bd3786"
            ],
            [
             0.5555555555555556,
             "#d8576b"
            ],
            [
             0.6666666666666666,
             "#ed7953"
            ],
            [
             0.7777777777777778,
             "#fb9f3a"
            ],
            [
             0.8888888888888888,
             "#fdca26"
            ],
            [
             1,
             "#f0f921"
            ]
           ],
           "sequentialminus": [
            [
             0,
             "#0d0887"
            ],
            [
             0.1111111111111111,
             "#46039f"
            ],
            [
             0.2222222222222222,
             "#7201a8"
            ],
            [
             0.3333333333333333,
             "#9c179e"
            ],
            [
             0.4444444444444444,
             "#bd3786"
            ],
            [
             0.5555555555555556,
             "#d8576b"
            ],
            [
             0.6666666666666666,
             "#ed7953"
            ],
            [
             0.7777777777777778,
             "#fb9f3a"
            ],
            [
             0.8888888888888888,
             "#fdca26"
            ],
            [
             1,
             "#f0f921"
            ]
           ]
          },
          "colorway": [
           "#636efa",
           "#EF553B",
           "#00cc96",
           "#ab63fa",
           "#FFA15A",
           "#19d3f3",
           "#FF6692",
           "#B6E880",
           "#FF97FF",
           "#FECB52"
          ],
          "font": {
           "color": "#2a3f5f"
          },
          "geo": {
           "bgcolor": "white",
           "lakecolor": "white",
           "landcolor": "#E5ECF6",
           "showlakes": true,
           "showland": true,
           "subunitcolor": "white"
          },
          "hoverlabel": {
           "align": "left"
          },
          "hovermode": "closest",
          "mapbox": {
           "style": "light"
          },
          "paper_bgcolor": "white",
          "plot_bgcolor": "#E5ECF6",
          "polar": {
           "angularaxis": {
            "gridcolor": "white",
            "linecolor": "white",
            "ticks": ""
           },
           "bgcolor": "#E5ECF6",
           "radialaxis": {
            "gridcolor": "white",
            "linecolor": "white",
            "ticks": ""
           }
          },
          "scene": {
           "xaxis": {
            "backgroundcolor": "#E5ECF6",
            "gridcolor": "white",
            "gridwidth": 2,
            "linecolor": "white",
            "showbackground": true,
            "ticks": "",
            "zerolinecolor": "white"
           },
           "yaxis": {
            "backgroundcolor": "#E5ECF6",
            "gridcolor": "white",
            "gridwidth": 2,
            "linecolor": "white",
            "showbackground": true,
            "ticks": "",
            "zerolinecolor": "white"
           },
           "zaxis": {
            "backgroundcolor": "#E5ECF6",
            "gridcolor": "white",
            "gridwidth": 2,
            "linecolor": "white",
            "showbackground": true,
            "ticks": "",
            "zerolinecolor": "white"
           }
          },
          "shapedefaults": {
           "line": {
            "color": "#2a3f5f"
           }
          },
          "ternary": {
           "aaxis": {
            "gridcolor": "white",
            "linecolor": "white",
            "ticks": ""
           },
           "baxis": {
            "gridcolor": "white",
            "linecolor": "white",
            "ticks": ""
           },
           "bgcolor": "#E5ECF6",
           "caxis": {
            "gridcolor": "white",
            "linecolor": "white",
            "ticks": ""
           }
          },
          "title": {
           "x": 0.05
          },
          "xaxis": {
           "automargin": true,
           "gridcolor": "white",
           "linecolor": "white",
           "ticks": "",
           "title": {
            "standoff": 15
           },
           "zerolinecolor": "white",
           "zerolinewidth": 2
          },
          "yaxis": {
           "automargin": true,
           "gridcolor": "white",
           "linecolor": "white",
           "ticks": "",
           "title": {
            "standoff": 15
           },
           "zerolinecolor": "white",
           "zerolinewidth": 2
          }
         }
        }
       }
      }
     },
     "metadata": {}
    }
   ],
   "source": [
    "import plotly.express as px\n",
    "fig = px.scatter_matrix(df, dimensions=[\"salary_ratio\", \"FG%\", \"3P%\", \"GS\"], color=\"League\")\n",
    "fig.show()\n"
   ]
  },
  {
   "cell_type": "code",
   "execution_count": null,
   "metadata": {},
   "outputs": [],
   "source": []
  }
 ]
}